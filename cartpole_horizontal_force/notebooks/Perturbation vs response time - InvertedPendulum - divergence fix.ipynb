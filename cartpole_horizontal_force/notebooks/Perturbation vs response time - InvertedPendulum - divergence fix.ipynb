{
 "cells": [
  {
   "cell_type": "code",
   "execution_count": 1,
   "metadata": {},
   "outputs": [],
   "source": [
    "import gym\n",
    "import torch\n",
    "import sys\n",
    "import os\n",
    "import random\n",
    "import numpy as np\n",
    "import plotly.graph_objects as go\n",
    "import plotly.figure_factory as ff\n",
    "from plotly.subplots import make_subplots\n",
    "sys.path.append('../')\n",
    "from common import make_env\n",
    "from evals import *\n",
    "sys.path.append('../../')\n",
    "import TD3\n",
    "\n",
    "import pandas as pd\n",
    "\n",
    "if not os.path.exists(\"images\"):\n",
    "    os.mkdir(\"images\")\n",
    "    \n",
    "if not os.path.exists(\"images2\"):\n",
    "    os.mkdir(\"images2\")"
   ]
  },
  {
   "cell_type": "code",
   "execution_count": 2,
   "metadata": {},
   "outputs": [],
   "source": [
    "response_times = [ 0.01, 0.02, 0.04, 0.08, 0.16, 0.32, 0.64]"
   ]
  },
  {
   "cell_type": "code",
   "execution_count": 18,
   "metadata": {},
   "outputs": [],
   "source": [
    "for rt in response_times:\n",
    "    for g_force in range(21):\n",
    "        for seed in range(5):\n",
    "            if not os.path.isfile('../models_not_diverged/TD3_InvertedPendulum-v2_'+str(seed)+'_0.02_'+str(float(g_force))+'_'+str(rt)+'_1.0_False_256_final_actor'):\n",
    "                print (rt, g_force, seed)"
   ]
  },
  {
   "cell_type": "code",
   "execution_count": 19,
   "metadata": {},
   "outputs": [],
   "source": [
    "for rt in response_times:\n",
    "    for g_force in range(5):\n",
    "        for seed in range(5):\n",
    "            if not os.path.isfile('../models_not_diverged/TD3_InvertedPendulum-v2_'+str(seed)+'_0.02_'+str(float(g_force))+'_'+str(rt)+'_1.0_False_256_best_actor'):\n",
    "                print (rt, g_force, seed)"
   ]
  },
  {
   "cell_type": "code",
   "execution_count": 20,
   "metadata": {
    "scrolled": false
   },
   "outputs": [
    {
     "name": "stdout",
     "output_type": "stream",
     "text": [
      "0.01 0\n",
      "0.01 1\n",
      "0.01 2\n",
      "0.01 3\n",
      "0.01 4\n",
      "0.01 5\n",
      "0.01 6\n",
      "0.01 7\n",
      "0.01 8\n",
      "0.01 9\n",
      "0.01 10\n",
      "0.01 11\n",
      "0.01 12\n",
      "0.01 13\n",
      "0.01 14\n",
      "0.01 15\n",
      "0.01 16\n",
      "0.01 17\n",
      "0.01 18\n",
      "0.01 19\n",
      "0.01 20\n",
      "0.02 0\n",
      "0.02 1\n",
      "0.02 2\n",
      "0.02 3\n",
      "0.02 4\n",
      "0.02 5\n",
      "0.02 6\n",
      "0.02 7\n",
      "0.02 8\n",
      "0.02 9\n",
      "0.02 10\n",
      "0.02 11\n",
      "0.02 12\n",
      "0.02 13\n",
      "0.02 14\n",
      "0.02 15\n",
      "0.02 16\n",
      "0.02 17\n",
      "0.02 18\n",
      "0.02 19\n",
      "0.02 20\n",
      "0.04 0\n",
      "0.04 1\n",
      "0.04 2\n",
      "0.04 3\n",
      "0.04 4\n",
      "0.04 5\n",
      "0.04 6\n",
      "0.04 7\n",
      "0.04 8\n",
      "0.04 9\n",
      "0.04 10\n",
      "0.04 11\n",
      "0.04 12\n",
      "0.04 13\n",
      "0.04 14\n",
      "0.04 15\n",
      "0.04 16\n",
      "0.04 17\n",
      "0.04 18\n",
      "0.04 19\n",
      "0.04 20\n",
      "0.08 0\n",
      "0.08 1\n",
      "0.08 2\n",
      "0.08 3\n",
      "0.08 4\n",
      "0.08 5\n",
      "0.08 6\n",
      "0.08 7\n",
      "0.08 8\n",
      "0.08 9\n",
      "0.08 10\n",
      "0.08 11\n",
      "0.08 12\n",
      "0.08 13\n",
      "0.08 14\n",
      "0.08 15\n",
      "0.08 16\n",
      "0.08 17\n",
      "0.08 18\n",
      "0.08 19\n",
      "0.08 20\n",
      "0.16 0\n",
      "0.16 1\n",
      "0.16 2\n",
      "0.16 3\n",
      "0.16 4\n",
      "0.16 5\n",
      "0.16 6\n",
      "0.16 7\n",
      "0.16 8\n",
      "0.16 9\n",
      "0.16 10\n",
      "0.16 11\n",
      "0.16 12\n",
      "0.16 13\n",
      "0.16 14\n",
      "0.16 15\n",
      "0.16 16\n",
      "0.16 17\n",
      "0.16 18\n",
      "0.16 19\n",
      "0.16 20\n",
      "0.32 0\n",
      "0.32 1\n",
      "0.32 2\n",
      "0.32 3\n",
      "0.32 4\n",
      "0.32 5\n",
      "0.32 6\n",
      "0.32 7\n",
      "0.32 8\n",
      "0.32 9\n",
      "0.32 10\n",
      "0.32 11\n",
      "0.32 12\n",
      "0.32 13\n",
      "0.32 14\n",
      "0.32 15\n",
      "0.32 16\n",
      "0.32 17\n",
      "0.32 18\n",
      "0.32 19\n",
      "0.32 20\n",
      "0.64 0\n",
      "0.64 1\n",
      "0.64 2\n",
      "0.64 3\n",
      "0.64 4\n",
      "0.64 5\n",
      "0.64 6\n",
      "0.64 7\n",
      "0.64 8\n",
      "0.64 9\n",
      "0.64 10\n",
      "0.64 11\n",
      "0.64 12\n",
      "0.64 13\n",
      "0.64 14\n",
      "0.64 15\n",
      "0.64 16\n",
      "0.64 17\n",
      "0.64 18\n",
      "0.64 19\n",
      "0.64 20\n"
     ]
    }
   ],
   "source": [
    "df = pd.DataFrame(columns=['seed', 'g_force', 'response_rate', 'reward', 'angle', 'jerk'])\n",
    "# df = torch.load('dataframe')\n",
    "default_timestep = 0.02\n",
    "default_frame_skip = 2\n",
    "jit_duration = 0.02\n",
    "env_name = 'InvertedPendulum-v2'\n",
    "for response_rate in response_times:\n",
    "    for g_force in range(21):\n",
    "        print(response_rate, g_force)\n",
    "        for seed in range(5):\n",
    "            states = []\n",
    "            force = g_force * 9.81\n",
    "            arguments = ['TD3', env_name, seed, jit_duration, float(g_force), response_rate, 1.0, False, 256, 'best']\n",
    "                # Target policy smoothing is scaled wrt the action scale\n",
    "            file_name = '_'.join([str(x) for x in arguments])\n",
    "            if response_rate % default_timestep == 0:\n",
    "                frame_skip = response_rate / default_timestep\n",
    "                timestep = default_timestep\n",
    "            elif jit_duration < response_rate:\n",
    "                timestep = jit_duration\n",
    "                frame_skip = response_rate / timestep\n",
    "            else:\n",
    "                timestep = response_rate\n",
    "                frame_skip = 1\n",
    "            jit_frames = 0  # How many frames the horizontal jitter force lasts each time\n",
    "            if jit_duration:\n",
    "                if jit_duration % timestep == 0:\n",
    "                    jit_frames = int(jit_duration / timestep)\n",
    "                else:\n",
    "                    raise ValueError(\n",
    "                        \"jit_duration should be a multiple of the timestep: \" + str(timestep))\n",
    "                    \n",
    "            time_change_factor = (default_timestep * default_frame_skip) / (timestep * frame_skip)\n",
    "            eval_env = make_env(env_name, seed, time_change_factor, timestep, frame_skip, False)\n",
    "            eval_env._max_episode_steps = 100000\n",
    "            state_dim = eval_env.observation_space.shape[0]\n",
    "            action_dim = eval_env.action_space.shape[0]\n",
    "            max_action = float(eval_env.action_space.high[0])\n",
    "            kwargs = {\n",
    "                \"state_dim\": state_dim,\n",
    "                \"action_dim\": action_dim,\n",
    "                \"observation_space\": eval_env.observation_space,\n",
    "                \"max_action\": max_action,\n",
    "                \"discount\": 0.99,\n",
    "                \"tau\": 0.005,\n",
    "            }\n",
    "            kwargs[\"policy_noise\"] = 2 * max_action\n",
    "            kwargs[\"noise_clip\"] = 0.5 * max_action\n",
    "            kwargs[\"policy_freq\"] = 2\n",
    "            policy = TD3.TD3(**kwargs)\n",
    "            policy_file = file_name \n",
    "            if os.path.exists('../models_not_diverged/'+policy_file+\"_critic\"):\n",
    "                policy.load(f\"../models_not_diverged/{policy_file}\")\n",
    "                avg_reward = 0.\n",
    "                avg_angle = 0.\n",
    "                steps = 0\n",
    "\n",
    "                t = 0\n",
    "                forces = []\n",
    "                force_times = []\n",
    "                for _ in range(10):\n",
    "                    state, done = eval_env.reset(), False\n",
    "                    eval_env.model.opt.gravity[0] = 0\n",
    "                    counter = 0\n",
    "                    disturb = 5\n",
    "                    jittering = False\n",
    "                    force = 0.25\n",
    "                    prev_action = None\n",
    "                    jerk = 0\n",
    "                    while not done:\n",
    "                        action = policy.select_action(np.array(state))\n",
    "                        # Perform action\n",
    "                        if not jittering and round(disturb - counter, 3) >= response_rate:  # Not during the frames when jitter force keeps existing\n",
    "                            next_state, reward, done, _ = eval_env.step(action)\n",
    "                            counter += response_rate\n",
    "                        elif not jittering and round(disturb - counter, 3) < response_rate:\n",
    "                            forces.append(force)\n",
    "                            force_times.append(t)\n",
    "                            jitter_force = force * 9.81 * (2 * (np.random.random() > 0.5) - 1)  # Jitter force strength w/ direction\n",
    "                            next_state, reward, done, _ = eval_env.jitter_step_start(action, jitter_force,\n",
    "                                                                                     (disturb - counter) / timestep,\n",
    "                                                                                     frame_skip - ((disturb - counter) / timestep),\n",
    "                                                                                     jit_frames)\n",
    "                            jittered_frames = frame_skip - ((disturb - counter) / timestep)\n",
    "                            if jittered_frames >= jit_frames:\n",
    "                                jittered_frames = 0\n",
    "                                jittering = False\n",
    "                                eval_env.model.opt.gravity[0] = 0\n",
    "                                counter = 0\n",
    "                                force += 0.25\n",
    "\n",
    "                            else:\n",
    "                                jittering = True\n",
    "                                eval_env.model.opt.gravity[0] = jitter_force\n",
    "                                counter += response_rate\n",
    "                        elif jit_frames - jittered_frames < frame_skip:  # Jitter force will dispear from now!\n",
    "                            next_state, reward, done, _ = eval_env.jitter_step_end(\n",
    "                                action, jitter_force, jit_frames - jittered_frames, frame_skip - (jit_frames - jittered_frames))\n",
    "                            jittering = False  # Stop jittering now\n",
    "                            eval_env.model.opt.gravity[0] = 0\n",
    "                            counter = 0\n",
    "                            force += 0.25\n",
    "                        else:  # Jitter force keeps existing now!\n",
    "                            next_state, reward, done, _ = eval_env.step(action)\n",
    "                            jittered_frames += frame_skip\n",
    "                            counter += response_rate\n",
    "                            if jittered_frames == jit_frames:\n",
    "                                jittering = False\n",
    "                                eval_env.model.opt.gravity[0] = 0\n",
    "                                counter = 0\n",
    "                                force += 0.25\n",
    "\n",
    "                        avg_reward += reward\n",
    "                        avg_angle += abs(next_state[1])\n",
    "                        state = next_state\n",
    "                        counter = round(counter, 3)\n",
    "                        if jit_duration:\n",
    "                            if counter == disturb:\n",
    "                                forces.append(force)\n",
    "                                force_times.append(t)\n",
    "                                jitter_force = force * 9.81 * (2 * (random.random() > 0.5) - 1)\n",
    "                                eval_env.model.opt.gravity[0] = jitter_force\n",
    "                                jittering = True\n",
    "                                jittered_frames = 0\n",
    "\n",
    "                        t += 1\n",
    "                        if prev_action:\n",
    "                            jerk += abs(action[0] - prev_action)\n",
    "                        prev_action = action[0]\n",
    "                        states.append(state)\n",
    "                states = np.array(states)\n",
    "                fig = make_subplots(rows=2, cols=1)\n",
    "                x = [i for i in range(t)]\n",
    "                for index, f in enumerate(force_times):\n",
    "                    fig.add_shape(go.layout.Shape(type=\"line\",\n",
    "                                            x0=f,\n",
    "                                            y0=-100,\n",
    "                                            x1=f,\n",
    "                                            y1=100,\n",
    "                                            ),row=1,col=1)\n",
    "                    fig.add_annotation(x=f,\n",
    "                                       y=0,\n",
    "                                       text=str(forces[index]), \n",
    "                                       showarrow=False,\n",
    "                                       row=1, col=1)\n",
    "                fig.add_trace(go.Scatter(x=x, y=states[:,0], mode='lines', name='pos'), row=1, col=1)\n",
    "                fig.add_trace(go.Scatter(x=x, y=states[:,1], mode='lines', name='angle'), row=2, col=1)\n",
    "    #             fig.add_trace(go.Scatter(x=x, y=states[:,2], mode='lines', name='vel'))\n",
    "    #             fig.add_trace(go.Scatter(x=x, y=states[:,3], mode='lines', name='angular vel'))\n",
    "                fig.update_layout(xaxis_title=\"Frames\")\n",
    "\n",
    "                fig.write_html(\"images2/\"+file_name+'.html')\n",
    "        \n",
    "\n",
    "                avg_reward /= 10\n",
    "                avg_angle /= 10\n",
    "                jerk /= avg_reward\n",
    "                df.loc[len(df.index)] = [seed, g_force, response_rate, avg_reward, avg_angle, jerk]\n",
    "                "
   ]
  },
  {
   "cell_type": "code",
   "execution_count": 21,
   "metadata": {},
   "outputs": [],
   "source": [
    "torch.save(df, 'dataframe_inverted_pendulum_not_diverged')"
   ]
  },
  {
   "cell_type": "code",
   "execution_count": 79,
   "metadata": {},
   "outputs": [],
   "source": [
    "df = torch.load('dataframe_inverted_pendulum_not_diverged')"
   ]
  },
  {
   "cell_type": "code",
   "execution_count": 80,
   "metadata": {},
   "outputs": [],
   "source": [
    "df['reward'] = df['reward'] * df['response_rate']\n",
    "df['jerk'] = df['jerk'] / df['response_rate']\n",
    "rewards = pd.crosstab(df['g_force'], df['response_rate'], values=df['reward'], aggfunc='mean')\n",
    "jerks = pd.crosstab(df['g_force'], df['response_rate'], values=df['jerk'], aggfunc='mean')"
   ]
  },
  {
   "cell_type": "raw",
   "metadata": {
    "scrolled": false
   },
   "source": [
    "fig = go.Figure(data=[go.Surface(z=rewards, y=df['g_force'].unique(), x=df['response_rate'].unique())])\n",
    "\n",
    "fig.update_layout(title='Evaluation of agents with different response times trained in envrionments of varying max. pertubation',\n",
    "                  width=1000, height=1000)\n",
    "fig.update_layout(\n",
    "    scene = dict(\n",
    "        xaxis = dict( type='log', title='Response Time', tickvals=df['response_rate'].unique()),\n",
    "        yaxis = dict( title='Max. Pertubation during training'),\n",
    "        zaxis = dict( title='Avg. Seconds during evaluation')))"
   ]
  },
  {
   "cell_type": "raw",
   "metadata": {},
   "source": [
    "fig = go.Figure(data=[go.Surface(z=rewards, y=df['g_force'].unique(), x=df['response_rate'].unique())])\n",
    "\n",
    "fig.update_layout(title='Evaluation of agents with different response times trained in envrionments of varying max. pertubation',\n",
    "                  width=1000, height=1000, scene_camera_eye=dict(x=1.87, y=0.88, z=-0.64))\n",
    "fig.update_layout(\n",
    "    scene = dict(\n",
    "        xaxis = dict( type='log', title='Response Rate', tickvals=df['response_rate'].unique()),\n",
    "        yaxis = dict( title='Max. Pertubation during training'),\n",
    "        zaxis = dict( title='Avg. Seconds during evaluation')))\n",
    "fig.update_traces(contours_z=dict(show=True, usecolormap=True,\n",
    "                                  highlightcolor=\"black\", project_z=True))"
   ]
  },
  {
   "cell_type": "code",
   "execution_count": 81,
   "metadata": {},
   "outputs": [
    {
     "data": {
      "application/vnd.plotly.v1+json": {
       "config": {
        "plotlyServerURL": "https://plot.ly"
       },
       "data": [
        {
         "type": "heatmap",
         "x": [
          "0.01",
          "0.02",
          "0.04",
          "0.08",
          "0.16",
          "0.32",
          "0.64"
         ],
         "y": [
          "0.0",
          "1.0",
          "2.0",
          "3.0",
          "4.0",
          "5.0",
          "6.0",
          "7.0",
          "8.0",
          "9.0",
          "10.0",
          "11.0",
          "12.0",
          "13.0",
          "14.0",
          "15.0",
          "16.0",
          "17.0",
          "18.0",
          "19.0",
          "20.0"
         ],
         "z": [
          [
           71.1406,
           74.1356,
           88.4384,
           69.8432,
           40.224000000000004,
           0.544,
           0.64
          ],
          [
           73.519,
           96.1904,
           90.91839999999999,
           75.568,
           46.57600000000001,
           0.544,
           0.64
          ],
          [
           100.9576,
           87.1704,
           95.1824,
           78.4992,
           63.391999999999996,
           0.544,
           0.64
          ],
          [
           123.7394,
           108.71,
           98.87920000000001,
           118.8336,
           58.63040000000001,
           0.544,
           0.64
          ],
          [
           120.5666,
           129.63160000000002,
           109.04720000000002,
           112.48159999999999,
           80.8992,
           0.544,
           0.64
          ],
          [
           135.1484,
           133.0512,
           129.60320000000002,
           129.1968,
           65.4464,
           0.544,
           0.64
          ],
          [
           138.7362,
           154.29360000000003,
           146.5768,
           131.8576,
           70.6464,
           0.544,
           0.64
          ],
          [
           118.00460000000001,
           161.59160000000003,
           156.8408,
           113.7536,
           66.30080000000001,
           0.544,
           0.64
          ],
          [
           148.302,
           170.2392,
           161.8912,
           139.54080000000002,
           62.441599999999994,
           0.544,
           0.64
          ],
          [
           140.02200000000002,
           169.208,
           159.768,
           131.54559999999998,
           58.7552,
           0.544,
           0.64
          ],
          [
           129.54180000000002,
           167.2276,
           141.06640000000002,
           116.47040000000001,
           60.144000000000005,
           0.544,
           0.64
          ],
          [
           134.8814,
           145.81640000000002,
           124.272,
           108.94560000000001,
           57.903999999999996,
           0.544,
           0.64
          ],
          [
           135.81019999999998,
           149.8952,
           142.364,
           135.34560000000002,
           59.15840000000001,
           0.544,
           0.64
          ],
          [
           140.8046,
           116.6884,
           132.89600000000002,
           132.3744,
           59.81120000000001,
           0.544,
           0.64
          ],
          [
           126.7424,
           119.71759999999999,
           121.4008,
           101.8112,
           56.69759999999999,
           0.544,
           0.64
          ],
          [
           88.8172,
           136.75920000000002,
           144.3672,
           109.1712,
           43.171200000000006,
           0.544,
           0.64
          ],
          [
           128.06900000000002,
           142.2104,
           151.5456,
           128.9664,
           50.937599999999996,
           0.544,
           0.64
          ],
          [
           103.3928,
           103.75159999999998,
           148.11520000000002,
           91.9392,
           59.67679999999999,
           0.544,
           0.64
          ],
          [
           113.8508,
           126.90120000000002,
           130.33200000000002,
           94.47359999999999,
           49.955200000000005,
           0.544,
           0.64
          ],
          [
           98.5504,
           118.84280000000001,
           122.176,
           141.64960000000002,
           55.07199999999999,
           0.544,
           0.64
          ],
          [
           61.78399999999999,
           96.1088,
           103.60319999999999,
           90.95519999999999,
           50.8416,
           0.544,
           0.64
          ]
         ]
        }
       ],
       "layout": {
        "template": {
         "data": {
          "bar": [
           {
            "error_x": {
             "color": "#2a3f5f"
            },
            "error_y": {
             "color": "#2a3f5f"
            },
            "marker": {
             "line": {
              "color": "#E5ECF6",
              "width": 0.5
             },
             "pattern": {
              "fillmode": "overlay",
              "size": 10,
              "solidity": 0.2
             }
            },
            "type": "bar"
           }
          ],
          "barpolar": [
           {
            "marker": {
             "line": {
              "color": "#E5ECF6",
              "width": 0.5
             },
             "pattern": {
              "fillmode": "overlay",
              "size": 10,
              "solidity": 0.2
             }
            },
            "type": "barpolar"
           }
          ],
          "carpet": [
           {
            "aaxis": {
             "endlinecolor": "#2a3f5f",
             "gridcolor": "white",
             "linecolor": "white",
             "minorgridcolor": "white",
             "startlinecolor": "#2a3f5f"
            },
            "baxis": {
             "endlinecolor": "#2a3f5f",
             "gridcolor": "white",
             "linecolor": "white",
             "minorgridcolor": "white",
             "startlinecolor": "#2a3f5f"
            },
            "type": "carpet"
           }
          ],
          "choropleth": [
           {
            "colorbar": {
             "outlinewidth": 0,
             "ticks": ""
            },
            "type": "choropleth"
           }
          ],
          "contour": [
           {
            "colorbar": {
             "outlinewidth": 0,
             "ticks": ""
            },
            "colorscale": [
             [
              0,
              "#0d0887"
             ],
             [
              0.1111111111111111,
              "#46039f"
             ],
             [
              0.2222222222222222,
              "#7201a8"
             ],
             [
              0.3333333333333333,
              "#9c179e"
             ],
             [
              0.4444444444444444,
              "#bd3786"
             ],
             [
              0.5555555555555556,
              "#d8576b"
             ],
             [
              0.6666666666666666,
              "#ed7953"
             ],
             [
              0.7777777777777778,
              "#fb9f3a"
             ],
             [
              0.8888888888888888,
              "#fdca26"
             ],
             [
              1,
              "#f0f921"
             ]
            ],
            "type": "contour"
           }
          ],
          "contourcarpet": [
           {
            "colorbar": {
             "outlinewidth": 0,
             "ticks": ""
            },
            "type": "contourcarpet"
           }
          ],
          "heatmap": [
           {
            "colorbar": {
             "outlinewidth": 0,
             "ticks": ""
            },
            "colorscale": [
             [
              0,
              "#0d0887"
             ],
             [
              0.1111111111111111,
              "#46039f"
             ],
             [
              0.2222222222222222,
              "#7201a8"
             ],
             [
              0.3333333333333333,
              "#9c179e"
             ],
             [
              0.4444444444444444,
              "#bd3786"
             ],
             [
              0.5555555555555556,
              "#d8576b"
             ],
             [
              0.6666666666666666,
              "#ed7953"
             ],
             [
              0.7777777777777778,
              "#fb9f3a"
             ],
             [
              0.8888888888888888,
              "#fdca26"
             ],
             [
              1,
              "#f0f921"
             ]
            ],
            "type": "heatmap"
           }
          ],
          "heatmapgl": [
           {
            "colorbar": {
             "outlinewidth": 0,
             "ticks": ""
            },
            "colorscale": [
             [
              0,
              "#0d0887"
             ],
             [
              0.1111111111111111,
              "#46039f"
             ],
             [
              0.2222222222222222,
              "#7201a8"
             ],
             [
              0.3333333333333333,
              "#9c179e"
             ],
             [
              0.4444444444444444,
              "#bd3786"
             ],
             [
              0.5555555555555556,
              "#d8576b"
             ],
             [
              0.6666666666666666,
              "#ed7953"
             ],
             [
              0.7777777777777778,
              "#fb9f3a"
             ],
             [
              0.8888888888888888,
              "#fdca26"
             ],
             [
              1,
              "#f0f921"
             ]
            ],
            "type": "heatmapgl"
           }
          ],
          "histogram": [
           {
            "marker": {
             "pattern": {
              "fillmode": "overlay",
              "size": 10,
              "solidity": 0.2
             }
            },
            "type": "histogram"
           }
          ],
          "histogram2d": [
           {
            "colorbar": {
             "outlinewidth": 0,
             "ticks": ""
            },
            "colorscale": [
             [
              0,
              "#0d0887"
             ],
             [
              0.1111111111111111,
              "#46039f"
             ],
             [
              0.2222222222222222,
              "#7201a8"
             ],
             [
              0.3333333333333333,
              "#9c179e"
             ],
             [
              0.4444444444444444,
              "#bd3786"
             ],
             [
              0.5555555555555556,
              "#d8576b"
             ],
             [
              0.6666666666666666,
              "#ed7953"
             ],
             [
              0.7777777777777778,
              "#fb9f3a"
             ],
             [
              0.8888888888888888,
              "#fdca26"
             ],
             [
              1,
              "#f0f921"
             ]
            ],
            "type": "histogram2d"
           }
          ],
          "histogram2dcontour": [
           {
            "colorbar": {
             "outlinewidth": 0,
             "ticks": ""
            },
            "colorscale": [
             [
              0,
              "#0d0887"
             ],
             [
              0.1111111111111111,
              "#46039f"
             ],
             [
              0.2222222222222222,
              "#7201a8"
             ],
             [
              0.3333333333333333,
              "#9c179e"
             ],
             [
              0.4444444444444444,
              "#bd3786"
             ],
             [
              0.5555555555555556,
              "#d8576b"
             ],
             [
              0.6666666666666666,
              "#ed7953"
             ],
             [
              0.7777777777777778,
              "#fb9f3a"
             ],
             [
              0.8888888888888888,
              "#fdca26"
             ],
             [
              1,
              "#f0f921"
             ]
            ],
            "type": "histogram2dcontour"
           }
          ],
          "mesh3d": [
           {
            "colorbar": {
             "outlinewidth": 0,
             "ticks": ""
            },
            "type": "mesh3d"
           }
          ],
          "parcoords": [
           {
            "line": {
             "colorbar": {
              "outlinewidth": 0,
              "ticks": ""
             }
            },
            "type": "parcoords"
           }
          ],
          "pie": [
           {
            "automargin": true,
            "type": "pie"
           }
          ],
          "scatter": [
           {
            "marker": {
             "colorbar": {
              "outlinewidth": 0,
              "ticks": ""
             }
            },
            "type": "scatter"
           }
          ],
          "scatter3d": [
           {
            "line": {
             "colorbar": {
              "outlinewidth": 0,
              "ticks": ""
             }
            },
            "marker": {
             "colorbar": {
              "outlinewidth": 0,
              "ticks": ""
             }
            },
            "type": "scatter3d"
           }
          ],
          "scattercarpet": [
           {
            "marker": {
             "colorbar": {
              "outlinewidth": 0,
              "ticks": ""
             }
            },
            "type": "scattercarpet"
           }
          ],
          "scattergeo": [
           {
            "marker": {
             "colorbar": {
              "outlinewidth": 0,
              "ticks": ""
             }
            },
            "type": "scattergeo"
           }
          ],
          "scattergl": [
           {
            "marker": {
             "colorbar": {
              "outlinewidth": 0,
              "ticks": ""
             }
            },
            "type": "scattergl"
           }
          ],
          "scattermapbox": [
           {
            "marker": {
             "colorbar": {
              "outlinewidth": 0,
              "ticks": ""
             }
            },
            "type": "scattermapbox"
           }
          ],
          "scatterpolar": [
           {
            "marker": {
             "colorbar": {
              "outlinewidth": 0,
              "ticks": ""
             }
            },
            "type": "scatterpolar"
           }
          ],
          "scatterpolargl": [
           {
            "marker": {
             "colorbar": {
              "outlinewidth": 0,
              "ticks": ""
             }
            },
            "type": "scatterpolargl"
           }
          ],
          "scatterternary": [
           {
            "marker": {
             "colorbar": {
              "outlinewidth": 0,
              "ticks": ""
             }
            },
            "type": "scatterternary"
           }
          ],
          "surface": [
           {
            "colorbar": {
             "outlinewidth": 0,
             "ticks": ""
            },
            "colorscale": [
             [
              0,
              "#0d0887"
             ],
             [
              0.1111111111111111,
              "#46039f"
             ],
             [
              0.2222222222222222,
              "#7201a8"
             ],
             [
              0.3333333333333333,
              "#9c179e"
             ],
             [
              0.4444444444444444,
              "#bd3786"
             ],
             [
              0.5555555555555556,
              "#d8576b"
             ],
             [
              0.6666666666666666,
              "#ed7953"
             ],
             [
              0.7777777777777778,
              "#fb9f3a"
             ],
             [
              0.8888888888888888,
              "#fdca26"
             ],
             [
              1,
              "#f0f921"
             ]
            ],
            "type": "surface"
           }
          ],
          "table": [
           {
            "cells": {
             "fill": {
              "color": "#EBF0F8"
             },
             "line": {
              "color": "white"
             }
            },
            "header": {
             "fill": {
              "color": "#C8D4E3"
             },
             "line": {
              "color": "white"
             }
            },
            "type": "table"
           }
          ]
         },
         "layout": {
          "annotationdefaults": {
           "arrowcolor": "#2a3f5f",
           "arrowhead": 0,
           "arrowwidth": 1
          },
          "autotypenumbers": "strict",
          "coloraxis": {
           "colorbar": {
            "outlinewidth": 0,
            "ticks": ""
           }
          },
          "colorscale": {
           "diverging": [
            [
             0,
             "#8e0152"
            ],
            [
             0.1,
             "#c51b7d"
            ],
            [
             0.2,
             "#de77ae"
            ],
            [
             0.3,
             "#f1b6da"
            ],
            [
             0.4,
             "#fde0ef"
            ],
            [
             0.5,
             "#f7f7f7"
            ],
            [
             0.6,
             "#e6f5d0"
            ],
            [
             0.7,
             "#b8e186"
            ],
            [
             0.8,
             "#7fbc41"
            ],
            [
             0.9,
             "#4d9221"
            ],
            [
             1,
             "#276419"
            ]
           ],
           "sequential": [
            [
             0,
             "#0d0887"
            ],
            [
             0.1111111111111111,
             "#46039f"
            ],
            [
             0.2222222222222222,
             "#7201a8"
            ],
            [
             0.3333333333333333,
             "#9c179e"
            ],
            [
             0.4444444444444444,
             "#bd3786"
            ],
            [
             0.5555555555555556,
             "#d8576b"
            ],
            [
             0.6666666666666666,
             "#ed7953"
            ],
            [
             0.7777777777777778,
             "#fb9f3a"
            ],
            [
             0.8888888888888888,
             "#fdca26"
            ],
            [
             1,
             "#f0f921"
            ]
           ],
           "sequentialminus": [
            [
             0,
             "#0d0887"
            ],
            [
             0.1111111111111111,
             "#46039f"
            ],
            [
             0.2222222222222222,
             "#7201a8"
            ],
            [
             0.3333333333333333,
             "#9c179e"
            ],
            [
             0.4444444444444444,
             "#bd3786"
            ],
            [
             0.5555555555555556,
             "#d8576b"
            ],
            [
             0.6666666666666666,
             "#ed7953"
            ],
            [
             0.7777777777777778,
             "#fb9f3a"
            ],
            [
             0.8888888888888888,
             "#fdca26"
            ],
            [
             1,
             "#f0f921"
            ]
           ]
          },
          "colorway": [
           "#636efa",
           "#EF553B",
           "#00cc96",
           "#ab63fa",
           "#FFA15A",
           "#19d3f3",
           "#FF6692",
           "#B6E880",
           "#FF97FF",
           "#FECB52"
          ],
          "font": {
           "color": "#2a3f5f"
          },
          "geo": {
           "bgcolor": "white",
           "lakecolor": "white",
           "landcolor": "#E5ECF6",
           "showlakes": true,
           "showland": true,
           "subunitcolor": "white"
          },
          "hoverlabel": {
           "align": "left"
          },
          "hovermode": "closest",
          "mapbox": {
           "style": "light"
          },
          "paper_bgcolor": "white",
          "plot_bgcolor": "#E5ECF6",
          "polar": {
           "angularaxis": {
            "gridcolor": "white",
            "linecolor": "white",
            "ticks": ""
           },
           "bgcolor": "#E5ECF6",
           "radialaxis": {
            "gridcolor": "white",
            "linecolor": "white",
            "ticks": ""
           }
          },
          "scene": {
           "xaxis": {
            "backgroundcolor": "#E5ECF6",
            "gridcolor": "white",
            "gridwidth": 2,
            "linecolor": "white",
            "showbackground": true,
            "ticks": "",
            "zerolinecolor": "white"
           },
           "yaxis": {
            "backgroundcolor": "#E5ECF6",
            "gridcolor": "white",
            "gridwidth": 2,
            "linecolor": "white",
            "showbackground": true,
            "ticks": "",
            "zerolinecolor": "white"
           },
           "zaxis": {
            "backgroundcolor": "#E5ECF6",
            "gridcolor": "white",
            "gridwidth": 2,
            "linecolor": "white",
            "showbackground": true,
            "ticks": "",
            "zerolinecolor": "white"
           }
          },
          "shapedefaults": {
           "line": {
            "color": "#2a3f5f"
           }
          },
          "ternary": {
           "aaxis": {
            "gridcolor": "white",
            "linecolor": "white",
            "ticks": ""
           },
           "baxis": {
            "gridcolor": "white",
            "linecolor": "white",
            "ticks": ""
           },
           "bgcolor": "#E5ECF6",
           "caxis": {
            "gridcolor": "white",
            "linecolor": "white",
            "ticks": ""
           }
          },
          "title": {
           "x": 0.05
          },
          "xaxis": {
           "automargin": true,
           "gridcolor": "white",
           "linecolor": "white",
           "ticks": "",
           "title": {
            "standoff": 15
           },
           "zerolinecolor": "white",
           "zerolinewidth": 2
          },
          "yaxis": {
           "automargin": true,
           "gridcolor": "white",
           "linecolor": "white",
           "ticks": "",
           "title": {
            "standoff": 15
           },
           "zerolinecolor": "white",
           "zerolinewidth": 2
          }
         }
        },
        "title": {
         "text": "Heatmap for with response times vs max. pertubation during training"
        },
        "xaxis": {
         "title": {
          "text": "Response Rate"
         }
        },
        "yaxis": {
         "title": {
          "text": "Max Pertubation during training"
         }
        }
       }
      },
      "text/html": [
       "<div>                            <div id=\"2076abc9-c9f0-4271-b8a6-041ede3e2f80\" class=\"plotly-graph-div\" style=\"height:525px; width:100%;\"></div>            <script type=\"text/javascript\">                require([\"plotly\"], function(Plotly) {                    window.PLOTLYENV=window.PLOTLYENV || {};                                    if (document.getElementById(\"2076abc9-c9f0-4271-b8a6-041ede3e2f80\")) {                    Plotly.newPlot(                        \"2076abc9-c9f0-4271-b8a6-041ede3e2f80\",                        [{\"type\":\"heatmap\",\"x\":[\"0.01\",\"0.02\",\"0.04\",\"0.08\",\"0.16\",\"0.32\",\"0.64\"],\"y\":[\"0.0\",\"1.0\",\"2.0\",\"3.0\",\"4.0\",\"5.0\",\"6.0\",\"7.0\",\"8.0\",\"9.0\",\"10.0\",\"11.0\",\"12.0\",\"13.0\",\"14.0\",\"15.0\",\"16.0\",\"17.0\",\"18.0\",\"19.0\",\"20.0\"],\"z\":[[71.1406,74.1356,88.4384,69.8432,40.224000000000004,0.544,0.64],[73.519,96.1904,90.91839999999999,75.568,46.57600000000001,0.544,0.64],[100.9576,87.1704,95.1824,78.4992,63.391999999999996,0.544,0.64],[123.7394,108.71,98.87920000000001,118.8336,58.63040000000001,0.544,0.64],[120.5666,129.63160000000002,109.04720000000002,112.48159999999999,80.8992,0.544,0.64],[135.1484,133.0512,129.60320000000002,129.1968,65.4464,0.544,0.64],[138.7362,154.29360000000003,146.5768,131.8576,70.6464,0.544,0.64],[118.00460000000001,161.59160000000003,156.8408,113.7536,66.30080000000001,0.544,0.64],[148.302,170.2392,161.8912,139.54080000000002,62.441599999999994,0.544,0.64],[140.02200000000002,169.208,159.768,131.54559999999998,58.7552,0.544,0.64],[129.54180000000002,167.2276,141.06640000000002,116.47040000000001,60.144000000000005,0.544,0.64],[134.8814,145.81640000000002,124.272,108.94560000000001,57.903999999999996,0.544,0.64],[135.81019999999998,149.8952,142.364,135.34560000000002,59.15840000000001,0.544,0.64],[140.8046,116.6884,132.89600000000002,132.3744,59.81120000000001,0.544,0.64],[126.7424,119.71759999999999,121.4008,101.8112,56.69759999999999,0.544,0.64],[88.8172,136.75920000000002,144.3672,109.1712,43.171200000000006,0.544,0.64],[128.06900000000002,142.2104,151.5456,128.9664,50.937599999999996,0.544,0.64],[103.3928,103.75159999999998,148.11520000000002,91.9392,59.67679999999999,0.544,0.64],[113.8508,126.90120000000002,130.33200000000002,94.47359999999999,49.955200000000005,0.544,0.64],[98.5504,118.84280000000001,122.176,141.64960000000002,55.07199999999999,0.544,0.64],[61.78399999999999,96.1088,103.60319999999999,90.95519999999999,50.8416,0.544,0.64]]}],                        {\"template\":{\"data\":{\"bar\":[{\"error_x\":{\"color\":\"#2a3f5f\"},\"error_y\":{\"color\":\"#2a3f5f\"},\"marker\":{\"line\":{\"color\":\"#E5ECF6\",\"width\":0.5},\"pattern\":{\"fillmode\":\"overlay\",\"size\":10,\"solidity\":0.2}},\"type\":\"bar\"}],\"barpolar\":[{\"marker\":{\"line\":{\"color\":\"#E5ECF6\",\"width\":0.5},\"pattern\":{\"fillmode\":\"overlay\",\"size\":10,\"solidity\":0.2}},\"type\":\"barpolar\"}],\"carpet\":[{\"aaxis\":{\"endlinecolor\":\"#2a3f5f\",\"gridcolor\":\"white\",\"linecolor\":\"white\",\"minorgridcolor\":\"white\",\"startlinecolor\":\"#2a3f5f\"},\"baxis\":{\"endlinecolor\":\"#2a3f5f\",\"gridcolor\":\"white\",\"linecolor\":\"white\",\"minorgridcolor\":\"white\",\"startlinecolor\":\"#2a3f5f\"},\"type\":\"carpet\"}],\"choropleth\":[{\"colorbar\":{\"outlinewidth\":0,\"ticks\":\"\"},\"type\":\"choropleth\"}],\"contour\":[{\"colorbar\":{\"outlinewidth\":0,\"ticks\":\"\"},\"colorscale\":[[0.0,\"#0d0887\"],[0.1111111111111111,\"#46039f\"],[0.2222222222222222,\"#7201a8\"],[0.3333333333333333,\"#9c179e\"],[0.4444444444444444,\"#bd3786\"],[0.5555555555555556,\"#d8576b\"],[0.6666666666666666,\"#ed7953\"],[0.7777777777777778,\"#fb9f3a\"],[0.8888888888888888,\"#fdca26\"],[1.0,\"#f0f921\"]],\"type\":\"contour\"}],\"contourcarpet\":[{\"colorbar\":{\"outlinewidth\":0,\"ticks\":\"\"},\"type\":\"contourcarpet\"}],\"heatmap\":[{\"colorbar\":{\"outlinewidth\":0,\"ticks\":\"\"},\"colorscale\":[[0.0,\"#0d0887\"],[0.1111111111111111,\"#46039f\"],[0.2222222222222222,\"#7201a8\"],[0.3333333333333333,\"#9c179e\"],[0.4444444444444444,\"#bd3786\"],[0.5555555555555556,\"#d8576b\"],[0.6666666666666666,\"#ed7953\"],[0.7777777777777778,\"#fb9f3a\"],[0.8888888888888888,\"#fdca26\"],[1.0,\"#f0f921\"]],\"type\":\"heatmap\"}],\"heatmapgl\":[{\"colorbar\":{\"outlinewidth\":0,\"ticks\":\"\"},\"colorscale\":[[0.0,\"#0d0887\"],[0.1111111111111111,\"#46039f\"],[0.2222222222222222,\"#7201a8\"],[0.3333333333333333,\"#9c179e\"],[0.4444444444444444,\"#bd3786\"],[0.5555555555555556,\"#d8576b\"],[0.6666666666666666,\"#ed7953\"],[0.7777777777777778,\"#fb9f3a\"],[0.8888888888888888,\"#fdca26\"],[1.0,\"#f0f921\"]],\"type\":\"heatmapgl\"}],\"histogram\":[{\"marker\":{\"pattern\":{\"fillmode\":\"overlay\",\"size\":10,\"solidity\":0.2}},\"type\":\"histogram\"}],\"histogram2d\":[{\"colorbar\":{\"outlinewidth\":0,\"ticks\":\"\"},\"colorscale\":[[0.0,\"#0d0887\"],[0.1111111111111111,\"#46039f\"],[0.2222222222222222,\"#7201a8\"],[0.3333333333333333,\"#9c179e\"],[0.4444444444444444,\"#bd3786\"],[0.5555555555555556,\"#d8576b\"],[0.6666666666666666,\"#ed7953\"],[0.7777777777777778,\"#fb9f3a\"],[0.8888888888888888,\"#fdca26\"],[1.0,\"#f0f921\"]],\"type\":\"histogram2d\"}],\"histogram2dcontour\":[{\"colorbar\":{\"outlinewidth\":0,\"ticks\":\"\"},\"colorscale\":[[0.0,\"#0d0887\"],[0.1111111111111111,\"#46039f\"],[0.2222222222222222,\"#7201a8\"],[0.3333333333333333,\"#9c179e\"],[0.4444444444444444,\"#bd3786\"],[0.5555555555555556,\"#d8576b\"],[0.6666666666666666,\"#ed7953\"],[0.7777777777777778,\"#fb9f3a\"],[0.8888888888888888,\"#fdca26\"],[1.0,\"#f0f921\"]],\"type\":\"histogram2dcontour\"}],\"mesh3d\":[{\"colorbar\":{\"outlinewidth\":0,\"ticks\":\"\"},\"type\":\"mesh3d\"}],\"parcoords\":[{\"line\":{\"colorbar\":{\"outlinewidth\":0,\"ticks\":\"\"}},\"type\":\"parcoords\"}],\"pie\":[{\"automargin\":true,\"type\":\"pie\"}],\"scatter\":[{\"marker\":{\"colorbar\":{\"outlinewidth\":0,\"ticks\":\"\"}},\"type\":\"scatter\"}],\"scatter3d\":[{\"line\":{\"colorbar\":{\"outlinewidth\":0,\"ticks\":\"\"}},\"marker\":{\"colorbar\":{\"outlinewidth\":0,\"ticks\":\"\"}},\"type\":\"scatter3d\"}],\"scattercarpet\":[{\"marker\":{\"colorbar\":{\"outlinewidth\":0,\"ticks\":\"\"}},\"type\":\"scattercarpet\"}],\"scattergeo\":[{\"marker\":{\"colorbar\":{\"outlinewidth\":0,\"ticks\":\"\"}},\"type\":\"scattergeo\"}],\"scattergl\":[{\"marker\":{\"colorbar\":{\"outlinewidth\":0,\"ticks\":\"\"}},\"type\":\"scattergl\"}],\"scattermapbox\":[{\"marker\":{\"colorbar\":{\"outlinewidth\":0,\"ticks\":\"\"}},\"type\":\"scattermapbox\"}],\"scatterpolar\":[{\"marker\":{\"colorbar\":{\"outlinewidth\":0,\"ticks\":\"\"}},\"type\":\"scatterpolar\"}],\"scatterpolargl\":[{\"marker\":{\"colorbar\":{\"outlinewidth\":0,\"ticks\":\"\"}},\"type\":\"scatterpolargl\"}],\"scatterternary\":[{\"marker\":{\"colorbar\":{\"outlinewidth\":0,\"ticks\":\"\"}},\"type\":\"scatterternary\"}],\"surface\":[{\"colorbar\":{\"outlinewidth\":0,\"ticks\":\"\"},\"colorscale\":[[0.0,\"#0d0887\"],[0.1111111111111111,\"#46039f\"],[0.2222222222222222,\"#7201a8\"],[0.3333333333333333,\"#9c179e\"],[0.4444444444444444,\"#bd3786\"],[0.5555555555555556,\"#d8576b\"],[0.6666666666666666,\"#ed7953\"],[0.7777777777777778,\"#fb9f3a\"],[0.8888888888888888,\"#fdca26\"],[1.0,\"#f0f921\"]],\"type\":\"surface\"}],\"table\":[{\"cells\":{\"fill\":{\"color\":\"#EBF0F8\"},\"line\":{\"color\":\"white\"}},\"header\":{\"fill\":{\"color\":\"#C8D4E3\"},\"line\":{\"color\":\"white\"}},\"type\":\"table\"}]},\"layout\":{\"annotationdefaults\":{\"arrowcolor\":\"#2a3f5f\",\"arrowhead\":0,\"arrowwidth\":1},\"autotypenumbers\":\"strict\",\"coloraxis\":{\"colorbar\":{\"outlinewidth\":0,\"ticks\":\"\"}},\"colorscale\":{\"diverging\":[[0,\"#8e0152\"],[0.1,\"#c51b7d\"],[0.2,\"#de77ae\"],[0.3,\"#f1b6da\"],[0.4,\"#fde0ef\"],[0.5,\"#f7f7f7\"],[0.6,\"#e6f5d0\"],[0.7,\"#b8e186\"],[0.8,\"#7fbc41\"],[0.9,\"#4d9221\"],[1,\"#276419\"]],\"sequential\":[[0.0,\"#0d0887\"],[0.1111111111111111,\"#46039f\"],[0.2222222222222222,\"#7201a8\"],[0.3333333333333333,\"#9c179e\"],[0.4444444444444444,\"#bd3786\"],[0.5555555555555556,\"#d8576b\"],[0.6666666666666666,\"#ed7953\"],[0.7777777777777778,\"#fb9f3a\"],[0.8888888888888888,\"#fdca26\"],[1.0,\"#f0f921\"]],\"sequentialminus\":[[0.0,\"#0d0887\"],[0.1111111111111111,\"#46039f\"],[0.2222222222222222,\"#7201a8\"],[0.3333333333333333,\"#9c179e\"],[0.4444444444444444,\"#bd3786\"],[0.5555555555555556,\"#d8576b\"],[0.6666666666666666,\"#ed7953\"],[0.7777777777777778,\"#fb9f3a\"],[0.8888888888888888,\"#fdca26\"],[1.0,\"#f0f921\"]]},\"colorway\":[\"#636efa\",\"#EF553B\",\"#00cc96\",\"#ab63fa\",\"#FFA15A\",\"#19d3f3\",\"#FF6692\",\"#B6E880\",\"#FF97FF\",\"#FECB52\"],\"font\":{\"color\":\"#2a3f5f\"},\"geo\":{\"bgcolor\":\"white\",\"lakecolor\":\"white\",\"landcolor\":\"#E5ECF6\",\"showlakes\":true,\"showland\":true,\"subunitcolor\":\"white\"},\"hoverlabel\":{\"align\":\"left\"},\"hovermode\":\"closest\",\"mapbox\":{\"style\":\"light\"},\"paper_bgcolor\":\"white\",\"plot_bgcolor\":\"#E5ECF6\",\"polar\":{\"angularaxis\":{\"gridcolor\":\"white\",\"linecolor\":\"white\",\"ticks\":\"\"},\"bgcolor\":\"#E5ECF6\",\"radialaxis\":{\"gridcolor\":\"white\",\"linecolor\":\"white\",\"ticks\":\"\"}},\"scene\":{\"xaxis\":{\"backgroundcolor\":\"#E5ECF6\",\"gridcolor\":\"white\",\"gridwidth\":2,\"linecolor\":\"white\",\"showbackground\":true,\"ticks\":\"\",\"zerolinecolor\":\"white\"},\"yaxis\":{\"backgroundcolor\":\"#E5ECF6\",\"gridcolor\":\"white\",\"gridwidth\":2,\"linecolor\":\"white\",\"showbackground\":true,\"ticks\":\"\",\"zerolinecolor\":\"white\"},\"zaxis\":{\"backgroundcolor\":\"#E5ECF6\",\"gridcolor\":\"white\",\"gridwidth\":2,\"linecolor\":\"white\",\"showbackground\":true,\"ticks\":\"\",\"zerolinecolor\":\"white\"}},\"shapedefaults\":{\"line\":{\"color\":\"#2a3f5f\"}},\"ternary\":{\"aaxis\":{\"gridcolor\":\"white\",\"linecolor\":\"white\",\"ticks\":\"\"},\"baxis\":{\"gridcolor\":\"white\",\"linecolor\":\"white\",\"ticks\":\"\"},\"bgcolor\":\"#E5ECF6\",\"caxis\":{\"gridcolor\":\"white\",\"linecolor\":\"white\",\"ticks\":\"\"}},\"title\":{\"x\":0.05},\"xaxis\":{\"automargin\":true,\"gridcolor\":\"white\",\"linecolor\":\"white\",\"ticks\":\"\",\"title\":{\"standoff\":15},\"zerolinecolor\":\"white\",\"zerolinewidth\":2},\"yaxis\":{\"automargin\":true,\"gridcolor\":\"white\",\"linecolor\":\"white\",\"ticks\":\"\",\"title\":{\"standoff\":15},\"zerolinecolor\":\"white\",\"zerolinewidth\":2}}},\"title\":{\"text\":\"Heatmap for with response times vs max. pertubation during training\"},\"xaxis\":{\"title\":{\"text\":\"Response Rate\"}},\"yaxis\":{\"title\":{\"text\":\"Max Pertubation during training\"}}},                        {\"responsive\": true}                    ).then(function(){\n",
       "                            \n",
       "var gd = document.getElementById('2076abc9-c9f0-4271-b8a6-041ede3e2f80');\n",
       "var x = new MutationObserver(function (mutations, observer) {{\n",
       "        var display = window.getComputedStyle(gd).display;\n",
       "        if (!display || display === 'none') {{\n",
       "            console.log([gd, 'removed!']);\n",
       "            Plotly.purge(gd);\n",
       "            observer.disconnect();\n",
       "        }}\n",
       "}});\n",
       "\n",
       "// Listen for the removal of the full notebook cells\n",
       "var notebookContainer = gd.closest('#notebook-container');\n",
       "if (notebookContainer) {{\n",
       "    x.observe(notebookContainer, {childList: true});\n",
       "}}\n",
       "\n",
       "// Listen for the clearing of the current output cell\n",
       "var outputEl = gd.closest('.output');\n",
       "if (outputEl) {{\n",
       "    x.observe(outputEl, {childList: true});\n",
       "}}\n",
       "\n",
       "                        })                };                });            </script>        </div>"
      ]
     },
     "metadata": {},
     "output_type": "display_data"
    }
   ],
   "source": [
    "fig = go.Figure(data=go.Heatmap(\n",
    "                    z=rewards, x=df['response_rate'].unique().astype('U'),\n",
    "                   y=df['g_force'].unique().astype('U')))\n",
    "\n",
    "fig.update_layout(\n",
    "    title='Heatmap for with response times vs max. pertubation during training',\n",
    "    xaxis_title=\"Response Rate\",\n",
    "    yaxis_title=\"Max Pertubation during training\",\n",
    ")"
   ]
  },
  {
   "cell_type": "code",
   "execution_count": 101,
   "metadata": {},
   "outputs": [
    {
     "data": {
      "application/vnd.plotly.v1+json": {
       "config": {
        "plotlyServerURL": "https://plot.ly"
       },
       "data": [
        {
         "colorscale": [
          [
           0,
           "rgb(247,251,255)"
          ],
          [
           0.125,
           "rgb(222,235,247)"
          ],
          [
           0.25,
           "rgb(198,219,239)"
          ],
          [
           0.375,
           "rgb(158,202,225)"
          ],
          [
           0.5,
           "rgb(107,174,214)"
          ],
          [
           0.625,
           "rgb(66,146,198)"
          ],
          [
           0.75,
           "rgb(33,113,181)"
          ],
          [
           0.875,
           "rgb(8,81,156)"
          ],
          [
           1,
           "rgb(8,48,107)"
          ]
         ],
         "reversescale": false,
         "showscale": true,
         "type": "heatmap",
         "x": [
          "0.01s",
          "0.02s",
          "0.04s",
          "0.08s",
          "0.16s",
          "0.32s",
          "0.64s"
         ],
         "y": [
          "0g",
          "1g",
          "2g",
          "3g",
          "4g",
          "5g",
          "6g",
          "7g",
          "8g",
          "9g",
          "10g",
          "11g",
          "12g",
          "13g",
          "14g",
          "15g",
          "16g",
          "17g",
          "18g",
          "19g",
          "20g"
         ],
         "z": [
          [
           71.1406,
           74.1356,
           88.4384,
           69.8432,
           40.224000000000004,
           0.544,
           0.64
          ],
          [
           73.519,
           96.1904,
           90.91839999999999,
           75.568,
           46.57600000000001,
           0.544,
           0.64
          ],
          [
           100.9576,
           87.1704,
           95.1824,
           78.4992,
           63.391999999999996,
           0.544,
           0.64
          ],
          [
           123.7394,
           108.71,
           98.87920000000001,
           118.8336,
           58.63040000000001,
           0.544,
           0.64
          ],
          [
           120.5666,
           129.63160000000002,
           109.04720000000002,
           112.48159999999999,
           80.8992,
           0.544,
           0.64
          ],
          [
           135.1484,
           133.0512,
           129.60320000000002,
           129.1968,
           65.4464,
           0.544,
           0.64
          ],
          [
           138.7362,
           154.29360000000003,
           146.5768,
           131.8576,
           70.6464,
           0.544,
           0.64
          ],
          [
           118.00460000000001,
           161.59160000000003,
           156.8408,
           113.7536,
           66.30080000000001,
           0.544,
           0.64
          ],
          [
           148.302,
           170.2392,
           161.8912,
           139.54080000000002,
           62.441599999999994,
           0.544,
           0.64
          ],
          [
           140.02200000000002,
           169.208,
           159.768,
           131.54559999999998,
           58.7552,
           0.544,
           0.64
          ],
          [
           129.54180000000002,
           167.2276,
           141.06640000000002,
           116.47040000000001,
           60.144000000000005,
           0.544,
           0.64
          ],
          [
           134.8814,
           145.81640000000002,
           124.272,
           108.94560000000001,
           57.903999999999996,
           0.544,
           0.64
          ],
          [
           135.81019999999998,
           149.8952,
           142.364,
           135.34560000000002,
           59.15840000000001,
           0.544,
           0.64
          ],
          [
           140.8046,
           116.6884,
           132.89600000000002,
           132.3744,
           59.81120000000001,
           0.544,
           0.64
          ],
          [
           126.7424,
           119.71759999999999,
           121.4008,
           101.8112,
           56.69759999999999,
           0.544,
           0.64
          ],
          [
           88.8172,
           136.75920000000002,
           144.3672,
           109.1712,
           43.171200000000006,
           0.544,
           0.64
          ],
          [
           128.06900000000002,
           142.2104,
           151.5456,
           128.9664,
           50.937599999999996,
           0.544,
           0.64
          ],
          [
           103.3928,
           103.75159999999998,
           148.11520000000002,
           91.9392,
           59.67679999999999,
           0.544,
           0.64
          ],
          [
           113.8508,
           126.90120000000002,
           130.33200000000002,
           94.47359999999999,
           49.955200000000005,
           0.544,
           0.64
          ],
          [
           98.5504,
           118.84280000000001,
           122.176,
           141.64960000000002,
           55.07199999999999,
           0.544,
           0.64
          ],
          [
           61.78399999999999,
           96.1088,
           103.60319999999999,
           90.95519999999999,
           50.8416,
           0.544,
           0.64
          ]
         ]
        }
       ],
       "layout": {
        "annotations": [
         {
          "font": {
           "color": "#000000"
          },
          "showarrow": false,
          "text": "71.14s / 3.56g",
          "x": "0.01s",
          "xref": "x",
          "y": "0g",
          "yref": "y"
         },
         {
          "font": {
           "color": "#000000"
          },
          "showarrow": false,
          "text": "74.14s / 3.71g",
          "x": "0.02s",
          "xref": "x",
          "y": "0g",
          "yref": "y"
         },
         {
          "font": {
           "color": "#FFFFFF"
          },
          "showarrow": false,
          "text": "88.44s / 4.42g",
          "x": "0.04s",
          "xref": "x",
          "y": "0g",
          "yref": "y"
         },
         {
          "font": {
           "color": "#000000"
          },
          "showarrow": false,
          "text": "69.84s / 3.49g",
          "x": "0.08s",
          "xref": "x",
          "y": "0g",
          "yref": "y"
         },
         {
          "font": {
           "color": "#000000"
          },
          "showarrow": false,
          "text": "40.22s / 2.01g",
          "x": "0.16s",
          "xref": "x",
          "y": "0g",
          "yref": "y"
         },
         {
          "font": {
           "color": "#000000"
          },
          "showarrow": false,
          "text": "0.54s / 0.03g",
          "x": "0.32s",
          "xref": "x",
          "y": "0g",
          "yref": "y"
         },
         {
          "font": {
           "color": "#000000"
          },
          "showarrow": false,
          "text": "0.64s / 0.03g",
          "x": "0.64s",
          "xref": "x",
          "y": "0g",
          "yref": "y"
         },
         {
          "font": {
           "color": "#000000"
          },
          "showarrow": false,
          "text": "73.52s / 3.68g",
          "x": "0.01s",
          "xref": "x",
          "y": "1g",
          "yref": "y"
         },
         {
          "font": {
           "color": "#FFFFFF"
          },
          "showarrow": false,
          "text": "96.19s / 4.81g",
          "x": "0.02s",
          "xref": "x",
          "y": "1g",
          "yref": "y"
         },
         {
          "font": {
           "color": "#FFFFFF"
          },
          "showarrow": false,
          "text": "90.92s / 4.55g",
          "x": "0.04s",
          "xref": "x",
          "y": "1g",
          "yref": "y"
         },
         {
          "font": {
           "color": "#000000"
          },
          "showarrow": false,
          "text": "75.57s / 3.78g",
          "x": "0.08s",
          "xref": "x",
          "y": "1g",
          "yref": "y"
         },
         {
          "font": {
           "color": "#000000"
          },
          "showarrow": false,
          "text": "46.58s / 2.33g",
          "x": "0.16s",
          "xref": "x",
          "y": "1g",
          "yref": "y"
         },
         {
          "font": {
           "color": "#000000"
          },
          "showarrow": false,
          "text": "0.54s / 0.03g",
          "x": "0.32s",
          "xref": "x",
          "y": "1g",
          "yref": "y"
         },
         {
          "font": {
           "color": "#000000"
          },
          "showarrow": false,
          "text": "0.64s / 0.03g",
          "x": "0.64s",
          "xref": "x",
          "y": "1g",
          "yref": "y"
         },
         {
          "font": {
           "color": "#FFFFFF"
          },
          "showarrow": false,
          "text": "100.96s / 5.05g",
          "x": "0.01s",
          "xref": "x",
          "y": "2g",
          "yref": "y"
         },
         {
          "font": {
           "color": "#FFFFFF"
          },
          "showarrow": false,
          "text": "87.17s / 4.36g",
          "x": "0.02s",
          "xref": "x",
          "y": "2g",
          "yref": "y"
         },
         {
          "font": {
           "color": "#FFFFFF"
          },
          "showarrow": false,
          "text": "95.18s / 4.76g",
          "x": "0.04s",
          "xref": "x",
          "y": "2g",
          "yref": "y"
         },
         {
          "font": {
           "color": "#000000"
          },
          "showarrow": false,
          "text": "78.5s / 3.92g",
          "x": "0.08s",
          "xref": "x",
          "y": "2g",
          "yref": "y"
         },
         {
          "font": {
           "color": "#000000"
          },
          "showarrow": false,
          "text": "63.39s / 3.17g",
          "x": "0.16s",
          "xref": "x",
          "y": "2g",
          "yref": "y"
         },
         {
          "font": {
           "color": "#000000"
          },
          "showarrow": false,
          "text": "0.54s / 0.03g",
          "x": "0.32s",
          "xref": "x",
          "y": "2g",
          "yref": "y"
         },
         {
          "font": {
           "color": "#000000"
          },
          "showarrow": false,
          "text": "0.64s / 0.03g",
          "x": "0.64s",
          "xref": "x",
          "y": "2g",
          "yref": "y"
         },
         {
          "font": {
           "color": "#FFFFFF"
          },
          "showarrow": false,
          "text": "123.74s / 6.19g",
          "x": "0.01s",
          "xref": "x",
          "y": "3g",
          "yref": "y"
         },
         {
          "font": {
           "color": "#FFFFFF"
          },
          "showarrow": false,
          "text": "108.71s / 5.44g",
          "x": "0.02s",
          "xref": "x",
          "y": "3g",
          "yref": "y"
         },
         {
          "font": {
           "color": "#FFFFFF"
          },
          "showarrow": false,
          "text": "98.88s / 4.94g",
          "x": "0.04s",
          "xref": "x",
          "y": "3g",
          "yref": "y"
         },
         {
          "font": {
           "color": "#FFFFFF"
          },
          "showarrow": false,
          "text": "118.83s / 5.94g",
          "x": "0.08s",
          "xref": "x",
          "y": "3g",
          "yref": "y"
         },
         {
          "font": {
           "color": "#000000"
          },
          "showarrow": false,
          "text": "58.63s / 2.93g",
          "x": "0.16s",
          "xref": "x",
          "y": "3g",
          "yref": "y"
         },
         {
          "font": {
           "color": "#000000"
          },
          "showarrow": false,
          "text": "0.54s / 0.03g",
          "x": "0.32s",
          "xref": "x",
          "y": "3g",
          "yref": "y"
         },
         {
          "font": {
           "color": "#000000"
          },
          "showarrow": false,
          "text": "0.64s / 0.03g",
          "x": "0.64s",
          "xref": "x",
          "y": "3g",
          "yref": "y"
         },
         {
          "font": {
           "color": "#FFFFFF"
          },
          "showarrow": false,
          "text": "120.57s / 6.03g",
          "x": "0.01s",
          "xref": "x",
          "y": "4g",
          "yref": "y"
         },
         {
          "font": {
           "color": "#FFFFFF"
          },
          "showarrow": false,
          "text": "129.63s / 6.48g",
          "x": "0.02s",
          "xref": "x",
          "y": "4g",
          "yref": "y"
         },
         {
          "font": {
           "color": "#FFFFFF"
          },
          "showarrow": false,
          "text": "109.05s / 5.45g",
          "x": "0.04s",
          "xref": "x",
          "y": "4g",
          "yref": "y"
         },
         {
          "font": {
           "color": "#FFFFFF"
          },
          "showarrow": false,
          "text": "112.48s / 5.62g",
          "x": "0.08s",
          "xref": "x",
          "y": "4g",
          "yref": "y"
         },
         {
          "font": {
           "color": "#000000"
          },
          "showarrow": false,
          "text": "80.9s / 4.04g",
          "x": "0.16s",
          "xref": "x",
          "y": "4g",
          "yref": "y"
         },
         {
          "font": {
           "color": "#000000"
          },
          "showarrow": false,
          "text": "0.54s / 0.03g",
          "x": "0.32s",
          "xref": "x",
          "y": "4g",
          "yref": "y"
         },
         {
          "font": {
           "color": "#000000"
          },
          "showarrow": false,
          "text": "0.64s / 0.03g",
          "x": "0.64s",
          "xref": "x",
          "y": "4g",
          "yref": "y"
         },
         {
          "font": {
           "color": "#FFFFFF"
          },
          "showarrow": false,
          "text": "135.15s / 6.76g",
          "x": "0.01s",
          "xref": "x",
          "y": "5g",
          "yref": "y"
         },
         {
          "font": {
           "color": "#FFFFFF"
          },
          "showarrow": false,
          "text": "133.05s / 6.65g",
          "x": "0.02s",
          "xref": "x",
          "y": "5g",
          "yref": "y"
         },
         {
          "font": {
           "color": "#FFFFFF"
          },
          "showarrow": false,
          "text": "129.6s / 6.48g",
          "x": "0.04s",
          "xref": "x",
          "y": "5g",
          "yref": "y"
         },
         {
          "font": {
           "color": "#FFFFFF"
          },
          "showarrow": false,
          "text": "129.2s / 6.46g",
          "x": "0.08s",
          "xref": "x",
          "y": "5g",
          "yref": "y"
         },
         {
          "font": {
           "color": "#000000"
          },
          "showarrow": false,
          "text": "65.45s / 3.27g",
          "x": "0.16s",
          "xref": "x",
          "y": "5g",
          "yref": "y"
         },
         {
          "font": {
           "color": "#000000"
          },
          "showarrow": false,
          "text": "0.54s / 0.03g",
          "x": "0.32s",
          "xref": "x",
          "y": "5g",
          "yref": "y"
         },
         {
          "font": {
           "color": "#000000"
          },
          "showarrow": false,
          "text": "0.64s / 0.03g",
          "x": "0.64s",
          "xref": "x",
          "y": "5g",
          "yref": "y"
         },
         {
          "font": {
           "color": "#FFFFFF"
          },
          "showarrow": false,
          "text": "138.74s / 6.94g",
          "x": "0.01s",
          "xref": "x",
          "y": "6g",
          "yref": "y"
         },
         {
          "font": {
           "color": "#FFFFFF"
          },
          "showarrow": false,
          "text": "154.29s / 7.71g",
          "x": "0.02s",
          "xref": "x",
          "y": "6g",
          "yref": "y"
         },
         {
          "font": {
           "color": "#FFFFFF"
          },
          "showarrow": false,
          "text": "146.58s / 7.33g",
          "x": "0.04s",
          "xref": "x",
          "y": "6g",
          "yref": "y"
         },
         {
          "font": {
           "color": "#FFFFFF"
          },
          "showarrow": false,
          "text": "131.86s / 6.59g",
          "x": "0.08s",
          "xref": "x",
          "y": "6g",
          "yref": "y"
         },
         {
          "font": {
           "color": "#000000"
          },
          "showarrow": false,
          "text": "70.65s / 3.53g",
          "x": "0.16s",
          "xref": "x",
          "y": "6g",
          "yref": "y"
         },
         {
          "font": {
           "color": "#000000"
          },
          "showarrow": false,
          "text": "0.54s / 0.03g",
          "x": "0.32s",
          "xref": "x",
          "y": "6g",
          "yref": "y"
         },
         {
          "font": {
           "color": "#000000"
          },
          "showarrow": false,
          "text": "0.64s / 0.03g",
          "x": "0.64s",
          "xref": "x",
          "y": "6g",
          "yref": "y"
         },
         {
          "font": {
           "color": "#FFFFFF"
          },
          "showarrow": false,
          "text": "118.0s / 5.9g",
          "x": "0.01s",
          "xref": "x",
          "y": "7g",
          "yref": "y"
         },
         {
          "font": {
           "color": "#FFFFFF"
          },
          "showarrow": false,
          "text": "161.59s / 8.08g",
          "x": "0.02s",
          "xref": "x",
          "y": "7g",
          "yref": "y"
         },
         {
          "font": {
           "color": "#FFFFFF"
          },
          "showarrow": false,
          "text": "156.84s / 7.84g",
          "x": "0.04s",
          "xref": "x",
          "y": "7g",
          "yref": "y"
         },
         {
          "font": {
           "color": "#FFFFFF"
          },
          "showarrow": false,
          "text": "113.75s / 5.69g",
          "x": "0.08s",
          "xref": "x",
          "y": "7g",
          "yref": "y"
         },
         {
          "font": {
           "color": "#000000"
          },
          "showarrow": false,
          "text": "66.3s / 3.32g",
          "x": "0.16s",
          "xref": "x",
          "y": "7g",
          "yref": "y"
         },
         {
          "font": {
           "color": "#000000"
          },
          "showarrow": false,
          "text": "0.54s / 0.03g",
          "x": "0.32s",
          "xref": "x",
          "y": "7g",
          "yref": "y"
         },
         {
          "font": {
           "color": "#000000"
          },
          "showarrow": false,
          "text": "0.64s / 0.03g",
          "x": "0.64s",
          "xref": "x",
          "y": "7g",
          "yref": "y"
         },
         {
          "font": {
           "color": "#FFFFFF"
          },
          "showarrow": false,
          "text": "148.3s / 7.42g",
          "x": "0.01s",
          "xref": "x",
          "y": "8g",
          "yref": "y"
         },
         {
          "font": {
           "color": "#FFFFFF"
          },
          "showarrow": false,
          "text": "170.24s / 8.51g",
          "x": "0.02s",
          "xref": "x",
          "y": "8g",
          "yref": "y"
         },
         {
          "font": {
           "color": "#FFFFFF"
          },
          "showarrow": false,
          "text": "161.89s / 8.09g",
          "x": "0.04s",
          "xref": "x",
          "y": "8g",
          "yref": "y"
         },
         {
          "font": {
           "color": "#FFFFFF"
          },
          "showarrow": false,
          "text": "139.54s / 6.98g",
          "x": "0.08s",
          "xref": "x",
          "y": "8g",
          "yref": "y"
         },
         {
          "font": {
           "color": "#000000"
          },
          "showarrow": false,
          "text": "62.44s / 3.12g",
          "x": "0.16s",
          "xref": "x",
          "y": "8g",
          "yref": "y"
         },
         {
          "font": {
           "color": "#000000"
          },
          "showarrow": false,
          "text": "0.54s / 0.03g",
          "x": "0.32s",
          "xref": "x",
          "y": "8g",
          "yref": "y"
         },
         {
          "font": {
           "color": "#000000"
          },
          "showarrow": false,
          "text": "0.64s / 0.03g",
          "x": "0.64s",
          "xref": "x",
          "y": "8g",
          "yref": "y"
         },
         {
          "font": {
           "color": "#FFFFFF"
          },
          "showarrow": false,
          "text": "140.02s / 7.0g",
          "x": "0.01s",
          "xref": "x",
          "y": "9g",
          "yref": "y"
         },
         {
          "font": {
           "color": "#FFFFFF"
          },
          "showarrow": false,
          "text": "169.21s / 8.46g",
          "x": "0.02s",
          "xref": "x",
          "y": "9g",
          "yref": "y"
         },
         {
          "font": {
           "color": "#FFFFFF"
          },
          "showarrow": false,
          "text": "159.77s / 7.99g",
          "x": "0.04s",
          "xref": "x",
          "y": "9g",
          "yref": "y"
         },
         {
          "font": {
           "color": "#FFFFFF"
          },
          "showarrow": false,
          "text": "131.55s / 6.58g",
          "x": "0.08s",
          "xref": "x",
          "y": "9g",
          "yref": "y"
         },
         {
          "font": {
           "color": "#000000"
          },
          "showarrow": false,
          "text": "58.76s / 2.94g",
          "x": "0.16s",
          "xref": "x",
          "y": "9g",
          "yref": "y"
         },
         {
          "font": {
           "color": "#000000"
          },
          "showarrow": false,
          "text": "0.54s / 0.03g",
          "x": "0.32s",
          "xref": "x",
          "y": "9g",
          "yref": "y"
         },
         {
          "font": {
           "color": "#000000"
          },
          "showarrow": false,
          "text": "0.64s / 0.03g",
          "x": "0.64s",
          "xref": "x",
          "y": "9g",
          "yref": "y"
         },
         {
          "font": {
           "color": "#FFFFFF"
          },
          "showarrow": false,
          "text": "129.54s / 6.48g",
          "x": "0.01s",
          "xref": "x",
          "y": "10g",
          "yref": "y"
         },
         {
          "font": {
           "color": "#FFFFFF"
          },
          "showarrow": false,
          "text": "167.23s / 8.36g",
          "x": "0.02s",
          "xref": "x",
          "y": "10g",
          "yref": "y"
         },
         {
          "font": {
           "color": "#FFFFFF"
          },
          "showarrow": false,
          "text": "141.07s / 7.05g",
          "x": "0.04s",
          "xref": "x",
          "y": "10g",
          "yref": "y"
         },
         {
          "font": {
           "color": "#FFFFFF"
          },
          "showarrow": false,
          "text": "116.47s / 5.82g",
          "x": "0.08s",
          "xref": "x",
          "y": "10g",
          "yref": "y"
         },
         {
          "font": {
           "color": "#000000"
          },
          "showarrow": false,
          "text": "60.14s / 3.01g",
          "x": "0.16s",
          "xref": "x",
          "y": "10g",
          "yref": "y"
         },
         {
          "font": {
           "color": "#000000"
          },
          "showarrow": false,
          "text": "0.54s / 0.03g",
          "x": "0.32s",
          "xref": "x",
          "y": "10g",
          "yref": "y"
         },
         {
          "font": {
           "color": "#000000"
          },
          "showarrow": false,
          "text": "0.64s / 0.03g",
          "x": "0.64s",
          "xref": "x",
          "y": "10g",
          "yref": "y"
         },
         {
          "font": {
           "color": "#FFFFFF"
          },
          "showarrow": false,
          "text": "134.88s / 6.74g",
          "x": "0.01s",
          "xref": "x",
          "y": "11g",
          "yref": "y"
         },
         {
          "font": {
           "color": "#FFFFFF"
          },
          "showarrow": false,
          "text": "145.82s / 7.29g",
          "x": "0.02s",
          "xref": "x",
          "y": "11g",
          "yref": "y"
         },
         {
          "font": {
           "color": "#FFFFFF"
          },
          "showarrow": false,
          "text": "124.27s / 6.21g",
          "x": "0.04s",
          "xref": "x",
          "y": "11g",
          "yref": "y"
         },
         {
          "font": {
           "color": "#FFFFFF"
          },
          "showarrow": false,
          "text": "108.95s / 5.45g",
          "x": "0.08s",
          "xref": "x",
          "y": "11g",
          "yref": "y"
         },
         {
          "font": {
           "color": "#000000"
          },
          "showarrow": false,
          "text": "57.9s / 2.9g",
          "x": "0.16s",
          "xref": "x",
          "y": "11g",
          "yref": "y"
         },
         {
          "font": {
           "color": "#000000"
          },
          "showarrow": false,
          "text": "0.54s / 0.03g",
          "x": "0.32s",
          "xref": "x",
          "y": "11g",
          "yref": "y"
         },
         {
          "font": {
           "color": "#000000"
          },
          "showarrow": false,
          "text": "0.64s / 0.03g",
          "x": "0.64s",
          "xref": "x",
          "y": "11g",
          "yref": "y"
         },
         {
          "font": {
           "color": "#FFFFFF"
          },
          "showarrow": false,
          "text": "135.81s / 6.79g",
          "x": "0.01s",
          "xref": "x",
          "y": "12g",
          "yref": "y"
         },
         {
          "font": {
           "color": "#FFFFFF"
          },
          "showarrow": false,
          "text": "149.9s / 7.5g",
          "x": "0.02s",
          "xref": "x",
          "y": "12g",
          "yref": "y"
         },
         {
          "font": {
           "color": "#FFFFFF"
          },
          "showarrow": false,
          "text": "142.36s / 7.12g",
          "x": "0.04s",
          "xref": "x",
          "y": "12g",
          "yref": "y"
         },
         {
          "font": {
           "color": "#FFFFFF"
          },
          "showarrow": false,
          "text": "135.35s / 6.77g",
          "x": "0.08s",
          "xref": "x",
          "y": "12g",
          "yref": "y"
         },
         {
          "font": {
           "color": "#000000"
          },
          "showarrow": false,
          "text": "59.16s / 2.96g",
          "x": "0.16s",
          "xref": "x",
          "y": "12g",
          "yref": "y"
         },
         {
          "font": {
           "color": "#000000"
          },
          "showarrow": false,
          "text": "0.54s / 0.03g",
          "x": "0.32s",
          "xref": "x",
          "y": "12g",
          "yref": "y"
         },
         {
          "font": {
           "color": "#000000"
          },
          "showarrow": false,
          "text": "0.64s / 0.03g",
          "x": "0.64s",
          "xref": "x",
          "y": "12g",
          "yref": "y"
         },
         {
          "font": {
           "color": "#FFFFFF"
          },
          "showarrow": false,
          "text": "140.8s / 7.04g",
          "x": "0.01s",
          "xref": "x",
          "y": "13g",
          "yref": "y"
         },
         {
          "font": {
           "color": "#FFFFFF"
          },
          "showarrow": false,
          "text": "116.69s / 5.83g",
          "x": "0.02s",
          "xref": "x",
          "y": "13g",
          "yref": "y"
         },
         {
          "font": {
           "color": "#FFFFFF"
          },
          "showarrow": false,
          "text": "132.9s / 6.64g",
          "x": "0.04s",
          "xref": "x",
          "y": "13g",
          "yref": "y"
         },
         {
          "font": {
           "color": "#FFFFFF"
          },
          "showarrow": false,
          "text": "132.37s / 6.62g",
          "x": "0.08s",
          "xref": "x",
          "y": "13g",
          "yref": "y"
         },
         {
          "font": {
           "color": "#000000"
          },
          "showarrow": false,
          "text": "59.81s / 2.99g",
          "x": "0.16s",
          "xref": "x",
          "y": "13g",
          "yref": "y"
         },
         {
          "font": {
           "color": "#000000"
          },
          "showarrow": false,
          "text": "0.54s / 0.03g",
          "x": "0.32s",
          "xref": "x",
          "y": "13g",
          "yref": "y"
         },
         {
          "font": {
           "color": "#000000"
          },
          "showarrow": false,
          "text": "0.64s / 0.03g",
          "x": "0.64s",
          "xref": "x",
          "y": "13g",
          "yref": "y"
         },
         {
          "font": {
           "color": "#FFFFFF"
          },
          "showarrow": false,
          "text": "126.74s / 6.34g",
          "x": "0.01s",
          "xref": "x",
          "y": "14g",
          "yref": "y"
         },
         {
          "font": {
           "color": "#FFFFFF"
          },
          "showarrow": false,
          "text": "119.72s / 5.99g",
          "x": "0.02s",
          "xref": "x",
          "y": "14g",
          "yref": "y"
         },
         {
          "font": {
           "color": "#FFFFFF"
          },
          "showarrow": false,
          "text": "121.4s / 6.07g",
          "x": "0.04s",
          "xref": "x",
          "y": "14g",
          "yref": "y"
         },
         {
          "font": {
           "color": "#FFFFFF"
          },
          "showarrow": false,
          "text": "101.81s / 5.09g",
          "x": "0.08s",
          "xref": "x",
          "y": "14g",
          "yref": "y"
         },
         {
          "font": {
           "color": "#000000"
          },
          "showarrow": false,
          "text": "56.7s / 2.84g",
          "x": "0.16s",
          "xref": "x",
          "y": "14g",
          "yref": "y"
         },
         {
          "font": {
           "color": "#000000"
          },
          "showarrow": false,
          "text": "0.54s / 0.03g",
          "x": "0.32s",
          "xref": "x",
          "y": "14g",
          "yref": "y"
         },
         {
          "font": {
           "color": "#000000"
          },
          "showarrow": false,
          "text": "0.64s / 0.03g",
          "x": "0.64s",
          "xref": "x",
          "y": "14g",
          "yref": "y"
         },
         {
          "font": {
           "color": "#FFFFFF"
          },
          "showarrow": false,
          "text": "88.82s / 4.44g",
          "x": "0.01s",
          "xref": "x",
          "y": "15g",
          "yref": "y"
         },
         {
          "font": {
           "color": "#FFFFFF"
          },
          "showarrow": false,
          "text": "136.76s / 6.84g",
          "x": "0.02s",
          "xref": "x",
          "y": "15g",
          "yref": "y"
         },
         {
          "font": {
           "color": "#FFFFFF"
          },
          "showarrow": false,
          "text": "144.37s / 7.22g",
          "x": "0.04s",
          "xref": "x",
          "y": "15g",
          "yref": "y"
         },
         {
          "font": {
           "color": "#FFFFFF"
          },
          "showarrow": false,
          "text": "109.17s / 5.46g",
          "x": "0.08s",
          "xref": "x",
          "y": "15g",
          "yref": "y"
         },
         {
          "font": {
           "color": "#000000"
          },
          "showarrow": false,
          "text": "43.17s / 2.16g",
          "x": "0.16s",
          "xref": "x",
          "y": "15g",
          "yref": "y"
         },
         {
          "font": {
           "color": "#000000"
          },
          "showarrow": false,
          "text": "0.54s / 0.03g",
          "x": "0.32s",
          "xref": "x",
          "y": "15g",
          "yref": "y"
         },
         {
          "font": {
           "color": "#000000"
          },
          "showarrow": false,
          "text": "0.64s / 0.03g",
          "x": "0.64s",
          "xref": "x",
          "y": "15g",
          "yref": "y"
         },
         {
          "font": {
           "color": "#FFFFFF"
          },
          "showarrow": false,
          "text": "128.07s / 6.4g",
          "x": "0.01s",
          "xref": "x",
          "y": "16g",
          "yref": "y"
         },
         {
          "font": {
           "color": "#FFFFFF"
          },
          "showarrow": false,
          "text": "142.21s / 7.11g",
          "x": "0.02s",
          "xref": "x",
          "y": "16g",
          "yref": "y"
         },
         {
          "font": {
           "color": "#FFFFFF"
          },
          "showarrow": false,
          "text": "151.55s / 7.58g",
          "x": "0.04s",
          "xref": "x",
          "y": "16g",
          "yref": "y"
         },
         {
          "font": {
           "color": "#FFFFFF"
          },
          "showarrow": false,
          "text": "128.97s / 6.45g",
          "x": "0.08s",
          "xref": "x",
          "y": "16g",
          "yref": "y"
         },
         {
          "font": {
           "color": "#000000"
          },
          "showarrow": false,
          "text": "50.94s / 2.55g",
          "x": "0.16s",
          "xref": "x",
          "y": "16g",
          "yref": "y"
         },
         {
          "font": {
           "color": "#000000"
          },
          "showarrow": false,
          "text": "0.54s / 0.03g",
          "x": "0.32s",
          "xref": "x",
          "y": "16g",
          "yref": "y"
         },
         {
          "font": {
           "color": "#000000"
          },
          "showarrow": false,
          "text": "0.64s / 0.03g",
          "x": "0.64s",
          "xref": "x",
          "y": "16g",
          "yref": "y"
         },
         {
          "font": {
           "color": "#FFFFFF"
          },
          "showarrow": false,
          "text": "103.39s / 5.17g",
          "x": "0.01s",
          "xref": "x",
          "y": "17g",
          "yref": "y"
         },
         {
          "font": {
           "color": "#FFFFFF"
          },
          "showarrow": false,
          "text": "103.75s / 5.19g",
          "x": "0.02s",
          "xref": "x",
          "y": "17g",
          "yref": "y"
         },
         {
          "font": {
           "color": "#FFFFFF"
          },
          "showarrow": false,
          "text": "148.12s / 7.41g",
          "x": "0.04s",
          "xref": "x",
          "y": "17g",
          "yref": "y"
         },
         {
          "font": {
           "color": "#FFFFFF"
          },
          "showarrow": false,
          "text": "91.94s / 4.6g",
          "x": "0.08s",
          "xref": "x",
          "y": "17g",
          "yref": "y"
         },
         {
          "font": {
           "color": "#000000"
          },
          "showarrow": false,
          "text": "59.68s / 2.98g",
          "x": "0.16s",
          "xref": "x",
          "y": "17g",
          "yref": "y"
         },
         {
          "font": {
           "color": "#000000"
          },
          "showarrow": false,
          "text": "0.54s / 0.03g",
          "x": "0.32s",
          "xref": "x",
          "y": "17g",
          "yref": "y"
         },
         {
          "font": {
           "color": "#000000"
          },
          "showarrow": false,
          "text": "0.64s / 0.03g",
          "x": "0.64s",
          "xref": "x",
          "y": "17g",
          "yref": "y"
         },
         {
          "font": {
           "color": "#FFFFFF"
          },
          "showarrow": false,
          "text": "113.85s / 5.69g",
          "x": "0.01s",
          "xref": "x",
          "y": "18g",
          "yref": "y"
         },
         {
          "font": {
           "color": "#FFFFFF"
          },
          "showarrow": false,
          "text": "126.9s / 6.35g",
          "x": "0.02s",
          "xref": "x",
          "y": "18g",
          "yref": "y"
         },
         {
          "font": {
           "color": "#FFFFFF"
          },
          "showarrow": false,
          "text": "130.33s / 6.52g",
          "x": "0.04s",
          "xref": "x",
          "y": "18g",
          "yref": "y"
         },
         {
          "font": {
           "color": "#FFFFFF"
          },
          "showarrow": false,
          "text": "94.47s / 4.72g",
          "x": "0.08s",
          "xref": "x",
          "y": "18g",
          "yref": "y"
         },
         {
          "font": {
           "color": "#000000"
          },
          "showarrow": false,
          "text": "49.96s / 2.5g",
          "x": "0.16s",
          "xref": "x",
          "y": "18g",
          "yref": "y"
         },
         {
          "font": {
           "color": "#000000"
          },
          "showarrow": false,
          "text": "0.54s / 0.03g",
          "x": "0.32s",
          "xref": "x",
          "y": "18g",
          "yref": "y"
         },
         {
          "font": {
           "color": "#000000"
          },
          "showarrow": false,
          "text": "0.64s / 0.03g",
          "x": "0.64s",
          "xref": "x",
          "y": "18g",
          "yref": "y"
         },
         {
          "font": {
           "color": "#FFFFFF"
          },
          "showarrow": false,
          "text": "98.55s / 4.93g",
          "x": "0.01s",
          "xref": "x",
          "y": "19g",
          "yref": "y"
         },
         {
          "font": {
           "color": "#FFFFFF"
          },
          "showarrow": false,
          "text": "118.84s / 5.94g",
          "x": "0.02s",
          "xref": "x",
          "y": "19g",
          "yref": "y"
         },
         {
          "font": {
           "color": "#FFFFFF"
          },
          "showarrow": false,
          "text": "122.18s / 6.11g",
          "x": "0.04s",
          "xref": "x",
          "y": "19g",
          "yref": "y"
         },
         {
          "font": {
           "color": "#FFFFFF"
          },
          "showarrow": false,
          "text": "141.65s / 7.08g",
          "x": "0.08s",
          "xref": "x",
          "y": "19g",
          "yref": "y"
         },
         {
          "font": {
           "color": "#000000"
          },
          "showarrow": false,
          "text": "55.07s / 2.75g",
          "x": "0.16s",
          "xref": "x",
          "y": "19g",
          "yref": "y"
         },
         {
          "font": {
           "color": "#000000"
          },
          "showarrow": false,
          "text": "0.54s / 0.03g",
          "x": "0.32s",
          "xref": "x",
          "y": "19g",
          "yref": "y"
         },
         {
          "font": {
           "color": "#000000"
          },
          "showarrow": false,
          "text": "0.64s / 0.03g",
          "x": "0.64s",
          "xref": "x",
          "y": "19g",
          "yref": "y"
         },
         {
          "font": {
           "color": "#000000"
          },
          "showarrow": false,
          "text": "61.78s / 3.09g",
          "x": "0.01s",
          "xref": "x",
          "y": "20g",
          "yref": "y"
         },
         {
          "font": {
           "color": "#FFFFFF"
          },
          "showarrow": false,
          "text": "96.11s / 4.81g",
          "x": "0.02s",
          "xref": "x",
          "y": "20g",
          "yref": "y"
         },
         {
          "font": {
           "color": "#FFFFFF"
          },
          "showarrow": false,
          "text": "103.6s / 5.18g",
          "x": "0.04s",
          "xref": "x",
          "y": "20g",
          "yref": "y"
         },
         {
          "font": {
           "color": "#FFFFFF"
          },
          "showarrow": false,
          "text": "90.96s / 4.55g",
          "x": "0.08s",
          "xref": "x",
          "y": "20g",
          "yref": "y"
         },
         {
          "font": {
           "color": "#000000"
          },
          "showarrow": false,
          "text": "50.84s / 2.54g",
          "x": "0.16s",
          "xref": "x",
          "y": "20g",
          "yref": "y"
         },
         {
          "font": {
           "color": "#000000"
          },
          "showarrow": false,
          "text": "0.54s / 0.03g",
          "x": "0.32s",
          "xref": "x",
          "y": "20g",
          "yref": "y"
         },
         {
          "font": {
           "color": "#000000"
          },
          "showarrow": false,
          "text": "0.64s / 0.03g",
          "x": "0.64s",
          "xref": "x",
          "y": "20g",
          "yref": "y"
         }
        ],
        "font": {
         "size": 15
        },
        "height": 700,
        "template": {
         "data": {
          "bar": [
           {
            "error_x": {
             "color": "#2a3f5f"
            },
            "error_y": {
             "color": "#2a3f5f"
            },
            "marker": {
             "line": {
              "color": "#E5ECF6",
              "width": 0.5
             },
             "pattern": {
              "fillmode": "overlay",
              "size": 10,
              "solidity": 0.2
             }
            },
            "type": "bar"
           }
          ],
          "barpolar": [
           {
            "marker": {
             "line": {
              "color": "#E5ECF6",
              "width": 0.5
             },
             "pattern": {
              "fillmode": "overlay",
              "size": 10,
              "solidity": 0.2
             }
            },
            "type": "barpolar"
           }
          ],
          "carpet": [
           {
            "aaxis": {
             "endlinecolor": "#2a3f5f",
             "gridcolor": "white",
             "linecolor": "white",
             "minorgridcolor": "white",
             "startlinecolor": "#2a3f5f"
            },
            "baxis": {
             "endlinecolor": "#2a3f5f",
             "gridcolor": "white",
             "linecolor": "white",
             "minorgridcolor": "white",
             "startlinecolor": "#2a3f5f"
            },
            "type": "carpet"
           }
          ],
          "choropleth": [
           {
            "colorbar": {
             "outlinewidth": 0,
             "ticks": ""
            },
            "type": "choropleth"
           }
          ],
          "contour": [
           {
            "colorbar": {
             "outlinewidth": 0,
             "ticks": ""
            },
            "colorscale": [
             [
              0,
              "#0d0887"
             ],
             [
              0.1111111111111111,
              "#46039f"
             ],
             [
              0.2222222222222222,
              "#7201a8"
             ],
             [
              0.3333333333333333,
              "#9c179e"
             ],
             [
              0.4444444444444444,
              "#bd3786"
             ],
             [
              0.5555555555555556,
              "#d8576b"
             ],
             [
              0.6666666666666666,
              "#ed7953"
             ],
             [
              0.7777777777777778,
              "#fb9f3a"
             ],
             [
              0.8888888888888888,
              "#fdca26"
             ],
             [
              1,
              "#f0f921"
             ]
            ],
            "type": "contour"
           }
          ],
          "contourcarpet": [
           {
            "colorbar": {
             "outlinewidth": 0,
             "ticks": ""
            },
            "type": "contourcarpet"
           }
          ],
          "heatmap": [
           {
            "colorbar": {
             "outlinewidth": 0,
             "ticks": ""
            },
            "colorscale": [
             [
              0,
              "#0d0887"
             ],
             [
              0.1111111111111111,
              "#46039f"
             ],
             [
              0.2222222222222222,
              "#7201a8"
             ],
             [
              0.3333333333333333,
              "#9c179e"
             ],
             [
              0.4444444444444444,
              "#bd3786"
             ],
             [
              0.5555555555555556,
              "#d8576b"
             ],
             [
              0.6666666666666666,
              "#ed7953"
             ],
             [
              0.7777777777777778,
              "#fb9f3a"
             ],
             [
              0.8888888888888888,
              "#fdca26"
             ],
             [
              1,
              "#f0f921"
             ]
            ],
            "type": "heatmap"
           }
          ],
          "heatmapgl": [
           {
            "colorbar": {
             "outlinewidth": 0,
             "ticks": ""
            },
            "colorscale": [
             [
              0,
              "#0d0887"
             ],
             [
              0.1111111111111111,
              "#46039f"
             ],
             [
              0.2222222222222222,
              "#7201a8"
             ],
             [
              0.3333333333333333,
              "#9c179e"
             ],
             [
              0.4444444444444444,
              "#bd3786"
             ],
             [
              0.5555555555555556,
              "#d8576b"
             ],
             [
              0.6666666666666666,
              "#ed7953"
             ],
             [
              0.7777777777777778,
              "#fb9f3a"
             ],
             [
              0.8888888888888888,
              "#fdca26"
             ],
             [
              1,
              "#f0f921"
             ]
            ],
            "type": "heatmapgl"
           }
          ],
          "histogram": [
           {
            "marker": {
             "pattern": {
              "fillmode": "overlay",
              "size": 10,
              "solidity": 0.2
             }
            },
            "type": "histogram"
           }
          ],
          "histogram2d": [
           {
            "colorbar": {
             "outlinewidth": 0,
             "ticks": ""
            },
            "colorscale": [
             [
              0,
              "#0d0887"
             ],
             [
              0.1111111111111111,
              "#46039f"
             ],
             [
              0.2222222222222222,
              "#7201a8"
             ],
             [
              0.3333333333333333,
              "#9c179e"
             ],
             [
              0.4444444444444444,
              "#bd3786"
             ],
             [
              0.5555555555555556,
              "#d8576b"
             ],
             [
              0.6666666666666666,
              "#ed7953"
             ],
             [
              0.7777777777777778,
              "#fb9f3a"
             ],
             [
              0.8888888888888888,
              "#fdca26"
             ],
             [
              1,
              "#f0f921"
             ]
            ],
            "type": "histogram2d"
           }
          ],
          "histogram2dcontour": [
           {
            "colorbar": {
             "outlinewidth": 0,
             "ticks": ""
            },
            "colorscale": [
             [
              0,
              "#0d0887"
             ],
             [
              0.1111111111111111,
              "#46039f"
             ],
             [
              0.2222222222222222,
              "#7201a8"
             ],
             [
              0.3333333333333333,
              "#9c179e"
             ],
             [
              0.4444444444444444,
              "#bd3786"
             ],
             [
              0.5555555555555556,
              "#d8576b"
             ],
             [
              0.6666666666666666,
              "#ed7953"
             ],
             [
              0.7777777777777778,
              "#fb9f3a"
             ],
             [
              0.8888888888888888,
              "#fdca26"
             ],
             [
              1,
              "#f0f921"
             ]
            ],
            "type": "histogram2dcontour"
           }
          ],
          "mesh3d": [
           {
            "colorbar": {
             "outlinewidth": 0,
             "ticks": ""
            },
            "type": "mesh3d"
           }
          ],
          "parcoords": [
           {
            "line": {
             "colorbar": {
              "outlinewidth": 0,
              "ticks": ""
             }
            },
            "type": "parcoords"
           }
          ],
          "pie": [
           {
            "automargin": true,
            "type": "pie"
           }
          ],
          "scatter": [
           {
            "marker": {
             "colorbar": {
              "outlinewidth": 0,
              "ticks": ""
             }
            },
            "type": "scatter"
           }
          ],
          "scatter3d": [
           {
            "line": {
             "colorbar": {
              "outlinewidth": 0,
              "ticks": ""
             }
            },
            "marker": {
             "colorbar": {
              "outlinewidth": 0,
              "ticks": ""
             }
            },
            "type": "scatter3d"
           }
          ],
          "scattercarpet": [
           {
            "marker": {
             "colorbar": {
              "outlinewidth": 0,
              "ticks": ""
             }
            },
            "type": "scattercarpet"
           }
          ],
          "scattergeo": [
           {
            "marker": {
             "colorbar": {
              "outlinewidth": 0,
              "ticks": ""
             }
            },
            "type": "scattergeo"
           }
          ],
          "scattergl": [
           {
            "marker": {
             "colorbar": {
              "outlinewidth": 0,
              "ticks": ""
             }
            },
            "type": "scattergl"
           }
          ],
          "scattermapbox": [
           {
            "marker": {
             "colorbar": {
              "outlinewidth": 0,
              "ticks": ""
             }
            },
            "type": "scattermapbox"
           }
          ],
          "scatterpolar": [
           {
            "marker": {
             "colorbar": {
              "outlinewidth": 0,
              "ticks": ""
             }
            },
            "type": "scatterpolar"
           }
          ],
          "scatterpolargl": [
           {
            "marker": {
             "colorbar": {
              "outlinewidth": 0,
              "ticks": ""
             }
            },
            "type": "scatterpolargl"
           }
          ],
          "scatterternary": [
           {
            "marker": {
             "colorbar": {
              "outlinewidth": 0,
              "ticks": ""
             }
            },
            "type": "scatterternary"
           }
          ],
          "surface": [
           {
            "colorbar": {
             "outlinewidth": 0,
             "ticks": ""
            },
            "colorscale": [
             [
              0,
              "#0d0887"
             ],
             [
              0.1111111111111111,
              "#46039f"
             ],
             [
              0.2222222222222222,
              "#7201a8"
             ],
             [
              0.3333333333333333,
              "#9c179e"
             ],
             [
              0.4444444444444444,
              "#bd3786"
             ],
             [
              0.5555555555555556,
              "#d8576b"
             ],
             [
              0.6666666666666666,
              "#ed7953"
             ],
             [
              0.7777777777777778,
              "#fb9f3a"
             ],
             [
              0.8888888888888888,
              "#fdca26"
             ],
             [
              1,
              "#f0f921"
             ]
            ],
            "type": "surface"
           }
          ],
          "table": [
           {
            "cells": {
             "fill": {
              "color": "#EBF0F8"
             },
             "line": {
              "color": "white"
             }
            },
            "header": {
             "fill": {
              "color": "#C8D4E3"
             },
             "line": {
              "color": "white"
             }
            },
            "type": "table"
           }
          ]
         },
         "layout": {
          "annotationdefaults": {
           "arrowcolor": "#2a3f5f",
           "arrowhead": 0,
           "arrowwidth": 1
          },
          "autotypenumbers": "strict",
          "coloraxis": {
           "colorbar": {
            "outlinewidth": 0,
            "ticks": ""
           }
          },
          "colorscale": {
           "diverging": [
            [
             0,
             "#8e0152"
            ],
            [
             0.1,
             "#c51b7d"
            ],
            [
             0.2,
             "#de77ae"
            ],
            [
             0.3,
             "#f1b6da"
            ],
            [
             0.4,
             "#fde0ef"
            ],
            [
             0.5,
             "#f7f7f7"
            ],
            [
             0.6,
             "#e6f5d0"
            ],
            [
             0.7,
             "#b8e186"
            ],
            [
             0.8,
             "#7fbc41"
            ],
            [
             0.9,
             "#4d9221"
            ],
            [
             1,
             "#276419"
            ]
           ],
           "sequential": [
            [
             0,
             "#0d0887"
            ],
            [
             0.1111111111111111,
             "#46039f"
            ],
            [
             0.2222222222222222,
             "#7201a8"
            ],
            [
             0.3333333333333333,
             "#9c179e"
            ],
            [
             0.4444444444444444,
             "#bd3786"
            ],
            [
             0.5555555555555556,
             "#d8576b"
            ],
            [
             0.6666666666666666,
             "#ed7953"
            ],
            [
             0.7777777777777778,
             "#fb9f3a"
            ],
            [
             0.8888888888888888,
             "#fdca26"
            ],
            [
             1,
             "#f0f921"
            ]
           ],
           "sequentialminus": [
            [
             0,
             "#0d0887"
            ],
            [
             0.1111111111111111,
             "#46039f"
            ],
            [
             0.2222222222222222,
             "#7201a8"
            ],
            [
             0.3333333333333333,
             "#9c179e"
            ],
            [
             0.4444444444444444,
             "#bd3786"
            ],
            [
             0.5555555555555556,
             "#d8576b"
            ],
            [
             0.6666666666666666,
             "#ed7953"
            ],
            [
             0.7777777777777778,
             "#fb9f3a"
            ],
            [
             0.8888888888888888,
             "#fdca26"
            ],
            [
             1,
             "#f0f921"
            ]
           ]
          },
          "colorway": [
           "#636efa",
           "#EF553B",
           "#00cc96",
           "#ab63fa",
           "#FFA15A",
           "#19d3f3",
           "#FF6692",
           "#B6E880",
           "#FF97FF",
           "#FECB52"
          ],
          "font": {
           "color": "#2a3f5f"
          },
          "geo": {
           "bgcolor": "white",
           "lakecolor": "white",
           "landcolor": "#E5ECF6",
           "showlakes": true,
           "showland": true,
           "subunitcolor": "white"
          },
          "hoverlabel": {
           "align": "left"
          },
          "hovermode": "closest",
          "mapbox": {
           "style": "light"
          },
          "paper_bgcolor": "white",
          "plot_bgcolor": "#E5ECF6",
          "polar": {
           "angularaxis": {
            "gridcolor": "white",
            "linecolor": "white",
            "ticks": ""
           },
           "bgcolor": "#E5ECF6",
           "radialaxis": {
            "gridcolor": "white",
            "linecolor": "white",
            "ticks": ""
           }
          },
          "scene": {
           "xaxis": {
            "backgroundcolor": "#E5ECF6",
            "gridcolor": "white",
            "gridwidth": 2,
            "linecolor": "white",
            "showbackground": true,
            "ticks": "",
            "zerolinecolor": "white"
           },
           "yaxis": {
            "backgroundcolor": "#E5ECF6",
            "gridcolor": "white",
            "gridwidth": 2,
            "linecolor": "white",
            "showbackground": true,
            "ticks": "",
            "zerolinecolor": "white"
           },
           "zaxis": {
            "backgroundcolor": "#E5ECF6",
            "gridcolor": "white",
            "gridwidth": 2,
            "linecolor": "white",
            "showbackground": true,
            "ticks": "",
            "zerolinecolor": "white"
           }
          },
          "shapedefaults": {
           "line": {
            "color": "#2a3f5f"
           }
          },
          "ternary": {
           "aaxis": {
            "gridcolor": "white",
            "linecolor": "white",
            "ticks": ""
           },
           "baxis": {
            "gridcolor": "white",
            "linecolor": "white",
            "ticks": ""
           },
           "bgcolor": "#E5ECF6",
           "caxis": {
            "gridcolor": "white",
            "linecolor": "white",
            "ticks": ""
           }
          },
          "title": {
           "x": 0.05
          },
          "xaxis": {
           "automargin": true,
           "gridcolor": "white",
           "linecolor": "white",
           "ticks": "",
           "title": {
            "standoff": 15
           },
           "zerolinecolor": "white",
           "zerolinewidth": 2
          },
          "yaxis": {
           "automargin": true,
           "gridcolor": "white",
           "linecolor": "white",
           "ticks": "",
           "title": {
            "standoff": 15
           },
           "zerolinecolor": "white",
           "zerolinewidth": 2
          }
         }
        },
        "xaxis": {
         "dtick": 1,
         "gridcolor": "rgb(0, 0, 0)",
         "side": "bottom",
         "ticks": "",
         "title": {
          "text": "Response Time"
         }
        },
        "yaxis": {
         "dtick": 1,
         "ticks": "",
         "ticksuffix": "  ",
         "title": {
          "text": "Max Pertubation during training"
         }
        }
       }
      },
      "text/html": [
       "<div>                            <div id=\"1f811f5b-d60a-4696-b368-fc54980a9494\" class=\"plotly-graph-div\" style=\"height:700px; width:100%;\"></div>            <script type=\"text/javascript\">                require([\"plotly\"], function(Plotly) {                    window.PLOTLYENV=window.PLOTLYENV || {};                                    if (document.getElementById(\"1f811f5b-d60a-4696-b368-fc54980a9494\")) {                    Plotly.newPlot(                        \"1f811f5b-d60a-4696-b368-fc54980a9494\",                        [{\"colorscale\":[[0.0,\"rgb(247,251,255)\"],[0.125,\"rgb(222,235,247)\"],[0.25,\"rgb(198,219,239)\"],[0.375,\"rgb(158,202,225)\"],[0.5,\"rgb(107,174,214)\"],[0.625,\"rgb(66,146,198)\"],[0.75,\"rgb(33,113,181)\"],[0.875,\"rgb(8,81,156)\"],[1.0,\"rgb(8,48,107)\"]],\"reversescale\":false,\"showscale\":true,\"type\":\"heatmap\",\"x\":[\"0.01s\",\"0.02s\",\"0.04s\",\"0.08s\",\"0.16s\",\"0.32s\",\"0.64s\"],\"y\":[\"0g\",\"1g\",\"2g\",\"3g\",\"4g\",\"5g\",\"6g\",\"7g\",\"8g\",\"9g\",\"10g\",\"11g\",\"12g\",\"13g\",\"14g\",\"15g\",\"16g\",\"17g\",\"18g\",\"19g\",\"20g\"],\"z\":[[71.1406,74.1356,88.4384,69.8432,40.224000000000004,0.544,0.64],[73.519,96.1904,90.91839999999999,75.568,46.57600000000001,0.544,0.64],[100.9576,87.1704,95.1824,78.4992,63.391999999999996,0.544,0.64],[123.7394,108.71,98.87920000000001,118.8336,58.63040000000001,0.544,0.64],[120.5666,129.63160000000002,109.04720000000002,112.48159999999999,80.8992,0.544,0.64],[135.1484,133.0512,129.60320000000002,129.1968,65.4464,0.544,0.64],[138.7362,154.29360000000003,146.5768,131.8576,70.6464,0.544,0.64],[118.00460000000001,161.59160000000003,156.8408,113.7536,66.30080000000001,0.544,0.64],[148.302,170.2392,161.8912,139.54080000000002,62.441599999999994,0.544,0.64],[140.02200000000002,169.208,159.768,131.54559999999998,58.7552,0.544,0.64],[129.54180000000002,167.2276,141.06640000000002,116.47040000000001,60.144000000000005,0.544,0.64],[134.8814,145.81640000000002,124.272,108.94560000000001,57.903999999999996,0.544,0.64],[135.81019999999998,149.8952,142.364,135.34560000000002,59.15840000000001,0.544,0.64],[140.8046,116.6884,132.89600000000002,132.3744,59.81120000000001,0.544,0.64],[126.7424,119.71759999999999,121.4008,101.8112,56.69759999999999,0.544,0.64],[88.8172,136.75920000000002,144.3672,109.1712,43.171200000000006,0.544,0.64],[128.06900000000002,142.2104,151.5456,128.9664,50.937599999999996,0.544,0.64],[103.3928,103.75159999999998,148.11520000000002,91.9392,59.67679999999999,0.544,0.64],[113.8508,126.90120000000002,130.33200000000002,94.47359999999999,49.955200000000005,0.544,0.64],[98.5504,118.84280000000001,122.176,141.64960000000002,55.07199999999999,0.544,0.64],[61.78399999999999,96.1088,103.60319999999999,90.95519999999999,50.8416,0.544,0.64]]}],                        {\"annotations\":[{\"font\":{\"color\":\"#000000\"},\"showarrow\":false,\"text\":\"71.14s / 3.56g\",\"x\":\"0.01s\",\"xref\":\"x\",\"y\":\"0g\",\"yref\":\"y\"},{\"font\":{\"color\":\"#000000\"},\"showarrow\":false,\"text\":\"74.14s / 3.71g\",\"x\":\"0.02s\",\"xref\":\"x\",\"y\":\"0g\",\"yref\":\"y\"},{\"font\":{\"color\":\"#FFFFFF\"},\"showarrow\":false,\"text\":\"88.44s / 4.42g\",\"x\":\"0.04s\",\"xref\":\"x\",\"y\":\"0g\",\"yref\":\"y\"},{\"font\":{\"color\":\"#000000\"},\"showarrow\":false,\"text\":\"69.84s / 3.49g\",\"x\":\"0.08s\",\"xref\":\"x\",\"y\":\"0g\",\"yref\":\"y\"},{\"font\":{\"color\":\"#000000\"},\"showarrow\":false,\"text\":\"40.22s / 2.01g\",\"x\":\"0.16s\",\"xref\":\"x\",\"y\":\"0g\",\"yref\":\"y\"},{\"font\":{\"color\":\"#000000\"},\"showarrow\":false,\"text\":\"0.54s / 0.03g\",\"x\":\"0.32s\",\"xref\":\"x\",\"y\":\"0g\",\"yref\":\"y\"},{\"font\":{\"color\":\"#000000\"},\"showarrow\":false,\"text\":\"0.64s / 0.03g\",\"x\":\"0.64s\",\"xref\":\"x\",\"y\":\"0g\",\"yref\":\"y\"},{\"font\":{\"color\":\"#000000\"},\"showarrow\":false,\"text\":\"73.52s / 3.68g\",\"x\":\"0.01s\",\"xref\":\"x\",\"y\":\"1g\",\"yref\":\"y\"},{\"font\":{\"color\":\"#FFFFFF\"},\"showarrow\":false,\"text\":\"96.19s / 4.81g\",\"x\":\"0.02s\",\"xref\":\"x\",\"y\":\"1g\",\"yref\":\"y\"},{\"font\":{\"color\":\"#FFFFFF\"},\"showarrow\":false,\"text\":\"90.92s / 4.55g\",\"x\":\"0.04s\",\"xref\":\"x\",\"y\":\"1g\",\"yref\":\"y\"},{\"font\":{\"color\":\"#000000\"},\"showarrow\":false,\"text\":\"75.57s / 3.78g\",\"x\":\"0.08s\",\"xref\":\"x\",\"y\":\"1g\",\"yref\":\"y\"},{\"font\":{\"color\":\"#000000\"},\"showarrow\":false,\"text\":\"46.58s / 2.33g\",\"x\":\"0.16s\",\"xref\":\"x\",\"y\":\"1g\",\"yref\":\"y\"},{\"font\":{\"color\":\"#000000\"},\"showarrow\":false,\"text\":\"0.54s / 0.03g\",\"x\":\"0.32s\",\"xref\":\"x\",\"y\":\"1g\",\"yref\":\"y\"},{\"font\":{\"color\":\"#000000\"},\"showarrow\":false,\"text\":\"0.64s / 0.03g\",\"x\":\"0.64s\",\"xref\":\"x\",\"y\":\"1g\",\"yref\":\"y\"},{\"font\":{\"color\":\"#FFFFFF\"},\"showarrow\":false,\"text\":\"100.96s / 5.05g\",\"x\":\"0.01s\",\"xref\":\"x\",\"y\":\"2g\",\"yref\":\"y\"},{\"font\":{\"color\":\"#FFFFFF\"},\"showarrow\":false,\"text\":\"87.17s / 4.36g\",\"x\":\"0.02s\",\"xref\":\"x\",\"y\":\"2g\",\"yref\":\"y\"},{\"font\":{\"color\":\"#FFFFFF\"},\"showarrow\":false,\"text\":\"95.18s / 4.76g\",\"x\":\"0.04s\",\"xref\":\"x\",\"y\":\"2g\",\"yref\":\"y\"},{\"font\":{\"color\":\"#000000\"},\"showarrow\":false,\"text\":\"78.5s / 3.92g\",\"x\":\"0.08s\",\"xref\":\"x\",\"y\":\"2g\",\"yref\":\"y\"},{\"font\":{\"color\":\"#000000\"},\"showarrow\":false,\"text\":\"63.39s / 3.17g\",\"x\":\"0.16s\",\"xref\":\"x\",\"y\":\"2g\",\"yref\":\"y\"},{\"font\":{\"color\":\"#000000\"},\"showarrow\":false,\"text\":\"0.54s / 0.03g\",\"x\":\"0.32s\",\"xref\":\"x\",\"y\":\"2g\",\"yref\":\"y\"},{\"font\":{\"color\":\"#000000\"},\"showarrow\":false,\"text\":\"0.64s / 0.03g\",\"x\":\"0.64s\",\"xref\":\"x\",\"y\":\"2g\",\"yref\":\"y\"},{\"font\":{\"color\":\"#FFFFFF\"},\"showarrow\":false,\"text\":\"123.74s / 6.19g\",\"x\":\"0.01s\",\"xref\":\"x\",\"y\":\"3g\",\"yref\":\"y\"},{\"font\":{\"color\":\"#FFFFFF\"},\"showarrow\":false,\"text\":\"108.71s / 5.44g\",\"x\":\"0.02s\",\"xref\":\"x\",\"y\":\"3g\",\"yref\":\"y\"},{\"font\":{\"color\":\"#FFFFFF\"},\"showarrow\":false,\"text\":\"98.88s / 4.94g\",\"x\":\"0.04s\",\"xref\":\"x\",\"y\":\"3g\",\"yref\":\"y\"},{\"font\":{\"color\":\"#FFFFFF\"},\"showarrow\":false,\"text\":\"118.83s / 5.94g\",\"x\":\"0.08s\",\"xref\":\"x\",\"y\":\"3g\",\"yref\":\"y\"},{\"font\":{\"color\":\"#000000\"},\"showarrow\":false,\"text\":\"58.63s / 2.93g\",\"x\":\"0.16s\",\"xref\":\"x\",\"y\":\"3g\",\"yref\":\"y\"},{\"font\":{\"color\":\"#000000\"},\"showarrow\":false,\"text\":\"0.54s / 0.03g\",\"x\":\"0.32s\",\"xref\":\"x\",\"y\":\"3g\",\"yref\":\"y\"},{\"font\":{\"color\":\"#000000\"},\"showarrow\":false,\"text\":\"0.64s / 0.03g\",\"x\":\"0.64s\",\"xref\":\"x\",\"y\":\"3g\",\"yref\":\"y\"},{\"font\":{\"color\":\"#FFFFFF\"},\"showarrow\":false,\"text\":\"120.57s / 6.03g\",\"x\":\"0.01s\",\"xref\":\"x\",\"y\":\"4g\",\"yref\":\"y\"},{\"font\":{\"color\":\"#FFFFFF\"},\"showarrow\":false,\"text\":\"129.63s / 6.48g\",\"x\":\"0.02s\",\"xref\":\"x\",\"y\":\"4g\",\"yref\":\"y\"},{\"font\":{\"color\":\"#FFFFFF\"},\"showarrow\":false,\"text\":\"109.05s / 5.45g\",\"x\":\"0.04s\",\"xref\":\"x\",\"y\":\"4g\",\"yref\":\"y\"},{\"font\":{\"color\":\"#FFFFFF\"},\"showarrow\":false,\"text\":\"112.48s / 5.62g\",\"x\":\"0.08s\",\"xref\":\"x\",\"y\":\"4g\",\"yref\":\"y\"},{\"font\":{\"color\":\"#000000\"},\"showarrow\":false,\"text\":\"80.9s / 4.04g\",\"x\":\"0.16s\",\"xref\":\"x\",\"y\":\"4g\",\"yref\":\"y\"},{\"font\":{\"color\":\"#000000\"},\"showarrow\":false,\"text\":\"0.54s / 0.03g\",\"x\":\"0.32s\",\"xref\":\"x\",\"y\":\"4g\",\"yref\":\"y\"},{\"font\":{\"color\":\"#000000\"},\"showarrow\":false,\"text\":\"0.64s / 0.03g\",\"x\":\"0.64s\",\"xref\":\"x\",\"y\":\"4g\",\"yref\":\"y\"},{\"font\":{\"color\":\"#FFFFFF\"},\"showarrow\":false,\"text\":\"135.15s / 6.76g\",\"x\":\"0.01s\",\"xref\":\"x\",\"y\":\"5g\",\"yref\":\"y\"},{\"font\":{\"color\":\"#FFFFFF\"},\"showarrow\":false,\"text\":\"133.05s / 6.65g\",\"x\":\"0.02s\",\"xref\":\"x\",\"y\":\"5g\",\"yref\":\"y\"},{\"font\":{\"color\":\"#FFFFFF\"},\"showarrow\":false,\"text\":\"129.6s / 6.48g\",\"x\":\"0.04s\",\"xref\":\"x\",\"y\":\"5g\",\"yref\":\"y\"},{\"font\":{\"color\":\"#FFFFFF\"},\"showarrow\":false,\"text\":\"129.2s / 6.46g\",\"x\":\"0.08s\",\"xref\":\"x\",\"y\":\"5g\",\"yref\":\"y\"},{\"font\":{\"color\":\"#000000\"},\"showarrow\":false,\"text\":\"65.45s / 3.27g\",\"x\":\"0.16s\",\"xref\":\"x\",\"y\":\"5g\",\"yref\":\"y\"},{\"font\":{\"color\":\"#000000\"},\"showarrow\":false,\"text\":\"0.54s / 0.03g\",\"x\":\"0.32s\",\"xref\":\"x\",\"y\":\"5g\",\"yref\":\"y\"},{\"font\":{\"color\":\"#000000\"},\"showarrow\":false,\"text\":\"0.64s / 0.03g\",\"x\":\"0.64s\",\"xref\":\"x\",\"y\":\"5g\",\"yref\":\"y\"},{\"font\":{\"color\":\"#FFFFFF\"},\"showarrow\":false,\"text\":\"138.74s / 6.94g\",\"x\":\"0.01s\",\"xref\":\"x\",\"y\":\"6g\",\"yref\":\"y\"},{\"font\":{\"color\":\"#FFFFFF\"},\"showarrow\":false,\"text\":\"154.29s / 7.71g\",\"x\":\"0.02s\",\"xref\":\"x\",\"y\":\"6g\",\"yref\":\"y\"},{\"font\":{\"color\":\"#FFFFFF\"},\"showarrow\":false,\"text\":\"146.58s / 7.33g\",\"x\":\"0.04s\",\"xref\":\"x\",\"y\":\"6g\",\"yref\":\"y\"},{\"font\":{\"color\":\"#FFFFFF\"},\"showarrow\":false,\"text\":\"131.86s / 6.59g\",\"x\":\"0.08s\",\"xref\":\"x\",\"y\":\"6g\",\"yref\":\"y\"},{\"font\":{\"color\":\"#000000\"},\"showarrow\":false,\"text\":\"70.65s / 3.53g\",\"x\":\"0.16s\",\"xref\":\"x\",\"y\":\"6g\",\"yref\":\"y\"},{\"font\":{\"color\":\"#000000\"},\"showarrow\":false,\"text\":\"0.54s / 0.03g\",\"x\":\"0.32s\",\"xref\":\"x\",\"y\":\"6g\",\"yref\":\"y\"},{\"font\":{\"color\":\"#000000\"},\"showarrow\":false,\"text\":\"0.64s / 0.03g\",\"x\":\"0.64s\",\"xref\":\"x\",\"y\":\"6g\",\"yref\":\"y\"},{\"font\":{\"color\":\"#FFFFFF\"},\"showarrow\":false,\"text\":\"118.0s / 5.9g\",\"x\":\"0.01s\",\"xref\":\"x\",\"y\":\"7g\",\"yref\":\"y\"},{\"font\":{\"color\":\"#FFFFFF\"},\"showarrow\":false,\"text\":\"161.59s / 8.08g\",\"x\":\"0.02s\",\"xref\":\"x\",\"y\":\"7g\",\"yref\":\"y\"},{\"font\":{\"color\":\"#FFFFFF\"},\"showarrow\":false,\"text\":\"156.84s / 7.84g\",\"x\":\"0.04s\",\"xref\":\"x\",\"y\":\"7g\",\"yref\":\"y\"},{\"font\":{\"color\":\"#FFFFFF\"},\"showarrow\":false,\"text\":\"113.75s / 5.69g\",\"x\":\"0.08s\",\"xref\":\"x\",\"y\":\"7g\",\"yref\":\"y\"},{\"font\":{\"color\":\"#000000\"},\"showarrow\":false,\"text\":\"66.3s / 3.32g\",\"x\":\"0.16s\",\"xref\":\"x\",\"y\":\"7g\",\"yref\":\"y\"},{\"font\":{\"color\":\"#000000\"},\"showarrow\":false,\"text\":\"0.54s / 0.03g\",\"x\":\"0.32s\",\"xref\":\"x\",\"y\":\"7g\",\"yref\":\"y\"},{\"font\":{\"color\":\"#000000\"},\"showarrow\":false,\"text\":\"0.64s / 0.03g\",\"x\":\"0.64s\",\"xref\":\"x\",\"y\":\"7g\",\"yref\":\"y\"},{\"font\":{\"color\":\"#FFFFFF\"},\"showarrow\":false,\"text\":\"148.3s / 7.42g\",\"x\":\"0.01s\",\"xref\":\"x\",\"y\":\"8g\",\"yref\":\"y\"},{\"font\":{\"color\":\"#FFFFFF\"},\"showarrow\":false,\"text\":\"170.24s / 8.51g\",\"x\":\"0.02s\",\"xref\":\"x\",\"y\":\"8g\",\"yref\":\"y\"},{\"font\":{\"color\":\"#FFFFFF\"},\"showarrow\":false,\"text\":\"161.89s / 8.09g\",\"x\":\"0.04s\",\"xref\":\"x\",\"y\":\"8g\",\"yref\":\"y\"},{\"font\":{\"color\":\"#FFFFFF\"},\"showarrow\":false,\"text\":\"139.54s / 6.98g\",\"x\":\"0.08s\",\"xref\":\"x\",\"y\":\"8g\",\"yref\":\"y\"},{\"font\":{\"color\":\"#000000\"},\"showarrow\":false,\"text\":\"62.44s / 3.12g\",\"x\":\"0.16s\",\"xref\":\"x\",\"y\":\"8g\",\"yref\":\"y\"},{\"font\":{\"color\":\"#000000\"},\"showarrow\":false,\"text\":\"0.54s / 0.03g\",\"x\":\"0.32s\",\"xref\":\"x\",\"y\":\"8g\",\"yref\":\"y\"},{\"font\":{\"color\":\"#000000\"},\"showarrow\":false,\"text\":\"0.64s / 0.03g\",\"x\":\"0.64s\",\"xref\":\"x\",\"y\":\"8g\",\"yref\":\"y\"},{\"font\":{\"color\":\"#FFFFFF\"},\"showarrow\":false,\"text\":\"140.02s / 7.0g\",\"x\":\"0.01s\",\"xref\":\"x\",\"y\":\"9g\",\"yref\":\"y\"},{\"font\":{\"color\":\"#FFFFFF\"},\"showarrow\":false,\"text\":\"169.21s / 8.46g\",\"x\":\"0.02s\",\"xref\":\"x\",\"y\":\"9g\",\"yref\":\"y\"},{\"font\":{\"color\":\"#FFFFFF\"},\"showarrow\":false,\"text\":\"159.77s / 7.99g\",\"x\":\"0.04s\",\"xref\":\"x\",\"y\":\"9g\",\"yref\":\"y\"},{\"font\":{\"color\":\"#FFFFFF\"},\"showarrow\":false,\"text\":\"131.55s / 6.58g\",\"x\":\"0.08s\",\"xref\":\"x\",\"y\":\"9g\",\"yref\":\"y\"},{\"font\":{\"color\":\"#000000\"},\"showarrow\":false,\"text\":\"58.76s / 2.94g\",\"x\":\"0.16s\",\"xref\":\"x\",\"y\":\"9g\",\"yref\":\"y\"},{\"font\":{\"color\":\"#000000\"},\"showarrow\":false,\"text\":\"0.54s / 0.03g\",\"x\":\"0.32s\",\"xref\":\"x\",\"y\":\"9g\",\"yref\":\"y\"},{\"font\":{\"color\":\"#000000\"},\"showarrow\":false,\"text\":\"0.64s / 0.03g\",\"x\":\"0.64s\",\"xref\":\"x\",\"y\":\"9g\",\"yref\":\"y\"},{\"font\":{\"color\":\"#FFFFFF\"},\"showarrow\":false,\"text\":\"129.54s / 6.48g\",\"x\":\"0.01s\",\"xref\":\"x\",\"y\":\"10g\",\"yref\":\"y\"},{\"font\":{\"color\":\"#FFFFFF\"},\"showarrow\":false,\"text\":\"167.23s / 8.36g\",\"x\":\"0.02s\",\"xref\":\"x\",\"y\":\"10g\",\"yref\":\"y\"},{\"font\":{\"color\":\"#FFFFFF\"},\"showarrow\":false,\"text\":\"141.07s / 7.05g\",\"x\":\"0.04s\",\"xref\":\"x\",\"y\":\"10g\",\"yref\":\"y\"},{\"font\":{\"color\":\"#FFFFFF\"},\"showarrow\":false,\"text\":\"116.47s / 5.82g\",\"x\":\"0.08s\",\"xref\":\"x\",\"y\":\"10g\",\"yref\":\"y\"},{\"font\":{\"color\":\"#000000\"},\"showarrow\":false,\"text\":\"60.14s / 3.01g\",\"x\":\"0.16s\",\"xref\":\"x\",\"y\":\"10g\",\"yref\":\"y\"},{\"font\":{\"color\":\"#000000\"},\"showarrow\":false,\"text\":\"0.54s / 0.03g\",\"x\":\"0.32s\",\"xref\":\"x\",\"y\":\"10g\",\"yref\":\"y\"},{\"font\":{\"color\":\"#000000\"},\"showarrow\":false,\"text\":\"0.64s / 0.03g\",\"x\":\"0.64s\",\"xref\":\"x\",\"y\":\"10g\",\"yref\":\"y\"},{\"font\":{\"color\":\"#FFFFFF\"},\"showarrow\":false,\"text\":\"134.88s / 6.74g\",\"x\":\"0.01s\",\"xref\":\"x\",\"y\":\"11g\",\"yref\":\"y\"},{\"font\":{\"color\":\"#FFFFFF\"},\"showarrow\":false,\"text\":\"145.82s / 7.29g\",\"x\":\"0.02s\",\"xref\":\"x\",\"y\":\"11g\",\"yref\":\"y\"},{\"font\":{\"color\":\"#FFFFFF\"},\"showarrow\":false,\"text\":\"124.27s / 6.21g\",\"x\":\"0.04s\",\"xref\":\"x\",\"y\":\"11g\",\"yref\":\"y\"},{\"font\":{\"color\":\"#FFFFFF\"},\"showarrow\":false,\"text\":\"108.95s / 5.45g\",\"x\":\"0.08s\",\"xref\":\"x\",\"y\":\"11g\",\"yref\":\"y\"},{\"font\":{\"color\":\"#000000\"},\"showarrow\":false,\"text\":\"57.9s / 2.9g\",\"x\":\"0.16s\",\"xref\":\"x\",\"y\":\"11g\",\"yref\":\"y\"},{\"font\":{\"color\":\"#000000\"},\"showarrow\":false,\"text\":\"0.54s / 0.03g\",\"x\":\"0.32s\",\"xref\":\"x\",\"y\":\"11g\",\"yref\":\"y\"},{\"font\":{\"color\":\"#000000\"},\"showarrow\":false,\"text\":\"0.64s / 0.03g\",\"x\":\"0.64s\",\"xref\":\"x\",\"y\":\"11g\",\"yref\":\"y\"},{\"font\":{\"color\":\"#FFFFFF\"},\"showarrow\":false,\"text\":\"135.81s / 6.79g\",\"x\":\"0.01s\",\"xref\":\"x\",\"y\":\"12g\",\"yref\":\"y\"},{\"font\":{\"color\":\"#FFFFFF\"},\"showarrow\":false,\"text\":\"149.9s / 7.5g\",\"x\":\"0.02s\",\"xref\":\"x\",\"y\":\"12g\",\"yref\":\"y\"},{\"font\":{\"color\":\"#FFFFFF\"},\"showarrow\":false,\"text\":\"142.36s / 7.12g\",\"x\":\"0.04s\",\"xref\":\"x\",\"y\":\"12g\",\"yref\":\"y\"},{\"font\":{\"color\":\"#FFFFFF\"},\"showarrow\":false,\"text\":\"135.35s / 6.77g\",\"x\":\"0.08s\",\"xref\":\"x\",\"y\":\"12g\",\"yref\":\"y\"},{\"font\":{\"color\":\"#000000\"},\"showarrow\":false,\"text\":\"59.16s / 2.96g\",\"x\":\"0.16s\",\"xref\":\"x\",\"y\":\"12g\",\"yref\":\"y\"},{\"font\":{\"color\":\"#000000\"},\"showarrow\":false,\"text\":\"0.54s / 0.03g\",\"x\":\"0.32s\",\"xref\":\"x\",\"y\":\"12g\",\"yref\":\"y\"},{\"font\":{\"color\":\"#000000\"},\"showarrow\":false,\"text\":\"0.64s / 0.03g\",\"x\":\"0.64s\",\"xref\":\"x\",\"y\":\"12g\",\"yref\":\"y\"},{\"font\":{\"color\":\"#FFFFFF\"},\"showarrow\":false,\"text\":\"140.8s / 7.04g\",\"x\":\"0.01s\",\"xref\":\"x\",\"y\":\"13g\",\"yref\":\"y\"},{\"font\":{\"color\":\"#FFFFFF\"},\"showarrow\":false,\"text\":\"116.69s / 5.83g\",\"x\":\"0.02s\",\"xref\":\"x\",\"y\":\"13g\",\"yref\":\"y\"},{\"font\":{\"color\":\"#FFFFFF\"},\"showarrow\":false,\"text\":\"132.9s / 6.64g\",\"x\":\"0.04s\",\"xref\":\"x\",\"y\":\"13g\",\"yref\":\"y\"},{\"font\":{\"color\":\"#FFFFFF\"},\"showarrow\":false,\"text\":\"132.37s / 6.62g\",\"x\":\"0.08s\",\"xref\":\"x\",\"y\":\"13g\",\"yref\":\"y\"},{\"font\":{\"color\":\"#000000\"},\"showarrow\":false,\"text\":\"59.81s / 2.99g\",\"x\":\"0.16s\",\"xref\":\"x\",\"y\":\"13g\",\"yref\":\"y\"},{\"font\":{\"color\":\"#000000\"},\"showarrow\":false,\"text\":\"0.54s / 0.03g\",\"x\":\"0.32s\",\"xref\":\"x\",\"y\":\"13g\",\"yref\":\"y\"},{\"font\":{\"color\":\"#000000\"},\"showarrow\":false,\"text\":\"0.64s / 0.03g\",\"x\":\"0.64s\",\"xref\":\"x\",\"y\":\"13g\",\"yref\":\"y\"},{\"font\":{\"color\":\"#FFFFFF\"},\"showarrow\":false,\"text\":\"126.74s / 6.34g\",\"x\":\"0.01s\",\"xref\":\"x\",\"y\":\"14g\",\"yref\":\"y\"},{\"font\":{\"color\":\"#FFFFFF\"},\"showarrow\":false,\"text\":\"119.72s / 5.99g\",\"x\":\"0.02s\",\"xref\":\"x\",\"y\":\"14g\",\"yref\":\"y\"},{\"font\":{\"color\":\"#FFFFFF\"},\"showarrow\":false,\"text\":\"121.4s / 6.07g\",\"x\":\"0.04s\",\"xref\":\"x\",\"y\":\"14g\",\"yref\":\"y\"},{\"font\":{\"color\":\"#FFFFFF\"},\"showarrow\":false,\"text\":\"101.81s / 5.09g\",\"x\":\"0.08s\",\"xref\":\"x\",\"y\":\"14g\",\"yref\":\"y\"},{\"font\":{\"color\":\"#000000\"},\"showarrow\":false,\"text\":\"56.7s / 2.84g\",\"x\":\"0.16s\",\"xref\":\"x\",\"y\":\"14g\",\"yref\":\"y\"},{\"font\":{\"color\":\"#000000\"},\"showarrow\":false,\"text\":\"0.54s / 0.03g\",\"x\":\"0.32s\",\"xref\":\"x\",\"y\":\"14g\",\"yref\":\"y\"},{\"font\":{\"color\":\"#000000\"},\"showarrow\":false,\"text\":\"0.64s / 0.03g\",\"x\":\"0.64s\",\"xref\":\"x\",\"y\":\"14g\",\"yref\":\"y\"},{\"font\":{\"color\":\"#FFFFFF\"},\"showarrow\":false,\"text\":\"88.82s / 4.44g\",\"x\":\"0.01s\",\"xref\":\"x\",\"y\":\"15g\",\"yref\":\"y\"},{\"font\":{\"color\":\"#FFFFFF\"},\"showarrow\":false,\"text\":\"136.76s / 6.84g\",\"x\":\"0.02s\",\"xref\":\"x\",\"y\":\"15g\",\"yref\":\"y\"},{\"font\":{\"color\":\"#FFFFFF\"},\"showarrow\":false,\"text\":\"144.37s / 7.22g\",\"x\":\"0.04s\",\"xref\":\"x\",\"y\":\"15g\",\"yref\":\"y\"},{\"font\":{\"color\":\"#FFFFFF\"},\"showarrow\":false,\"text\":\"109.17s / 5.46g\",\"x\":\"0.08s\",\"xref\":\"x\",\"y\":\"15g\",\"yref\":\"y\"},{\"font\":{\"color\":\"#000000\"},\"showarrow\":false,\"text\":\"43.17s / 2.16g\",\"x\":\"0.16s\",\"xref\":\"x\",\"y\":\"15g\",\"yref\":\"y\"},{\"font\":{\"color\":\"#000000\"},\"showarrow\":false,\"text\":\"0.54s / 0.03g\",\"x\":\"0.32s\",\"xref\":\"x\",\"y\":\"15g\",\"yref\":\"y\"},{\"font\":{\"color\":\"#000000\"},\"showarrow\":false,\"text\":\"0.64s / 0.03g\",\"x\":\"0.64s\",\"xref\":\"x\",\"y\":\"15g\",\"yref\":\"y\"},{\"font\":{\"color\":\"#FFFFFF\"},\"showarrow\":false,\"text\":\"128.07s / 6.4g\",\"x\":\"0.01s\",\"xref\":\"x\",\"y\":\"16g\",\"yref\":\"y\"},{\"font\":{\"color\":\"#FFFFFF\"},\"showarrow\":false,\"text\":\"142.21s / 7.11g\",\"x\":\"0.02s\",\"xref\":\"x\",\"y\":\"16g\",\"yref\":\"y\"},{\"font\":{\"color\":\"#FFFFFF\"},\"showarrow\":false,\"text\":\"151.55s / 7.58g\",\"x\":\"0.04s\",\"xref\":\"x\",\"y\":\"16g\",\"yref\":\"y\"},{\"font\":{\"color\":\"#FFFFFF\"},\"showarrow\":false,\"text\":\"128.97s / 6.45g\",\"x\":\"0.08s\",\"xref\":\"x\",\"y\":\"16g\",\"yref\":\"y\"},{\"font\":{\"color\":\"#000000\"},\"showarrow\":false,\"text\":\"50.94s / 2.55g\",\"x\":\"0.16s\",\"xref\":\"x\",\"y\":\"16g\",\"yref\":\"y\"},{\"font\":{\"color\":\"#000000\"},\"showarrow\":false,\"text\":\"0.54s / 0.03g\",\"x\":\"0.32s\",\"xref\":\"x\",\"y\":\"16g\",\"yref\":\"y\"},{\"font\":{\"color\":\"#000000\"},\"showarrow\":false,\"text\":\"0.64s / 0.03g\",\"x\":\"0.64s\",\"xref\":\"x\",\"y\":\"16g\",\"yref\":\"y\"},{\"font\":{\"color\":\"#FFFFFF\"},\"showarrow\":false,\"text\":\"103.39s / 5.17g\",\"x\":\"0.01s\",\"xref\":\"x\",\"y\":\"17g\",\"yref\":\"y\"},{\"font\":{\"color\":\"#FFFFFF\"},\"showarrow\":false,\"text\":\"103.75s / 5.19g\",\"x\":\"0.02s\",\"xref\":\"x\",\"y\":\"17g\",\"yref\":\"y\"},{\"font\":{\"color\":\"#FFFFFF\"},\"showarrow\":false,\"text\":\"148.12s / 7.41g\",\"x\":\"0.04s\",\"xref\":\"x\",\"y\":\"17g\",\"yref\":\"y\"},{\"font\":{\"color\":\"#FFFFFF\"},\"showarrow\":false,\"text\":\"91.94s / 4.6g\",\"x\":\"0.08s\",\"xref\":\"x\",\"y\":\"17g\",\"yref\":\"y\"},{\"font\":{\"color\":\"#000000\"},\"showarrow\":false,\"text\":\"59.68s / 2.98g\",\"x\":\"0.16s\",\"xref\":\"x\",\"y\":\"17g\",\"yref\":\"y\"},{\"font\":{\"color\":\"#000000\"},\"showarrow\":false,\"text\":\"0.54s / 0.03g\",\"x\":\"0.32s\",\"xref\":\"x\",\"y\":\"17g\",\"yref\":\"y\"},{\"font\":{\"color\":\"#000000\"},\"showarrow\":false,\"text\":\"0.64s / 0.03g\",\"x\":\"0.64s\",\"xref\":\"x\",\"y\":\"17g\",\"yref\":\"y\"},{\"font\":{\"color\":\"#FFFFFF\"},\"showarrow\":false,\"text\":\"113.85s / 5.69g\",\"x\":\"0.01s\",\"xref\":\"x\",\"y\":\"18g\",\"yref\":\"y\"},{\"font\":{\"color\":\"#FFFFFF\"},\"showarrow\":false,\"text\":\"126.9s / 6.35g\",\"x\":\"0.02s\",\"xref\":\"x\",\"y\":\"18g\",\"yref\":\"y\"},{\"font\":{\"color\":\"#FFFFFF\"},\"showarrow\":false,\"text\":\"130.33s / 6.52g\",\"x\":\"0.04s\",\"xref\":\"x\",\"y\":\"18g\",\"yref\":\"y\"},{\"font\":{\"color\":\"#FFFFFF\"},\"showarrow\":false,\"text\":\"94.47s / 4.72g\",\"x\":\"0.08s\",\"xref\":\"x\",\"y\":\"18g\",\"yref\":\"y\"},{\"font\":{\"color\":\"#000000\"},\"showarrow\":false,\"text\":\"49.96s / 2.5g\",\"x\":\"0.16s\",\"xref\":\"x\",\"y\":\"18g\",\"yref\":\"y\"},{\"font\":{\"color\":\"#000000\"},\"showarrow\":false,\"text\":\"0.54s / 0.03g\",\"x\":\"0.32s\",\"xref\":\"x\",\"y\":\"18g\",\"yref\":\"y\"},{\"font\":{\"color\":\"#000000\"},\"showarrow\":false,\"text\":\"0.64s / 0.03g\",\"x\":\"0.64s\",\"xref\":\"x\",\"y\":\"18g\",\"yref\":\"y\"},{\"font\":{\"color\":\"#FFFFFF\"},\"showarrow\":false,\"text\":\"98.55s / 4.93g\",\"x\":\"0.01s\",\"xref\":\"x\",\"y\":\"19g\",\"yref\":\"y\"},{\"font\":{\"color\":\"#FFFFFF\"},\"showarrow\":false,\"text\":\"118.84s / 5.94g\",\"x\":\"0.02s\",\"xref\":\"x\",\"y\":\"19g\",\"yref\":\"y\"},{\"font\":{\"color\":\"#FFFFFF\"},\"showarrow\":false,\"text\":\"122.18s / 6.11g\",\"x\":\"0.04s\",\"xref\":\"x\",\"y\":\"19g\",\"yref\":\"y\"},{\"font\":{\"color\":\"#FFFFFF\"},\"showarrow\":false,\"text\":\"141.65s / 7.08g\",\"x\":\"0.08s\",\"xref\":\"x\",\"y\":\"19g\",\"yref\":\"y\"},{\"font\":{\"color\":\"#000000\"},\"showarrow\":false,\"text\":\"55.07s / 2.75g\",\"x\":\"0.16s\",\"xref\":\"x\",\"y\":\"19g\",\"yref\":\"y\"},{\"font\":{\"color\":\"#000000\"},\"showarrow\":false,\"text\":\"0.54s / 0.03g\",\"x\":\"0.32s\",\"xref\":\"x\",\"y\":\"19g\",\"yref\":\"y\"},{\"font\":{\"color\":\"#000000\"},\"showarrow\":false,\"text\":\"0.64s / 0.03g\",\"x\":\"0.64s\",\"xref\":\"x\",\"y\":\"19g\",\"yref\":\"y\"},{\"font\":{\"color\":\"#000000\"},\"showarrow\":false,\"text\":\"61.78s / 3.09g\",\"x\":\"0.01s\",\"xref\":\"x\",\"y\":\"20g\",\"yref\":\"y\"},{\"font\":{\"color\":\"#FFFFFF\"},\"showarrow\":false,\"text\":\"96.11s / 4.81g\",\"x\":\"0.02s\",\"xref\":\"x\",\"y\":\"20g\",\"yref\":\"y\"},{\"font\":{\"color\":\"#FFFFFF\"},\"showarrow\":false,\"text\":\"103.6s / 5.18g\",\"x\":\"0.04s\",\"xref\":\"x\",\"y\":\"20g\",\"yref\":\"y\"},{\"font\":{\"color\":\"#FFFFFF\"},\"showarrow\":false,\"text\":\"90.96s / 4.55g\",\"x\":\"0.08s\",\"xref\":\"x\",\"y\":\"20g\",\"yref\":\"y\"},{\"font\":{\"color\":\"#000000\"},\"showarrow\":false,\"text\":\"50.84s / 2.54g\",\"x\":\"0.16s\",\"xref\":\"x\",\"y\":\"20g\",\"yref\":\"y\"},{\"font\":{\"color\":\"#000000\"},\"showarrow\":false,\"text\":\"0.54s / 0.03g\",\"x\":\"0.32s\",\"xref\":\"x\",\"y\":\"20g\",\"yref\":\"y\"},{\"font\":{\"color\":\"#000000\"},\"showarrow\":false,\"text\":\"0.64s / 0.03g\",\"x\":\"0.64s\",\"xref\":\"x\",\"y\":\"20g\",\"yref\":\"y\"}],\"font\":{\"size\":15},\"height\":700,\"template\":{\"data\":{\"bar\":[{\"error_x\":{\"color\":\"#2a3f5f\"},\"error_y\":{\"color\":\"#2a3f5f\"},\"marker\":{\"line\":{\"color\":\"#E5ECF6\",\"width\":0.5},\"pattern\":{\"fillmode\":\"overlay\",\"size\":10,\"solidity\":0.2}},\"type\":\"bar\"}],\"barpolar\":[{\"marker\":{\"line\":{\"color\":\"#E5ECF6\",\"width\":0.5},\"pattern\":{\"fillmode\":\"overlay\",\"size\":10,\"solidity\":0.2}},\"type\":\"barpolar\"}],\"carpet\":[{\"aaxis\":{\"endlinecolor\":\"#2a3f5f\",\"gridcolor\":\"white\",\"linecolor\":\"white\",\"minorgridcolor\":\"white\",\"startlinecolor\":\"#2a3f5f\"},\"baxis\":{\"endlinecolor\":\"#2a3f5f\",\"gridcolor\":\"white\",\"linecolor\":\"white\",\"minorgridcolor\":\"white\",\"startlinecolor\":\"#2a3f5f\"},\"type\":\"carpet\"}],\"choropleth\":[{\"colorbar\":{\"outlinewidth\":0,\"ticks\":\"\"},\"type\":\"choropleth\"}],\"contour\":[{\"colorbar\":{\"outlinewidth\":0,\"ticks\":\"\"},\"colorscale\":[[0.0,\"#0d0887\"],[0.1111111111111111,\"#46039f\"],[0.2222222222222222,\"#7201a8\"],[0.3333333333333333,\"#9c179e\"],[0.4444444444444444,\"#bd3786\"],[0.5555555555555556,\"#d8576b\"],[0.6666666666666666,\"#ed7953\"],[0.7777777777777778,\"#fb9f3a\"],[0.8888888888888888,\"#fdca26\"],[1.0,\"#f0f921\"]],\"type\":\"contour\"}],\"contourcarpet\":[{\"colorbar\":{\"outlinewidth\":0,\"ticks\":\"\"},\"type\":\"contourcarpet\"}],\"heatmap\":[{\"colorbar\":{\"outlinewidth\":0,\"ticks\":\"\"},\"colorscale\":[[0.0,\"#0d0887\"],[0.1111111111111111,\"#46039f\"],[0.2222222222222222,\"#7201a8\"],[0.3333333333333333,\"#9c179e\"],[0.4444444444444444,\"#bd3786\"],[0.5555555555555556,\"#d8576b\"],[0.6666666666666666,\"#ed7953\"],[0.7777777777777778,\"#fb9f3a\"],[0.8888888888888888,\"#fdca26\"],[1.0,\"#f0f921\"]],\"type\":\"heatmap\"}],\"heatmapgl\":[{\"colorbar\":{\"outlinewidth\":0,\"ticks\":\"\"},\"colorscale\":[[0.0,\"#0d0887\"],[0.1111111111111111,\"#46039f\"],[0.2222222222222222,\"#7201a8\"],[0.3333333333333333,\"#9c179e\"],[0.4444444444444444,\"#bd3786\"],[0.5555555555555556,\"#d8576b\"],[0.6666666666666666,\"#ed7953\"],[0.7777777777777778,\"#fb9f3a\"],[0.8888888888888888,\"#fdca26\"],[1.0,\"#f0f921\"]],\"type\":\"heatmapgl\"}],\"histogram\":[{\"marker\":{\"pattern\":{\"fillmode\":\"overlay\",\"size\":10,\"solidity\":0.2}},\"type\":\"histogram\"}],\"histogram2d\":[{\"colorbar\":{\"outlinewidth\":0,\"ticks\":\"\"},\"colorscale\":[[0.0,\"#0d0887\"],[0.1111111111111111,\"#46039f\"],[0.2222222222222222,\"#7201a8\"],[0.3333333333333333,\"#9c179e\"],[0.4444444444444444,\"#bd3786\"],[0.5555555555555556,\"#d8576b\"],[0.6666666666666666,\"#ed7953\"],[0.7777777777777778,\"#fb9f3a\"],[0.8888888888888888,\"#fdca26\"],[1.0,\"#f0f921\"]],\"type\":\"histogram2d\"}],\"histogram2dcontour\":[{\"colorbar\":{\"outlinewidth\":0,\"ticks\":\"\"},\"colorscale\":[[0.0,\"#0d0887\"],[0.1111111111111111,\"#46039f\"],[0.2222222222222222,\"#7201a8\"],[0.3333333333333333,\"#9c179e\"],[0.4444444444444444,\"#bd3786\"],[0.5555555555555556,\"#d8576b\"],[0.6666666666666666,\"#ed7953\"],[0.7777777777777778,\"#fb9f3a\"],[0.8888888888888888,\"#fdca26\"],[1.0,\"#f0f921\"]],\"type\":\"histogram2dcontour\"}],\"mesh3d\":[{\"colorbar\":{\"outlinewidth\":0,\"ticks\":\"\"},\"type\":\"mesh3d\"}],\"parcoords\":[{\"line\":{\"colorbar\":{\"outlinewidth\":0,\"ticks\":\"\"}},\"type\":\"parcoords\"}],\"pie\":[{\"automargin\":true,\"type\":\"pie\"}],\"scatter\":[{\"marker\":{\"colorbar\":{\"outlinewidth\":0,\"ticks\":\"\"}},\"type\":\"scatter\"}],\"scatter3d\":[{\"line\":{\"colorbar\":{\"outlinewidth\":0,\"ticks\":\"\"}},\"marker\":{\"colorbar\":{\"outlinewidth\":0,\"ticks\":\"\"}},\"type\":\"scatter3d\"}],\"scattercarpet\":[{\"marker\":{\"colorbar\":{\"outlinewidth\":0,\"ticks\":\"\"}},\"type\":\"scattercarpet\"}],\"scattergeo\":[{\"marker\":{\"colorbar\":{\"outlinewidth\":0,\"ticks\":\"\"}},\"type\":\"scattergeo\"}],\"scattergl\":[{\"marker\":{\"colorbar\":{\"outlinewidth\":0,\"ticks\":\"\"}},\"type\":\"scattergl\"}],\"scattermapbox\":[{\"marker\":{\"colorbar\":{\"outlinewidth\":0,\"ticks\":\"\"}},\"type\":\"scattermapbox\"}],\"scatterpolar\":[{\"marker\":{\"colorbar\":{\"outlinewidth\":0,\"ticks\":\"\"}},\"type\":\"scatterpolar\"}],\"scatterpolargl\":[{\"marker\":{\"colorbar\":{\"outlinewidth\":0,\"ticks\":\"\"}},\"type\":\"scatterpolargl\"}],\"scatterternary\":[{\"marker\":{\"colorbar\":{\"outlinewidth\":0,\"ticks\":\"\"}},\"type\":\"scatterternary\"}],\"surface\":[{\"colorbar\":{\"outlinewidth\":0,\"ticks\":\"\"},\"colorscale\":[[0.0,\"#0d0887\"],[0.1111111111111111,\"#46039f\"],[0.2222222222222222,\"#7201a8\"],[0.3333333333333333,\"#9c179e\"],[0.4444444444444444,\"#bd3786\"],[0.5555555555555556,\"#d8576b\"],[0.6666666666666666,\"#ed7953\"],[0.7777777777777778,\"#fb9f3a\"],[0.8888888888888888,\"#fdca26\"],[1.0,\"#f0f921\"]],\"type\":\"surface\"}],\"table\":[{\"cells\":{\"fill\":{\"color\":\"#EBF0F8\"},\"line\":{\"color\":\"white\"}},\"header\":{\"fill\":{\"color\":\"#C8D4E3\"},\"line\":{\"color\":\"white\"}},\"type\":\"table\"}]},\"layout\":{\"annotationdefaults\":{\"arrowcolor\":\"#2a3f5f\",\"arrowhead\":0,\"arrowwidth\":1},\"autotypenumbers\":\"strict\",\"coloraxis\":{\"colorbar\":{\"outlinewidth\":0,\"ticks\":\"\"}},\"colorscale\":{\"diverging\":[[0,\"#8e0152\"],[0.1,\"#c51b7d\"],[0.2,\"#de77ae\"],[0.3,\"#f1b6da\"],[0.4,\"#fde0ef\"],[0.5,\"#f7f7f7\"],[0.6,\"#e6f5d0\"],[0.7,\"#b8e186\"],[0.8,\"#7fbc41\"],[0.9,\"#4d9221\"],[1,\"#276419\"]],\"sequential\":[[0.0,\"#0d0887\"],[0.1111111111111111,\"#46039f\"],[0.2222222222222222,\"#7201a8\"],[0.3333333333333333,\"#9c179e\"],[0.4444444444444444,\"#bd3786\"],[0.5555555555555556,\"#d8576b\"],[0.6666666666666666,\"#ed7953\"],[0.7777777777777778,\"#fb9f3a\"],[0.8888888888888888,\"#fdca26\"],[1.0,\"#f0f921\"]],\"sequentialminus\":[[0.0,\"#0d0887\"],[0.1111111111111111,\"#46039f\"],[0.2222222222222222,\"#7201a8\"],[0.3333333333333333,\"#9c179e\"],[0.4444444444444444,\"#bd3786\"],[0.5555555555555556,\"#d8576b\"],[0.6666666666666666,\"#ed7953\"],[0.7777777777777778,\"#fb9f3a\"],[0.8888888888888888,\"#fdca26\"],[1.0,\"#f0f921\"]]},\"colorway\":[\"#636efa\",\"#EF553B\",\"#00cc96\",\"#ab63fa\",\"#FFA15A\",\"#19d3f3\",\"#FF6692\",\"#B6E880\",\"#FF97FF\",\"#FECB52\"],\"font\":{\"color\":\"#2a3f5f\"},\"geo\":{\"bgcolor\":\"white\",\"lakecolor\":\"white\",\"landcolor\":\"#E5ECF6\",\"showlakes\":true,\"showland\":true,\"subunitcolor\":\"white\"},\"hoverlabel\":{\"align\":\"left\"},\"hovermode\":\"closest\",\"mapbox\":{\"style\":\"light\"},\"paper_bgcolor\":\"white\",\"plot_bgcolor\":\"#E5ECF6\",\"polar\":{\"angularaxis\":{\"gridcolor\":\"white\",\"linecolor\":\"white\",\"ticks\":\"\"},\"bgcolor\":\"#E5ECF6\",\"radialaxis\":{\"gridcolor\":\"white\",\"linecolor\":\"white\",\"ticks\":\"\"}},\"scene\":{\"xaxis\":{\"backgroundcolor\":\"#E5ECF6\",\"gridcolor\":\"white\",\"gridwidth\":2,\"linecolor\":\"white\",\"showbackground\":true,\"ticks\":\"\",\"zerolinecolor\":\"white\"},\"yaxis\":{\"backgroundcolor\":\"#E5ECF6\",\"gridcolor\":\"white\",\"gridwidth\":2,\"linecolor\":\"white\",\"showbackground\":true,\"ticks\":\"\",\"zerolinecolor\":\"white\"},\"zaxis\":{\"backgroundcolor\":\"#E5ECF6\",\"gridcolor\":\"white\",\"gridwidth\":2,\"linecolor\":\"white\",\"showbackground\":true,\"ticks\":\"\",\"zerolinecolor\":\"white\"}},\"shapedefaults\":{\"line\":{\"color\":\"#2a3f5f\"}},\"ternary\":{\"aaxis\":{\"gridcolor\":\"white\",\"linecolor\":\"white\",\"ticks\":\"\"},\"baxis\":{\"gridcolor\":\"white\",\"linecolor\":\"white\",\"ticks\":\"\"},\"bgcolor\":\"#E5ECF6\",\"caxis\":{\"gridcolor\":\"white\",\"linecolor\":\"white\",\"ticks\":\"\"}},\"title\":{\"x\":0.05},\"xaxis\":{\"automargin\":true,\"gridcolor\":\"white\",\"linecolor\":\"white\",\"ticks\":\"\",\"title\":{\"standoff\":15},\"zerolinecolor\":\"white\",\"zerolinewidth\":2},\"yaxis\":{\"automargin\":true,\"gridcolor\":\"white\",\"linecolor\":\"white\",\"ticks\":\"\",\"title\":{\"standoff\":15},\"zerolinecolor\":\"white\",\"zerolinewidth\":2}}},\"xaxis\":{\"dtick\":1,\"gridcolor\":\"rgb(0, 0, 0)\",\"side\":\"bottom\",\"ticks\":\"\",\"title\":{\"text\":\"Response Time\"}},\"yaxis\":{\"dtick\":1,\"ticks\":\"\",\"ticksuffix\":\"  \",\"title\":{\"text\":\"Max Pertubation during training\"}}},                        {\"responsive\": true}                    ).then(function(){\n",
       "                            \n",
       "var gd = document.getElementById('1f811f5b-d60a-4696-b368-fc54980a9494');\n",
       "var x = new MutationObserver(function (mutations, observer) {{\n",
       "        var display = window.getComputedStyle(gd).display;\n",
       "        if (!display || display === 'none') {{\n",
       "            console.log([gd, 'removed!']);\n",
       "            Plotly.purge(gd);\n",
       "            observer.disconnect();\n",
       "        }}\n",
       "}});\n",
       "\n",
       "// Listen for the removal of the full notebook cells\n",
       "var notebookContainer = gd.closest('#notebook-container');\n",
       "if (notebookContainer) {{\n",
       "    x.observe(notebookContainer, {childList: true});\n",
       "}}\n",
       "\n",
       "// Listen for the clearing of the current output cell\n",
       "var outputEl = gd.closest('.output');\n",
       "if (outputEl) {{\n",
       "    x.observe(outputEl, {childList: true});\n",
       "}}\n",
       "\n",
       "                        })                };                });            </script>        </div>"
      ]
     },
     "metadata": {},
     "output_type": "display_data"
    }
   ],
   "source": [
    "at = np.around(rewards.to_numpy(), decimals=2).astype(str)\n",
    "\n",
    "for i, row in enumerate(at):\n",
    "    for j, eleme in enumerate(row):\n",
    "        at[i,j] = str(eleme) + 's / ' + str(np.around(float(eleme)*0.25/5, decimals = 2)) +'g'\n",
    "\n",
    "fig = ff.create_annotated_heatmap(z=rewards.to_numpy(),y=[str(int(i))+'g' for i in df['g_force'].unique().tolist()], \n",
    "                                  x=[str(i) + 's' for i in df['response_rate'].unique().tolist()],  \n",
    "                                  annotation_text= at, colorscale='blues', showscale=True,\n",
    "                                 reversescale =False)\n",
    "\n",
    "fig.update_layout(\n",
    "#     title='Average evaluation seconds for response times vs max. pertubation during training',\n",
    "    xaxis_title=\"Response Time\",\n",
    "    yaxis_title=\"Max Pertubation during training\",\n",
    "    xaxis_side='bottom',\n",
    "    font=dict(size=15),\n",
    "    height=700,\n",
    ")\n",
    "fig.show()\n",
    "\n"
   ]
  },
  {
   "cell_type": "code",
   "execution_count": 12,
   "metadata": {},
   "outputs": [
    {
     "data": {
      "application/vnd.plotly.v1+json": {
       "config": {
        "plotlyServerURL": "https://plot.ly"
       },
       "data": [
        {
         "colorscale": [
          [
           0,
           "rgb(247,251,255)"
          ],
          [
           0.125,
           "rgb(222,235,247)"
          ],
          [
           0.25,
           "rgb(198,219,239)"
          ],
          [
           0.375,
           "rgb(158,202,225)"
          ],
          [
           0.5,
           "rgb(107,174,214)"
          ],
          [
           0.625,
           "rgb(66,146,198)"
          ],
          [
           0.75,
           "rgb(33,113,181)"
          ],
          [
           0.875,
           "rgb(8,81,156)"
          ],
          [
           1,
           "rgb(8,48,107)"
          ]
         ],
         "reversescale": false,
         "showscale": true,
         "type": "heatmap",
         "x": [
          "0.01s",
          "0.02s",
          "0.04s",
          "0.08s",
          "0.16s",
          "0.32s",
          "0.64s"
         ],
         "y": [
          "0g",
          "1g",
          "2g",
          "3g",
          "4g",
          "5g",
          "6g",
          "7g",
          "8g",
          "9g",
          "10g",
          "11g",
          "12g",
          "13g",
          "14g",
          "15g",
          "16g",
          "17g",
          "18g",
          "19g",
          "20g"
         ],
         "z": [
          [
           165.7109776130198,
           74.32754193453567,
           59.07801220646866,
           64.35391696423724,
           14.571918824657851,
           0.11063731741160154,
           0
          ],
          [
           273.7976422841911,
           108.24449973245969,
           40.24530820585583,
           48.41101926569022,
           6.092312527819315,
           0.11063731741160154,
           0
          ],
          [
           201.5420114426633,
           105.92142836745548,
           46.53820031240533,
           66.87078805937995,
           14.648310113584618,
           0.11063731741160154,
           0
          ],
          [
           151.71991586194355,
           91.10328372989432,
           38.49809110752137,
           67.82341400543365,
           1.4771987009438328,
           0.11063731741160154,
           0
          ],
          [
           118.91264405944949,
           143.96234693743338,
           27.896579431382076,
           68.98453180211007,
           1.8682638719826616,
           0.11063731741160154,
           0
          ],
          [
           206.6873417654138,
           69.38472033179241,
           27.234408478211016,
           71.14018056381697,
           1.6369821661526494,
           0.11063731741160154,
           0
          ],
          [
           106.55460974378441,
           67.64676940070142,
           51.68422786131926,
           56.43364157450003,
           4.324704449154799,
           0.11063731741160154,
           0
          ],
          [
           126.89126020450774,
           88.24225438808428,
           61.92764148318197,
           67.55268097756844,
           11.463646309972976,
           0.11063731741160154,
           0
          ],
          [
           110.46546551510076,
           86.55595669256175,
           43.60141896500138,
           73.26758289982077,
           6.270684579149993,
           0.11063731741160154,
           0
          ],
          [
           148.8695752532953,
           106.38340510498954,
           23.28380283008851,
           68.83106792097207,
           10.166987678174882,
           0.11063731741160154,
           0
          ],
          [
           135.1261091510957,
           97.38760187772898,
           41.028394701170136,
           51.823278992565065,
           1.3507105566059905,
           0.11063731741160154,
           0
          ],
          [
           159.56508480159368,
           88.89548159336367,
           32.5350291488989,
           42.891916808330436,
           0.7596506638215451,
           0.11063731741160154,
           0
          ],
          [
           102.91506934909675,
           104.2033112407807,
           39.71037566279266,
           65.64651041470708,
           0.5201132660781144,
           0.11063731741160154,
           0
          ],
          [
           114.46385743223436,
           106.8339091104232,
           28.868769555665118,
           73.46528642058831,
           3.0221063047070014,
           0.11063731741160154,
           0
          ],
          [
           127.06888225280272,
           85.48134898673462,
           26.186658011124006,
           70.4609222188453,
           1.4618699217288942,
           0.11063731741160154,
           0
          ],
          [
           94.25748191366507,
           90.58756031632802,
           31.33853728875681,
           65.7046075784754,
           15.640288436945578,
           0.11063731741160154,
           0
          ],
          [
           106.32636538863335,
           83.76403915174873,
           37.25660058470385,
           61.0577863336646,
           1.5376158412356122,
           0.11063731741160154,
           0
          ],
          [
           148.39691987274668,
           88.14097465945788,
           39.36801898023843,
           52.40966778910113,
           3.25719338329384,
           0.11063731741160154,
           0
          ],
          [
           154.0491301096464,
           124.16222403895429,
           30.37828419651846,
           71.01404332424462,
           19.845087891573808,
           0.11063731741160154,
           0
          ],
          [
           120.16716016378992,
           93.98825529511409,
           53.45201324102269,
           50.10883102132891,
           9.911379211821384,
           0.11063731741160154,
           0
          ],
          [
           105.98472109361816,
           68.35179929127885,
           27.196511286177582,
           62.88508438425758,
           7.131011511691112,
           0.11063731741160154,
           0
          ]
         ]
        }
       ],
       "layout": {
        "annotations": [
         {
          "font": {
           "color": "#FFFFFF"
          },
          "showarrow": false,
          "text": "165.71",
          "x": "0.01s",
          "xref": "x",
          "y": "0g",
          "yref": "y"
         },
         {
          "font": {
           "color": "#000000"
          },
          "showarrow": false,
          "text": "74.33",
          "x": "0.02s",
          "xref": "x",
          "y": "0g",
          "yref": "y"
         },
         {
          "font": {
           "color": "#000000"
          },
          "showarrow": false,
          "text": "59.08",
          "x": "0.04s",
          "xref": "x",
          "y": "0g",
          "yref": "y"
         },
         {
          "font": {
           "color": "#000000"
          },
          "showarrow": false,
          "text": "64.35",
          "x": "0.08s",
          "xref": "x",
          "y": "0g",
          "yref": "y"
         },
         {
          "font": {
           "color": "#000000"
          },
          "showarrow": false,
          "text": "14.57",
          "x": "0.16s",
          "xref": "x",
          "y": "0g",
          "yref": "y"
         },
         {
          "font": {
           "color": "#000000"
          },
          "showarrow": false,
          "text": "0.11",
          "x": "0.32s",
          "xref": "x",
          "y": "0g",
          "yref": "y"
         },
         {
          "font": {
           "color": "#000000"
          },
          "showarrow": false,
          "text": "0.0",
          "x": "0.64s",
          "xref": "x",
          "y": "0g",
          "yref": "y"
         },
         {
          "font": {
           "color": "#FFFFFF"
          },
          "showarrow": false,
          "text": "273.8",
          "x": "0.01s",
          "xref": "x",
          "y": "1g",
          "yref": "y"
         },
         {
          "font": {
           "color": "#000000"
          },
          "showarrow": false,
          "text": "108.24",
          "x": "0.02s",
          "xref": "x",
          "y": "1g",
          "yref": "y"
         },
         {
          "font": {
           "color": "#000000"
          },
          "showarrow": false,
          "text": "40.25",
          "x": "0.04s",
          "xref": "x",
          "y": "1g",
          "yref": "y"
         },
         {
          "font": {
           "color": "#000000"
          },
          "showarrow": false,
          "text": "48.41",
          "x": "0.08s",
          "xref": "x",
          "y": "1g",
          "yref": "y"
         },
         {
          "font": {
           "color": "#000000"
          },
          "showarrow": false,
          "text": "6.09",
          "x": "0.16s",
          "xref": "x",
          "y": "1g",
          "yref": "y"
         },
         {
          "font": {
           "color": "#000000"
          },
          "showarrow": false,
          "text": "0.11",
          "x": "0.32s",
          "xref": "x",
          "y": "1g",
          "yref": "y"
         },
         {
          "font": {
           "color": "#000000"
          },
          "showarrow": false,
          "text": "0.0",
          "x": "0.64s",
          "xref": "x",
          "y": "1g",
          "yref": "y"
         },
         {
          "font": {
           "color": "#FFFFFF"
          },
          "showarrow": false,
          "text": "201.54",
          "x": "0.01s",
          "xref": "x",
          "y": "2g",
          "yref": "y"
         },
         {
          "font": {
           "color": "#000000"
          },
          "showarrow": false,
          "text": "105.92",
          "x": "0.02s",
          "xref": "x",
          "y": "2g",
          "yref": "y"
         },
         {
          "font": {
           "color": "#000000"
          },
          "showarrow": false,
          "text": "46.54",
          "x": "0.04s",
          "xref": "x",
          "y": "2g",
          "yref": "y"
         },
         {
          "font": {
           "color": "#000000"
          },
          "showarrow": false,
          "text": "66.87",
          "x": "0.08s",
          "xref": "x",
          "y": "2g",
          "yref": "y"
         },
         {
          "font": {
           "color": "#000000"
          },
          "showarrow": false,
          "text": "14.65",
          "x": "0.16s",
          "xref": "x",
          "y": "2g",
          "yref": "y"
         },
         {
          "font": {
           "color": "#000000"
          },
          "showarrow": false,
          "text": "0.11",
          "x": "0.32s",
          "xref": "x",
          "y": "2g",
          "yref": "y"
         },
         {
          "font": {
           "color": "#000000"
          },
          "showarrow": false,
          "text": "0.0",
          "x": "0.64s",
          "xref": "x",
          "y": "2g",
          "yref": "y"
         },
         {
          "font": {
           "color": "#FFFFFF"
          },
          "showarrow": false,
          "text": "151.72",
          "x": "0.01s",
          "xref": "x",
          "y": "3g",
          "yref": "y"
         },
         {
          "font": {
           "color": "#000000"
          },
          "showarrow": false,
          "text": "91.1",
          "x": "0.02s",
          "xref": "x",
          "y": "3g",
          "yref": "y"
         },
         {
          "font": {
           "color": "#000000"
          },
          "showarrow": false,
          "text": "38.5",
          "x": "0.04s",
          "xref": "x",
          "y": "3g",
          "yref": "y"
         },
         {
          "font": {
           "color": "#000000"
          },
          "showarrow": false,
          "text": "67.82",
          "x": "0.08s",
          "xref": "x",
          "y": "3g",
          "yref": "y"
         },
         {
          "font": {
           "color": "#000000"
          },
          "showarrow": false,
          "text": "1.48",
          "x": "0.16s",
          "xref": "x",
          "y": "3g",
          "yref": "y"
         },
         {
          "font": {
           "color": "#000000"
          },
          "showarrow": false,
          "text": "0.11",
          "x": "0.32s",
          "xref": "x",
          "y": "3g",
          "yref": "y"
         },
         {
          "font": {
           "color": "#000000"
          },
          "showarrow": false,
          "text": "0.0",
          "x": "0.64s",
          "xref": "x",
          "y": "3g",
          "yref": "y"
         },
         {
          "font": {
           "color": "#000000"
          },
          "showarrow": false,
          "text": "118.91",
          "x": "0.01s",
          "xref": "x",
          "y": "4g",
          "yref": "y"
         },
         {
          "font": {
           "color": "#FFFFFF"
          },
          "showarrow": false,
          "text": "143.96",
          "x": "0.02s",
          "xref": "x",
          "y": "4g",
          "yref": "y"
         },
         {
          "font": {
           "color": "#000000"
          },
          "showarrow": false,
          "text": "27.9",
          "x": "0.04s",
          "xref": "x",
          "y": "4g",
          "yref": "y"
         },
         {
          "font": {
           "color": "#000000"
          },
          "showarrow": false,
          "text": "68.98",
          "x": "0.08s",
          "xref": "x",
          "y": "4g",
          "yref": "y"
         },
         {
          "font": {
           "color": "#000000"
          },
          "showarrow": false,
          "text": "1.87",
          "x": "0.16s",
          "xref": "x",
          "y": "4g",
          "yref": "y"
         },
         {
          "font": {
           "color": "#000000"
          },
          "showarrow": false,
          "text": "0.11",
          "x": "0.32s",
          "xref": "x",
          "y": "4g",
          "yref": "y"
         },
         {
          "font": {
           "color": "#000000"
          },
          "showarrow": false,
          "text": "0.0",
          "x": "0.64s",
          "xref": "x",
          "y": "4g",
          "yref": "y"
         },
         {
          "font": {
           "color": "#FFFFFF"
          },
          "showarrow": false,
          "text": "206.69",
          "x": "0.01s",
          "xref": "x",
          "y": "5g",
          "yref": "y"
         },
         {
          "font": {
           "color": "#000000"
          },
          "showarrow": false,
          "text": "69.38",
          "x": "0.02s",
          "xref": "x",
          "y": "5g",
          "yref": "y"
         },
         {
          "font": {
           "color": "#000000"
          },
          "showarrow": false,
          "text": "27.23",
          "x": "0.04s",
          "xref": "x",
          "y": "5g",
          "yref": "y"
         },
         {
          "font": {
           "color": "#000000"
          },
          "showarrow": false,
          "text": "71.14",
          "x": "0.08s",
          "xref": "x",
          "y": "5g",
          "yref": "y"
         },
         {
          "font": {
           "color": "#000000"
          },
          "showarrow": false,
          "text": "1.64",
          "x": "0.16s",
          "xref": "x",
          "y": "5g",
          "yref": "y"
         },
         {
          "font": {
           "color": "#000000"
          },
          "showarrow": false,
          "text": "0.11",
          "x": "0.32s",
          "xref": "x",
          "y": "5g",
          "yref": "y"
         },
         {
          "font": {
           "color": "#000000"
          },
          "showarrow": false,
          "text": "0.0",
          "x": "0.64s",
          "xref": "x",
          "y": "5g",
          "yref": "y"
         },
         {
          "font": {
           "color": "#000000"
          },
          "showarrow": false,
          "text": "106.55",
          "x": "0.01s",
          "xref": "x",
          "y": "6g",
          "yref": "y"
         },
         {
          "font": {
           "color": "#000000"
          },
          "showarrow": false,
          "text": "67.65",
          "x": "0.02s",
          "xref": "x",
          "y": "6g",
          "yref": "y"
         },
         {
          "font": {
           "color": "#000000"
          },
          "showarrow": false,
          "text": "51.68",
          "x": "0.04s",
          "xref": "x",
          "y": "6g",
          "yref": "y"
         },
         {
          "font": {
           "color": "#000000"
          },
          "showarrow": false,
          "text": "56.43",
          "x": "0.08s",
          "xref": "x",
          "y": "6g",
          "yref": "y"
         },
         {
          "font": {
           "color": "#000000"
          },
          "showarrow": false,
          "text": "4.32",
          "x": "0.16s",
          "xref": "x",
          "y": "6g",
          "yref": "y"
         },
         {
          "font": {
           "color": "#000000"
          },
          "showarrow": false,
          "text": "0.11",
          "x": "0.32s",
          "xref": "x",
          "y": "6g",
          "yref": "y"
         },
         {
          "font": {
           "color": "#000000"
          },
          "showarrow": false,
          "text": "0.0",
          "x": "0.64s",
          "xref": "x",
          "y": "6g",
          "yref": "y"
         },
         {
          "font": {
           "color": "#000000"
          },
          "showarrow": false,
          "text": "126.89",
          "x": "0.01s",
          "xref": "x",
          "y": "7g",
          "yref": "y"
         },
         {
          "font": {
           "color": "#000000"
          },
          "showarrow": false,
          "text": "88.24",
          "x": "0.02s",
          "xref": "x",
          "y": "7g",
          "yref": "y"
         },
         {
          "font": {
           "color": "#000000"
          },
          "showarrow": false,
          "text": "61.93",
          "x": "0.04s",
          "xref": "x",
          "y": "7g",
          "yref": "y"
         },
         {
          "font": {
           "color": "#000000"
          },
          "showarrow": false,
          "text": "67.55",
          "x": "0.08s",
          "xref": "x",
          "y": "7g",
          "yref": "y"
         },
         {
          "font": {
           "color": "#000000"
          },
          "showarrow": false,
          "text": "11.46",
          "x": "0.16s",
          "xref": "x",
          "y": "7g",
          "yref": "y"
         },
         {
          "font": {
           "color": "#000000"
          },
          "showarrow": false,
          "text": "0.11",
          "x": "0.32s",
          "xref": "x",
          "y": "7g",
          "yref": "y"
         },
         {
          "font": {
           "color": "#000000"
          },
          "showarrow": false,
          "text": "0.0",
          "x": "0.64s",
          "xref": "x",
          "y": "7g",
          "yref": "y"
         },
         {
          "font": {
           "color": "#000000"
          },
          "showarrow": false,
          "text": "110.47",
          "x": "0.01s",
          "xref": "x",
          "y": "8g",
          "yref": "y"
         },
         {
          "font": {
           "color": "#000000"
          },
          "showarrow": false,
          "text": "86.56",
          "x": "0.02s",
          "xref": "x",
          "y": "8g",
          "yref": "y"
         },
         {
          "font": {
           "color": "#000000"
          },
          "showarrow": false,
          "text": "43.6",
          "x": "0.04s",
          "xref": "x",
          "y": "8g",
          "yref": "y"
         },
         {
          "font": {
           "color": "#000000"
          },
          "showarrow": false,
          "text": "73.27",
          "x": "0.08s",
          "xref": "x",
          "y": "8g",
          "yref": "y"
         },
         {
          "font": {
           "color": "#000000"
          },
          "showarrow": false,
          "text": "6.27",
          "x": "0.16s",
          "xref": "x",
          "y": "8g",
          "yref": "y"
         },
         {
          "font": {
           "color": "#000000"
          },
          "showarrow": false,
          "text": "0.11",
          "x": "0.32s",
          "xref": "x",
          "y": "8g",
          "yref": "y"
         },
         {
          "font": {
           "color": "#000000"
          },
          "showarrow": false,
          "text": "0.0",
          "x": "0.64s",
          "xref": "x",
          "y": "8g",
          "yref": "y"
         },
         {
          "font": {
           "color": "#FFFFFF"
          },
          "showarrow": false,
          "text": "148.87",
          "x": "0.01s",
          "xref": "x",
          "y": "9g",
          "yref": "y"
         },
         {
          "font": {
           "color": "#000000"
          },
          "showarrow": false,
          "text": "106.38",
          "x": "0.02s",
          "xref": "x",
          "y": "9g",
          "yref": "y"
         },
         {
          "font": {
           "color": "#000000"
          },
          "showarrow": false,
          "text": "23.28",
          "x": "0.04s",
          "xref": "x",
          "y": "9g",
          "yref": "y"
         },
         {
          "font": {
           "color": "#000000"
          },
          "showarrow": false,
          "text": "68.83",
          "x": "0.08s",
          "xref": "x",
          "y": "9g",
          "yref": "y"
         },
         {
          "font": {
           "color": "#000000"
          },
          "showarrow": false,
          "text": "10.17",
          "x": "0.16s",
          "xref": "x",
          "y": "9g",
          "yref": "y"
         },
         {
          "font": {
           "color": "#000000"
          },
          "showarrow": false,
          "text": "0.11",
          "x": "0.32s",
          "xref": "x",
          "y": "9g",
          "yref": "y"
         },
         {
          "font": {
           "color": "#000000"
          },
          "showarrow": false,
          "text": "0.0",
          "x": "0.64s",
          "xref": "x",
          "y": "9g",
          "yref": "y"
         },
         {
          "font": {
           "color": "#000000"
          },
          "showarrow": false,
          "text": "135.13",
          "x": "0.01s",
          "xref": "x",
          "y": "10g",
          "yref": "y"
         },
         {
          "font": {
           "color": "#000000"
          },
          "showarrow": false,
          "text": "97.39",
          "x": "0.02s",
          "xref": "x",
          "y": "10g",
          "yref": "y"
         },
         {
          "font": {
           "color": "#000000"
          },
          "showarrow": false,
          "text": "41.03",
          "x": "0.04s",
          "xref": "x",
          "y": "10g",
          "yref": "y"
         },
         {
          "font": {
           "color": "#000000"
          },
          "showarrow": false,
          "text": "51.82",
          "x": "0.08s",
          "xref": "x",
          "y": "10g",
          "yref": "y"
         },
         {
          "font": {
           "color": "#000000"
          },
          "showarrow": false,
          "text": "1.35",
          "x": "0.16s",
          "xref": "x",
          "y": "10g",
          "yref": "y"
         },
         {
          "font": {
           "color": "#000000"
          },
          "showarrow": false,
          "text": "0.11",
          "x": "0.32s",
          "xref": "x",
          "y": "10g",
          "yref": "y"
         },
         {
          "font": {
           "color": "#000000"
          },
          "showarrow": false,
          "text": "0.0",
          "x": "0.64s",
          "xref": "x",
          "y": "10g",
          "yref": "y"
         },
         {
          "font": {
           "color": "#FFFFFF"
          },
          "showarrow": false,
          "text": "159.57",
          "x": "0.01s",
          "xref": "x",
          "y": "11g",
          "yref": "y"
         },
         {
          "font": {
           "color": "#000000"
          },
          "showarrow": false,
          "text": "88.9",
          "x": "0.02s",
          "xref": "x",
          "y": "11g",
          "yref": "y"
         },
         {
          "font": {
           "color": "#000000"
          },
          "showarrow": false,
          "text": "32.54",
          "x": "0.04s",
          "xref": "x",
          "y": "11g",
          "yref": "y"
         },
         {
          "font": {
           "color": "#000000"
          },
          "showarrow": false,
          "text": "42.89",
          "x": "0.08s",
          "xref": "x",
          "y": "11g",
          "yref": "y"
         },
         {
          "font": {
           "color": "#000000"
          },
          "showarrow": false,
          "text": "0.76",
          "x": "0.16s",
          "xref": "x",
          "y": "11g",
          "yref": "y"
         },
         {
          "font": {
           "color": "#000000"
          },
          "showarrow": false,
          "text": "0.11",
          "x": "0.32s",
          "xref": "x",
          "y": "11g",
          "yref": "y"
         },
         {
          "font": {
           "color": "#000000"
          },
          "showarrow": false,
          "text": "0.0",
          "x": "0.64s",
          "xref": "x",
          "y": "11g",
          "yref": "y"
         },
         {
          "font": {
           "color": "#000000"
          },
          "showarrow": false,
          "text": "102.92",
          "x": "0.01s",
          "xref": "x",
          "y": "12g",
          "yref": "y"
         },
         {
          "font": {
           "color": "#000000"
          },
          "showarrow": false,
          "text": "104.2",
          "x": "0.02s",
          "xref": "x",
          "y": "12g",
          "yref": "y"
         },
         {
          "font": {
           "color": "#000000"
          },
          "showarrow": false,
          "text": "39.71",
          "x": "0.04s",
          "xref": "x",
          "y": "12g",
          "yref": "y"
         },
         {
          "font": {
           "color": "#000000"
          },
          "showarrow": false,
          "text": "65.65",
          "x": "0.08s",
          "xref": "x",
          "y": "12g",
          "yref": "y"
         },
         {
          "font": {
           "color": "#000000"
          },
          "showarrow": false,
          "text": "0.52",
          "x": "0.16s",
          "xref": "x",
          "y": "12g",
          "yref": "y"
         },
         {
          "font": {
           "color": "#000000"
          },
          "showarrow": false,
          "text": "0.11",
          "x": "0.32s",
          "xref": "x",
          "y": "12g",
          "yref": "y"
         },
         {
          "font": {
           "color": "#000000"
          },
          "showarrow": false,
          "text": "0.0",
          "x": "0.64s",
          "xref": "x",
          "y": "12g",
          "yref": "y"
         },
         {
          "font": {
           "color": "#000000"
          },
          "showarrow": false,
          "text": "114.46",
          "x": "0.01s",
          "xref": "x",
          "y": "13g",
          "yref": "y"
         },
         {
          "font": {
           "color": "#000000"
          },
          "showarrow": false,
          "text": "106.83",
          "x": "0.02s",
          "xref": "x",
          "y": "13g",
          "yref": "y"
         },
         {
          "font": {
           "color": "#000000"
          },
          "showarrow": false,
          "text": "28.87",
          "x": "0.04s",
          "xref": "x",
          "y": "13g",
          "yref": "y"
         },
         {
          "font": {
           "color": "#000000"
          },
          "showarrow": false,
          "text": "73.47",
          "x": "0.08s",
          "xref": "x",
          "y": "13g",
          "yref": "y"
         },
         {
          "font": {
           "color": "#000000"
          },
          "showarrow": false,
          "text": "3.02",
          "x": "0.16s",
          "xref": "x",
          "y": "13g",
          "yref": "y"
         },
         {
          "font": {
           "color": "#000000"
          },
          "showarrow": false,
          "text": "0.11",
          "x": "0.32s",
          "xref": "x",
          "y": "13g",
          "yref": "y"
         },
         {
          "font": {
           "color": "#000000"
          },
          "showarrow": false,
          "text": "0.0",
          "x": "0.64s",
          "xref": "x",
          "y": "13g",
          "yref": "y"
         },
         {
          "font": {
           "color": "#000000"
          },
          "showarrow": false,
          "text": "127.07",
          "x": "0.01s",
          "xref": "x",
          "y": "14g",
          "yref": "y"
         },
         {
          "font": {
           "color": "#000000"
          },
          "showarrow": false,
          "text": "85.48",
          "x": "0.02s",
          "xref": "x",
          "y": "14g",
          "yref": "y"
         },
         {
          "font": {
           "color": "#000000"
          },
          "showarrow": false,
          "text": "26.19",
          "x": "0.04s",
          "xref": "x",
          "y": "14g",
          "yref": "y"
         },
         {
          "font": {
           "color": "#000000"
          },
          "showarrow": false,
          "text": "70.46",
          "x": "0.08s",
          "xref": "x",
          "y": "14g",
          "yref": "y"
         },
         {
          "font": {
           "color": "#000000"
          },
          "showarrow": false,
          "text": "1.46",
          "x": "0.16s",
          "xref": "x",
          "y": "14g",
          "yref": "y"
         },
         {
          "font": {
           "color": "#000000"
          },
          "showarrow": false,
          "text": "0.11",
          "x": "0.32s",
          "xref": "x",
          "y": "14g",
          "yref": "y"
         },
         {
          "font": {
           "color": "#000000"
          },
          "showarrow": false,
          "text": "0.0",
          "x": "0.64s",
          "xref": "x",
          "y": "14g",
          "yref": "y"
         },
         {
          "font": {
           "color": "#000000"
          },
          "showarrow": false,
          "text": "94.26",
          "x": "0.01s",
          "xref": "x",
          "y": "15g",
          "yref": "y"
         },
         {
          "font": {
           "color": "#000000"
          },
          "showarrow": false,
          "text": "90.59",
          "x": "0.02s",
          "xref": "x",
          "y": "15g",
          "yref": "y"
         },
         {
          "font": {
           "color": "#000000"
          },
          "showarrow": false,
          "text": "31.34",
          "x": "0.04s",
          "xref": "x",
          "y": "15g",
          "yref": "y"
         },
         {
          "font": {
           "color": "#000000"
          },
          "showarrow": false,
          "text": "65.7",
          "x": "0.08s",
          "xref": "x",
          "y": "15g",
          "yref": "y"
         },
         {
          "font": {
           "color": "#000000"
          },
          "showarrow": false,
          "text": "15.64",
          "x": "0.16s",
          "xref": "x",
          "y": "15g",
          "yref": "y"
         },
         {
          "font": {
           "color": "#000000"
          },
          "showarrow": false,
          "text": "0.11",
          "x": "0.32s",
          "xref": "x",
          "y": "15g",
          "yref": "y"
         },
         {
          "font": {
           "color": "#000000"
          },
          "showarrow": false,
          "text": "0.0",
          "x": "0.64s",
          "xref": "x",
          "y": "15g",
          "yref": "y"
         },
         {
          "font": {
           "color": "#000000"
          },
          "showarrow": false,
          "text": "106.33",
          "x": "0.01s",
          "xref": "x",
          "y": "16g",
          "yref": "y"
         },
         {
          "font": {
           "color": "#000000"
          },
          "showarrow": false,
          "text": "83.76",
          "x": "0.02s",
          "xref": "x",
          "y": "16g",
          "yref": "y"
         },
         {
          "font": {
           "color": "#000000"
          },
          "showarrow": false,
          "text": "37.26",
          "x": "0.04s",
          "xref": "x",
          "y": "16g",
          "yref": "y"
         },
         {
          "font": {
           "color": "#000000"
          },
          "showarrow": false,
          "text": "61.06",
          "x": "0.08s",
          "xref": "x",
          "y": "16g",
          "yref": "y"
         },
         {
          "font": {
           "color": "#000000"
          },
          "showarrow": false,
          "text": "1.54",
          "x": "0.16s",
          "xref": "x",
          "y": "16g",
          "yref": "y"
         },
         {
          "font": {
           "color": "#000000"
          },
          "showarrow": false,
          "text": "0.11",
          "x": "0.32s",
          "xref": "x",
          "y": "16g",
          "yref": "y"
         },
         {
          "font": {
           "color": "#000000"
          },
          "showarrow": false,
          "text": "0.0",
          "x": "0.64s",
          "xref": "x",
          "y": "16g",
          "yref": "y"
         },
         {
          "font": {
           "color": "#FFFFFF"
          },
          "showarrow": false,
          "text": "148.4",
          "x": "0.01s",
          "xref": "x",
          "y": "17g",
          "yref": "y"
         },
         {
          "font": {
           "color": "#000000"
          },
          "showarrow": false,
          "text": "88.14",
          "x": "0.02s",
          "xref": "x",
          "y": "17g",
          "yref": "y"
         },
         {
          "font": {
           "color": "#000000"
          },
          "showarrow": false,
          "text": "39.37",
          "x": "0.04s",
          "xref": "x",
          "y": "17g",
          "yref": "y"
         },
         {
          "font": {
           "color": "#000000"
          },
          "showarrow": false,
          "text": "52.41",
          "x": "0.08s",
          "xref": "x",
          "y": "17g",
          "yref": "y"
         },
         {
          "font": {
           "color": "#000000"
          },
          "showarrow": false,
          "text": "3.26",
          "x": "0.16s",
          "xref": "x",
          "y": "17g",
          "yref": "y"
         },
         {
          "font": {
           "color": "#000000"
          },
          "showarrow": false,
          "text": "0.11",
          "x": "0.32s",
          "xref": "x",
          "y": "17g",
          "yref": "y"
         },
         {
          "font": {
           "color": "#000000"
          },
          "showarrow": false,
          "text": "0.0",
          "x": "0.64s",
          "xref": "x",
          "y": "17g",
          "yref": "y"
         },
         {
          "font": {
           "color": "#FFFFFF"
          },
          "showarrow": false,
          "text": "154.05",
          "x": "0.01s",
          "xref": "x",
          "y": "18g",
          "yref": "y"
         },
         {
          "font": {
           "color": "#000000"
          },
          "showarrow": false,
          "text": "124.16",
          "x": "0.02s",
          "xref": "x",
          "y": "18g",
          "yref": "y"
         },
         {
          "font": {
           "color": "#000000"
          },
          "showarrow": false,
          "text": "30.38",
          "x": "0.04s",
          "xref": "x",
          "y": "18g",
          "yref": "y"
         },
         {
          "font": {
           "color": "#000000"
          },
          "showarrow": false,
          "text": "71.01",
          "x": "0.08s",
          "xref": "x",
          "y": "18g",
          "yref": "y"
         },
         {
          "font": {
           "color": "#000000"
          },
          "showarrow": false,
          "text": "19.85",
          "x": "0.16s",
          "xref": "x",
          "y": "18g",
          "yref": "y"
         },
         {
          "font": {
           "color": "#000000"
          },
          "showarrow": false,
          "text": "0.11",
          "x": "0.32s",
          "xref": "x",
          "y": "18g",
          "yref": "y"
         },
         {
          "font": {
           "color": "#000000"
          },
          "showarrow": false,
          "text": "0.0",
          "x": "0.64s",
          "xref": "x",
          "y": "18g",
          "yref": "y"
         },
         {
          "font": {
           "color": "#000000"
          },
          "showarrow": false,
          "text": "120.17",
          "x": "0.01s",
          "xref": "x",
          "y": "19g",
          "yref": "y"
         },
         {
          "font": {
           "color": "#000000"
          },
          "showarrow": false,
          "text": "93.99",
          "x": "0.02s",
          "xref": "x",
          "y": "19g",
          "yref": "y"
         },
         {
          "font": {
           "color": "#000000"
          },
          "showarrow": false,
          "text": "53.45",
          "x": "0.04s",
          "xref": "x",
          "y": "19g",
          "yref": "y"
         },
         {
          "font": {
           "color": "#000000"
          },
          "showarrow": false,
          "text": "50.11",
          "x": "0.08s",
          "xref": "x",
          "y": "19g",
          "yref": "y"
         },
         {
          "font": {
           "color": "#000000"
          },
          "showarrow": false,
          "text": "9.91",
          "x": "0.16s",
          "xref": "x",
          "y": "19g",
          "yref": "y"
         },
         {
          "font": {
           "color": "#000000"
          },
          "showarrow": false,
          "text": "0.11",
          "x": "0.32s",
          "xref": "x",
          "y": "19g",
          "yref": "y"
         },
         {
          "font": {
           "color": "#000000"
          },
          "showarrow": false,
          "text": "0.0",
          "x": "0.64s",
          "xref": "x",
          "y": "19g",
          "yref": "y"
         },
         {
          "font": {
           "color": "#000000"
          },
          "showarrow": false,
          "text": "105.98",
          "x": "0.01s",
          "xref": "x",
          "y": "20g",
          "yref": "y"
         },
         {
          "font": {
           "color": "#000000"
          },
          "showarrow": false,
          "text": "68.35",
          "x": "0.02s",
          "xref": "x",
          "y": "20g",
          "yref": "y"
         },
         {
          "font": {
           "color": "#000000"
          },
          "showarrow": false,
          "text": "27.2",
          "x": "0.04s",
          "xref": "x",
          "y": "20g",
          "yref": "y"
         },
         {
          "font": {
           "color": "#000000"
          },
          "showarrow": false,
          "text": "62.89",
          "x": "0.08s",
          "xref": "x",
          "y": "20g",
          "yref": "y"
         },
         {
          "font": {
           "color": "#000000"
          },
          "showarrow": false,
          "text": "7.13",
          "x": "0.16s",
          "xref": "x",
          "y": "20g",
          "yref": "y"
         },
         {
          "font": {
           "color": "#000000"
          },
          "showarrow": false,
          "text": "0.11",
          "x": "0.32s",
          "xref": "x",
          "y": "20g",
          "yref": "y"
         },
         {
          "font": {
           "color": "#000000"
          },
          "showarrow": false,
          "text": "0.0",
          "x": "0.64s",
          "xref": "x",
          "y": "20g",
          "yref": "y"
         }
        ],
        "font": {
         "size": 15
        },
        "height": 700,
        "template": {
         "data": {
          "bar": [
           {
            "error_x": {
             "color": "#2a3f5f"
            },
            "error_y": {
             "color": "#2a3f5f"
            },
            "marker": {
             "line": {
              "color": "#E5ECF6",
              "width": 0.5
             },
             "pattern": {
              "fillmode": "overlay",
              "size": 10,
              "solidity": 0.2
             }
            },
            "type": "bar"
           }
          ],
          "barpolar": [
           {
            "marker": {
             "line": {
              "color": "#E5ECF6",
              "width": 0.5
             },
             "pattern": {
              "fillmode": "overlay",
              "size": 10,
              "solidity": 0.2
             }
            },
            "type": "barpolar"
           }
          ],
          "carpet": [
           {
            "aaxis": {
             "endlinecolor": "#2a3f5f",
             "gridcolor": "white",
             "linecolor": "white",
             "minorgridcolor": "white",
             "startlinecolor": "#2a3f5f"
            },
            "baxis": {
             "endlinecolor": "#2a3f5f",
             "gridcolor": "white",
             "linecolor": "white",
             "minorgridcolor": "white",
             "startlinecolor": "#2a3f5f"
            },
            "type": "carpet"
           }
          ],
          "choropleth": [
           {
            "colorbar": {
             "outlinewidth": 0,
             "ticks": ""
            },
            "type": "choropleth"
           }
          ],
          "contour": [
           {
            "colorbar": {
             "outlinewidth": 0,
             "ticks": ""
            },
            "colorscale": [
             [
              0,
              "#0d0887"
             ],
             [
              0.1111111111111111,
              "#46039f"
             ],
             [
              0.2222222222222222,
              "#7201a8"
             ],
             [
              0.3333333333333333,
              "#9c179e"
             ],
             [
              0.4444444444444444,
              "#bd3786"
             ],
             [
              0.5555555555555556,
              "#d8576b"
             ],
             [
              0.6666666666666666,
              "#ed7953"
             ],
             [
              0.7777777777777778,
              "#fb9f3a"
             ],
             [
              0.8888888888888888,
              "#fdca26"
             ],
             [
              1,
              "#f0f921"
             ]
            ],
            "type": "contour"
           }
          ],
          "contourcarpet": [
           {
            "colorbar": {
             "outlinewidth": 0,
             "ticks": ""
            },
            "type": "contourcarpet"
           }
          ],
          "heatmap": [
           {
            "colorbar": {
             "outlinewidth": 0,
             "ticks": ""
            },
            "colorscale": [
             [
              0,
              "#0d0887"
             ],
             [
              0.1111111111111111,
              "#46039f"
             ],
             [
              0.2222222222222222,
              "#7201a8"
             ],
             [
              0.3333333333333333,
              "#9c179e"
             ],
             [
              0.4444444444444444,
              "#bd3786"
             ],
             [
              0.5555555555555556,
              "#d8576b"
             ],
             [
              0.6666666666666666,
              "#ed7953"
             ],
             [
              0.7777777777777778,
              "#fb9f3a"
             ],
             [
              0.8888888888888888,
              "#fdca26"
             ],
             [
              1,
              "#f0f921"
             ]
            ],
            "type": "heatmap"
           }
          ],
          "heatmapgl": [
           {
            "colorbar": {
             "outlinewidth": 0,
             "ticks": ""
            },
            "colorscale": [
             [
              0,
              "#0d0887"
             ],
             [
              0.1111111111111111,
              "#46039f"
             ],
             [
              0.2222222222222222,
              "#7201a8"
             ],
             [
              0.3333333333333333,
              "#9c179e"
             ],
             [
              0.4444444444444444,
              "#bd3786"
             ],
             [
              0.5555555555555556,
              "#d8576b"
             ],
             [
              0.6666666666666666,
              "#ed7953"
             ],
             [
              0.7777777777777778,
              "#fb9f3a"
             ],
             [
              0.8888888888888888,
              "#fdca26"
             ],
             [
              1,
              "#f0f921"
             ]
            ],
            "type": "heatmapgl"
           }
          ],
          "histogram": [
           {
            "marker": {
             "pattern": {
              "fillmode": "overlay",
              "size": 10,
              "solidity": 0.2
             }
            },
            "type": "histogram"
           }
          ],
          "histogram2d": [
           {
            "colorbar": {
             "outlinewidth": 0,
             "ticks": ""
            },
            "colorscale": [
             [
              0,
              "#0d0887"
             ],
             [
              0.1111111111111111,
              "#46039f"
             ],
             [
              0.2222222222222222,
              "#7201a8"
             ],
             [
              0.3333333333333333,
              "#9c179e"
             ],
             [
              0.4444444444444444,
              "#bd3786"
             ],
             [
              0.5555555555555556,
              "#d8576b"
             ],
             [
              0.6666666666666666,
              "#ed7953"
             ],
             [
              0.7777777777777778,
              "#fb9f3a"
             ],
             [
              0.8888888888888888,
              "#fdca26"
             ],
             [
              1,
              "#f0f921"
             ]
            ],
            "type": "histogram2d"
           }
          ],
          "histogram2dcontour": [
           {
            "colorbar": {
             "outlinewidth": 0,
             "ticks": ""
            },
            "colorscale": [
             [
              0,
              "#0d0887"
             ],
             [
              0.1111111111111111,
              "#46039f"
             ],
             [
              0.2222222222222222,
              "#7201a8"
             ],
             [
              0.3333333333333333,
              "#9c179e"
             ],
             [
              0.4444444444444444,
              "#bd3786"
             ],
             [
              0.5555555555555556,
              "#d8576b"
             ],
             [
              0.6666666666666666,
              "#ed7953"
             ],
             [
              0.7777777777777778,
              "#fb9f3a"
             ],
             [
              0.8888888888888888,
              "#fdca26"
             ],
             [
              1,
              "#f0f921"
             ]
            ],
            "type": "histogram2dcontour"
           }
          ],
          "mesh3d": [
           {
            "colorbar": {
             "outlinewidth": 0,
             "ticks": ""
            },
            "type": "mesh3d"
           }
          ],
          "parcoords": [
           {
            "line": {
             "colorbar": {
              "outlinewidth": 0,
              "ticks": ""
             }
            },
            "type": "parcoords"
           }
          ],
          "pie": [
           {
            "automargin": true,
            "type": "pie"
           }
          ],
          "scatter": [
           {
            "marker": {
             "colorbar": {
              "outlinewidth": 0,
              "ticks": ""
             }
            },
            "type": "scatter"
           }
          ],
          "scatter3d": [
           {
            "line": {
             "colorbar": {
              "outlinewidth": 0,
              "ticks": ""
             }
            },
            "marker": {
             "colorbar": {
              "outlinewidth": 0,
              "ticks": ""
             }
            },
            "type": "scatter3d"
           }
          ],
          "scattercarpet": [
           {
            "marker": {
             "colorbar": {
              "outlinewidth": 0,
              "ticks": ""
             }
            },
            "type": "scattercarpet"
           }
          ],
          "scattergeo": [
           {
            "marker": {
             "colorbar": {
              "outlinewidth": 0,
              "ticks": ""
             }
            },
            "type": "scattergeo"
           }
          ],
          "scattergl": [
           {
            "marker": {
             "colorbar": {
              "outlinewidth": 0,
              "ticks": ""
             }
            },
            "type": "scattergl"
           }
          ],
          "scattermapbox": [
           {
            "marker": {
             "colorbar": {
              "outlinewidth": 0,
              "ticks": ""
             }
            },
            "type": "scattermapbox"
           }
          ],
          "scatterpolar": [
           {
            "marker": {
             "colorbar": {
              "outlinewidth": 0,
              "ticks": ""
             }
            },
            "type": "scatterpolar"
           }
          ],
          "scatterpolargl": [
           {
            "marker": {
             "colorbar": {
              "outlinewidth": 0,
              "ticks": ""
             }
            },
            "type": "scatterpolargl"
           }
          ],
          "scatterternary": [
           {
            "marker": {
             "colorbar": {
              "outlinewidth": 0,
              "ticks": ""
             }
            },
            "type": "scatterternary"
           }
          ],
          "surface": [
           {
            "colorbar": {
             "outlinewidth": 0,
             "ticks": ""
            },
            "colorscale": [
             [
              0,
              "#0d0887"
             ],
             [
              0.1111111111111111,
              "#46039f"
             ],
             [
              0.2222222222222222,
              "#7201a8"
             ],
             [
              0.3333333333333333,
              "#9c179e"
             ],
             [
              0.4444444444444444,
              "#bd3786"
             ],
             [
              0.5555555555555556,
              "#d8576b"
             ],
             [
              0.6666666666666666,
              "#ed7953"
             ],
             [
              0.7777777777777778,
              "#fb9f3a"
             ],
             [
              0.8888888888888888,
              "#fdca26"
             ],
             [
              1,
              "#f0f921"
             ]
            ],
            "type": "surface"
           }
          ],
          "table": [
           {
            "cells": {
             "fill": {
              "color": "#EBF0F8"
             },
             "line": {
              "color": "white"
             }
            },
            "header": {
             "fill": {
              "color": "#C8D4E3"
             },
             "line": {
              "color": "white"
             }
            },
            "type": "table"
           }
          ]
         },
         "layout": {
          "annotationdefaults": {
           "arrowcolor": "#2a3f5f",
           "arrowhead": 0,
           "arrowwidth": 1
          },
          "autotypenumbers": "strict",
          "coloraxis": {
           "colorbar": {
            "outlinewidth": 0,
            "ticks": ""
           }
          },
          "colorscale": {
           "diverging": [
            [
             0,
             "#8e0152"
            ],
            [
             0.1,
             "#c51b7d"
            ],
            [
             0.2,
             "#de77ae"
            ],
            [
             0.3,
             "#f1b6da"
            ],
            [
             0.4,
             "#fde0ef"
            ],
            [
             0.5,
             "#f7f7f7"
            ],
            [
             0.6,
             "#e6f5d0"
            ],
            [
             0.7,
             "#b8e186"
            ],
            [
             0.8,
             "#7fbc41"
            ],
            [
             0.9,
             "#4d9221"
            ],
            [
             1,
             "#276419"
            ]
           ],
           "sequential": [
            [
             0,
             "#0d0887"
            ],
            [
             0.1111111111111111,
             "#46039f"
            ],
            [
             0.2222222222222222,
             "#7201a8"
            ],
            [
             0.3333333333333333,
             "#9c179e"
            ],
            [
             0.4444444444444444,
             "#bd3786"
            ],
            [
             0.5555555555555556,
             "#d8576b"
            ],
            [
             0.6666666666666666,
             "#ed7953"
            ],
            [
             0.7777777777777778,
             "#fb9f3a"
            ],
            [
             0.8888888888888888,
             "#fdca26"
            ],
            [
             1,
             "#f0f921"
            ]
           ],
           "sequentialminus": [
            [
             0,
             "#0d0887"
            ],
            [
             0.1111111111111111,
             "#46039f"
            ],
            [
             0.2222222222222222,
             "#7201a8"
            ],
            [
             0.3333333333333333,
             "#9c179e"
            ],
            [
             0.4444444444444444,
             "#bd3786"
            ],
            [
             0.5555555555555556,
             "#d8576b"
            ],
            [
             0.6666666666666666,
             "#ed7953"
            ],
            [
             0.7777777777777778,
             "#fb9f3a"
            ],
            [
             0.8888888888888888,
             "#fdca26"
            ],
            [
             1,
             "#f0f921"
            ]
           ]
          },
          "colorway": [
           "#636efa",
           "#EF553B",
           "#00cc96",
           "#ab63fa",
           "#FFA15A",
           "#19d3f3",
           "#FF6692",
           "#B6E880",
           "#FF97FF",
           "#FECB52"
          ],
          "font": {
           "color": "#2a3f5f"
          },
          "geo": {
           "bgcolor": "white",
           "lakecolor": "white",
           "landcolor": "#E5ECF6",
           "showlakes": true,
           "showland": true,
           "subunitcolor": "white"
          },
          "hoverlabel": {
           "align": "left"
          },
          "hovermode": "closest",
          "mapbox": {
           "style": "light"
          },
          "paper_bgcolor": "white",
          "plot_bgcolor": "#E5ECF6",
          "polar": {
           "angularaxis": {
            "gridcolor": "white",
            "linecolor": "white",
            "ticks": ""
           },
           "bgcolor": "#E5ECF6",
           "radialaxis": {
            "gridcolor": "white",
            "linecolor": "white",
            "ticks": ""
           }
          },
          "scene": {
           "xaxis": {
            "backgroundcolor": "#E5ECF6",
            "gridcolor": "white",
            "gridwidth": 2,
            "linecolor": "white",
            "showbackground": true,
            "ticks": "",
            "zerolinecolor": "white"
           },
           "yaxis": {
            "backgroundcolor": "#E5ECF6",
            "gridcolor": "white",
            "gridwidth": 2,
            "linecolor": "white",
            "showbackground": true,
            "ticks": "",
            "zerolinecolor": "white"
           },
           "zaxis": {
            "backgroundcolor": "#E5ECF6",
            "gridcolor": "white",
            "gridwidth": 2,
            "linecolor": "white",
            "showbackground": true,
            "ticks": "",
            "zerolinecolor": "white"
           }
          },
          "shapedefaults": {
           "line": {
            "color": "#2a3f5f"
           }
          },
          "ternary": {
           "aaxis": {
            "gridcolor": "white",
            "linecolor": "white",
            "ticks": ""
           },
           "baxis": {
            "gridcolor": "white",
            "linecolor": "white",
            "ticks": ""
           },
           "bgcolor": "#E5ECF6",
           "caxis": {
            "gridcolor": "white",
            "linecolor": "white",
            "ticks": ""
           }
          },
          "title": {
           "x": 0.05
          },
          "xaxis": {
           "automargin": true,
           "gridcolor": "white",
           "linecolor": "white",
           "ticks": "",
           "title": {
            "standoff": 15
           },
           "zerolinecolor": "white",
           "zerolinewidth": 2
          },
          "yaxis": {
           "automargin": true,
           "gridcolor": "white",
           "linecolor": "white",
           "ticks": "",
           "title": {
            "standoff": 15
           },
           "zerolinecolor": "white",
           "zerolinewidth": 2
          }
         }
        },
        "xaxis": {
         "dtick": 1,
         "gridcolor": "rgb(0, 0, 0)",
         "side": "bottom",
         "ticks": "",
         "title": {
          "text": "Response Time"
         }
        },
        "yaxis": {
         "dtick": 1,
         "ticks": "",
         "ticksuffix": "  ",
         "title": {
          "text": "Max Pertubation during training"
         }
        }
       }
      },
      "text/html": [
       "<div>                            <div id=\"9712020d-1d9d-4b74-b753-752d0bcd1be6\" class=\"plotly-graph-div\" style=\"height:700px; width:100%;\"></div>            <script type=\"text/javascript\">                require([\"plotly\"], function(Plotly) {                    window.PLOTLYENV=window.PLOTLYENV || {};                                    if (document.getElementById(\"9712020d-1d9d-4b74-b753-752d0bcd1be6\")) {                    Plotly.newPlot(                        \"9712020d-1d9d-4b74-b753-752d0bcd1be6\",                        [{\"colorscale\":[[0.0,\"rgb(247,251,255)\"],[0.125,\"rgb(222,235,247)\"],[0.25,\"rgb(198,219,239)\"],[0.375,\"rgb(158,202,225)\"],[0.5,\"rgb(107,174,214)\"],[0.625,\"rgb(66,146,198)\"],[0.75,\"rgb(33,113,181)\"],[0.875,\"rgb(8,81,156)\"],[1.0,\"rgb(8,48,107)\"]],\"reversescale\":false,\"showscale\":true,\"type\":\"heatmap\",\"x\":[\"0.01s\",\"0.02s\",\"0.04s\",\"0.08s\",\"0.16s\",\"0.32s\",\"0.64s\"],\"y\":[\"0g\",\"1g\",\"2g\",\"3g\",\"4g\",\"5g\",\"6g\",\"7g\",\"8g\",\"9g\",\"10g\",\"11g\",\"12g\",\"13g\",\"14g\",\"15g\",\"16g\",\"17g\",\"18g\",\"19g\",\"20g\"],\"z\":[[165.7109776130198,74.32754193453567,59.07801220646866,64.35391696423724,14.571918824657851,0.11063731741160154,0.0],[273.7976422841911,108.24449973245969,40.24530820585583,48.41101926569022,6.092312527819315,0.11063731741160154,0.0],[201.5420114426633,105.92142836745548,46.53820031240533,66.87078805937995,14.648310113584618,0.11063731741160154,0.0],[151.71991586194355,91.10328372989432,38.49809110752137,67.82341400543365,1.4771987009438328,0.11063731741160154,0.0],[118.91264405944949,143.96234693743338,27.896579431382076,68.98453180211007,1.8682638719826616,0.11063731741160154,0.0],[206.6873417654138,69.38472033179241,27.234408478211016,71.14018056381697,1.6369821661526494,0.11063731741160154,0.0],[106.55460974378441,67.64676940070142,51.68422786131926,56.43364157450003,4.324704449154799,0.11063731741160154,0.0],[126.89126020450774,88.24225438808428,61.92764148318197,67.55268097756844,11.463646309972976,0.11063731741160154,0.0],[110.46546551510076,86.55595669256175,43.60141896500138,73.26758289982077,6.270684579149993,0.11063731741160154,0.0],[148.8695752532953,106.38340510498954,23.28380283008851,68.83106792097207,10.166987678174882,0.11063731741160154,0.0],[135.1261091510957,97.38760187772898,41.028394701170136,51.823278992565065,1.3507105566059905,0.11063731741160154,0.0],[159.56508480159368,88.89548159336367,32.5350291488989,42.891916808330436,0.7596506638215451,0.11063731741160154,0.0],[102.91506934909675,104.2033112407807,39.71037566279266,65.64651041470708,0.5201132660781144,0.11063731741160154,0.0],[114.46385743223436,106.8339091104232,28.868769555665118,73.46528642058831,3.0221063047070014,0.11063731741160154,0.0],[127.06888225280272,85.48134898673462,26.186658011124006,70.4609222188453,1.4618699217288942,0.11063731741160154,0.0],[94.25748191366507,90.58756031632802,31.33853728875681,65.7046075784754,15.640288436945578,0.11063731741160154,0.0],[106.32636538863335,83.76403915174873,37.25660058470385,61.0577863336646,1.5376158412356122,0.11063731741160154,0.0],[148.39691987274668,88.14097465945788,39.36801898023843,52.40966778910113,3.25719338329384,0.11063731741160154,0.0],[154.0491301096464,124.16222403895429,30.37828419651846,71.01404332424462,19.845087891573808,0.11063731741160154,0.0],[120.16716016378992,93.98825529511409,53.45201324102269,50.10883102132891,9.911379211821384,0.11063731741160154,0.0],[105.98472109361816,68.35179929127885,27.196511286177582,62.88508438425758,7.131011511691112,0.11063731741160154,0.0]]}],                        {\"annotations\":[{\"font\":{\"color\":\"#FFFFFF\"},\"showarrow\":false,\"text\":\"165.71\",\"x\":\"0.01s\",\"xref\":\"x\",\"y\":\"0g\",\"yref\":\"y\"},{\"font\":{\"color\":\"#000000\"},\"showarrow\":false,\"text\":\"74.33\",\"x\":\"0.02s\",\"xref\":\"x\",\"y\":\"0g\",\"yref\":\"y\"},{\"font\":{\"color\":\"#000000\"},\"showarrow\":false,\"text\":\"59.08\",\"x\":\"0.04s\",\"xref\":\"x\",\"y\":\"0g\",\"yref\":\"y\"},{\"font\":{\"color\":\"#000000\"},\"showarrow\":false,\"text\":\"64.35\",\"x\":\"0.08s\",\"xref\":\"x\",\"y\":\"0g\",\"yref\":\"y\"},{\"font\":{\"color\":\"#000000\"},\"showarrow\":false,\"text\":\"14.57\",\"x\":\"0.16s\",\"xref\":\"x\",\"y\":\"0g\",\"yref\":\"y\"},{\"font\":{\"color\":\"#000000\"},\"showarrow\":false,\"text\":\"0.11\",\"x\":\"0.32s\",\"xref\":\"x\",\"y\":\"0g\",\"yref\":\"y\"},{\"font\":{\"color\":\"#000000\"},\"showarrow\":false,\"text\":\"0.0\",\"x\":\"0.64s\",\"xref\":\"x\",\"y\":\"0g\",\"yref\":\"y\"},{\"font\":{\"color\":\"#FFFFFF\"},\"showarrow\":false,\"text\":\"273.8\",\"x\":\"0.01s\",\"xref\":\"x\",\"y\":\"1g\",\"yref\":\"y\"},{\"font\":{\"color\":\"#000000\"},\"showarrow\":false,\"text\":\"108.24\",\"x\":\"0.02s\",\"xref\":\"x\",\"y\":\"1g\",\"yref\":\"y\"},{\"font\":{\"color\":\"#000000\"},\"showarrow\":false,\"text\":\"40.25\",\"x\":\"0.04s\",\"xref\":\"x\",\"y\":\"1g\",\"yref\":\"y\"},{\"font\":{\"color\":\"#000000\"},\"showarrow\":false,\"text\":\"48.41\",\"x\":\"0.08s\",\"xref\":\"x\",\"y\":\"1g\",\"yref\":\"y\"},{\"font\":{\"color\":\"#000000\"},\"showarrow\":false,\"text\":\"6.09\",\"x\":\"0.16s\",\"xref\":\"x\",\"y\":\"1g\",\"yref\":\"y\"},{\"font\":{\"color\":\"#000000\"},\"showarrow\":false,\"text\":\"0.11\",\"x\":\"0.32s\",\"xref\":\"x\",\"y\":\"1g\",\"yref\":\"y\"},{\"font\":{\"color\":\"#000000\"},\"showarrow\":false,\"text\":\"0.0\",\"x\":\"0.64s\",\"xref\":\"x\",\"y\":\"1g\",\"yref\":\"y\"},{\"font\":{\"color\":\"#FFFFFF\"},\"showarrow\":false,\"text\":\"201.54\",\"x\":\"0.01s\",\"xref\":\"x\",\"y\":\"2g\",\"yref\":\"y\"},{\"font\":{\"color\":\"#000000\"},\"showarrow\":false,\"text\":\"105.92\",\"x\":\"0.02s\",\"xref\":\"x\",\"y\":\"2g\",\"yref\":\"y\"},{\"font\":{\"color\":\"#000000\"},\"showarrow\":false,\"text\":\"46.54\",\"x\":\"0.04s\",\"xref\":\"x\",\"y\":\"2g\",\"yref\":\"y\"},{\"font\":{\"color\":\"#000000\"},\"showarrow\":false,\"text\":\"66.87\",\"x\":\"0.08s\",\"xref\":\"x\",\"y\":\"2g\",\"yref\":\"y\"},{\"font\":{\"color\":\"#000000\"},\"showarrow\":false,\"text\":\"14.65\",\"x\":\"0.16s\",\"xref\":\"x\",\"y\":\"2g\",\"yref\":\"y\"},{\"font\":{\"color\":\"#000000\"},\"showarrow\":false,\"text\":\"0.11\",\"x\":\"0.32s\",\"xref\":\"x\",\"y\":\"2g\",\"yref\":\"y\"},{\"font\":{\"color\":\"#000000\"},\"showarrow\":false,\"text\":\"0.0\",\"x\":\"0.64s\",\"xref\":\"x\",\"y\":\"2g\",\"yref\":\"y\"},{\"font\":{\"color\":\"#FFFFFF\"},\"showarrow\":false,\"text\":\"151.72\",\"x\":\"0.01s\",\"xref\":\"x\",\"y\":\"3g\",\"yref\":\"y\"},{\"font\":{\"color\":\"#000000\"},\"showarrow\":false,\"text\":\"91.1\",\"x\":\"0.02s\",\"xref\":\"x\",\"y\":\"3g\",\"yref\":\"y\"},{\"font\":{\"color\":\"#000000\"},\"showarrow\":false,\"text\":\"38.5\",\"x\":\"0.04s\",\"xref\":\"x\",\"y\":\"3g\",\"yref\":\"y\"},{\"font\":{\"color\":\"#000000\"},\"showarrow\":false,\"text\":\"67.82\",\"x\":\"0.08s\",\"xref\":\"x\",\"y\":\"3g\",\"yref\":\"y\"},{\"font\":{\"color\":\"#000000\"},\"showarrow\":false,\"text\":\"1.48\",\"x\":\"0.16s\",\"xref\":\"x\",\"y\":\"3g\",\"yref\":\"y\"},{\"font\":{\"color\":\"#000000\"},\"showarrow\":false,\"text\":\"0.11\",\"x\":\"0.32s\",\"xref\":\"x\",\"y\":\"3g\",\"yref\":\"y\"},{\"font\":{\"color\":\"#000000\"},\"showarrow\":false,\"text\":\"0.0\",\"x\":\"0.64s\",\"xref\":\"x\",\"y\":\"3g\",\"yref\":\"y\"},{\"font\":{\"color\":\"#000000\"},\"showarrow\":false,\"text\":\"118.91\",\"x\":\"0.01s\",\"xref\":\"x\",\"y\":\"4g\",\"yref\":\"y\"},{\"font\":{\"color\":\"#FFFFFF\"},\"showarrow\":false,\"text\":\"143.96\",\"x\":\"0.02s\",\"xref\":\"x\",\"y\":\"4g\",\"yref\":\"y\"},{\"font\":{\"color\":\"#000000\"},\"showarrow\":false,\"text\":\"27.9\",\"x\":\"0.04s\",\"xref\":\"x\",\"y\":\"4g\",\"yref\":\"y\"},{\"font\":{\"color\":\"#000000\"},\"showarrow\":false,\"text\":\"68.98\",\"x\":\"0.08s\",\"xref\":\"x\",\"y\":\"4g\",\"yref\":\"y\"},{\"font\":{\"color\":\"#000000\"},\"showarrow\":false,\"text\":\"1.87\",\"x\":\"0.16s\",\"xref\":\"x\",\"y\":\"4g\",\"yref\":\"y\"},{\"font\":{\"color\":\"#000000\"},\"showarrow\":false,\"text\":\"0.11\",\"x\":\"0.32s\",\"xref\":\"x\",\"y\":\"4g\",\"yref\":\"y\"},{\"font\":{\"color\":\"#000000\"},\"showarrow\":false,\"text\":\"0.0\",\"x\":\"0.64s\",\"xref\":\"x\",\"y\":\"4g\",\"yref\":\"y\"},{\"font\":{\"color\":\"#FFFFFF\"},\"showarrow\":false,\"text\":\"206.69\",\"x\":\"0.01s\",\"xref\":\"x\",\"y\":\"5g\",\"yref\":\"y\"},{\"font\":{\"color\":\"#000000\"},\"showarrow\":false,\"text\":\"69.38\",\"x\":\"0.02s\",\"xref\":\"x\",\"y\":\"5g\",\"yref\":\"y\"},{\"font\":{\"color\":\"#000000\"},\"showarrow\":false,\"text\":\"27.23\",\"x\":\"0.04s\",\"xref\":\"x\",\"y\":\"5g\",\"yref\":\"y\"},{\"font\":{\"color\":\"#000000\"},\"showarrow\":false,\"text\":\"71.14\",\"x\":\"0.08s\",\"xref\":\"x\",\"y\":\"5g\",\"yref\":\"y\"},{\"font\":{\"color\":\"#000000\"},\"showarrow\":false,\"text\":\"1.64\",\"x\":\"0.16s\",\"xref\":\"x\",\"y\":\"5g\",\"yref\":\"y\"},{\"font\":{\"color\":\"#000000\"},\"showarrow\":false,\"text\":\"0.11\",\"x\":\"0.32s\",\"xref\":\"x\",\"y\":\"5g\",\"yref\":\"y\"},{\"font\":{\"color\":\"#000000\"},\"showarrow\":false,\"text\":\"0.0\",\"x\":\"0.64s\",\"xref\":\"x\",\"y\":\"5g\",\"yref\":\"y\"},{\"font\":{\"color\":\"#000000\"},\"showarrow\":false,\"text\":\"106.55\",\"x\":\"0.01s\",\"xref\":\"x\",\"y\":\"6g\",\"yref\":\"y\"},{\"font\":{\"color\":\"#000000\"},\"showarrow\":false,\"text\":\"67.65\",\"x\":\"0.02s\",\"xref\":\"x\",\"y\":\"6g\",\"yref\":\"y\"},{\"font\":{\"color\":\"#000000\"},\"showarrow\":false,\"text\":\"51.68\",\"x\":\"0.04s\",\"xref\":\"x\",\"y\":\"6g\",\"yref\":\"y\"},{\"font\":{\"color\":\"#000000\"},\"showarrow\":false,\"text\":\"56.43\",\"x\":\"0.08s\",\"xref\":\"x\",\"y\":\"6g\",\"yref\":\"y\"},{\"font\":{\"color\":\"#000000\"},\"showarrow\":false,\"text\":\"4.32\",\"x\":\"0.16s\",\"xref\":\"x\",\"y\":\"6g\",\"yref\":\"y\"},{\"font\":{\"color\":\"#000000\"},\"showarrow\":false,\"text\":\"0.11\",\"x\":\"0.32s\",\"xref\":\"x\",\"y\":\"6g\",\"yref\":\"y\"},{\"font\":{\"color\":\"#000000\"},\"showarrow\":false,\"text\":\"0.0\",\"x\":\"0.64s\",\"xref\":\"x\",\"y\":\"6g\",\"yref\":\"y\"},{\"font\":{\"color\":\"#000000\"},\"showarrow\":false,\"text\":\"126.89\",\"x\":\"0.01s\",\"xref\":\"x\",\"y\":\"7g\",\"yref\":\"y\"},{\"font\":{\"color\":\"#000000\"},\"showarrow\":false,\"text\":\"88.24\",\"x\":\"0.02s\",\"xref\":\"x\",\"y\":\"7g\",\"yref\":\"y\"},{\"font\":{\"color\":\"#000000\"},\"showarrow\":false,\"text\":\"61.93\",\"x\":\"0.04s\",\"xref\":\"x\",\"y\":\"7g\",\"yref\":\"y\"},{\"font\":{\"color\":\"#000000\"},\"showarrow\":false,\"text\":\"67.55\",\"x\":\"0.08s\",\"xref\":\"x\",\"y\":\"7g\",\"yref\":\"y\"},{\"font\":{\"color\":\"#000000\"},\"showarrow\":false,\"text\":\"11.46\",\"x\":\"0.16s\",\"xref\":\"x\",\"y\":\"7g\",\"yref\":\"y\"},{\"font\":{\"color\":\"#000000\"},\"showarrow\":false,\"text\":\"0.11\",\"x\":\"0.32s\",\"xref\":\"x\",\"y\":\"7g\",\"yref\":\"y\"},{\"font\":{\"color\":\"#000000\"},\"showarrow\":false,\"text\":\"0.0\",\"x\":\"0.64s\",\"xref\":\"x\",\"y\":\"7g\",\"yref\":\"y\"},{\"font\":{\"color\":\"#000000\"},\"showarrow\":false,\"text\":\"110.47\",\"x\":\"0.01s\",\"xref\":\"x\",\"y\":\"8g\",\"yref\":\"y\"},{\"font\":{\"color\":\"#000000\"},\"showarrow\":false,\"text\":\"86.56\",\"x\":\"0.02s\",\"xref\":\"x\",\"y\":\"8g\",\"yref\":\"y\"},{\"font\":{\"color\":\"#000000\"},\"showarrow\":false,\"text\":\"43.6\",\"x\":\"0.04s\",\"xref\":\"x\",\"y\":\"8g\",\"yref\":\"y\"},{\"font\":{\"color\":\"#000000\"},\"showarrow\":false,\"text\":\"73.27\",\"x\":\"0.08s\",\"xref\":\"x\",\"y\":\"8g\",\"yref\":\"y\"},{\"font\":{\"color\":\"#000000\"},\"showarrow\":false,\"text\":\"6.27\",\"x\":\"0.16s\",\"xref\":\"x\",\"y\":\"8g\",\"yref\":\"y\"},{\"font\":{\"color\":\"#000000\"},\"showarrow\":false,\"text\":\"0.11\",\"x\":\"0.32s\",\"xref\":\"x\",\"y\":\"8g\",\"yref\":\"y\"},{\"font\":{\"color\":\"#000000\"},\"showarrow\":false,\"text\":\"0.0\",\"x\":\"0.64s\",\"xref\":\"x\",\"y\":\"8g\",\"yref\":\"y\"},{\"font\":{\"color\":\"#FFFFFF\"},\"showarrow\":false,\"text\":\"148.87\",\"x\":\"0.01s\",\"xref\":\"x\",\"y\":\"9g\",\"yref\":\"y\"},{\"font\":{\"color\":\"#000000\"},\"showarrow\":false,\"text\":\"106.38\",\"x\":\"0.02s\",\"xref\":\"x\",\"y\":\"9g\",\"yref\":\"y\"},{\"font\":{\"color\":\"#000000\"},\"showarrow\":false,\"text\":\"23.28\",\"x\":\"0.04s\",\"xref\":\"x\",\"y\":\"9g\",\"yref\":\"y\"},{\"font\":{\"color\":\"#000000\"},\"showarrow\":false,\"text\":\"68.83\",\"x\":\"0.08s\",\"xref\":\"x\",\"y\":\"9g\",\"yref\":\"y\"},{\"font\":{\"color\":\"#000000\"},\"showarrow\":false,\"text\":\"10.17\",\"x\":\"0.16s\",\"xref\":\"x\",\"y\":\"9g\",\"yref\":\"y\"},{\"font\":{\"color\":\"#000000\"},\"showarrow\":false,\"text\":\"0.11\",\"x\":\"0.32s\",\"xref\":\"x\",\"y\":\"9g\",\"yref\":\"y\"},{\"font\":{\"color\":\"#000000\"},\"showarrow\":false,\"text\":\"0.0\",\"x\":\"0.64s\",\"xref\":\"x\",\"y\":\"9g\",\"yref\":\"y\"},{\"font\":{\"color\":\"#000000\"},\"showarrow\":false,\"text\":\"135.13\",\"x\":\"0.01s\",\"xref\":\"x\",\"y\":\"10g\",\"yref\":\"y\"},{\"font\":{\"color\":\"#000000\"},\"showarrow\":false,\"text\":\"97.39\",\"x\":\"0.02s\",\"xref\":\"x\",\"y\":\"10g\",\"yref\":\"y\"},{\"font\":{\"color\":\"#000000\"},\"showarrow\":false,\"text\":\"41.03\",\"x\":\"0.04s\",\"xref\":\"x\",\"y\":\"10g\",\"yref\":\"y\"},{\"font\":{\"color\":\"#000000\"},\"showarrow\":false,\"text\":\"51.82\",\"x\":\"0.08s\",\"xref\":\"x\",\"y\":\"10g\",\"yref\":\"y\"},{\"font\":{\"color\":\"#000000\"},\"showarrow\":false,\"text\":\"1.35\",\"x\":\"0.16s\",\"xref\":\"x\",\"y\":\"10g\",\"yref\":\"y\"},{\"font\":{\"color\":\"#000000\"},\"showarrow\":false,\"text\":\"0.11\",\"x\":\"0.32s\",\"xref\":\"x\",\"y\":\"10g\",\"yref\":\"y\"},{\"font\":{\"color\":\"#000000\"},\"showarrow\":false,\"text\":\"0.0\",\"x\":\"0.64s\",\"xref\":\"x\",\"y\":\"10g\",\"yref\":\"y\"},{\"font\":{\"color\":\"#FFFFFF\"},\"showarrow\":false,\"text\":\"159.57\",\"x\":\"0.01s\",\"xref\":\"x\",\"y\":\"11g\",\"yref\":\"y\"},{\"font\":{\"color\":\"#000000\"},\"showarrow\":false,\"text\":\"88.9\",\"x\":\"0.02s\",\"xref\":\"x\",\"y\":\"11g\",\"yref\":\"y\"},{\"font\":{\"color\":\"#000000\"},\"showarrow\":false,\"text\":\"32.54\",\"x\":\"0.04s\",\"xref\":\"x\",\"y\":\"11g\",\"yref\":\"y\"},{\"font\":{\"color\":\"#000000\"},\"showarrow\":false,\"text\":\"42.89\",\"x\":\"0.08s\",\"xref\":\"x\",\"y\":\"11g\",\"yref\":\"y\"},{\"font\":{\"color\":\"#000000\"},\"showarrow\":false,\"text\":\"0.76\",\"x\":\"0.16s\",\"xref\":\"x\",\"y\":\"11g\",\"yref\":\"y\"},{\"font\":{\"color\":\"#000000\"},\"showarrow\":false,\"text\":\"0.11\",\"x\":\"0.32s\",\"xref\":\"x\",\"y\":\"11g\",\"yref\":\"y\"},{\"font\":{\"color\":\"#000000\"},\"showarrow\":false,\"text\":\"0.0\",\"x\":\"0.64s\",\"xref\":\"x\",\"y\":\"11g\",\"yref\":\"y\"},{\"font\":{\"color\":\"#000000\"},\"showarrow\":false,\"text\":\"102.92\",\"x\":\"0.01s\",\"xref\":\"x\",\"y\":\"12g\",\"yref\":\"y\"},{\"font\":{\"color\":\"#000000\"},\"showarrow\":false,\"text\":\"104.2\",\"x\":\"0.02s\",\"xref\":\"x\",\"y\":\"12g\",\"yref\":\"y\"},{\"font\":{\"color\":\"#000000\"},\"showarrow\":false,\"text\":\"39.71\",\"x\":\"0.04s\",\"xref\":\"x\",\"y\":\"12g\",\"yref\":\"y\"},{\"font\":{\"color\":\"#000000\"},\"showarrow\":false,\"text\":\"65.65\",\"x\":\"0.08s\",\"xref\":\"x\",\"y\":\"12g\",\"yref\":\"y\"},{\"font\":{\"color\":\"#000000\"},\"showarrow\":false,\"text\":\"0.52\",\"x\":\"0.16s\",\"xref\":\"x\",\"y\":\"12g\",\"yref\":\"y\"},{\"font\":{\"color\":\"#000000\"},\"showarrow\":false,\"text\":\"0.11\",\"x\":\"0.32s\",\"xref\":\"x\",\"y\":\"12g\",\"yref\":\"y\"},{\"font\":{\"color\":\"#000000\"},\"showarrow\":false,\"text\":\"0.0\",\"x\":\"0.64s\",\"xref\":\"x\",\"y\":\"12g\",\"yref\":\"y\"},{\"font\":{\"color\":\"#000000\"},\"showarrow\":false,\"text\":\"114.46\",\"x\":\"0.01s\",\"xref\":\"x\",\"y\":\"13g\",\"yref\":\"y\"},{\"font\":{\"color\":\"#000000\"},\"showarrow\":false,\"text\":\"106.83\",\"x\":\"0.02s\",\"xref\":\"x\",\"y\":\"13g\",\"yref\":\"y\"},{\"font\":{\"color\":\"#000000\"},\"showarrow\":false,\"text\":\"28.87\",\"x\":\"0.04s\",\"xref\":\"x\",\"y\":\"13g\",\"yref\":\"y\"},{\"font\":{\"color\":\"#000000\"},\"showarrow\":false,\"text\":\"73.47\",\"x\":\"0.08s\",\"xref\":\"x\",\"y\":\"13g\",\"yref\":\"y\"},{\"font\":{\"color\":\"#000000\"},\"showarrow\":false,\"text\":\"3.02\",\"x\":\"0.16s\",\"xref\":\"x\",\"y\":\"13g\",\"yref\":\"y\"},{\"font\":{\"color\":\"#000000\"},\"showarrow\":false,\"text\":\"0.11\",\"x\":\"0.32s\",\"xref\":\"x\",\"y\":\"13g\",\"yref\":\"y\"},{\"font\":{\"color\":\"#000000\"},\"showarrow\":false,\"text\":\"0.0\",\"x\":\"0.64s\",\"xref\":\"x\",\"y\":\"13g\",\"yref\":\"y\"},{\"font\":{\"color\":\"#000000\"},\"showarrow\":false,\"text\":\"127.07\",\"x\":\"0.01s\",\"xref\":\"x\",\"y\":\"14g\",\"yref\":\"y\"},{\"font\":{\"color\":\"#000000\"},\"showarrow\":false,\"text\":\"85.48\",\"x\":\"0.02s\",\"xref\":\"x\",\"y\":\"14g\",\"yref\":\"y\"},{\"font\":{\"color\":\"#000000\"},\"showarrow\":false,\"text\":\"26.19\",\"x\":\"0.04s\",\"xref\":\"x\",\"y\":\"14g\",\"yref\":\"y\"},{\"font\":{\"color\":\"#000000\"},\"showarrow\":false,\"text\":\"70.46\",\"x\":\"0.08s\",\"xref\":\"x\",\"y\":\"14g\",\"yref\":\"y\"},{\"font\":{\"color\":\"#000000\"},\"showarrow\":false,\"text\":\"1.46\",\"x\":\"0.16s\",\"xref\":\"x\",\"y\":\"14g\",\"yref\":\"y\"},{\"font\":{\"color\":\"#000000\"},\"showarrow\":false,\"text\":\"0.11\",\"x\":\"0.32s\",\"xref\":\"x\",\"y\":\"14g\",\"yref\":\"y\"},{\"font\":{\"color\":\"#000000\"},\"showarrow\":false,\"text\":\"0.0\",\"x\":\"0.64s\",\"xref\":\"x\",\"y\":\"14g\",\"yref\":\"y\"},{\"font\":{\"color\":\"#000000\"},\"showarrow\":false,\"text\":\"94.26\",\"x\":\"0.01s\",\"xref\":\"x\",\"y\":\"15g\",\"yref\":\"y\"},{\"font\":{\"color\":\"#000000\"},\"showarrow\":false,\"text\":\"90.59\",\"x\":\"0.02s\",\"xref\":\"x\",\"y\":\"15g\",\"yref\":\"y\"},{\"font\":{\"color\":\"#000000\"},\"showarrow\":false,\"text\":\"31.34\",\"x\":\"0.04s\",\"xref\":\"x\",\"y\":\"15g\",\"yref\":\"y\"},{\"font\":{\"color\":\"#000000\"},\"showarrow\":false,\"text\":\"65.7\",\"x\":\"0.08s\",\"xref\":\"x\",\"y\":\"15g\",\"yref\":\"y\"},{\"font\":{\"color\":\"#000000\"},\"showarrow\":false,\"text\":\"15.64\",\"x\":\"0.16s\",\"xref\":\"x\",\"y\":\"15g\",\"yref\":\"y\"},{\"font\":{\"color\":\"#000000\"},\"showarrow\":false,\"text\":\"0.11\",\"x\":\"0.32s\",\"xref\":\"x\",\"y\":\"15g\",\"yref\":\"y\"},{\"font\":{\"color\":\"#000000\"},\"showarrow\":false,\"text\":\"0.0\",\"x\":\"0.64s\",\"xref\":\"x\",\"y\":\"15g\",\"yref\":\"y\"},{\"font\":{\"color\":\"#000000\"},\"showarrow\":false,\"text\":\"106.33\",\"x\":\"0.01s\",\"xref\":\"x\",\"y\":\"16g\",\"yref\":\"y\"},{\"font\":{\"color\":\"#000000\"},\"showarrow\":false,\"text\":\"83.76\",\"x\":\"0.02s\",\"xref\":\"x\",\"y\":\"16g\",\"yref\":\"y\"},{\"font\":{\"color\":\"#000000\"},\"showarrow\":false,\"text\":\"37.26\",\"x\":\"0.04s\",\"xref\":\"x\",\"y\":\"16g\",\"yref\":\"y\"},{\"font\":{\"color\":\"#000000\"},\"showarrow\":false,\"text\":\"61.06\",\"x\":\"0.08s\",\"xref\":\"x\",\"y\":\"16g\",\"yref\":\"y\"},{\"font\":{\"color\":\"#000000\"},\"showarrow\":false,\"text\":\"1.54\",\"x\":\"0.16s\",\"xref\":\"x\",\"y\":\"16g\",\"yref\":\"y\"},{\"font\":{\"color\":\"#000000\"},\"showarrow\":false,\"text\":\"0.11\",\"x\":\"0.32s\",\"xref\":\"x\",\"y\":\"16g\",\"yref\":\"y\"},{\"font\":{\"color\":\"#000000\"},\"showarrow\":false,\"text\":\"0.0\",\"x\":\"0.64s\",\"xref\":\"x\",\"y\":\"16g\",\"yref\":\"y\"},{\"font\":{\"color\":\"#FFFFFF\"},\"showarrow\":false,\"text\":\"148.4\",\"x\":\"0.01s\",\"xref\":\"x\",\"y\":\"17g\",\"yref\":\"y\"},{\"font\":{\"color\":\"#000000\"},\"showarrow\":false,\"text\":\"88.14\",\"x\":\"0.02s\",\"xref\":\"x\",\"y\":\"17g\",\"yref\":\"y\"},{\"font\":{\"color\":\"#000000\"},\"showarrow\":false,\"text\":\"39.37\",\"x\":\"0.04s\",\"xref\":\"x\",\"y\":\"17g\",\"yref\":\"y\"},{\"font\":{\"color\":\"#000000\"},\"showarrow\":false,\"text\":\"52.41\",\"x\":\"0.08s\",\"xref\":\"x\",\"y\":\"17g\",\"yref\":\"y\"},{\"font\":{\"color\":\"#000000\"},\"showarrow\":false,\"text\":\"3.26\",\"x\":\"0.16s\",\"xref\":\"x\",\"y\":\"17g\",\"yref\":\"y\"},{\"font\":{\"color\":\"#000000\"},\"showarrow\":false,\"text\":\"0.11\",\"x\":\"0.32s\",\"xref\":\"x\",\"y\":\"17g\",\"yref\":\"y\"},{\"font\":{\"color\":\"#000000\"},\"showarrow\":false,\"text\":\"0.0\",\"x\":\"0.64s\",\"xref\":\"x\",\"y\":\"17g\",\"yref\":\"y\"},{\"font\":{\"color\":\"#FFFFFF\"},\"showarrow\":false,\"text\":\"154.05\",\"x\":\"0.01s\",\"xref\":\"x\",\"y\":\"18g\",\"yref\":\"y\"},{\"font\":{\"color\":\"#000000\"},\"showarrow\":false,\"text\":\"124.16\",\"x\":\"0.02s\",\"xref\":\"x\",\"y\":\"18g\",\"yref\":\"y\"},{\"font\":{\"color\":\"#000000\"},\"showarrow\":false,\"text\":\"30.38\",\"x\":\"0.04s\",\"xref\":\"x\",\"y\":\"18g\",\"yref\":\"y\"},{\"font\":{\"color\":\"#000000\"},\"showarrow\":false,\"text\":\"71.01\",\"x\":\"0.08s\",\"xref\":\"x\",\"y\":\"18g\",\"yref\":\"y\"},{\"font\":{\"color\":\"#000000\"},\"showarrow\":false,\"text\":\"19.85\",\"x\":\"0.16s\",\"xref\":\"x\",\"y\":\"18g\",\"yref\":\"y\"},{\"font\":{\"color\":\"#000000\"},\"showarrow\":false,\"text\":\"0.11\",\"x\":\"0.32s\",\"xref\":\"x\",\"y\":\"18g\",\"yref\":\"y\"},{\"font\":{\"color\":\"#000000\"},\"showarrow\":false,\"text\":\"0.0\",\"x\":\"0.64s\",\"xref\":\"x\",\"y\":\"18g\",\"yref\":\"y\"},{\"font\":{\"color\":\"#000000\"},\"showarrow\":false,\"text\":\"120.17\",\"x\":\"0.01s\",\"xref\":\"x\",\"y\":\"19g\",\"yref\":\"y\"},{\"font\":{\"color\":\"#000000\"},\"showarrow\":false,\"text\":\"93.99\",\"x\":\"0.02s\",\"xref\":\"x\",\"y\":\"19g\",\"yref\":\"y\"},{\"font\":{\"color\":\"#000000\"},\"showarrow\":false,\"text\":\"53.45\",\"x\":\"0.04s\",\"xref\":\"x\",\"y\":\"19g\",\"yref\":\"y\"},{\"font\":{\"color\":\"#000000\"},\"showarrow\":false,\"text\":\"50.11\",\"x\":\"0.08s\",\"xref\":\"x\",\"y\":\"19g\",\"yref\":\"y\"},{\"font\":{\"color\":\"#000000\"},\"showarrow\":false,\"text\":\"9.91\",\"x\":\"0.16s\",\"xref\":\"x\",\"y\":\"19g\",\"yref\":\"y\"},{\"font\":{\"color\":\"#000000\"},\"showarrow\":false,\"text\":\"0.11\",\"x\":\"0.32s\",\"xref\":\"x\",\"y\":\"19g\",\"yref\":\"y\"},{\"font\":{\"color\":\"#000000\"},\"showarrow\":false,\"text\":\"0.0\",\"x\":\"0.64s\",\"xref\":\"x\",\"y\":\"19g\",\"yref\":\"y\"},{\"font\":{\"color\":\"#000000\"},\"showarrow\":false,\"text\":\"105.98\",\"x\":\"0.01s\",\"xref\":\"x\",\"y\":\"20g\",\"yref\":\"y\"},{\"font\":{\"color\":\"#000000\"},\"showarrow\":false,\"text\":\"68.35\",\"x\":\"0.02s\",\"xref\":\"x\",\"y\":\"20g\",\"yref\":\"y\"},{\"font\":{\"color\":\"#000000\"},\"showarrow\":false,\"text\":\"27.2\",\"x\":\"0.04s\",\"xref\":\"x\",\"y\":\"20g\",\"yref\":\"y\"},{\"font\":{\"color\":\"#000000\"},\"showarrow\":false,\"text\":\"62.89\",\"x\":\"0.08s\",\"xref\":\"x\",\"y\":\"20g\",\"yref\":\"y\"},{\"font\":{\"color\":\"#000000\"},\"showarrow\":false,\"text\":\"7.13\",\"x\":\"0.16s\",\"xref\":\"x\",\"y\":\"20g\",\"yref\":\"y\"},{\"font\":{\"color\":\"#000000\"},\"showarrow\":false,\"text\":\"0.11\",\"x\":\"0.32s\",\"xref\":\"x\",\"y\":\"20g\",\"yref\":\"y\"},{\"font\":{\"color\":\"#000000\"},\"showarrow\":false,\"text\":\"0.0\",\"x\":\"0.64s\",\"xref\":\"x\",\"y\":\"20g\",\"yref\":\"y\"}],\"font\":{\"size\":15},\"height\":700,\"template\":{\"data\":{\"bar\":[{\"error_x\":{\"color\":\"#2a3f5f\"},\"error_y\":{\"color\":\"#2a3f5f\"},\"marker\":{\"line\":{\"color\":\"#E5ECF6\",\"width\":0.5},\"pattern\":{\"fillmode\":\"overlay\",\"size\":10,\"solidity\":0.2}},\"type\":\"bar\"}],\"barpolar\":[{\"marker\":{\"line\":{\"color\":\"#E5ECF6\",\"width\":0.5},\"pattern\":{\"fillmode\":\"overlay\",\"size\":10,\"solidity\":0.2}},\"type\":\"barpolar\"}],\"carpet\":[{\"aaxis\":{\"endlinecolor\":\"#2a3f5f\",\"gridcolor\":\"white\",\"linecolor\":\"white\",\"minorgridcolor\":\"white\",\"startlinecolor\":\"#2a3f5f\"},\"baxis\":{\"endlinecolor\":\"#2a3f5f\",\"gridcolor\":\"white\",\"linecolor\":\"white\",\"minorgridcolor\":\"white\",\"startlinecolor\":\"#2a3f5f\"},\"type\":\"carpet\"}],\"choropleth\":[{\"colorbar\":{\"outlinewidth\":0,\"ticks\":\"\"},\"type\":\"choropleth\"}],\"contour\":[{\"colorbar\":{\"outlinewidth\":0,\"ticks\":\"\"},\"colorscale\":[[0.0,\"#0d0887\"],[0.1111111111111111,\"#46039f\"],[0.2222222222222222,\"#7201a8\"],[0.3333333333333333,\"#9c179e\"],[0.4444444444444444,\"#bd3786\"],[0.5555555555555556,\"#d8576b\"],[0.6666666666666666,\"#ed7953\"],[0.7777777777777778,\"#fb9f3a\"],[0.8888888888888888,\"#fdca26\"],[1.0,\"#f0f921\"]],\"type\":\"contour\"}],\"contourcarpet\":[{\"colorbar\":{\"outlinewidth\":0,\"ticks\":\"\"},\"type\":\"contourcarpet\"}],\"heatmap\":[{\"colorbar\":{\"outlinewidth\":0,\"ticks\":\"\"},\"colorscale\":[[0.0,\"#0d0887\"],[0.1111111111111111,\"#46039f\"],[0.2222222222222222,\"#7201a8\"],[0.3333333333333333,\"#9c179e\"],[0.4444444444444444,\"#bd3786\"],[0.5555555555555556,\"#d8576b\"],[0.6666666666666666,\"#ed7953\"],[0.7777777777777778,\"#fb9f3a\"],[0.8888888888888888,\"#fdca26\"],[1.0,\"#f0f921\"]],\"type\":\"heatmap\"}],\"heatmapgl\":[{\"colorbar\":{\"outlinewidth\":0,\"ticks\":\"\"},\"colorscale\":[[0.0,\"#0d0887\"],[0.1111111111111111,\"#46039f\"],[0.2222222222222222,\"#7201a8\"],[0.3333333333333333,\"#9c179e\"],[0.4444444444444444,\"#bd3786\"],[0.5555555555555556,\"#d8576b\"],[0.6666666666666666,\"#ed7953\"],[0.7777777777777778,\"#fb9f3a\"],[0.8888888888888888,\"#fdca26\"],[1.0,\"#f0f921\"]],\"type\":\"heatmapgl\"}],\"histogram\":[{\"marker\":{\"pattern\":{\"fillmode\":\"overlay\",\"size\":10,\"solidity\":0.2}},\"type\":\"histogram\"}],\"histogram2d\":[{\"colorbar\":{\"outlinewidth\":0,\"ticks\":\"\"},\"colorscale\":[[0.0,\"#0d0887\"],[0.1111111111111111,\"#46039f\"],[0.2222222222222222,\"#7201a8\"],[0.3333333333333333,\"#9c179e\"],[0.4444444444444444,\"#bd3786\"],[0.5555555555555556,\"#d8576b\"],[0.6666666666666666,\"#ed7953\"],[0.7777777777777778,\"#fb9f3a\"],[0.8888888888888888,\"#fdca26\"],[1.0,\"#f0f921\"]],\"type\":\"histogram2d\"}],\"histogram2dcontour\":[{\"colorbar\":{\"outlinewidth\":0,\"ticks\":\"\"},\"colorscale\":[[0.0,\"#0d0887\"],[0.1111111111111111,\"#46039f\"],[0.2222222222222222,\"#7201a8\"],[0.3333333333333333,\"#9c179e\"],[0.4444444444444444,\"#bd3786\"],[0.5555555555555556,\"#d8576b\"],[0.6666666666666666,\"#ed7953\"],[0.7777777777777778,\"#fb9f3a\"],[0.8888888888888888,\"#fdca26\"],[1.0,\"#f0f921\"]],\"type\":\"histogram2dcontour\"}],\"mesh3d\":[{\"colorbar\":{\"outlinewidth\":0,\"ticks\":\"\"},\"type\":\"mesh3d\"}],\"parcoords\":[{\"line\":{\"colorbar\":{\"outlinewidth\":0,\"ticks\":\"\"}},\"type\":\"parcoords\"}],\"pie\":[{\"automargin\":true,\"type\":\"pie\"}],\"scatter\":[{\"marker\":{\"colorbar\":{\"outlinewidth\":0,\"ticks\":\"\"}},\"type\":\"scatter\"}],\"scatter3d\":[{\"line\":{\"colorbar\":{\"outlinewidth\":0,\"ticks\":\"\"}},\"marker\":{\"colorbar\":{\"outlinewidth\":0,\"ticks\":\"\"}},\"type\":\"scatter3d\"}],\"scattercarpet\":[{\"marker\":{\"colorbar\":{\"outlinewidth\":0,\"ticks\":\"\"}},\"type\":\"scattercarpet\"}],\"scattergeo\":[{\"marker\":{\"colorbar\":{\"outlinewidth\":0,\"ticks\":\"\"}},\"type\":\"scattergeo\"}],\"scattergl\":[{\"marker\":{\"colorbar\":{\"outlinewidth\":0,\"ticks\":\"\"}},\"type\":\"scattergl\"}],\"scattermapbox\":[{\"marker\":{\"colorbar\":{\"outlinewidth\":0,\"ticks\":\"\"}},\"type\":\"scattermapbox\"}],\"scatterpolar\":[{\"marker\":{\"colorbar\":{\"outlinewidth\":0,\"ticks\":\"\"}},\"type\":\"scatterpolar\"}],\"scatterpolargl\":[{\"marker\":{\"colorbar\":{\"outlinewidth\":0,\"ticks\":\"\"}},\"type\":\"scatterpolargl\"}],\"scatterternary\":[{\"marker\":{\"colorbar\":{\"outlinewidth\":0,\"ticks\":\"\"}},\"type\":\"scatterternary\"}],\"surface\":[{\"colorbar\":{\"outlinewidth\":0,\"ticks\":\"\"},\"colorscale\":[[0.0,\"#0d0887\"],[0.1111111111111111,\"#46039f\"],[0.2222222222222222,\"#7201a8\"],[0.3333333333333333,\"#9c179e\"],[0.4444444444444444,\"#bd3786\"],[0.5555555555555556,\"#d8576b\"],[0.6666666666666666,\"#ed7953\"],[0.7777777777777778,\"#fb9f3a\"],[0.8888888888888888,\"#fdca26\"],[1.0,\"#f0f921\"]],\"type\":\"surface\"}],\"table\":[{\"cells\":{\"fill\":{\"color\":\"#EBF0F8\"},\"line\":{\"color\":\"white\"}},\"header\":{\"fill\":{\"color\":\"#C8D4E3\"},\"line\":{\"color\":\"white\"}},\"type\":\"table\"}]},\"layout\":{\"annotationdefaults\":{\"arrowcolor\":\"#2a3f5f\",\"arrowhead\":0,\"arrowwidth\":1},\"autotypenumbers\":\"strict\",\"coloraxis\":{\"colorbar\":{\"outlinewidth\":0,\"ticks\":\"\"}},\"colorscale\":{\"diverging\":[[0,\"#8e0152\"],[0.1,\"#c51b7d\"],[0.2,\"#de77ae\"],[0.3,\"#f1b6da\"],[0.4,\"#fde0ef\"],[0.5,\"#f7f7f7\"],[0.6,\"#e6f5d0\"],[0.7,\"#b8e186\"],[0.8,\"#7fbc41\"],[0.9,\"#4d9221\"],[1,\"#276419\"]],\"sequential\":[[0.0,\"#0d0887\"],[0.1111111111111111,\"#46039f\"],[0.2222222222222222,\"#7201a8\"],[0.3333333333333333,\"#9c179e\"],[0.4444444444444444,\"#bd3786\"],[0.5555555555555556,\"#d8576b\"],[0.6666666666666666,\"#ed7953\"],[0.7777777777777778,\"#fb9f3a\"],[0.8888888888888888,\"#fdca26\"],[1.0,\"#f0f921\"]],\"sequentialminus\":[[0.0,\"#0d0887\"],[0.1111111111111111,\"#46039f\"],[0.2222222222222222,\"#7201a8\"],[0.3333333333333333,\"#9c179e\"],[0.4444444444444444,\"#bd3786\"],[0.5555555555555556,\"#d8576b\"],[0.6666666666666666,\"#ed7953\"],[0.7777777777777778,\"#fb9f3a\"],[0.8888888888888888,\"#fdca26\"],[1.0,\"#f0f921\"]]},\"colorway\":[\"#636efa\",\"#EF553B\",\"#00cc96\",\"#ab63fa\",\"#FFA15A\",\"#19d3f3\",\"#FF6692\",\"#B6E880\",\"#FF97FF\",\"#FECB52\"],\"font\":{\"color\":\"#2a3f5f\"},\"geo\":{\"bgcolor\":\"white\",\"lakecolor\":\"white\",\"landcolor\":\"#E5ECF6\",\"showlakes\":true,\"showland\":true,\"subunitcolor\":\"white\"},\"hoverlabel\":{\"align\":\"left\"},\"hovermode\":\"closest\",\"mapbox\":{\"style\":\"light\"},\"paper_bgcolor\":\"white\",\"plot_bgcolor\":\"#E5ECF6\",\"polar\":{\"angularaxis\":{\"gridcolor\":\"white\",\"linecolor\":\"white\",\"ticks\":\"\"},\"bgcolor\":\"#E5ECF6\",\"radialaxis\":{\"gridcolor\":\"white\",\"linecolor\":\"white\",\"ticks\":\"\"}},\"scene\":{\"xaxis\":{\"backgroundcolor\":\"#E5ECF6\",\"gridcolor\":\"white\",\"gridwidth\":2,\"linecolor\":\"white\",\"showbackground\":true,\"ticks\":\"\",\"zerolinecolor\":\"white\"},\"yaxis\":{\"backgroundcolor\":\"#E5ECF6\",\"gridcolor\":\"white\",\"gridwidth\":2,\"linecolor\":\"white\",\"showbackground\":true,\"ticks\":\"\",\"zerolinecolor\":\"white\"},\"zaxis\":{\"backgroundcolor\":\"#E5ECF6\",\"gridcolor\":\"white\",\"gridwidth\":2,\"linecolor\":\"white\",\"showbackground\":true,\"ticks\":\"\",\"zerolinecolor\":\"white\"}},\"shapedefaults\":{\"line\":{\"color\":\"#2a3f5f\"}},\"ternary\":{\"aaxis\":{\"gridcolor\":\"white\",\"linecolor\":\"white\",\"ticks\":\"\"},\"baxis\":{\"gridcolor\":\"white\",\"linecolor\":\"white\",\"ticks\":\"\"},\"bgcolor\":\"#E5ECF6\",\"caxis\":{\"gridcolor\":\"white\",\"linecolor\":\"white\",\"ticks\":\"\"}},\"title\":{\"x\":0.05},\"xaxis\":{\"automargin\":true,\"gridcolor\":\"white\",\"linecolor\":\"white\",\"ticks\":\"\",\"title\":{\"standoff\":15},\"zerolinecolor\":\"white\",\"zerolinewidth\":2},\"yaxis\":{\"automargin\":true,\"gridcolor\":\"white\",\"linecolor\":\"white\",\"ticks\":\"\",\"title\":{\"standoff\":15},\"zerolinecolor\":\"white\",\"zerolinewidth\":2}}},\"xaxis\":{\"dtick\":1,\"gridcolor\":\"rgb(0, 0, 0)\",\"side\":\"bottom\",\"ticks\":\"\",\"title\":{\"text\":\"Response Time\"}},\"yaxis\":{\"dtick\":1,\"ticks\":\"\",\"ticksuffix\":\"  \",\"title\":{\"text\":\"Max Pertubation during training\"}}},                        {\"responsive\": true}                    ).then(function(){\n",
       "                            \n",
       "var gd = document.getElementById('9712020d-1d9d-4b74-b753-752d0bcd1be6');\n",
       "var x = new MutationObserver(function (mutations, observer) {{\n",
       "        var display = window.getComputedStyle(gd).display;\n",
       "        if (!display || display === 'none') {{\n",
       "            console.log([gd, 'removed!']);\n",
       "            Plotly.purge(gd);\n",
       "            observer.disconnect();\n",
       "        }}\n",
       "}});\n",
       "\n",
       "// Listen for the removal of the full notebook cells\n",
       "var notebookContainer = gd.closest('#notebook-container');\n",
       "if (notebookContainer) {{\n",
       "    x.observe(notebookContainer, {childList: true});\n",
       "}}\n",
       "\n",
       "// Listen for the clearing of the current output cell\n",
       "var outputEl = gd.closest('.output');\n",
       "if (outputEl) {{\n",
       "    x.observe(outputEl, {childList: true});\n",
       "}}\n",
       "\n",
       "                        })                };                });            </script>        </div>"
      ]
     },
     "metadata": {},
     "output_type": "display_data"
    }
   ],
   "source": [
    "fig = ff.create_annotated_heatmap(z=jerks.to_numpy(),y=[str(int(i))+'g' for i in df['g_force'].unique().tolist()], \n",
    "                                  x=[str(i) + 's' for i in df['response_rate'].unique().tolist()],  \n",
    "                                  annotation_text=np.around(jerks.to_numpy(), decimals=2), colorscale='blues', showscale=True,\n",
    "                                 reversescale =False)\n",
    "\n",
    "fig.update_layout(\n",
    "#     title='Average evaluation seconds for response times vs max. pertubation during training',\n",
    "    xaxis_title=\"Response Time\",\n",
    "    yaxis_title=\"Max Pertubation during training\",\n",
    "    xaxis_side='bottom',\n",
    "    font=dict(size=15),\n",
    "    height=700,\n",
    ")\n",
    "fig.show()\n",
    "\n"
   ]
  },
  {
   "cell_type": "markdown",
   "metadata": {},
   "source": [
    "# Delayed Environment"
   ]
  },
  {
   "cell_type": "code",
   "execution_count": 18,
   "metadata": {},
   "outputs": [],
   "source": [
    "g_forces = [3, 4, 5, 6, 7, 8, 9, 10, 11, 12]"
   ]
  },
  {
   "cell_type": "code",
   "execution_count": 19,
   "metadata": {},
   "outputs": [
    {
     "name": "stdout",
     "output_type": "stream",
     "text": [
      "0.01 4 0\n",
      "0.01 7 0\n",
      "0.02 4 2\n",
      "0.04 5 4\n",
      "0.04 6 4\n",
      "0.08 3 4\n"
     ]
    }
   ],
   "source": [
    "for rt in response_times:\n",
    "    for g_force in g_forces:\n",
    "        for seed in range(5):\n",
    "            if not os.path.isfile('../models_not_diverged/TD3_InvertedPendulum-v2_'+str(seed)+'_0.02_'+str(float(g_force))+'_'+str(rt)+'_1.0_True_256_final_actor'):\n",
    "                print (rt, g_force, seed)"
   ]
  },
  {
   "cell_type": "code",
   "execution_count": 20,
   "metadata": {},
   "outputs": [],
   "source": [
    "for rt in response_times:\n",
    "    for g_force in g_forces:\n",
    "        for seed in range(5):\n",
    "            if not os.path.isfile('../models_not_diverged/TD3_InvertedPendulum-v2_'+str(seed)+'_0.02_'+str(float(g_force))+'_'+str(rt)+'_1.0_True_256_best_actor'):\n",
    "                print (rt, g_force, seed)"
   ]
  },
  {
   "cell_type": "code",
   "execution_count": 21,
   "metadata": {
    "scrolled": true
   },
   "outputs": [
    {
     "name": "stdout",
     "output_type": "stream",
     "text": [
      "0.01 3\n",
      "0.01 4\n",
      "0.01 5\n",
      "0.01 6\n",
      "0.01 7\n",
      "0.01 8\n",
      "0.01 9\n",
      "0.01 10\n",
      "0.01 11\n",
      "0.01 12\n",
      "0.02 3\n",
      "0.02 4\n",
      "0.02 5\n",
      "0.02 6\n",
      "0.02 7\n",
      "0.02 8\n",
      "0.02 9\n",
      "0.02 10\n",
      "0.02 11\n",
      "0.02 12\n",
      "0.04 3\n",
      "0.04 4\n",
      "0.04 5\n",
      "0.04 6\n",
      "0.04 7\n",
      "0.04 8\n",
      "0.04 9\n",
      "0.04 10\n",
      "0.04 11\n",
      "0.04 12\n",
      "0.08 3\n",
      "0.08 4\n",
      "0.08 5\n",
      "0.08 6\n",
      "0.08 7\n",
      "0.08 8\n",
      "0.08 9\n",
      "0.08 10\n",
      "0.08 11\n",
      "0.08 12\n",
      "0.16 3\n",
      "0.16 4\n",
      "0.16 5\n",
      "0.16 6\n",
      "0.16 7\n",
      "0.16 8\n",
      "0.16 9\n",
      "0.16 10\n",
      "0.16 11\n",
      "0.16 12\n",
      "0.32 3\n",
      "0.32 4\n",
      "0.32 5\n",
      "0.32 6\n",
      "0.32 7\n",
      "0.32 8\n",
      "0.32 9\n",
      "0.32 10\n",
      "0.32 11\n",
      "0.32 12\n",
      "0.64 3\n",
      "0.64 4\n",
      "0.64 5\n",
      "0.64 6\n",
      "0.64 7\n",
      "0.64 8\n",
      "0.64 9\n",
      "0.64 10\n",
      "0.64 11\n",
      "0.64 12\n"
     ]
    }
   ],
   "source": [
    "df = pd.DataFrame(columns=['seed', 'g_force', 'response_rate', 'reward', 'angle', 'jerk'])\n",
    "# df = torch.load('dataframe')\n",
    "default_timestep = 0.02\n",
    "default_frame_skip = 2\n",
    "jit_duration = 0.02\n",
    "env_name = 'InvertedPendulum-v2'\n",
    "for response_rate in response_times:\n",
    "    for g_force in g_forces:\n",
    "        print(response_rate, g_force)\n",
    "        for seed in range(5):\n",
    "            states = []\n",
    "            arguments = ['TD3', env_name, seed, jit_duration, float(g_force), response_rate, 1.0, True, 256, 'best']\n",
    "            file_name = '_'.join([str(x) for x in arguments])\n",
    "            if response_rate % default_timestep == 0:\n",
    "                frame_skip = response_rate / default_timestep\n",
    "                timestep = default_timestep\n",
    "            elif jit_duration < response_rate:\n",
    "                timestep = jit_duration\n",
    "                frame_skip = response_rate / timestep\n",
    "            else:\n",
    "                timestep = response_rate\n",
    "                frame_skip = 1\n",
    "            jit_frames = 0  # How many frames the horizontal jitter force lasts each time\n",
    "            if jit_duration:\n",
    "                if jit_duration % timestep == 0:\n",
    "                    jit_frames = int(jit_duration / timestep)\n",
    "                else:\n",
    "                    raise ValueError(\n",
    "                        \"jit_duration should be a multiple of the timestep: \" + str(timestep))\n",
    "                    \n",
    "            time_change_factor = (default_timestep * default_frame_skip) / (timestep * frame_skip)\n",
    "            eval_env = make_env(env_name, seed, time_change_factor, timestep, frame_skip, True)\n",
    "            eval_env.env.env._max_episode_steps = 100000\n",
    "            state_dim = eval_env.observation_space[0].shape[0]\n",
    "            action_dim = eval_env.action_space.shape[0]\n",
    "            max_action = float(eval_env.action_space.high[0])\n",
    "            kwargs = {\n",
    "                \"state_dim\": state_dim,\n",
    "                \"action_dim\": action_dim,\n",
    "                \"observation_space\": eval_env.observation_space,\n",
    "                \"max_action\": max_action,\n",
    "                \"discount\": 0.99,\n",
    "                \"tau\": 0.005,\n",
    "                \"delayed_env\":True\n",
    "            }\n",
    "            kwargs[\"policy_noise\"] = 2 * max_action\n",
    "            kwargs[\"noise_clip\"] = 0.5 * max_action\n",
    "            kwargs[\"policy_freq\"] = 2\n",
    "            policy = TD3.TD3(**kwargs)\n",
    "            policy_file = file_name \n",
    "            if os.path.exists('../models_not_diverged/'+policy_file+\"_critic\"):\n",
    "                policy.load(f\"../models_not_diverged/{policy_file}\")\n",
    "                avg_reward = 0.\n",
    "                avg_angle = 0.\n",
    "                steps = 0\n",
    "\n",
    "                t = 0\n",
    "                forces = []\n",
    "                force_times = []\n",
    "                for _ in range(10):\n",
    "                    state, done = eval_env.reset(), False\n",
    "                    eval_env.model.opt.gravity[0] = 0\n",
    "                    counter = 0\n",
    "                    disturb = 5\n",
    "                    jittering = False\n",
    "                    force = 0.25\n",
    "                    prev_action = None\n",
    "                    jerk = 0\n",
    "                    while not done:\n",
    "                        action = policy.select_action(np.array(state))\n",
    "                        # Perform action\n",
    "                        if not jittering and round(disturb - counter, 3) >= response_rate:  # Not during the frames when jitter force keeps existing\n",
    "                            next_state, reward, done, _ = eval_env.step(action)\n",
    "                            counter += response_rate\n",
    "                        elif not jittering and round(disturb - counter, 3) < response_rate:\n",
    "                            forces.append(force)\n",
    "                            force_times.append(t)\n",
    "                            jitter_force = force * 9.81 * (2 * (np.random.random() > 0.5) - 1)  # Jitter force strength w/ direction\n",
    "                            next_state, reward, done, _ = eval_env.jitter_step_start(action, jitter_force,\n",
    "                                                                                     (disturb - counter) / timestep,\n",
    "                                                                                     frame_skip - ((disturb - counter) / timestep),\n",
    "                                                                                     jit_frames)\n",
    "                            jittered_frames = frame_skip - ((disturb - counter) / timestep)\n",
    "                            if jittered_frames >= jit_frames:\n",
    "                                jittered_frames = 0\n",
    "                                jittering = False\n",
    "                                eval_env.model.opt.gravity[0] = 0\n",
    "                                counter = 0\n",
    "                                force += 0.25\n",
    "\n",
    "                            else:\n",
    "                                jittering = True\n",
    "                                eval_env.model.opt.gravity[0] = jitter_force\n",
    "                                counter += response_rate\n",
    "                        elif jit_frames - jittered_frames < frame_skip:  # Jitter force will dispear from now!\n",
    "                            next_state, reward, done, _ = eval_env.jitter_step_end(\n",
    "                                action, jitter_force, jit_frames - jittered_frames, frame_skip - (jit_frames - jittered_frames))\n",
    "                            jittering = False  # Stop jittering now\n",
    "                            eval_env.model.opt.gravity[0] = 0\n",
    "                            counter = 0\n",
    "                            force += 0.25\n",
    "                        else:  # Jitter force keeps existing now!\n",
    "                            next_state, reward, done, _ = eval_env.step(action)\n",
    "                            jittered_frames += frame_skip\n",
    "                            counter += response_rate\n",
    "                            if jittered_frames == jit_frames:\n",
    "                                jittering = False\n",
    "                                eval_env.model.opt.gravity[0] = 0\n",
    "                                counter = 0\n",
    "                                force += 0.25\n",
    "\n",
    "                        avg_reward += reward\n",
    "                        avg_angle += abs(next_state[1])\n",
    "                        state = next_state\n",
    "                        counter = round(counter, 3)\n",
    "                        if jit_duration:\n",
    "                            if counter == disturb:\n",
    "                                forces.append(force)\n",
    "                                force_times.append(t)\n",
    "                                jitter_force = force * 9.81 * (2 * (random.random() > 0.5) - 1)\n",
    "                                eval_env.model.opt.gravity[0] = jitter_force\n",
    "                                jittering = True\n",
    "                                jittered_frames = 0\n",
    "\n",
    "                        t += 1\n",
    "                        if prev_action:\n",
    "                            jerk += abs(action[0] - prev_action)\n",
    "                        prev_action = action[0]\n",
    "                        states.append(state)\n",
    "#                 states = np.array(states)\n",
    "#                 fig = make_subplots(rows=2, cols=1)\n",
    "#                 x = [i for i in range(t)]\n",
    "#                 for index, f in enumerate(force_times):\n",
    "#                     fig.add_shape(go.layout.Shape(type=\"line\",\n",
    "#                                             x0=f,\n",
    "#                                             y0=-100,\n",
    "#                                             x1=f,\n",
    "#                                             y1=100,\n",
    "#                                             ),row=1,col=1)\n",
    "#                     fig.add_annotation(x=f,\n",
    "#                                        y=0,\n",
    "#                                        text=str(forces[index]), \n",
    "#                                        showarrow=False,\n",
    "#                                        row=1, col=1)\n",
    "#                 fig.add_trace(go.Scatter(x=x, y=states[:,0], mode='lines', name='pos'), row=1, col=1)\n",
    "#                 fig.add_trace(go.Scatter(x=x, y=states[:,1], mode='lines', name='angle'), row=2, col=1)\n",
    "#     #             fig.add_trace(go.Scatter(x=x, y=states[:,2], mode='lines', name='vel'))\n",
    "#     #             fig.add_trace(go.Scatter(x=x, y=states[:,3], mode='lines', name='angular vel'))\n",
    "#                 fig.update_layout(xaxis_title=\"Frames\")\n",
    "\n",
    "#                 fig.write_html(\"images2/\"+file_name+'.html')\n",
    "        \n",
    "\n",
    "                avg_reward /= 10\n",
    "                avg_angle /= 10\n",
    "                jerk /= avg_reward\n",
    "                df.loc[len(df.index)] = [seed, g_force, response_rate, avg_reward, avg_angle, jerk]\n",
    "                "
   ]
  },
  {
   "cell_type": "code",
   "execution_count": 22,
   "metadata": {},
   "outputs": [],
   "source": [
    "torch.save(df, 'dataframe_inverted_pendulum_not_diverged_delayed')"
   ]
  },
  {
   "cell_type": "code",
   "execution_count": 102,
   "metadata": {},
   "outputs": [],
   "source": [
    "df = torch.load('dataframe_inverted_pendulum_not_diverged_delayed')"
   ]
  },
  {
   "cell_type": "code",
   "execution_count": 103,
   "metadata": {},
   "outputs": [],
   "source": [
    "df['reward'] = df['reward'] * df['response_rate']\n",
    "df['jerk'] = df['jerk'] / df['response_rate']\n",
    "rewards = pd.crosstab(df['g_force'], df['response_rate'], values=df['reward'], aggfunc='mean')\n",
    "jerks = pd.crosstab(df['g_force'], df['response_rate'], values=df['jerk'], aggfunc='mean')"
   ]
  },
  {
   "cell_type": "code",
   "execution_count": 104,
   "metadata": {},
   "outputs": [
    {
     "data": {
      "application/vnd.plotly.v1+json": {
       "config": {
        "plotlyServerURL": "https://plot.ly"
       },
       "data": [
        {
         "colorscale": [
          [
           0,
           "rgb(247,251,255)"
          ],
          [
           0.125,
           "rgb(222,235,247)"
          ],
          [
           0.25,
           "rgb(198,219,239)"
          ],
          [
           0.375,
           "rgb(158,202,225)"
          ],
          [
           0.5,
           "rgb(107,174,214)"
          ],
          [
           0.625,
           "rgb(66,146,198)"
          ],
          [
           0.75,
           "rgb(33,113,181)"
          ],
          [
           0.875,
           "rgb(8,81,156)"
          ],
          [
           1,
           "rgb(8,48,107)"
          ]
         ],
         "reversescale": false,
         "showscale": true,
         "type": "heatmap",
         "x": [
          "0.01s",
          "0.02s",
          "0.04s",
          "0.08s",
          "0.16s",
          "0.32s",
          "0.64s"
         ],
         "y": [
          "3g",
          "4g",
          "5g",
          "6g",
          "7g",
          "8g",
          "9g",
          "10g",
          "11g",
          "12g"
         ],
         "z": [
          [
           110.75519999999999,
           102.1908,
           89.53920000000001,
           100.05919999999999,
           85.9424,
           2.4192,
           1.4464000000000001
          ],
          [
           112.6694,
           117.696,
           107.29839999999999,
           109.0384,
           71.2,
           1.8496000000000001,
           1.4464000000000001
          ],
          [
           137.6258,
           140.5192,
           120.1336,
           115.4512,
           79.0016,
           1.9456000000000002,
           1.4464000000000001
          ],
          [
           140.86280000000002,
           142.5592,
           144.0448,
           117.41280000000002,
           80.58880000000002,
           1.8560000000000003,
           1.4464000000000001
          ],
          [
           136.23540000000003,
           165.81,
           148.71120000000002,
           105.49279999999999,
           73.024,
           2.0928000000000004,
           1.4464000000000001
          ],
          [
           145.01180000000002,
           163.19160000000002,
           144.6376,
           111.80000000000003,
           68.6336,
           1.8816000000000002,
           1.4464000000000001
          ],
          [
           147.9082,
           150.0264,
           139.8376,
           98.5824,
           56.4928,
           1.9264000000000003,
           1.4208
          ],
          [
           139.8404,
           144.0676,
           124.93999999999998,
           75.30879999999999,
           73.33760000000001,
           1.8496000000000001,
           1.4208
          ],
          [
           100.0244,
           127.07360000000001,
           107.1688,
           92.88640000000001,
           62.032000000000004,
           1.7600000000000002,
           1.4464000000000001
          ],
          [
           138.973,
           97.1564,
           90.4568,
           73.8544,
           59.93920000000001,
           1.4656,
           1.4336
          ]
         ]
        }
       ],
       "layout": {
        "annotations": [
         {
          "font": {
           "color": "#FFFFFF"
          },
          "showarrow": false,
          "text": "110.76s / 5.54g",
          "x": "0.01s",
          "xref": "x",
          "y": "3g",
          "yref": "y"
         },
         {
          "font": {
           "color": "#FFFFFF"
          },
          "showarrow": false,
          "text": "102.19s / 5.11g",
          "x": "0.02s",
          "xref": "x",
          "y": "3g",
          "yref": "y"
         },
         {
          "font": {
           "color": "#FFFFFF"
          },
          "showarrow": false,
          "text": "89.54s / 4.48g",
          "x": "0.04s",
          "xref": "x",
          "y": "3g",
          "yref": "y"
         },
         {
          "font": {
           "color": "#FFFFFF"
          },
          "showarrow": false,
          "text": "100.06s / 5.0g",
          "x": "0.08s",
          "xref": "x",
          "y": "3g",
          "yref": "y"
         },
         {
          "font": {
           "color": "#FFFFFF"
          },
          "showarrow": false,
          "text": "85.94s / 4.3g",
          "x": "0.16s",
          "xref": "x",
          "y": "3g",
          "yref": "y"
         },
         {
          "font": {
           "color": "#000000"
          },
          "showarrow": false,
          "text": "2.42s / 0.12g",
          "x": "0.32s",
          "xref": "x",
          "y": "3g",
          "yref": "y"
         },
         {
          "font": {
           "color": "#000000"
          },
          "showarrow": false,
          "text": "1.45s / 0.07g",
          "x": "0.64s",
          "xref": "x",
          "y": "3g",
          "yref": "y"
         },
         {
          "font": {
           "color": "#FFFFFF"
          },
          "showarrow": false,
          "text": "112.67s / 5.63g",
          "x": "0.01s",
          "xref": "x",
          "y": "4g",
          "yref": "y"
         },
         {
          "font": {
           "color": "#FFFFFF"
          },
          "showarrow": false,
          "text": "117.7s / 5.88g",
          "x": "0.02s",
          "xref": "x",
          "y": "4g",
          "yref": "y"
         },
         {
          "font": {
           "color": "#FFFFFF"
          },
          "showarrow": false,
          "text": "107.3s / 5.36g",
          "x": "0.04s",
          "xref": "x",
          "y": "4g",
          "yref": "y"
         },
         {
          "font": {
           "color": "#FFFFFF"
          },
          "showarrow": false,
          "text": "109.04s / 5.45g",
          "x": "0.08s",
          "xref": "x",
          "y": "4g",
          "yref": "y"
         },
         {
          "font": {
           "color": "#000000"
          },
          "showarrow": false,
          "text": "71.2s / 3.56g",
          "x": "0.16s",
          "xref": "x",
          "y": "4g",
          "yref": "y"
         },
         {
          "font": {
           "color": "#000000"
          },
          "showarrow": false,
          "text": "1.85s / 0.09g",
          "x": "0.32s",
          "xref": "x",
          "y": "4g",
          "yref": "y"
         },
         {
          "font": {
           "color": "#000000"
          },
          "showarrow": false,
          "text": "1.45s / 0.07g",
          "x": "0.64s",
          "xref": "x",
          "y": "4g",
          "yref": "y"
         },
         {
          "font": {
           "color": "#FFFFFF"
          },
          "showarrow": false,
          "text": "137.63s / 6.88g",
          "x": "0.01s",
          "xref": "x",
          "y": "5g",
          "yref": "y"
         },
         {
          "font": {
           "color": "#FFFFFF"
          },
          "showarrow": false,
          "text": "140.52s / 7.03g",
          "x": "0.02s",
          "xref": "x",
          "y": "5g",
          "yref": "y"
         },
         {
          "font": {
           "color": "#FFFFFF"
          },
          "showarrow": false,
          "text": "120.13s / 6.01g",
          "x": "0.04s",
          "xref": "x",
          "y": "5g",
          "yref": "y"
         },
         {
          "font": {
           "color": "#FFFFFF"
          },
          "showarrow": false,
          "text": "115.45s / 5.77g",
          "x": "0.08s",
          "xref": "x",
          "y": "5g",
          "yref": "y"
         },
         {
          "font": {
           "color": "#000000"
          },
          "showarrow": false,
          "text": "79.0s / 3.95g",
          "x": "0.16s",
          "xref": "x",
          "y": "5g",
          "yref": "y"
         },
         {
          "font": {
           "color": "#000000"
          },
          "showarrow": false,
          "text": "1.95s / 0.1g",
          "x": "0.32s",
          "xref": "x",
          "y": "5g",
          "yref": "y"
         },
         {
          "font": {
           "color": "#000000"
          },
          "showarrow": false,
          "text": "1.45s / 0.07g",
          "x": "0.64s",
          "xref": "x",
          "y": "5g",
          "yref": "y"
         },
         {
          "font": {
           "color": "#FFFFFF"
          },
          "showarrow": false,
          "text": "140.86s / 7.04g",
          "x": "0.01s",
          "xref": "x",
          "y": "6g",
          "yref": "y"
         },
         {
          "font": {
           "color": "#FFFFFF"
          },
          "showarrow": false,
          "text": "142.56s / 7.13g",
          "x": "0.02s",
          "xref": "x",
          "y": "6g",
          "yref": "y"
         },
         {
          "font": {
           "color": "#FFFFFF"
          },
          "showarrow": false,
          "text": "144.04s / 7.2g",
          "x": "0.04s",
          "xref": "x",
          "y": "6g",
          "yref": "y"
         },
         {
          "font": {
           "color": "#FFFFFF"
          },
          "showarrow": false,
          "text": "117.41s / 5.87g",
          "x": "0.08s",
          "xref": "x",
          "y": "6g",
          "yref": "y"
         },
         {
          "font": {
           "color": "#000000"
          },
          "showarrow": false,
          "text": "80.59s / 4.03g",
          "x": "0.16s",
          "xref": "x",
          "y": "6g",
          "yref": "y"
         },
         {
          "font": {
           "color": "#000000"
          },
          "showarrow": false,
          "text": "1.86s / 0.09g",
          "x": "0.32s",
          "xref": "x",
          "y": "6g",
          "yref": "y"
         },
         {
          "font": {
           "color": "#000000"
          },
          "showarrow": false,
          "text": "1.45s / 0.07g",
          "x": "0.64s",
          "xref": "x",
          "y": "6g",
          "yref": "y"
         },
         {
          "font": {
           "color": "#FFFFFF"
          },
          "showarrow": false,
          "text": "136.24s / 6.81g",
          "x": "0.01s",
          "xref": "x",
          "y": "7g",
          "yref": "y"
         },
         {
          "font": {
           "color": "#FFFFFF"
          },
          "showarrow": false,
          "text": "165.81s / 8.29g",
          "x": "0.02s",
          "xref": "x",
          "y": "7g",
          "yref": "y"
         },
         {
          "font": {
           "color": "#FFFFFF"
          },
          "showarrow": false,
          "text": "148.71s / 7.44g",
          "x": "0.04s",
          "xref": "x",
          "y": "7g",
          "yref": "y"
         },
         {
          "font": {
           "color": "#FFFFFF"
          },
          "showarrow": false,
          "text": "105.49s / 5.27g",
          "x": "0.08s",
          "xref": "x",
          "y": "7g",
          "yref": "y"
         },
         {
          "font": {
           "color": "#000000"
          },
          "showarrow": false,
          "text": "73.02s / 3.65g",
          "x": "0.16s",
          "xref": "x",
          "y": "7g",
          "yref": "y"
         },
         {
          "font": {
           "color": "#000000"
          },
          "showarrow": false,
          "text": "2.09s / 0.1g",
          "x": "0.32s",
          "xref": "x",
          "y": "7g",
          "yref": "y"
         },
         {
          "font": {
           "color": "#000000"
          },
          "showarrow": false,
          "text": "1.45s / 0.07g",
          "x": "0.64s",
          "xref": "x",
          "y": "7g",
          "yref": "y"
         },
         {
          "font": {
           "color": "#FFFFFF"
          },
          "showarrow": false,
          "text": "145.01s / 7.25g",
          "x": "0.01s",
          "xref": "x",
          "y": "8g",
          "yref": "y"
         },
         {
          "font": {
           "color": "#FFFFFF"
          },
          "showarrow": false,
          "text": "163.19s / 8.16g",
          "x": "0.02s",
          "xref": "x",
          "y": "8g",
          "yref": "y"
         },
         {
          "font": {
           "color": "#FFFFFF"
          },
          "showarrow": false,
          "text": "144.64s / 7.23g",
          "x": "0.04s",
          "xref": "x",
          "y": "8g",
          "yref": "y"
         },
         {
          "font": {
           "color": "#FFFFFF"
          },
          "showarrow": false,
          "text": "111.8s / 5.59g",
          "x": "0.08s",
          "xref": "x",
          "y": "8g",
          "yref": "y"
         },
         {
          "font": {
           "color": "#000000"
          },
          "showarrow": false,
          "text": "68.63s / 3.43g",
          "x": "0.16s",
          "xref": "x",
          "y": "8g",
          "yref": "y"
         },
         {
          "font": {
           "color": "#000000"
          },
          "showarrow": false,
          "text": "1.88s / 0.09g",
          "x": "0.32s",
          "xref": "x",
          "y": "8g",
          "yref": "y"
         },
         {
          "font": {
           "color": "#000000"
          },
          "showarrow": false,
          "text": "1.45s / 0.07g",
          "x": "0.64s",
          "xref": "x",
          "y": "8g",
          "yref": "y"
         },
         {
          "font": {
           "color": "#FFFFFF"
          },
          "showarrow": false,
          "text": "147.91s / 7.4g",
          "x": "0.01s",
          "xref": "x",
          "y": "9g",
          "yref": "y"
         },
         {
          "font": {
           "color": "#FFFFFF"
          },
          "showarrow": false,
          "text": "150.03s / 7.5g",
          "x": "0.02s",
          "xref": "x",
          "y": "9g",
          "yref": "y"
         },
         {
          "font": {
           "color": "#FFFFFF"
          },
          "showarrow": false,
          "text": "139.84s / 6.99g",
          "x": "0.04s",
          "xref": "x",
          "y": "9g",
          "yref": "y"
         },
         {
          "font": {
           "color": "#FFFFFF"
          },
          "showarrow": false,
          "text": "98.58s / 4.93g",
          "x": "0.08s",
          "xref": "x",
          "y": "9g",
          "yref": "y"
         },
         {
          "font": {
           "color": "#000000"
          },
          "showarrow": false,
          "text": "56.49s / 2.82g",
          "x": "0.16s",
          "xref": "x",
          "y": "9g",
          "yref": "y"
         },
         {
          "font": {
           "color": "#000000"
          },
          "showarrow": false,
          "text": "1.93s / 0.1g",
          "x": "0.32s",
          "xref": "x",
          "y": "9g",
          "yref": "y"
         },
         {
          "font": {
           "color": "#000000"
          },
          "showarrow": false,
          "text": "1.42s / 0.07g",
          "x": "0.64s",
          "xref": "x",
          "y": "9g",
          "yref": "y"
         },
         {
          "font": {
           "color": "#FFFFFF"
          },
          "showarrow": false,
          "text": "139.84s / 6.99g",
          "x": "0.01s",
          "xref": "x",
          "y": "10g",
          "yref": "y"
         },
         {
          "font": {
           "color": "#FFFFFF"
          },
          "showarrow": false,
          "text": "144.07s / 7.2g",
          "x": "0.02s",
          "xref": "x",
          "y": "10g",
          "yref": "y"
         },
         {
          "font": {
           "color": "#FFFFFF"
          },
          "showarrow": false,
          "text": "124.94s / 6.25g",
          "x": "0.04s",
          "xref": "x",
          "y": "10g",
          "yref": "y"
         },
         {
          "font": {
           "color": "#000000"
          },
          "showarrow": false,
          "text": "75.31s / 3.77g",
          "x": "0.08s",
          "xref": "x",
          "y": "10g",
          "yref": "y"
         },
         {
          "font": {
           "color": "#000000"
          },
          "showarrow": false,
          "text": "73.34s / 3.67g",
          "x": "0.16s",
          "xref": "x",
          "y": "10g",
          "yref": "y"
         },
         {
          "font": {
           "color": "#000000"
          },
          "showarrow": false,
          "text": "1.85s / 0.09g",
          "x": "0.32s",
          "xref": "x",
          "y": "10g",
          "yref": "y"
         },
         {
          "font": {
           "color": "#000000"
          },
          "showarrow": false,
          "text": "1.42s / 0.07g",
          "x": "0.64s",
          "xref": "x",
          "y": "10g",
          "yref": "y"
         },
         {
          "font": {
           "color": "#FFFFFF"
          },
          "showarrow": false,
          "text": "100.02s / 5.0g",
          "x": "0.01s",
          "xref": "x",
          "y": "11g",
          "yref": "y"
         },
         {
          "font": {
           "color": "#FFFFFF"
          },
          "showarrow": false,
          "text": "127.07s / 6.35g",
          "x": "0.02s",
          "xref": "x",
          "y": "11g",
          "yref": "y"
         },
         {
          "font": {
           "color": "#FFFFFF"
          },
          "showarrow": false,
          "text": "107.17s / 5.36g",
          "x": "0.04s",
          "xref": "x",
          "y": "11g",
          "yref": "y"
         },
         {
          "font": {
           "color": "#FFFFFF"
          },
          "showarrow": false,
          "text": "92.89s / 4.64g",
          "x": "0.08s",
          "xref": "x",
          "y": "11g",
          "yref": "y"
         },
         {
          "font": {
           "color": "#000000"
          },
          "showarrow": false,
          "text": "62.03s / 3.1g",
          "x": "0.16s",
          "xref": "x",
          "y": "11g",
          "yref": "y"
         },
         {
          "font": {
           "color": "#000000"
          },
          "showarrow": false,
          "text": "1.76s / 0.09g",
          "x": "0.32s",
          "xref": "x",
          "y": "11g",
          "yref": "y"
         },
         {
          "font": {
           "color": "#000000"
          },
          "showarrow": false,
          "text": "1.45s / 0.07g",
          "x": "0.64s",
          "xref": "x",
          "y": "11g",
          "yref": "y"
         },
         {
          "font": {
           "color": "#FFFFFF"
          },
          "showarrow": false,
          "text": "138.97s / 6.95g",
          "x": "0.01s",
          "xref": "x",
          "y": "12g",
          "yref": "y"
         },
         {
          "font": {
           "color": "#FFFFFF"
          },
          "showarrow": false,
          "text": "97.16s / 4.86g",
          "x": "0.02s",
          "xref": "x",
          "y": "12g",
          "yref": "y"
         },
         {
          "font": {
           "color": "#FFFFFF"
          },
          "showarrow": false,
          "text": "90.46s / 4.52g",
          "x": "0.04s",
          "xref": "x",
          "y": "12g",
          "yref": "y"
         },
         {
          "font": {
           "color": "#000000"
          },
          "showarrow": false,
          "text": "73.85s / 3.69g",
          "x": "0.08s",
          "xref": "x",
          "y": "12g",
          "yref": "y"
         },
         {
          "font": {
           "color": "#000000"
          },
          "showarrow": false,
          "text": "59.94s / 3.0g",
          "x": "0.16s",
          "xref": "x",
          "y": "12g",
          "yref": "y"
         },
         {
          "font": {
           "color": "#000000"
          },
          "showarrow": false,
          "text": "1.47s / 0.07g",
          "x": "0.32s",
          "xref": "x",
          "y": "12g",
          "yref": "y"
         },
         {
          "font": {
           "color": "#000000"
          },
          "showarrow": false,
          "text": "1.43s / 0.07g",
          "x": "0.64s",
          "xref": "x",
          "y": "12g",
          "yref": "y"
         }
        ],
        "font": {
         "size": 15
        },
        "height": 700,
        "template": {
         "data": {
          "bar": [
           {
            "error_x": {
             "color": "#2a3f5f"
            },
            "error_y": {
             "color": "#2a3f5f"
            },
            "marker": {
             "line": {
              "color": "#E5ECF6",
              "width": 0.5
             },
             "pattern": {
              "fillmode": "overlay",
              "size": 10,
              "solidity": 0.2
             }
            },
            "type": "bar"
           }
          ],
          "barpolar": [
           {
            "marker": {
             "line": {
              "color": "#E5ECF6",
              "width": 0.5
             },
             "pattern": {
              "fillmode": "overlay",
              "size": 10,
              "solidity": 0.2
             }
            },
            "type": "barpolar"
           }
          ],
          "carpet": [
           {
            "aaxis": {
             "endlinecolor": "#2a3f5f",
             "gridcolor": "white",
             "linecolor": "white",
             "minorgridcolor": "white",
             "startlinecolor": "#2a3f5f"
            },
            "baxis": {
             "endlinecolor": "#2a3f5f",
             "gridcolor": "white",
             "linecolor": "white",
             "minorgridcolor": "white",
             "startlinecolor": "#2a3f5f"
            },
            "type": "carpet"
           }
          ],
          "choropleth": [
           {
            "colorbar": {
             "outlinewidth": 0,
             "ticks": ""
            },
            "type": "choropleth"
           }
          ],
          "contour": [
           {
            "colorbar": {
             "outlinewidth": 0,
             "ticks": ""
            },
            "colorscale": [
             [
              0,
              "#0d0887"
             ],
             [
              0.1111111111111111,
              "#46039f"
             ],
             [
              0.2222222222222222,
              "#7201a8"
             ],
             [
              0.3333333333333333,
              "#9c179e"
             ],
             [
              0.4444444444444444,
              "#bd3786"
             ],
             [
              0.5555555555555556,
              "#d8576b"
             ],
             [
              0.6666666666666666,
              "#ed7953"
             ],
             [
              0.7777777777777778,
              "#fb9f3a"
             ],
             [
              0.8888888888888888,
              "#fdca26"
             ],
             [
              1,
              "#f0f921"
             ]
            ],
            "type": "contour"
           }
          ],
          "contourcarpet": [
           {
            "colorbar": {
             "outlinewidth": 0,
             "ticks": ""
            },
            "type": "contourcarpet"
           }
          ],
          "heatmap": [
           {
            "colorbar": {
             "outlinewidth": 0,
             "ticks": ""
            },
            "colorscale": [
             [
              0,
              "#0d0887"
             ],
             [
              0.1111111111111111,
              "#46039f"
             ],
             [
              0.2222222222222222,
              "#7201a8"
             ],
             [
              0.3333333333333333,
              "#9c179e"
             ],
             [
              0.4444444444444444,
              "#bd3786"
             ],
             [
              0.5555555555555556,
              "#d8576b"
             ],
             [
              0.6666666666666666,
              "#ed7953"
             ],
             [
              0.7777777777777778,
              "#fb9f3a"
             ],
             [
              0.8888888888888888,
              "#fdca26"
             ],
             [
              1,
              "#f0f921"
             ]
            ],
            "type": "heatmap"
           }
          ],
          "heatmapgl": [
           {
            "colorbar": {
             "outlinewidth": 0,
             "ticks": ""
            },
            "colorscale": [
             [
              0,
              "#0d0887"
             ],
             [
              0.1111111111111111,
              "#46039f"
             ],
             [
              0.2222222222222222,
              "#7201a8"
             ],
             [
              0.3333333333333333,
              "#9c179e"
             ],
             [
              0.4444444444444444,
              "#bd3786"
             ],
             [
              0.5555555555555556,
              "#d8576b"
             ],
             [
              0.6666666666666666,
              "#ed7953"
             ],
             [
              0.7777777777777778,
              "#fb9f3a"
             ],
             [
              0.8888888888888888,
              "#fdca26"
             ],
             [
              1,
              "#f0f921"
             ]
            ],
            "type": "heatmapgl"
           }
          ],
          "histogram": [
           {
            "marker": {
             "pattern": {
              "fillmode": "overlay",
              "size": 10,
              "solidity": 0.2
             }
            },
            "type": "histogram"
           }
          ],
          "histogram2d": [
           {
            "colorbar": {
             "outlinewidth": 0,
             "ticks": ""
            },
            "colorscale": [
             [
              0,
              "#0d0887"
             ],
             [
              0.1111111111111111,
              "#46039f"
             ],
             [
              0.2222222222222222,
              "#7201a8"
             ],
             [
              0.3333333333333333,
              "#9c179e"
             ],
             [
              0.4444444444444444,
              "#bd3786"
             ],
             [
              0.5555555555555556,
              "#d8576b"
             ],
             [
              0.6666666666666666,
              "#ed7953"
             ],
             [
              0.7777777777777778,
              "#fb9f3a"
             ],
             [
              0.8888888888888888,
              "#fdca26"
             ],
             [
              1,
              "#f0f921"
             ]
            ],
            "type": "histogram2d"
           }
          ],
          "histogram2dcontour": [
           {
            "colorbar": {
             "outlinewidth": 0,
             "ticks": ""
            },
            "colorscale": [
             [
              0,
              "#0d0887"
             ],
             [
              0.1111111111111111,
              "#46039f"
             ],
             [
              0.2222222222222222,
              "#7201a8"
             ],
             [
              0.3333333333333333,
              "#9c179e"
             ],
             [
              0.4444444444444444,
              "#bd3786"
             ],
             [
              0.5555555555555556,
              "#d8576b"
             ],
             [
              0.6666666666666666,
              "#ed7953"
             ],
             [
              0.7777777777777778,
              "#fb9f3a"
             ],
             [
              0.8888888888888888,
              "#fdca26"
             ],
             [
              1,
              "#f0f921"
             ]
            ],
            "type": "histogram2dcontour"
           }
          ],
          "mesh3d": [
           {
            "colorbar": {
             "outlinewidth": 0,
             "ticks": ""
            },
            "type": "mesh3d"
           }
          ],
          "parcoords": [
           {
            "line": {
             "colorbar": {
              "outlinewidth": 0,
              "ticks": ""
             }
            },
            "type": "parcoords"
           }
          ],
          "pie": [
           {
            "automargin": true,
            "type": "pie"
           }
          ],
          "scatter": [
           {
            "marker": {
             "colorbar": {
              "outlinewidth": 0,
              "ticks": ""
             }
            },
            "type": "scatter"
           }
          ],
          "scatter3d": [
           {
            "line": {
             "colorbar": {
              "outlinewidth": 0,
              "ticks": ""
             }
            },
            "marker": {
             "colorbar": {
              "outlinewidth": 0,
              "ticks": ""
             }
            },
            "type": "scatter3d"
           }
          ],
          "scattercarpet": [
           {
            "marker": {
             "colorbar": {
              "outlinewidth": 0,
              "ticks": ""
             }
            },
            "type": "scattercarpet"
           }
          ],
          "scattergeo": [
           {
            "marker": {
             "colorbar": {
              "outlinewidth": 0,
              "ticks": ""
             }
            },
            "type": "scattergeo"
           }
          ],
          "scattergl": [
           {
            "marker": {
             "colorbar": {
              "outlinewidth": 0,
              "ticks": ""
             }
            },
            "type": "scattergl"
           }
          ],
          "scattermapbox": [
           {
            "marker": {
             "colorbar": {
              "outlinewidth": 0,
              "ticks": ""
             }
            },
            "type": "scattermapbox"
           }
          ],
          "scatterpolar": [
           {
            "marker": {
             "colorbar": {
              "outlinewidth": 0,
              "ticks": ""
             }
            },
            "type": "scatterpolar"
           }
          ],
          "scatterpolargl": [
           {
            "marker": {
             "colorbar": {
              "outlinewidth": 0,
              "ticks": ""
             }
            },
            "type": "scatterpolargl"
           }
          ],
          "scatterternary": [
           {
            "marker": {
             "colorbar": {
              "outlinewidth": 0,
              "ticks": ""
             }
            },
            "type": "scatterternary"
           }
          ],
          "surface": [
           {
            "colorbar": {
             "outlinewidth": 0,
             "ticks": ""
            },
            "colorscale": [
             [
              0,
              "#0d0887"
             ],
             [
              0.1111111111111111,
              "#46039f"
             ],
             [
              0.2222222222222222,
              "#7201a8"
             ],
             [
              0.3333333333333333,
              "#9c179e"
             ],
             [
              0.4444444444444444,
              "#bd3786"
             ],
             [
              0.5555555555555556,
              "#d8576b"
             ],
             [
              0.6666666666666666,
              "#ed7953"
             ],
             [
              0.7777777777777778,
              "#fb9f3a"
             ],
             [
              0.8888888888888888,
              "#fdca26"
             ],
             [
              1,
              "#f0f921"
             ]
            ],
            "type": "surface"
           }
          ],
          "table": [
           {
            "cells": {
             "fill": {
              "color": "#EBF0F8"
             },
             "line": {
              "color": "white"
             }
            },
            "header": {
             "fill": {
              "color": "#C8D4E3"
             },
             "line": {
              "color": "white"
             }
            },
            "type": "table"
           }
          ]
         },
         "layout": {
          "annotationdefaults": {
           "arrowcolor": "#2a3f5f",
           "arrowhead": 0,
           "arrowwidth": 1
          },
          "autotypenumbers": "strict",
          "coloraxis": {
           "colorbar": {
            "outlinewidth": 0,
            "ticks": ""
           }
          },
          "colorscale": {
           "diverging": [
            [
             0,
             "#8e0152"
            ],
            [
             0.1,
             "#c51b7d"
            ],
            [
             0.2,
             "#de77ae"
            ],
            [
             0.3,
             "#f1b6da"
            ],
            [
             0.4,
             "#fde0ef"
            ],
            [
             0.5,
             "#f7f7f7"
            ],
            [
             0.6,
             "#e6f5d0"
            ],
            [
             0.7,
             "#b8e186"
            ],
            [
             0.8,
             "#7fbc41"
            ],
            [
             0.9,
             "#4d9221"
            ],
            [
             1,
             "#276419"
            ]
           ],
           "sequential": [
            [
             0,
             "#0d0887"
            ],
            [
             0.1111111111111111,
             "#46039f"
            ],
            [
             0.2222222222222222,
             "#7201a8"
            ],
            [
             0.3333333333333333,
             "#9c179e"
            ],
            [
             0.4444444444444444,
             "#bd3786"
            ],
            [
             0.5555555555555556,
             "#d8576b"
            ],
            [
             0.6666666666666666,
             "#ed7953"
            ],
            [
             0.7777777777777778,
             "#fb9f3a"
            ],
            [
             0.8888888888888888,
             "#fdca26"
            ],
            [
             1,
             "#f0f921"
            ]
           ],
           "sequentialminus": [
            [
             0,
             "#0d0887"
            ],
            [
             0.1111111111111111,
             "#46039f"
            ],
            [
             0.2222222222222222,
             "#7201a8"
            ],
            [
             0.3333333333333333,
             "#9c179e"
            ],
            [
             0.4444444444444444,
             "#bd3786"
            ],
            [
             0.5555555555555556,
             "#d8576b"
            ],
            [
             0.6666666666666666,
             "#ed7953"
            ],
            [
             0.7777777777777778,
             "#fb9f3a"
            ],
            [
             0.8888888888888888,
             "#fdca26"
            ],
            [
             1,
             "#f0f921"
            ]
           ]
          },
          "colorway": [
           "#636efa",
           "#EF553B",
           "#00cc96",
           "#ab63fa",
           "#FFA15A",
           "#19d3f3",
           "#FF6692",
           "#B6E880",
           "#FF97FF",
           "#FECB52"
          ],
          "font": {
           "color": "#2a3f5f"
          },
          "geo": {
           "bgcolor": "white",
           "lakecolor": "white",
           "landcolor": "#E5ECF6",
           "showlakes": true,
           "showland": true,
           "subunitcolor": "white"
          },
          "hoverlabel": {
           "align": "left"
          },
          "hovermode": "closest",
          "mapbox": {
           "style": "light"
          },
          "paper_bgcolor": "white",
          "plot_bgcolor": "#E5ECF6",
          "polar": {
           "angularaxis": {
            "gridcolor": "white",
            "linecolor": "white",
            "ticks": ""
           },
           "bgcolor": "#E5ECF6",
           "radialaxis": {
            "gridcolor": "white",
            "linecolor": "white",
            "ticks": ""
           }
          },
          "scene": {
           "xaxis": {
            "backgroundcolor": "#E5ECF6",
            "gridcolor": "white",
            "gridwidth": 2,
            "linecolor": "white",
            "showbackground": true,
            "ticks": "",
            "zerolinecolor": "white"
           },
           "yaxis": {
            "backgroundcolor": "#E5ECF6",
            "gridcolor": "white",
            "gridwidth": 2,
            "linecolor": "white",
            "showbackground": true,
            "ticks": "",
            "zerolinecolor": "white"
           },
           "zaxis": {
            "backgroundcolor": "#E5ECF6",
            "gridcolor": "white",
            "gridwidth": 2,
            "linecolor": "white",
            "showbackground": true,
            "ticks": "",
            "zerolinecolor": "white"
           }
          },
          "shapedefaults": {
           "line": {
            "color": "#2a3f5f"
           }
          },
          "ternary": {
           "aaxis": {
            "gridcolor": "white",
            "linecolor": "white",
            "ticks": ""
           },
           "baxis": {
            "gridcolor": "white",
            "linecolor": "white",
            "ticks": ""
           },
           "bgcolor": "#E5ECF6",
           "caxis": {
            "gridcolor": "white",
            "linecolor": "white",
            "ticks": ""
           }
          },
          "title": {
           "x": 0.05
          },
          "xaxis": {
           "automargin": true,
           "gridcolor": "white",
           "linecolor": "white",
           "ticks": "",
           "title": {
            "standoff": 15
           },
           "zerolinecolor": "white",
           "zerolinewidth": 2
          },
          "yaxis": {
           "automargin": true,
           "gridcolor": "white",
           "linecolor": "white",
           "ticks": "",
           "title": {
            "standoff": 15
           },
           "zerolinecolor": "white",
           "zerolinewidth": 2
          }
         }
        },
        "xaxis": {
         "dtick": 1,
         "gridcolor": "rgb(0, 0, 0)",
         "side": "bottom",
         "ticks": "",
         "title": {
          "text": "Response Time"
         }
        },
        "yaxis": {
         "dtick": 1,
         "ticks": "",
         "ticksuffix": "  ",
         "title": {
          "text": "Max Pertubation during training"
         }
        }
       }
      },
      "text/html": [
       "<div>                            <div id=\"f258d74a-9589-4d15-abf7-d077aab3d215\" class=\"plotly-graph-div\" style=\"height:700px; width:100%;\"></div>            <script type=\"text/javascript\">                require([\"plotly\"], function(Plotly) {                    window.PLOTLYENV=window.PLOTLYENV || {};                                    if (document.getElementById(\"f258d74a-9589-4d15-abf7-d077aab3d215\")) {                    Plotly.newPlot(                        \"f258d74a-9589-4d15-abf7-d077aab3d215\",                        [{\"colorscale\":[[0.0,\"rgb(247,251,255)\"],[0.125,\"rgb(222,235,247)\"],[0.25,\"rgb(198,219,239)\"],[0.375,\"rgb(158,202,225)\"],[0.5,\"rgb(107,174,214)\"],[0.625,\"rgb(66,146,198)\"],[0.75,\"rgb(33,113,181)\"],[0.875,\"rgb(8,81,156)\"],[1.0,\"rgb(8,48,107)\"]],\"reversescale\":false,\"showscale\":true,\"type\":\"heatmap\",\"x\":[\"0.01s\",\"0.02s\",\"0.04s\",\"0.08s\",\"0.16s\",\"0.32s\",\"0.64s\"],\"y\":[\"3g\",\"4g\",\"5g\",\"6g\",\"7g\",\"8g\",\"9g\",\"10g\",\"11g\",\"12g\"],\"z\":[[110.75519999999999,102.1908,89.53920000000001,100.05919999999999,85.9424,2.4192,1.4464000000000001],[112.6694,117.696,107.29839999999999,109.0384,71.2,1.8496000000000001,1.4464000000000001],[137.6258,140.5192,120.1336,115.4512,79.0016,1.9456000000000002,1.4464000000000001],[140.86280000000002,142.5592,144.0448,117.41280000000002,80.58880000000002,1.8560000000000003,1.4464000000000001],[136.23540000000003,165.81,148.71120000000002,105.49279999999999,73.024,2.0928000000000004,1.4464000000000001],[145.01180000000002,163.19160000000002,144.6376,111.80000000000003,68.6336,1.8816000000000002,1.4464000000000001],[147.9082,150.0264,139.8376,98.5824,56.4928,1.9264000000000003,1.4208],[139.8404,144.0676,124.93999999999998,75.30879999999999,73.33760000000001,1.8496000000000001,1.4208],[100.0244,127.07360000000001,107.1688,92.88640000000001,62.032000000000004,1.7600000000000002,1.4464000000000001],[138.973,97.1564,90.4568,73.8544,59.93920000000001,1.4656,1.4336]]}],                        {\"annotations\":[{\"font\":{\"color\":\"#FFFFFF\"},\"showarrow\":false,\"text\":\"110.76s / 5.54g\",\"x\":\"0.01s\",\"xref\":\"x\",\"y\":\"3g\",\"yref\":\"y\"},{\"font\":{\"color\":\"#FFFFFF\"},\"showarrow\":false,\"text\":\"102.19s / 5.11g\",\"x\":\"0.02s\",\"xref\":\"x\",\"y\":\"3g\",\"yref\":\"y\"},{\"font\":{\"color\":\"#FFFFFF\"},\"showarrow\":false,\"text\":\"89.54s / 4.48g\",\"x\":\"0.04s\",\"xref\":\"x\",\"y\":\"3g\",\"yref\":\"y\"},{\"font\":{\"color\":\"#FFFFFF\"},\"showarrow\":false,\"text\":\"100.06s / 5.0g\",\"x\":\"0.08s\",\"xref\":\"x\",\"y\":\"3g\",\"yref\":\"y\"},{\"font\":{\"color\":\"#FFFFFF\"},\"showarrow\":false,\"text\":\"85.94s / 4.3g\",\"x\":\"0.16s\",\"xref\":\"x\",\"y\":\"3g\",\"yref\":\"y\"},{\"font\":{\"color\":\"#000000\"},\"showarrow\":false,\"text\":\"2.42s / 0.12g\",\"x\":\"0.32s\",\"xref\":\"x\",\"y\":\"3g\",\"yref\":\"y\"},{\"font\":{\"color\":\"#000000\"},\"showarrow\":false,\"text\":\"1.45s / 0.07g\",\"x\":\"0.64s\",\"xref\":\"x\",\"y\":\"3g\",\"yref\":\"y\"},{\"font\":{\"color\":\"#FFFFFF\"},\"showarrow\":false,\"text\":\"112.67s / 5.63g\",\"x\":\"0.01s\",\"xref\":\"x\",\"y\":\"4g\",\"yref\":\"y\"},{\"font\":{\"color\":\"#FFFFFF\"},\"showarrow\":false,\"text\":\"117.7s / 5.88g\",\"x\":\"0.02s\",\"xref\":\"x\",\"y\":\"4g\",\"yref\":\"y\"},{\"font\":{\"color\":\"#FFFFFF\"},\"showarrow\":false,\"text\":\"107.3s / 5.36g\",\"x\":\"0.04s\",\"xref\":\"x\",\"y\":\"4g\",\"yref\":\"y\"},{\"font\":{\"color\":\"#FFFFFF\"},\"showarrow\":false,\"text\":\"109.04s / 5.45g\",\"x\":\"0.08s\",\"xref\":\"x\",\"y\":\"4g\",\"yref\":\"y\"},{\"font\":{\"color\":\"#000000\"},\"showarrow\":false,\"text\":\"71.2s / 3.56g\",\"x\":\"0.16s\",\"xref\":\"x\",\"y\":\"4g\",\"yref\":\"y\"},{\"font\":{\"color\":\"#000000\"},\"showarrow\":false,\"text\":\"1.85s / 0.09g\",\"x\":\"0.32s\",\"xref\":\"x\",\"y\":\"4g\",\"yref\":\"y\"},{\"font\":{\"color\":\"#000000\"},\"showarrow\":false,\"text\":\"1.45s / 0.07g\",\"x\":\"0.64s\",\"xref\":\"x\",\"y\":\"4g\",\"yref\":\"y\"},{\"font\":{\"color\":\"#FFFFFF\"},\"showarrow\":false,\"text\":\"137.63s / 6.88g\",\"x\":\"0.01s\",\"xref\":\"x\",\"y\":\"5g\",\"yref\":\"y\"},{\"font\":{\"color\":\"#FFFFFF\"},\"showarrow\":false,\"text\":\"140.52s / 7.03g\",\"x\":\"0.02s\",\"xref\":\"x\",\"y\":\"5g\",\"yref\":\"y\"},{\"font\":{\"color\":\"#FFFFFF\"},\"showarrow\":false,\"text\":\"120.13s / 6.01g\",\"x\":\"0.04s\",\"xref\":\"x\",\"y\":\"5g\",\"yref\":\"y\"},{\"font\":{\"color\":\"#FFFFFF\"},\"showarrow\":false,\"text\":\"115.45s / 5.77g\",\"x\":\"0.08s\",\"xref\":\"x\",\"y\":\"5g\",\"yref\":\"y\"},{\"font\":{\"color\":\"#000000\"},\"showarrow\":false,\"text\":\"79.0s / 3.95g\",\"x\":\"0.16s\",\"xref\":\"x\",\"y\":\"5g\",\"yref\":\"y\"},{\"font\":{\"color\":\"#000000\"},\"showarrow\":false,\"text\":\"1.95s / 0.1g\",\"x\":\"0.32s\",\"xref\":\"x\",\"y\":\"5g\",\"yref\":\"y\"},{\"font\":{\"color\":\"#000000\"},\"showarrow\":false,\"text\":\"1.45s / 0.07g\",\"x\":\"0.64s\",\"xref\":\"x\",\"y\":\"5g\",\"yref\":\"y\"},{\"font\":{\"color\":\"#FFFFFF\"},\"showarrow\":false,\"text\":\"140.86s / 7.04g\",\"x\":\"0.01s\",\"xref\":\"x\",\"y\":\"6g\",\"yref\":\"y\"},{\"font\":{\"color\":\"#FFFFFF\"},\"showarrow\":false,\"text\":\"142.56s / 7.13g\",\"x\":\"0.02s\",\"xref\":\"x\",\"y\":\"6g\",\"yref\":\"y\"},{\"font\":{\"color\":\"#FFFFFF\"},\"showarrow\":false,\"text\":\"144.04s / 7.2g\",\"x\":\"0.04s\",\"xref\":\"x\",\"y\":\"6g\",\"yref\":\"y\"},{\"font\":{\"color\":\"#FFFFFF\"},\"showarrow\":false,\"text\":\"117.41s / 5.87g\",\"x\":\"0.08s\",\"xref\":\"x\",\"y\":\"6g\",\"yref\":\"y\"},{\"font\":{\"color\":\"#000000\"},\"showarrow\":false,\"text\":\"80.59s / 4.03g\",\"x\":\"0.16s\",\"xref\":\"x\",\"y\":\"6g\",\"yref\":\"y\"},{\"font\":{\"color\":\"#000000\"},\"showarrow\":false,\"text\":\"1.86s / 0.09g\",\"x\":\"0.32s\",\"xref\":\"x\",\"y\":\"6g\",\"yref\":\"y\"},{\"font\":{\"color\":\"#000000\"},\"showarrow\":false,\"text\":\"1.45s / 0.07g\",\"x\":\"0.64s\",\"xref\":\"x\",\"y\":\"6g\",\"yref\":\"y\"},{\"font\":{\"color\":\"#FFFFFF\"},\"showarrow\":false,\"text\":\"136.24s / 6.81g\",\"x\":\"0.01s\",\"xref\":\"x\",\"y\":\"7g\",\"yref\":\"y\"},{\"font\":{\"color\":\"#FFFFFF\"},\"showarrow\":false,\"text\":\"165.81s / 8.29g\",\"x\":\"0.02s\",\"xref\":\"x\",\"y\":\"7g\",\"yref\":\"y\"},{\"font\":{\"color\":\"#FFFFFF\"},\"showarrow\":false,\"text\":\"148.71s / 7.44g\",\"x\":\"0.04s\",\"xref\":\"x\",\"y\":\"7g\",\"yref\":\"y\"},{\"font\":{\"color\":\"#FFFFFF\"},\"showarrow\":false,\"text\":\"105.49s / 5.27g\",\"x\":\"0.08s\",\"xref\":\"x\",\"y\":\"7g\",\"yref\":\"y\"},{\"font\":{\"color\":\"#000000\"},\"showarrow\":false,\"text\":\"73.02s / 3.65g\",\"x\":\"0.16s\",\"xref\":\"x\",\"y\":\"7g\",\"yref\":\"y\"},{\"font\":{\"color\":\"#000000\"},\"showarrow\":false,\"text\":\"2.09s / 0.1g\",\"x\":\"0.32s\",\"xref\":\"x\",\"y\":\"7g\",\"yref\":\"y\"},{\"font\":{\"color\":\"#000000\"},\"showarrow\":false,\"text\":\"1.45s / 0.07g\",\"x\":\"0.64s\",\"xref\":\"x\",\"y\":\"7g\",\"yref\":\"y\"},{\"font\":{\"color\":\"#FFFFFF\"},\"showarrow\":false,\"text\":\"145.01s / 7.25g\",\"x\":\"0.01s\",\"xref\":\"x\",\"y\":\"8g\",\"yref\":\"y\"},{\"font\":{\"color\":\"#FFFFFF\"},\"showarrow\":false,\"text\":\"163.19s / 8.16g\",\"x\":\"0.02s\",\"xref\":\"x\",\"y\":\"8g\",\"yref\":\"y\"},{\"font\":{\"color\":\"#FFFFFF\"},\"showarrow\":false,\"text\":\"144.64s / 7.23g\",\"x\":\"0.04s\",\"xref\":\"x\",\"y\":\"8g\",\"yref\":\"y\"},{\"font\":{\"color\":\"#FFFFFF\"},\"showarrow\":false,\"text\":\"111.8s / 5.59g\",\"x\":\"0.08s\",\"xref\":\"x\",\"y\":\"8g\",\"yref\":\"y\"},{\"font\":{\"color\":\"#000000\"},\"showarrow\":false,\"text\":\"68.63s / 3.43g\",\"x\":\"0.16s\",\"xref\":\"x\",\"y\":\"8g\",\"yref\":\"y\"},{\"font\":{\"color\":\"#000000\"},\"showarrow\":false,\"text\":\"1.88s / 0.09g\",\"x\":\"0.32s\",\"xref\":\"x\",\"y\":\"8g\",\"yref\":\"y\"},{\"font\":{\"color\":\"#000000\"},\"showarrow\":false,\"text\":\"1.45s / 0.07g\",\"x\":\"0.64s\",\"xref\":\"x\",\"y\":\"8g\",\"yref\":\"y\"},{\"font\":{\"color\":\"#FFFFFF\"},\"showarrow\":false,\"text\":\"147.91s / 7.4g\",\"x\":\"0.01s\",\"xref\":\"x\",\"y\":\"9g\",\"yref\":\"y\"},{\"font\":{\"color\":\"#FFFFFF\"},\"showarrow\":false,\"text\":\"150.03s / 7.5g\",\"x\":\"0.02s\",\"xref\":\"x\",\"y\":\"9g\",\"yref\":\"y\"},{\"font\":{\"color\":\"#FFFFFF\"},\"showarrow\":false,\"text\":\"139.84s / 6.99g\",\"x\":\"0.04s\",\"xref\":\"x\",\"y\":\"9g\",\"yref\":\"y\"},{\"font\":{\"color\":\"#FFFFFF\"},\"showarrow\":false,\"text\":\"98.58s / 4.93g\",\"x\":\"0.08s\",\"xref\":\"x\",\"y\":\"9g\",\"yref\":\"y\"},{\"font\":{\"color\":\"#000000\"},\"showarrow\":false,\"text\":\"56.49s / 2.82g\",\"x\":\"0.16s\",\"xref\":\"x\",\"y\":\"9g\",\"yref\":\"y\"},{\"font\":{\"color\":\"#000000\"},\"showarrow\":false,\"text\":\"1.93s / 0.1g\",\"x\":\"0.32s\",\"xref\":\"x\",\"y\":\"9g\",\"yref\":\"y\"},{\"font\":{\"color\":\"#000000\"},\"showarrow\":false,\"text\":\"1.42s / 0.07g\",\"x\":\"0.64s\",\"xref\":\"x\",\"y\":\"9g\",\"yref\":\"y\"},{\"font\":{\"color\":\"#FFFFFF\"},\"showarrow\":false,\"text\":\"139.84s / 6.99g\",\"x\":\"0.01s\",\"xref\":\"x\",\"y\":\"10g\",\"yref\":\"y\"},{\"font\":{\"color\":\"#FFFFFF\"},\"showarrow\":false,\"text\":\"144.07s / 7.2g\",\"x\":\"0.02s\",\"xref\":\"x\",\"y\":\"10g\",\"yref\":\"y\"},{\"font\":{\"color\":\"#FFFFFF\"},\"showarrow\":false,\"text\":\"124.94s / 6.25g\",\"x\":\"0.04s\",\"xref\":\"x\",\"y\":\"10g\",\"yref\":\"y\"},{\"font\":{\"color\":\"#000000\"},\"showarrow\":false,\"text\":\"75.31s / 3.77g\",\"x\":\"0.08s\",\"xref\":\"x\",\"y\":\"10g\",\"yref\":\"y\"},{\"font\":{\"color\":\"#000000\"},\"showarrow\":false,\"text\":\"73.34s / 3.67g\",\"x\":\"0.16s\",\"xref\":\"x\",\"y\":\"10g\",\"yref\":\"y\"},{\"font\":{\"color\":\"#000000\"},\"showarrow\":false,\"text\":\"1.85s / 0.09g\",\"x\":\"0.32s\",\"xref\":\"x\",\"y\":\"10g\",\"yref\":\"y\"},{\"font\":{\"color\":\"#000000\"},\"showarrow\":false,\"text\":\"1.42s / 0.07g\",\"x\":\"0.64s\",\"xref\":\"x\",\"y\":\"10g\",\"yref\":\"y\"},{\"font\":{\"color\":\"#FFFFFF\"},\"showarrow\":false,\"text\":\"100.02s / 5.0g\",\"x\":\"0.01s\",\"xref\":\"x\",\"y\":\"11g\",\"yref\":\"y\"},{\"font\":{\"color\":\"#FFFFFF\"},\"showarrow\":false,\"text\":\"127.07s / 6.35g\",\"x\":\"0.02s\",\"xref\":\"x\",\"y\":\"11g\",\"yref\":\"y\"},{\"font\":{\"color\":\"#FFFFFF\"},\"showarrow\":false,\"text\":\"107.17s / 5.36g\",\"x\":\"0.04s\",\"xref\":\"x\",\"y\":\"11g\",\"yref\":\"y\"},{\"font\":{\"color\":\"#FFFFFF\"},\"showarrow\":false,\"text\":\"92.89s / 4.64g\",\"x\":\"0.08s\",\"xref\":\"x\",\"y\":\"11g\",\"yref\":\"y\"},{\"font\":{\"color\":\"#000000\"},\"showarrow\":false,\"text\":\"62.03s / 3.1g\",\"x\":\"0.16s\",\"xref\":\"x\",\"y\":\"11g\",\"yref\":\"y\"},{\"font\":{\"color\":\"#000000\"},\"showarrow\":false,\"text\":\"1.76s / 0.09g\",\"x\":\"0.32s\",\"xref\":\"x\",\"y\":\"11g\",\"yref\":\"y\"},{\"font\":{\"color\":\"#000000\"},\"showarrow\":false,\"text\":\"1.45s / 0.07g\",\"x\":\"0.64s\",\"xref\":\"x\",\"y\":\"11g\",\"yref\":\"y\"},{\"font\":{\"color\":\"#FFFFFF\"},\"showarrow\":false,\"text\":\"138.97s / 6.95g\",\"x\":\"0.01s\",\"xref\":\"x\",\"y\":\"12g\",\"yref\":\"y\"},{\"font\":{\"color\":\"#FFFFFF\"},\"showarrow\":false,\"text\":\"97.16s / 4.86g\",\"x\":\"0.02s\",\"xref\":\"x\",\"y\":\"12g\",\"yref\":\"y\"},{\"font\":{\"color\":\"#FFFFFF\"},\"showarrow\":false,\"text\":\"90.46s / 4.52g\",\"x\":\"0.04s\",\"xref\":\"x\",\"y\":\"12g\",\"yref\":\"y\"},{\"font\":{\"color\":\"#000000\"},\"showarrow\":false,\"text\":\"73.85s / 3.69g\",\"x\":\"0.08s\",\"xref\":\"x\",\"y\":\"12g\",\"yref\":\"y\"},{\"font\":{\"color\":\"#000000\"},\"showarrow\":false,\"text\":\"59.94s / 3.0g\",\"x\":\"0.16s\",\"xref\":\"x\",\"y\":\"12g\",\"yref\":\"y\"},{\"font\":{\"color\":\"#000000\"},\"showarrow\":false,\"text\":\"1.47s / 0.07g\",\"x\":\"0.32s\",\"xref\":\"x\",\"y\":\"12g\",\"yref\":\"y\"},{\"font\":{\"color\":\"#000000\"},\"showarrow\":false,\"text\":\"1.43s / 0.07g\",\"x\":\"0.64s\",\"xref\":\"x\",\"y\":\"12g\",\"yref\":\"y\"}],\"font\":{\"size\":15},\"height\":700,\"template\":{\"data\":{\"bar\":[{\"error_x\":{\"color\":\"#2a3f5f\"},\"error_y\":{\"color\":\"#2a3f5f\"},\"marker\":{\"line\":{\"color\":\"#E5ECF6\",\"width\":0.5},\"pattern\":{\"fillmode\":\"overlay\",\"size\":10,\"solidity\":0.2}},\"type\":\"bar\"}],\"barpolar\":[{\"marker\":{\"line\":{\"color\":\"#E5ECF6\",\"width\":0.5},\"pattern\":{\"fillmode\":\"overlay\",\"size\":10,\"solidity\":0.2}},\"type\":\"barpolar\"}],\"carpet\":[{\"aaxis\":{\"endlinecolor\":\"#2a3f5f\",\"gridcolor\":\"white\",\"linecolor\":\"white\",\"minorgridcolor\":\"white\",\"startlinecolor\":\"#2a3f5f\"},\"baxis\":{\"endlinecolor\":\"#2a3f5f\",\"gridcolor\":\"white\",\"linecolor\":\"white\",\"minorgridcolor\":\"white\",\"startlinecolor\":\"#2a3f5f\"},\"type\":\"carpet\"}],\"choropleth\":[{\"colorbar\":{\"outlinewidth\":0,\"ticks\":\"\"},\"type\":\"choropleth\"}],\"contour\":[{\"colorbar\":{\"outlinewidth\":0,\"ticks\":\"\"},\"colorscale\":[[0.0,\"#0d0887\"],[0.1111111111111111,\"#46039f\"],[0.2222222222222222,\"#7201a8\"],[0.3333333333333333,\"#9c179e\"],[0.4444444444444444,\"#bd3786\"],[0.5555555555555556,\"#d8576b\"],[0.6666666666666666,\"#ed7953\"],[0.7777777777777778,\"#fb9f3a\"],[0.8888888888888888,\"#fdca26\"],[1.0,\"#f0f921\"]],\"type\":\"contour\"}],\"contourcarpet\":[{\"colorbar\":{\"outlinewidth\":0,\"ticks\":\"\"},\"type\":\"contourcarpet\"}],\"heatmap\":[{\"colorbar\":{\"outlinewidth\":0,\"ticks\":\"\"},\"colorscale\":[[0.0,\"#0d0887\"],[0.1111111111111111,\"#46039f\"],[0.2222222222222222,\"#7201a8\"],[0.3333333333333333,\"#9c179e\"],[0.4444444444444444,\"#bd3786\"],[0.5555555555555556,\"#d8576b\"],[0.6666666666666666,\"#ed7953\"],[0.7777777777777778,\"#fb9f3a\"],[0.8888888888888888,\"#fdca26\"],[1.0,\"#f0f921\"]],\"type\":\"heatmap\"}],\"heatmapgl\":[{\"colorbar\":{\"outlinewidth\":0,\"ticks\":\"\"},\"colorscale\":[[0.0,\"#0d0887\"],[0.1111111111111111,\"#46039f\"],[0.2222222222222222,\"#7201a8\"],[0.3333333333333333,\"#9c179e\"],[0.4444444444444444,\"#bd3786\"],[0.5555555555555556,\"#d8576b\"],[0.6666666666666666,\"#ed7953\"],[0.7777777777777778,\"#fb9f3a\"],[0.8888888888888888,\"#fdca26\"],[1.0,\"#f0f921\"]],\"type\":\"heatmapgl\"}],\"histogram\":[{\"marker\":{\"pattern\":{\"fillmode\":\"overlay\",\"size\":10,\"solidity\":0.2}},\"type\":\"histogram\"}],\"histogram2d\":[{\"colorbar\":{\"outlinewidth\":0,\"ticks\":\"\"},\"colorscale\":[[0.0,\"#0d0887\"],[0.1111111111111111,\"#46039f\"],[0.2222222222222222,\"#7201a8\"],[0.3333333333333333,\"#9c179e\"],[0.4444444444444444,\"#bd3786\"],[0.5555555555555556,\"#d8576b\"],[0.6666666666666666,\"#ed7953\"],[0.7777777777777778,\"#fb9f3a\"],[0.8888888888888888,\"#fdca26\"],[1.0,\"#f0f921\"]],\"type\":\"histogram2d\"}],\"histogram2dcontour\":[{\"colorbar\":{\"outlinewidth\":0,\"ticks\":\"\"},\"colorscale\":[[0.0,\"#0d0887\"],[0.1111111111111111,\"#46039f\"],[0.2222222222222222,\"#7201a8\"],[0.3333333333333333,\"#9c179e\"],[0.4444444444444444,\"#bd3786\"],[0.5555555555555556,\"#d8576b\"],[0.6666666666666666,\"#ed7953\"],[0.7777777777777778,\"#fb9f3a\"],[0.8888888888888888,\"#fdca26\"],[1.0,\"#f0f921\"]],\"type\":\"histogram2dcontour\"}],\"mesh3d\":[{\"colorbar\":{\"outlinewidth\":0,\"ticks\":\"\"},\"type\":\"mesh3d\"}],\"parcoords\":[{\"line\":{\"colorbar\":{\"outlinewidth\":0,\"ticks\":\"\"}},\"type\":\"parcoords\"}],\"pie\":[{\"automargin\":true,\"type\":\"pie\"}],\"scatter\":[{\"marker\":{\"colorbar\":{\"outlinewidth\":0,\"ticks\":\"\"}},\"type\":\"scatter\"}],\"scatter3d\":[{\"line\":{\"colorbar\":{\"outlinewidth\":0,\"ticks\":\"\"}},\"marker\":{\"colorbar\":{\"outlinewidth\":0,\"ticks\":\"\"}},\"type\":\"scatter3d\"}],\"scattercarpet\":[{\"marker\":{\"colorbar\":{\"outlinewidth\":0,\"ticks\":\"\"}},\"type\":\"scattercarpet\"}],\"scattergeo\":[{\"marker\":{\"colorbar\":{\"outlinewidth\":0,\"ticks\":\"\"}},\"type\":\"scattergeo\"}],\"scattergl\":[{\"marker\":{\"colorbar\":{\"outlinewidth\":0,\"ticks\":\"\"}},\"type\":\"scattergl\"}],\"scattermapbox\":[{\"marker\":{\"colorbar\":{\"outlinewidth\":0,\"ticks\":\"\"}},\"type\":\"scattermapbox\"}],\"scatterpolar\":[{\"marker\":{\"colorbar\":{\"outlinewidth\":0,\"ticks\":\"\"}},\"type\":\"scatterpolar\"}],\"scatterpolargl\":[{\"marker\":{\"colorbar\":{\"outlinewidth\":0,\"ticks\":\"\"}},\"type\":\"scatterpolargl\"}],\"scatterternary\":[{\"marker\":{\"colorbar\":{\"outlinewidth\":0,\"ticks\":\"\"}},\"type\":\"scatterternary\"}],\"surface\":[{\"colorbar\":{\"outlinewidth\":0,\"ticks\":\"\"},\"colorscale\":[[0.0,\"#0d0887\"],[0.1111111111111111,\"#46039f\"],[0.2222222222222222,\"#7201a8\"],[0.3333333333333333,\"#9c179e\"],[0.4444444444444444,\"#bd3786\"],[0.5555555555555556,\"#d8576b\"],[0.6666666666666666,\"#ed7953\"],[0.7777777777777778,\"#fb9f3a\"],[0.8888888888888888,\"#fdca26\"],[1.0,\"#f0f921\"]],\"type\":\"surface\"}],\"table\":[{\"cells\":{\"fill\":{\"color\":\"#EBF0F8\"},\"line\":{\"color\":\"white\"}},\"header\":{\"fill\":{\"color\":\"#C8D4E3\"},\"line\":{\"color\":\"white\"}},\"type\":\"table\"}]},\"layout\":{\"annotationdefaults\":{\"arrowcolor\":\"#2a3f5f\",\"arrowhead\":0,\"arrowwidth\":1},\"autotypenumbers\":\"strict\",\"coloraxis\":{\"colorbar\":{\"outlinewidth\":0,\"ticks\":\"\"}},\"colorscale\":{\"diverging\":[[0,\"#8e0152\"],[0.1,\"#c51b7d\"],[0.2,\"#de77ae\"],[0.3,\"#f1b6da\"],[0.4,\"#fde0ef\"],[0.5,\"#f7f7f7\"],[0.6,\"#e6f5d0\"],[0.7,\"#b8e186\"],[0.8,\"#7fbc41\"],[0.9,\"#4d9221\"],[1,\"#276419\"]],\"sequential\":[[0.0,\"#0d0887\"],[0.1111111111111111,\"#46039f\"],[0.2222222222222222,\"#7201a8\"],[0.3333333333333333,\"#9c179e\"],[0.4444444444444444,\"#bd3786\"],[0.5555555555555556,\"#d8576b\"],[0.6666666666666666,\"#ed7953\"],[0.7777777777777778,\"#fb9f3a\"],[0.8888888888888888,\"#fdca26\"],[1.0,\"#f0f921\"]],\"sequentialminus\":[[0.0,\"#0d0887\"],[0.1111111111111111,\"#46039f\"],[0.2222222222222222,\"#7201a8\"],[0.3333333333333333,\"#9c179e\"],[0.4444444444444444,\"#bd3786\"],[0.5555555555555556,\"#d8576b\"],[0.6666666666666666,\"#ed7953\"],[0.7777777777777778,\"#fb9f3a\"],[0.8888888888888888,\"#fdca26\"],[1.0,\"#f0f921\"]]},\"colorway\":[\"#636efa\",\"#EF553B\",\"#00cc96\",\"#ab63fa\",\"#FFA15A\",\"#19d3f3\",\"#FF6692\",\"#B6E880\",\"#FF97FF\",\"#FECB52\"],\"font\":{\"color\":\"#2a3f5f\"},\"geo\":{\"bgcolor\":\"white\",\"lakecolor\":\"white\",\"landcolor\":\"#E5ECF6\",\"showlakes\":true,\"showland\":true,\"subunitcolor\":\"white\"},\"hoverlabel\":{\"align\":\"left\"},\"hovermode\":\"closest\",\"mapbox\":{\"style\":\"light\"},\"paper_bgcolor\":\"white\",\"plot_bgcolor\":\"#E5ECF6\",\"polar\":{\"angularaxis\":{\"gridcolor\":\"white\",\"linecolor\":\"white\",\"ticks\":\"\"},\"bgcolor\":\"#E5ECF6\",\"radialaxis\":{\"gridcolor\":\"white\",\"linecolor\":\"white\",\"ticks\":\"\"}},\"scene\":{\"xaxis\":{\"backgroundcolor\":\"#E5ECF6\",\"gridcolor\":\"white\",\"gridwidth\":2,\"linecolor\":\"white\",\"showbackground\":true,\"ticks\":\"\",\"zerolinecolor\":\"white\"},\"yaxis\":{\"backgroundcolor\":\"#E5ECF6\",\"gridcolor\":\"white\",\"gridwidth\":2,\"linecolor\":\"white\",\"showbackground\":true,\"ticks\":\"\",\"zerolinecolor\":\"white\"},\"zaxis\":{\"backgroundcolor\":\"#E5ECF6\",\"gridcolor\":\"white\",\"gridwidth\":2,\"linecolor\":\"white\",\"showbackground\":true,\"ticks\":\"\",\"zerolinecolor\":\"white\"}},\"shapedefaults\":{\"line\":{\"color\":\"#2a3f5f\"}},\"ternary\":{\"aaxis\":{\"gridcolor\":\"white\",\"linecolor\":\"white\",\"ticks\":\"\"},\"baxis\":{\"gridcolor\":\"white\",\"linecolor\":\"white\",\"ticks\":\"\"},\"bgcolor\":\"#E5ECF6\",\"caxis\":{\"gridcolor\":\"white\",\"linecolor\":\"white\",\"ticks\":\"\"}},\"title\":{\"x\":0.05},\"xaxis\":{\"automargin\":true,\"gridcolor\":\"white\",\"linecolor\":\"white\",\"ticks\":\"\",\"title\":{\"standoff\":15},\"zerolinecolor\":\"white\",\"zerolinewidth\":2},\"yaxis\":{\"automargin\":true,\"gridcolor\":\"white\",\"linecolor\":\"white\",\"ticks\":\"\",\"title\":{\"standoff\":15},\"zerolinecolor\":\"white\",\"zerolinewidth\":2}}},\"xaxis\":{\"dtick\":1,\"gridcolor\":\"rgb(0, 0, 0)\",\"side\":\"bottom\",\"ticks\":\"\",\"title\":{\"text\":\"Response Time\"}},\"yaxis\":{\"dtick\":1,\"ticks\":\"\",\"ticksuffix\":\"  \",\"title\":{\"text\":\"Max Pertubation during training\"}}},                        {\"responsive\": true}                    ).then(function(){\n",
       "                            \n",
       "var gd = document.getElementById('f258d74a-9589-4d15-abf7-d077aab3d215');\n",
       "var x = new MutationObserver(function (mutations, observer) {{\n",
       "        var display = window.getComputedStyle(gd).display;\n",
       "        if (!display || display === 'none') {{\n",
       "            console.log([gd, 'removed!']);\n",
       "            Plotly.purge(gd);\n",
       "            observer.disconnect();\n",
       "        }}\n",
       "}});\n",
       "\n",
       "// Listen for the removal of the full notebook cells\n",
       "var notebookContainer = gd.closest('#notebook-container');\n",
       "if (notebookContainer) {{\n",
       "    x.observe(notebookContainer, {childList: true});\n",
       "}}\n",
       "\n",
       "// Listen for the clearing of the current output cell\n",
       "var outputEl = gd.closest('.output');\n",
       "if (outputEl) {{\n",
       "    x.observe(outputEl, {childList: true});\n",
       "}}\n",
       "\n",
       "                        })                };                });            </script>        </div>"
      ]
     },
     "metadata": {},
     "output_type": "display_data"
    }
   ],
   "source": [
    "at = np.around(rewards.to_numpy(), decimals=2).astype(str)\n",
    "\n",
    "for i, row in enumerate(at):\n",
    "    for j, eleme in enumerate(row):\n",
    "        at[i,j] = str(eleme) + 's / ' + str(np.around(float(eleme)*0.25/5, decimals = 2)) +'g'\n",
    "        \n",
    "fig = ff.create_annotated_heatmap(z=rewards.to_numpy(),y=[str(int(i))+'g' for i in df['g_force'].unique().tolist()], \n",
    "                                  x=[str(i) + 's' for i in df['response_rate'].unique().tolist()],  \n",
    "                                  annotation_text=at, colorscale='blues', showscale=True,\n",
    "                                 reversescale =False)\n",
    "\n",
    "fig.update_layout(\n",
    "#     title='Average evaluation seconds for response times vs max. pertubation during training',\n",
    "    xaxis_title=\"Response Time\",\n",
    "    yaxis_title=\"Max Pertubation during training\",\n",
    "    xaxis_side='bottom',\n",
    "    font=dict(size=15),\n",
    "    height=700,\n",
    ")\n",
    "fig.show()\n",
    "\n"
   ]
  },
  {
   "cell_type": "markdown",
   "metadata": {},
   "source": [
    "# Reflex"
   ]
  },
  {
   "cell_type": "code",
   "execution_count": 41,
   "metadata": {},
   "outputs": [
    {
     "name": "stdout",
     "output_type": "stream",
     "text": [
      "0.04 8 0\n",
      "0.16 8 4\n"
     ]
    }
   ],
   "source": [
    "response_times = [0.02, 0.04, 0.08, 0.16, 0.32, 0.64]\n",
    "for rt in response_times:\n",
    "    for g_force in[8]:\n",
    "        for seed in range(5):\n",
    "            if not os.path.isfile('../reflex/models/TD3_reflex_InvertedPendulum-v2_'+str(seed)+'_0.02_'+str(float(g_force))+'_'+str(rt)+'_1.0_0.01_0.1_final_actor'):\n",
    "                print (rt, g_force, seed)"
   ]
  },
  {
   "cell_type": "code",
   "execution_count": 42,
   "metadata": {},
   "outputs": [],
   "source": [
    "for rt in response_times:\n",
    "    for g_force in[8]:\n",
    "        for seed in range(5):\n",
    "            if not os.path.isfile('../reflex/models/TD3_reflex_InvertedPendulum-v2_'+str(seed)+'_0.02_'+str(float(g_force))+'_'+str(rt)+'_1.0_0.01_0.1_best_actor'):\n",
    "                print (rt, g_force, seed)"
   ]
  },
  {
   "cell_type": "code",
   "execution_count": 73,
   "metadata": {},
   "outputs": [
    {
     "name": "stdout",
     "output_type": "stream",
     "text": [
      "0.02 8\n",
      "0.04 8\n",
      "0.08 8\n",
      "0.16 8\n",
      "0.32 8\n",
      "0.64 8\n"
     ]
    }
   ],
   "source": [
    "df = pd.DataFrame(columns=['seed', 'g_force', 'response_rate', 'reward', 'angle', 'jerk', 'actions'])\n",
    "# df = torch.load('dataframe')\n",
    "default_timestep = 0.02\n",
    "default_frame_skip = 2\n",
    "jit_duration = 0.02\n",
    "env_name = 'InvertedPendulum-v2'\n",
    "reflex_response_rate = 0.02\n",
    "for response_rate in response_times:\n",
    "    for g_force in [8]:\n",
    "        print(response_rate, g_force)\n",
    "        for seed in range(5):\n",
    "            states = []\n",
    "            arguments = ['TD3', 'reflex', env_name, seed, jit_duration, float(g_force), response_rate, 1.0, reflex_response_rate, 0.19, 'best']\n",
    "            file_name = '_'.join([str(x) for x in arguments])\n",
    "\n",
    "            if reflex_response_rate % default_timestep == 0:\n",
    "                frame_skip = response_rate / default_timestep\n",
    "                timestep = default_timestep\n",
    "            elif jit_duration < reflex_response_rate:\n",
    "                timestep = jit_duration\n",
    "                frame_skip = response_rate / timestep\n",
    "            else:\n",
    "                timestep = reflex_response_rate\n",
    "                frame_skip = response_rate / timestep\n",
    "\n",
    "            jit_frames = 0  # How many frames the horizontal jitter force lasts each time\n",
    "            if jit_duration:\n",
    "                if jit_duration % timestep == 0:\n",
    "                    jit_frames = int(jit_duration / timestep)\n",
    "                else:\n",
    "                    raise ValueError(\n",
    "                        \"jit_duration should be a multiple of the timestep: \" + str(timestep))\n",
    "\n",
    "            reflex_frames = int(reflex_response_rate / timestep)\n",
    "\n",
    "            time_change_factor = (default_timestep * default_frame_skip) / (timestep * frame_skip)\n",
    "            eval_env = make_env(env_name, seed, time_change_factor, timestep, frame_skip, True)\n",
    "            eval_env.env.env._max_episode_steps = 100000\n",
    "            state_dim = eval_env.observation_space[0].shape[0]\n",
    "            action_dim = eval_env.action_space.shape[0]\n",
    "            max_action = float(eval_env.action_space.high[0])\n",
    "            kwargs = {\n",
    "                \"state_dim\": state_dim,\n",
    "                \"action_dim\": action_dim,\n",
    "                \"observation_space\": eval_env.observation_space,\n",
    "                \"max_action\": max_action,\n",
    "                \"discount\": 0.99,\n",
    "                \"tau\": 0.005,\n",
    "                \"delayed_env\": True,\n",
    "                \"reflex\": True\n",
    "            }\n",
    "            kwargs[\"policy_noise\"] = 2 * max_action\n",
    "            kwargs[\"noise_clip\"] = 0.5 * max_action\n",
    "            kwargs[\"policy_freq\"] = 2\n",
    "            policy = TD3.TD3(**kwargs)\n",
    "            policy_file = file_name\n",
    "            if os.path.exists('../reflex/models/' + policy_file + \"_critic\"):\n",
    "                policy.load(f\"../reflex/models/{policy_file}\")\n",
    "                avg_reward = 0.\n",
    "                avg_angle = 0.\n",
    "                steps = 0\n",
    "                actions = 0\n",
    "\n",
    "                t = 0\n",
    "                forces = []\n",
    "                force_times = []\n",
    "                for _ in range(10):\n",
    "                    state, done = eval_env.reset(), False\n",
    "                    eval_env.model.opt.gravity[0] = 0\n",
    "                    counter = 0\n",
    "                    disturb = 5\n",
    "                    jittering = False\n",
    "                    force = 0.25\n",
    "                    prev_action = None\n",
    "                    jerk = 0\n",
    "                    while not done:\n",
    "                        reflex, action = policy.select_action(state)\n",
    "\n",
    "                        if reflex:\n",
    "                            actions += 2\n",
    "                        else:\n",
    "                            actions += 1\n",
    "                        # Perform action\n",
    "                        if not jittering and round(disturb - counter,\n",
    "                                                   3) >= response_rate:  # Not during the frames when jitter force keeps existing\n",
    "                            next_state, reward, done = env_step(eval_env, reflex, action, reflex_frames, frame_skip)\n",
    "                            counter += response_rate\n",
    "                        elif not jittering and round(disturb - counter, 3) < response_rate:\n",
    "                            forces.append(force)\n",
    "                            force_times.append(t)\n",
    "                            frames_simulated = 0\n",
    "                            force_frames_simulated = 0\n",
    "                            jitter_force = force * 9.81 * (\n",
    "                                        2 * (np.random.random() > 0.5) - 1)  # Jitter force strength w/ direction\n",
    "\n",
    "                            if reflex and round(disturb - counter, 3) / timestep >= reflex_frames:\n",
    "                                next_state, reward, done, _ = eval_env.jitter_step_end(reflex, 0, reflex_frames, 0)\n",
    "                                frames_simulated += reflex_frames\n",
    "                            elif reflex and round(disturb - counter, 3) / timestep < reflex_frames:\n",
    "                                next_state, reward, done, _ = eval_env.jitter_step_end(reflex, 0,\n",
    "                                                                                  round(disturb - counter, 3) / timestep, 0)\n",
    "                                next_state, reward, done, _ = eval_env.jitter_step_end(reflex, jitter_force,\n",
    "                                                                                  reflex_frames - (round(disturb - counter, 3) / timestep), 0)\n",
    "                                frames_simulated += reflex_frames\n",
    "                                force_frames_simulated += reflex_frames - (round(disturb - counter, 3) / timestep)\n",
    "\n",
    "                            next_state, reward, done, _ = eval_env.jitter_step_start(action, jitter_force,\n",
    "                                                        max((round(disturb - counter, 3) / timestep) - frames_simulated, 0),\n",
    "                                                        frame_skip - max((round(disturb - counter, 3) / timestep),\n",
    "                                                        frames_simulated), jit_frames - force_frames_simulated)\n",
    "\n",
    "\n",
    "                            jittered_frames = frame_skip - (round(disturb - counter, 3) / timestep)\n",
    "                            if jittered_frames >= jit_frames:\n",
    "                                jittered_frames = 0\n",
    "                                jittering = False\n",
    "                                eval_env.model.opt.gravity[0] = 0\n",
    "                                counter = 0\n",
    "                                force += 0.25\n",
    "                            else:\n",
    "                                jittering = True\n",
    "                                eval_env.model.opt.gravity[0] = jitter_force\n",
    "                                counter += response_rate\n",
    "\n",
    "                        elif jit_frames - jittered_frames < frame_skip:  # Jitter force will dispear from now!\n",
    "                            frames_simulated = 0\n",
    "                            if reflex:\n",
    "                                if reflex_frames <= jit_frames - jittered_frames:\n",
    "                                    next_state, reward, done, _ = eval_env.jitter_step_end(reflex, jitter_force, reflex_frames, 0)\n",
    "                                else:\n",
    "                                    next_state, reward, done, _ = eval_env.jitter_step_end(reflex, jitter_force,\n",
    "                                                                                      jit_frames - jittered_frames,\n",
    "                                                                                      reflex_frames - jit_frames + jittered_frames)\n",
    "\n",
    "                                frames_simulated += reflex_frames\n",
    "\n",
    "                            next_state, reward, done, _ = eval_env.jitter_step_end(\n",
    "                                action, jitter_force, max(jit_frames - jittered_frames - frames_simulated, 0),\n",
    "                                frame_skip - max((jit_frames - jittered_frames), frames_simulated))\n",
    "                            jittering = False  # Stop jittering now\n",
    "                            eval_env.model.opt.gravity[0] = 0\n",
    "                            jittered_frames = 0\n",
    "                            counter = 0\n",
    "                            force += 0.25\n",
    "                        else:  # Jitter force keeps existing now!\n",
    "                            next_state, reward, done = env_step(eval_env, reflex, action, reflex_frames, frame_skip)\n",
    "                            jittered_frames += frame_skip\n",
    "                            counter += response_rate\n",
    "                            if jittered_frames == jit_frames:\n",
    "                                jittering = False\n",
    "                                eval_env.model.opt.gravity[0] = 0\n",
    "                                counter = 0\n",
    "                                force += 0.25\n",
    "\n",
    "                        avg_reward += reward\n",
    "                        avg_angle += abs(next_state[1])\n",
    "                        state = next_state\n",
    "                        counter = round(counter, 3)\n",
    "                        if jit_duration:\n",
    "                            if counter == disturb:\n",
    "                                forces.append(force)\n",
    "                                force_times.append(t)\n",
    "                                jitter_force = force * 9.81 * (2 * (random.random() > 0.5) - 1)\n",
    "                                eval_env.model.opt.gravity[0] = jitter_force\n",
    "                                jittering = True\n",
    "                                jittered_frames = 0\n",
    "\n",
    "                        t += 1\n",
    "                        if prev_action:\n",
    "                            jerk += abs(action[0] - prev_action)\n",
    "                        prev_action = action[0]\n",
    "                        states.append(state)\n",
    "\n",
    "                avg_reward /= 10\n",
    "                avg_angle /= 10\n",
    "                jerk /= avg_reward\n",
    "                actions /= 10\n",
    "                df.loc[len(df.index)] = [seed, g_force, response_rate, avg_reward, avg_angle, jerk, actions]\n"
   ]
  },
  {
   "cell_type": "code",
   "execution_count": 74,
   "metadata": {},
   "outputs": [],
   "source": [
    "torch.save(df, 'dataframe_inverted_pendulum_not_diverged_torch')"
   ]
  },
  {
   "cell_type": "code",
   "execution_count": 75,
   "metadata": {},
   "outputs": [],
   "source": [
    "df = torch.load('dataframe_inverted_pendulum_not_diverged_torch')"
   ]
  },
  {
   "cell_type": "code",
   "execution_count": 76,
   "metadata": {},
   "outputs": [],
   "source": [
    "df['reward'] = df['reward'] * df['response_rate']\n",
    "\n",
    "df['jerk'] = df['jerk'] / df['response_rate']\n",
    "rewards = pd.crosstab(df['g_force'], df['response_rate'], values=df['reward'], aggfunc='mean')\n",
    "jerks = pd.crosstab(df['g_force'], df['response_rate'], values=df['jerk'], aggfunc='mean')\n",
    "actions = pd.crosstab(df['g_force'], df['response_rate'], values=df['actions'], aggfunc='mean')"
   ]
  },
  {
   "cell_type": "code",
   "execution_count": 77,
   "metadata": {},
   "outputs": [
    {
     "data": {
      "application/vnd.plotly.v1+json": {
       "config": {
        "plotlyServerURL": "https://plot.ly"
       },
       "data": [
        {
         "colorscale": [
          [
           0,
           "rgb(247,251,255)"
          ],
          [
           0.125,
           "rgb(222,235,247)"
          ],
          [
           0.25,
           "rgb(198,219,239)"
          ],
          [
           0.375,
           "rgb(158,202,225)"
          ],
          [
           0.5,
           "rgb(107,174,214)"
          ],
          [
           0.625,
           "rgb(66,146,198)"
          ],
          [
           0.75,
           "rgb(33,113,181)"
          ],
          [
           0.875,
           "rgb(8,81,156)"
          ],
          [
           1,
           "rgb(8,48,107)"
          ]
         ],
         "reversescale": false,
         "showscale": true,
         "type": "heatmap",
         "x": [
          "0.02s",
          "0.04s",
          "0.08s",
          "0.16s",
          "0.32s",
          "0.64s"
         ],
         "y": [
          "8g"
         ],
         "z": [
          [
           158.81480000000002,
           146.336,
           122.2512,
           30.147199999999998,
           1.4528,
           1.472
          ]
         ]
        }
       ],
       "layout": {
        "annotations": [
         {
          "font": {
           "color": "#FFFFFF"
          },
          "showarrow": false,
          "text": "158.81",
          "x": "0.02s",
          "xref": "x",
          "y": "8g",
          "yref": "y"
         },
         {
          "font": {
           "color": "#FFFFFF"
          },
          "showarrow": false,
          "text": "146.34",
          "x": "0.04s",
          "xref": "x",
          "y": "8g",
          "yref": "y"
         },
         {
          "font": {
           "color": "#FFFFFF"
          },
          "showarrow": false,
          "text": "122.25",
          "x": "0.08s",
          "xref": "x",
          "y": "8g",
          "yref": "y"
         },
         {
          "font": {
           "color": "#000000"
          },
          "showarrow": false,
          "text": "30.15",
          "x": "0.16s",
          "xref": "x",
          "y": "8g",
          "yref": "y"
         },
         {
          "font": {
           "color": "#000000"
          },
          "showarrow": false,
          "text": "1.45",
          "x": "0.32s",
          "xref": "x",
          "y": "8g",
          "yref": "y"
         },
         {
          "font": {
           "color": "#000000"
          },
          "showarrow": false,
          "text": "1.47",
          "x": "0.64s",
          "xref": "x",
          "y": "8g",
          "yref": "y"
         }
        ],
        "font": {
         "size": 15
        },
        "height": 700,
        "template": {
         "data": {
          "bar": [
           {
            "error_x": {
             "color": "#2a3f5f"
            },
            "error_y": {
             "color": "#2a3f5f"
            },
            "marker": {
             "line": {
              "color": "#E5ECF6",
              "width": 0.5
             },
             "pattern": {
              "fillmode": "overlay",
              "size": 10,
              "solidity": 0.2
             }
            },
            "type": "bar"
           }
          ],
          "barpolar": [
           {
            "marker": {
             "line": {
              "color": "#E5ECF6",
              "width": 0.5
             },
             "pattern": {
              "fillmode": "overlay",
              "size": 10,
              "solidity": 0.2
             }
            },
            "type": "barpolar"
           }
          ],
          "carpet": [
           {
            "aaxis": {
             "endlinecolor": "#2a3f5f",
             "gridcolor": "white",
             "linecolor": "white",
             "minorgridcolor": "white",
             "startlinecolor": "#2a3f5f"
            },
            "baxis": {
             "endlinecolor": "#2a3f5f",
             "gridcolor": "white",
             "linecolor": "white",
             "minorgridcolor": "white",
             "startlinecolor": "#2a3f5f"
            },
            "type": "carpet"
           }
          ],
          "choropleth": [
           {
            "colorbar": {
             "outlinewidth": 0,
             "ticks": ""
            },
            "type": "choropleth"
           }
          ],
          "contour": [
           {
            "colorbar": {
             "outlinewidth": 0,
             "ticks": ""
            },
            "colorscale": [
             [
              0,
              "#0d0887"
             ],
             [
              0.1111111111111111,
              "#46039f"
             ],
             [
              0.2222222222222222,
              "#7201a8"
             ],
             [
              0.3333333333333333,
              "#9c179e"
             ],
             [
              0.4444444444444444,
              "#bd3786"
             ],
             [
              0.5555555555555556,
              "#d8576b"
             ],
             [
              0.6666666666666666,
              "#ed7953"
             ],
             [
              0.7777777777777778,
              "#fb9f3a"
             ],
             [
              0.8888888888888888,
              "#fdca26"
             ],
             [
              1,
              "#f0f921"
             ]
            ],
            "type": "contour"
           }
          ],
          "contourcarpet": [
           {
            "colorbar": {
             "outlinewidth": 0,
             "ticks": ""
            },
            "type": "contourcarpet"
           }
          ],
          "heatmap": [
           {
            "colorbar": {
             "outlinewidth": 0,
             "ticks": ""
            },
            "colorscale": [
             [
              0,
              "#0d0887"
             ],
             [
              0.1111111111111111,
              "#46039f"
             ],
             [
              0.2222222222222222,
              "#7201a8"
             ],
             [
              0.3333333333333333,
              "#9c179e"
             ],
             [
              0.4444444444444444,
              "#bd3786"
             ],
             [
              0.5555555555555556,
              "#d8576b"
             ],
             [
              0.6666666666666666,
              "#ed7953"
             ],
             [
              0.7777777777777778,
              "#fb9f3a"
             ],
             [
              0.8888888888888888,
              "#fdca26"
             ],
             [
              1,
              "#f0f921"
             ]
            ],
            "type": "heatmap"
           }
          ],
          "heatmapgl": [
           {
            "colorbar": {
             "outlinewidth": 0,
             "ticks": ""
            },
            "colorscale": [
             [
              0,
              "#0d0887"
             ],
             [
              0.1111111111111111,
              "#46039f"
             ],
             [
              0.2222222222222222,
              "#7201a8"
             ],
             [
              0.3333333333333333,
              "#9c179e"
             ],
             [
              0.4444444444444444,
              "#bd3786"
             ],
             [
              0.5555555555555556,
              "#d8576b"
             ],
             [
              0.6666666666666666,
              "#ed7953"
             ],
             [
              0.7777777777777778,
              "#fb9f3a"
             ],
             [
              0.8888888888888888,
              "#fdca26"
             ],
             [
              1,
              "#f0f921"
             ]
            ],
            "type": "heatmapgl"
           }
          ],
          "histogram": [
           {
            "marker": {
             "pattern": {
              "fillmode": "overlay",
              "size": 10,
              "solidity": 0.2
             }
            },
            "type": "histogram"
           }
          ],
          "histogram2d": [
           {
            "colorbar": {
             "outlinewidth": 0,
             "ticks": ""
            },
            "colorscale": [
             [
              0,
              "#0d0887"
             ],
             [
              0.1111111111111111,
              "#46039f"
             ],
             [
              0.2222222222222222,
              "#7201a8"
             ],
             [
              0.3333333333333333,
              "#9c179e"
             ],
             [
              0.4444444444444444,
              "#bd3786"
             ],
             [
              0.5555555555555556,
              "#d8576b"
             ],
             [
              0.6666666666666666,
              "#ed7953"
             ],
             [
              0.7777777777777778,
              "#fb9f3a"
             ],
             [
              0.8888888888888888,
              "#fdca26"
             ],
             [
              1,
              "#f0f921"
             ]
            ],
            "type": "histogram2d"
           }
          ],
          "histogram2dcontour": [
           {
            "colorbar": {
             "outlinewidth": 0,
             "ticks": ""
            },
            "colorscale": [
             [
              0,
              "#0d0887"
             ],
             [
              0.1111111111111111,
              "#46039f"
             ],
             [
              0.2222222222222222,
              "#7201a8"
             ],
             [
              0.3333333333333333,
              "#9c179e"
             ],
             [
              0.4444444444444444,
              "#bd3786"
             ],
             [
              0.5555555555555556,
              "#d8576b"
             ],
             [
              0.6666666666666666,
              "#ed7953"
             ],
             [
              0.7777777777777778,
              "#fb9f3a"
             ],
             [
              0.8888888888888888,
              "#fdca26"
             ],
             [
              1,
              "#f0f921"
             ]
            ],
            "type": "histogram2dcontour"
           }
          ],
          "mesh3d": [
           {
            "colorbar": {
             "outlinewidth": 0,
             "ticks": ""
            },
            "type": "mesh3d"
           }
          ],
          "parcoords": [
           {
            "line": {
             "colorbar": {
              "outlinewidth": 0,
              "ticks": ""
             }
            },
            "type": "parcoords"
           }
          ],
          "pie": [
           {
            "automargin": true,
            "type": "pie"
           }
          ],
          "scatter": [
           {
            "marker": {
             "colorbar": {
              "outlinewidth": 0,
              "ticks": ""
             }
            },
            "type": "scatter"
           }
          ],
          "scatter3d": [
           {
            "line": {
             "colorbar": {
              "outlinewidth": 0,
              "ticks": ""
             }
            },
            "marker": {
             "colorbar": {
              "outlinewidth": 0,
              "ticks": ""
             }
            },
            "type": "scatter3d"
           }
          ],
          "scattercarpet": [
           {
            "marker": {
             "colorbar": {
              "outlinewidth": 0,
              "ticks": ""
             }
            },
            "type": "scattercarpet"
           }
          ],
          "scattergeo": [
           {
            "marker": {
             "colorbar": {
              "outlinewidth": 0,
              "ticks": ""
             }
            },
            "type": "scattergeo"
           }
          ],
          "scattergl": [
           {
            "marker": {
             "colorbar": {
              "outlinewidth": 0,
              "ticks": ""
             }
            },
            "type": "scattergl"
           }
          ],
          "scattermapbox": [
           {
            "marker": {
             "colorbar": {
              "outlinewidth": 0,
              "ticks": ""
             }
            },
            "type": "scattermapbox"
           }
          ],
          "scatterpolar": [
           {
            "marker": {
             "colorbar": {
              "outlinewidth": 0,
              "ticks": ""
             }
            },
            "type": "scatterpolar"
           }
          ],
          "scatterpolargl": [
           {
            "marker": {
             "colorbar": {
              "outlinewidth": 0,
              "ticks": ""
             }
            },
            "type": "scatterpolargl"
           }
          ],
          "scatterternary": [
           {
            "marker": {
             "colorbar": {
              "outlinewidth": 0,
              "ticks": ""
             }
            },
            "type": "scatterternary"
           }
          ],
          "surface": [
           {
            "colorbar": {
             "outlinewidth": 0,
             "ticks": ""
            },
            "colorscale": [
             [
              0,
              "#0d0887"
             ],
             [
              0.1111111111111111,
              "#46039f"
             ],
             [
              0.2222222222222222,
              "#7201a8"
             ],
             [
              0.3333333333333333,
              "#9c179e"
             ],
             [
              0.4444444444444444,
              "#bd3786"
             ],
             [
              0.5555555555555556,
              "#d8576b"
             ],
             [
              0.6666666666666666,
              "#ed7953"
             ],
             [
              0.7777777777777778,
              "#fb9f3a"
             ],
             [
              0.8888888888888888,
              "#fdca26"
             ],
             [
              1,
              "#f0f921"
             ]
            ],
            "type": "surface"
           }
          ],
          "table": [
           {
            "cells": {
             "fill": {
              "color": "#EBF0F8"
             },
             "line": {
              "color": "white"
             }
            },
            "header": {
             "fill": {
              "color": "#C8D4E3"
             },
             "line": {
              "color": "white"
             }
            },
            "type": "table"
           }
          ]
         },
         "layout": {
          "annotationdefaults": {
           "arrowcolor": "#2a3f5f",
           "arrowhead": 0,
           "arrowwidth": 1
          },
          "autotypenumbers": "strict",
          "coloraxis": {
           "colorbar": {
            "outlinewidth": 0,
            "ticks": ""
           }
          },
          "colorscale": {
           "diverging": [
            [
             0,
             "#8e0152"
            ],
            [
             0.1,
             "#c51b7d"
            ],
            [
             0.2,
             "#de77ae"
            ],
            [
             0.3,
             "#f1b6da"
            ],
            [
             0.4,
             "#fde0ef"
            ],
            [
             0.5,
             "#f7f7f7"
            ],
            [
             0.6,
             "#e6f5d0"
            ],
            [
             0.7,
             "#b8e186"
            ],
            [
             0.8,
             "#7fbc41"
            ],
            [
             0.9,
             "#4d9221"
            ],
            [
             1,
             "#276419"
            ]
           ],
           "sequential": [
            [
             0,
             "#0d0887"
            ],
            [
             0.1111111111111111,
             "#46039f"
            ],
            [
             0.2222222222222222,
             "#7201a8"
            ],
            [
             0.3333333333333333,
             "#9c179e"
            ],
            [
             0.4444444444444444,
             "#bd3786"
            ],
            [
             0.5555555555555556,
             "#d8576b"
            ],
            [
             0.6666666666666666,
             "#ed7953"
            ],
            [
             0.7777777777777778,
             "#fb9f3a"
            ],
            [
             0.8888888888888888,
             "#fdca26"
            ],
            [
             1,
             "#f0f921"
            ]
           ],
           "sequentialminus": [
            [
             0,
             "#0d0887"
            ],
            [
             0.1111111111111111,
             "#46039f"
            ],
            [
             0.2222222222222222,
             "#7201a8"
            ],
            [
             0.3333333333333333,
             "#9c179e"
            ],
            [
             0.4444444444444444,
             "#bd3786"
            ],
            [
             0.5555555555555556,
             "#d8576b"
            ],
            [
             0.6666666666666666,
             "#ed7953"
            ],
            [
             0.7777777777777778,
             "#fb9f3a"
            ],
            [
             0.8888888888888888,
             "#fdca26"
            ],
            [
             1,
             "#f0f921"
            ]
           ]
          },
          "colorway": [
           "#636efa",
           "#EF553B",
           "#00cc96",
           "#ab63fa",
           "#FFA15A",
           "#19d3f3",
           "#FF6692",
           "#B6E880",
           "#FF97FF",
           "#FECB52"
          ],
          "font": {
           "color": "#2a3f5f"
          },
          "geo": {
           "bgcolor": "white",
           "lakecolor": "white",
           "landcolor": "#E5ECF6",
           "showlakes": true,
           "showland": true,
           "subunitcolor": "white"
          },
          "hoverlabel": {
           "align": "left"
          },
          "hovermode": "closest",
          "mapbox": {
           "style": "light"
          },
          "paper_bgcolor": "white",
          "plot_bgcolor": "#E5ECF6",
          "polar": {
           "angularaxis": {
            "gridcolor": "white",
            "linecolor": "white",
            "ticks": ""
           },
           "bgcolor": "#E5ECF6",
           "radialaxis": {
            "gridcolor": "white",
            "linecolor": "white",
            "ticks": ""
           }
          },
          "scene": {
           "xaxis": {
            "backgroundcolor": "#E5ECF6",
            "gridcolor": "white",
            "gridwidth": 2,
            "linecolor": "white",
            "showbackground": true,
            "ticks": "",
            "zerolinecolor": "white"
           },
           "yaxis": {
            "backgroundcolor": "#E5ECF6",
            "gridcolor": "white",
            "gridwidth": 2,
            "linecolor": "white",
            "showbackground": true,
            "ticks": "",
            "zerolinecolor": "white"
           },
           "zaxis": {
            "backgroundcolor": "#E5ECF6",
            "gridcolor": "white",
            "gridwidth": 2,
            "linecolor": "white",
            "showbackground": true,
            "ticks": "",
            "zerolinecolor": "white"
           }
          },
          "shapedefaults": {
           "line": {
            "color": "#2a3f5f"
           }
          },
          "ternary": {
           "aaxis": {
            "gridcolor": "white",
            "linecolor": "white",
            "ticks": ""
           },
           "baxis": {
            "gridcolor": "white",
            "linecolor": "white",
            "ticks": ""
           },
           "bgcolor": "#E5ECF6",
           "caxis": {
            "gridcolor": "white",
            "linecolor": "white",
            "ticks": ""
           }
          },
          "title": {
           "x": 0.05
          },
          "xaxis": {
           "automargin": true,
           "gridcolor": "white",
           "linecolor": "white",
           "ticks": "",
           "title": {
            "standoff": 15
           },
           "zerolinecolor": "white",
           "zerolinewidth": 2
          },
          "yaxis": {
           "automargin": true,
           "gridcolor": "white",
           "linecolor": "white",
           "ticks": "",
           "title": {
            "standoff": 15
           },
           "zerolinecolor": "white",
           "zerolinewidth": 2
          }
         }
        },
        "xaxis": {
         "dtick": 1,
         "gridcolor": "rgb(0, 0, 0)",
         "side": "bottom",
         "ticks": "",
         "title": {
          "text": "Response Time"
         }
        },
        "yaxis": {
         "dtick": 1,
         "ticks": "",
         "ticksuffix": "  ",
         "title": {
          "text": "Max Pertubation during training"
         }
        }
       }
      },
      "text/html": [
       "<div>                            <div id=\"70964666-6740-417b-a6bf-89c7cb154600\" class=\"plotly-graph-div\" style=\"height:700px; width:100%;\"></div>            <script type=\"text/javascript\">                require([\"plotly\"], function(Plotly) {                    window.PLOTLYENV=window.PLOTLYENV || {};                                    if (document.getElementById(\"70964666-6740-417b-a6bf-89c7cb154600\")) {                    Plotly.newPlot(                        \"70964666-6740-417b-a6bf-89c7cb154600\",                        [{\"colorscale\":[[0.0,\"rgb(247,251,255)\"],[0.125,\"rgb(222,235,247)\"],[0.25,\"rgb(198,219,239)\"],[0.375,\"rgb(158,202,225)\"],[0.5,\"rgb(107,174,214)\"],[0.625,\"rgb(66,146,198)\"],[0.75,\"rgb(33,113,181)\"],[0.875,\"rgb(8,81,156)\"],[1.0,\"rgb(8,48,107)\"]],\"reversescale\":false,\"showscale\":true,\"type\":\"heatmap\",\"x\":[\"0.02s\",\"0.04s\",\"0.08s\",\"0.16s\",\"0.32s\",\"0.64s\"],\"y\":[\"8g\"],\"z\":[[158.81480000000002,146.336,122.2512,30.147199999999998,1.4528,1.472]]}],                        {\"annotations\":[{\"font\":{\"color\":\"#FFFFFF\"},\"showarrow\":false,\"text\":\"158.81\",\"x\":\"0.02s\",\"xref\":\"x\",\"y\":\"8g\",\"yref\":\"y\"},{\"font\":{\"color\":\"#FFFFFF\"},\"showarrow\":false,\"text\":\"146.34\",\"x\":\"0.04s\",\"xref\":\"x\",\"y\":\"8g\",\"yref\":\"y\"},{\"font\":{\"color\":\"#FFFFFF\"},\"showarrow\":false,\"text\":\"122.25\",\"x\":\"0.08s\",\"xref\":\"x\",\"y\":\"8g\",\"yref\":\"y\"},{\"font\":{\"color\":\"#000000\"},\"showarrow\":false,\"text\":\"30.15\",\"x\":\"0.16s\",\"xref\":\"x\",\"y\":\"8g\",\"yref\":\"y\"},{\"font\":{\"color\":\"#000000\"},\"showarrow\":false,\"text\":\"1.45\",\"x\":\"0.32s\",\"xref\":\"x\",\"y\":\"8g\",\"yref\":\"y\"},{\"font\":{\"color\":\"#000000\"},\"showarrow\":false,\"text\":\"1.47\",\"x\":\"0.64s\",\"xref\":\"x\",\"y\":\"8g\",\"yref\":\"y\"}],\"font\":{\"size\":15},\"height\":700,\"template\":{\"data\":{\"bar\":[{\"error_x\":{\"color\":\"#2a3f5f\"},\"error_y\":{\"color\":\"#2a3f5f\"},\"marker\":{\"line\":{\"color\":\"#E5ECF6\",\"width\":0.5},\"pattern\":{\"fillmode\":\"overlay\",\"size\":10,\"solidity\":0.2}},\"type\":\"bar\"}],\"barpolar\":[{\"marker\":{\"line\":{\"color\":\"#E5ECF6\",\"width\":0.5},\"pattern\":{\"fillmode\":\"overlay\",\"size\":10,\"solidity\":0.2}},\"type\":\"barpolar\"}],\"carpet\":[{\"aaxis\":{\"endlinecolor\":\"#2a3f5f\",\"gridcolor\":\"white\",\"linecolor\":\"white\",\"minorgridcolor\":\"white\",\"startlinecolor\":\"#2a3f5f\"},\"baxis\":{\"endlinecolor\":\"#2a3f5f\",\"gridcolor\":\"white\",\"linecolor\":\"white\",\"minorgridcolor\":\"white\",\"startlinecolor\":\"#2a3f5f\"},\"type\":\"carpet\"}],\"choropleth\":[{\"colorbar\":{\"outlinewidth\":0,\"ticks\":\"\"},\"type\":\"choropleth\"}],\"contour\":[{\"colorbar\":{\"outlinewidth\":0,\"ticks\":\"\"},\"colorscale\":[[0.0,\"#0d0887\"],[0.1111111111111111,\"#46039f\"],[0.2222222222222222,\"#7201a8\"],[0.3333333333333333,\"#9c179e\"],[0.4444444444444444,\"#bd3786\"],[0.5555555555555556,\"#d8576b\"],[0.6666666666666666,\"#ed7953\"],[0.7777777777777778,\"#fb9f3a\"],[0.8888888888888888,\"#fdca26\"],[1.0,\"#f0f921\"]],\"type\":\"contour\"}],\"contourcarpet\":[{\"colorbar\":{\"outlinewidth\":0,\"ticks\":\"\"},\"type\":\"contourcarpet\"}],\"heatmap\":[{\"colorbar\":{\"outlinewidth\":0,\"ticks\":\"\"},\"colorscale\":[[0.0,\"#0d0887\"],[0.1111111111111111,\"#46039f\"],[0.2222222222222222,\"#7201a8\"],[0.3333333333333333,\"#9c179e\"],[0.4444444444444444,\"#bd3786\"],[0.5555555555555556,\"#d8576b\"],[0.6666666666666666,\"#ed7953\"],[0.7777777777777778,\"#fb9f3a\"],[0.8888888888888888,\"#fdca26\"],[1.0,\"#f0f921\"]],\"type\":\"heatmap\"}],\"heatmapgl\":[{\"colorbar\":{\"outlinewidth\":0,\"ticks\":\"\"},\"colorscale\":[[0.0,\"#0d0887\"],[0.1111111111111111,\"#46039f\"],[0.2222222222222222,\"#7201a8\"],[0.3333333333333333,\"#9c179e\"],[0.4444444444444444,\"#bd3786\"],[0.5555555555555556,\"#d8576b\"],[0.6666666666666666,\"#ed7953\"],[0.7777777777777778,\"#fb9f3a\"],[0.8888888888888888,\"#fdca26\"],[1.0,\"#f0f921\"]],\"type\":\"heatmapgl\"}],\"histogram\":[{\"marker\":{\"pattern\":{\"fillmode\":\"overlay\",\"size\":10,\"solidity\":0.2}},\"type\":\"histogram\"}],\"histogram2d\":[{\"colorbar\":{\"outlinewidth\":0,\"ticks\":\"\"},\"colorscale\":[[0.0,\"#0d0887\"],[0.1111111111111111,\"#46039f\"],[0.2222222222222222,\"#7201a8\"],[0.3333333333333333,\"#9c179e\"],[0.4444444444444444,\"#bd3786\"],[0.5555555555555556,\"#d8576b\"],[0.6666666666666666,\"#ed7953\"],[0.7777777777777778,\"#fb9f3a\"],[0.8888888888888888,\"#fdca26\"],[1.0,\"#f0f921\"]],\"type\":\"histogram2d\"}],\"histogram2dcontour\":[{\"colorbar\":{\"outlinewidth\":0,\"ticks\":\"\"},\"colorscale\":[[0.0,\"#0d0887\"],[0.1111111111111111,\"#46039f\"],[0.2222222222222222,\"#7201a8\"],[0.3333333333333333,\"#9c179e\"],[0.4444444444444444,\"#bd3786\"],[0.5555555555555556,\"#d8576b\"],[0.6666666666666666,\"#ed7953\"],[0.7777777777777778,\"#fb9f3a\"],[0.8888888888888888,\"#fdca26\"],[1.0,\"#f0f921\"]],\"type\":\"histogram2dcontour\"}],\"mesh3d\":[{\"colorbar\":{\"outlinewidth\":0,\"ticks\":\"\"},\"type\":\"mesh3d\"}],\"parcoords\":[{\"line\":{\"colorbar\":{\"outlinewidth\":0,\"ticks\":\"\"}},\"type\":\"parcoords\"}],\"pie\":[{\"automargin\":true,\"type\":\"pie\"}],\"scatter\":[{\"marker\":{\"colorbar\":{\"outlinewidth\":0,\"ticks\":\"\"}},\"type\":\"scatter\"}],\"scatter3d\":[{\"line\":{\"colorbar\":{\"outlinewidth\":0,\"ticks\":\"\"}},\"marker\":{\"colorbar\":{\"outlinewidth\":0,\"ticks\":\"\"}},\"type\":\"scatter3d\"}],\"scattercarpet\":[{\"marker\":{\"colorbar\":{\"outlinewidth\":0,\"ticks\":\"\"}},\"type\":\"scattercarpet\"}],\"scattergeo\":[{\"marker\":{\"colorbar\":{\"outlinewidth\":0,\"ticks\":\"\"}},\"type\":\"scattergeo\"}],\"scattergl\":[{\"marker\":{\"colorbar\":{\"outlinewidth\":0,\"ticks\":\"\"}},\"type\":\"scattergl\"}],\"scattermapbox\":[{\"marker\":{\"colorbar\":{\"outlinewidth\":0,\"ticks\":\"\"}},\"type\":\"scattermapbox\"}],\"scatterpolar\":[{\"marker\":{\"colorbar\":{\"outlinewidth\":0,\"ticks\":\"\"}},\"type\":\"scatterpolar\"}],\"scatterpolargl\":[{\"marker\":{\"colorbar\":{\"outlinewidth\":0,\"ticks\":\"\"}},\"type\":\"scatterpolargl\"}],\"scatterternary\":[{\"marker\":{\"colorbar\":{\"outlinewidth\":0,\"ticks\":\"\"}},\"type\":\"scatterternary\"}],\"surface\":[{\"colorbar\":{\"outlinewidth\":0,\"ticks\":\"\"},\"colorscale\":[[0.0,\"#0d0887\"],[0.1111111111111111,\"#46039f\"],[0.2222222222222222,\"#7201a8\"],[0.3333333333333333,\"#9c179e\"],[0.4444444444444444,\"#bd3786\"],[0.5555555555555556,\"#d8576b\"],[0.6666666666666666,\"#ed7953\"],[0.7777777777777778,\"#fb9f3a\"],[0.8888888888888888,\"#fdca26\"],[1.0,\"#f0f921\"]],\"type\":\"surface\"}],\"table\":[{\"cells\":{\"fill\":{\"color\":\"#EBF0F8\"},\"line\":{\"color\":\"white\"}},\"header\":{\"fill\":{\"color\":\"#C8D4E3\"},\"line\":{\"color\":\"white\"}},\"type\":\"table\"}]},\"layout\":{\"annotationdefaults\":{\"arrowcolor\":\"#2a3f5f\",\"arrowhead\":0,\"arrowwidth\":1},\"autotypenumbers\":\"strict\",\"coloraxis\":{\"colorbar\":{\"outlinewidth\":0,\"ticks\":\"\"}},\"colorscale\":{\"diverging\":[[0,\"#8e0152\"],[0.1,\"#c51b7d\"],[0.2,\"#de77ae\"],[0.3,\"#f1b6da\"],[0.4,\"#fde0ef\"],[0.5,\"#f7f7f7\"],[0.6,\"#e6f5d0\"],[0.7,\"#b8e186\"],[0.8,\"#7fbc41\"],[0.9,\"#4d9221\"],[1,\"#276419\"]],\"sequential\":[[0.0,\"#0d0887\"],[0.1111111111111111,\"#46039f\"],[0.2222222222222222,\"#7201a8\"],[0.3333333333333333,\"#9c179e\"],[0.4444444444444444,\"#bd3786\"],[0.5555555555555556,\"#d8576b\"],[0.6666666666666666,\"#ed7953\"],[0.7777777777777778,\"#fb9f3a\"],[0.8888888888888888,\"#fdca26\"],[1.0,\"#f0f921\"]],\"sequentialminus\":[[0.0,\"#0d0887\"],[0.1111111111111111,\"#46039f\"],[0.2222222222222222,\"#7201a8\"],[0.3333333333333333,\"#9c179e\"],[0.4444444444444444,\"#bd3786\"],[0.5555555555555556,\"#d8576b\"],[0.6666666666666666,\"#ed7953\"],[0.7777777777777778,\"#fb9f3a\"],[0.8888888888888888,\"#fdca26\"],[1.0,\"#f0f921\"]]},\"colorway\":[\"#636efa\",\"#EF553B\",\"#00cc96\",\"#ab63fa\",\"#FFA15A\",\"#19d3f3\",\"#FF6692\",\"#B6E880\",\"#FF97FF\",\"#FECB52\"],\"font\":{\"color\":\"#2a3f5f\"},\"geo\":{\"bgcolor\":\"white\",\"lakecolor\":\"white\",\"landcolor\":\"#E5ECF6\",\"showlakes\":true,\"showland\":true,\"subunitcolor\":\"white\"},\"hoverlabel\":{\"align\":\"left\"},\"hovermode\":\"closest\",\"mapbox\":{\"style\":\"light\"},\"paper_bgcolor\":\"white\",\"plot_bgcolor\":\"#E5ECF6\",\"polar\":{\"angularaxis\":{\"gridcolor\":\"white\",\"linecolor\":\"white\",\"ticks\":\"\"},\"bgcolor\":\"#E5ECF6\",\"radialaxis\":{\"gridcolor\":\"white\",\"linecolor\":\"white\",\"ticks\":\"\"}},\"scene\":{\"xaxis\":{\"backgroundcolor\":\"#E5ECF6\",\"gridcolor\":\"white\",\"gridwidth\":2,\"linecolor\":\"white\",\"showbackground\":true,\"ticks\":\"\",\"zerolinecolor\":\"white\"},\"yaxis\":{\"backgroundcolor\":\"#E5ECF6\",\"gridcolor\":\"white\",\"gridwidth\":2,\"linecolor\":\"white\",\"showbackground\":true,\"ticks\":\"\",\"zerolinecolor\":\"white\"},\"zaxis\":{\"backgroundcolor\":\"#E5ECF6\",\"gridcolor\":\"white\",\"gridwidth\":2,\"linecolor\":\"white\",\"showbackground\":true,\"ticks\":\"\",\"zerolinecolor\":\"white\"}},\"shapedefaults\":{\"line\":{\"color\":\"#2a3f5f\"}},\"ternary\":{\"aaxis\":{\"gridcolor\":\"white\",\"linecolor\":\"white\",\"ticks\":\"\"},\"baxis\":{\"gridcolor\":\"white\",\"linecolor\":\"white\",\"ticks\":\"\"},\"bgcolor\":\"#E5ECF6\",\"caxis\":{\"gridcolor\":\"white\",\"linecolor\":\"white\",\"ticks\":\"\"}},\"title\":{\"x\":0.05},\"xaxis\":{\"automargin\":true,\"gridcolor\":\"white\",\"linecolor\":\"white\",\"ticks\":\"\",\"title\":{\"standoff\":15},\"zerolinecolor\":\"white\",\"zerolinewidth\":2},\"yaxis\":{\"automargin\":true,\"gridcolor\":\"white\",\"linecolor\":\"white\",\"ticks\":\"\",\"title\":{\"standoff\":15},\"zerolinecolor\":\"white\",\"zerolinewidth\":2}}},\"xaxis\":{\"dtick\":1,\"gridcolor\":\"rgb(0, 0, 0)\",\"side\":\"bottom\",\"ticks\":\"\",\"title\":{\"text\":\"Response Time\"}},\"yaxis\":{\"dtick\":1,\"ticks\":\"\",\"ticksuffix\":\"  \",\"title\":{\"text\":\"Max Pertubation during training\"}}},                        {\"responsive\": true}                    ).then(function(){\n",
       "                            \n",
       "var gd = document.getElementById('70964666-6740-417b-a6bf-89c7cb154600');\n",
       "var x = new MutationObserver(function (mutations, observer) {{\n",
       "        var display = window.getComputedStyle(gd).display;\n",
       "        if (!display || display === 'none') {{\n",
       "            console.log([gd, 'removed!']);\n",
       "            Plotly.purge(gd);\n",
       "            observer.disconnect();\n",
       "        }}\n",
       "}});\n",
       "\n",
       "// Listen for the removal of the full notebook cells\n",
       "var notebookContainer = gd.closest('#notebook-container');\n",
       "if (notebookContainer) {{\n",
       "    x.observe(notebookContainer, {childList: true});\n",
       "}}\n",
       "\n",
       "// Listen for the clearing of the current output cell\n",
       "var outputEl = gd.closest('.output');\n",
       "if (outputEl) {{\n",
       "    x.observe(outputEl, {childList: true});\n",
       "}}\n",
       "\n",
       "                        })                };                });            </script>        </div>"
      ]
     },
     "metadata": {},
     "output_type": "display_data"
    }
   ],
   "source": [
    "fig = ff.create_annotated_heatmap(z=rewards.to_numpy(),y=[str(int(i))+'g' for i in df['g_force'].unique().tolist()], \n",
    "                                  x=[str(i) + 's' for i in df['response_rate'].unique().tolist()],  \n",
    "                                  annotation_text=np.around(rewards.to_numpy(), decimals=2), colorscale='blues', showscale=True,\n",
    "                                 reversescale =False)\n",
    "\n",
    "fig.update_layout(\n",
    "#     title='Average evaluation seconds for response times vs max. pertubation during training',\n",
    "    xaxis_title=\"Response Time\",\n",
    "    yaxis_title=\"Max Pertubation during training\",\n",
    "    xaxis_side='bottom',\n",
    "    font=dict(size=15),\n",
    "    height=700,\n",
    ")\n",
    "fig.show()\n",
    "\n"
   ]
  },
  {
   "cell_type": "code",
   "execution_count": 78,
   "metadata": {},
   "outputs": [
    {
     "data": {
      "text/html": [
       "<div>\n",
       "<style scoped>\n",
       "    .dataframe tbody tr th:only-of-type {\n",
       "        vertical-align: middle;\n",
       "    }\n",
       "\n",
       "    .dataframe tbody tr th {\n",
       "        vertical-align: top;\n",
       "    }\n",
       "\n",
       "    .dataframe thead th {\n",
       "        text-align: right;\n",
       "    }\n",
       "</style>\n",
       "<table border=\"1\" class=\"dataframe\">\n",
       "  <thead>\n",
       "    <tr style=\"text-align: right;\">\n",
       "      <th>response_rate</th>\n",
       "      <th>0.02</th>\n",
       "      <th>0.04</th>\n",
       "      <th>0.08</th>\n",
       "      <th>0.16</th>\n",
       "      <th>0.32</th>\n",
       "      <th>0.64</th>\n",
       "    </tr>\n",
       "    <tr>\n",
       "      <th>g_force</th>\n",
       "      <th></th>\n",
       "      <th></th>\n",
       "      <th></th>\n",
       "      <th></th>\n",
       "      <th></th>\n",
       "      <th></th>\n",
       "    </tr>\n",
       "  </thead>\n",
       "  <tbody>\n",
       "    <tr>\n",
       "      <th>8.0</th>\n",
       "      <td>7946.74</td>\n",
       "      <td>3659.14</td>\n",
       "      <td>1528.26</td>\n",
       "      <td>188.48</td>\n",
       "      <td>4.6</td>\n",
       "      <td>2.3</td>\n",
       "    </tr>\n",
       "  </tbody>\n",
       "</table>\n",
       "</div>"
      ],
      "text/plain": [
       "response_rate     0.02     0.04     0.08    0.16  0.32  0.64\n",
       "g_force                                                     \n",
       "8.0            7946.74  3659.14  1528.26  188.48   4.6   2.3"
      ]
     },
     "execution_count": 78,
     "metadata": {},
     "output_type": "execute_result"
    }
   ],
   "source": [
    "actions"
   ]
  },
  {
   "cell_type": "code",
   "execution_count": 51,
   "metadata": {},
   "outputs": [
    {
     "data": {
      "text/plain": [
       "-0.049293086"
      ]
     },
     "execution_count": 51,
     "metadata": {},
     "output_type": "execute_result"
    }
   ],
   "source": [
    "state[1]"
   ]
  },
  {
   "cell_type": "code",
   "execution_count": 26,
   "metadata": {},
   "outputs": [],
   "source": [
    "reflex, action = policy.select_action(state)"
   ]
  },
  {
   "cell_type": "code",
   "execution_count": 27,
   "metadata": {},
   "outputs": [
    {
     "data": {
      "text/plain": [
       "array([85.29129], dtype=float32)"
      ]
     },
     "execution_count": 27,
     "metadata": {},
     "output_type": "execute_result"
    }
   ],
   "source": [
    "reflex"
   ]
  },
  {
   "cell_type": "code",
   "execution_count": 28,
   "metadata": {},
   "outputs": [
    {
     "data": {
      "text/plain": [
       "array([-3.], dtype=float32)"
      ]
     },
     "execution_count": 28,
     "metadata": {},
     "output_type": "execute_result"
    }
   ],
   "source": [
    "action"
   ]
  },
  {
   "cell_type": "code",
   "execution_count": 30,
   "metadata": {},
   "outputs": [],
   "source": [
    "next_state, reward, done = env_step(eval_env, reflex, action, reflex_frames, frame_skip)"
   ]
  },
  {
   "cell_type": "code",
   "execution_count": 31,
   "metadata": {},
   "outputs": [
    {
     "data": {
      "text/plain": [
       "array([ 1.01577258e+00,  1.57152149e+00,  1.00466071e-10, -1.59515444e-13,\n",
       "       -3.00000000e+00])"
      ]
     },
     "execution_count": 31,
     "metadata": {},
     "output_type": "execute_result"
    }
   ],
   "source": [
    "next_state"
   ]
  },
  {
   "cell_type": "code",
   "execution_count": 33,
   "metadata": {},
   "outputs": [],
   "source": [
    "state, done = eval_env.reset(), False"
   ]
  },
  {
   "cell_type": "code",
   "execution_count": 54,
   "metadata": {},
   "outputs": [],
   "source": [
    "state[1] = 0.2"
   ]
  },
  {
   "cell_type": "code",
   "execution_count": 55,
   "metadata": {},
   "outputs": [],
   "source": [
    "reflex, action = policy.select_action(state)"
   ]
  },
  {
   "cell_type": "code",
   "execution_count": 56,
   "metadata": {},
   "outputs": [
    {
     "data": {
      "text/plain": [
       "(array([2.9999998], dtype=float32), array([-3.], dtype=float32))"
      ]
     },
     "execution_count": 56,
     "metadata": {},
     "output_type": "execute_result"
    }
   ],
   "source": [
    "reflex, action"
   ]
  },
  {
   "cell_type": "code",
   "execution_count": 49,
   "metadata": {},
   "outputs": [],
   "source": [
    "next_state, reward, done = env_step(eval_env, reflex, action, reflex_frames, frame_skip)"
   ]
  },
  {
   "cell_type": "code",
   "execution_count": 50,
   "metadata": {},
   "outputs": [
    {
     "data": {
      "text/plain": [
       "array([-1.0006816e+00,  1.5715215e+00,  2.4704256e-09,  2.2436794e-07,\n",
       "       -3.0000000e+00], dtype=float32)"
      ]
     },
     "execution_count": 50,
     "metadata": {},
     "output_type": "execute_result"
    }
   ],
   "source": [
    "next_state"
   ]
  },
  {
   "cell_type": "code",
   "execution_count": 45,
   "metadata": {},
   "outputs": [],
   "source": [
    "state= next_state"
   ]
  },
  {
   "cell_type": "code",
   "execution_count": 86,
   "metadata": {},
   "outputs": [
    {
     "data": {
      "text/plain": [
       "array([['71.1406', '74.1356', '88.4384', '69.8432', '40.224000000000004',\n",
       "        '0.544', '0.64'],\n",
       "       ['73.519', '96.1904', '90.91839999999999', '75.568',\n",
       "        '46.57600000000001', '0.544', '0.64'],\n",
       "       ['100.9576', '87.1704', '95.1824', '78.4992',\n",
       "        '63.391999999999996', '0.544', '0.64'],\n",
       "       ['123.7394', '108.71', '98.87920000000001', '118.8336',\n",
       "        '58.63040000000001', '0.544', '0.64'],\n",
       "       ['120.5666', '129.63160000000002', '109.04720000000002',\n",
       "        '112.48159999999999', '80.8992', '0.544', '0.64'],\n",
       "       ['135.1484', '133.0512', '129.60320000000002', '129.1968',\n",
       "        '65.4464', '0.544', '0.64'],\n",
       "       ['138.7362', '154.29360000000003', '146.5768', '131.8576',\n",
       "        '70.6464', '0.544', '0.64'],\n",
       "       ['118.00460000000001', '161.59160000000003', '156.8408',\n",
       "        '113.7536', '66.30080000000001', '0.544', '0.64'],\n",
       "       ['148.302', '170.2392', '161.8912', '139.54080000000002',\n",
       "        '62.441599999999994', '0.544', '0.64'],\n",
       "       ['140.02200000000002', '169.208', '159.768', '131.54559999999998',\n",
       "        '58.7552', '0.544', '0.64'],\n",
       "       ['129.54180000000002', '167.2276', '141.06640000000002',\n",
       "        '116.47040000000001', '60.144000000000005', '0.544', '0.64'],\n",
       "       ['134.8814', '145.81640000000002', '124.272',\n",
       "        '108.94560000000001', '57.903999999999996', '0.544', '0.64'],\n",
       "       ['135.81019999999998', '149.8952', '142.364',\n",
       "        '135.34560000000002', '59.15840000000001', '0.544', '0.64'],\n",
       "       ['140.8046', '116.6884', '132.89600000000002', '132.3744',\n",
       "        '59.81120000000001', '0.544', '0.64'],\n",
       "       ['126.7424', '119.71759999999999', '121.4008', '101.8112',\n",
       "        '56.69759999999999', '0.544', '0.64'],\n",
       "       ['88.8172', '136.75920000000002', '144.3672', '109.1712',\n",
       "        '43.171200000000006', '0.544', '0.64'],\n",
       "       ['128.06900000000002', '142.2104', '151.5456', '128.9664',\n",
       "        '50.937599999999996', '0.544', '0.64'],\n",
       "       ['103.3928', '103.75159999999998', '148.11520000000002',\n",
       "        '91.9392', '59.67679999999999', '0.544', '0.64'],\n",
       "       ['113.8508', '126.90120000000002', '130.33200000000002',\n",
       "        '94.47359999999999', '49.955200000000005', '0.544', '0.64'],\n",
       "       ['98.5504', '118.84280000000001', '122.176', '141.64960000000002',\n",
       "        '55.07199999999999', '0.544', '0.64'],\n",
       "       ['61.78399999999999', '96.1088', '103.60319999999999',\n",
       "        '90.95519999999999', '50.8416', '0.544', '0.64']], dtype='<U32')"
      ]
     },
     "execution_count": 86,
     "metadata": {},
     "output_type": "execute_result"
    }
   ],
   "source": [
    "rewards.to_numpy().astype(str)"
   ]
  },
  {
   "cell_type": "code",
   "execution_count": null,
   "metadata": {},
   "outputs": [],
   "source": []
  }
 ],
 "metadata": {
  "kernelspec": {
   "display_name": "Python 3",
   "language": "python",
   "name": "python3"
  },
  "language_info": {
   "codemirror_mode": {
    "name": "ipython",
    "version": 3
   },
   "file_extension": ".py",
   "mimetype": "text/x-python",
   "name": "python",
   "nbconvert_exporter": "python",
   "pygments_lexer": "ipython3",
   "version": "3.6.9"
  }
 },
 "nbformat": 4,
 "nbformat_minor": 2
}
