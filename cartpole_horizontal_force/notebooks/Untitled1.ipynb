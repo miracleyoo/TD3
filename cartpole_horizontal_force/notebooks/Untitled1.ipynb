{
 "cells": [
  {
   "cell_type": "code",
   "execution_count": 1,
   "metadata": {},
   "outputs": [
    {
     "name": "stderr",
     "output_type": "stream",
     "text": [
      "C:\\ProgramData\\Anaconda3\\lib\\site-packages\\numpy\\_distributor_init.py:32: UserWarning: loaded more than 1 DLL from .libs:\n",
      "C:\\ProgramData\\Anaconda3\\lib\\site-packages\\numpy\\.libs\\libopenblas.PYQHXLVVQ7VESDPUVUADXEVJOBGHJPAY.gfortran-win_amd64.dll\n",
      "C:\\ProgramData\\Anaconda3\\lib\\site-packages\\numpy\\.libs\\libopenblas.WCDJNK7YVMPZQ2ME2ZZHJJRJ3JIKNDB7.gfortran-win_amd64.dll\n",
      "  stacklevel=1)\n"
     ]
    }
   ],
   "source": [
    "import torch\n",
    "import sys\n",
    "import os\n",
    "import random\n",
    "import numpy as np\n",
    "import plotly.graph_objects as go\n",
    "from plotly.subplots import make_subplots\n",
    "sys.path.append('../')\n",
    "from common import make_env\n",
    "sys.path.append('../../')\n",
    "import TD3\n",
    "import pandas as pd\n",
    "\n",
    "if not os.path.exists(\"images\"):\n",
    "    os.mkdir(\"images\")\n",
    "    \n",
    "if not os.path.exists(\"images2\"):\n",
    "    os.mkdir(\"images2\")"
   ]
  },
  {
   "cell_type": "code",
   "execution_count": 2,
   "metadata": {},
   "outputs": [],
   "source": [
    "response_times = [0.01, 0.02, 0.04, 0.08, 0.16, 0.32, 0.64, 1.28]"
   ]
  },
  {
   "cell_type": "code",
   "execution_count": 3,
   "metadata": {},
   "outputs": [
    {
     "name": "stdout",
     "output_type": "stream",
     "text": [
      "0.01 1 1\n",
      "0.01 4 3\n",
      "0.32 0 1\n"
     ]
    }
   ],
   "source": [
    "for rt in response_times:\n",
    "    for g_force in range(6):\n",
    "        for seed in range(5):\n",
    "            if not os.path.isfile('../models2/TD3_InvertedPendulum-v2_'+str(seed)+'_0.02_'+str(float(g_force))+'_'+str(rt)+'_1.0_final_actor'):\n",
    "                print (rt, g_force, seed)"
   ]
  },
  {
   "cell_type": "code",
   "execution_count": 5,
   "metadata": {},
   "outputs": [
    {
     "name": "stdout",
     "output_type": "stream",
     "text": [
      "4048.2\n",
      "5075.1\n",
      "4006.7\n",
      "4222.1\n",
      "2215.0\n",
      "5651.4\n",
      "5181.0\n",
      "4675.1\n",
      "4021.7\n",
      "3334.4\n",
      "4724.8\n",
      "8518.6\n",
      "5904.9\n",
      "1581.3\n",
      "4573.4\n",
      "3429.8\n",
      "5645.1\n",
      "4194.7\n",
      "6165.6\n",
      "4496.9\n",
      "7065.3\n",
      "6526.3\n",
      "4546.8\n",
      "358.3\n",
      "7080.5\n",
      "4382.2\n",
      "2891.6\n",
      "3362.5\n",
      "1580.9\n",
      "4498.1\n",
      "3157.0\n",
      "2062.7\n",
      "2446.6\n",
      "1439.7\n",
      "1346.5\n",
      "1918.3\n",
      "3126.2\n",
      "2821.9\n",
      "1739.5\n",
      "1894.1\n",
      "2392.4\n",
      "2331.7\n",
      "1439.5\n",
      "2572.5\n",
      "1075.3\n",
      "3381.6\n",
      "2479.9\n",
      "1967.3\n",
      "1283.1\n",
      "2941.3\n",
      "2589.2\n",
      "1762.9\n",
      "2094.9\n",
      "2704.1\n",
      "1983.6\n",
      "2318.9\n",
      "2616.6\n",
      "1444.0\n",
      "3212.2\n",
      "1115.0\n",
      "1856.2\n",
      "1281.2\n",
      "2260.4\n",
      "2372.6\n",
      "2757.2\n",
      "2658.2\n",
      "734.6\n",
      "1780.6\n",
      "1958.3\n",
      "2942.9\n",
      "2424.5\n",
      "1588.1\n",
      "1735.2\n",
      "1286.8\n",
      "2310.2\n",
      "2995.4\n",
      "1556.2\n",
      "2730.8\n",
      "2217.6\n",
      "1245.3\n",
      "2031.8\n",
      "2213.6\n",
      "1995.8\n",
      "1497.7\n",
      "3427.7\n",
      "3308.0\n",
      "1902.5\n",
      "1465.5\n",
      "1544.0\n",
      "925.6\n",
      "981.9\n",
      "1018.2\n",
      "677.2\n",
      "980.5\n",
      "1195.1\n",
      "1199.0\n",
      "412.6\n",
      "1033.4\n",
      "1268.4\n",
      "1432.0\n",
      "1186.0\n",
      "1049.8\n",
      "1194.2\n",
      "1207.0\n",
      "915.6\n",
      "881.8\n",
      "483.5\n",
      "146.0\n",
      "1381.7\n",
      "711.3\n",
      "1474.6\n",
      "1020.3\n",
      "1554.2\n",
      "1340.2\n",
      "529.6\n",
      "1566.9\n",
      "988.0\n",
      "792.1\n",
      "1727.9\n",
      "437.6\n",
      "490.1\n",
      "332.1\n",
      "399.1\n",
      "399.0\n",
      "481.4\n",
      "381.8\n",
      "399.3\n",
      "457.6\n",
      "303.6\n",
      "445.0\n",
      "431.3\n",
      "504.1\n",
      "465.1\n",
      "557.3\n",
      "548.1\n",
      "444.8\n",
      "622.6\n",
      "537.2\n",
      "389.3\n",
      "583.0\n",
      "420.2\n",
      "456.7\n",
      "630.7\n",
      "634.6\n",
      "480.4\n",
      "442.0\n",
      "578.7\n",
      "493.8\n",
      "415.2\n",
      "35.3\n",
      "97.3\n",
      "32.0\n",
      "98.0\n",
      "113.2\n",
      "111.5\n",
      "111.4\n",
      "34.2\n",
      "38.6\n",
      "19.2\n",
      "83.9\n",
      "96.8\n",
      "16.7\n",
      "40.8\n",
      "75.2\n",
      "41.7\n",
      "57.6\n",
      "150.6\n",
      "96.0\n",
      "82.3\n",
      "90.6\n",
      "90.2\n",
      "43.4\n",
      "48.4\n",
      "87.7\n",
      "94.5\n",
      "73.9\n",
      "59.2\n",
      "22.4\n",
      "33.6\n",
      "17.4\n",
      "20.1\n",
      "21.6\n",
      "9.6\n",
      "17.6\n",
      "8.0\n",
      "14.0\n",
      "19.2\n",
      "26.6\n",
      "10.4\n",
      "9.5\n",
      "8.0\n",
      "24.8\n",
      "24.8\n",
      "19.5\n",
      "18.4\n",
      "14.1\n",
      "23.5\n",
      "8.0\n",
      "8.8\n",
      "8.0\n",
      "14.8\n",
      "24.5\n",
      "20.0\n",
      "8.0\n",
      "8.8\n",
      "12.8\n",
      "8.0\n",
      "8.0\n",
      "8.0\n",
      "4.7\n",
      "5.3\n",
      "4.6\n",
      "4.0\n",
      "4.7\n",
      "4.4\n",
      "4.9\n",
      "4.4\n",
      "4.8\n",
      "3.0\n",
      "4.4\n",
      "4.8\n",
      "4.4\n",
      "3.0\n",
      "3.0\n",
      "4.7\n",
      "5.6\n",
      "6.0\n",
      "3.0\n",
      "4.0\n",
      "4.8\n",
      "4.8\n",
      "3.0\n",
      "5.3\n",
      "4.0\n",
      "4.9\n",
      "4.4\n",
      "4.0\n",
      "4.0\n"
     ]
    }
   ],
   "source": [
    "response_times = [0.01, 0.02, 0.04, 0.08, 0.16, 0.32, 0.64, 1.28]\n",
    "df = pd.DataFrame(columns=['seed', 'g_force', 'response_rate', 'reward', 'angle'])\n",
    "default_timestep = 0.02\n",
    "default_frame_skip = 2\n",
    "jit_duration = 0.02\n",
    "env_name = 'InvertedPendulum-v2'\n",
    "for response_rate in response_times:\n",
    "    for g_force in range(6):\n",
    "        for seed in range(5):\n",
    "            states = []\n",
    "            force = g_force * 9.81\n",
    "            arguments = ['TD3', env_name, seed, jit_duration, float(g_force), response_rate, 1.0, 'final']\n",
    "                # Target policy smoothing is scaled wrt the action scale\n",
    "            file_name = '_'.join([str(x) for x in arguments])\n",
    "            if response_rate % default_timestep == 0:\n",
    "                frame_skip = response_rate / default_timestep\n",
    "                timestep = default_timestep\n",
    "            elif jit_duration < response_rate:\n",
    "                timestep = jit_duration\n",
    "                frame_skip = response_rate / timestep\n",
    "            else:\n",
    "                timestep = response_rate\n",
    "                frame_skip = 1\n",
    "            jit_frames = 0  # How many frames the horizontal jitter force lasts each time\n",
    "            if jit_duration:\n",
    "                if jit_duration % timestep == 0:\n",
    "                    jit_frames = int(jit_duration / timestep)\n",
    "                else:\n",
    "                    raise ValueError(\n",
    "                        \"jit_duration should be a multiple of the timestep: \" + str(timestep))\n",
    "\n",
    "            time_change_factor = (default_timestep * default_frame_skip) / (timestep * frame_skip)\n",
    "            eval_env = make_env(env_name, seed, time_change_factor, timestep, frame_skip)\n",
    "            eval_env._max_episode_steps = 100000\n",
    "            state_dim = eval_env.observation_space.shape[0]\n",
    "            action_dim = eval_env.action_space.shape[0]\n",
    "            max_action = float(eval_env.action_space.high[0])\n",
    "            kwargs = {\n",
    "                \"state_dim\": state_dim,\n",
    "                \"action_dim\": action_dim,\n",
    "                \"max_action\": max_action,\n",
    "                \"discount\": 0.99,\n",
    "                \"tau\": 0.005,\n",
    "            }\n",
    "            kwargs[\"policy_noise\"] = 2 * max_action\n",
    "            kwargs[\"noise_clip\"] = 0.5 * max_action\n",
    "            kwargs[\"policy_freq\"] = 2\n",
    "            policy = TD3.TD3(**kwargs)\n",
    "            policy_file = file_name \n",
    "            if os.path.exists('../models/'+policy_file+\"_critic\"):\n",
    "                policy.load(f\"../models/{policy_file}\")\n",
    "                avg_reward = 0.\n",
    "                avg_angle = 0.\n",
    "                steps = 0\n",
    "\n",
    "                t = 0\n",
    "                forces = []\n",
    "                force_times = []\n",
    "                for _ in range(10):\n",
    "                    state, done = eval_env.reset(), False\n",
    "                    counter = 0\n",
    "                    disturb = 5\n",
    "                    jittering = False\n",
    "                    force = 0.25\n",
    "                    while not done:\n",
    "                        action = policy.select_action(np.array(state))\n",
    "                        # Perform action\n",
    "                        if not jittering and round(disturb - counter, 2) >= response_rate:  # Not during the frames when jitter force keeps existing\n",
    "                            next_state, reward, done, _ = eval_env.step(action)\n",
    "                            counter += response_rate\n",
    "                        elif not jittering and round(disturb - counter, 2) < response_rate:\n",
    "                            forces.append(force)\n",
    "                            force_times.append(t)\n",
    "                            jitter_force = force * 9.81 * (2 * (np.random.random() > 0.5) - 1)  # Jitter force strength w/ direction\n",
    "                            next_state, reward, done, _ = eval_env.jitter_step_start(action, jitter_force,\n",
    "                                                                                     (disturb - counter) / timestep,\n",
    "                                                                                     frame_skip - ((disturb - counter) / timestep),\n",
    "                                                                                     jit_frames)\n",
    "                            jittered_frames = frame_skip - ((disturb - counter) / timestep)\n",
    "                            if jittered_frames >= jit_frames:\n",
    "                                jittered_frames = 0\n",
    "                                jittering = False\n",
    "                                eval_env.model.opt.gravity[0] = 0\n",
    "                                counter = 0\n",
    "                                force += 0.25\n",
    "\n",
    "                            else:\n",
    "                                jittering = True\n",
    "                                eval_env.model.opt.gravity[0] = jitter_force\n",
    "                                counter += response_rate\n",
    "                        elif jit_frames - jittered_frames < frame_skip:  # Jitter force will dispear from now!\n",
    "                                next_state, reward, done, _ = eval_env.jitter_step_end(\n",
    "                                    action, jitter_force, jit_frames - jittered_frames, frame_skip - (jit_frames - jittered_frames))\n",
    "                                jittering = False  # Stop jittering now\n",
    "                                eval_env.model.opt.gravity[0] = 0\n",
    "                                counter = 0\n",
    "                                force += 0.25\n",
    "                        else:  # Jitter force keeps existing now!\n",
    "                                next_state, reward, done, _ = eval_env.step(action)\n",
    "                                jittered_frames += frame_skip\n",
    "                                counter += response_rate\n",
    "                                if jittered_frames == jit_frames:\n",
    "                                    jittering = False\n",
    "                                    eval_env.model.opt.gravity[0] = 0\n",
    "                                    counter = 0\n",
    "                                    force += 0.25\n",
    "\n",
    "                        avg_reward += reward\n",
    "                        avg_angle += abs(next_state[1])\n",
    "                        state = next_state\n",
    "                        counter = round(counter, 2)\n",
    "                        if jit_duration:\n",
    "                            if counter == disturb:\n",
    "                                forces.append(force)\n",
    "                                force_times.append(t)\n",
    "                                jitter_force = force * 9.81 * (2 * (random.random() > 0.5) - 1)\n",
    "                                eval_env.model.opt.gravity[0] = jitter_force\n",
    "                                jittering = True\n",
    "                                jittered_frames = 0\n",
    "\n",
    "                        t += 1\n",
    "                        states.append(state)\n",
    "                states = np.array(states)\n",
    "                fig = make_subplots(rows=2, cols=1)\n",
    "                x = [i for i in range(t)]\n",
    "                for index, f in enumerate(force_times):\n",
    "                    fig.add_shape(go.layout.Shape(type=\"line\",\n",
    "                                            x0=f,\n",
    "                                            y0=-100,\n",
    "                                            x1=f,\n",
    "                                            y1=100,\n",
    "                                            ),row=1,col=1)\n",
    "                    fig.add_annotation(x=f,\n",
    "                                       y=0,\n",
    "                                       text=str(forces[index]), \n",
    "                                       showarrow=False,\n",
    "                                       row=1, col=1)\n",
    "                fig.add_trace(go.Scatter(x=x, y=states[:,0], mode='lines', name='pos'), row=1, col=1)\n",
    "                fig.add_trace(go.Scatter(x=x, y=states[:,1], mode='lines', name='angle'), row=2, col=1)\n",
    "    #             fig.add_trace(go.Scatter(x=x, y=states[:,2], mode='lines', name='vel'))\n",
    "    #             fig.add_trace(go.Scatter(x=x, y=states[:,3], mode='lines', name='angular vel'))\n",
    "                fig.write_html(\"images/\"+file_name+'.html')\n",
    "\n",
    "                avg_reward /= 10\n",
    "                avg_angle /= 10\n",
    "                df.loc[len(df.index)] = [seed, g_force, response_rate, avg_reward, avg_angle]\n",
    "                print(avg_reward)"
   ]
  },
  {
   "cell_type": "code",
   "execution_count": null,
   "metadata": {
    "scrolled": false
   },
   "outputs": [
    {
     "name": "stdout",
     "output_type": "stream",
     "text": [
      "5679.4\n",
      "4125.7\n",
      "147.1\n"
     ]
    }
   ],
   "source": [
    "response_times = [0.01, 0.02, 0.04, 0.08, 0.16, 0.32, 0.64, 1.28]\n",
    "df = pd.DataFrame(columns=['seed', 'g_force', 'response_rate', 'reward', 'angle'])\n",
    "default_timestep = 0.02\n",
    "default_frame_skip = 2\n",
    "jit_duration = 0.02\n",
    "env_name = 'InvertedPendulum-v2'\n",
    "for response_rate in response_times:\n",
    "    for g_force in range(6):\n",
    "        for seed in range(5):\n",
    "            states = []\n",
    "            force = g_force * 9.81\n",
    "            arguments = ['TD3', env_name, seed, jit_duration, float(g_force), response_rate, 1.0, 'final']\n",
    "                # Target policy smoothing is scaled wrt the action scale\n",
    "            file_name = '_'.join([str(x) for x in arguments])\n",
    "            if response_rate % default_timestep == 0:\n",
    "                frame_skip = response_rate / default_timestep\n",
    "                timestep = default_timestep\n",
    "            elif jit_duration < response_rate:\n",
    "                timestep = jit_duration\n",
    "                frame_skip = response_rate / timestep\n",
    "            else:\n",
    "                timestep = response_rate\n",
    "                frame_skip = 1\n",
    "            jit_frames = 0  # How many frames the horizontal jitter force lasts each time\n",
    "            if jit_duration:\n",
    "                if jit_duration % timestep == 0:\n",
    "                    jit_frames = int(jit_duration / timestep)\n",
    "                else:\n",
    "                    raise ValueError(\n",
    "                        \"jit_duration should be a multiple of the timestep: \" + str(timestep))\n",
    "\n",
    "            time_change_factor = (default_timestep * default_frame_skip) / (timestep * frame_skip)\n",
    "            eval_env = make_env(env_name, seed, time_change_factor, timestep, frame_skip)\n",
    "            eval_env._max_episode_steps = 100000\n",
    "            state_dim = eval_env.observation_space.shape[0]\n",
    "            action_dim = eval_env.action_space.shape[0]\n",
    "            max_action = float(eval_env.action_space.high[0])\n",
    "            kwargs = {\n",
    "                \"state_dim\": state_dim,\n",
    "                \"action_dim\": action_dim,\n",
    "                \"max_action\": max_action,\n",
    "                \"discount\": 0.99,\n",
    "                \"tau\": 0.005,\n",
    "            }\n",
    "            kwargs[\"policy_noise\"] = 2 * max_action\n",
    "            kwargs[\"noise_clip\"] = 0.5 * max_action\n",
    "            kwargs[\"policy_freq\"] = 2\n",
    "            policy = TD3.TD3(**kwargs)\n",
    "            policy_file = file_name \n",
    "            if os.path.exists('../models2/'+policy_file+\"_critic\"):\n",
    "                policy.load(f\"../models2/{policy_file}\")\n",
    "                avg_reward = 0.\n",
    "                avg_angle = 0.\n",
    "                steps = 0\n",
    "\n",
    "                t = 0\n",
    "                forces = []\n",
    "                force_times = []\n",
    "                for _ in range(10):\n",
    "                    state, done = eval_env.reset(), False\n",
    "                    counter = 0\n",
    "                    disturb = 5\n",
    "                    jittering = False\n",
    "                    force = 0.25\n",
    "                    while not done:\n",
    "                        action = policy.select_action(np.array(state))\n",
    "                        # Perform action\n",
    "                        if not jittering and round(disturb - counter, 2) >= response_rate:  # Not during the frames when jitter force keeps existing\n",
    "                            next_state, reward, done, _ = eval_env.step(action)\n",
    "                            counter += response_rate\n",
    "                        elif not jittering and round(disturb - counter, 2) < response_rate:\n",
    "                            forces.append(force)\n",
    "                            force_times.append(t)\n",
    "                            jitter_force = force * 9.81 * (2 * (np.random.random() > 0.5) - 1)  # Jitter force strength w/ direction\n",
    "                            next_state, reward, done, _ = eval_env.jitter_step_start(action, jitter_force,\n",
    "                                                                                     (disturb - counter) / timestep,\n",
    "                                                                                     frame_skip - ((disturb - counter) / timestep),\n",
    "                                                                                     jit_frames)\n",
    "                            jittered_frames = frame_skip - ((disturb - counter) / timestep)\n",
    "                            if jittered_frames >= jit_frames:\n",
    "                                jittered_frames = 0\n",
    "                                jittering = False\n",
    "                                eval_env.model.opt.gravity[0] = 0\n",
    "                                counter = 0\n",
    "                                force += 0.25\n",
    "\n",
    "                            else:\n",
    "                                jittering = True\n",
    "                                eval_env.model.opt.gravity[0] = jitter_force\n",
    "                                counter += response_rate\n",
    "                        elif jit_frames - jittered_frames < frame_skip:  # Jitter force will dispear from now!\n",
    "                                next_state, reward, done, _ = eval_env.jitter_step_end(\n",
    "                                    action, jitter_force, jit_frames - jittered_frames, frame_skip - (jit_frames - jittered_frames))\n",
    "                                jittering = False  # Stop jittering now\n",
    "                                eval_env.model.opt.gravity[0] = 0\n",
    "                                counter = 0\n",
    "                                force += 0.25\n",
    "                        else:  # Jitter force keeps existing now!\n",
    "                                next_state, reward, done, _ = eval_env.step(action)\n",
    "                                jittered_frames += frame_skip\n",
    "                                counter += response_rate\n",
    "                                if jittered_frames == jit_frames:\n",
    "                                    jittering = False\n",
    "                                    eval_env.model.opt.gravity[0] = 0\n",
    "                                    counter = 0\n",
    "                                    force += 0.25\n",
    "\n",
    "                        avg_reward += reward\n",
    "                        avg_angle += abs(next_state[1])\n",
    "                        state = next_state\n",
    "                        counter = round(counter, 2)\n",
    "                        if jit_duration:\n",
    "                            if counter == disturb:\n",
    "                                forces.append(force)\n",
    "                                force_times.append(t)\n",
    "                                jitter_force = force * 9.81 * (2 * (random.random() > 0.5) - 1)\n",
    "                                eval_env.model.opt.gravity[0] = jitter_force\n",
    "                                jittering = True\n",
    "                                jittered_frames = 0\n",
    "\n",
    "                        t += 1\n",
    "                        states.append(state)\n",
    "                states = np.array(states)\n",
    "                fig = make_subplots(rows=2, cols=1)\n",
    "                x = [i for i in range(t)]\n",
    "                for index, f in enumerate(force_times):\n",
    "                    fig.add_shape(go.layout.Shape(type=\"line\",\n",
    "                                            x0=f,\n",
    "                                            y0=-100,\n",
    "                                            x1=f,\n",
    "                                            y1=100,\n",
    "                                            ),row=1,col=1)\n",
    "                    fig.add_annotation(x=f,\n",
    "                                       y=0,\n",
    "                                       text=str(forces[index]), \n",
    "                                       showarrow=False,\n",
    "                                       row=1, col=1)\n",
    "                fig.add_trace(go.Scatter(x=x, y=states[:,0], mode='lines', name='pos'), row=1, col=1)\n",
    "                fig.add_trace(go.Scatter(x=x, y=states[:,1], mode='lines', name='angle'), row=2, col=1)\n",
    "    #             fig.add_trace(go.Scatter(x=x, y=states[:,2], mode='lines', name='vel'))\n",
    "    #             fig.add_trace(go.Scatter(x=x, y=states[:,3], mode='lines', name='angular vel'))\n",
    "                fig.write_html(\"images2/\"+file_name+'.html')\n",
    "\n",
    "                avg_reward /= 10\n",
    "                avg_angle /= 10\n",
    "                df.loc[len(df.index)] = [seed, g_force, response_rate, avg_reward, avg_angle]\n",
    "                print(avg_reward)"
   ]
  },
  {
   "cell_type": "code",
   "execution_count": 23,
   "metadata": {},
   "outputs": [
    {
     "name": "stdout",
     "output_type": "stream",
     "text": [
      "0.01 0 39.7948\n",
      "0.02 0 45.1284\n",
      "0.04 0 83.6496\n",
      "0.08 0 85.15039999999999\n",
      "0.16 0 66.67519999999999\n",
      "0.32 0 21.976\n",
      "0.64 0 8.8064\n",
      "1.28 0 5.632000000000001\n",
      "0.01 1 42.38475\n",
      "0.02 1 46.558800000000005\n",
      "0.04 1 97.46560000000001\n",
      "0.08 1 92.38880000000002\n",
      "0.16 1 57.7024\n",
      "0.32 1 17.4784\n",
      "0.64 1 6.656000000000001\n",
      "1.28 1 5.708799999999999\n",
      "0.01 2 54.7218\n",
      "0.02 2 49.704\n",
      "0.04 2 96.47760000000001\n",
      "0.08 2 90.93599999999999\n",
      "0.16 2 73.1808\n",
      "0.32 2 22.9696\n",
      "0.64 2 8.601600000000001\n",
      "1.28 2 6.630400000000001\n",
      "0.01 3 73.564\n",
      "0.02 3 53.5508\n",
      "0.04 3 93.6584\n",
      "0.08 3 91.11679999999998\n",
      "0.16 3 79.45280000000001\n",
      "0.32 3 15.1936\n",
      "0.64 3 9.728\n",
      "1.28 3 5.299200000000001\n",
      "0.01 4 83.37549999999999\n",
      "0.02 4 61.11359999999999\n",
      "0.04 4 106.0416\n",
      "0.08 4 112.97120000000001\n",
      "0.16 4 89.37920000000003\n",
      "0.32 4 19.916800000000002\n",
      "0.64 4 8.8064\n",
      "1.28 4 6.656000000000001\n",
      "0.01 5 73.71539999999999\n",
      "0.02 5 74.63959999999999\n",
      "0.04 5 110.1592\n",
      "0.08 5 142.48160000000001\n",
      "0.16 5 58.34879999999999\n",
      "0.32 5 21.068800000000003\n",
      "0.64 5 9.0752\n",
      "1.28 5 5.5296\n"
     ]
    },
    {
     "data": {
      "application/vnd.plotly.v1+json": {
       "config": {
        "plotlyServerURL": "https://plot.ly"
       },
       "data": [
        {
         "mode": "lines",
         "name": "0",
         "type": "scatter",
         "x": [
          0.01,
          0.02,
          0.04,
          0.08,
          0.16,
          0.32,
          0.64,
          1.28
         ],
         "y": [
          39.7948,
          45.1284,
          83.6496,
          85.15039999999999,
          66.67519999999999,
          21.976,
          8.8064,
          5.632000000000001
         ]
        },
        {
         "mode": "lines",
         "name": "1",
         "type": "scatter",
         "x": [
          0.01,
          0.02,
          0.04,
          0.08,
          0.16,
          0.32,
          0.64,
          1.28
         ],
         "y": [
          42.38475,
          46.558800000000005,
          97.46560000000001,
          92.38880000000002,
          57.7024,
          17.4784,
          6.656000000000001,
          5.708799999999999
         ]
        },
        {
         "mode": "lines",
         "name": "2",
         "type": "scatter",
         "x": [
          0.01,
          0.02,
          0.04,
          0.08,
          0.16,
          0.32,
          0.64,
          1.28
         ],
         "y": [
          54.7218,
          49.704,
          96.47760000000001,
          90.93599999999999,
          73.1808,
          22.9696,
          8.601600000000001,
          6.630400000000001
         ]
        },
        {
         "mode": "lines",
         "name": "3",
         "type": "scatter",
         "x": [
          0.01,
          0.02,
          0.04,
          0.08,
          0.16,
          0.32,
          0.64,
          1.28
         ],
         "y": [
          73.564,
          53.5508,
          93.6584,
          91.11679999999998,
          79.45280000000001,
          15.1936,
          9.728,
          5.299200000000001
         ]
        },
        {
         "mode": "lines",
         "name": "4",
         "type": "scatter",
         "x": [
          0.01,
          0.02,
          0.04,
          0.08,
          0.16,
          0.32,
          0.64,
          1.28
         ],
         "y": [
          83.37549999999999,
          61.11359999999999,
          106.0416,
          112.97120000000001,
          89.37920000000003,
          19.916800000000002,
          8.8064,
          6.656000000000001
         ]
        },
        {
         "mode": "lines",
         "name": "5",
         "type": "scatter",
         "x": [
          0.01,
          0.02,
          0.04,
          0.08,
          0.16,
          0.32,
          0.64,
          1.28
         ],
         "y": [
          73.71539999999999,
          74.63959999999999,
          110.1592,
          142.48160000000001,
          58.34879999999999,
          21.068800000000003,
          9.0752,
          5.5296
         ]
        }
       ],
       "layout": {
        "template": {
         "data": {
          "bar": [
           {
            "error_x": {
             "color": "#2a3f5f"
            },
            "error_y": {
             "color": "#2a3f5f"
            },
            "marker": {
             "line": {
              "color": "#E5ECF6",
              "width": 0.5
             }
            },
            "type": "bar"
           }
          ],
          "barpolar": [
           {
            "marker": {
             "line": {
              "color": "#E5ECF6",
              "width": 0.5
             }
            },
            "type": "barpolar"
           }
          ],
          "carpet": [
           {
            "aaxis": {
             "endlinecolor": "#2a3f5f",
             "gridcolor": "white",
             "linecolor": "white",
             "minorgridcolor": "white",
             "startlinecolor": "#2a3f5f"
            },
            "baxis": {
             "endlinecolor": "#2a3f5f",
             "gridcolor": "white",
             "linecolor": "white",
             "minorgridcolor": "white",
             "startlinecolor": "#2a3f5f"
            },
            "type": "carpet"
           }
          ],
          "choropleth": [
           {
            "colorbar": {
             "outlinewidth": 0,
             "ticks": ""
            },
            "type": "choropleth"
           }
          ],
          "contour": [
           {
            "colorbar": {
             "outlinewidth": 0,
             "ticks": ""
            },
            "colorscale": [
             [
              0,
              "#0d0887"
             ],
             [
              0.1111111111111111,
              "#46039f"
             ],
             [
              0.2222222222222222,
              "#7201a8"
             ],
             [
              0.3333333333333333,
              "#9c179e"
             ],
             [
              0.4444444444444444,
              "#bd3786"
             ],
             [
              0.5555555555555556,
              "#d8576b"
             ],
             [
              0.6666666666666666,
              "#ed7953"
             ],
             [
              0.7777777777777778,
              "#fb9f3a"
             ],
             [
              0.8888888888888888,
              "#fdca26"
             ],
             [
              1,
              "#f0f921"
             ]
            ],
            "type": "contour"
           }
          ],
          "contourcarpet": [
           {
            "colorbar": {
             "outlinewidth": 0,
             "ticks": ""
            },
            "type": "contourcarpet"
           }
          ],
          "heatmap": [
           {
            "colorbar": {
             "outlinewidth": 0,
             "ticks": ""
            },
            "colorscale": [
             [
              0,
              "#0d0887"
             ],
             [
              0.1111111111111111,
              "#46039f"
             ],
             [
              0.2222222222222222,
              "#7201a8"
             ],
             [
              0.3333333333333333,
              "#9c179e"
             ],
             [
              0.4444444444444444,
              "#bd3786"
             ],
             [
              0.5555555555555556,
              "#d8576b"
             ],
             [
              0.6666666666666666,
              "#ed7953"
             ],
             [
              0.7777777777777778,
              "#fb9f3a"
             ],
             [
              0.8888888888888888,
              "#fdca26"
             ],
             [
              1,
              "#f0f921"
             ]
            ],
            "type": "heatmap"
           }
          ],
          "heatmapgl": [
           {
            "colorbar": {
             "outlinewidth": 0,
             "ticks": ""
            },
            "colorscale": [
             [
              0,
              "#0d0887"
             ],
             [
              0.1111111111111111,
              "#46039f"
             ],
             [
              0.2222222222222222,
              "#7201a8"
             ],
             [
              0.3333333333333333,
              "#9c179e"
             ],
             [
              0.4444444444444444,
              "#bd3786"
             ],
             [
              0.5555555555555556,
              "#d8576b"
             ],
             [
              0.6666666666666666,
              "#ed7953"
             ],
             [
              0.7777777777777778,
              "#fb9f3a"
             ],
             [
              0.8888888888888888,
              "#fdca26"
             ],
             [
              1,
              "#f0f921"
             ]
            ],
            "type": "heatmapgl"
           }
          ],
          "histogram": [
           {
            "marker": {
             "colorbar": {
              "outlinewidth": 0,
              "ticks": ""
             }
            },
            "type": "histogram"
           }
          ],
          "histogram2d": [
           {
            "colorbar": {
             "outlinewidth": 0,
             "ticks": ""
            },
            "colorscale": [
             [
              0,
              "#0d0887"
             ],
             [
              0.1111111111111111,
              "#46039f"
             ],
             [
              0.2222222222222222,
              "#7201a8"
             ],
             [
              0.3333333333333333,
              "#9c179e"
             ],
             [
              0.4444444444444444,
              "#bd3786"
             ],
             [
              0.5555555555555556,
              "#d8576b"
             ],
             [
              0.6666666666666666,
              "#ed7953"
             ],
             [
              0.7777777777777778,
              "#fb9f3a"
             ],
             [
              0.8888888888888888,
              "#fdca26"
             ],
             [
              1,
              "#f0f921"
             ]
            ],
            "type": "histogram2d"
           }
          ],
          "histogram2dcontour": [
           {
            "colorbar": {
             "outlinewidth": 0,
             "ticks": ""
            },
            "colorscale": [
             [
              0,
              "#0d0887"
             ],
             [
              0.1111111111111111,
              "#46039f"
             ],
             [
              0.2222222222222222,
              "#7201a8"
             ],
             [
              0.3333333333333333,
              "#9c179e"
             ],
             [
              0.4444444444444444,
              "#bd3786"
             ],
             [
              0.5555555555555556,
              "#d8576b"
             ],
             [
              0.6666666666666666,
              "#ed7953"
             ],
             [
              0.7777777777777778,
              "#fb9f3a"
             ],
             [
              0.8888888888888888,
              "#fdca26"
             ],
             [
              1,
              "#f0f921"
             ]
            ],
            "type": "histogram2dcontour"
           }
          ],
          "mesh3d": [
           {
            "colorbar": {
             "outlinewidth": 0,
             "ticks": ""
            },
            "type": "mesh3d"
           }
          ],
          "parcoords": [
           {
            "line": {
             "colorbar": {
              "outlinewidth": 0,
              "ticks": ""
             }
            },
            "type": "parcoords"
           }
          ],
          "pie": [
           {
            "automargin": true,
            "type": "pie"
           }
          ],
          "scatter": [
           {
            "marker": {
             "colorbar": {
              "outlinewidth": 0,
              "ticks": ""
             }
            },
            "type": "scatter"
           }
          ],
          "scatter3d": [
           {
            "line": {
             "colorbar": {
              "outlinewidth": 0,
              "ticks": ""
             }
            },
            "marker": {
             "colorbar": {
              "outlinewidth": 0,
              "ticks": ""
             }
            },
            "type": "scatter3d"
           }
          ],
          "scattercarpet": [
           {
            "marker": {
             "colorbar": {
              "outlinewidth": 0,
              "ticks": ""
             }
            },
            "type": "scattercarpet"
           }
          ],
          "scattergeo": [
           {
            "marker": {
             "colorbar": {
              "outlinewidth": 0,
              "ticks": ""
             }
            },
            "type": "scattergeo"
           }
          ],
          "scattergl": [
           {
            "marker": {
             "colorbar": {
              "outlinewidth": 0,
              "ticks": ""
             }
            },
            "type": "scattergl"
           }
          ],
          "scattermapbox": [
           {
            "marker": {
             "colorbar": {
              "outlinewidth": 0,
              "ticks": ""
             }
            },
            "type": "scattermapbox"
           }
          ],
          "scatterpolar": [
           {
            "marker": {
             "colorbar": {
              "outlinewidth": 0,
              "ticks": ""
             }
            },
            "type": "scatterpolar"
           }
          ],
          "scatterpolargl": [
           {
            "marker": {
             "colorbar": {
              "outlinewidth": 0,
              "ticks": ""
             }
            },
            "type": "scatterpolargl"
           }
          ],
          "scatterternary": [
           {
            "marker": {
             "colorbar": {
              "outlinewidth": 0,
              "ticks": ""
             }
            },
            "type": "scatterternary"
           }
          ],
          "surface": [
           {
            "colorbar": {
             "outlinewidth": 0,
             "ticks": ""
            },
            "colorscale": [
             [
              0,
              "#0d0887"
             ],
             [
              0.1111111111111111,
              "#46039f"
             ],
             [
              0.2222222222222222,
              "#7201a8"
             ],
             [
              0.3333333333333333,
              "#9c179e"
             ],
             [
              0.4444444444444444,
              "#bd3786"
             ],
             [
              0.5555555555555556,
              "#d8576b"
             ],
             [
              0.6666666666666666,
              "#ed7953"
             ],
             [
              0.7777777777777778,
              "#fb9f3a"
             ],
             [
              0.8888888888888888,
              "#fdca26"
             ],
             [
              1,
              "#f0f921"
             ]
            ],
            "type": "surface"
           }
          ],
          "table": [
           {
            "cells": {
             "fill": {
              "color": "#EBF0F8"
             },
             "line": {
              "color": "white"
             }
            },
            "header": {
             "fill": {
              "color": "#C8D4E3"
             },
             "line": {
              "color": "white"
             }
            },
            "type": "table"
           }
          ]
         },
         "layout": {
          "annotationdefaults": {
           "arrowcolor": "#2a3f5f",
           "arrowhead": 0,
           "arrowwidth": 1
          },
          "autotypenumbers": "strict",
          "coloraxis": {
           "colorbar": {
            "outlinewidth": 0,
            "ticks": ""
           }
          },
          "colorscale": {
           "diverging": [
            [
             0,
             "#8e0152"
            ],
            [
             0.1,
             "#c51b7d"
            ],
            [
             0.2,
             "#de77ae"
            ],
            [
             0.3,
             "#f1b6da"
            ],
            [
             0.4,
             "#fde0ef"
            ],
            [
             0.5,
             "#f7f7f7"
            ],
            [
             0.6,
             "#e6f5d0"
            ],
            [
             0.7,
             "#b8e186"
            ],
            [
             0.8,
             "#7fbc41"
            ],
            [
             0.9,
             "#4d9221"
            ],
            [
             1,
             "#276419"
            ]
           ],
           "sequential": [
            [
             0,
             "#0d0887"
            ],
            [
             0.1111111111111111,
             "#46039f"
            ],
            [
             0.2222222222222222,
             "#7201a8"
            ],
            [
             0.3333333333333333,
             "#9c179e"
            ],
            [
             0.4444444444444444,
             "#bd3786"
            ],
            [
             0.5555555555555556,
             "#d8576b"
            ],
            [
             0.6666666666666666,
             "#ed7953"
            ],
            [
             0.7777777777777778,
             "#fb9f3a"
            ],
            [
             0.8888888888888888,
             "#fdca26"
            ],
            [
             1,
             "#f0f921"
            ]
           ],
           "sequentialminus": [
            [
             0,
             "#0d0887"
            ],
            [
             0.1111111111111111,
             "#46039f"
            ],
            [
             0.2222222222222222,
             "#7201a8"
            ],
            [
             0.3333333333333333,
             "#9c179e"
            ],
            [
             0.4444444444444444,
             "#bd3786"
            ],
            [
             0.5555555555555556,
             "#d8576b"
            ],
            [
             0.6666666666666666,
             "#ed7953"
            ],
            [
             0.7777777777777778,
             "#fb9f3a"
            ],
            [
             0.8888888888888888,
             "#fdca26"
            ],
            [
             1,
             "#f0f921"
            ]
           ]
          },
          "colorway": [
           "#636efa",
           "#EF553B",
           "#00cc96",
           "#ab63fa",
           "#FFA15A",
           "#19d3f3",
           "#FF6692",
           "#B6E880",
           "#FF97FF",
           "#FECB52"
          ],
          "font": {
           "color": "#2a3f5f"
          },
          "geo": {
           "bgcolor": "white",
           "lakecolor": "white",
           "landcolor": "#E5ECF6",
           "showlakes": true,
           "showland": true,
           "subunitcolor": "white"
          },
          "hoverlabel": {
           "align": "left"
          },
          "hovermode": "closest",
          "mapbox": {
           "style": "light"
          },
          "paper_bgcolor": "white",
          "plot_bgcolor": "#E5ECF6",
          "polar": {
           "angularaxis": {
            "gridcolor": "white",
            "linecolor": "white",
            "ticks": ""
           },
           "bgcolor": "#E5ECF6",
           "radialaxis": {
            "gridcolor": "white",
            "linecolor": "white",
            "ticks": ""
           }
          },
          "scene": {
           "xaxis": {
            "backgroundcolor": "#E5ECF6",
            "gridcolor": "white",
            "gridwidth": 2,
            "linecolor": "white",
            "showbackground": true,
            "ticks": "",
            "zerolinecolor": "white"
           },
           "yaxis": {
            "backgroundcolor": "#E5ECF6",
            "gridcolor": "white",
            "gridwidth": 2,
            "linecolor": "white",
            "showbackground": true,
            "ticks": "",
            "zerolinecolor": "white"
           },
           "zaxis": {
            "backgroundcolor": "#E5ECF6",
            "gridcolor": "white",
            "gridwidth": 2,
            "linecolor": "white",
            "showbackground": true,
            "ticks": "",
            "zerolinecolor": "white"
           }
          },
          "shapedefaults": {
           "line": {
            "color": "#2a3f5f"
           }
          },
          "ternary": {
           "aaxis": {
            "gridcolor": "white",
            "linecolor": "white",
            "ticks": ""
           },
           "baxis": {
            "gridcolor": "white",
            "linecolor": "white",
            "ticks": ""
           },
           "bgcolor": "#E5ECF6",
           "caxis": {
            "gridcolor": "white",
            "linecolor": "white",
            "ticks": ""
           }
          },
          "title": {
           "x": 0.05
          },
          "xaxis": {
           "automargin": true,
           "gridcolor": "white",
           "linecolor": "white",
           "ticks": "",
           "title": {
            "standoff": 15
           },
           "zerolinecolor": "white",
           "zerolinewidth": 2
          },
          "yaxis": {
           "automargin": true,
           "gridcolor": "white",
           "linecolor": "white",
           "ticks": "",
           "title": {
            "standoff": 15
           },
           "zerolinecolor": "white",
           "zerolinewidth": 2
          }
         }
        }
       }
      },
      "text/html": [
       "<div>                            <div id=\"c2e83fb2-df15-41f5-bc35-e448c01ee1a9\" class=\"plotly-graph-div\" style=\"height:525px; width:100%;\"></div>            <script type=\"text/javascript\">                require([\"plotly\"], function(Plotly) {                    window.PLOTLYENV=window.PLOTLYENV || {};                                    if (document.getElementById(\"c2e83fb2-df15-41f5-bc35-e448c01ee1a9\")) {                    Plotly.newPlot(                        \"c2e83fb2-df15-41f5-bc35-e448c01ee1a9\",                        [{\"mode\": \"lines\", \"name\": \"0\", \"type\": \"scatter\", \"x\": [0.01, 0.02, 0.04, 0.08, 0.16, 0.32, 0.64, 1.28], \"y\": [39.7948, 45.1284, 83.6496, 85.15039999999999, 66.67519999999999, 21.976, 8.8064, 5.632000000000001]}, {\"mode\": \"lines\", \"name\": \"1\", \"type\": \"scatter\", \"x\": [0.01, 0.02, 0.04, 0.08, 0.16, 0.32, 0.64, 1.28], \"y\": [42.38475, 46.558800000000005, 97.46560000000001, 92.38880000000002, 57.7024, 17.4784, 6.656000000000001, 5.708799999999999]}, {\"mode\": \"lines\", \"name\": \"2\", \"type\": \"scatter\", \"x\": [0.01, 0.02, 0.04, 0.08, 0.16, 0.32, 0.64, 1.28], \"y\": [54.7218, 49.704, 96.47760000000001, 90.93599999999999, 73.1808, 22.9696, 8.601600000000001, 6.630400000000001]}, {\"mode\": \"lines\", \"name\": \"3\", \"type\": \"scatter\", \"x\": [0.01, 0.02, 0.04, 0.08, 0.16, 0.32, 0.64, 1.28], \"y\": [73.564, 53.5508, 93.6584, 91.11679999999998, 79.45280000000001, 15.1936, 9.728, 5.299200000000001]}, {\"mode\": \"lines\", \"name\": \"4\", \"type\": \"scatter\", \"x\": [0.01, 0.02, 0.04, 0.08, 0.16, 0.32, 0.64, 1.28], \"y\": [83.37549999999999, 61.11359999999999, 106.0416, 112.97120000000001, 89.37920000000003, 19.916800000000002, 8.8064, 6.656000000000001]}, {\"mode\": \"lines\", \"name\": \"5\", \"type\": \"scatter\", \"x\": [0.01, 0.02, 0.04, 0.08, 0.16, 0.32, 0.64, 1.28], \"y\": [73.71539999999999, 74.63959999999999, 110.1592, 142.48160000000001, 58.34879999999999, 21.068800000000003, 9.0752, 5.5296]}],                        {\"template\": {\"data\": {\"bar\": [{\"error_x\": {\"color\": \"#2a3f5f\"}, \"error_y\": {\"color\": \"#2a3f5f\"}, \"marker\": {\"line\": {\"color\": \"#E5ECF6\", \"width\": 0.5}}, \"type\": \"bar\"}], \"barpolar\": [{\"marker\": {\"line\": {\"color\": \"#E5ECF6\", \"width\": 0.5}}, \"type\": \"barpolar\"}], \"carpet\": [{\"aaxis\": {\"endlinecolor\": \"#2a3f5f\", \"gridcolor\": \"white\", \"linecolor\": \"white\", \"minorgridcolor\": \"white\", \"startlinecolor\": \"#2a3f5f\"}, \"baxis\": {\"endlinecolor\": \"#2a3f5f\", \"gridcolor\": \"white\", \"linecolor\": \"white\", \"minorgridcolor\": \"white\", \"startlinecolor\": \"#2a3f5f\"}, \"type\": \"carpet\"}], \"choropleth\": [{\"colorbar\": {\"outlinewidth\": 0, \"ticks\": \"\"}, \"type\": \"choropleth\"}], \"contour\": [{\"colorbar\": {\"outlinewidth\": 0, \"ticks\": \"\"}, \"colorscale\": [[0.0, \"#0d0887\"], [0.1111111111111111, \"#46039f\"], [0.2222222222222222, \"#7201a8\"], [0.3333333333333333, \"#9c179e\"], [0.4444444444444444, \"#bd3786\"], [0.5555555555555556, \"#d8576b\"], [0.6666666666666666, \"#ed7953\"], [0.7777777777777778, \"#fb9f3a\"], [0.8888888888888888, \"#fdca26\"], [1.0, \"#f0f921\"]], \"type\": \"contour\"}], \"contourcarpet\": [{\"colorbar\": {\"outlinewidth\": 0, \"ticks\": \"\"}, \"type\": \"contourcarpet\"}], \"heatmap\": [{\"colorbar\": {\"outlinewidth\": 0, \"ticks\": \"\"}, \"colorscale\": [[0.0, \"#0d0887\"], [0.1111111111111111, \"#46039f\"], [0.2222222222222222, \"#7201a8\"], [0.3333333333333333, \"#9c179e\"], [0.4444444444444444, \"#bd3786\"], [0.5555555555555556, \"#d8576b\"], [0.6666666666666666, \"#ed7953\"], [0.7777777777777778, \"#fb9f3a\"], [0.8888888888888888, \"#fdca26\"], [1.0, \"#f0f921\"]], \"type\": \"heatmap\"}], \"heatmapgl\": [{\"colorbar\": {\"outlinewidth\": 0, \"ticks\": \"\"}, \"colorscale\": [[0.0, \"#0d0887\"], [0.1111111111111111, \"#46039f\"], [0.2222222222222222, \"#7201a8\"], [0.3333333333333333, \"#9c179e\"], [0.4444444444444444, \"#bd3786\"], [0.5555555555555556, \"#d8576b\"], [0.6666666666666666, \"#ed7953\"], [0.7777777777777778, \"#fb9f3a\"], [0.8888888888888888, \"#fdca26\"], [1.0, \"#f0f921\"]], \"type\": \"heatmapgl\"}], \"histogram\": [{\"marker\": {\"colorbar\": {\"outlinewidth\": 0, \"ticks\": \"\"}}, \"type\": \"histogram\"}], \"histogram2d\": [{\"colorbar\": {\"outlinewidth\": 0, \"ticks\": \"\"}, \"colorscale\": [[0.0, \"#0d0887\"], [0.1111111111111111, \"#46039f\"], [0.2222222222222222, \"#7201a8\"], [0.3333333333333333, \"#9c179e\"], [0.4444444444444444, \"#bd3786\"], [0.5555555555555556, \"#d8576b\"], [0.6666666666666666, \"#ed7953\"], [0.7777777777777778, \"#fb9f3a\"], [0.8888888888888888, \"#fdca26\"], [1.0, \"#f0f921\"]], \"type\": \"histogram2d\"}], \"histogram2dcontour\": [{\"colorbar\": {\"outlinewidth\": 0, \"ticks\": \"\"}, \"colorscale\": [[0.0, \"#0d0887\"], [0.1111111111111111, \"#46039f\"], [0.2222222222222222, \"#7201a8\"], [0.3333333333333333, \"#9c179e\"], [0.4444444444444444, \"#bd3786\"], [0.5555555555555556, \"#d8576b\"], [0.6666666666666666, \"#ed7953\"], [0.7777777777777778, \"#fb9f3a\"], [0.8888888888888888, \"#fdca26\"], [1.0, \"#f0f921\"]], \"type\": \"histogram2dcontour\"}], \"mesh3d\": [{\"colorbar\": {\"outlinewidth\": 0, \"ticks\": \"\"}, \"type\": \"mesh3d\"}], \"parcoords\": [{\"line\": {\"colorbar\": {\"outlinewidth\": 0, \"ticks\": \"\"}}, \"type\": \"parcoords\"}], \"pie\": [{\"automargin\": true, \"type\": \"pie\"}], \"scatter\": [{\"marker\": {\"colorbar\": {\"outlinewidth\": 0, \"ticks\": \"\"}}, \"type\": \"scatter\"}], \"scatter3d\": [{\"line\": {\"colorbar\": {\"outlinewidth\": 0, \"ticks\": \"\"}}, \"marker\": {\"colorbar\": {\"outlinewidth\": 0, \"ticks\": \"\"}}, \"type\": \"scatter3d\"}], \"scattercarpet\": [{\"marker\": {\"colorbar\": {\"outlinewidth\": 0, \"ticks\": \"\"}}, \"type\": \"scattercarpet\"}], \"scattergeo\": [{\"marker\": {\"colorbar\": {\"outlinewidth\": 0, \"ticks\": \"\"}}, \"type\": \"scattergeo\"}], \"scattergl\": [{\"marker\": {\"colorbar\": {\"outlinewidth\": 0, \"ticks\": \"\"}}, \"type\": \"scattergl\"}], \"scattermapbox\": [{\"marker\": {\"colorbar\": {\"outlinewidth\": 0, \"ticks\": \"\"}}, \"type\": \"scattermapbox\"}], \"scatterpolar\": [{\"marker\": {\"colorbar\": {\"outlinewidth\": 0, \"ticks\": \"\"}}, \"type\": \"scatterpolar\"}], \"scatterpolargl\": [{\"marker\": {\"colorbar\": {\"outlinewidth\": 0, \"ticks\": \"\"}}, \"type\": \"scatterpolargl\"}], \"scatterternary\": [{\"marker\": {\"colorbar\": {\"outlinewidth\": 0, \"ticks\": \"\"}}, \"type\": \"scatterternary\"}], \"surface\": [{\"colorbar\": {\"outlinewidth\": 0, \"ticks\": \"\"}, \"colorscale\": [[0.0, \"#0d0887\"], [0.1111111111111111, \"#46039f\"], [0.2222222222222222, \"#7201a8\"], [0.3333333333333333, \"#9c179e\"], [0.4444444444444444, \"#bd3786\"], [0.5555555555555556, \"#d8576b\"], [0.6666666666666666, \"#ed7953\"], [0.7777777777777778, \"#fb9f3a\"], [0.8888888888888888, \"#fdca26\"], [1.0, \"#f0f921\"]], \"type\": \"surface\"}], \"table\": [{\"cells\": {\"fill\": {\"color\": \"#EBF0F8\"}, \"line\": {\"color\": \"white\"}}, \"header\": {\"fill\": {\"color\": \"#C8D4E3\"}, \"line\": {\"color\": \"white\"}}, \"type\": \"table\"}]}, \"layout\": {\"annotationdefaults\": {\"arrowcolor\": \"#2a3f5f\", \"arrowhead\": 0, \"arrowwidth\": 1}, \"autotypenumbers\": \"strict\", \"coloraxis\": {\"colorbar\": {\"outlinewidth\": 0, \"ticks\": \"\"}}, \"colorscale\": {\"diverging\": [[0, \"#8e0152\"], [0.1, \"#c51b7d\"], [0.2, \"#de77ae\"], [0.3, \"#f1b6da\"], [0.4, \"#fde0ef\"], [0.5, \"#f7f7f7\"], [0.6, \"#e6f5d0\"], [0.7, \"#b8e186\"], [0.8, \"#7fbc41\"], [0.9, \"#4d9221\"], [1, \"#276419\"]], \"sequential\": [[0.0, \"#0d0887\"], [0.1111111111111111, \"#46039f\"], [0.2222222222222222, \"#7201a8\"], [0.3333333333333333, \"#9c179e\"], [0.4444444444444444, \"#bd3786\"], [0.5555555555555556, \"#d8576b\"], [0.6666666666666666, \"#ed7953\"], [0.7777777777777778, \"#fb9f3a\"], [0.8888888888888888, \"#fdca26\"], [1.0, \"#f0f921\"]], \"sequentialminus\": [[0.0, \"#0d0887\"], [0.1111111111111111, \"#46039f\"], [0.2222222222222222, \"#7201a8\"], [0.3333333333333333, \"#9c179e\"], [0.4444444444444444, \"#bd3786\"], [0.5555555555555556, \"#d8576b\"], [0.6666666666666666, \"#ed7953\"], [0.7777777777777778, \"#fb9f3a\"], [0.8888888888888888, \"#fdca26\"], [1.0, \"#f0f921\"]]}, \"colorway\": [\"#636efa\", \"#EF553B\", \"#00cc96\", \"#ab63fa\", \"#FFA15A\", \"#19d3f3\", \"#FF6692\", \"#B6E880\", \"#FF97FF\", \"#FECB52\"], \"font\": {\"color\": \"#2a3f5f\"}, \"geo\": {\"bgcolor\": \"white\", \"lakecolor\": \"white\", \"landcolor\": \"#E5ECF6\", \"showlakes\": true, \"showland\": true, \"subunitcolor\": \"white\"}, \"hoverlabel\": {\"align\": \"left\"}, \"hovermode\": \"closest\", \"mapbox\": {\"style\": \"light\"}, \"paper_bgcolor\": \"white\", \"plot_bgcolor\": \"#E5ECF6\", \"polar\": {\"angularaxis\": {\"gridcolor\": \"white\", \"linecolor\": \"white\", \"ticks\": \"\"}, \"bgcolor\": \"#E5ECF6\", \"radialaxis\": {\"gridcolor\": \"white\", \"linecolor\": \"white\", \"ticks\": \"\"}}, \"scene\": {\"xaxis\": {\"backgroundcolor\": \"#E5ECF6\", \"gridcolor\": \"white\", \"gridwidth\": 2, \"linecolor\": \"white\", \"showbackground\": true, \"ticks\": \"\", \"zerolinecolor\": \"white\"}, \"yaxis\": {\"backgroundcolor\": \"#E5ECF6\", \"gridcolor\": \"white\", \"gridwidth\": 2, \"linecolor\": \"white\", \"showbackground\": true, \"ticks\": \"\", \"zerolinecolor\": \"white\"}, \"zaxis\": {\"backgroundcolor\": \"#E5ECF6\", \"gridcolor\": \"white\", \"gridwidth\": 2, \"linecolor\": \"white\", \"showbackground\": true, \"ticks\": \"\", \"zerolinecolor\": \"white\"}}, \"shapedefaults\": {\"line\": {\"color\": \"#2a3f5f\"}}, \"ternary\": {\"aaxis\": {\"gridcolor\": \"white\", \"linecolor\": \"white\", \"ticks\": \"\"}, \"baxis\": {\"gridcolor\": \"white\", \"linecolor\": \"white\", \"ticks\": \"\"}, \"bgcolor\": \"#E5ECF6\", \"caxis\": {\"gridcolor\": \"white\", \"linecolor\": \"white\", \"ticks\": \"\"}}, \"title\": {\"x\": 0.05}, \"xaxis\": {\"automargin\": true, \"gridcolor\": \"white\", \"linecolor\": \"white\", \"ticks\": \"\", \"title\": {\"standoff\": 15}, \"zerolinecolor\": \"white\", \"zerolinewidth\": 2}, \"yaxis\": {\"automargin\": true, \"gridcolor\": \"white\", \"linecolor\": \"white\", \"ticks\": \"\", \"title\": {\"standoff\": 15}, \"zerolinecolor\": \"white\", \"zerolinewidth\": 2}}}},                        {\"responsive\": true}                    ).then(function(){\n",
       "                            \n",
       "var gd = document.getElementById('c2e83fb2-df15-41f5-bc35-e448c01ee1a9');\n",
       "var x = new MutationObserver(function (mutations, observer) {{\n",
       "        var display = window.getComputedStyle(gd).display;\n",
       "        if (!display || display === 'none') {{\n",
       "            console.log([gd, 'removed!']);\n",
       "            Plotly.purge(gd);\n",
       "            observer.disconnect();\n",
       "        }}\n",
       "}});\n",
       "\n",
       "// Listen for the removal of the full notebook cells\n",
       "var notebookContainer = gd.closest('#notebook-container');\n",
       "if (notebookContainer) {{\n",
       "    x.observe(notebookContainer, {childList: true});\n",
       "}}\n",
       "\n",
       "// Listen for the clearing of the current output cell\n",
       "var outputEl = gd.closest('.output');\n",
       "if (outputEl) {{\n",
       "    x.observe(outputEl, {childList: true});\n",
       "}}\n",
       "\n",
       "                        })                };                });            </script>        </div>"
      ]
     },
     "metadata": {},
     "output_type": "display_data"
    }
   ],
   "source": [
    "fig = go.Figure()\n",
    "\n",
    "    \n",
    "for force in range(6):\n",
    "    rewards = []\n",
    "    for rt in response_times:\n",
    "        temp_df = df.loc[(df['response_rate'] == rt) & (df['g_force'] == force)]\n",
    "        print (rt, force, np.mean(temp_df['reward'])* rt)\n",
    "        rewards.append( np.mean(temp_df['reward'])* rt)\n",
    "    \n",
    "    fig.add_trace(go.Scatter(x=response_times, y=rewards, mode='lines', name=str(force)))\n",
    "fig.show()"
   ]
  },
  {
   "cell_type": "code",
   "execution_count": 16,
   "metadata": {},
   "outputs": [
    {
     "data": {
      "text/html": [
       "<div>\n",
       "<style scoped>\n",
       "    .dataframe tbody tr th:only-of-type {\n",
       "        vertical-align: middle;\n",
       "    }\n",
       "\n",
       "    .dataframe tbody tr th {\n",
       "        vertical-align: top;\n",
       "    }\n",
       "\n",
       "    .dataframe thead th {\n",
       "        text-align: right;\n",
       "    }\n",
       "</style>\n",
       "<table border=\"1\" class=\"dataframe\">\n",
       "  <thead>\n",
       "    <tr style=\"text-align: right;\">\n",
       "      <th></th>\n",
       "      <th>seed</th>\n",
       "      <th>g_force</th>\n",
       "      <th>response_rate</th>\n",
       "      <th>reward</th>\n",
       "      <th>angle</th>\n",
       "    </tr>\n",
       "  </thead>\n",
       "  <tbody>\n",
       "    <tr>\n",
       "      <th>0</th>\n",
       "      <td>0.0</td>\n",
       "      <td>0.0</td>\n",
       "      <td>0.01</td>\n",
       "      <td>5683.7</td>\n",
       "      <td>88.433887</td>\n",
       "    </tr>\n",
       "    <tr>\n",
       "      <th>1</th>\n",
       "      <td>1.0</td>\n",
       "      <td>0.0</td>\n",
       "      <td>0.01</td>\n",
       "      <td>4785.7</td>\n",
       "      <td>47.933353</td>\n",
       "    </tr>\n",
       "    <tr>\n",
       "      <th>2</th>\n",
       "      <td>2.0</td>\n",
       "      <td>0.0</td>\n",
       "      <td>0.01</td>\n",
       "      <td>147.1</td>\n",
       "      <td>10.677895</td>\n",
       "    </tr>\n",
       "    <tr>\n",
       "      <th>3</th>\n",
       "      <td>3.0</td>\n",
       "      <td>0.0</td>\n",
       "      <td>0.01</td>\n",
       "      <td>4605.1</td>\n",
       "      <td>76.335801</td>\n",
       "    </tr>\n",
       "    <tr>\n",
       "      <th>4</th>\n",
       "      <td>4.0</td>\n",
       "      <td>0.0</td>\n",
       "      <td>0.01</td>\n",
       "      <td>4675.8</td>\n",
       "      <td>116.574278</td>\n",
       "    </tr>\n",
       "    <tr>\n",
       "      <th>...</th>\n",
       "      <td>...</td>\n",
       "      <td>...</td>\n",
       "      <td>...</td>\n",
       "      <td>...</td>\n",
       "      <td>...</td>\n",
       "    </tr>\n",
       "    <tr>\n",
       "      <th>232</th>\n",
       "      <td>0.0</td>\n",
       "      <td>5.0</td>\n",
       "      <td>1.28</td>\n",
       "      <td>4.4</td>\n",
       "      <td>0.958583</td>\n",
       "    </tr>\n",
       "    <tr>\n",
       "      <th>233</th>\n",
       "      <td>1.0</td>\n",
       "      <td>5.0</td>\n",
       "      <td>1.28</td>\n",
       "      <td>4.0</td>\n",
       "      <td>0.718849</td>\n",
       "    </tr>\n",
       "    <tr>\n",
       "      <th>234</th>\n",
       "      <td>2.0</td>\n",
       "      <td>5.0</td>\n",
       "      <td>1.28</td>\n",
       "      <td>4.4</td>\n",
       "      <td>0.631078</td>\n",
       "    </tr>\n",
       "    <tr>\n",
       "      <th>235</th>\n",
       "      <td>3.0</td>\n",
       "      <td>5.0</td>\n",
       "      <td>1.28</td>\n",
       "      <td>4.4</td>\n",
       "      <td>0.651751</td>\n",
       "    </tr>\n",
       "    <tr>\n",
       "      <th>236</th>\n",
       "      <td>4.0</td>\n",
       "      <td>5.0</td>\n",
       "      <td>1.28</td>\n",
       "      <td>4.4</td>\n",
       "      <td>0.811931</td>\n",
       "    </tr>\n",
       "  </tbody>\n",
       "</table>\n",
       "<p>237 rows × 5 columns</p>\n",
       "</div>"
      ],
      "text/plain": [
       "     seed  g_force  response_rate  reward       angle\n",
       "0     0.0      0.0           0.01  5683.7   88.433887\n",
       "1     1.0      0.0           0.01  4785.7   47.933353\n",
       "2     2.0      0.0           0.01   147.1   10.677895\n",
       "3     3.0      0.0           0.01  4605.1   76.335801\n",
       "4     4.0      0.0           0.01  4675.8  116.574278\n",
       "..    ...      ...            ...     ...         ...\n",
       "232   0.0      5.0           1.28     4.4    0.958583\n",
       "233   1.0      5.0           1.28     4.0    0.718849\n",
       "234   2.0      5.0           1.28     4.4    0.631078\n",
       "235   3.0      5.0           1.28     4.4    0.651751\n",
       "236   4.0      5.0           1.28     4.4    0.811931\n",
       "\n",
       "[237 rows x 5 columns]"
      ]
     },
     "execution_count": 16,
     "metadata": {},
     "output_type": "execute_result"
    }
   ],
   "source": [
    "df"
   ]
  },
  {
   "cell_type": "code",
   "execution_count": null,
   "metadata": {},
   "outputs": [],
   "source": []
  }
 ],
 "metadata": {
  "kernelspec": {
   "display_name": "Python 3",
   "language": "python",
   "name": "python3"
  },
  "language_info": {
   "codemirror_mode": {
    "name": "ipython",
    "version": 3
   },
   "file_extension": ".py",
   "mimetype": "text/x-python",
   "name": "python",
   "nbconvert_exporter": "python",
   "pygments_lexer": "ipython3",
   "version": "3.6.4"
  }
 },
 "nbformat": 4,
 "nbformat_minor": 2
}
