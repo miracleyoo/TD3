{
 "cells": [
  {
   "cell_type": "code",
   "execution_count": 1,
   "metadata": {},
   "outputs": [],
   "source": [
    "import gym\n",
    "import torch\n",
    "import sys\n",
    "import os\n",
    "import random\n",
    "import numpy as np\n",
    "import plotly.graph_objects as go\n",
    "import plotly.figure_factory as ff\n",
    "from plotly.subplots import make_subplots\n",
    "sys.path.append('../')\n",
    "from common import make_env\n",
    "sys.path.append('../../')\n",
    "import TD3\n",
    "\n",
    "import pandas as pd\n",
    "\n",
    "if not os.path.exists(\"images\"):\n",
    "    os.mkdir(\"images\")\n",
    "    \n",
    "if not os.path.exists(\"images2\"):\n",
    "    os.mkdir(\"images2\")"
   ]
  },
  {
   "cell_type": "code",
   "execution_count": 2,
   "metadata": {},
   "outputs": [],
   "source": [
    "response_times = [ 0.01, 0.02, 0.04, 0.08, 0.16, 0.32, 0.64, 1.28]"
   ]
  },
  {
   "cell_type": "code",
   "execution_count": 3,
   "metadata": {},
   "outputs": [],
   "source": [
    "for rt in response_times:\n",
    "    for g_force in range(21):\n",
    "        for seed in range(5):\n",
    "            if not os.path.isfile('../models/TD3_InvertedPendulum-v2_'+str(seed)+'_0.02_'+str(float(g_force))+'_'+str(rt)+'_1.0_False_final_actor'):\n",
    "                print (rt, g_force, seed)"
   ]
  },
  {
   "cell_type": "code",
   "execution_count": 4,
   "metadata": {
    "scrolled": false
   },
   "outputs": [
    {
     "name": "stdout",
     "output_type": "stream",
     "text": [
      "0.01 0\n",
      "running build_ext\n",
      "building 'mujoco_py.cymj' extension\n",
      "creating c:\\users\\devdh\\appdata\\local\\programs\\python\\python38\\lib\\site-packages\\mujoco_py\\generated\\_pyxbld_2.1.2.14_38_windowsextensionbuilder\n",
      "creating c:\\users\\devdh\\appdata\\local\\programs\\python\\python38\\lib\\site-packages\\mujoco_py\\generated\\_pyxbld_2.1.2.14_38_windowsextensionbuilder\\temp.win-amd64-3.8\n",
      "creating c:\\users\\devdh\\appdata\\local\\programs\\python\\python38\\lib\\site-packages\\mujoco_py\\generated\\_pyxbld_2.1.2.14_38_windowsextensionbuilder\\temp.win-amd64-3.8\\Release\n",
      "creating c:\\users\\devdh\\appdata\\local\\programs\\python\\python38\\lib\\site-packages\\mujoco_py\\generated\\_pyxbld_2.1.2.14_38_windowsextensionbuilder\\temp.win-amd64-3.8\\Release\\users\n",
      "creating c:\\users\\devdh\\appdata\\local\\programs\\python\\python38\\lib\\site-packages\\mujoco_py\\generated\\_pyxbld_2.1.2.14_38_windowsextensionbuilder\\temp.win-amd64-3.8\\Release\\users\\devdh\n",
      "creating c:\\users\\devdh\\appdata\\local\\programs\\python\\python38\\lib\\site-packages\\mujoco_py\\generated\\_pyxbld_2.1.2.14_38_windowsextensionbuilder\\temp.win-amd64-3.8\\Release\\users\\devdh\\appdata\n",
      "creating c:\\users\\devdh\\appdata\\local\\programs\\python\\python38\\lib\\site-packages\\mujoco_py\\generated\\_pyxbld_2.1.2.14_38_windowsextensionbuilder\\temp.win-amd64-3.8\\Release\\users\\devdh\\appdata\\local\n",
      "creating c:\\users\\devdh\\appdata\\local\\programs\\python\\python38\\lib\\site-packages\\mujoco_py\\generated\\_pyxbld_2.1.2.14_38_windowsextensionbuilder\\temp.win-amd64-3.8\\Release\\users\\devdh\\appdata\\local\\programs\n",
      "creating c:\\users\\devdh\\appdata\\local\\programs\\python\\python38\\lib\\site-packages\\mujoco_py\\generated\\_pyxbld_2.1.2.14_38_windowsextensionbuilder\\temp.win-amd64-3.8\\Release\\users\\devdh\\appdata\\local\\programs\\python\n",
      "creating c:\\users\\devdh\\appdata\\local\\programs\\python\\python38\\lib\\site-packages\\mujoco_py\\generated\\_pyxbld_2.1.2.14_38_windowsextensionbuilder\\temp.win-amd64-3.8\\Release\\users\\devdh\\appdata\\local\\programs\\python\\python38\n",
      "creating c:\\users\\devdh\\appdata\\local\\programs\\python\\python38\\lib\\site-packages\\mujoco_py\\generated\\_pyxbld_2.1.2.14_38_windowsextensionbuilder\\temp.win-amd64-3.8\\Release\\users\\devdh\\appdata\\local\\programs\\python\\python38\\lib\n",
      "creating c:\\users\\devdh\\appdata\\local\\programs\\python\\python38\\lib\\site-packages\\mujoco_py\\generated\\_pyxbld_2.1.2.14_38_windowsextensionbuilder\\temp.win-amd64-3.8\\Release\\users\\devdh\\appdata\\local\\programs\\python\\python38\\lib\\site-packages\n",
      "creating c:\\users\\devdh\\appdata\\local\\programs\\python\\python38\\lib\\site-packages\\mujoco_py\\generated\\_pyxbld_2.1.2.14_38_windowsextensionbuilder\\temp.win-amd64-3.8\\Release\\users\\devdh\\appdata\\local\\programs\\python\\python38\\lib\\site-packages\\mujoco_py\n",
      "creating c:\\users\\devdh\\appdata\\local\\programs\\python\\python38\\lib\\site-packages\\mujoco_py\\generated\\_pyxbld_2.1.2.14_38_windowsextensionbuilder\\temp.win-amd64-3.8\\Release\\users\\devdh\\appdata\\local\\programs\\python\\python38\\lib\\site-packages\\mujoco_py\\gl\n",
      "C:\\Program Files\\Microsoft Visual Studio\\2022\\Community\\VC\\Tools\\MSVC\\14.30.30705\\bin\\HostX86\\x64\\cl.exe /c /nologo /Ox /W3 /GL /DNDEBUG /MD -Ic:\\users\\devdh\\appdata\\local\\programs\\python\\python38\\lib\\site-packages\\mujoco_py -IC:\\Users\\devdh\\.mujoco\\mujoco210\\include -Ic:\\users\\devdh\\appdata\\local\\programs\\python\\python38\\lib\\site-packages\\numpy\\core\\include -Ic:\\users\\devdh\\appdata\\local\\programs\\python\\python38\\include -Ic:\\users\\devdh\\appdata\\local\\programs\\python\\python38\\include \"-IC:\\Program Files\\Microsoft Visual Studio\\2022\\Community\\VC\\Tools\\MSVC\\14.30.30705\\include\" \"-IC:\\Program Files (x86)\\Windows Kits\\10\\include\\10.0.19041.0\\ucrt\" \"-IC:\\Program Files (x86)\\Windows Kits\\10\\\\include\\10.0.19041.0\\\\shared\" \"-IC:\\Program Files (x86)\\Windows Kits\\10\\\\include\\10.0.19041.0\\\\um\" \"-IC:\\Program Files (x86)\\Windows Kits\\10\\\\include\\10.0.19041.0\\\\winrt\" \"-IC:\\Program Files (x86)\\Windows Kits\\10\\\\include\\10.0.19041.0\\\\cppwinrt\" /Tcc:\\users\\devdh\\appdata\\local\\programs\\python\\python38\\lib\\site-packages\\mujoco_py\\cymj.c /Foc:\\users\\devdh\\appdata\\local\\programs\\python\\python38\\lib\\site-packages\\mujoco_py\\generated\\_pyxbld_2.1.2.14_38_windowsextensionbuilder\\temp.win-amd64-3.8\\Release\\users\\devdh\\appdata\\local\\programs\\python\\python38\\lib\\site-packages\\mujoco_py\\cymj.obj -fopenmp -w\n",
      "C:\\Program Files\\Microsoft Visual Studio\\2022\\Community\\VC\\Tools\\MSVC\\14.30.30705\\bin\\HostX86\\x64\\cl.exe /c /nologo /Ox /W3 /GL /DNDEBUG /MD -Ic:\\users\\devdh\\appdata\\local\\programs\\python\\python38\\lib\\site-packages\\mujoco_py -IC:\\Users\\devdh\\.mujoco\\mujoco210\\include -Ic:\\users\\devdh\\appdata\\local\\programs\\python\\python38\\lib\\site-packages\\numpy\\core\\include -Ic:\\users\\devdh\\appdata\\local\\programs\\python\\python38\\include -Ic:\\users\\devdh\\appdata\\local\\programs\\python\\python38\\include \"-IC:\\Program Files\\Microsoft Visual Studio\\2022\\Community\\VC\\Tools\\MSVC\\14.30.30705\\include\" \"-IC:\\Program Files (x86)\\Windows Kits\\10\\include\\10.0.19041.0\\ucrt\" \"-IC:\\Program Files (x86)\\Windows Kits\\10\\\\include\\10.0.19041.0\\\\shared\" \"-IC:\\Program Files (x86)\\Windows Kits\\10\\\\include\\10.0.19041.0\\\\um\" \"-IC:\\Program Files (x86)\\Windows Kits\\10\\\\include\\10.0.19041.0\\\\winrt\" \"-IC:\\Program Files (x86)\\Windows Kits\\10\\\\include\\10.0.19041.0\\\\cppwinrt\" /Tcc:\\users\\devdh\\appdata\\local\\programs\\python\\python38\\lib\\site-packages\\mujoco_py/gl/dummyshim.c /Foc:\\users\\devdh\\appdata\\local\\programs\\python\\python38\\lib\\site-packages\\mujoco_py\\generated\\_pyxbld_2.1.2.14_38_windowsextensionbuilder\\temp.win-amd64-3.8\\Release\\users\\devdh\\appdata\\local\\programs\\python\\python38\\lib\\site-packages\\mujoco_py/gl/dummyshim.obj -fopenmp -w\n",
      "creating c:\\users\\devdh\\appdata\\local\\programs\\python\\python38\\lib\\site-packages\\mujoco_py\\generated\\_pyxbld_2.1.2.14_38_windowsextensionbuilder\\lib.win-amd64-3.8\n",
      "creating c:\\users\\devdh\\appdata\\local\\programs\\python\\python38\\lib\\site-packages\\mujoco_py\\generated\\_pyxbld_2.1.2.14_38_windowsextensionbuilder\\lib.win-amd64-3.8\\mujoco_py\n",
      "C:\\Program Files\\Microsoft Visual Studio\\2022\\Community\\VC\\Tools\\MSVC\\14.30.30705\\bin\\HostX86\\x64\\link.exe /nologo /INCREMENTAL:NO /LTCG /DLL /MANIFEST:EMBED,ID=2 /MANIFESTUAC:NO /LIBPATH:C:\\Users\\devdh\\.mujoco\\mujoco210\\bin /LIBPATH:c:\\users\\devdh\\appdata\\local\\programs\\python\\python38\\libs /LIBPATH:c:\\users\\devdh\\appdata\\local\\programs\\python\\python38\\PCbuild\\amd64 \"/LIBPATH:C:\\Program Files\\Microsoft Visual Studio\\2022\\Community\\VC\\Tools\\MSVC\\14.30.30705\\lib\\x64\" \"/LIBPATH:C:\\Program Files (x86)\\Windows Kits\\10\\lib\\10.0.19041.0\\ucrt\\x64\" \"/LIBPATH:C:\\Program Files (x86)\\Windows Kits\\10\\\\lib\\10.0.19041.0\\\\um\\x64\" mujoco210.lib /EXPORT:PyInit_cymj c:\\users\\devdh\\appdata\\local\\programs\\python\\python38\\lib\\site-packages\\mujoco_py\\generated\\_pyxbld_2.1.2.14_38_windowsextensionbuilder\\temp.win-amd64-3.8\\Release\\users\\devdh\\appdata\\local\\programs\\python\\python38\\lib\\site-packages\\mujoco_py\\cymj.obj c:\\users\\devdh\\appdata\\local\\programs\\python\\python38\\lib\\site-packages\\mujoco_py\\generated\\_pyxbld_2.1.2.14_38_windowsextensionbuilder\\temp.win-amd64-3.8\\Release\\users\\devdh\\appdata\\local\\programs\\python\\python38\\lib\\site-packages\\mujoco_py/gl/dummyshim.obj /OUT:c:\\users\\devdh\\appdata\\local\\programs\\python\\python38\\lib\\site-packages\\mujoco_py\\generated\\_pyxbld_2.1.2.14_38_windowsextensionbuilder\\lib.win-amd64-3.8\\mujoco_py\\cymj.cp38-win_amd64.pyd /IMPLIB:c:\\users\\devdh\\appdata\\local\\programs\\python\\python38\\lib\\site-packages\\mujoco_py\\generated\\_pyxbld_2.1.2.14_38_windowsextensionbuilder\\temp.win-amd64-3.8\\Release\\users\\devdh\\appdata\\local\\programs\\python\\python38\\lib\\site-packages\\mujoco_py\\cymj.cp38-win_amd64.lib -fopenmp\n"
     ]
    },
    {
     "ename": "LinkError",
     "evalue": "command 'C:\\\\Program Files\\\\Microsoft Visual Studio\\\\2022\\\\Community\\\\VC\\\\Tools\\\\MSVC\\\\14.30.30705\\\\bin\\\\HostX86\\\\x64\\\\link.exe' failed with exit status 1104",
     "output_type": "error",
     "traceback": [
      "\u001b[1;31m---------------------------------------------------------------------------\u001b[0m",
      "\u001b[1;31mDistutilsExecError\u001b[0m                        Traceback (most recent call last)",
      "\u001b[1;32mc:\\users\\devdh\\appdata\\local\\programs\\python\\python38\\lib\\distutils\\_msvccompiler.py\u001b[0m in \u001b[0;36mlink\u001b[1;34m(self, target_desc, objects, output_filename, output_dir, libraries, library_dirs, runtime_library_dirs, export_symbols, debug, extra_preargs, extra_postargs, build_temp, target_lang)\u001b[0m\n\u001b[0;32m    500\u001b[0m                 \u001b[0mlog\u001b[0m\u001b[1;33m.\u001b[0m\u001b[0mdebug\u001b[0m\u001b[1;33m(\u001b[0m\u001b[1;34m'Executing \"%s\" %s'\u001b[0m\u001b[1;33m,\u001b[0m \u001b[0mself\u001b[0m\u001b[1;33m.\u001b[0m\u001b[0mlinker\u001b[0m\u001b[1;33m,\u001b[0m \u001b[1;34m' '\u001b[0m\u001b[1;33m.\u001b[0m\u001b[0mjoin\u001b[0m\u001b[1;33m(\u001b[0m\u001b[0mld_args\u001b[0m\u001b[1;33m)\u001b[0m\u001b[1;33m)\u001b[0m\u001b[1;33m\u001b[0m\u001b[1;33m\u001b[0m\u001b[0m\n\u001b[1;32m--> 501\u001b[1;33m                 \u001b[0mself\u001b[0m\u001b[1;33m.\u001b[0m\u001b[0mspawn\u001b[0m\u001b[1;33m(\u001b[0m\u001b[1;33m[\u001b[0m\u001b[0mself\u001b[0m\u001b[1;33m.\u001b[0m\u001b[0mlinker\u001b[0m\u001b[1;33m]\u001b[0m \u001b[1;33m+\u001b[0m \u001b[0mld_args\u001b[0m\u001b[1;33m)\u001b[0m\u001b[1;33m\u001b[0m\u001b[1;33m\u001b[0m\u001b[0m\n\u001b[0m\u001b[0;32m    502\u001b[0m             \u001b[1;32mexcept\u001b[0m \u001b[0mDistutilsExecError\u001b[0m \u001b[1;32mas\u001b[0m \u001b[0mmsg\u001b[0m\u001b[1;33m:\u001b[0m\u001b[1;33m\u001b[0m\u001b[1;33m\u001b[0m\u001b[0m\n",
      "\u001b[1;32mc:\\users\\devdh\\appdata\\local\\programs\\python\\python38\\lib\\distutils\\_msvccompiler.py\u001b[0m in \u001b[0;36mspawn\u001b[1;34m(self, cmd)\u001b[0m\n\u001b[0;32m    510\u001b[0m             \u001b[0mos\u001b[0m\u001b[1;33m.\u001b[0m\u001b[0menviron\u001b[0m\u001b[1;33m[\u001b[0m\u001b[1;34m'path'\u001b[0m\u001b[1;33m]\u001b[0m \u001b[1;33m=\u001b[0m \u001b[0mself\u001b[0m\u001b[1;33m.\u001b[0m\u001b[0m_paths\u001b[0m\u001b[1;33m\u001b[0m\u001b[1;33m\u001b[0m\u001b[0m\n\u001b[1;32m--> 511\u001b[1;33m             \u001b[1;32mreturn\u001b[0m \u001b[0msuper\u001b[0m\u001b[1;33m(\u001b[0m\u001b[1;33m)\u001b[0m\u001b[1;33m.\u001b[0m\u001b[0mspawn\u001b[0m\u001b[1;33m(\u001b[0m\u001b[0mcmd\u001b[0m\u001b[1;33m)\u001b[0m\u001b[1;33m\u001b[0m\u001b[1;33m\u001b[0m\u001b[0m\n\u001b[0m\u001b[0;32m    512\u001b[0m         \u001b[1;32mfinally\u001b[0m\u001b[1;33m:\u001b[0m\u001b[1;33m\u001b[0m\u001b[1;33m\u001b[0m\u001b[0m\n",
      "\u001b[1;32mc:\\users\\devdh\\appdata\\local\\programs\\python\\python38\\lib\\distutils\\ccompiler.py\u001b[0m in \u001b[0;36mspawn\u001b[1;34m(self, cmd)\u001b[0m\n\u001b[0;32m    909\u001b[0m     \u001b[1;32mdef\u001b[0m \u001b[0mspawn\u001b[0m\u001b[1;33m(\u001b[0m\u001b[0mself\u001b[0m\u001b[1;33m,\u001b[0m \u001b[0mcmd\u001b[0m\u001b[1;33m)\u001b[0m\u001b[1;33m:\u001b[0m\u001b[1;33m\u001b[0m\u001b[1;33m\u001b[0m\u001b[0m\n\u001b[1;32m--> 910\u001b[1;33m         \u001b[0mspawn\u001b[0m\u001b[1;33m(\u001b[0m\u001b[0mcmd\u001b[0m\u001b[1;33m,\u001b[0m \u001b[0mdry_run\u001b[0m\u001b[1;33m=\u001b[0m\u001b[0mself\u001b[0m\u001b[1;33m.\u001b[0m\u001b[0mdry_run\u001b[0m\u001b[1;33m)\u001b[0m\u001b[1;33m\u001b[0m\u001b[1;33m\u001b[0m\u001b[0m\n\u001b[0m\u001b[0;32m    911\u001b[0m \u001b[1;33m\u001b[0m\u001b[0m\n",
      "\u001b[1;32mc:\\users\\devdh\\appdata\\local\\programs\\python\\python38\\lib\\distutils\\spawn.py\u001b[0m in \u001b[0;36mspawn\u001b[1;34m(cmd, search_path, verbose, dry_run)\u001b[0m\n\u001b[0;32m     37\u001b[0m     \u001b[1;32melif\u001b[0m \u001b[0mos\u001b[0m\u001b[1;33m.\u001b[0m\u001b[0mname\u001b[0m \u001b[1;33m==\u001b[0m \u001b[1;34m'nt'\u001b[0m\u001b[1;33m:\u001b[0m\u001b[1;33m\u001b[0m\u001b[1;33m\u001b[0m\u001b[0m\n\u001b[1;32m---> 38\u001b[1;33m         \u001b[0m_spawn_nt\u001b[0m\u001b[1;33m(\u001b[0m\u001b[0mcmd\u001b[0m\u001b[1;33m,\u001b[0m \u001b[0msearch_path\u001b[0m\u001b[1;33m,\u001b[0m \u001b[0mdry_run\u001b[0m\u001b[1;33m=\u001b[0m\u001b[0mdry_run\u001b[0m\u001b[1;33m)\u001b[0m\u001b[1;33m\u001b[0m\u001b[1;33m\u001b[0m\u001b[0m\n\u001b[0m\u001b[0;32m     39\u001b[0m     \u001b[1;32melse\u001b[0m\u001b[1;33m:\u001b[0m\u001b[1;33m\u001b[0m\u001b[1;33m\u001b[0m\u001b[0m\n",
      "\u001b[1;32mc:\\users\\devdh\\appdata\\local\\programs\\python\\python38\\lib\\distutils\\spawn.py\u001b[0m in \u001b[0;36m_spawn_nt\u001b[1;34m(cmd, search_path, verbose, dry_run)\u001b[0m\n\u001b[0;32m     79\u001b[0m                 \u001b[0mcmd\u001b[0m \u001b[1;33m=\u001b[0m \u001b[0mexecutable\u001b[0m\u001b[1;33m\u001b[0m\u001b[1;33m\u001b[0m\u001b[0m\n\u001b[1;32m---> 80\u001b[1;33m             raise DistutilsExecError(\n\u001b[0m\u001b[0;32m     81\u001b[0m                   \"command %r failed with exit status %d\" % (cmd, rc))\n",
      "\u001b[1;31mDistutilsExecError\u001b[0m: command 'C:\\\\Program Files\\\\Microsoft Visual Studio\\\\2022\\\\Community\\\\VC\\\\Tools\\\\MSVC\\\\14.30.30705\\\\bin\\\\HostX86\\\\x64\\\\link.exe' failed with exit status 1104",
      "\nDuring handling of the above exception, another exception occurred:\n",
      "\u001b[1;31mLinkError\u001b[0m                                 Traceback (most recent call last)",
      "\u001b[1;32m~\\AppData\\Local\\Temp/ipykernel_8980/2410371055.py\u001b[0m in \u001b[0;36m<module>\u001b[1;34m\u001b[0m\n\u001b[0;32m     32\u001b[0m \u001b[1;33m\u001b[0m\u001b[0m\n\u001b[0;32m     33\u001b[0m             \u001b[0mtime_change_factor\u001b[0m \u001b[1;33m=\u001b[0m \u001b[1;33m(\u001b[0m\u001b[0mdefault_timestep\u001b[0m \u001b[1;33m*\u001b[0m \u001b[0mdefault_frame_skip\u001b[0m\u001b[1;33m)\u001b[0m \u001b[1;33m/\u001b[0m \u001b[1;33m(\u001b[0m\u001b[0mtimestep\u001b[0m \u001b[1;33m*\u001b[0m \u001b[0mframe_skip\u001b[0m\u001b[1;33m)\u001b[0m\u001b[1;33m\u001b[0m\u001b[1;33m\u001b[0m\u001b[0m\n\u001b[1;32m---> 34\u001b[1;33m             \u001b[0meval_env\u001b[0m \u001b[1;33m=\u001b[0m \u001b[0mmake_env\u001b[0m\u001b[1;33m(\u001b[0m\u001b[0menv_name\u001b[0m\u001b[1;33m,\u001b[0m \u001b[0mseed\u001b[0m\u001b[1;33m,\u001b[0m \u001b[0mtime_change_factor\u001b[0m\u001b[1;33m,\u001b[0m \u001b[0mtimestep\u001b[0m\u001b[1;33m,\u001b[0m \u001b[0mframe_skip\u001b[0m\u001b[1;33m,\u001b[0m \u001b[1;32mFalse\u001b[0m\u001b[1;33m)\u001b[0m\u001b[1;33m\u001b[0m\u001b[1;33m\u001b[0m\u001b[0m\n\u001b[0m\u001b[0;32m     35\u001b[0m             \u001b[0meval_env\u001b[0m\u001b[1;33m.\u001b[0m\u001b[0m_max_episode_steps\u001b[0m \u001b[1;33m=\u001b[0m \u001b[1;36m100000\u001b[0m\u001b[1;33m\u001b[0m\u001b[1;33m\u001b[0m\u001b[0m\n\u001b[0;32m     36\u001b[0m             \u001b[0mstate_dim\u001b[0m \u001b[1;33m=\u001b[0m \u001b[0meval_env\u001b[0m\u001b[1;33m.\u001b[0m\u001b[0mobservation_space\u001b[0m\u001b[1;33m.\u001b[0m\u001b[0mshape\u001b[0m\u001b[1;33m[\u001b[0m\u001b[1;36m0\u001b[0m\u001b[1;33m]\u001b[0m\u001b[1;33m\u001b[0m\u001b[1;33m\u001b[0m\u001b[0m\n",
      "\u001b[1;32mE:\\Work\\TD3_zongyang\\cartpole_horizontal_force\\common.py\u001b[0m in \u001b[0;36mmake_env\u001b[1;34m(env_name, seed, time_change_factor, env_timestep, frameskip, delayed_env)\u001b[0m\n\u001b[0;32m      7\u001b[0m \u001b[1;31m# Make environment using its name\u001b[0m\u001b[1;33m\u001b[0m\u001b[1;33m\u001b[0m\u001b[1;33m\u001b[0m\u001b[0m\n\u001b[0;32m      8\u001b[0m \u001b[1;32mdef\u001b[0m \u001b[0mmake_env\u001b[0m\u001b[1;33m(\u001b[0m\u001b[0menv_name\u001b[0m\u001b[1;33m,\u001b[0m \u001b[0mseed\u001b[0m\u001b[1;33m,\u001b[0m \u001b[0mtime_change_factor\u001b[0m\u001b[1;33m,\u001b[0m \u001b[0menv_timestep\u001b[0m\u001b[1;33m,\u001b[0m \u001b[0mframeskip\u001b[0m\u001b[1;33m,\u001b[0m \u001b[0mdelayed_env\u001b[0m\u001b[1;33m)\u001b[0m\u001b[1;33m:\u001b[0m\u001b[1;33m\u001b[0m\u001b[1;33m\u001b[0m\u001b[0m\n\u001b[1;32m----> 9\u001b[1;33m     \u001b[0menv\u001b[0m \u001b[1;33m=\u001b[0m \u001b[0mgym\u001b[0m\u001b[1;33m.\u001b[0m\u001b[0mmake\u001b[0m\u001b[1;33m(\u001b[0m\u001b[0menv_name\u001b[0m\u001b[1;33m)\u001b[0m\u001b[1;33m\u001b[0m\u001b[1;33m\u001b[0m\u001b[0m\n\u001b[0m\u001b[0;32m     10\u001b[0m     \u001b[1;32mif\u001b[0m \u001b[0mdelayed_env\u001b[0m\u001b[1;33m:\u001b[0m\u001b[1;33m\u001b[0m\u001b[1;33m\u001b[0m\u001b[0m\n\u001b[0;32m     11\u001b[0m         \u001b[0menv\u001b[0m \u001b[1;33m=\u001b[0m \u001b[0mFloat64ToFloat32\u001b[0m\u001b[1;33m(\u001b[0m\u001b[0menv\u001b[0m\u001b[1;33m)\u001b[0m\u001b[1;33m\u001b[0m\u001b[1;33m\u001b[0m\u001b[0m\n",
      "\u001b[1;32mc:\\users\\devdh\\appdata\\local\\programs\\python\\python38\\lib\\site-packages\\gym\\envs\\registration.py\u001b[0m in \u001b[0;36mmake\u001b[1;34m(id, **kwargs)\u001b[0m\n\u001b[0;32m    233\u001b[0m \u001b[1;33m\u001b[0m\u001b[0m\n\u001b[0;32m    234\u001b[0m \u001b[1;32mdef\u001b[0m \u001b[0mmake\u001b[0m\u001b[1;33m(\u001b[0m\u001b[0mid\u001b[0m\u001b[1;33m,\u001b[0m \u001b[1;33m**\u001b[0m\u001b[0mkwargs\u001b[0m\u001b[1;33m)\u001b[0m\u001b[1;33m:\u001b[0m\u001b[1;33m\u001b[0m\u001b[1;33m\u001b[0m\u001b[0m\n\u001b[1;32m--> 235\u001b[1;33m     \u001b[1;32mreturn\u001b[0m \u001b[0mregistry\u001b[0m\u001b[1;33m.\u001b[0m\u001b[0mmake\u001b[0m\u001b[1;33m(\u001b[0m\u001b[0mid\u001b[0m\u001b[1;33m,\u001b[0m \u001b[1;33m**\u001b[0m\u001b[0mkwargs\u001b[0m\u001b[1;33m)\u001b[0m\u001b[1;33m\u001b[0m\u001b[1;33m\u001b[0m\u001b[0m\n\u001b[0m\u001b[0;32m    236\u001b[0m \u001b[1;33m\u001b[0m\u001b[0m\n\u001b[0;32m    237\u001b[0m \u001b[1;33m\u001b[0m\u001b[0m\n",
      "\u001b[1;32mc:\\users\\devdh\\appdata\\local\\programs\\python\\python38\\lib\\site-packages\\gym\\envs\\registration.py\u001b[0m in \u001b[0;36mmake\u001b[1;34m(self, path, **kwargs)\u001b[0m\n\u001b[0;32m    127\u001b[0m             \u001b[0mlogger\u001b[0m\u001b[1;33m.\u001b[0m\u001b[0minfo\u001b[0m\u001b[1;33m(\u001b[0m\u001b[1;34m\"Making new env: %s\"\u001b[0m\u001b[1;33m,\u001b[0m \u001b[0mpath\u001b[0m\u001b[1;33m)\u001b[0m\u001b[1;33m\u001b[0m\u001b[1;33m\u001b[0m\u001b[0m\n\u001b[0;32m    128\u001b[0m         \u001b[0mspec\u001b[0m \u001b[1;33m=\u001b[0m \u001b[0mself\u001b[0m\u001b[1;33m.\u001b[0m\u001b[0mspec\u001b[0m\u001b[1;33m(\u001b[0m\u001b[0mpath\u001b[0m\u001b[1;33m)\u001b[0m\u001b[1;33m\u001b[0m\u001b[1;33m\u001b[0m\u001b[0m\n\u001b[1;32m--> 129\u001b[1;33m         \u001b[0menv\u001b[0m \u001b[1;33m=\u001b[0m \u001b[0mspec\u001b[0m\u001b[1;33m.\u001b[0m\u001b[0mmake\u001b[0m\u001b[1;33m(\u001b[0m\u001b[1;33m**\u001b[0m\u001b[0mkwargs\u001b[0m\u001b[1;33m)\u001b[0m\u001b[1;33m\u001b[0m\u001b[1;33m\u001b[0m\u001b[0m\n\u001b[0m\u001b[0;32m    130\u001b[0m         \u001b[1;32mreturn\u001b[0m \u001b[0menv\u001b[0m\u001b[1;33m\u001b[0m\u001b[1;33m\u001b[0m\u001b[0m\n\u001b[0;32m    131\u001b[0m \u001b[1;33m\u001b[0m\u001b[0m\n",
      "\u001b[1;32mc:\\users\\devdh\\appdata\\local\\programs\\python\\python38\\lib\\site-packages\\gym\\envs\\registration.py\u001b[0m in \u001b[0;36mmake\u001b[1;34m(self, **kwargs)\u001b[0m\n\u001b[0;32m     87\u001b[0m             \u001b[0menv\u001b[0m \u001b[1;33m=\u001b[0m \u001b[0mself\u001b[0m\u001b[1;33m.\u001b[0m\u001b[0mentry_point\u001b[0m\u001b[1;33m(\u001b[0m\u001b[1;33m**\u001b[0m\u001b[0m_kwargs\u001b[0m\u001b[1;33m)\u001b[0m\u001b[1;33m\u001b[0m\u001b[1;33m\u001b[0m\u001b[0m\n\u001b[0;32m     88\u001b[0m         \u001b[1;32melse\u001b[0m\u001b[1;33m:\u001b[0m\u001b[1;33m\u001b[0m\u001b[1;33m\u001b[0m\u001b[0m\n\u001b[1;32m---> 89\u001b[1;33m             \u001b[0mcls\u001b[0m \u001b[1;33m=\u001b[0m \u001b[0mload\u001b[0m\u001b[1;33m(\u001b[0m\u001b[0mself\u001b[0m\u001b[1;33m.\u001b[0m\u001b[0mentry_point\u001b[0m\u001b[1;33m)\u001b[0m\u001b[1;33m\u001b[0m\u001b[1;33m\u001b[0m\u001b[0m\n\u001b[0m\u001b[0;32m     90\u001b[0m             \u001b[0menv\u001b[0m \u001b[1;33m=\u001b[0m \u001b[0mcls\u001b[0m\u001b[1;33m(\u001b[0m\u001b[1;33m**\u001b[0m\u001b[0m_kwargs\u001b[0m\u001b[1;33m)\u001b[0m\u001b[1;33m\u001b[0m\u001b[1;33m\u001b[0m\u001b[0m\n\u001b[0;32m     91\u001b[0m \u001b[1;33m\u001b[0m\u001b[0m\n",
      "\u001b[1;32mc:\\users\\devdh\\appdata\\local\\programs\\python\\python38\\lib\\site-packages\\gym\\envs\\registration.py\u001b[0m in \u001b[0;36mload\u001b[1;34m(name)\u001b[0m\n\u001b[0;32m     25\u001b[0m \u001b[1;32mdef\u001b[0m \u001b[0mload\u001b[0m\u001b[1;33m(\u001b[0m\u001b[0mname\u001b[0m\u001b[1;33m)\u001b[0m\u001b[1;33m:\u001b[0m\u001b[1;33m\u001b[0m\u001b[1;33m\u001b[0m\u001b[0m\n\u001b[0;32m     26\u001b[0m     \u001b[0mmod_name\u001b[0m\u001b[1;33m,\u001b[0m \u001b[0mattr_name\u001b[0m \u001b[1;33m=\u001b[0m \u001b[0mname\u001b[0m\u001b[1;33m.\u001b[0m\u001b[0msplit\u001b[0m\u001b[1;33m(\u001b[0m\u001b[1;34m\":\"\u001b[0m\u001b[1;33m)\u001b[0m\u001b[1;33m\u001b[0m\u001b[1;33m\u001b[0m\u001b[0m\n\u001b[1;32m---> 27\u001b[1;33m     \u001b[0mmod\u001b[0m \u001b[1;33m=\u001b[0m \u001b[0mimportlib\u001b[0m\u001b[1;33m.\u001b[0m\u001b[0mimport_module\u001b[0m\u001b[1;33m(\u001b[0m\u001b[0mmod_name\u001b[0m\u001b[1;33m)\u001b[0m\u001b[1;33m\u001b[0m\u001b[1;33m\u001b[0m\u001b[0m\n\u001b[0m\u001b[0;32m     28\u001b[0m     \u001b[0mfn\u001b[0m \u001b[1;33m=\u001b[0m \u001b[0mgetattr\u001b[0m\u001b[1;33m(\u001b[0m\u001b[0mmod\u001b[0m\u001b[1;33m,\u001b[0m \u001b[0mattr_name\u001b[0m\u001b[1;33m)\u001b[0m\u001b[1;33m\u001b[0m\u001b[1;33m\u001b[0m\u001b[0m\n\u001b[0;32m     29\u001b[0m     \u001b[1;32mreturn\u001b[0m \u001b[0mfn\u001b[0m\u001b[1;33m\u001b[0m\u001b[1;33m\u001b[0m\u001b[0m\n",
      "\u001b[1;32mc:\\users\\devdh\\appdata\\local\\programs\\python\\python38\\lib\\importlib\\__init__.py\u001b[0m in \u001b[0;36mimport_module\u001b[1;34m(name, package)\u001b[0m\n\u001b[0;32m    125\u001b[0m                 \u001b[1;32mbreak\u001b[0m\u001b[1;33m\u001b[0m\u001b[1;33m\u001b[0m\u001b[0m\n\u001b[0;32m    126\u001b[0m             \u001b[0mlevel\u001b[0m \u001b[1;33m+=\u001b[0m \u001b[1;36m1\u001b[0m\u001b[1;33m\u001b[0m\u001b[1;33m\u001b[0m\u001b[0m\n\u001b[1;32m--> 127\u001b[1;33m     \u001b[1;32mreturn\u001b[0m \u001b[0m_bootstrap\u001b[0m\u001b[1;33m.\u001b[0m\u001b[0m_gcd_import\u001b[0m\u001b[1;33m(\u001b[0m\u001b[0mname\u001b[0m\u001b[1;33m[\u001b[0m\u001b[0mlevel\u001b[0m\u001b[1;33m:\u001b[0m\u001b[1;33m]\u001b[0m\u001b[1;33m,\u001b[0m \u001b[0mpackage\u001b[0m\u001b[1;33m,\u001b[0m \u001b[0mlevel\u001b[0m\u001b[1;33m)\u001b[0m\u001b[1;33m\u001b[0m\u001b[1;33m\u001b[0m\u001b[0m\n\u001b[0m\u001b[0;32m    128\u001b[0m \u001b[1;33m\u001b[0m\u001b[0m\n\u001b[0;32m    129\u001b[0m \u001b[1;33m\u001b[0m\u001b[0m\n",
      "\u001b[1;32mc:\\users\\devdh\\appdata\\local\\programs\\python\\python38\\lib\\importlib\\_bootstrap.py\u001b[0m in \u001b[0;36m_gcd_import\u001b[1;34m(name, package, level)\u001b[0m\n",
      "\u001b[1;32mc:\\users\\devdh\\appdata\\local\\programs\\python\\python38\\lib\\importlib\\_bootstrap.py\u001b[0m in \u001b[0;36m_find_and_load\u001b[1;34m(name, import_)\u001b[0m\n",
      "\u001b[1;32mc:\\users\\devdh\\appdata\\local\\programs\\python\\python38\\lib\\importlib\\_bootstrap.py\u001b[0m in \u001b[0;36m_find_and_load_unlocked\u001b[1;34m(name, import_)\u001b[0m\n",
      "\u001b[1;32mc:\\users\\devdh\\appdata\\local\\programs\\python\\python38\\lib\\importlib\\_bootstrap.py\u001b[0m in \u001b[0;36m_load_unlocked\u001b[1;34m(spec)\u001b[0m\n",
      "\u001b[1;32mc:\\users\\devdh\\appdata\\local\\programs\\python\\python38\\lib\\importlib\\_bootstrap_external.py\u001b[0m in \u001b[0;36mexec_module\u001b[1;34m(self, module)\u001b[0m\n",
      "\u001b[1;32mc:\\users\\devdh\\appdata\\local\\programs\\python\\python38\\lib\\importlib\\_bootstrap.py\u001b[0m in \u001b[0;36m_call_with_frames_removed\u001b[1;34m(f, *args, **kwds)\u001b[0m\n",
      "\u001b[1;32mc:\\users\\devdh\\appdata\\local\\programs\\python\\python38\\lib\\site-packages\\gym\\envs\\mujoco\\__init__.py\u001b[0m in \u001b[0;36m<module>\u001b[1;34m\u001b[0m\n\u001b[1;32m----> 1\u001b[1;33m \u001b[1;32mfrom\u001b[0m \u001b[0mgym\u001b[0m\u001b[1;33m.\u001b[0m\u001b[0menvs\u001b[0m\u001b[1;33m.\u001b[0m\u001b[0mmujoco\u001b[0m\u001b[1;33m.\u001b[0m\u001b[0mmujoco_env\u001b[0m \u001b[1;32mimport\u001b[0m \u001b[0mMujocoEnv\u001b[0m\u001b[1;33m\u001b[0m\u001b[1;33m\u001b[0m\u001b[0m\n\u001b[0m\u001b[0;32m      2\u001b[0m \u001b[1;33m\u001b[0m\u001b[0m\n\u001b[0;32m      3\u001b[0m \u001b[1;31m# ^^^^^ so that user gets the correct error\u001b[0m\u001b[1;33m\u001b[0m\u001b[1;33m\u001b[0m\u001b[1;33m\u001b[0m\u001b[0m\n\u001b[0;32m      4\u001b[0m \u001b[1;31m# message if mujoco is not installed correctly\u001b[0m\u001b[1;33m\u001b[0m\u001b[1;33m\u001b[0m\u001b[1;33m\u001b[0m\u001b[0m\n\u001b[0;32m      5\u001b[0m \u001b[1;32mfrom\u001b[0m \u001b[0mgym\u001b[0m\u001b[1;33m.\u001b[0m\u001b[0menvs\u001b[0m\u001b[1;33m.\u001b[0m\u001b[0mmujoco\u001b[0m\u001b[1;33m.\u001b[0m\u001b[0mant\u001b[0m \u001b[1;32mimport\u001b[0m \u001b[0mAntEnv\u001b[0m\u001b[1;33m\u001b[0m\u001b[1;33m\u001b[0m\u001b[0m\n",
      "\u001b[1;32mc:\\users\\devdh\\appdata\\local\\programs\\python\\python38\\lib\\site-packages\\gym\\envs\\mujoco\\mujoco_env.py\u001b[0m in \u001b[0;36m<module>\u001b[1;34m\u001b[0m\n\u001b[0;32m     10\u001b[0m \u001b[1;33m\u001b[0m\u001b[0m\n\u001b[0;32m     11\u001b[0m \u001b[1;32mtry\u001b[0m\u001b[1;33m:\u001b[0m\u001b[1;33m\u001b[0m\u001b[1;33m\u001b[0m\u001b[0m\n\u001b[1;32m---> 12\u001b[1;33m     \u001b[1;32mimport\u001b[0m \u001b[0mmujoco_py\u001b[0m\u001b[1;33m\u001b[0m\u001b[1;33m\u001b[0m\u001b[0m\n\u001b[0m\u001b[0;32m     13\u001b[0m \u001b[1;32mexcept\u001b[0m \u001b[0mImportError\u001b[0m \u001b[1;32mas\u001b[0m \u001b[0me\u001b[0m\u001b[1;33m:\u001b[0m\u001b[1;33m\u001b[0m\u001b[1;33m\u001b[0m\u001b[0m\n\u001b[0;32m     14\u001b[0m     raise error.DependencyNotInstalled(\n",
      "\u001b[1;32mc:\\users\\devdh\\appdata\\local\\programs\\python\\python38\\lib\\site-packages\\mujoco_py\\__init__.py\u001b[0m in \u001b[0;36m<module>\u001b[1;34m\u001b[0m\n\u001b[0;32m      1\u001b[0m \u001b[1;31m#!/usr/bin/env python\u001b[0m\u001b[1;33m\u001b[0m\u001b[1;33m\u001b[0m\u001b[1;33m\u001b[0m\u001b[0m\n\u001b[1;32m----> 2\u001b[1;33m \u001b[1;32mfrom\u001b[0m \u001b[0mmujoco_py\u001b[0m\u001b[1;33m.\u001b[0m\u001b[0mbuilder\u001b[0m \u001b[1;32mimport\u001b[0m \u001b[0mcymj\u001b[0m\u001b[1;33m,\u001b[0m \u001b[0mignore_mujoco_warnings\u001b[0m\u001b[1;33m,\u001b[0m \u001b[0mfunctions\u001b[0m\u001b[1;33m,\u001b[0m \u001b[0mMujocoException\u001b[0m\u001b[1;33m\u001b[0m\u001b[1;33m\u001b[0m\u001b[0m\n\u001b[0m\u001b[0;32m      3\u001b[0m \u001b[1;32mfrom\u001b[0m \u001b[0mmujoco_py\u001b[0m\u001b[1;33m.\u001b[0m\u001b[0mgenerated\u001b[0m \u001b[1;32mimport\u001b[0m \u001b[0mconst\u001b[0m\u001b[1;33m\u001b[0m\u001b[1;33m\u001b[0m\u001b[0m\n\u001b[0;32m      4\u001b[0m \u001b[1;32mfrom\u001b[0m \u001b[0mmujoco_py\u001b[0m\u001b[1;33m.\u001b[0m\u001b[0mmjrenderpool\u001b[0m \u001b[1;32mimport\u001b[0m \u001b[0mMjRenderPool\u001b[0m\u001b[1;33m\u001b[0m\u001b[1;33m\u001b[0m\u001b[0m\n\u001b[0;32m      5\u001b[0m \u001b[1;32mfrom\u001b[0m \u001b[0mmujoco_py\u001b[0m\u001b[1;33m.\u001b[0m\u001b[0mmjviewer\u001b[0m \u001b[1;32mimport\u001b[0m \u001b[0mMjViewer\u001b[0m\u001b[1;33m,\u001b[0m \u001b[0mMjViewerBasic\u001b[0m\u001b[1;33m\u001b[0m\u001b[1;33m\u001b[0m\u001b[0m\n",
      "\u001b[1;32mc:\\users\\devdh\\appdata\\local\\programs\\python\\python38\\lib\\site-packages\\mujoco_py\\builder.py\u001b[0m in \u001b[0;36m<module>\u001b[1;34m\u001b[0m\n\u001b[0;32m    502\u001b[0m \u001b[1;33m\u001b[0m\u001b[0m\n\u001b[0;32m    503\u001b[0m \u001b[0mmujoco_path\u001b[0m \u001b[1;33m=\u001b[0m \u001b[0mdiscover_mujoco\u001b[0m\u001b[1;33m(\u001b[0m\u001b[1;33m)\u001b[0m\u001b[1;33m\u001b[0m\u001b[1;33m\u001b[0m\u001b[0m\n\u001b[1;32m--> 504\u001b[1;33m \u001b[0mcymj\u001b[0m \u001b[1;33m=\u001b[0m \u001b[0mload_cython_ext\u001b[0m\u001b[1;33m(\u001b[0m\u001b[0mmujoco_path\u001b[0m\u001b[1;33m)\u001b[0m\u001b[1;33m\u001b[0m\u001b[1;33m\u001b[0m\u001b[0m\n\u001b[0m\u001b[0;32m    505\u001b[0m \u001b[1;33m\u001b[0m\u001b[0m\n\u001b[0;32m    506\u001b[0m \u001b[1;33m\u001b[0m\u001b[0m\n",
      "\u001b[1;32mc:\\users\\devdh\\appdata\\local\\programs\\python\\python38\\lib\\site-packages\\mujoco_py\\builder.py\u001b[0m in \u001b[0;36mload_cython_ext\u001b[1;34m(mujoco_path)\u001b[0m\n\u001b[0;32m    108\u001b[0m                 \u001b[0mprint\u001b[0m\u001b[1;33m(\u001b[0m\u001b[1;34m\"Import error. Trying to rebuild mujoco_py.\"\u001b[0m\u001b[1;33m)\u001b[0m\u001b[1;33m\u001b[0m\u001b[1;33m\u001b[0m\u001b[0m\n\u001b[0;32m    109\u001b[0m         \u001b[1;32mif\u001b[0m \u001b[0mmod\u001b[0m \u001b[1;32mis\u001b[0m \u001b[1;32mNone\u001b[0m\u001b[1;33m:\u001b[0m\u001b[1;33m\u001b[0m\u001b[1;33m\u001b[0m\u001b[0m\n\u001b[1;32m--> 110\u001b[1;33m             \u001b[0mcext_so_path\u001b[0m \u001b[1;33m=\u001b[0m \u001b[0mbuilder\u001b[0m\u001b[1;33m.\u001b[0m\u001b[0mbuild\u001b[0m\u001b[1;33m(\u001b[0m\u001b[1;33m)\u001b[0m\u001b[1;33m\u001b[0m\u001b[1;33m\u001b[0m\u001b[0m\n\u001b[0m\u001b[0;32m    111\u001b[0m             \u001b[0mmod\u001b[0m \u001b[1;33m=\u001b[0m \u001b[0mload_dynamic_ext\u001b[0m\u001b[1;33m(\u001b[0m\u001b[1;34m'cymj'\u001b[0m\u001b[1;33m,\u001b[0m \u001b[0mcext_so_path\u001b[0m\u001b[1;33m)\u001b[0m\u001b[1;33m\u001b[0m\u001b[1;33m\u001b[0m\u001b[0m\n\u001b[0;32m    112\u001b[0m \u001b[1;33m\u001b[0m\u001b[0m\n",
      "\u001b[1;32mc:\\users\\devdh\\appdata\\local\\programs\\python\\python38\\lib\\site-packages\\mujoco_py\\builder.py\u001b[0m in \u001b[0;36mbuild\u001b[1;34m(self)\u001b[0m\n\u001b[0;32m    224\u001b[0m \u001b[1;33m\u001b[0m\u001b[0m\n\u001b[0;32m    225\u001b[0m     \u001b[1;32mdef\u001b[0m \u001b[0mbuild\u001b[0m\u001b[1;33m(\u001b[0m\u001b[0mself\u001b[0m\u001b[1;33m)\u001b[0m\u001b[1;33m:\u001b[0m\u001b[1;33m\u001b[0m\u001b[1;33m\u001b[0m\u001b[0m\n\u001b[1;32m--> 226\u001b[1;33m         \u001b[0mbuilt_so_file_path\u001b[0m \u001b[1;33m=\u001b[0m \u001b[0mself\u001b[0m\u001b[1;33m.\u001b[0m\u001b[0m_build_impl\u001b[0m\u001b[1;33m(\u001b[0m\u001b[1;33m)\u001b[0m\u001b[1;33m\u001b[0m\u001b[1;33m\u001b[0m\u001b[0m\n\u001b[0m\u001b[0;32m    227\u001b[0m         \u001b[0mnew_so_file_path\u001b[0m \u001b[1;33m=\u001b[0m \u001b[0mself\u001b[0m\u001b[1;33m.\u001b[0m\u001b[0mget_so_file_path\u001b[0m\u001b[1;33m(\u001b[0m\u001b[1;33m)\u001b[0m\u001b[1;33m\u001b[0m\u001b[1;33m\u001b[0m\u001b[0m\n\u001b[0;32m    228\u001b[0m         \u001b[0mmove\u001b[0m\u001b[1;33m(\u001b[0m\u001b[0mbuilt_so_file_path\u001b[0m\u001b[1;33m,\u001b[0m \u001b[0mnew_so_file_path\u001b[0m\u001b[1;33m)\u001b[0m\u001b[1;33m\u001b[0m\u001b[1;33m\u001b[0m\u001b[0m\n",
      "\u001b[1;32mc:\\users\\devdh\\appdata\\local\\programs\\python\\python38\\lib\\site-packages\\mujoco_py\\builder.py\u001b[0m in \u001b[0;36m_build_impl\u001b[1;34m(self)\u001b[0m\n\u001b[0;32m    247\u001b[0m         \u001b[0mdist\u001b[0m\u001b[1;33m.\u001b[0m\u001b[0mparse_command_line\u001b[0m\u001b[1;33m(\u001b[0m\u001b[1;33m)\u001b[0m\u001b[1;33m\u001b[0m\u001b[1;33m\u001b[0m\u001b[0m\n\u001b[0;32m    248\u001b[0m         \u001b[0mobj_build_ext\u001b[0m \u001b[1;33m=\u001b[0m \u001b[0mdist\u001b[0m\u001b[1;33m.\u001b[0m\u001b[0mget_command_obj\u001b[0m\u001b[1;33m(\u001b[0m\u001b[1;34m\"build_ext\"\u001b[0m\u001b[1;33m)\u001b[0m\u001b[1;33m\u001b[0m\u001b[1;33m\u001b[0m\u001b[0m\n\u001b[1;32m--> 249\u001b[1;33m         \u001b[0mdist\u001b[0m\u001b[1;33m.\u001b[0m\u001b[0mrun_commands\u001b[0m\u001b[1;33m(\u001b[0m\u001b[1;33m)\u001b[0m\u001b[1;33m\u001b[0m\u001b[1;33m\u001b[0m\u001b[0m\n\u001b[0m\u001b[0;32m    250\u001b[0m         \u001b[0mbuilt_so_file_path\u001b[0m\u001b[1;33m,\u001b[0m \u001b[1;33m=\u001b[0m \u001b[0mobj_build_ext\u001b[0m\u001b[1;33m.\u001b[0m\u001b[0mget_outputs\u001b[0m\u001b[1;33m(\u001b[0m\u001b[1;33m)\u001b[0m\u001b[1;33m\u001b[0m\u001b[1;33m\u001b[0m\u001b[0m\n\u001b[0;32m    251\u001b[0m         \u001b[1;32mreturn\u001b[0m \u001b[0mbuilt_so_file_path\u001b[0m\u001b[1;33m\u001b[0m\u001b[1;33m\u001b[0m\u001b[0m\n",
      "\u001b[1;32mc:\\users\\devdh\\appdata\\local\\programs\\python\\python38\\lib\\distutils\\dist.py\u001b[0m in \u001b[0;36mrun_commands\u001b[1;34m(self)\u001b[0m\n\u001b[0;32m    964\u001b[0m         \"\"\"\n\u001b[0;32m    965\u001b[0m         \u001b[1;32mfor\u001b[0m \u001b[0mcmd\u001b[0m \u001b[1;32min\u001b[0m \u001b[0mself\u001b[0m\u001b[1;33m.\u001b[0m\u001b[0mcommands\u001b[0m\u001b[1;33m:\u001b[0m\u001b[1;33m\u001b[0m\u001b[1;33m\u001b[0m\u001b[0m\n\u001b[1;32m--> 966\u001b[1;33m             \u001b[0mself\u001b[0m\u001b[1;33m.\u001b[0m\u001b[0mrun_command\u001b[0m\u001b[1;33m(\u001b[0m\u001b[0mcmd\u001b[0m\u001b[1;33m)\u001b[0m\u001b[1;33m\u001b[0m\u001b[1;33m\u001b[0m\u001b[0m\n\u001b[0m\u001b[0;32m    967\u001b[0m \u001b[1;33m\u001b[0m\u001b[0m\n\u001b[0;32m    968\u001b[0m     \u001b[1;31m# -- Methods that operate on its Commands --------------------------\u001b[0m\u001b[1;33m\u001b[0m\u001b[1;33m\u001b[0m\u001b[1;33m\u001b[0m\u001b[0m\n",
      "\u001b[1;32mc:\\users\\devdh\\appdata\\local\\programs\\python\\python38\\lib\\distutils\\dist.py\u001b[0m in \u001b[0;36mrun_command\u001b[1;34m(self, command)\u001b[0m\n\u001b[0;32m    983\u001b[0m         \u001b[0mcmd_obj\u001b[0m \u001b[1;33m=\u001b[0m \u001b[0mself\u001b[0m\u001b[1;33m.\u001b[0m\u001b[0mget_command_obj\u001b[0m\u001b[1;33m(\u001b[0m\u001b[0mcommand\u001b[0m\u001b[1;33m)\u001b[0m\u001b[1;33m\u001b[0m\u001b[1;33m\u001b[0m\u001b[0m\n\u001b[0;32m    984\u001b[0m         \u001b[0mcmd_obj\u001b[0m\u001b[1;33m.\u001b[0m\u001b[0mensure_finalized\u001b[0m\u001b[1;33m(\u001b[0m\u001b[1;33m)\u001b[0m\u001b[1;33m\u001b[0m\u001b[1;33m\u001b[0m\u001b[0m\n\u001b[1;32m--> 985\u001b[1;33m         \u001b[0mcmd_obj\u001b[0m\u001b[1;33m.\u001b[0m\u001b[0mrun\u001b[0m\u001b[1;33m(\u001b[0m\u001b[1;33m)\u001b[0m\u001b[1;33m\u001b[0m\u001b[1;33m\u001b[0m\u001b[0m\n\u001b[0m\u001b[0;32m    986\u001b[0m         \u001b[0mself\u001b[0m\u001b[1;33m.\u001b[0m\u001b[0mhave_run\u001b[0m\u001b[1;33m[\u001b[0m\u001b[0mcommand\u001b[0m\u001b[1;33m]\u001b[0m \u001b[1;33m=\u001b[0m \u001b[1;36m1\u001b[0m\u001b[1;33m\u001b[0m\u001b[1;33m\u001b[0m\u001b[0m\n\u001b[0;32m    987\u001b[0m \u001b[1;33m\u001b[0m\u001b[0m\n",
      "\u001b[1;32mc:\\users\\devdh\\appdata\\local\\programs\\python\\python38\\lib\\site-packages\\Cython\\Distutils\\old_build_ext.py\u001b[0m in \u001b[0;36mrun\u001b[1;34m(self)\u001b[0m\n\u001b[0;32m    184\u001b[0m             \u001b[0moptimization\u001b[0m\u001b[1;33m.\u001b[0m\u001b[0mdisable_optimization\u001b[0m\u001b[1;33m(\u001b[0m\u001b[1;33m)\u001b[0m\u001b[1;33m\u001b[0m\u001b[1;33m\u001b[0m\u001b[0m\n\u001b[0;32m    185\u001b[0m \u001b[1;33m\u001b[0m\u001b[0m\n\u001b[1;32m--> 186\u001b[1;33m         \u001b[0m_build_ext\u001b[0m\u001b[1;33m.\u001b[0m\u001b[0mbuild_ext\u001b[0m\u001b[1;33m.\u001b[0m\u001b[0mrun\u001b[0m\u001b[1;33m(\u001b[0m\u001b[0mself\u001b[0m\u001b[1;33m)\u001b[0m\u001b[1;33m\u001b[0m\u001b[1;33m\u001b[0m\u001b[0m\n\u001b[0m\u001b[0;32m    187\u001b[0m \u001b[1;33m\u001b[0m\u001b[0m\n\u001b[0;32m    188\u001b[0m     \u001b[1;32mdef\u001b[0m \u001b[0mbuild_extensions\u001b[0m\u001b[1;33m(\u001b[0m\u001b[0mself\u001b[0m\u001b[1;33m)\u001b[0m\u001b[1;33m:\u001b[0m\u001b[1;33m\u001b[0m\u001b[1;33m\u001b[0m\u001b[0m\n",
      "\u001b[1;32mc:\\users\\devdh\\appdata\\local\\programs\\python\\python38\\lib\\distutils\\command\\build_ext.py\u001b[0m in \u001b[0;36mrun\u001b[1;34m(self)\u001b[0m\n\u001b[0;32m    338\u001b[0m \u001b[1;33m\u001b[0m\u001b[0m\n\u001b[0;32m    339\u001b[0m         \u001b[1;31m# Now actually compile and link everything.\u001b[0m\u001b[1;33m\u001b[0m\u001b[1;33m\u001b[0m\u001b[1;33m\u001b[0m\u001b[0m\n\u001b[1;32m--> 340\u001b[1;33m         \u001b[0mself\u001b[0m\u001b[1;33m.\u001b[0m\u001b[0mbuild_extensions\u001b[0m\u001b[1;33m(\u001b[0m\u001b[1;33m)\u001b[0m\u001b[1;33m\u001b[0m\u001b[1;33m\u001b[0m\u001b[0m\n\u001b[0m\u001b[0;32m    341\u001b[0m \u001b[1;33m\u001b[0m\u001b[0m\n\u001b[0;32m    342\u001b[0m     \u001b[1;32mdef\u001b[0m \u001b[0mcheck_extensions_list\u001b[0m\u001b[1;33m(\u001b[0m\u001b[0mself\u001b[0m\u001b[1;33m,\u001b[0m \u001b[0mextensions\u001b[0m\u001b[1;33m)\u001b[0m\u001b[1;33m:\u001b[0m\u001b[1;33m\u001b[0m\u001b[1;33m\u001b[0m\u001b[0m\n",
      "\u001b[1;32mc:\\users\\devdh\\appdata\\local\\programs\\python\\python38\\lib\\site-packages\\mujoco_py\\builder.py\u001b[0m in \u001b[0;36mbuild_extensions\u001b[1;34m(self)\u001b[0m\n\u001b[0;32m    147\u001b[0m         \u001b[1;32mexcept\u001b[0m \u001b[1;33m(\u001b[0m\u001b[0mAttributeError\u001b[0m\u001b[1;33m,\u001b[0m \u001b[0mValueError\u001b[0m\u001b[1;33m)\u001b[0m\u001b[1;33m:\u001b[0m\u001b[1;33m\u001b[0m\u001b[1;33m\u001b[0m\u001b[0m\n\u001b[0;32m    148\u001b[0m             \u001b[1;32mpass\u001b[0m\u001b[1;33m\u001b[0m\u001b[1;33m\u001b[0m\u001b[0m\n\u001b[1;32m--> 149\u001b[1;33m         \u001b[0mbuild_ext\u001b[0m\u001b[1;33m.\u001b[0m\u001b[0mbuild_extensions\u001b[0m\u001b[1;33m(\u001b[0m\u001b[0mself\u001b[0m\u001b[1;33m)\u001b[0m\u001b[1;33m\u001b[0m\u001b[1;33m\u001b[0m\u001b[0m\n\u001b[0m\u001b[0;32m    150\u001b[0m \u001b[1;33m\u001b[0m\u001b[0m\n\u001b[0;32m    151\u001b[0m \u001b[1;33m\u001b[0m\u001b[0m\n",
      "\u001b[1;32mc:\\users\\devdh\\appdata\\local\\programs\\python\\python38\\lib\\site-packages\\Cython\\Distutils\\old_build_ext.py\u001b[0m in \u001b[0;36mbuild_extensions\u001b[1;34m(self)\u001b[0m\n\u001b[0;32m    193\u001b[0m             \u001b[0mext\u001b[0m\u001b[1;33m.\u001b[0m\u001b[0msources\u001b[0m \u001b[1;33m=\u001b[0m \u001b[0mself\u001b[0m\u001b[1;33m.\u001b[0m\u001b[0mcython_sources\u001b[0m\u001b[1;33m(\u001b[0m\u001b[0mext\u001b[0m\u001b[1;33m.\u001b[0m\u001b[0msources\u001b[0m\u001b[1;33m,\u001b[0m \u001b[0mext\u001b[0m\u001b[1;33m)\u001b[0m\u001b[1;33m\u001b[0m\u001b[1;33m\u001b[0m\u001b[0m\n\u001b[0;32m    194\u001b[0m         \u001b[1;31m# Call original build_extensions\u001b[0m\u001b[1;33m\u001b[0m\u001b[1;33m\u001b[0m\u001b[1;33m\u001b[0m\u001b[0m\n\u001b[1;32m--> 195\u001b[1;33m         \u001b[0m_build_ext\u001b[0m\u001b[1;33m.\u001b[0m\u001b[0mbuild_ext\u001b[0m\u001b[1;33m.\u001b[0m\u001b[0mbuild_extensions\u001b[0m\u001b[1;33m(\u001b[0m\u001b[0mself\u001b[0m\u001b[1;33m)\u001b[0m\u001b[1;33m\u001b[0m\u001b[1;33m\u001b[0m\u001b[0m\n\u001b[0m\u001b[0;32m    196\u001b[0m \u001b[1;33m\u001b[0m\u001b[0m\n\u001b[0;32m    197\u001b[0m     \u001b[1;32mdef\u001b[0m \u001b[0mcython_sources\u001b[0m\u001b[1;33m(\u001b[0m\u001b[0mself\u001b[0m\u001b[1;33m,\u001b[0m \u001b[0msources\u001b[0m\u001b[1;33m,\u001b[0m \u001b[0mextension\u001b[0m\u001b[1;33m)\u001b[0m\u001b[1;33m:\u001b[0m\u001b[1;33m\u001b[0m\u001b[1;33m\u001b[0m\u001b[0m\n",
      "\u001b[1;32mc:\\users\\devdh\\appdata\\local\\programs\\python\\python38\\lib\\distutils\\command\\build_ext.py\u001b[0m in \u001b[0;36mbuild_extensions\u001b[1;34m(self)\u001b[0m\n\u001b[0;32m    447\u001b[0m             \u001b[0mself\u001b[0m\u001b[1;33m.\u001b[0m\u001b[0m_build_extensions_parallel\u001b[0m\u001b[1;33m(\u001b[0m\u001b[1;33m)\u001b[0m\u001b[1;33m\u001b[0m\u001b[1;33m\u001b[0m\u001b[0m\n\u001b[0;32m    448\u001b[0m         \u001b[1;32melse\u001b[0m\u001b[1;33m:\u001b[0m\u001b[1;33m\u001b[0m\u001b[1;33m\u001b[0m\u001b[0m\n\u001b[1;32m--> 449\u001b[1;33m             \u001b[0mself\u001b[0m\u001b[1;33m.\u001b[0m\u001b[0m_build_extensions_serial\u001b[0m\u001b[1;33m(\u001b[0m\u001b[1;33m)\u001b[0m\u001b[1;33m\u001b[0m\u001b[1;33m\u001b[0m\u001b[0m\n\u001b[0m\u001b[0;32m    450\u001b[0m \u001b[1;33m\u001b[0m\u001b[0m\n\u001b[0;32m    451\u001b[0m     \u001b[1;32mdef\u001b[0m \u001b[0m_build_extensions_parallel\u001b[0m\u001b[1;33m(\u001b[0m\u001b[0mself\u001b[0m\u001b[1;33m)\u001b[0m\u001b[1;33m:\u001b[0m\u001b[1;33m\u001b[0m\u001b[1;33m\u001b[0m\u001b[0m\n",
      "\u001b[1;32mc:\\users\\devdh\\appdata\\local\\programs\\python\\python38\\lib\\distutils\\command\\build_ext.py\u001b[0m in \u001b[0;36m_build_extensions_serial\u001b[1;34m(self)\u001b[0m\n\u001b[0;32m    472\u001b[0m         \u001b[1;32mfor\u001b[0m \u001b[0mext\u001b[0m \u001b[1;32min\u001b[0m \u001b[0mself\u001b[0m\u001b[1;33m.\u001b[0m\u001b[0mextensions\u001b[0m\u001b[1;33m:\u001b[0m\u001b[1;33m\u001b[0m\u001b[1;33m\u001b[0m\u001b[0m\n\u001b[0;32m    473\u001b[0m             \u001b[1;32mwith\u001b[0m \u001b[0mself\u001b[0m\u001b[1;33m.\u001b[0m\u001b[0m_filter_build_errors\u001b[0m\u001b[1;33m(\u001b[0m\u001b[0mext\u001b[0m\u001b[1;33m)\u001b[0m\u001b[1;33m:\u001b[0m\u001b[1;33m\u001b[0m\u001b[1;33m\u001b[0m\u001b[0m\n\u001b[1;32m--> 474\u001b[1;33m                 \u001b[0mself\u001b[0m\u001b[1;33m.\u001b[0m\u001b[0mbuild_extension\u001b[0m\u001b[1;33m(\u001b[0m\u001b[0mext\u001b[0m\u001b[1;33m)\u001b[0m\u001b[1;33m\u001b[0m\u001b[1;33m\u001b[0m\u001b[0m\n\u001b[0m\u001b[0;32m    475\u001b[0m \u001b[1;33m\u001b[0m\u001b[0m\n\u001b[0;32m    476\u001b[0m     \u001b[1;33m@\u001b[0m\u001b[0mcontextlib\u001b[0m\u001b[1;33m.\u001b[0m\u001b[0mcontextmanager\u001b[0m\u001b[1;33m\u001b[0m\u001b[1;33m\u001b[0m\u001b[0m\n",
      "\u001b[1;32mc:\\users\\devdh\\appdata\\local\\programs\\python\\python38\\lib\\distutils\\command\\build_ext.py\u001b[0m in \u001b[0;36mbuild_extension\u001b[1;34m(self, ext)\u001b[0m\n\u001b[0;32m    548\u001b[0m         \u001b[0mlanguage\u001b[0m \u001b[1;33m=\u001b[0m \u001b[0mext\u001b[0m\u001b[1;33m.\u001b[0m\u001b[0mlanguage\u001b[0m \u001b[1;32mor\u001b[0m \u001b[0mself\u001b[0m\u001b[1;33m.\u001b[0m\u001b[0mcompiler\u001b[0m\u001b[1;33m.\u001b[0m\u001b[0mdetect_language\u001b[0m\u001b[1;33m(\u001b[0m\u001b[0msources\u001b[0m\u001b[1;33m)\u001b[0m\u001b[1;33m\u001b[0m\u001b[1;33m\u001b[0m\u001b[0m\n\u001b[0;32m    549\u001b[0m \u001b[1;33m\u001b[0m\u001b[0m\n\u001b[1;32m--> 550\u001b[1;33m         self.compiler.link_shared_object(\n\u001b[0m\u001b[0;32m    551\u001b[0m             \u001b[0mobjects\u001b[0m\u001b[1;33m,\u001b[0m \u001b[0mext_path\u001b[0m\u001b[1;33m,\u001b[0m\u001b[1;33m\u001b[0m\u001b[1;33m\u001b[0m\u001b[0m\n\u001b[0;32m    552\u001b[0m             \u001b[0mlibraries\u001b[0m\u001b[1;33m=\u001b[0m\u001b[0mself\u001b[0m\u001b[1;33m.\u001b[0m\u001b[0mget_libraries\u001b[0m\u001b[1;33m(\u001b[0m\u001b[0mext\u001b[0m\u001b[1;33m)\u001b[0m\u001b[1;33m,\u001b[0m\u001b[1;33m\u001b[0m\u001b[1;33m\u001b[0m\u001b[0m\n",
      "\u001b[1;32mc:\\users\\devdh\\appdata\\local\\programs\\python\\python38\\lib\\distutils\\ccompiler.py\u001b[0m in \u001b[0;36mlink_shared_object\u001b[1;34m(self, objects, output_filename, output_dir, libraries, library_dirs, runtime_library_dirs, export_symbols, debug, extra_preargs, extra_postargs, build_temp, target_lang)\u001b[0m\n\u001b[0;32m    711\u001b[0m                            \u001b[0mbuild_temp\u001b[0m\u001b[1;33m=\u001b[0m\u001b[1;32mNone\u001b[0m\u001b[1;33m,\u001b[0m\u001b[1;33m\u001b[0m\u001b[1;33m\u001b[0m\u001b[0m\n\u001b[0;32m    712\u001b[0m                            target_lang=None):\n\u001b[1;32m--> 713\u001b[1;33m         self.link(CCompiler.SHARED_OBJECT, objects,\n\u001b[0m\u001b[0;32m    714\u001b[0m                   \u001b[0moutput_filename\u001b[0m\u001b[1;33m,\u001b[0m \u001b[0moutput_dir\u001b[0m\u001b[1;33m,\u001b[0m\u001b[1;33m\u001b[0m\u001b[1;33m\u001b[0m\u001b[0m\n\u001b[0;32m    715\u001b[0m                   \u001b[0mlibraries\u001b[0m\u001b[1;33m,\u001b[0m \u001b[0mlibrary_dirs\u001b[0m\u001b[1;33m,\u001b[0m \u001b[0mruntime_library_dirs\u001b[0m\u001b[1;33m,\u001b[0m\u001b[1;33m\u001b[0m\u001b[1;33m\u001b[0m\u001b[0m\n",
      "\u001b[1;32mc:\\users\\devdh\\appdata\\local\\programs\\python\\python38\\lib\\distutils\\_msvccompiler.py\u001b[0m in \u001b[0;36mlink\u001b[1;34m(self, target_desc, objects, output_filename, output_dir, libraries, library_dirs, runtime_library_dirs, export_symbols, debug, extra_preargs, extra_postargs, build_temp, target_lang)\u001b[0m\n\u001b[0;32m    501\u001b[0m                 \u001b[0mself\u001b[0m\u001b[1;33m.\u001b[0m\u001b[0mspawn\u001b[0m\u001b[1;33m(\u001b[0m\u001b[1;33m[\u001b[0m\u001b[0mself\u001b[0m\u001b[1;33m.\u001b[0m\u001b[0mlinker\u001b[0m\u001b[1;33m]\u001b[0m \u001b[1;33m+\u001b[0m \u001b[0mld_args\u001b[0m\u001b[1;33m)\u001b[0m\u001b[1;33m\u001b[0m\u001b[1;33m\u001b[0m\u001b[0m\n\u001b[0;32m    502\u001b[0m             \u001b[1;32mexcept\u001b[0m \u001b[0mDistutilsExecError\u001b[0m \u001b[1;32mas\u001b[0m \u001b[0mmsg\u001b[0m\u001b[1;33m:\u001b[0m\u001b[1;33m\u001b[0m\u001b[1;33m\u001b[0m\u001b[0m\n\u001b[1;32m--> 503\u001b[1;33m                 \u001b[1;32mraise\u001b[0m \u001b[0mLinkError\u001b[0m\u001b[1;33m(\u001b[0m\u001b[0mmsg\u001b[0m\u001b[1;33m)\u001b[0m\u001b[1;33m\u001b[0m\u001b[1;33m\u001b[0m\u001b[0m\n\u001b[0m\u001b[0;32m    504\u001b[0m         \u001b[1;32melse\u001b[0m\u001b[1;33m:\u001b[0m\u001b[1;33m\u001b[0m\u001b[1;33m\u001b[0m\u001b[0m\n\u001b[0;32m    505\u001b[0m             \u001b[0mlog\u001b[0m\u001b[1;33m.\u001b[0m\u001b[0mdebug\u001b[0m\u001b[1;33m(\u001b[0m\u001b[1;34m\"skipping %s (up-to-date)\"\u001b[0m\u001b[1;33m,\u001b[0m \u001b[0moutput_filename\u001b[0m\u001b[1;33m)\u001b[0m\u001b[1;33m\u001b[0m\u001b[1;33m\u001b[0m\u001b[0m\n",
      "\u001b[1;31mLinkError\u001b[0m: command 'C:\\\\Program Files\\\\Microsoft Visual Studio\\\\2022\\\\Community\\\\VC\\\\Tools\\\\MSVC\\\\14.30.30705\\\\bin\\\\HostX86\\\\x64\\\\link.exe' failed with exit status 1104"
     ]
    }
   ],
   "source": [
    "df = pd.DataFrame(columns=['seed', 'g_force', 'response_rate', 'reward', 'angle', 'jerk'])\n",
    "# df = torch.load('dataframe')\n",
    "default_timestep = 0.02\n",
    "default_frame_skip = 2\n",
    "jit_duration = 0.02\n",
    "env_name = 'InvertedPendulum-v2'\n",
    "for response_rate in response_times:\n",
    "    for g_force in range(21):\n",
    "        print(response_rate, g_force)\n",
    "        for seed in range(5):\n",
    "            states = []\n",
    "            force = g_force * 9.81\n",
    "            arguments = ['TD3', env_name, seed, jit_duration, float(g_force), response_rate, 1.0, False,'final']\n",
    "                # Target policy smoothing is scaled wrt the action scale\n",
    "            file_name = '_'.join([str(x) for x in arguments])\n",
    "            if response_rate % default_timestep == 0:\n",
    "                frame_skip = response_rate / default_timestep\n",
    "                timestep = default_timestep\n",
    "            elif jit_duration < response_rate:\n",
    "                timestep = jit_duration\n",
    "                frame_skip = response_rate / timestep\n",
    "            else:\n",
    "                timestep = response_rate\n",
    "                frame_skip = 1\n",
    "            jit_frames = 0  # How many frames the horizontal jitter force lasts each time\n",
    "            if jit_duration:\n",
    "                if jit_duration % timestep == 0:\n",
    "                    jit_frames = int(jit_duration / timestep)\n",
    "                else:\n",
    "                    raise ValueError(\n",
    "                        \"jit_duration should be a multiple of the timestep: \" + str(timestep))\n",
    "                    \n",
    "            time_change_factor = (default_timestep * default_frame_skip) / (timestep * frame_skip)\n",
    "            eval_env = make_env(env_name, seed, time_change_factor, timestep, frame_skip, False)\n",
    "            eval_env._max_episode_steps = 100000\n",
    "            state_dim = eval_env.observation_space.shape[0]\n",
    "            action_dim = eval_env.action_space.shape[0]\n",
    "            max_action = float(eval_env.action_space.high[0])\n",
    "            kwargs = {\n",
    "                \"state_dim\": state_dim,\n",
    "                \"action_dim\": action_dim,\n",
    "                \"observation_space\": eval_env.observation_space,\n",
    "                \"max_action\": max_action,\n",
    "                \"discount\": 0.99,\n",
    "                \"tau\": 0.005,\n",
    "            }\n",
    "            kwargs[\"policy_noise\"] = 2 * max_action\n",
    "            kwargs[\"noise_clip\"] = 0.5 * max_action\n",
    "            kwargs[\"policy_freq\"] = 2\n",
    "            policy = TD3.TD3(**kwargs)\n",
    "            policy_file = file_name \n",
    "            if os.path.exists('../models/'+policy_file+\"_critic\"):\n",
    "                policy.load(f\"../models/{policy_file}\")\n",
    "                avg_reward = 0.\n",
    "                avg_angle = 0.\n",
    "                steps = 0\n",
    "\n",
    "                t = 0\n",
    "                forces = []\n",
    "                force_times = []\n",
    "                for _ in range(1):\n",
    "                    state, done = eval_env.reset(), False\n",
    "                    eval_env.model.opt.gravity[0] = 0\n",
    "                    counter = 0\n",
    "                    disturb = 5\n",
    "                    jittering = False\n",
    "                    force = 0.25\n",
    "                    prev_action = None\n",
    "                    jerk = 0\n",
    "                    while not done:\n",
    "                        action = policy.select_action(np.array(state))\n",
    "                        # Perform action\n",
    "                        if not jittering and round(disturb - counter, 3) >= response_rate:  # Not during the frames when jitter force keeps existing\n",
    "                            next_state, reward, done, _ = eval_env.step(action)\n",
    "                            counter += response_rate\n",
    "                        elif not jittering and round(disturb - counter, 3) < response_rate:\n",
    "                            forces.append(force)\n",
    "                            force_times.append(t)\n",
    "                            jitter_force = force * 9.81 * (2 * (np.random.random() > 0.5) - 1)  # Jitter force strength w/ direction\n",
    "                            next_state, reward, done, _ = eval_env.jitter_step_start(action, jitter_force,\n",
    "                                                                                     (disturb - counter) / timestep,\n",
    "                                                                                     frame_skip - ((disturb - counter) / timestep),\n",
    "                                                                                     jit_frames)\n",
    "                            jittered_frames = frame_skip - ((disturb - counter) / timestep)\n",
    "                            if jittered_frames >= jit_frames:\n",
    "                                jittered_frames = 0\n",
    "                                jittering = False\n",
    "                                eval_env.model.opt.gravity[0] = 0\n",
    "                                counter = 0\n",
    "                                force += 0.25\n",
    "\n",
    "                            else:\n",
    "                                jittering = True\n",
    "                                eval_env.model.opt.gravity[0] = jitter_force\n",
    "                                counter += response_rate\n",
    "                        elif jit_frames - jittered_frames < frame_skip:  # Jitter force will dispear from now!\n",
    "                            next_state, reward, done, _ = eval_env.jitter_step_end(\n",
    "                                action, jitter_force, jit_frames - jittered_frames, frame_skip - (jit_frames - jittered_frames))\n",
    "                            jittering = False  # Stop jittering now\n",
    "                            eval_env.model.opt.gravity[0] = 0\n",
    "                            counter = 0\n",
    "                            force += 0.25\n",
    "                        else:  # Jitter force keeps existing now!\n",
    "                            next_state, reward, done, _ = eval_env.step(action)\n",
    "                            jittered_frames += frame_skip\n",
    "                            counter += response_rate\n",
    "                            if jittered_frames == jit_frames:\n",
    "                                jittering = False\n",
    "                                eval_env.model.opt.gravity[0] = 0\n",
    "                                counter = 0\n",
    "                                force += 0.25\n",
    "\n",
    "                        avg_reward += reward\n",
    "                        avg_angle += abs(next_state[1])\n",
    "                        state = next_state\n",
    "                        counter = round(counter, 3)\n",
    "                        if jit_duration:\n",
    "                            if counter == disturb:\n",
    "                                forces.append(force)\n",
    "                                force_times.append(t)\n",
    "                                jitter_force = force * 9.81 * (2 * (random.random() > 0.5) - 1)\n",
    "                                eval_env.model.opt.gravity[0] = jitter_force\n",
    "                                jittering = True\n",
    "                                jittered_frames = 0\n",
    "\n",
    "                        t += 1\n",
    "                        if prev_action:\n",
    "                            jerk += abs(action[0] - prev_action)\n",
    "                        prev_action = action[0]\n",
    "                        states.append(state)\n",
    "                states = np.array(states)\n",
    "                fig = make_subplots(rows=2, cols=1)\n",
    "                x = [i for i in range(t)]\n",
    "                for index, f in enumerate(force_times):\n",
    "                    fig.add_shape(go.layout.Shape(type=\"line\",\n",
    "                                            x0=f,\n",
    "                                            y0=-100,\n",
    "                                            x1=f,\n",
    "                                            y1=100,\n",
    "                                            ),row=1,col=1)\n",
    "                    fig.add_annotation(x=f,\n",
    "                                       y=0,\n",
    "                                       text=str(forces[index]), \n",
    "                                       showarrow=False,\n",
    "                                       row=1, col=1)\n",
    "                fig.add_trace(go.Scatter(x=x, y=states[:,0], mode='lines', name='pos'), row=1, col=1)\n",
    "                fig.add_trace(go.Scatter(x=x, y=states[:,1], mode='lines', name='angle'), row=2, col=1)\n",
    "    #             fig.add_trace(go.Scatter(x=x, y=states[:,2], mode='lines', name='vel'))\n",
    "    #             fig.add_trace(go.Scatter(x=x, y=states[:,3], mode='lines', name='angular vel'))\n",
    "                fig.update_layout(xaxis_title=\"Frames\")\n",
    "\n",
    "                fig.write_html(\"images2/\"+file_name+'.html')\n",
    "        \n",
    "\n",
    "                avg_reward /= 1\n",
    "                avg_angle /= 1\n",
    "                jerk /= avg_reward\n",
    "                df.loc[len(df.index)] = [seed, g_force, response_rate, avg_reward, avg_angle, jerk]\n",
    "                "
   ]
  },
  {
   "cell_type": "code",
   "execution_count": 18,
   "metadata": {
    "scrolled": false
   },
   "outputs": [
    {
     "data": {
      "application/vnd.plotly.v1+json": {
       "config": {
        "plotlyServerURL": "https://plot.ly"
       },
       "data": [
        {
         "mode": "lines",
         "name": "0",
         "type": "scatter",
         "x": [
          0.01,
          0.02,
          0.04,
          0.08,
          0.16,
          0.32,
          0.64,
          1.28
         ],
         "y": [
          49.85375,
          85.15039999999999,
          72.3648,
          87.4128,
          8.588799999999999,
          0.32,
          0.64,
          1.28
         ]
        },
        {
         "mode": "lines",
         "name": "1",
         "type": "scatter",
         "x": [
          0.01,
          0.02,
          0.04,
          0.08,
          0.16,
          0.32,
          0.64,
          1.28
         ],
         "y": [
          84.00200000000001,
          76.23160000000001,
          75.0408,
          64.7536,
          29.004800000000007,
          0.32,
          0.64,
          1.28
         ]
        },
        {
         "mode": "lines",
         "name": "2",
         "type": "scatter",
         "x": [
          0.01,
          0.02,
          0.04,
          0.08,
          0.16,
          0.32,
          0.64,
          1.28
         ],
         "y": [
          71.5318,
          82.25920000000002,
          86.88880000000002,
          97.1936,
          14.8384,
          0.32,
          0.64,
          1.28
         ]
        },
        {
         "mode": "lines",
         "name": "3",
         "type": "scatter",
         "x": [
          0.01,
          0.02,
          0.04,
          0.08,
          0.16,
          0.32,
          0.64,
          1.28
         ],
         "y": [
          106.87100000000001,
          102.77,
          90.8648,
          81.07359999999998,
          45.12,
          0.32,
          0.64,
          1.28
         ]
        },
        {
         "mode": "lines",
         "name": "4",
         "type": "scatter",
         "x": [
          0.01,
          0.02,
          0.04,
          0.08,
          0.16,
          0.32,
          0.64,
          1.28
         ],
         "y": [
          88.7246,
          130.6952,
          102.46799999999999,
          83.3312,
          21.020800000000005,
          0.32,
          0.64,
          1.28
         ]
        },
        {
         "mode": "lines",
         "name": "5",
         "type": "scatter",
         "x": [
          0.01,
          0.02,
          0.04,
          0.08,
          0.16,
          0.32,
          0.64,
          1.28
         ],
         "y": [
          114.99260000000001,
          136.59840000000003,
          94.47439999999999,
          129.32,
          21.0432,
          0.32,
          0.64,
          1.28
         ]
        },
        {
         "mode": "lines",
         "name": "6",
         "type": "scatter",
         "x": [
          0.01,
          0.02,
          0.04,
          0.08,
          0.16,
          0.32,
          0.64,
          1.28
         ],
         "y": [
          135.7784,
          136.36719999999997,
          121.93360000000001,
          79.2416,
          35.436800000000005,
          0.32,
          0.64,
          1.28
         ]
        },
        {
         "mode": "lines",
         "name": "7",
         "type": "scatter",
         "x": [
          0.01,
          0.02,
          0.04,
          0.08,
          0.16,
          0.32,
          0.64,
          1.28
         ],
         "y": [
          151.0705,
          161.2364,
          133.44559999999998,
          76.2144,
          32.0992,
          0.32,
          0.64,
          1.28
         ]
        },
        {
         "mode": "lines",
         "name": "8",
         "type": "scatter",
         "x": [
          0.01,
          0.02,
          0.04,
          0.08,
          0.16,
          0.32,
          0.64,
          1.28
         ],
         "y": [
          141.41420000000002,
          154.5548,
          136.547,
          117.068,
          10.374400000000001,
          0.32,
          0.64,
          1.28
         ]
        },
        {
         "mode": "lines",
         "name": "9",
         "type": "scatter",
         "x": [
          0.01,
          0.02,
          0.04,
          0.08,
          0.16,
          0.32,
          0.64,
          1.28
         ],
         "y": [
          153.0934,
          164.46439999999998,
          116.62640000000002,
          98.8176,
          68.5856,
          0.32,
          0.64,
          1.28
         ]
        },
        {
         "mode": "lines",
         "name": "10",
         "type": "scatter",
         "x": [
          0.01,
          0.02,
          0.04,
          0.08,
          0.16,
          0.32,
          0.64,
          1.28
         ],
         "y": [
          129.74999999999997,
          143.49240000000003,
          111.43360000000001,
          106.7536,
          20.9984,
          0.32,
          0.64,
          1.28
         ]
        }
       ],
       "layout": {
        "template": {
         "data": {
          "bar": [
           {
            "error_x": {
             "color": "#2a3f5f"
            },
            "error_y": {
             "color": "#2a3f5f"
            },
            "marker": {
             "line": {
              "color": "#E5ECF6",
              "width": 0.5
             },
             "pattern": {
              "fillmode": "overlay",
              "size": 10,
              "solidity": 0.2
             }
            },
            "type": "bar"
           }
          ],
          "barpolar": [
           {
            "marker": {
             "line": {
              "color": "#E5ECF6",
              "width": 0.5
             },
             "pattern": {
              "fillmode": "overlay",
              "size": 10,
              "solidity": 0.2
             }
            },
            "type": "barpolar"
           }
          ],
          "carpet": [
           {
            "aaxis": {
             "endlinecolor": "#2a3f5f",
             "gridcolor": "white",
             "linecolor": "white",
             "minorgridcolor": "white",
             "startlinecolor": "#2a3f5f"
            },
            "baxis": {
             "endlinecolor": "#2a3f5f",
             "gridcolor": "white",
             "linecolor": "white",
             "minorgridcolor": "white",
             "startlinecolor": "#2a3f5f"
            },
            "type": "carpet"
           }
          ],
          "choropleth": [
           {
            "colorbar": {
             "outlinewidth": 0,
             "ticks": ""
            },
            "type": "choropleth"
           }
          ],
          "contour": [
           {
            "colorbar": {
             "outlinewidth": 0,
             "ticks": ""
            },
            "colorscale": [
             [
              0,
              "#0d0887"
             ],
             [
              0.1111111111111111,
              "#46039f"
             ],
             [
              0.2222222222222222,
              "#7201a8"
             ],
             [
              0.3333333333333333,
              "#9c179e"
             ],
             [
              0.4444444444444444,
              "#bd3786"
             ],
             [
              0.5555555555555556,
              "#d8576b"
             ],
             [
              0.6666666666666666,
              "#ed7953"
             ],
             [
              0.7777777777777778,
              "#fb9f3a"
             ],
             [
              0.8888888888888888,
              "#fdca26"
             ],
             [
              1,
              "#f0f921"
             ]
            ],
            "type": "contour"
           }
          ],
          "contourcarpet": [
           {
            "colorbar": {
             "outlinewidth": 0,
             "ticks": ""
            },
            "type": "contourcarpet"
           }
          ],
          "heatmap": [
           {
            "colorbar": {
             "outlinewidth": 0,
             "ticks": ""
            },
            "colorscale": [
             [
              0,
              "#0d0887"
             ],
             [
              0.1111111111111111,
              "#46039f"
             ],
             [
              0.2222222222222222,
              "#7201a8"
             ],
             [
              0.3333333333333333,
              "#9c179e"
             ],
             [
              0.4444444444444444,
              "#bd3786"
             ],
             [
              0.5555555555555556,
              "#d8576b"
             ],
             [
              0.6666666666666666,
              "#ed7953"
             ],
             [
              0.7777777777777778,
              "#fb9f3a"
             ],
             [
              0.8888888888888888,
              "#fdca26"
             ],
             [
              1,
              "#f0f921"
             ]
            ],
            "type": "heatmap"
           }
          ],
          "heatmapgl": [
           {
            "colorbar": {
             "outlinewidth": 0,
             "ticks": ""
            },
            "colorscale": [
             [
              0,
              "#0d0887"
             ],
             [
              0.1111111111111111,
              "#46039f"
             ],
             [
              0.2222222222222222,
              "#7201a8"
             ],
             [
              0.3333333333333333,
              "#9c179e"
             ],
             [
              0.4444444444444444,
              "#bd3786"
             ],
             [
              0.5555555555555556,
              "#d8576b"
             ],
             [
              0.6666666666666666,
              "#ed7953"
             ],
             [
              0.7777777777777778,
              "#fb9f3a"
             ],
             [
              0.8888888888888888,
              "#fdca26"
             ],
             [
              1,
              "#f0f921"
             ]
            ],
            "type": "heatmapgl"
           }
          ],
          "histogram": [
           {
            "marker": {
             "pattern": {
              "fillmode": "overlay",
              "size": 10,
              "solidity": 0.2
             }
            },
            "type": "histogram"
           }
          ],
          "histogram2d": [
           {
            "colorbar": {
             "outlinewidth": 0,
             "ticks": ""
            },
            "colorscale": [
             [
              0,
              "#0d0887"
             ],
             [
              0.1111111111111111,
              "#46039f"
             ],
             [
              0.2222222222222222,
              "#7201a8"
             ],
             [
              0.3333333333333333,
              "#9c179e"
             ],
             [
              0.4444444444444444,
              "#bd3786"
             ],
             [
              0.5555555555555556,
              "#d8576b"
             ],
             [
              0.6666666666666666,
              "#ed7953"
             ],
             [
              0.7777777777777778,
              "#fb9f3a"
             ],
             [
              0.8888888888888888,
              "#fdca26"
             ],
             [
              1,
              "#f0f921"
             ]
            ],
            "type": "histogram2d"
           }
          ],
          "histogram2dcontour": [
           {
            "colorbar": {
             "outlinewidth": 0,
             "ticks": ""
            },
            "colorscale": [
             [
              0,
              "#0d0887"
             ],
             [
              0.1111111111111111,
              "#46039f"
             ],
             [
              0.2222222222222222,
              "#7201a8"
             ],
             [
              0.3333333333333333,
              "#9c179e"
             ],
             [
              0.4444444444444444,
              "#bd3786"
             ],
             [
              0.5555555555555556,
              "#d8576b"
             ],
             [
              0.6666666666666666,
              "#ed7953"
             ],
             [
              0.7777777777777778,
              "#fb9f3a"
             ],
             [
              0.8888888888888888,
              "#fdca26"
             ],
             [
              1,
              "#f0f921"
             ]
            ],
            "type": "histogram2dcontour"
           }
          ],
          "mesh3d": [
           {
            "colorbar": {
             "outlinewidth": 0,
             "ticks": ""
            },
            "type": "mesh3d"
           }
          ],
          "parcoords": [
           {
            "line": {
             "colorbar": {
              "outlinewidth": 0,
              "ticks": ""
             }
            },
            "type": "parcoords"
           }
          ],
          "pie": [
           {
            "automargin": true,
            "type": "pie"
           }
          ],
          "scatter": [
           {
            "marker": {
             "colorbar": {
              "outlinewidth": 0,
              "ticks": ""
             }
            },
            "type": "scatter"
           }
          ],
          "scatter3d": [
           {
            "line": {
             "colorbar": {
              "outlinewidth": 0,
              "ticks": ""
             }
            },
            "marker": {
             "colorbar": {
              "outlinewidth": 0,
              "ticks": ""
             }
            },
            "type": "scatter3d"
           }
          ],
          "scattercarpet": [
           {
            "marker": {
             "colorbar": {
              "outlinewidth": 0,
              "ticks": ""
             }
            },
            "type": "scattercarpet"
           }
          ],
          "scattergeo": [
           {
            "marker": {
             "colorbar": {
              "outlinewidth": 0,
              "ticks": ""
             }
            },
            "type": "scattergeo"
           }
          ],
          "scattergl": [
           {
            "marker": {
             "colorbar": {
              "outlinewidth": 0,
              "ticks": ""
             }
            },
            "type": "scattergl"
           }
          ],
          "scattermapbox": [
           {
            "marker": {
             "colorbar": {
              "outlinewidth": 0,
              "ticks": ""
             }
            },
            "type": "scattermapbox"
           }
          ],
          "scatterpolar": [
           {
            "marker": {
             "colorbar": {
              "outlinewidth": 0,
              "ticks": ""
             }
            },
            "type": "scatterpolar"
           }
          ],
          "scatterpolargl": [
           {
            "marker": {
             "colorbar": {
              "outlinewidth": 0,
              "ticks": ""
             }
            },
            "type": "scatterpolargl"
           }
          ],
          "scatterternary": [
           {
            "marker": {
             "colorbar": {
              "outlinewidth": 0,
              "ticks": ""
             }
            },
            "type": "scatterternary"
           }
          ],
          "surface": [
           {
            "colorbar": {
             "outlinewidth": 0,
             "ticks": ""
            },
            "colorscale": [
             [
              0,
              "#0d0887"
             ],
             [
              0.1111111111111111,
              "#46039f"
             ],
             [
              0.2222222222222222,
              "#7201a8"
             ],
             [
              0.3333333333333333,
              "#9c179e"
             ],
             [
              0.4444444444444444,
              "#bd3786"
             ],
             [
              0.5555555555555556,
              "#d8576b"
             ],
             [
              0.6666666666666666,
              "#ed7953"
             ],
             [
              0.7777777777777778,
              "#fb9f3a"
             ],
             [
              0.8888888888888888,
              "#fdca26"
             ],
             [
              1,
              "#f0f921"
             ]
            ],
            "type": "surface"
           }
          ],
          "table": [
           {
            "cells": {
             "fill": {
              "color": "#EBF0F8"
             },
             "line": {
              "color": "white"
             }
            },
            "header": {
             "fill": {
              "color": "#C8D4E3"
             },
             "line": {
              "color": "white"
             }
            },
            "type": "table"
           }
          ]
         },
         "layout": {
          "annotationdefaults": {
           "arrowcolor": "#2a3f5f",
           "arrowhead": 0,
           "arrowwidth": 1
          },
          "autotypenumbers": "strict",
          "coloraxis": {
           "colorbar": {
            "outlinewidth": 0,
            "ticks": ""
           }
          },
          "colorscale": {
           "diverging": [
            [
             0,
             "#8e0152"
            ],
            [
             0.1,
             "#c51b7d"
            ],
            [
             0.2,
             "#de77ae"
            ],
            [
             0.3,
             "#f1b6da"
            ],
            [
             0.4,
             "#fde0ef"
            ],
            [
             0.5,
             "#f7f7f7"
            ],
            [
             0.6,
             "#e6f5d0"
            ],
            [
             0.7,
             "#b8e186"
            ],
            [
             0.8,
             "#7fbc41"
            ],
            [
             0.9,
             "#4d9221"
            ],
            [
             1,
             "#276419"
            ]
           ],
           "sequential": [
            [
             0,
             "#0d0887"
            ],
            [
             0.1111111111111111,
             "#46039f"
            ],
            [
             0.2222222222222222,
             "#7201a8"
            ],
            [
             0.3333333333333333,
             "#9c179e"
            ],
            [
             0.4444444444444444,
             "#bd3786"
            ],
            [
             0.5555555555555556,
             "#d8576b"
            ],
            [
             0.6666666666666666,
             "#ed7953"
            ],
            [
             0.7777777777777778,
             "#fb9f3a"
            ],
            [
             0.8888888888888888,
             "#fdca26"
            ],
            [
             1,
             "#f0f921"
            ]
           ],
           "sequentialminus": [
            [
             0,
             "#0d0887"
            ],
            [
             0.1111111111111111,
             "#46039f"
            ],
            [
             0.2222222222222222,
             "#7201a8"
            ],
            [
             0.3333333333333333,
             "#9c179e"
            ],
            [
             0.4444444444444444,
             "#bd3786"
            ],
            [
             0.5555555555555556,
             "#d8576b"
            ],
            [
             0.6666666666666666,
             "#ed7953"
            ],
            [
             0.7777777777777778,
             "#fb9f3a"
            ],
            [
             0.8888888888888888,
             "#fdca26"
            ],
            [
             1,
             "#f0f921"
            ]
           ]
          },
          "colorway": [
           "#636efa",
           "#EF553B",
           "#00cc96",
           "#ab63fa",
           "#FFA15A",
           "#19d3f3",
           "#FF6692",
           "#B6E880",
           "#FF97FF",
           "#FECB52"
          ],
          "font": {
           "color": "#2a3f5f"
          },
          "geo": {
           "bgcolor": "white",
           "lakecolor": "white",
           "landcolor": "#E5ECF6",
           "showlakes": true,
           "showland": true,
           "subunitcolor": "white"
          },
          "hoverlabel": {
           "align": "left"
          },
          "hovermode": "closest",
          "mapbox": {
           "style": "light"
          },
          "paper_bgcolor": "white",
          "plot_bgcolor": "#E5ECF6",
          "polar": {
           "angularaxis": {
            "gridcolor": "white",
            "linecolor": "white",
            "ticks": ""
           },
           "bgcolor": "#E5ECF6",
           "radialaxis": {
            "gridcolor": "white",
            "linecolor": "white",
            "ticks": ""
           }
          },
          "scene": {
           "xaxis": {
            "backgroundcolor": "#E5ECF6",
            "gridcolor": "white",
            "gridwidth": 2,
            "linecolor": "white",
            "showbackground": true,
            "ticks": "",
            "zerolinecolor": "white"
           },
           "yaxis": {
            "backgroundcolor": "#E5ECF6",
            "gridcolor": "white",
            "gridwidth": 2,
            "linecolor": "white",
            "showbackground": true,
            "ticks": "",
            "zerolinecolor": "white"
           },
           "zaxis": {
            "backgroundcolor": "#E5ECF6",
            "gridcolor": "white",
            "gridwidth": 2,
            "linecolor": "white",
            "showbackground": true,
            "ticks": "",
            "zerolinecolor": "white"
           }
          },
          "shapedefaults": {
           "line": {
            "color": "#2a3f5f"
           }
          },
          "ternary": {
           "aaxis": {
            "gridcolor": "white",
            "linecolor": "white",
            "ticks": ""
           },
           "baxis": {
            "gridcolor": "white",
            "linecolor": "white",
            "ticks": ""
           },
           "bgcolor": "#E5ECF6",
           "caxis": {
            "gridcolor": "white",
            "linecolor": "white",
            "ticks": ""
           }
          },
          "title": {
           "x": 0.05
          },
          "xaxis": {
           "automargin": true,
           "gridcolor": "white",
           "linecolor": "white",
           "ticks": "",
           "title": {
            "standoff": 15
           },
           "zerolinecolor": "white",
           "zerolinewidth": 2
          },
          "yaxis": {
           "automargin": true,
           "gridcolor": "white",
           "linecolor": "white",
           "ticks": "",
           "title": {
            "standoff": 15
           },
           "zerolinecolor": "white",
           "zerolinewidth": 2
          }
         }
        },
        "title": {
         "text": "Learning curve for Delayed vs Non-delayed envrionment"
        },
        "xaxis": {
         "title": {
          "text": "Response Rate"
         },
         "type": "log"
        },
        "yaxis": {
         "title": {
          "text": "Normalized reward"
         }
        }
       }
      },
      "text/html": [
       "<div>                            <div id=\"8af01c20-b212-441f-9e01-af7f6a5cd7c9\" class=\"plotly-graph-div\" style=\"height:525px; width:100%;\"></div>            <script type=\"text/javascript\">                require([\"plotly\"], function(Plotly) {                    window.PLOTLYENV=window.PLOTLYENV || {};                                    if (document.getElementById(\"8af01c20-b212-441f-9e01-af7f6a5cd7c9\")) {                    Plotly.newPlot(                        \"8af01c20-b212-441f-9e01-af7f6a5cd7c9\",                        [{\"mode\":\"lines\",\"name\":\"0\",\"type\":\"scatter\",\"x\":[0.01,0.02,0.04,0.08,0.16,0.32,0.64,1.28],\"y\":[49.85375,85.15039999999999,72.3648,87.4128,8.588799999999999,0.32,0.64,1.28]},{\"mode\":\"lines\",\"name\":\"1\",\"type\":\"scatter\",\"x\":[0.01,0.02,0.04,0.08,0.16,0.32,0.64,1.28],\"y\":[84.00200000000001,76.23160000000001,75.0408,64.7536,29.004800000000007,0.32,0.64,1.28]},{\"mode\":\"lines\",\"name\":\"2\",\"type\":\"scatter\",\"x\":[0.01,0.02,0.04,0.08,0.16,0.32,0.64,1.28],\"y\":[71.5318,82.25920000000002,86.88880000000002,97.1936,14.8384,0.32,0.64,1.28]},{\"mode\":\"lines\",\"name\":\"3\",\"type\":\"scatter\",\"x\":[0.01,0.02,0.04,0.08,0.16,0.32,0.64,1.28],\"y\":[106.87100000000001,102.77,90.8648,81.07359999999998,45.12,0.32,0.64,1.28]},{\"mode\":\"lines\",\"name\":\"4\",\"type\":\"scatter\",\"x\":[0.01,0.02,0.04,0.08,0.16,0.32,0.64,1.28],\"y\":[88.7246,130.6952,102.46799999999999,83.3312,21.020800000000005,0.32,0.64,1.28]},{\"mode\":\"lines\",\"name\":\"5\",\"type\":\"scatter\",\"x\":[0.01,0.02,0.04,0.08,0.16,0.32,0.64,1.28],\"y\":[114.99260000000001,136.59840000000003,94.47439999999999,129.32,21.0432,0.32,0.64,1.28]},{\"mode\":\"lines\",\"name\":\"6\",\"type\":\"scatter\",\"x\":[0.01,0.02,0.04,0.08,0.16,0.32,0.64,1.28],\"y\":[135.7784,136.36719999999997,121.93360000000001,79.2416,35.436800000000005,0.32,0.64,1.28]},{\"mode\":\"lines\",\"name\":\"7\",\"type\":\"scatter\",\"x\":[0.01,0.02,0.04,0.08,0.16,0.32,0.64,1.28],\"y\":[151.0705,161.2364,133.44559999999998,76.2144,32.0992,0.32,0.64,1.28]},{\"mode\":\"lines\",\"name\":\"8\",\"type\":\"scatter\",\"x\":[0.01,0.02,0.04,0.08,0.16,0.32,0.64,1.28],\"y\":[141.41420000000002,154.5548,136.547,117.068,10.374400000000001,0.32,0.64,1.28]},{\"mode\":\"lines\",\"name\":\"9\",\"type\":\"scatter\",\"x\":[0.01,0.02,0.04,0.08,0.16,0.32,0.64,1.28],\"y\":[153.0934,164.46439999999998,116.62640000000002,98.8176,68.5856,0.32,0.64,1.28]},{\"mode\":\"lines\",\"name\":\"10\",\"type\":\"scatter\",\"x\":[0.01,0.02,0.04,0.08,0.16,0.32,0.64,1.28],\"y\":[129.74999999999997,143.49240000000003,111.43360000000001,106.7536,20.9984,0.32,0.64,1.28]}],                        {\"template\":{\"data\":{\"bar\":[{\"error_x\":{\"color\":\"#2a3f5f\"},\"error_y\":{\"color\":\"#2a3f5f\"},\"marker\":{\"line\":{\"color\":\"#E5ECF6\",\"width\":0.5},\"pattern\":{\"fillmode\":\"overlay\",\"size\":10,\"solidity\":0.2}},\"type\":\"bar\"}],\"barpolar\":[{\"marker\":{\"line\":{\"color\":\"#E5ECF6\",\"width\":0.5},\"pattern\":{\"fillmode\":\"overlay\",\"size\":10,\"solidity\":0.2}},\"type\":\"barpolar\"}],\"carpet\":[{\"aaxis\":{\"endlinecolor\":\"#2a3f5f\",\"gridcolor\":\"white\",\"linecolor\":\"white\",\"minorgridcolor\":\"white\",\"startlinecolor\":\"#2a3f5f\"},\"baxis\":{\"endlinecolor\":\"#2a3f5f\",\"gridcolor\":\"white\",\"linecolor\":\"white\",\"minorgridcolor\":\"white\",\"startlinecolor\":\"#2a3f5f\"},\"type\":\"carpet\"}],\"choropleth\":[{\"colorbar\":{\"outlinewidth\":0,\"ticks\":\"\"},\"type\":\"choropleth\"}],\"contour\":[{\"colorbar\":{\"outlinewidth\":0,\"ticks\":\"\"},\"colorscale\":[[0.0,\"#0d0887\"],[0.1111111111111111,\"#46039f\"],[0.2222222222222222,\"#7201a8\"],[0.3333333333333333,\"#9c179e\"],[0.4444444444444444,\"#bd3786\"],[0.5555555555555556,\"#d8576b\"],[0.6666666666666666,\"#ed7953\"],[0.7777777777777778,\"#fb9f3a\"],[0.8888888888888888,\"#fdca26\"],[1.0,\"#f0f921\"]],\"type\":\"contour\"}],\"contourcarpet\":[{\"colorbar\":{\"outlinewidth\":0,\"ticks\":\"\"},\"type\":\"contourcarpet\"}],\"heatmap\":[{\"colorbar\":{\"outlinewidth\":0,\"ticks\":\"\"},\"colorscale\":[[0.0,\"#0d0887\"],[0.1111111111111111,\"#46039f\"],[0.2222222222222222,\"#7201a8\"],[0.3333333333333333,\"#9c179e\"],[0.4444444444444444,\"#bd3786\"],[0.5555555555555556,\"#d8576b\"],[0.6666666666666666,\"#ed7953\"],[0.7777777777777778,\"#fb9f3a\"],[0.8888888888888888,\"#fdca26\"],[1.0,\"#f0f921\"]],\"type\":\"heatmap\"}],\"heatmapgl\":[{\"colorbar\":{\"outlinewidth\":0,\"ticks\":\"\"},\"colorscale\":[[0.0,\"#0d0887\"],[0.1111111111111111,\"#46039f\"],[0.2222222222222222,\"#7201a8\"],[0.3333333333333333,\"#9c179e\"],[0.4444444444444444,\"#bd3786\"],[0.5555555555555556,\"#d8576b\"],[0.6666666666666666,\"#ed7953\"],[0.7777777777777778,\"#fb9f3a\"],[0.8888888888888888,\"#fdca26\"],[1.0,\"#f0f921\"]],\"type\":\"heatmapgl\"}],\"histogram\":[{\"marker\":{\"pattern\":{\"fillmode\":\"overlay\",\"size\":10,\"solidity\":0.2}},\"type\":\"histogram\"}],\"histogram2d\":[{\"colorbar\":{\"outlinewidth\":0,\"ticks\":\"\"},\"colorscale\":[[0.0,\"#0d0887\"],[0.1111111111111111,\"#46039f\"],[0.2222222222222222,\"#7201a8\"],[0.3333333333333333,\"#9c179e\"],[0.4444444444444444,\"#bd3786\"],[0.5555555555555556,\"#d8576b\"],[0.6666666666666666,\"#ed7953\"],[0.7777777777777778,\"#fb9f3a\"],[0.8888888888888888,\"#fdca26\"],[1.0,\"#f0f921\"]],\"type\":\"histogram2d\"}],\"histogram2dcontour\":[{\"colorbar\":{\"outlinewidth\":0,\"ticks\":\"\"},\"colorscale\":[[0.0,\"#0d0887\"],[0.1111111111111111,\"#46039f\"],[0.2222222222222222,\"#7201a8\"],[0.3333333333333333,\"#9c179e\"],[0.4444444444444444,\"#bd3786\"],[0.5555555555555556,\"#d8576b\"],[0.6666666666666666,\"#ed7953\"],[0.7777777777777778,\"#fb9f3a\"],[0.8888888888888888,\"#fdca26\"],[1.0,\"#f0f921\"]],\"type\":\"histogram2dcontour\"}],\"mesh3d\":[{\"colorbar\":{\"outlinewidth\":0,\"ticks\":\"\"},\"type\":\"mesh3d\"}],\"parcoords\":[{\"line\":{\"colorbar\":{\"outlinewidth\":0,\"ticks\":\"\"}},\"type\":\"parcoords\"}],\"pie\":[{\"automargin\":true,\"type\":\"pie\"}],\"scatter\":[{\"marker\":{\"colorbar\":{\"outlinewidth\":0,\"ticks\":\"\"}},\"type\":\"scatter\"}],\"scatter3d\":[{\"line\":{\"colorbar\":{\"outlinewidth\":0,\"ticks\":\"\"}},\"marker\":{\"colorbar\":{\"outlinewidth\":0,\"ticks\":\"\"}},\"type\":\"scatter3d\"}],\"scattercarpet\":[{\"marker\":{\"colorbar\":{\"outlinewidth\":0,\"ticks\":\"\"}},\"type\":\"scattercarpet\"}],\"scattergeo\":[{\"marker\":{\"colorbar\":{\"outlinewidth\":0,\"ticks\":\"\"}},\"type\":\"scattergeo\"}],\"scattergl\":[{\"marker\":{\"colorbar\":{\"outlinewidth\":0,\"ticks\":\"\"}},\"type\":\"scattergl\"}],\"scattermapbox\":[{\"marker\":{\"colorbar\":{\"outlinewidth\":0,\"ticks\":\"\"}},\"type\":\"scattermapbox\"}],\"scatterpolar\":[{\"marker\":{\"colorbar\":{\"outlinewidth\":0,\"ticks\":\"\"}},\"type\":\"scatterpolar\"}],\"scatterpolargl\":[{\"marker\":{\"colorbar\":{\"outlinewidth\":0,\"ticks\":\"\"}},\"type\":\"scatterpolargl\"}],\"scatterternary\":[{\"marker\":{\"colorbar\":{\"outlinewidth\":0,\"ticks\":\"\"}},\"type\":\"scatterternary\"}],\"surface\":[{\"colorbar\":{\"outlinewidth\":0,\"ticks\":\"\"},\"colorscale\":[[0.0,\"#0d0887\"],[0.1111111111111111,\"#46039f\"],[0.2222222222222222,\"#7201a8\"],[0.3333333333333333,\"#9c179e\"],[0.4444444444444444,\"#bd3786\"],[0.5555555555555556,\"#d8576b\"],[0.6666666666666666,\"#ed7953\"],[0.7777777777777778,\"#fb9f3a\"],[0.8888888888888888,\"#fdca26\"],[1.0,\"#f0f921\"]],\"type\":\"surface\"}],\"table\":[{\"cells\":{\"fill\":{\"color\":\"#EBF0F8\"},\"line\":{\"color\":\"white\"}},\"header\":{\"fill\":{\"color\":\"#C8D4E3\"},\"line\":{\"color\":\"white\"}},\"type\":\"table\"}]},\"layout\":{\"annotationdefaults\":{\"arrowcolor\":\"#2a3f5f\",\"arrowhead\":0,\"arrowwidth\":1},\"autotypenumbers\":\"strict\",\"coloraxis\":{\"colorbar\":{\"outlinewidth\":0,\"ticks\":\"\"}},\"colorscale\":{\"diverging\":[[0,\"#8e0152\"],[0.1,\"#c51b7d\"],[0.2,\"#de77ae\"],[0.3,\"#f1b6da\"],[0.4,\"#fde0ef\"],[0.5,\"#f7f7f7\"],[0.6,\"#e6f5d0\"],[0.7,\"#b8e186\"],[0.8,\"#7fbc41\"],[0.9,\"#4d9221\"],[1,\"#276419\"]],\"sequential\":[[0.0,\"#0d0887\"],[0.1111111111111111,\"#46039f\"],[0.2222222222222222,\"#7201a8\"],[0.3333333333333333,\"#9c179e\"],[0.4444444444444444,\"#bd3786\"],[0.5555555555555556,\"#d8576b\"],[0.6666666666666666,\"#ed7953\"],[0.7777777777777778,\"#fb9f3a\"],[0.8888888888888888,\"#fdca26\"],[1.0,\"#f0f921\"]],\"sequentialminus\":[[0.0,\"#0d0887\"],[0.1111111111111111,\"#46039f\"],[0.2222222222222222,\"#7201a8\"],[0.3333333333333333,\"#9c179e\"],[0.4444444444444444,\"#bd3786\"],[0.5555555555555556,\"#d8576b\"],[0.6666666666666666,\"#ed7953\"],[0.7777777777777778,\"#fb9f3a\"],[0.8888888888888888,\"#fdca26\"],[1.0,\"#f0f921\"]]},\"colorway\":[\"#636efa\",\"#EF553B\",\"#00cc96\",\"#ab63fa\",\"#FFA15A\",\"#19d3f3\",\"#FF6692\",\"#B6E880\",\"#FF97FF\",\"#FECB52\"],\"font\":{\"color\":\"#2a3f5f\"},\"geo\":{\"bgcolor\":\"white\",\"lakecolor\":\"white\",\"landcolor\":\"#E5ECF6\",\"showlakes\":true,\"showland\":true,\"subunitcolor\":\"white\"},\"hoverlabel\":{\"align\":\"left\"},\"hovermode\":\"closest\",\"mapbox\":{\"style\":\"light\"},\"paper_bgcolor\":\"white\",\"plot_bgcolor\":\"#E5ECF6\",\"polar\":{\"angularaxis\":{\"gridcolor\":\"white\",\"linecolor\":\"white\",\"ticks\":\"\"},\"bgcolor\":\"#E5ECF6\",\"radialaxis\":{\"gridcolor\":\"white\",\"linecolor\":\"white\",\"ticks\":\"\"}},\"scene\":{\"xaxis\":{\"backgroundcolor\":\"#E5ECF6\",\"gridcolor\":\"white\",\"gridwidth\":2,\"linecolor\":\"white\",\"showbackground\":true,\"ticks\":\"\",\"zerolinecolor\":\"white\"},\"yaxis\":{\"backgroundcolor\":\"#E5ECF6\",\"gridcolor\":\"white\",\"gridwidth\":2,\"linecolor\":\"white\",\"showbackground\":true,\"ticks\":\"\",\"zerolinecolor\":\"white\"},\"zaxis\":{\"backgroundcolor\":\"#E5ECF6\",\"gridcolor\":\"white\",\"gridwidth\":2,\"linecolor\":\"white\",\"showbackground\":true,\"ticks\":\"\",\"zerolinecolor\":\"white\"}},\"shapedefaults\":{\"line\":{\"color\":\"#2a3f5f\"}},\"ternary\":{\"aaxis\":{\"gridcolor\":\"white\",\"linecolor\":\"white\",\"ticks\":\"\"},\"baxis\":{\"gridcolor\":\"white\",\"linecolor\":\"white\",\"ticks\":\"\"},\"bgcolor\":\"#E5ECF6\",\"caxis\":{\"gridcolor\":\"white\",\"linecolor\":\"white\",\"ticks\":\"\"}},\"title\":{\"x\":0.05},\"xaxis\":{\"automargin\":true,\"gridcolor\":\"white\",\"linecolor\":\"white\",\"ticks\":\"\",\"title\":{\"standoff\":15},\"zerolinecolor\":\"white\",\"zerolinewidth\":2},\"yaxis\":{\"automargin\":true,\"gridcolor\":\"white\",\"linecolor\":\"white\",\"ticks\":\"\",\"title\":{\"standoff\":15},\"zerolinecolor\":\"white\",\"zerolinewidth\":2}}},\"title\":{\"text\":\"Learning curve for Delayed vs Non-delayed envrionment\"},\"xaxis\":{\"title\":{\"text\":\"Response Rate\"},\"type\":\"log\"},\"yaxis\":{\"title\":{\"text\":\"Normalized reward\"}}},                        {\"responsive\": true}                    ).then(function(){\n",
       "                            \n",
       "var gd = document.getElementById('8af01c20-b212-441f-9e01-af7f6a5cd7c9');\n",
       "var x = new MutationObserver(function (mutations, observer) {{\n",
       "        var display = window.getComputedStyle(gd).display;\n",
       "        if (!display || display === 'none') {{\n",
       "            console.log([gd, 'removed!']);\n",
       "            Plotly.purge(gd);\n",
       "            observer.disconnect();\n",
       "        }}\n",
       "}});\n",
       "\n",
       "// Listen for the removal of the full notebook cells\n",
       "var notebookContainer = gd.closest('#notebook-container');\n",
       "if (notebookContainer) {{\n",
       "    x.observe(notebookContainer, {childList: true});\n",
       "}}\n",
       "\n",
       "// Listen for the clearing of the current output cell\n",
       "var outputEl = gd.closest('.output');\n",
       "if (outputEl) {{\n",
       "    x.observe(outputEl, {childList: true});\n",
       "}}\n",
       "\n",
       "                        })                };                });            </script>        </div>"
      ]
     },
     "metadata": {},
     "output_type": "display_data"
    }
   ],
   "source": [
    "fig = go.Figure()\n",
    "\n",
    "    \n",
    "for force in range(11):\n",
    "    rewards = []\n",
    "    for rt in response_times:\n",
    "        temp_df = df.loc[(df['response_rate'] == rt) & (df['g_force'] == force)]\n",
    "#         print (rt, force, np.mean(temp_df['reward'])* rt)\n",
    "        rewards.append( np.mean(temp_df['reward'])* rt)\n",
    "    \n",
    "    fig.add_trace(go.Scatter(x=response_times, y=rewards, mode='lines', name=str(force)))\n",
    "    \n",
    "fig.update_xaxes(type=\"log\")\n",
    "fig.update_layout(title='Learning curve for Delayed vs Non-delayed envrionment',\n",
    "                   xaxis_title='Response Rate',\n",
    "                   yaxis_title='Normalized reward')\n",
    "\n",
    "fig.show()"
   ]
  },
  {
   "cell_type": "code",
   "execution_count": 42,
   "metadata": {},
   "outputs": [
    {
     "data": {
      "text/html": [
       "<div>\n",
       "<style scoped>\n",
       "    .dataframe tbody tr th:only-of-type {\n",
       "        vertical-align: middle;\n",
       "    }\n",
       "\n",
       "    .dataframe tbody tr th {\n",
       "        vertical-align: top;\n",
       "    }\n",
       "\n",
       "    .dataframe thead th {\n",
       "        text-align: right;\n",
       "    }\n",
       "</style>\n",
       "<table border=\"1\" class=\"dataframe\">\n",
       "  <thead>\n",
       "    <tr style=\"text-align: right;\">\n",
       "      <th></th>\n",
       "      <th>seed</th>\n",
       "      <th>g_force</th>\n",
       "      <th>response_rate</th>\n",
       "      <th>reward</th>\n",
       "      <th>angle</th>\n",
       "      <th>jerk</th>\n",
       "    </tr>\n",
       "  </thead>\n",
       "  <tbody>\n",
       "    <tr>\n",
       "      <th>0</th>\n",
       "      <td>0.0</td>\n",
       "      <td>0.0</td>\n",
       "      <td>0.01</td>\n",
       "      <td>2293.0</td>\n",
       "      <td>47.214931</td>\n",
       "      <td>0.577094</td>\n",
       "    </tr>\n",
       "    <tr>\n",
       "      <th>1</th>\n",
       "      <td>1.0</td>\n",
       "      <td>0.0</td>\n",
       "      <td>0.01</td>\n",
       "      <td>120.0</td>\n",
       "      <td>17.372309</td>\n",
       "      <td>2.128509</td>\n",
       "    </tr>\n",
       "    <tr>\n",
       "      <th>2</th>\n",
       "      <td>2.0</td>\n",
       "      <td>0.0</td>\n",
       "      <td>0.01</td>\n",
       "      <td>6553.0</td>\n",
       "      <td>144.442322</td>\n",
       "      <td>0.517706</td>\n",
       "    </tr>\n",
       "    <tr>\n",
       "      <th>3</th>\n",
       "      <td>3.0</td>\n",
       "      <td>0.0</td>\n",
       "      <td>0.01</td>\n",
       "      <td>6081.0</td>\n",
       "      <td>108.854726</td>\n",
       "      <td>1.500307</td>\n",
       "    </tr>\n",
       "    <tr>\n",
       "      <th>4</th>\n",
       "      <td>4.0</td>\n",
       "      <td>0.0</td>\n",
       "      <td>0.01</td>\n",
       "      <td>8046.0</td>\n",
       "      <td>177.474073</td>\n",
       "      <td>3.593683</td>\n",
       "    </tr>\n",
       "    <tr>\n",
       "      <th>...</th>\n",
       "      <td>...</td>\n",
       "      <td>...</td>\n",
       "      <td>...</td>\n",
       "      <td>...</td>\n",
       "      <td>...</td>\n",
       "      <td>...</td>\n",
       "    </tr>\n",
       "    <tr>\n",
       "      <th>835</th>\n",
       "      <td>0.0</td>\n",
       "      <td>20.0</td>\n",
       "      <td>1.28</td>\n",
       "      <td>1.0</td>\n",
       "      <td>1.573276</td>\n",
       "      <td>0.000000</td>\n",
       "    </tr>\n",
       "    <tr>\n",
       "      <th>836</th>\n",
       "      <td>1.0</td>\n",
       "      <td>20.0</td>\n",
       "      <td>1.28</td>\n",
       "      <td>1.0</td>\n",
       "      <td>1.573276</td>\n",
       "      <td>0.000000</td>\n",
       "    </tr>\n",
       "    <tr>\n",
       "      <th>837</th>\n",
       "      <td>2.0</td>\n",
       "      <td>20.0</td>\n",
       "      <td>1.28</td>\n",
       "      <td>1.0</td>\n",
       "      <td>1.573276</td>\n",
       "      <td>0.000000</td>\n",
       "    </tr>\n",
       "    <tr>\n",
       "      <th>838</th>\n",
       "      <td>3.0</td>\n",
       "      <td>20.0</td>\n",
       "      <td>1.28</td>\n",
       "      <td>1.0</td>\n",
       "      <td>1.573276</td>\n",
       "      <td>0.000000</td>\n",
       "    </tr>\n",
       "    <tr>\n",
       "      <th>839</th>\n",
       "      <td>4.0</td>\n",
       "      <td>20.0</td>\n",
       "      <td>1.28</td>\n",
       "      <td>1.0</td>\n",
       "      <td>1.573276</td>\n",
       "      <td>0.000000</td>\n",
       "    </tr>\n",
       "  </tbody>\n",
       "</table>\n",
       "<p>840 rows × 6 columns</p>\n",
       "</div>"
      ],
      "text/plain": [
       "     seed  g_force  response_rate  reward       angle      jerk\n",
       "0     0.0      0.0           0.01  2293.0   47.214931  0.577094\n",
       "1     1.0      0.0           0.01   120.0   17.372309  2.128509\n",
       "2     2.0      0.0           0.01  6553.0  144.442322  0.517706\n",
       "3     3.0      0.0           0.01  6081.0  108.854726  1.500307\n",
       "4     4.0      0.0           0.01  8046.0  177.474073  3.593683\n",
       "..    ...      ...            ...     ...         ...       ...\n",
       "835   0.0     20.0           1.28     1.0    1.573276  0.000000\n",
       "836   1.0     20.0           1.28     1.0    1.573276  0.000000\n",
       "837   2.0     20.0           1.28     1.0    1.573276  0.000000\n",
       "838   3.0     20.0           1.28     1.0    1.573276  0.000000\n",
       "839   4.0     20.0           1.28     1.0    1.573276  0.000000\n",
       "\n",
       "[840 rows x 6 columns]"
      ]
     },
     "execution_count": 42,
     "metadata": {},
     "output_type": "execute_result"
    }
   ],
   "source": [
    "df"
   ]
  },
  {
   "cell_type": "code",
   "execution_count": 43,
   "metadata": {},
   "outputs": [],
   "source": [
    "torch.save(df, 'dataframe')"
   ]
  },
  {
   "cell_type": "code",
   "execution_count": 9,
   "metadata": {},
   "outputs": [],
   "source": [
    "df = torch.load('dataframe')"
   ]
  },
  {
   "cell_type": "code",
   "execution_count": 10,
   "metadata": {},
   "outputs": [],
   "source": [
    "df['reward'] = df['reward'] * df['response_rate']\n",
    "df['jerk'] = df['jerk'] / df['response_rate']\n",
    "rewards = pd.crosstab(df['g_force'], df['response_rate'], values=df['reward'], aggfunc='mean')\n",
    "jerks = pd.crosstab(df['g_force'], df['response_rate'], values=df['jerk'], aggfunc='mean')"
   ]
  },
  {
   "cell_type": "code",
   "execution_count": 46,
   "metadata": {},
   "outputs": [
    {
     "data": {
      "text/html": [
       "<div>\n",
       "<style scoped>\n",
       "    .dataframe tbody tr th:only-of-type {\n",
       "        vertical-align: middle;\n",
       "    }\n",
       "\n",
       "    .dataframe tbody tr th {\n",
       "        vertical-align: top;\n",
       "    }\n",
       "\n",
       "    .dataframe thead th {\n",
       "        text-align: right;\n",
       "    }\n",
       "</style>\n",
       "<table border=\"1\" class=\"dataframe\">\n",
       "  <thead>\n",
       "    <tr style=\"text-align: right;\">\n",
       "      <th>response_rate</th>\n",
       "      <th>0.01</th>\n",
       "      <th>0.02</th>\n",
       "      <th>0.04</th>\n",
       "      <th>0.08</th>\n",
       "      <th>0.16</th>\n",
       "      <th>0.32</th>\n",
       "      <th>0.64</th>\n",
       "      <th>1.28</th>\n",
       "    </tr>\n",
       "    <tr>\n",
       "      <th>g_force</th>\n",
       "      <th></th>\n",
       "      <th></th>\n",
       "      <th></th>\n",
       "      <th></th>\n",
       "      <th></th>\n",
       "      <th></th>\n",
       "      <th></th>\n",
       "      <th></th>\n",
       "    </tr>\n",
       "  </thead>\n",
       "  <tbody>\n",
       "    <tr>\n",
       "      <th>0.0</th>\n",
       "      <td>46.186</td>\n",
       "      <td>79.136</td>\n",
       "      <td>82.640</td>\n",
       "      <td>93.824</td>\n",
       "      <td>9.216</td>\n",
       "      <td>0.32</td>\n",
       "      <td>0.64</td>\n",
       "      <td>1.28</td>\n",
       "    </tr>\n",
       "    <tr>\n",
       "      <th>1.0</th>\n",
       "      <td>82.884</td>\n",
       "      <td>77.460</td>\n",
       "      <td>83.776</td>\n",
       "      <td>63.152</td>\n",
       "      <td>28.032</td>\n",
       "      <td>0.32</td>\n",
       "      <td>0.64</td>\n",
       "      <td>1.28</td>\n",
       "    </tr>\n",
       "    <tr>\n",
       "      <th>2.0</th>\n",
       "      <td>71.912</td>\n",
       "      <td>87.864</td>\n",
       "      <td>83.464</td>\n",
       "      <td>100.480</td>\n",
       "      <td>14.752</td>\n",
       "      <td>0.32</td>\n",
       "      <td>0.64</td>\n",
       "      <td>1.28</td>\n",
       "    </tr>\n",
       "    <tr>\n",
       "      <th>3.0</th>\n",
       "      <td>99.924</td>\n",
       "      <td>110.232</td>\n",
       "      <td>90.560</td>\n",
       "      <td>82.400</td>\n",
       "      <td>44.096</td>\n",
       "      <td>0.32</td>\n",
       "      <td>0.64</td>\n",
       "      <td>1.28</td>\n",
       "    </tr>\n",
       "    <tr>\n",
       "      <th>4.0</th>\n",
       "      <td>84.118</td>\n",
       "      <td>130.924</td>\n",
       "      <td>100.008</td>\n",
       "      <td>88.560</td>\n",
       "      <td>24.832</td>\n",
       "      <td>0.32</td>\n",
       "      <td>0.64</td>\n",
       "      <td>1.28</td>\n",
       "    </tr>\n",
       "    <tr>\n",
       "      <th>5.0</th>\n",
       "      <td>123.100</td>\n",
       "      <td>143.604</td>\n",
       "      <td>113.520</td>\n",
       "      <td>135.008</td>\n",
       "      <td>19.136</td>\n",
       "      <td>0.32</td>\n",
       "      <td>0.64</td>\n",
       "      <td>1.28</td>\n",
       "    </tr>\n",
       "    <tr>\n",
       "      <th>6.0</th>\n",
       "      <td>135.182</td>\n",
       "      <td>147.388</td>\n",
       "      <td>120.984</td>\n",
       "      <td>82.416</td>\n",
       "      <td>38.272</td>\n",
       "      <td>0.32</td>\n",
       "      <td>0.64</td>\n",
       "      <td>1.28</td>\n",
       "    </tr>\n",
       "    <tr>\n",
       "      <th>7.0</th>\n",
       "      <td>154.530</td>\n",
       "      <td>160.188</td>\n",
       "      <td>127.984</td>\n",
       "      <td>72.576</td>\n",
       "      <td>34.944</td>\n",
       "      <td>0.32</td>\n",
       "      <td>0.64</td>\n",
       "      <td>1.28</td>\n",
       "    </tr>\n",
       "    <tr>\n",
       "      <th>8.0</th>\n",
       "      <td>141.448</td>\n",
       "      <td>157.676</td>\n",
       "      <td>124.824</td>\n",
       "      <td>117.024</td>\n",
       "      <td>7.584</td>\n",
       "      <td>0.32</td>\n",
       "      <td>0.64</td>\n",
       "      <td>1.28</td>\n",
       "    </tr>\n",
       "    <tr>\n",
       "      <th>9.0</th>\n",
       "      <td>152.618</td>\n",
       "      <td>169.616</td>\n",
       "      <td>114.536</td>\n",
       "      <td>92.784</td>\n",
       "      <td>67.680</td>\n",
       "      <td>0.32</td>\n",
       "      <td>0.64</td>\n",
       "      <td>1.28</td>\n",
       "    </tr>\n",
       "    <tr>\n",
       "      <th>10.0</th>\n",
       "      <td>122.610</td>\n",
       "      <td>146.124</td>\n",
       "      <td>107.928</td>\n",
       "      <td>109.040</td>\n",
       "      <td>24.288</td>\n",
       "      <td>0.32</td>\n",
       "      <td>0.64</td>\n",
       "      <td>1.28</td>\n",
       "    </tr>\n",
       "    <tr>\n",
       "      <th>11.0</th>\n",
       "      <td>118.238</td>\n",
       "      <td>115.220</td>\n",
       "      <td>144.880</td>\n",
       "      <td>115.728</td>\n",
       "      <td>35.712</td>\n",
       "      <td>0.32</td>\n",
       "      <td>0.64</td>\n",
       "      <td>1.28</td>\n",
       "    </tr>\n",
       "    <tr>\n",
       "      <th>12.0</th>\n",
       "      <td>115.886</td>\n",
       "      <td>99.912</td>\n",
       "      <td>105.848</td>\n",
       "      <td>88.848</td>\n",
       "      <td>26.016</td>\n",
       "      <td>0.32</td>\n",
       "      <td>0.64</td>\n",
       "      <td>1.28</td>\n",
       "    </tr>\n",
       "    <tr>\n",
       "      <th>13.0</th>\n",
       "      <td>146.230</td>\n",
       "      <td>124.272</td>\n",
       "      <td>122.040</td>\n",
       "      <td>83.616</td>\n",
       "      <td>25.504</td>\n",
       "      <td>0.32</td>\n",
       "      <td>0.64</td>\n",
       "      <td>1.28</td>\n",
       "    </tr>\n",
       "    <tr>\n",
       "      <th>14.0</th>\n",
       "      <td>143.272</td>\n",
       "      <td>126.148</td>\n",
       "      <td>149.200</td>\n",
       "      <td>123.152</td>\n",
       "      <td>25.856</td>\n",
       "      <td>0.32</td>\n",
       "      <td>0.64</td>\n",
       "      <td>1.28</td>\n",
       "    </tr>\n",
       "    <tr>\n",
       "      <th>15.0</th>\n",
       "      <td>138.506</td>\n",
       "      <td>93.060</td>\n",
       "      <td>151.048</td>\n",
       "      <td>106.656</td>\n",
       "      <td>16.992</td>\n",
       "      <td>0.32</td>\n",
       "      <td>0.64</td>\n",
       "      <td>1.28</td>\n",
       "    </tr>\n",
       "    <tr>\n",
       "      <th>16.0</th>\n",
       "      <td>126.396</td>\n",
       "      <td>133.028</td>\n",
       "      <td>95.896</td>\n",
       "      <td>98.928</td>\n",
       "      <td>47.456</td>\n",
       "      <td>0.32</td>\n",
       "      <td>0.64</td>\n",
       "      <td>1.28</td>\n",
       "    </tr>\n",
       "    <tr>\n",
       "      <th>17.0</th>\n",
       "      <td>131.210</td>\n",
       "      <td>93.256</td>\n",
       "      <td>118.512</td>\n",
       "      <td>95.744</td>\n",
       "      <td>29.984</td>\n",
       "      <td>0.32</td>\n",
       "      <td>0.64</td>\n",
       "      <td>1.28</td>\n",
       "    </tr>\n",
       "    <tr>\n",
       "      <th>18.0</th>\n",
       "      <td>84.000</td>\n",
       "      <td>95.192</td>\n",
       "      <td>137.048</td>\n",
       "      <td>89.968</td>\n",
       "      <td>21.856</td>\n",
       "      <td>0.32</td>\n",
       "      <td>0.64</td>\n",
       "      <td>1.28</td>\n",
       "    </tr>\n",
       "    <tr>\n",
       "      <th>19.0</th>\n",
       "      <td>93.784</td>\n",
       "      <td>95.320</td>\n",
       "      <td>131.960</td>\n",
       "      <td>129.136</td>\n",
       "      <td>13.760</td>\n",
       "      <td>0.32</td>\n",
       "      <td>0.64</td>\n",
       "      <td>1.28</td>\n",
       "    </tr>\n",
       "    <tr>\n",
       "      <th>20.0</th>\n",
       "      <td>100.262</td>\n",
       "      <td>133.416</td>\n",
       "      <td>112.432</td>\n",
       "      <td>99.632</td>\n",
       "      <td>7.936</td>\n",
       "      <td>0.32</td>\n",
       "      <td>0.64</td>\n",
       "      <td>1.28</td>\n",
       "    </tr>\n",
       "  </tbody>\n",
       "</table>\n",
       "</div>"
      ],
      "text/plain": [
       "response_rate     0.01     0.02     0.04     0.08    0.16  0.32  0.64  1.28\n",
       "g_force                                                                    \n",
       "0.0             46.186   79.136   82.640   93.824   9.216  0.32  0.64  1.28\n",
       "1.0             82.884   77.460   83.776   63.152  28.032  0.32  0.64  1.28\n",
       "2.0             71.912   87.864   83.464  100.480  14.752  0.32  0.64  1.28\n",
       "3.0             99.924  110.232   90.560   82.400  44.096  0.32  0.64  1.28\n",
       "4.0             84.118  130.924  100.008   88.560  24.832  0.32  0.64  1.28\n",
       "5.0            123.100  143.604  113.520  135.008  19.136  0.32  0.64  1.28\n",
       "6.0            135.182  147.388  120.984   82.416  38.272  0.32  0.64  1.28\n",
       "7.0            154.530  160.188  127.984   72.576  34.944  0.32  0.64  1.28\n",
       "8.0            141.448  157.676  124.824  117.024   7.584  0.32  0.64  1.28\n",
       "9.0            152.618  169.616  114.536   92.784  67.680  0.32  0.64  1.28\n",
       "10.0           122.610  146.124  107.928  109.040  24.288  0.32  0.64  1.28\n",
       "11.0           118.238  115.220  144.880  115.728  35.712  0.32  0.64  1.28\n",
       "12.0           115.886   99.912  105.848   88.848  26.016  0.32  0.64  1.28\n",
       "13.0           146.230  124.272  122.040   83.616  25.504  0.32  0.64  1.28\n",
       "14.0           143.272  126.148  149.200  123.152  25.856  0.32  0.64  1.28\n",
       "15.0           138.506   93.060  151.048  106.656  16.992  0.32  0.64  1.28\n",
       "16.0           126.396  133.028   95.896   98.928  47.456  0.32  0.64  1.28\n",
       "17.0           131.210   93.256  118.512   95.744  29.984  0.32  0.64  1.28\n",
       "18.0            84.000   95.192  137.048   89.968  21.856  0.32  0.64  1.28\n",
       "19.0            93.784   95.320  131.960  129.136  13.760  0.32  0.64  1.28\n",
       "20.0           100.262  133.416  112.432   99.632   7.936  0.32  0.64  1.28"
      ]
     },
     "execution_count": 46,
     "metadata": {},
     "output_type": "execute_result"
    }
   ],
   "source": [
    "rewards"
   ]
  },
  {
   "cell_type": "code",
   "execution_count": 28,
   "metadata": {
    "scrolled": false
   },
   "outputs": [
    {
     "data": {
      "application/vnd.plotly.v1+json": {
       "config": {
        "plotlyServerURL": "https://plot.ly"
       },
       "data": [
        {
         "type": "surface",
         "x": [
          0.01,
          0.02,
          0.04,
          0.08,
          0.16,
          0.32,
          0.64,
          1.28
         ],
         "y": [
          0,
          1,
          2,
          3,
          4,
          5,
          6,
          7,
          8,
          9,
          10
         ],
         "z": [
          [
           35.088,
           85.36,
           78.344,
           87.936,
           9.408000000000001,
           0.32,
           0.64,
           1.28
          ],
          [
           80.846,
           71.45599999999999,
           71.864,
           71.792,
           30.464000000000006,
           0.32,
           0.64,
           1.28
          ],
          [
           62.896,
           80.536,
           85.40800000000002,
           89.6,
           16.768000000000004,
           0.32,
           0.64,
           1.28
          ],
          [
           118.06799999999998,
           107.18800000000002,
           92.208,
           99.47200000000001,
           44.06400000000001,
           0.32,
           0.64,
           1.28
          ],
          [
           86.96400000000001,
           142.196,
           101.92800000000001,
           83.47200000000001,
           16.192,
           0.32,
           0.64,
           1.28
          ],
          [
           91.23800000000001,
           138.476,
           96.61600000000001,
           130.112,
           19.744,
           0.32,
           0.64,
           1.28
          ],
          [
           135.23399999999998,
           140.51600000000002,
           116.92800000000003,
           81.248,
           33.312,
           0.32,
           0.64,
           1.28
          ],
          [
           141.438,
           164.624,
           126.96000000000001,
           73.67999999999999,
           28.544,
           0.32,
           0.64,
           1.28
          ],
          [
           138.38400000000001,
           158.42400000000004,
           107.976,
           115.984,
           13.728,
           0.32,
           0.64,
           1.28
          ],
          [
           162.258,
           170.66800000000003,
           109.624,
           92.736,
           63.232000000000006,
           0.32,
           0.64,
           1.28
          ],
          [
           129.00600000000003,
           147.84,
           106.84,
           106.83200000000002,
           17.504,
           0.32,
           0.64,
           1.28
          ]
         ]
        }
       ],
       "layout": {
        "height": 1000,
        "scene": {
         "xaxis": {
          "tickvals": [
           0.01,
           0.02,
           0.04,
           0.08,
           0.16,
           0.32,
           0.64,
           1.28
          ],
          "title": {
           "text": "Response Time"
          },
          "type": "log"
         },
         "yaxis": {
          "title": {
           "text": "Max. Pertubation during training"
          }
         },
         "zaxis": {
          "title": {
           "text": "Avg. Seconds during evaluation"
          }
         }
        },
        "template": {
         "data": {
          "bar": [
           {
            "error_x": {
             "color": "#2a3f5f"
            },
            "error_y": {
             "color": "#2a3f5f"
            },
            "marker": {
             "line": {
              "color": "#E5ECF6",
              "width": 0.5
             },
             "pattern": {
              "fillmode": "overlay",
              "size": 10,
              "solidity": 0.2
             }
            },
            "type": "bar"
           }
          ],
          "barpolar": [
           {
            "marker": {
             "line": {
              "color": "#E5ECF6",
              "width": 0.5
             },
             "pattern": {
              "fillmode": "overlay",
              "size": 10,
              "solidity": 0.2
             }
            },
            "type": "barpolar"
           }
          ],
          "carpet": [
           {
            "aaxis": {
             "endlinecolor": "#2a3f5f",
             "gridcolor": "white",
             "linecolor": "white",
             "minorgridcolor": "white",
             "startlinecolor": "#2a3f5f"
            },
            "baxis": {
             "endlinecolor": "#2a3f5f",
             "gridcolor": "white",
             "linecolor": "white",
             "minorgridcolor": "white",
             "startlinecolor": "#2a3f5f"
            },
            "type": "carpet"
           }
          ],
          "choropleth": [
           {
            "colorbar": {
             "outlinewidth": 0,
             "ticks": ""
            },
            "type": "choropleth"
           }
          ],
          "contour": [
           {
            "colorbar": {
             "outlinewidth": 0,
             "ticks": ""
            },
            "colorscale": [
             [
              0,
              "#0d0887"
             ],
             [
              0.1111111111111111,
              "#46039f"
             ],
             [
              0.2222222222222222,
              "#7201a8"
             ],
             [
              0.3333333333333333,
              "#9c179e"
             ],
             [
              0.4444444444444444,
              "#bd3786"
             ],
             [
              0.5555555555555556,
              "#d8576b"
             ],
             [
              0.6666666666666666,
              "#ed7953"
             ],
             [
              0.7777777777777778,
              "#fb9f3a"
             ],
             [
              0.8888888888888888,
              "#fdca26"
             ],
             [
              1,
              "#f0f921"
             ]
            ],
            "type": "contour"
           }
          ],
          "contourcarpet": [
           {
            "colorbar": {
             "outlinewidth": 0,
             "ticks": ""
            },
            "type": "contourcarpet"
           }
          ],
          "heatmap": [
           {
            "colorbar": {
             "outlinewidth": 0,
             "ticks": ""
            },
            "colorscale": [
             [
              0,
              "#0d0887"
             ],
             [
              0.1111111111111111,
              "#46039f"
             ],
             [
              0.2222222222222222,
              "#7201a8"
             ],
             [
              0.3333333333333333,
              "#9c179e"
             ],
             [
              0.4444444444444444,
              "#bd3786"
             ],
             [
              0.5555555555555556,
              "#d8576b"
             ],
             [
              0.6666666666666666,
              "#ed7953"
             ],
             [
              0.7777777777777778,
              "#fb9f3a"
             ],
             [
              0.8888888888888888,
              "#fdca26"
             ],
             [
              1,
              "#f0f921"
             ]
            ],
            "type": "heatmap"
           }
          ],
          "heatmapgl": [
           {
            "colorbar": {
             "outlinewidth": 0,
             "ticks": ""
            },
            "colorscale": [
             [
              0,
              "#0d0887"
             ],
             [
              0.1111111111111111,
              "#46039f"
             ],
             [
              0.2222222222222222,
              "#7201a8"
             ],
             [
              0.3333333333333333,
              "#9c179e"
             ],
             [
              0.4444444444444444,
              "#bd3786"
             ],
             [
              0.5555555555555556,
              "#d8576b"
             ],
             [
              0.6666666666666666,
              "#ed7953"
             ],
             [
              0.7777777777777778,
              "#fb9f3a"
             ],
             [
              0.8888888888888888,
              "#fdca26"
             ],
             [
              1,
              "#f0f921"
             ]
            ],
            "type": "heatmapgl"
           }
          ],
          "histogram": [
           {
            "marker": {
             "pattern": {
              "fillmode": "overlay",
              "size": 10,
              "solidity": 0.2
             }
            },
            "type": "histogram"
           }
          ],
          "histogram2d": [
           {
            "colorbar": {
             "outlinewidth": 0,
             "ticks": ""
            },
            "colorscale": [
             [
              0,
              "#0d0887"
             ],
             [
              0.1111111111111111,
              "#46039f"
             ],
             [
              0.2222222222222222,
              "#7201a8"
             ],
             [
              0.3333333333333333,
              "#9c179e"
             ],
             [
              0.4444444444444444,
              "#bd3786"
             ],
             [
              0.5555555555555556,
              "#d8576b"
             ],
             [
              0.6666666666666666,
              "#ed7953"
             ],
             [
              0.7777777777777778,
              "#fb9f3a"
             ],
             [
              0.8888888888888888,
              "#fdca26"
             ],
             [
              1,
              "#f0f921"
             ]
            ],
            "type": "histogram2d"
           }
          ],
          "histogram2dcontour": [
           {
            "colorbar": {
             "outlinewidth": 0,
             "ticks": ""
            },
            "colorscale": [
             [
              0,
              "#0d0887"
             ],
             [
              0.1111111111111111,
              "#46039f"
             ],
             [
              0.2222222222222222,
              "#7201a8"
             ],
             [
              0.3333333333333333,
              "#9c179e"
             ],
             [
              0.4444444444444444,
              "#bd3786"
             ],
             [
              0.5555555555555556,
              "#d8576b"
             ],
             [
              0.6666666666666666,
              "#ed7953"
             ],
             [
              0.7777777777777778,
              "#fb9f3a"
             ],
             [
              0.8888888888888888,
              "#fdca26"
             ],
             [
              1,
              "#f0f921"
             ]
            ],
            "type": "histogram2dcontour"
           }
          ],
          "mesh3d": [
           {
            "colorbar": {
             "outlinewidth": 0,
             "ticks": ""
            },
            "type": "mesh3d"
           }
          ],
          "parcoords": [
           {
            "line": {
             "colorbar": {
              "outlinewidth": 0,
              "ticks": ""
             }
            },
            "type": "parcoords"
           }
          ],
          "pie": [
           {
            "automargin": true,
            "type": "pie"
           }
          ],
          "scatter": [
           {
            "marker": {
             "colorbar": {
              "outlinewidth": 0,
              "ticks": ""
             }
            },
            "type": "scatter"
           }
          ],
          "scatter3d": [
           {
            "line": {
             "colorbar": {
              "outlinewidth": 0,
              "ticks": ""
             }
            },
            "marker": {
             "colorbar": {
              "outlinewidth": 0,
              "ticks": ""
             }
            },
            "type": "scatter3d"
           }
          ],
          "scattercarpet": [
           {
            "marker": {
             "colorbar": {
              "outlinewidth": 0,
              "ticks": ""
             }
            },
            "type": "scattercarpet"
           }
          ],
          "scattergeo": [
           {
            "marker": {
             "colorbar": {
              "outlinewidth": 0,
              "ticks": ""
             }
            },
            "type": "scattergeo"
           }
          ],
          "scattergl": [
           {
            "marker": {
             "colorbar": {
              "outlinewidth": 0,
              "ticks": ""
             }
            },
            "type": "scattergl"
           }
          ],
          "scattermapbox": [
           {
            "marker": {
             "colorbar": {
              "outlinewidth": 0,
              "ticks": ""
             }
            },
            "type": "scattermapbox"
           }
          ],
          "scatterpolar": [
           {
            "marker": {
             "colorbar": {
              "outlinewidth": 0,
              "ticks": ""
             }
            },
            "type": "scatterpolar"
           }
          ],
          "scatterpolargl": [
           {
            "marker": {
             "colorbar": {
              "outlinewidth": 0,
              "ticks": ""
             }
            },
            "type": "scatterpolargl"
           }
          ],
          "scatterternary": [
           {
            "marker": {
             "colorbar": {
              "outlinewidth": 0,
              "ticks": ""
             }
            },
            "type": "scatterternary"
           }
          ],
          "surface": [
           {
            "colorbar": {
             "outlinewidth": 0,
             "ticks": ""
            },
            "colorscale": [
             [
              0,
              "#0d0887"
             ],
             [
              0.1111111111111111,
              "#46039f"
             ],
             [
              0.2222222222222222,
              "#7201a8"
             ],
             [
              0.3333333333333333,
              "#9c179e"
             ],
             [
              0.4444444444444444,
              "#bd3786"
             ],
             [
              0.5555555555555556,
              "#d8576b"
             ],
             [
              0.6666666666666666,
              "#ed7953"
             ],
             [
              0.7777777777777778,
              "#fb9f3a"
             ],
             [
              0.8888888888888888,
              "#fdca26"
             ],
             [
              1,
              "#f0f921"
             ]
            ],
            "type": "surface"
           }
          ],
          "table": [
           {
            "cells": {
             "fill": {
              "color": "#EBF0F8"
             },
             "line": {
              "color": "white"
             }
            },
            "header": {
             "fill": {
              "color": "#C8D4E3"
             },
             "line": {
              "color": "white"
             }
            },
            "type": "table"
           }
          ]
         },
         "layout": {
          "annotationdefaults": {
           "arrowcolor": "#2a3f5f",
           "arrowhead": 0,
           "arrowwidth": 1
          },
          "autotypenumbers": "strict",
          "coloraxis": {
           "colorbar": {
            "outlinewidth": 0,
            "ticks": ""
           }
          },
          "colorscale": {
           "diverging": [
            [
             0,
             "#8e0152"
            ],
            [
             0.1,
             "#c51b7d"
            ],
            [
             0.2,
             "#de77ae"
            ],
            [
             0.3,
             "#f1b6da"
            ],
            [
             0.4,
             "#fde0ef"
            ],
            [
             0.5,
             "#f7f7f7"
            ],
            [
             0.6,
             "#e6f5d0"
            ],
            [
             0.7,
             "#b8e186"
            ],
            [
             0.8,
             "#7fbc41"
            ],
            [
             0.9,
             "#4d9221"
            ],
            [
             1,
             "#276419"
            ]
           ],
           "sequential": [
            [
             0,
             "#0d0887"
            ],
            [
             0.1111111111111111,
             "#46039f"
            ],
            [
             0.2222222222222222,
             "#7201a8"
            ],
            [
             0.3333333333333333,
             "#9c179e"
            ],
            [
             0.4444444444444444,
             "#bd3786"
            ],
            [
             0.5555555555555556,
             "#d8576b"
            ],
            [
             0.6666666666666666,
             "#ed7953"
            ],
            [
             0.7777777777777778,
             "#fb9f3a"
            ],
            [
             0.8888888888888888,
             "#fdca26"
            ],
            [
             1,
             "#f0f921"
            ]
           ],
           "sequentialminus": [
            [
             0,
             "#0d0887"
            ],
            [
             0.1111111111111111,
             "#46039f"
            ],
            [
             0.2222222222222222,
             "#7201a8"
            ],
            [
             0.3333333333333333,
             "#9c179e"
            ],
            [
             0.4444444444444444,
             "#bd3786"
            ],
            [
             0.5555555555555556,
             "#d8576b"
            ],
            [
             0.6666666666666666,
             "#ed7953"
            ],
            [
             0.7777777777777778,
             "#fb9f3a"
            ],
            [
             0.8888888888888888,
             "#fdca26"
            ],
            [
             1,
             "#f0f921"
            ]
           ]
          },
          "colorway": [
           "#636efa",
           "#EF553B",
           "#00cc96",
           "#ab63fa",
           "#FFA15A",
           "#19d3f3",
           "#FF6692",
           "#B6E880",
           "#FF97FF",
           "#FECB52"
          ],
          "font": {
           "color": "#2a3f5f"
          },
          "geo": {
           "bgcolor": "white",
           "lakecolor": "white",
           "landcolor": "#E5ECF6",
           "showlakes": true,
           "showland": true,
           "subunitcolor": "white"
          },
          "hoverlabel": {
           "align": "left"
          },
          "hovermode": "closest",
          "mapbox": {
           "style": "light"
          },
          "paper_bgcolor": "white",
          "plot_bgcolor": "#E5ECF6",
          "polar": {
           "angularaxis": {
            "gridcolor": "white",
            "linecolor": "white",
            "ticks": ""
           },
           "bgcolor": "#E5ECF6",
           "radialaxis": {
            "gridcolor": "white",
            "linecolor": "white",
            "ticks": ""
           }
          },
          "scene": {
           "xaxis": {
            "backgroundcolor": "#E5ECF6",
            "gridcolor": "white",
            "gridwidth": 2,
            "linecolor": "white",
            "showbackground": true,
            "ticks": "",
            "zerolinecolor": "white"
           },
           "yaxis": {
            "backgroundcolor": "#E5ECF6",
            "gridcolor": "white",
            "gridwidth": 2,
            "linecolor": "white",
            "showbackground": true,
            "ticks": "",
            "zerolinecolor": "white"
           },
           "zaxis": {
            "backgroundcolor": "#E5ECF6",
            "gridcolor": "white",
            "gridwidth": 2,
            "linecolor": "white",
            "showbackground": true,
            "ticks": "",
            "zerolinecolor": "white"
           }
          },
          "shapedefaults": {
           "line": {
            "color": "#2a3f5f"
           }
          },
          "ternary": {
           "aaxis": {
            "gridcolor": "white",
            "linecolor": "white",
            "ticks": ""
           },
           "baxis": {
            "gridcolor": "white",
            "linecolor": "white",
            "ticks": ""
           },
           "bgcolor": "#E5ECF6",
           "caxis": {
            "gridcolor": "white",
            "linecolor": "white",
            "ticks": ""
           }
          },
          "title": {
           "x": 0.05
          },
          "xaxis": {
           "automargin": true,
           "gridcolor": "white",
           "linecolor": "white",
           "ticks": "",
           "title": {
            "standoff": 15
           },
           "zerolinecolor": "white",
           "zerolinewidth": 2
          },
          "yaxis": {
           "automargin": true,
           "gridcolor": "white",
           "linecolor": "white",
           "ticks": "",
           "title": {
            "standoff": 15
           },
           "zerolinecolor": "white",
           "zerolinewidth": 2
          }
         }
        },
        "title": {
         "text": "Evaluation of agents with different response times trained in envrionments of varying max. pertubation"
        },
        "width": 1000
       }
      },
      "text/html": [
       "<div>                            <div id=\"df5e72a3-53db-4666-a75d-a3f273a7c176\" class=\"plotly-graph-div\" style=\"height:1000px; width:1000px;\"></div>            <script type=\"text/javascript\">                require([\"plotly\"], function(Plotly) {                    window.PLOTLYENV=window.PLOTLYENV || {};                                    if (document.getElementById(\"df5e72a3-53db-4666-a75d-a3f273a7c176\")) {                    Plotly.newPlot(                        \"df5e72a3-53db-4666-a75d-a3f273a7c176\",                        [{\"type\":\"surface\",\"x\":[0.01,0.02,0.04,0.08,0.16,0.32,0.64,1.28],\"y\":[0.0,1.0,2.0,3.0,4.0,5.0,6.0,7.0,8.0,9.0,10.0],\"z\":[[35.088,85.36,78.344,87.936,9.408000000000001,0.32,0.64,1.28],[80.846,71.45599999999999,71.864,71.792,30.464000000000006,0.32,0.64,1.28],[62.896,80.536,85.40800000000002,89.6,16.768000000000004,0.32,0.64,1.28],[118.06799999999998,107.18800000000002,92.208,99.47200000000001,44.06400000000001,0.32,0.64,1.28],[86.96400000000001,142.196,101.92800000000001,83.47200000000001,16.192,0.32,0.64,1.28],[91.23800000000001,138.476,96.61600000000001,130.112,19.744,0.32,0.64,1.28],[135.23399999999998,140.51600000000002,116.92800000000003,81.248,33.312,0.32,0.64,1.28],[141.438,164.624,126.96000000000001,73.67999999999999,28.544,0.32,0.64,1.28],[138.38400000000001,158.42400000000004,107.976,115.984,13.728,0.32,0.64,1.28],[162.258,170.66800000000003,109.624,92.736,63.232000000000006,0.32,0.64,1.28],[129.00600000000003,147.84,106.84,106.83200000000002,17.504,0.32,0.64,1.28]]}],                        {\"height\":1000,\"scene\":{\"xaxis\":{\"tickvals\":[0.01,0.02,0.04,0.08,0.16,0.32,0.64,1.28],\"title\":{\"text\":\"Response Time\"},\"type\":\"log\"},\"yaxis\":{\"title\":{\"text\":\"Max. Pertubation during training\"}},\"zaxis\":{\"title\":{\"text\":\"Avg. Seconds during evaluation\"}}},\"template\":{\"data\":{\"bar\":[{\"error_x\":{\"color\":\"#2a3f5f\"},\"error_y\":{\"color\":\"#2a3f5f\"},\"marker\":{\"line\":{\"color\":\"#E5ECF6\",\"width\":0.5},\"pattern\":{\"fillmode\":\"overlay\",\"size\":10,\"solidity\":0.2}},\"type\":\"bar\"}],\"barpolar\":[{\"marker\":{\"line\":{\"color\":\"#E5ECF6\",\"width\":0.5},\"pattern\":{\"fillmode\":\"overlay\",\"size\":10,\"solidity\":0.2}},\"type\":\"barpolar\"}],\"carpet\":[{\"aaxis\":{\"endlinecolor\":\"#2a3f5f\",\"gridcolor\":\"white\",\"linecolor\":\"white\",\"minorgridcolor\":\"white\",\"startlinecolor\":\"#2a3f5f\"},\"baxis\":{\"endlinecolor\":\"#2a3f5f\",\"gridcolor\":\"white\",\"linecolor\":\"white\",\"minorgridcolor\":\"white\",\"startlinecolor\":\"#2a3f5f\"},\"type\":\"carpet\"}],\"choropleth\":[{\"colorbar\":{\"outlinewidth\":0,\"ticks\":\"\"},\"type\":\"choropleth\"}],\"contour\":[{\"colorbar\":{\"outlinewidth\":0,\"ticks\":\"\"},\"colorscale\":[[0.0,\"#0d0887\"],[0.1111111111111111,\"#46039f\"],[0.2222222222222222,\"#7201a8\"],[0.3333333333333333,\"#9c179e\"],[0.4444444444444444,\"#bd3786\"],[0.5555555555555556,\"#d8576b\"],[0.6666666666666666,\"#ed7953\"],[0.7777777777777778,\"#fb9f3a\"],[0.8888888888888888,\"#fdca26\"],[1.0,\"#f0f921\"]],\"type\":\"contour\"}],\"contourcarpet\":[{\"colorbar\":{\"outlinewidth\":0,\"ticks\":\"\"},\"type\":\"contourcarpet\"}],\"heatmap\":[{\"colorbar\":{\"outlinewidth\":0,\"ticks\":\"\"},\"colorscale\":[[0.0,\"#0d0887\"],[0.1111111111111111,\"#46039f\"],[0.2222222222222222,\"#7201a8\"],[0.3333333333333333,\"#9c179e\"],[0.4444444444444444,\"#bd3786\"],[0.5555555555555556,\"#d8576b\"],[0.6666666666666666,\"#ed7953\"],[0.7777777777777778,\"#fb9f3a\"],[0.8888888888888888,\"#fdca26\"],[1.0,\"#f0f921\"]],\"type\":\"heatmap\"}],\"heatmapgl\":[{\"colorbar\":{\"outlinewidth\":0,\"ticks\":\"\"},\"colorscale\":[[0.0,\"#0d0887\"],[0.1111111111111111,\"#46039f\"],[0.2222222222222222,\"#7201a8\"],[0.3333333333333333,\"#9c179e\"],[0.4444444444444444,\"#bd3786\"],[0.5555555555555556,\"#d8576b\"],[0.6666666666666666,\"#ed7953\"],[0.7777777777777778,\"#fb9f3a\"],[0.8888888888888888,\"#fdca26\"],[1.0,\"#f0f921\"]],\"type\":\"heatmapgl\"}],\"histogram\":[{\"marker\":{\"pattern\":{\"fillmode\":\"overlay\",\"size\":10,\"solidity\":0.2}},\"type\":\"histogram\"}],\"histogram2d\":[{\"colorbar\":{\"outlinewidth\":0,\"ticks\":\"\"},\"colorscale\":[[0.0,\"#0d0887\"],[0.1111111111111111,\"#46039f\"],[0.2222222222222222,\"#7201a8\"],[0.3333333333333333,\"#9c179e\"],[0.4444444444444444,\"#bd3786\"],[0.5555555555555556,\"#d8576b\"],[0.6666666666666666,\"#ed7953\"],[0.7777777777777778,\"#fb9f3a\"],[0.8888888888888888,\"#fdca26\"],[1.0,\"#f0f921\"]],\"type\":\"histogram2d\"}],\"histogram2dcontour\":[{\"colorbar\":{\"outlinewidth\":0,\"ticks\":\"\"},\"colorscale\":[[0.0,\"#0d0887\"],[0.1111111111111111,\"#46039f\"],[0.2222222222222222,\"#7201a8\"],[0.3333333333333333,\"#9c179e\"],[0.4444444444444444,\"#bd3786\"],[0.5555555555555556,\"#d8576b\"],[0.6666666666666666,\"#ed7953\"],[0.7777777777777778,\"#fb9f3a\"],[0.8888888888888888,\"#fdca26\"],[1.0,\"#f0f921\"]],\"type\":\"histogram2dcontour\"}],\"mesh3d\":[{\"colorbar\":{\"outlinewidth\":0,\"ticks\":\"\"},\"type\":\"mesh3d\"}],\"parcoords\":[{\"line\":{\"colorbar\":{\"outlinewidth\":0,\"ticks\":\"\"}},\"type\":\"parcoords\"}],\"pie\":[{\"automargin\":true,\"type\":\"pie\"}],\"scatter\":[{\"marker\":{\"colorbar\":{\"outlinewidth\":0,\"ticks\":\"\"}},\"type\":\"scatter\"}],\"scatter3d\":[{\"line\":{\"colorbar\":{\"outlinewidth\":0,\"ticks\":\"\"}},\"marker\":{\"colorbar\":{\"outlinewidth\":0,\"ticks\":\"\"}},\"type\":\"scatter3d\"}],\"scattercarpet\":[{\"marker\":{\"colorbar\":{\"outlinewidth\":0,\"ticks\":\"\"}},\"type\":\"scattercarpet\"}],\"scattergeo\":[{\"marker\":{\"colorbar\":{\"outlinewidth\":0,\"ticks\":\"\"}},\"type\":\"scattergeo\"}],\"scattergl\":[{\"marker\":{\"colorbar\":{\"outlinewidth\":0,\"ticks\":\"\"}},\"type\":\"scattergl\"}],\"scattermapbox\":[{\"marker\":{\"colorbar\":{\"outlinewidth\":0,\"ticks\":\"\"}},\"type\":\"scattermapbox\"}],\"scatterpolar\":[{\"marker\":{\"colorbar\":{\"outlinewidth\":0,\"ticks\":\"\"}},\"type\":\"scatterpolar\"}],\"scatterpolargl\":[{\"marker\":{\"colorbar\":{\"outlinewidth\":0,\"ticks\":\"\"}},\"type\":\"scatterpolargl\"}],\"scatterternary\":[{\"marker\":{\"colorbar\":{\"outlinewidth\":0,\"ticks\":\"\"}},\"type\":\"scatterternary\"}],\"surface\":[{\"colorbar\":{\"outlinewidth\":0,\"ticks\":\"\"},\"colorscale\":[[0.0,\"#0d0887\"],[0.1111111111111111,\"#46039f\"],[0.2222222222222222,\"#7201a8\"],[0.3333333333333333,\"#9c179e\"],[0.4444444444444444,\"#bd3786\"],[0.5555555555555556,\"#d8576b\"],[0.6666666666666666,\"#ed7953\"],[0.7777777777777778,\"#fb9f3a\"],[0.8888888888888888,\"#fdca26\"],[1.0,\"#f0f921\"]],\"type\":\"surface\"}],\"table\":[{\"cells\":{\"fill\":{\"color\":\"#EBF0F8\"},\"line\":{\"color\":\"white\"}},\"header\":{\"fill\":{\"color\":\"#C8D4E3\"},\"line\":{\"color\":\"white\"}},\"type\":\"table\"}]},\"layout\":{\"annotationdefaults\":{\"arrowcolor\":\"#2a3f5f\",\"arrowhead\":0,\"arrowwidth\":1},\"autotypenumbers\":\"strict\",\"coloraxis\":{\"colorbar\":{\"outlinewidth\":0,\"ticks\":\"\"}},\"colorscale\":{\"diverging\":[[0,\"#8e0152\"],[0.1,\"#c51b7d\"],[0.2,\"#de77ae\"],[0.3,\"#f1b6da\"],[0.4,\"#fde0ef\"],[0.5,\"#f7f7f7\"],[0.6,\"#e6f5d0\"],[0.7,\"#b8e186\"],[0.8,\"#7fbc41\"],[0.9,\"#4d9221\"],[1,\"#276419\"]],\"sequential\":[[0.0,\"#0d0887\"],[0.1111111111111111,\"#46039f\"],[0.2222222222222222,\"#7201a8\"],[0.3333333333333333,\"#9c179e\"],[0.4444444444444444,\"#bd3786\"],[0.5555555555555556,\"#d8576b\"],[0.6666666666666666,\"#ed7953\"],[0.7777777777777778,\"#fb9f3a\"],[0.8888888888888888,\"#fdca26\"],[1.0,\"#f0f921\"]],\"sequentialminus\":[[0.0,\"#0d0887\"],[0.1111111111111111,\"#46039f\"],[0.2222222222222222,\"#7201a8\"],[0.3333333333333333,\"#9c179e\"],[0.4444444444444444,\"#bd3786\"],[0.5555555555555556,\"#d8576b\"],[0.6666666666666666,\"#ed7953\"],[0.7777777777777778,\"#fb9f3a\"],[0.8888888888888888,\"#fdca26\"],[1.0,\"#f0f921\"]]},\"colorway\":[\"#636efa\",\"#EF553B\",\"#00cc96\",\"#ab63fa\",\"#FFA15A\",\"#19d3f3\",\"#FF6692\",\"#B6E880\",\"#FF97FF\",\"#FECB52\"],\"font\":{\"color\":\"#2a3f5f\"},\"geo\":{\"bgcolor\":\"white\",\"lakecolor\":\"white\",\"landcolor\":\"#E5ECF6\",\"showlakes\":true,\"showland\":true,\"subunitcolor\":\"white\"},\"hoverlabel\":{\"align\":\"left\"},\"hovermode\":\"closest\",\"mapbox\":{\"style\":\"light\"},\"paper_bgcolor\":\"white\",\"plot_bgcolor\":\"#E5ECF6\",\"polar\":{\"angularaxis\":{\"gridcolor\":\"white\",\"linecolor\":\"white\",\"ticks\":\"\"},\"bgcolor\":\"#E5ECF6\",\"radialaxis\":{\"gridcolor\":\"white\",\"linecolor\":\"white\",\"ticks\":\"\"}},\"scene\":{\"xaxis\":{\"backgroundcolor\":\"#E5ECF6\",\"gridcolor\":\"white\",\"gridwidth\":2,\"linecolor\":\"white\",\"showbackground\":true,\"ticks\":\"\",\"zerolinecolor\":\"white\"},\"yaxis\":{\"backgroundcolor\":\"#E5ECF6\",\"gridcolor\":\"white\",\"gridwidth\":2,\"linecolor\":\"white\",\"showbackground\":true,\"ticks\":\"\",\"zerolinecolor\":\"white\"},\"zaxis\":{\"backgroundcolor\":\"#E5ECF6\",\"gridcolor\":\"white\",\"gridwidth\":2,\"linecolor\":\"white\",\"showbackground\":true,\"ticks\":\"\",\"zerolinecolor\":\"white\"}},\"shapedefaults\":{\"line\":{\"color\":\"#2a3f5f\"}},\"ternary\":{\"aaxis\":{\"gridcolor\":\"white\",\"linecolor\":\"white\",\"ticks\":\"\"},\"baxis\":{\"gridcolor\":\"white\",\"linecolor\":\"white\",\"ticks\":\"\"},\"bgcolor\":\"#E5ECF6\",\"caxis\":{\"gridcolor\":\"white\",\"linecolor\":\"white\",\"ticks\":\"\"}},\"title\":{\"x\":0.05},\"xaxis\":{\"automargin\":true,\"gridcolor\":\"white\",\"linecolor\":\"white\",\"ticks\":\"\",\"title\":{\"standoff\":15},\"zerolinecolor\":\"white\",\"zerolinewidth\":2},\"yaxis\":{\"automargin\":true,\"gridcolor\":\"white\",\"linecolor\":\"white\",\"ticks\":\"\",\"title\":{\"standoff\":15},\"zerolinecolor\":\"white\",\"zerolinewidth\":2}}},\"title\":{\"text\":\"Evaluation of agents with different response times trained in envrionments of varying max. pertubation\"},\"width\":1000},                        {\"responsive\": true}                    ).then(function(){\n",
       "                            \n",
       "var gd = document.getElementById('df5e72a3-53db-4666-a75d-a3f273a7c176');\n",
       "var x = new MutationObserver(function (mutations, observer) {{\n",
       "        var display = window.getComputedStyle(gd).display;\n",
       "        if (!display || display === 'none') {{\n",
       "            console.log([gd, 'removed!']);\n",
       "            Plotly.purge(gd);\n",
       "            observer.disconnect();\n",
       "        }}\n",
       "}});\n",
       "\n",
       "// Listen for the removal of the full notebook cells\n",
       "var notebookContainer = gd.closest('#notebook-container');\n",
       "if (notebookContainer) {{\n",
       "    x.observe(notebookContainer, {childList: true});\n",
       "}}\n",
       "\n",
       "// Listen for the clearing of the current output cell\n",
       "var outputEl = gd.closest('.output');\n",
       "if (outputEl) {{\n",
       "    x.observe(outputEl, {childList: true});\n",
       "}}\n",
       "\n",
       "                        })                };                });            </script>        </div>"
      ]
     },
     "metadata": {},
     "output_type": "display_data"
    }
   ],
   "source": [
    "fig = go.Figure(data=[go.Surface(z=rewards, y=df['g_force'].unique(), x=df['response_rate'].unique())])\n",
    "\n",
    "fig.update_layout(title='Evaluation of agents with different response times trained in envrionments of varying max. pertubation',\n",
    "                  width=1000, height=1000)\n",
    "fig.update_layout(\n",
    "    scene = dict(\n",
    "        xaxis = dict( type='log', title='Response Time', tickvals=df['response_rate'].unique()),\n",
    "        yaxis = dict( title='Max. Pertubation during training'),\n",
    "        zaxis = dict( title='Avg. Seconds during evaluation')))"
   ]
  },
  {
   "cell_type": "code",
   "execution_count": 8,
   "metadata": {},
   "outputs": [
    {
     "data": {
      "application/vnd.plotly.v1+json": {
       "config": {
        "plotlyServerURL": "https://plot.ly"
       },
       "data": [
        {
         "contours": {
          "z": {
           "highlightcolor": "black",
           "project": {
            "z": true
           },
           "show": true,
           "usecolormap": true
          }
         },
         "type": "surface",
         "x": [
          0.01,
          0.02,
          0.04,
          0.08,
          0.16,
          0.32,
          0.64,
          1.28
         ],
         "y": [
          0,
          1,
          2,
          3,
          4,
          5
         ],
         "z": [
          [
           48.1225,
           83.13399999999999,
           74.77360000000002,
           84.2592,
           8.531200000000002,
           0.32,
           0.64,
           1.28
          ],
          [
           85.0994,
           77.10159999999999,
           77.4768,
           64.1056,
           29.100800000000003,
           0.32,
           0.64,
           1.28
          ],
          [
           69.37840000000001,
           82.85679999999999,
           87.9048,
           96.86720000000001,
           16.1568,
           0.32,
           0.64,
           1.28
          ],
          [
           109.163,
           101.8868,
           92.1488,
           79.7712,
           46.076,
           0.32,
           0.64,
           1.28
          ],
          [
           93.8828,
           125.58000000000001,
           100.18480000000001,
           84.85760000000002,
           22.6656,
           0.32,
           0.64,
           1.28
          ],
          [
           115.34400000000001,
           137.94119999999998,
           96.40799999999999,
           127.82240000000002,
           20.595200000000002,
           0.32,
           0.64,
           1.28
          ]
         ]
        }
       ],
       "layout": {
        "height": 1000,
        "scene": {
         "camera": {
          "eye": {
           "x": 1.87,
           "y": 0.88,
           "z": -0.64
          }
         },
         "xaxis": {
          "tickvals": [
           0.01,
           0.02,
           0.04,
           0.08,
           0.16,
           0.32,
           0.64,
           1.28
          ],
          "title": {
           "text": "Response Rate"
          },
          "type": "log"
         },
         "yaxis": {
          "title": {
           "text": "Max. Pertubation during training"
          }
         },
         "zaxis": {
          "title": {
           "text": "Avg. Seconds during evaluation"
          }
         }
        },
        "template": {
         "data": {
          "bar": [
           {
            "error_x": {
             "color": "#2a3f5f"
            },
            "error_y": {
             "color": "#2a3f5f"
            },
            "marker": {
             "line": {
              "color": "#E5ECF6",
              "width": 0.5
             },
             "pattern": {
              "fillmode": "overlay",
              "size": 10,
              "solidity": 0.2
             }
            },
            "type": "bar"
           }
          ],
          "barpolar": [
           {
            "marker": {
             "line": {
              "color": "#E5ECF6",
              "width": 0.5
             },
             "pattern": {
              "fillmode": "overlay",
              "size": 10,
              "solidity": 0.2
             }
            },
            "type": "barpolar"
           }
          ],
          "carpet": [
           {
            "aaxis": {
             "endlinecolor": "#2a3f5f",
             "gridcolor": "white",
             "linecolor": "white",
             "minorgridcolor": "white",
             "startlinecolor": "#2a3f5f"
            },
            "baxis": {
             "endlinecolor": "#2a3f5f",
             "gridcolor": "white",
             "linecolor": "white",
             "minorgridcolor": "white",
             "startlinecolor": "#2a3f5f"
            },
            "type": "carpet"
           }
          ],
          "choropleth": [
           {
            "colorbar": {
             "outlinewidth": 0,
             "ticks": ""
            },
            "type": "choropleth"
           }
          ],
          "contour": [
           {
            "colorbar": {
             "outlinewidth": 0,
             "ticks": ""
            },
            "colorscale": [
             [
              0,
              "#0d0887"
             ],
             [
              0.1111111111111111,
              "#46039f"
             ],
             [
              0.2222222222222222,
              "#7201a8"
             ],
             [
              0.3333333333333333,
              "#9c179e"
             ],
             [
              0.4444444444444444,
              "#bd3786"
             ],
             [
              0.5555555555555556,
              "#d8576b"
             ],
             [
              0.6666666666666666,
              "#ed7953"
             ],
             [
              0.7777777777777778,
              "#fb9f3a"
             ],
             [
              0.8888888888888888,
              "#fdca26"
             ],
             [
              1,
              "#f0f921"
             ]
            ],
            "type": "contour"
           }
          ],
          "contourcarpet": [
           {
            "colorbar": {
             "outlinewidth": 0,
             "ticks": ""
            },
            "type": "contourcarpet"
           }
          ],
          "heatmap": [
           {
            "colorbar": {
             "outlinewidth": 0,
             "ticks": ""
            },
            "colorscale": [
             [
              0,
              "#0d0887"
             ],
             [
              0.1111111111111111,
              "#46039f"
             ],
             [
              0.2222222222222222,
              "#7201a8"
             ],
             [
              0.3333333333333333,
              "#9c179e"
             ],
             [
              0.4444444444444444,
              "#bd3786"
             ],
             [
              0.5555555555555556,
              "#d8576b"
             ],
             [
              0.6666666666666666,
              "#ed7953"
             ],
             [
              0.7777777777777778,
              "#fb9f3a"
             ],
             [
              0.8888888888888888,
              "#fdca26"
             ],
             [
              1,
              "#f0f921"
             ]
            ],
            "type": "heatmap"
           }
          ],
          "heatmapgl": [
           {
            "colorbar": {
             "outlinewidth": 0,
             "ticks": ""
            },
            "colorscale": [
             [
              0,
              "#0d0887"
             ],
             [
              0.1111111111111111,
              "#46039f"
             ],
             [
              0.2222222222222222,
              "#7201a8"
             ],
             [
              0.3333333333333333,
              "#9c179e"
             ],
             [
              0.4444444444444444,
              "#bd3786"
             ],
             [
              0.5555555555555556,
              "#d8576b"
             ],
             [
              0.6666666666666666,
              "#ed7953"
             ],
             [
              0.7777777777777778,
              "#fb9f3a"
             ],
             [
              0.8888888888888888,
              "#fdca26"
             ],
             [
              1,
              "#f0f921"
             ]
            ],
            "type": "heatmapgl"
           }
          ],
          "histogram": [
           {
            "marker": {
             "pattern": {
              "fillmode": "overlay",
              "size": 10,
              "solidity": 0.2
             }
            },
            "type": "histogram"
           }
          ],
          "histogram2d": [
           {
            "colorbar": {
             "outlinewidth": 0,
             "ticks": ""
            },
            "colorscale": [
             [
              0,
              "#0d0887"
             ],
             [
              0.1111111111111111,
              "#46039f"
             ],
             [
              0.2222222222222222,
              "#7201a8"
             ],
             [
              0.3333333333333333,
              "#9c179e"
             ],
             [
              0.4444444444444444,
              "#bd3786"
             ],
             [
              0.5555555555555556,
              "#d8576b"
             ],
             [
              0.6666666666666666,
              "#ed7953"
             ],
             [
              0.7777777777777778,
              "#fb9f3a"
             ],
             [
              0.8888888888888888,
              "#fdca26"
             ],
             [
              1,
              "#f0f921"
             ]
            ],
            "type": "histogram2d"
           }
          ],
          "histogram2dcontour": [
           {
            "colorbar": {
             "outlinewidth": 0,
             "ticks": ""
            },
            "colorscale": [
             [
              0,
              "#0d0887"
             ],
             [
              0.1111111111111111,
              "#46039f"
             ],
             [
              0.2222222222222222,
              "#7201a8"
             ],
             [
              0.3333333333333333,
              "#9c179e"
             ],
             [
              0.4444444444444444,
              "#bd3786"
             ],
             [
              0.5555555555555556,
              "#d8576b"
             ],
             [
              0.6666666666666666,
              "#ed7953"
             ],
             [
              0.7777777777777778,
              "#fb9f3a"
             ],
             [
              0.8888888888888888,
              "#fdca26"
             ],
             [
              1,
              "#f0f921"
             ]
            ],
            "type": "histogram2dcontour"
           }
          ],
          "mesh3d": [
           {
            "colorbar": {
             "outlinewidth": 0,
             "ticks": ""
            },
            "type": "mesh3d"
           }
          ],
          "parcoords": [
           {
            "line": {
             "colorbar": {
              "outlinewidth": 0,
              "ticks": ""
             }
            },
            "type": "parcoords"
           }
          ],
          "pie": [
           {
            "automargin": true,
            "type": "pie"
           }
          ],
          "scatter": [
           {
            "marker": {
             "colorbar": {
              "outlinewidth": 0,
              "ticks": ""
             }
            },
            "type": "scatter"
           }
          ],
          "scatter3d": [
           {
            "line": {
             "colorbar": {
              "outlinewidth": 0,
              "ticks": ""
             }
            },
            "marker": {
             "colorbar": {
              "outlinewidth": 0,
              "ticks": ""
             }
            },
            "type": "scatter3d"
           }
          ],
          "scattercarpet": [
           {
            "marker": {
             "colorbar": {
              "outlinewidth": 0,
              "ticks": ""
             }
            },
            "type": "scattercarpet"
           }
          ],
          "scattergeo": [
           {
            "marker": {
             "colorbar": {
              "outlinewidth": 0,
              "ticks": ""
             }
            },
            "type": "scattergeo"
           }
          ],
          "scattergl": [
           {
            "marker": {
             "colorbar": {
              "outlinewidth": 0,
              "ticks": ""
             }
            },
            "type": "scattergl"
           }
          ],
          "scattermapbox": [
           {
            "marker": {
             "colorbar": {
              "outlinewidth": 0,
              "ticks": ""
             }
            },
            "type": "scattermapbox"
           }
          ],
          "scatterpolar": [
           {
            "marker": {
             "colorbar": {
              "outlinewidth": 0,
              "ticks": ""
             }
            },
            "type": "scatterpolar"
           }
          ],
          "scatterpolargl": [
           {
            "marker": {
             "colorbar": {
              "outlinewidth": 0,
              "ticks": ""
             }
            },
            "type": "scatterpolargl"
           }
          ],
          "scatterternary": [
           {
            "marker": {
             "colorbar": {
              "outlinewidth": 0,
              "ticks": ""
             }
            },
            "type": "scatterternary"
           }
          ],
          "surface": [
           {
            "colorbar": {
             "outlinewidth": 0,
             "ticks": ""
            },
            "colorscale": [
             [
              0,
              "#0d0887"
             ],
             [
              0.1111111111111111,
              "#46039f"
             ],
             [
              0.2222222222222222,
              "#7201a8"
             ],
             [
              0.3333333333333333,
              "#9c179e"
             ],
             [
              0.4444444444444444,
              "#bd3786"
             ],
             [
              0.5555555555555556,
              "#d8576b"
             ],
             [
              0.6666666666666666,
              "#ed7953"
             ],
             [
              0.7777777777777778,
              "#fb9f3a"
             ],
             [
              0.8888888888888888,
              "#fdca26"
             ],
             [
              1,
              "#f0f921"
             ]
            ],
            "type": "surface"
           }
          ],
          "table": [
           {
            "cells": {
             "fill": {
              "color": "#EBF0F8"
             },
             "line": {
              "color": "white"
             }
            },
            "header": {
             "fill": {
              "color": "#C8D4E3"
             },
             "line": {
              "color": "white"
             }
            },
            "type": "table"
           }
          ]
         },
         "layout": {
          "annotationdefaults": {
           "arrowcolor": "#2a3f5f",
           "arrowhead": 0,
           "arrowwidth": 1
          },
          "autotypenumbers": "strict",
          "coloraxis": {
           "colorbar": {
            "outlinewidth": 0,
            "ticks": ""
           }
          },
          "colorscale": {
           "diverging": [
            [
             0,
             "#8e0152"
            ],
            [
             0.1,
             "#c51b7d"
            ],
            [
             0.2,
             "#de77ae"
            ],
            [
             0.3,
             "#f1b6da"
            ],
            [
             0.4,
             "#fde0ef"
            ],
            [
             0.5,
             "#f7f7f7"
            ],
            [
             0.6,
             "#e6f5d0"
            ],
            [
             0.7,
             "#b8e186"
            ],
            [
             0.8,
             "#7fbc41"
            ],
            [
             0.9,
             "#4d9221"
            ],
            [
             1,
             "#276419"
            ]
           ],
           "sequential": [
            [
             0,
             "#0d0887"
            ],
            [
             0.1111111111111111,
             "#46039f"
            ],
            [
             0.2222222222222222,
             "#7201a8"
            ],
            [
             0.3333333333333333,
             "#9c179e"
            ],
            [
             0.4444444444444444,
             "#bd3786"
            ],
            [
             0.5555555555555556,
             "#d8576b"
            ],
            [
             0.6666666666666666,
             "#ed7953"
            ],
            [
             0.7777777777777778,
             "#fb9f3a"
            ],
            [
             0.8888888888888888,
             "#fdca26"
            ],
            [
             1,
             "#f0f921"
            ]
           ],
           "sequentialminus": [
            [
             0,
             "#0d0887"
            ],
            [
             0.1111111111111111,
             "#46039f"
            ],
            [
             0.2222222222222222,
             "#7201a8"
            ],
            [
             0.3333333333333333,
             "#9c179e"
            ],
            [
             0.4444444444444444,
             "#bd3786"
            ],
            [
             0.5555555555555556,
             "#d8576b"
            ],
            [
             0.6666666666666666,
             "#ed7953"
            ],
            [
             0.7777777777777778,
             "#fb9f3a"
            ],
            [
             0.8888888888888888,
             "#fdca26"
            ],
            [
             1,
             "#f0f921"
            ]
           ]
          },
          "colorway": [
           "#636efa",
           "#EF553B",
           "#00cc96",
           "#ab63fa",
           "#FFA15A",
           "#19d3f3",
           "#FF6692",
           "#B6E880",
           "#FF97FF",
           "#FECB52"
          ],
          "font": {
           "color": "#2a3f5f"
          },
          "geo": {
           "bgcolor": "white",
           "lakecolor": "white",
           "landcolor": "#E5ECF6",
           "showlakes": true,
           "showland": true,
           "subunitcolor": "white"
          },
          "hoverlabel": {
           "align": "left"
          },
          "hovermode": "closest",
          "mapbox": {
           "style": "light"
          },
          "paper_bgcolor": "white",
          "plot_bgcolor": "#E5ECF6",
          "polar": {
           "angularaxis": {
            "gridcolor": "white",
            "linecolor": "white",
            "ticks": ""
           },
           "bgcolor": "#E5ECF6",
           "radialaxis": {
            "gridcolor": "white",
            "linecolor": "white",
            "ticks": ""
           }
          },
          "scene": {
           "xaxis": {
            "backgroundcolor": "#E5ECF6",
            "gridcolor": "white",
            "gridwidth": 2,
            "linecolor": "white",
            "showbackground": true,
            "ticks": "",
            "zerolinecolor": "white"
           },
           "yaxis": {
            "backgroundcolor": "#E5ECF6",
            "gridcolor": "white",
            "gridwidth": 2,
            "linecolor": "white",
            "showbackground": true,
            "ticks": "",
            "zerolinecolor": "white"
           },
           "zaxis": {
            "backgroundcolor": "#E5ECF6",
            "gridcolor": "white",
            "gridwidth": 2,
            "linecolor": "white",
            "showbackground": true,
            "ticks": "",
            "zerolinecolor": "white"
           }
          },
          "shapedefaults": {
           "line": {
            "color": "#2a3f5f"
           }
          },
          "ternary": {
           "aaxis": {
            "gridcolor": "white",
            "linecolor": "white",
            "ticks": ""
           },
           "baxis": {
            "gridcolor": "white",
            "linecolor": "white",
            "ticks": ""
           },
           "bgcolor": "#E5ECF6",
           "caxis": {
            "gridcolor": "white",
            "linecolor": "white",
            "ticks": ""
           }
          },
          "title": {
           "x": 0.05
          },
          "xaxis": {
           "automargin": true,
           "gridcolor": "white",
           "linecolor": "white",
           "ticks": "",
           "title": {
            "standoff": 15
           },
           "zerolinecolor": "white",
           "zerolinewidth": 2
          },
          "yaxis": {
           "automargin": true,
           "gridcolor": "white",
           "linecolor": "white",
           "ticks": "",
           "title": {
            "standoff": 15
           },
           "zerolinecolor": "white",
           "zerolinewidth": 2
          }
         }
        },
        "title": {
         "text": "Evaluation of agents with different response times trained in envrionments of varying max. pertubation"
        },
        "width": 1000
       }
      },
      "text/html": [
       "<div>                            <div id=\"67cb8d39-8647-40b0-a893-3993f62e95ef\" class=\"plotly-graph-div\" style=\"height:1000px; width:1000px;\"></div>            <script type=\"text/javascript\">                require([\"plotly\"], function(Plotly) {                    window.PLOTLYENV=window.PLOTLYENV || {};                                    if (document.getElementById(\"67cb8d39-8647-40b0-a893-3993f62e95ef\")) {                    Plotly.newPlot(                        \"67cb8d39-8647-40b0-a893-3993f62e95ef\",                        [{\"contours\":{\"z\":{\"highlightcolor\":\"black\",\"project\":{\"z\":true},\"show\":true,\"usecolormap\":true}},\"type\":\"surface\",\"x\":[0.01,0.02,0.04,0.08,0.16,0.32,0.64,1.28],\"y\":[0.0,1.0,2.0,3.0,4.0,5.0],\"z\":[[48.1225,83.13399999999999,74.77360000000002,84.2592,8.531200000000002,0.32,0.64,1.28],[85.0994,77.10159999999999,77.4768,64.1056,29.100800000000003,0.32,0.64,1.28],[69.37840000000001,82.85679999999999,87.9048,96.86720000000001,16.1568,0.32,0.64,1.28],[109.163,101.8868,92.1488,79.7712,46.076,0.32,0.64,1.28],[93.8828,125.58000000000001,100.18480000000001,84.85760000000002,22.6656,0.32,0.64,1.28],[115.34400000000001,137.94119999999998,96.40799999999999,127.82240000000002,20.595200000000002,0.32,0.64,1.28]]}],                        {\"height\":1000,\"scene\":{\"camera\":{\"eye\":{\"x\":1.87,\"y\":0.88,\"z\":-0.64}},\"xaxis\":{\"tickvals\":[0.01,0.02,0.04,0.08,0.16,0.32,0.64,1.28],\"title\":{\"text\":\"Response Rate\"},\"type\":\"log\"},\"yaxis\":{\"title\":{\"text\":\"Max. Pertubation during training\"}},\"zaxis\":{\"title\":{\"text\":\"Avg. Seconds during evaluation\"}}},\"template\":{\"data\":{\"bar\":[{\"error_x\":{\"color\":\"#2a3f5f\"},\"error_y\":{\"color\":\"#2a3f5f\"},\"marker\":{\"line\":{\"color\":\"#E5ECF6\",\"width\":0.5},\"pattern\":{\"fillmode\":\"overlay\",\"size\":10,\"solidity\":0.2}},\"type\":\"bar\"}],\"barpolar\":[{\"marker\":{\"line\":{\"color\":\"#E5ECF6\",\"width\":0.5},\"pattern\":{\"fillmode\":\"overlay\",\"size\":10,\"solidity\":0.2}},\"type\":\"barpolar\"}],\"carpet\":[{\"aaxis\":{\"endlinecolor\":\"#2a3f5f\",\"gridcolor\":\"white\",\"linecolor\":\"white\",\"minorgridcolor\":\"white\",\"startlinecolor\":\"#2a3f5f\"},\"baxis\":{\"endlinecolor\":\"#2a3f5f\",\"gridcolor\":\"white\",\"linecolor\":\"white\",\"minorgridcolor\":\"white\",\"startlinecolor\":\"#2a3f5f\"},\"type\":\"carpet\"}],\"choropleth\":[{\"colorbar\":{\"outlinewidth\":0,\"ticks\":\"\"},\"type\":\"choropleth\"}],\"contour\":[{\"colorbar\":{\"outlinewidth\":0,\"ticks\":\"\"},\"colorscale\":[[0.0,\"#0d0887\"],[0.1111111111111111,\"#46039f\"],[0.2222222222222222,\"#7201a8\"],[0.3333333333333333,\"#9c179e\"],[0.4444444444444444,\"#bd3786\"],[0.5555555555555556,\"#d8576b\"],[0.6666666666666666,\"#ed7953\"],[0.7777777777777778,\"#fb9f3a\"],[0.8888888888888888,\"#fdca26\"],[1.0,\"#f0f921\"]],\"type\":\"contour\"}],\"contourcarpet\":[{\"colorbar\":{\"outlinewidth\":0,\"ticks\":\"\"},\"type\":\"contourcarpet\"}],\"heatmap\":[{\"colorbar\":{\"outlinewidth\":0,\"ticks\":\"\"},\"colorscale\":[[0.0,\"#0d0887\"],[0.1111111111111111,\"#46039f\"],[0.2222222222222222,\"#7201a8\"],[0.3333333333333333,\"#9c179e\"],[0.4444444444444444,\"#bd3786\"],[0.5555555555555556,\"#d8576b\"],[0.6666666666666666,\"#ed7953\"],[0.7777777777777778,\"#fb9f3a\"],[0.8888888888888888,\"#fdca26\"],[1.0,\"#f0f921\"]],\"type\":\"heatmap\"}],\"heatmapgl\":[{\"colorbar\":{\"outlinewidth\":0,\"ticks\":\"\"},\"colorscale\":[[0.0,\"#0d0887\"],[0.1111111111111111,\"#46039f\"],[0.2222222222222222,\"#7201a8\"],[0.3333333333333333,\"#9c179e\"],[0.4444444444444444,\"#bd3786\"],[0.5555555555555556,\"#d8576b\"],[0.6666666666666666,\"#ed7953\"],[0.7777777777777778,\"#fb9f3a\"],[0.8888888888888888,\"#fdca26\"],[1.0,\"#f0f921\"]],\"type\":\"heatmapgl\"}],\"histogram\":[{\"marker\":{\"pattern\":{\"fillmode\":\"overlay\",\"size\":10,\"solidity\":0.2}},\"type\":\"histogram\"}],\"histogram2d\":[{\"colorbar\":{\"outlinewidth\":0,\"ticks\":\"\"},\"colorscale\":[[0.0,\"#0d0887\"],[0.1111111111111111,\"#46039f\"],[0.2222222222222222,\"#7201a8\"],[0.3333333333333333,\"#9c179e\"],[0.4444444444444444,\"#bd3786\"],[0.5555555555555556,\"#d8576b\"],[0.6666666666666666,\"#ed7953\"],[0.7777777777777778,\"#fb9f3a\"],[0.8888888888888888,\"#fdca26\"],[1.0,\"#f0f921\"]],\"type\":\"histogram2d\"}],\"histogram2dcontour\":[{\"colorbar\":{\"outlinewidth\":0,\"ticks\":\"\"},\"colorscale\":[[0.0,\"#0d0887\"],[0.1111111111111111,\"#46039f\"],[0.2222222222222222,\"#7201a8\"],[0.3333333333333333,\"#9c179e\"],[0.4444444444444444,\"#bd3786\"],[0.5555555555555556,\"#d8576b\"],[0.6666666666666666,\"#ed7953\"],[0.7777777777777778,\"#fb9f3a\"],[0.8888888888888888,\"#fdca26\"],[1.0,\"#f0f921\"]],\"type\":\"histogram2dcontour\"}],\"mesh3d\":[{\"colorbar\":{\"outlinewidth\":0,\"ticks\":\"\"},\"type\":\"mesh3d\"}],\"parcoords\":[{\"line\":{\"colorbar\":{\"outlinewidth\":0,\"ticks\":\"\"}},\"type\":\"parcoords\"}],\"pie\":[{\"automargin\":true,\"type\":\"pie\"}],\"scatter\":[{\"marker\":{\"colorbar\":{\"outlinewidth\":0,\"ticks\":\"\"}},\"type\":\"scatter\"}],\"scatter3d\":[{\"line\":{\"colorbar\":{\"outlinewidth\":0,\"ticks\":\"\"}},\"marker\":{\"colorbar\":{\"outlinewidth\":0,\"ticks\":\"\"}},\"type\":\"scatter3d\"}],\"scattercarpet\":[{\"marker\":{\"colorbar\":{\"outlinewidth\":0,\"ticks\":\"\"}},\"type\":\"scattercarpet\"}],\"scattergeo\":[{\"marker\":{\"colorbar\":{\"outlinewidth\":0,\"ticks\":\"\"}},\"type\":\"scattergeo\"}],\"scattergl\":[{\"marker\":{\"colorbar\":{\"outlinewidth\":0,\"ticks\":\"\"}},\"type\":\"scattergl\"}],\"scattermapbox\":[{\"marker\":{\"colorbar\":{\"outlinewidth\":0,\"ticks\":\"\"}},\"type\":\"scattermapbox\"}],\"scatterpolar\":[{\"marker\":{\"colorbar\":{\"outlinewidth\":0,\"ticks\":\"\"}},\"type\":\"scatterpolar\"}],\"scatterpolargl\":[{\"marker\":{\"colorbar\":{\"outlinewidth\":0,\"ticks\":\"\"}},\"type\":\"scatterpolargl\"}],\"scatterternary\":[{\"marker\":{\"colorbar\":{\"outlinewidth\":0,\"ticks\":\"\"}},\"type\":\"scatterternary\"}],\"surface\":[{\"colorbar\":{\"outlinewidth\":0,\"ticks\":\"\"},\"colorscale\":[[0.0,\"#0d0887\"],[0.1111111111111111,\"#46039f\"],[0.2222222222222222,\"#7201a8\"],[0.3333333333333333,\"#9c179e\"],[0.4444444444444444,\"#bd3786\"],[0.5555555555555556,\"#d8576b\"],[0.6666666666666666,\"#ed7953\"],[0.7777777777777778,\"#fb9f3a\"],[0.8888888888888888,\"#fdca26\"],[1.0,\"#f0f921\"]],\"type\":\"surface\"}],\"table\":[{\"cells\":{\"fill\":{\"color\":\"#EBF0F8\"},\"line\":{\"color\":\"white\"}},\"header\":{\"fill\":{\"color\":\"#C8D4E3\"},\"line\":{\"color\":\"white\"}},\"type\":\"table\"}]},\"layout\":{\"annotationdefaults\":{\"arrowcolor\":\"#2a3f5f\",\"arrowhead\":0,\"arrowwidth\":1},\"autotypenumbers\":\"strict\",\"coloraxis\":{\"colorbar\":{\"outlinewidth\":0,\"ticks\":\"\"}},\"colorscale\":{\"diverging\":[[0,\"#8e0152\"],[0.1,\"#c51b7d\"],[0.2,\"#de77ae\"],[0.3,\"#f1b6da\"],[0.4,\"#fde0ef\"],[0.5,\"#f7f7f7\"],[0.6,\"#e6f5d0\"],[0.7,\"#b8e186\"],[0.8,\"#7fbc41\"],[0.9,\"#4d9221\"],[1,\"#276419\"]],\"sequential\":[[0.0,\"#0d0887\"],[0.1111111111111111,\"#46039f\"],[0.2222222222222222,\"#7201a8\"],[0.3333333333333333,\"#9c179e\"],[0.4444444444444444,\"#bd3786\"],[0.5555555555555556,\"#d8576b\"],[0.6666666666666666,\"#ed7953\"],[0.7777777777777778,\"#fb9f3a\"],[0.8888888888888888,\"#fdca26\"],[1.0,\"#f0f921\"]],\"sequentialminus\":[[0.0,\"#0d0887\"],[0.1111111111111111,\"#46039f\"],[0.2222222222222222,\"#7201a8\"],[0.3333333333333333,\"#9c179e\"],[0.4444444444444444,\"#bd3786\"],[0.5555555555555556,\"#d8576b\"],[0.6666666666666666,\"#ed7953\"],[0.7777777777777778,\"#fb9f3a\"],[0.8888888888888888,\"#fdca26\"],[1.0,\"#f0f921\"]]},\"colorway\":[\"#636efa\",\"#EF553B\",\"#00cc96\",\"#ab63fa\",\"#FFA15A\",\"#19d3f3\",\"#FF6692\",\"#B6E880\",\"#FF97FF\",\"#FECB52\"],\"font\":{\"color\":\"#2a3f5f\"},\"geo\":{\"bgcolor\":\"white\",\"lakecolor\":\"white\",\"landcolor\":\"#E5ECF6\",\"showlakes\":true,\"showland\":true,\"subunitcolor\":\"white\"},\"hoverlabel\":{\"align\":\"left\"},\"hovermode\":\"closest\",\"mapbox\":{\"style\":\"light\"},\"paper_bgcolor\":\"white\",\"plot_bgcolor\":\"#E5ECF6\",\"polar\":{\"angularaxis\":{\"gridcolor\":\"white\",\"linecolor\":\"white\",\"ticks\":\"\"},\"bgcolor\":\"#E5ECF6\",\"radialaxis\":{\"gridcolor\":\"white\",\"linecolor\":\"white\",\"ticks\":\"\"}},\"scene\":{\"xaxis\":{\"backgroundcolor\":\"#E5ECF6\",\"gridcolor\":\"white\",\"gridwidth\":2,\"linecolor\":\"white\",\"showbackground\":true,\"ticks\":\"\",\"zerolinecolor\":\"white\"},\"yaxis\":{\"backgroundcolor\":\"#E5ECF6\",\"gridcolor\":\"white\",\"gridwidth\":2,\"linecolor\":\"white\",\"showbackground\":true,\"ticks\":\"\",\"zerolinecolor\":\"white\"},\"zaxis\":{\"backgroundcolor\":\"#E5ECF6\",\"gridcolor\":\"white\",\"gridwidth\":2,\"linecolor\":\"white\",\"showbackground\":true,\"ticks\":\"\",\"zerolinecolor\":\"white\"}},\"shapedefaults\":{\"line\":{\"color\":\"#2a3f5f\"}},\"ternary\":{\"aaxis\":{\"gridcolor\":\"white\",\"linecolor\":\"white\",\"ticks\":\"\"},\"baxis\":{\"gridcolor\":\"white\",\"linecolor\":\"white\",\"ticks\":\"\"},\"bgcolor\":\"#E5ECF6\",\"caxis\":{\"gridcolor\":\"white\",\"linecolor\":\"white\",\"ticks\":\"\"}},\"title\":{\"x\":0.05},\"xaxis\":{\"automargin\":true,\"gridcolor\":\"white\",\"linecolor\":\"white\",\"ticks\":\"\",\"title\":{\"standoff\":15},\"zerolinecolor\":\"white\",\"zerolinewidth\":2},\"yaxis\":{\"automargin\":true,\"gridcolor\":\"white\",\"linecolor\":\"white\",\"ticks\":\"\",\"title\":{\"standoff\":15},\"zerolinecolor\":\"white\",\"zerolinewidth\":2}}},\"title\":{\"text\":\"Evaluation of agents with different response times trained in envrionments of varying max. pertubation\"},\"width\":1000},                        {\"responsive\": true}                    ).then(function(){\n",
       "                            \n",
       "var gd = document.getElementById('67cb8d39-8647-40b0-a893-3993f62e95ef');\n",
       "var x = new MutationObserver(function (mutations, observer) {{\n",
       "        var display = window.getComputedStyle(gd).display;\n",
       "        if (!display || display === 'none') {{\n",
       "            console.log([gd, 'removed!']);\n",
       "            Plotly.purge(gd);\n",
       "            observer.disconnect();\n",
       "        }}\n",
       "}});\n",
       "\n",
       "// Listen for the removal of the full notebook cells\n",
       "var notebookContainer = gd.closest('#notebook-container');\n",
       "if (notebookContainer) {{\n",
       "    x.observe(notebookContainer, {childList: true});\n",
       "}}\n",
       "\n",
       "// Listen for the clearing of the current output cell\n",
       "var outputEl = gd.closest('.output');\n",
       "if (outputEl) {{\n",
       "    x.observe(outputEl, {childList: true});\n",
       "}}\n",
       "\n",
       "                        })                };                });            </script>        </div>"
      ]
     },
     "metadata": {},
     "output_type": "display_data"
    }
   ],
   "source": [
    "fig = go.Figure(data=[go.Surface(z=rewards, y=df['g_force'].unique(), x=df['response_rate'].unique())])\n",
    "\n",
    "fig.update_layout(title='Evaluation of agents with different response times trained in envrionments of varying max. pertubation',\n",
    "                  width=1000, height=1000, scene_camera_eye=dict(x=1.87, y=0.88, z=-0.64))\n",
    "fig.update_layout(\n",
    "    scene = dict(\n",
    "        xaxis = dict( type='log', title='Response Rate', tickvals=df['response_rate'].unique()),\n",
    "        yaxis = dict( title='Max. Pertubation during training'),\n",
    "        zaxis = dict( title='Avg. Seconds during evaluation')))\n",
    "fig.update_traces(contours_z=dict(show=True, usecolormap=True,\n",
    "                                  highlightcolor=\"black\", project_z=True))"
   ]
  },
  {
   "cell_type": "code",
   "execution_count": 35,
   "metadata": {},
   "outputs": [
    {
     "data": {
      "application/vnd.plotly.v1+json": {
       "config": {
        "plotlyServerURL": "https://plot.ly"
       },
       "data": [
        {
         "type": "heatmap",
         "x": [
          "0.01",
          "0.02",
          "0.04",
          "0.08",
          "0.16",
          "0.32",
          "0.64",
          "1.28"
         ],
         "y": [
          "0.0",
          "1.0",
          "2.0",
          "3.0",
          "4.0",
          "5.0",
          "6.0",
          "7.0",
          "8.0",
          "9.0",
          "10.0",
          "11.0",
          "12.0",
          "13.0",
          "14.0",
          "15.0"
         ],
         "z": [
          [
           49.853750000000005,
           85.1504,
           72.3648,
           87.41279999999999,
           8.5888,
           0.32,
           0.64,
           1.28
          ],
          [
           84.002,
           76.2316,
           75.04080000000002,
           64.75359999999999,
           29.0048,
           0.32,
           0.64,
           1.28
          ],
          [
           71.5318,
           82.2592,
           86.88880000000002,
           97.1936,
           14.838400000000002,
           0.32,
           0.64,
           1.28
          ],
          [
           106.87100000000001,
           102.76999999999998,
           90.86480000000002,
           81.07360000000001,
           45.120000000000005,
           0.32,
           0.64,
           1.28
          ],
          [
           88.72460000000001,
           130.69520000000003,
           102.468,
           83.3312,
           21.0208,
           0.32,
           0.64,
           1.28
          ],
          [
           114.9926,
           136.5984,
           94.47439999999999,
           129.32,
           21.043200000000006,
           0.32,
           0.64,
           1.28
          ],
          [
           135.7784,
           136.36719999999997,
           121.93360000000003,
           79.24159999999999,
           35.436800000000005,
           0.32,
           0.64,
           1.28
          ],
          [
           151.0705,
           161.2364,
           133.4456,
           76.2144,
           32.0992,
           0.32,
           0.64,
           1.28
          ],
          [
           141.41420000000002,
           154.55480000000003,
           136.54700000000003,
           117.06800000000001,
           10.374400000000001,
           0.32,
           0.64,
           1.28
          ],
          [
           153.0934,
           164.4644,
           116.62639999999999,
           98.8176,
           68.58560000000001,
           0.32,
           0.64,
           1.28
          ],
          [
           129.75,
           143.4924,
           111.4336,
           106.7536,
           20.998400000000004,
           0.32,
           0.64,
           1.28
          ],
          [
           138.93720000000002,
           122.74279999999999,
           139.2208,
           104.88480000000001,
           38.6784,
           0.32,
           0.64,
           1.28
          ],
          [
           112.9754,
           99.94160000000002,
           94.70560000000002,
           85.20160000000001,
           28.2048,
           0.32,
           0.64,
           1.28
          ],
          [
           114.982,
           116.6932,
           128.572,
           84.5328,
           25.129600000000003,
           0.32,
           0.64,
           1.28
          ],
          [
           126.9748,
           124.9808,
           143.056,
           119.9136,
           29.4304,
           0.32,
           0.64,
           1.28
          ],
          [
           130.452,
           94.65599999999999,
           146.82000000000002,
           109.5328,
           20.7328,
           0.32,
           0.64,
           1.28
          ]
         ]
        }
       ],
       "layout": {
        "template": {
         "data": {
          "bar": [
           {
            "error_x": {
             "color": "#2a3f5f"
            },
            "error_y": {
             "color": "#2a3f5f"
            },
            "marker": {
             "line": {
              "color": "#E5ECF6",
              "width": 0.5
             },
             "pattern": {
              "fillmode": "overlay",
              "size": 10,
              "solidity": 0.2
             }
            },
            "type": "bar"
           }
          ],
          "barpolar": [
           {
            "marker": {
             "line": {
              "color": "#E5ECF6",
              "width": 0.5
             },
             "pattern": {
              "fillmode": "overlay",
              "size": 10,
              "solidity": 0.2
             }
            },
            "type": "barpolar"
           }
          ],
          "carpet": [
           {
            "aaxis": {
             "endlinecolor": "#2a3f5f",
             "gridcolor": "white",
             "linecolor": "white",
             "minorgridcolor": "white",
             "startlinecolor": "#2a3f5f"
            },
            "baxis": {
             "endlinecolor": "#2a3f5f",
             "gridcolor": "white",
             "linecolor": "white",
             "minorgridcolor": "white",
             "startlinecolor": "#2a3f5f"
            },
            "type": "carpet"
           }
          ],
          "choropleth": [
           {
            "colorbar": {
             "outlinewidth": 0,
             "ticks": ""
            },
            "type": "choropleth"
           }
          ],
          "contour": [
           {
            "colorbar": {
             "outlinewidth": 0,
             "ticks": ""
            },
            "colorscale": [
             [
              0,
              "#0d0887"
             ],
             [
              0.1111111111111111,
              "#46039f"
             ],
             [
              0.2222222222222222,
              "#7201a8"
             ],
             [
              0.3333333333333333,
              "#9c179e"
             ],
             [
              0.4444444444444444,
              "#bd3786"
             ],
             [
              0.5555555555555556,
              "#d8576b"
             ],
             [
              0.6666666666666666,
              "#ed7953"
             ],
             [
              0.7777777777777778,
              "#fb9f3a"
             ],
             [
              0.8888888888888888,
              "#fdca26"
             ],
             [
              1,
              "#f0f921"
             ]
            ],
            "type": "contour"
           }
          ],
          "contourcarpet": [
           {
            "colorbar": {
             "outlinewidth": 0,
             "ticks": ""
            },
            "type": "contourcarpet"
           }
          ],
          "heatmap": [
           {
            "colorbar": {
             "outlinewidth": 0,
             "ticks": ""
            },
            "colorscale": [
             [
              0,
              "#0d0887"
             ],
             [
              0.1111111111111111,
              "#46039f"
             ],
             [
              0.2222222222222222,
              "#7201a8"
             ],
             [
              0.3333333333333333,
              "#9c179e"
             ],
             [
              0.4444444444444444,
              "#bd3786"
             ],
             [
              0.5555555555555556,
              "#d8576b"
             ],
             [
              0.6666666666666666,
              "#ed7953"
             ],
             [
              0.7777777777777778,
              "#fb9f3a"
             ],
             [
              0.8888888888888888,
              "#fdca26"
             ],
             [
              1,
              "#f0f921"
             ]
            ],
            "type": "heatmap"
           }
          ],
          "heatmapgl": [
           {
            "colorbar": {
             "outlinewidth": 0,
             "ticks": ""
            },
            "colorscale": [
             [
              0,
              "#0d0887"
             ],
             [
              0.1111111111111111,
              "#46039f"
             ],
             [
              0.2222222222222222,
              "#7201a8"
             ],
             [
              0.3333333333333333,
              "#9c179e"
             ],
             [
              0.4444444444444444,
              "#bd3786"
             ],
             [
              0.5555555555555556,
              "#d8576b"
             ],
             [
              0.6666666666666666,
              "#ed7953"
             ],
             [
              0.7777777777777778,
              "#fb9f3a"
             ],
             [
              0.8888888888888888,
              "#fdca26"
             ],
             [
              1,
              "#f0f921"
             ]
            ],
            "type": "heatmapgl"
           }
          ],
          "histogram": [
           {
            "marker": {
             "pattern": {
              "fillmode": "overlay",
              "size": 10,
              "solidity": 0.2
             }
            },
            "type": "histogram"
           }
          ],
          "histogram2d": [
           {
            "colorbar": {
             "outlinewidth": 0,
             "ticks": ""
            },
            "colorscale": [
             [
              0,
              "#0d0887"
             ],
             [
              0.1111111111111111,
              "#46039f"
             ],
             [
              0.2222222222222222,
              "#7201a8"
             ],
             [
              0.3333333333333333,
              "#9c179e"
             ],
             [
              0.4444444444444444,
              "#bd3786"
             ],
             [
              0.5555555555555556,
              "#d8576b"
             ],
             [
              0.6666666666666666,
              "#ed7953"
             ],
             [
              0.7777777777777778,
              "#fb9f3a"
             ],
             [
              0.8888888888888888,
              "#fdca26"
             ],
             [
              1,
              "#f0f921"
             ]
            ],
            "type": "histogram2d"
           }
          ],
          "histogram2dcontour": [
           {
            "colorbar": {
             "outlinewidth": 0,
             "ticks": ""
            },
            "colorscale": [
             [
              0,
              "#0d0887"
             ],
             [
              0.1111111111111111,
              "#46039f"
             ],
             [
              0.2222222222222222,
              "#7201a8"
             ],
             [
              0.3333333333333333,
              "#9c179e"
             ],
             [
              0.4444444444444444,
              "#bd3786"
             ],
             [
              0.5555555555555556,
              "#d8576b"
             ],
             [
              0.6666666666666666,
              "#ed7953"
             ],
             [
              0.7777777777777778,
              "#fb9f3a"
             ],
             [
              0.8888888888888888,
              "#fdca26"
             ],
             [
              1,
              "#f0f921"
             ]
            ],
            "type": "histogram2dcontour"
           }
          ],
          "mesh3d": [
           {
            "colorbar": {
             "outlinewidth": 0,
             "ticks": ""
            },
            "type": "mesh3d"
           }
          ],
          "parcoords": [
           {
            "line": {
             "colorbar": {
              "outlinewidth": 0,
              "ticks": ""
             }
            },
            "type": "parcoords"
           }
          ],
          "pie": [
           {
            "automargin": true,
            "type": "pie"
           }
          ],
          "scatter": [
           {
            "marker": {
             "colorbar": {
              "outlinewidth": 0,
              "ticks": ""
             }
            },
            "type": "scatter"
           }
          ],
          "scatter3d": [
           {
            "line": {
             "colorbar": {
              "outlinewidth": 0,
              "ticks": ""
             }
            },
            "marker": {
             "colorbar": {
              "outlinewidth": 0,
              "ticks": ""
             }
            },
            "type": "scatter3d"
           }
          ],
          "scattercarpet": [
           {
            "marker": {
             "colorbar": {
              "outlinewidth": 0,
              "ticks": ""
             }
            },
            "type": "scattercarpet"
           }
          ],
          "scattergeo": [
           {
            "marker": {
             "colorbar": {
              "outlinewidth": 0,
              "ticks": ""
             }
            },
            "type": "scattergeo"
           }
          ],
          "scattergl": [
           {
            "marker": {
             "colorbar": {
              "outlinewidth": 0,
              "ticks": ""
             }
            },
            "type": "scattergl"
           }
          ],
          "scattermapbox": [
           {
            "marker": {
             "colorbar": {
              "outlinewidth": 0,
              "ticks": ""
             }
            },
            "type": "scattermapbox"
           }
          ],
          "scatterpolar": [
           {
            "marker": {
             "colorbar": {
              "outlinewidth": 0,
              "ticks": ""
             }
            },
            "type": "scatterpolar"
           }
          ],
          "scatterpolargl": [
           {
            "marker": {
             "colorbar": {
              "outlinewidth": 0,
              "ticks": ""
             }
            },
            "type": "scatterpolargl"
           }
          ],
          "scatterternary": [
           {
            "marker": {
             "colorbar": {
              "outlinewidth": 0,
              "ticks": ""
             }
            },
            "type": "scatterternary"
           }
          ],
          "surface": [
           {
            "colorbar": {
             "outlinewidth": 0,
             "ticks": ""
            },
            "colorscale": [
             [
              0,
              "#0d0887"
             ],
             [
              0.1111111111111111,
              "#46039f"
             ],
             [
              0.2222222222222222,
              "#7201a8"
             ],
             [
              0.3333333333333333,
              "#9c179e"
             ],
             [
              0.4444444444444444,
              "#bd3786"
             ],
             [
              0.5555555555555556,
              "#d8576b"
             ],
             [
              0.6666666666666666,
              "#ed7953"
             ],
             [
              0.7777777777777778,
              "#fb9f3a"
             ],
             [
              0.8888888888888888,
              "#fdca26"
             ],
             [
              1,
              "#f0f921"
             ]
            ],
            "type": "surface"
           }
          ],
          "table": [
           {
            "cells": {
             "fill": {
              "color": "#EBF0F8"
             },
             "line": {
              "color": "white"
             }
            },
            "header": {
             "fill": {
              "color": "#C8D4E3"
             },
             "line": {
              "color": "white"
             }
            },
            "type": "table"
           }
          ]
         },
         "layout": {
          "annotationdefaults": {
           "arrowcolor": "#2a3f5f",
           "arrowhead": 0,
           "arrowwidth": 1
          },
          "autotypenumbers": "strict",
          "coloraxis": {
           "colorbar": {
            "outlinewidth": 0,
            "ticks": ""
           }
          },
          "colorscale": {
           "diverging": [
            [
             0,
             "#8e0152"
            ],
            [
             0.1,
             "#c51b7d"
            ],
            [
             0.2,
             "#de77ae"
            ],
            [
             0.3,
             "#f1b6da"
            ],
            [
             0.4,
             "#fde0ef"
            ],
            [
             0.5,
             "#f7f7f7"
            ],
            [
             0.6,
             "#e6f5d0"
            ],
            [
             0.7,
             "#b8e186"
            ],
            [
             0.8,
             "#7fbc41"
            ],
            [
             0.9,
             "#4d9221"
            ],
            [
             1,
             "#276419"
            ]
           ],
           "sequential": [
            [
             0,
             "#0d0887"
            ],
            [
             0.1111111111111111,
             "#46039f"
            ],
            [
             0.2222222222222222,
             "#7201a8"
            ],
            [
             0.3333333333333333,
             "#9c179e"
            ],
            [
             0.4444444444444444,
             "#bd3786"
            ],
            [
             0.5555555555555556,
             "#d8576b"
            ],
            [
             0.6666666666666666,
             "#ed7953"
            ],
            [
             0.7777777777777778,
             "#fb9f3a"
            ],
            [
             0.8888888888888888,
             "#fdca26"
            ],
            [
             1,
             "#f0f921"
            ]
           ],
           "sequentialminus": [
            [
             0,
             "#0d0887"
            ],
            [
             0.1111111111111111,
             "#46039f"
            ],
            [
             0.2222222222222222,
             "#7201a8"
            ],
            [
             0.3333333333333333,
             "#9c179e"
            ],
            [
             0.4444444444444444,
             "#bd3786"
            ],
            [
             0.5555555555555556,
             "#d8576b"
            ],
            [
             0.6666666666666666,
             "#ed7953"
            ],
            [
             0.7777777777777778,
             "#fb9f3a"
            ],
            [
             0.8888888888888888,
             "#fdca26"
            ],
            [
             1,
             "#f0f921"
            ]
           ]
          },
          "colorway": [
           "#636efa",
           "#EF553B",
           "#00cc96",
           "#ab63fa",
           "#FFA15A",
           "#19d3f3",
           "#FF6692",
           "#B6E880",
           "#FF97FF",
           "#FECB52"
          ],
          "font": {
           "color": "#2a3f5f"
          },
          "geo": {
           "bgcolor": "white",
           "lakecolor": "white",
           "landcolor": "#E5ECF6",
           "showlakes": true,
           "showland": true,
           "subunitcolor": "white"
          },
          "hoverlabel": {
           "align": "left"
          },
          "hovermode": "closest",
          "mapbox": {
           "style": "light"
          },
          "paper_bgcolor": "white",
          "plot_bgcolor": "#E5ECF6",
          "polar": {
           "angularaxis": {
            "gridcolor": "white",
            "linecolor": "white",
            "ticks": ""
           },
           "bgcolor": "#E5ECF6",
           "radialaxis": {
            "gridcolor": "white",
            "linecolor": "white",
            "ticks": ""
           }
          },
          "scene": {
           "xaxis": {
            "backgroundcolor": "#E5ECF6",
            "gridcolor": "white",
            "gridwidth": 2,
            "linecolor": "white",
            "showbackground": true,
            "ticks": "",
            "zerolinecolor": "white"
           },
           "yaxis": {
            "backgroundcolor": "#E5ECF6",
            "gridcolor": "white",
            "gridwidth": 2,
            "linecolor": "white",
            "showbackground": true,
            "ticks": "",
            "zerolinecolor": "white"
           },
           "zaxis": {
            "backgroundcolor": "#E5ECF6",
            "gridcolor": "white",
            "gridwidth": 2,
            "linecolor": "white",
            "showbackground": true,
            "ticks": "",
            "zerolinecolor": "white"
           }
          },
          "shapedefaults": {
           "line": {
            "color": "#2a3f5f"
           }
          },
          "ternary": {
           "aaxis": {
            "gridcolor": "white",
            "linecolor": "white",
            "ticks": ""
           },
           "baxis": {
            "gridcolor": "white",
            "linecolor": "white",
            "ticks": ""
           },
           "bgcolor": "#E5ECF6",
           "caxis": {
            "gridcolor": "white",
            "linecolor": "white",
            "ticks": ""
           }
          },
          "title": {
           "x": 0.05
          },
          "xaxis": {
           "automargin": true,
           "gridcolor": "white",
           "linecolor": "white",
           "ticks": "",
           "title": {
            "standoff": 15
           },
           "zerolinecolor": "white",
           "zerolinewidth": 2
          },
          "yaxis": {
           "automargin": true,
           "gridcolor": "white",
           "linecolor": "white",
           "ticks": "",
           "title": {
            "standoff": 15
           },
           "zerolinecolor": "white",
           "zerolinewidth": 2
          }
         }
        },
        "title": {
         "text": "Heatmap for with response times vs max. pertubation during training"
        },
        "xaxis": {
         "title": {
          "text": "Response Rate"
         }
        },
        "yaxis": {
         "title": {
          "text": "Max Pertubation during training"
         }
        }
       }
      },
      "text/html": [
       "<div>                            <div id=\"770a018f-3e7a-4632-a280-e06265099fcb\" class=\"plotly-graph-div\" style=\"height:525px; width:100%;\"></div>            <script type=\"text/javascript\">                require([\"plotly\"], function(Plotly) {                    window.PLOTLYENV=window.PLOTLYENV || {};                                    if (document.getElementById(\"770a018f-3e7a-4632-a280-e06265099fcb\")) {                    Plotly.newPlot(                        \"770a018f-3e7a-4632-a280-e06265099fcb\",                        [{\"type\":\"heatmap\",\"x\":[\"0.01\",\"0.02\",\"0.04\",\"0.08\",\"0.16\",\"0.32\",\"0.64\",\"1.28\"],\"y\":[\"0.0\",\"1.0\",\"2.0\",\"3.0\",\"4.0\",\"5.0\",\"6.0\",\"7.0\",\"8.0\",\"9.0\",\"10.0\",\"11.0\",\"12.0\",\"13.0\",\"14.0\",\"15.0\"],\"z\":[[49.853750000000005,85.1504,72.3648,87.41279999999999,8.5888,0.32,0.64,1.28],[84.002,76.2316,75.04080000000002,64.75359999999999,29.0048,0.32,0.64,1.28],[71.5318,82.2592,86.88880000000002,97.1936,14.838400000000002,0.32,0.64,1.28],[106.87100000000001,102.76999999999998,90.86480000000002,81.07360000000001,45.120000000000005,0.32,0.64,1.28],[88.72460000000001,130.69520000000003,102.468,83.3312,21.0208,0.32,0.64,1.28],[114.9926,136.5984,94.47439999999999,129.32,21.043200000000006,0.32,0.64,1.28],[135.7784,136.36719999999997,121.93360000000003,79.24159999999999,35.436800000000005,0.32,0.64,1.28],[151.0705,161.2364,133.4456,76.2144,32.0992,0.32,0.64,1.28],[141.41420000000002,154.55480000000003,136.54700000000003,117.06800000000001,10.374400000000001,0.32,0.64,1.28],[153.0934,164.4644,116.62639999999999,98.8176,68.58560000000001,0.32,0.64,1.28],[129.75,143.4924,111.4336,106.7536,20.998400000000004,0.32,0.64,1.28],[138.93720000000002,122.74279999999999,139.2208,104.88480000000001,38.6784,0.32,0.64,1.28],[112.9754,99.94160000000002,94.70560000000002,85.20160000000001,28.2048,0.32,0.64,1.28],[114.982,116.6932,128.572,84.5328,25.129600000000003,0.32,0.64,1.28],[126.9748,124.9808,143.056,119.9136,29.4304,0.32,0.64,1.28],[130.452,94.65599999999999,146.82000000000002,109.5328,20.7328,0.32,0.64,1.28]]}],                        {\"template\":{\"data\":{\"bar\":[{\"error_x\":{\"color\":\"#2a3f5f\"},\"error_y\":{\"color\":\"#2a3f5f\"},\"marker\":{\"line\":{\"color\":\"#E5ECF6\",\"width\":0.5},\"pattern\":{\"fillmode\":\"overlay\",\"size\":10,\"solidity\":0.2}},\"type\":\"bar\"}],\"barpolar\":[{\"marker\":{\"line\":{\"color\":\"#E5ECF6\",\"width\":0.5},\"pattern\":{\"fillmode\":\"overlay\",\"size\":10,\"solidity\":0.2}},\"type\":\"barpolar\"}],\"carpet\":[{\"aaxis\":{\"endlinecolor\":\"#2a3f5f\",\"gridcolor\":\"white\",\"linecolor\":\"white\",\"minorgridcolor\":\"white\",\"startlinecolor\":\"#2a3f5f\"},\"baxis\":{\"endlinecolor\":\"#2a3f5f\",\"gridcolor\":\"white\",\"linecolor\":\"white\",\"minorgridcolor\":\"white\",\"startlinecolor\":\"#2a3f5f\"},\"type\":\"carpet\"}],\"choropleth\":[{\"colorbar\":{\"outlinewidth\":0,\"ticks\":\"\"},\"type\":\"choropleth\"}],\"contour\":[{\"colorbar\":{\"outlinewidth\":0,\"ticks\":\"\"},\"colorscale\":[[0.0,\"#0d0887\"],[0.1111111111111111,\"#46039f\"],[0.2222222222222222,\"#7201a8\"],[0.3333333333333333,\"#9c179e\"],[0.4444444444444444,\"#bd3786\"],[0.5555555555555556,\"#d8576b\"],[0.6666666666666666,\"#ed7953\"],[0.7777777777777778,\"#fb9f3a\"],[0.8888888888888888,\"#fdca26\"],[1.0,\"#f0f921\"]],\"type\":\"contour\"}],\"contourcarpet\":[{\"colorbar\":{\"outlinewidth\":0,\"ticks\":\"\"},\"type\":\"contourcarpet\"}],\"heatmap\":[{\"colorbar\":{\"outlinewidth\":0,\"ticks\":\"\"},\"colorscale\":[[0.0,\"#0d0887\"],[0.1111111111111111,\"#46039f\"],[0.2222222222222222,\"#7201a8\"],[0.3333333333333333,\"#9c179e\"],[0.4444444444444444,\"#bd3786\"],[0.5555555555555556,\"#d8576b\"],[0.6666666666666666,\"#ed7953\"],[0.7777777777777778,\"#fb9f3a\"],[0.8888888888888888,\"#fdca26\"],[1.0,\"#f0f921\"]],\"type\":\"heatmap\"}],\"heatmapgl\":[{\"colorbar\":{\"outlinewidth\":0,\"ticks\":\"\"},\"colorscale\":[[0.0,\"#0d0887\"],[0.1111111111111111,\"#46039f\"],[0.2222222222222222,\"#7201a8\"],[0.3333333333333333,\"#9c179e\"],[0.4444444444444444,\"#bd3786\"],[0.5555555555555556,\"#d8576b\"],[0.6666666666666666,\"#ed7953\"],[0.7777777777777778,\"#fb9f3a\"],[0.8888888888888888,\"#fdca26\"],[1.0,\"#f0f921\"]],\"type\":\"heatmapgl\"}],\"histogram\":[{\"marker\":{\"pattern\":{\"fillmode\":\"overlay\",\"size\":10,\"solidity\":0.2}},\"type\":\"histogram\"}],\"histogram2d\":[{\"colorbar\":{\"outlinewidth\":0,\"ticks\":\"\"},\"colorscale\":[[0.0,\"#0d0887\"],[0.1111111111111111,\"#46039f\"],[0.2222222222222222,\"#7201a8\"],[0.3333333333333333,\"#9c179e\"],[0.4444444444444444,\"#bd3786\"],[0.5555555555555556,\"#d8576b\"],[0.6666666666666666,\"#ed7953\"],[0.7777777777777778,\"#fb9f3a\"],[0.8888888888888888,\"#fdca26\"],[1.0,\"#f0f921\"]],\"type\":\"histogram2d\"}],\"histogram2dcontour\":[{\"colorbar\":{\"outlinewidth\":0,\"ticks\":\"\"},\"colorscale\":[[0.0,\"#0d0887\"],[0.1111111111111111,\"#46039f\"],[0.2222222222222222,\"#7201a8\"],[0.3333333333333333,\"#9c179e\"],[0.4444444444444444,\"#bd3786\"],[0.5555555555555556,\"#d8576b\"],[0.6666666666666666,\"#ed7953\"],[0.7777777777777778,\"#fb9f3a\"],[0.8888888888888888,\"#fdca26\"],[1.0,\"#f0f921\"]],\"type\":\"histogram2dcontour\"}],\"mesh3d\":[{\"colorbar\":{\"outlinewidth\":0,\"ticks\":\"\"},\"type\":\"mesh3d\"}],\"parcoords\":[{\"line\":{\"colorbar\":{\"outlinewidth\":0,\"ticks\":\"\"}},\"type\":\"parcoords\"}],\"pie\":[{\"automargin\":true,\"type\":\"pie\"}],\"scatter\":[{\"marker\":{\"colorbar\":{\"outlinewidth\":0,\"ticks\":\"\"}},\"type\":\"scatter\"}],\"scatter3d\":[{\"line\":{\"colorbar\":{\"outlinewidth\":0,\"ticks\":\"\"}},\"marker\":{\"colorbar\":{\"outlinewidth\":0,\"ticks\":\"\"}},\"type\":\"scatter3d\"}],\"scattercarpet\":[{\"marker\":{\"colorbar\":{\"outlinewidth\":0,\"ticks\":\"\"}},\"type\":\"scattercarpet\"}],\"scattergeo\":[{\"marker\":{\"colorbar\":{\"outlinewidth\":0,\"ticks\":\"\"}},\"type\":\"scattergeo\"}],\"scattergl\":[{\"marker\":{\"colorbar\":{\"outlinewidth\":0,\"ticks\":\"\"}},\"type\":\"scattergl\"}],\"scattermapbox\":[{\"marker\":{\"colorbar\":{\"outlinewidth\":0,\"ticks\":\"\"}},\"type\":\"scattermapbox\"}],\"scatterpolar\":[{\"marker\":{\"colorbar\":{\"outlinewidth\":0,\"ticks\":\"\"}},\"type\":\"scatterpolar\"}],\"scatterpolargl\":[{\"marker\":{\"colorbar\":{\"outlinewidth\":0,\"ticks\":\"\"}},\"type\":\"scatterpolargl\"}],\"scatterternary\":[{\"marker\":{\"colorbar\":{\"outlinewidth\":0,\"ticks\":\"\"}},\"type\":\"scatterternary\"}],\"surface\":[{\"colorbar\":{\"outlinewidth\":0,\"ticks\":\"\"},\"colorscale\":[[0.0,\"#0d0887\"],[0.1111111111111111,\"#46039f\"],[0.2222222222222222,\"#7201a8\"],[0.3333333333333333,\"#9c179e\"],[0.4444444444444444,\"#bd3786\"],[0.5555555555555556,\"#d8576b\"],[0.6666666666666666,\"#ed7953\"],[0.7777777777777778,\"#fb9f3a\"],[0.8888888888888888,\"#fdca26\"],[1.0,\"#f0f921\"]],\"type\":\"surface\"}],\"table\":[{\"cells\":{\"fill\":{\"color\":\"#EBF0F8\"},\"line\":{\"color\":\"white\"}},\"header\":{\"fill\":{\"color\":\"#C8D4E3\"},\"line\":{\"color\":\"white\"}},\"type\":\"table\"}]},\"layout\":{\"annotationdefaults\":{\"arrowcolor\":\"#2a3f5f\",\"arrowhead\":0,\"arrowwidth\":1},\"autotypenumbers\":\"strict\",\"coloraxis\":{\"colorbar\":{\"outlinewidth\":0,\"ticks\":\"\"}},\"colorscale\":{\"diverging\":[[0,\"#8e0152\"],[0.1,\"#c51b7d\"],[0.2,\"#de77ae\"],[0.3,\"#f1b6da\"],[0.4,\"#fde0ef\"],[0.5,\"#f7f7f7\"],[0.6,\"#e6f5d0\"],[0.7,\"#b8e186\"],[0.8,\"#7fbc41\"],[0.9,\"#4d9221\"],[1,\"#276419\"]],\"sequential\":[[0.0,\"#0d0887\"],[0.1111111111111111,\"#46039f\"],[0.2222222222222222,\"#7201a8\"],[0.3333333333333333,\"#9c179e\"],[0.4444444444444444,\"#bd3786\"],[0.5555555555555556,\"#d8576b\"],[0.6666666666666666,\"#ed7953\"],[0.7777777777777778,\"#fb9f3a\"],[0.8888888888888888,\"#fdca26\"],[1.0,\"#f0f921\"]],\"sequentialminus\":[[0.0,\"#0d0887\"],[0.1111111111111111,\"#46039f\"],[0.2222222222222222,\"#7201a8\"],[0.3333333333333333,\"#9c179e\"],[0.4444444444444444,\"#bd3786\"],[0.5555555555555556,\"#d8576b\"],[0.6666666666666666,\"#ed7953\"],[0.7777777777777778,\"#fb9f3a\"],[0.8888888888888888,\"#fdca26\"],[1.0,\"#f0f921\"]]},\"colorway\":[\"#636efa\",\"#EF553B\",\"#00cc96\",\"#ab63fa\",\"#FFA15A\",\"#19d3f3\",\"#FF6692\",\"#B6E880\",\"#FF97FF\",\"#FECB52\"],\"font\":{\"color\":\"#2a3f5f\"},\"geo\":{\"bgcolor\":\"white\",\"lakecolor\":\"white\",\"landcolor\":\"#E5ECF6\",\"showlakes\":true,\"showland\":true,\"subunitcolor\":\"white\"},\"hoverlabel\":{\"align\":\"left\"},\"hovermode\":\"closest\",\"mapbox\":{\"style\":\"light\"},\"paper_bgcolor\":\"white\",\"plot_bgcolor\":\"#E5ECF6\",\"polar\":{\"angularaxis\":{\"gridcolor\":\"white\",\"linecolor\":\"white\",\"ticks\":\"\"},\"bgcolor\":\"#E5ECF6\",\"radialaxis\":{\"gridcolor\":\"white\",\"linecolor\":\"white\",\"ticks\":\"\"}},\"scene\":{\"xaxis\":{\"backgroundcolor\":\"#E5ECF6\",\"gridcolor\":\"white\",\"gridwidth\":2,\"linecolor\":\"white\",\"showbackground\":true,\"ticks\":\"\",\"zerolinecolor\":\"white\"},\"yaxis\":{\"backgroundcolor\":\"#E5ECF6\",\"gridcolor\":\"white\",\"gridwidth\":2,\"linecolor\":\"white\",\"showbackground\":true,\"ticks\":\"\",\"zerolinecolor\":\"white\"},\"zaxis\":{\"backgroundcolor\":\"#E5ECF6\",\"gridcolor\":\"white\",\"gridwidth\":2,\"linecolor\":\"white\",\"showbackground\":true,\"ticks\":\"\",\"zerolinecolor\":\"white\"}},\"shapedefaults\":{\"line\":{\"color\":\"#2a3f5f\"}},\"ternary\":{\"aaxis\":{\"gridcolor\":\"white\",\"linecolor\":\"white\",\"ticks\":\"\"},\"baxis\":{\"gridcolor\":\"white\",\"linecolor\":\"white\",\"ticks\":\"\"},\"bgcolor\":\"#E5ECF6\",\"caxis\":{\"gridcolor\":\"white\",\"linecolor\":\"white\",\"ticks\":\"\"}},\"title\":{\"x\":0.05},\"xaxis\":{\"automargin\":true,\"gridcolor\":\"white\",\"linecolor\":\"white\",\"ticks\":\"\",\"title\":{\"standoff\":15},\"zerolinecolor\":\"white\",\"zerolinewidth\":2},\"yaxis\":{\"automargin\":true,\"gridcolor\":\"white\",\"linecolor\":\"white\",\"ticks\":\"\",\"title\":{\"standoff\":15},\"zerolinecolor\":\"white\",\"zerolinewidth\":2}}},\"title\":{\"text\":\"Heatmap for with response times vs max. pertubation during training\"},\"xaxis\":{\"title\":{\"text\":\"Response Rate\"}},\"yaxis\":{\"title\":{\"text\":\"Max Pertubation during training\"}}},                        {\"responsive\": true}                    ).then(function(){\n",
       "                            \n",
       "var gd = document.getElementById('770a018f-3e7a-4632-a280-e06265099fcb');\n",
       "var x = new MutationObserver(function (mutations, observer) {{\n",
       "        var display = window.getComputedStyle(gd).display;\n",
       "        if (!display || display === 'none') {{\n",
       "            console.log([gd, 'removed!']);\n",
       "            Plotly.purge(gd);\n",
       "            observer.disconnect();\n",
       "        }}\n",
       "}});\n",
       "\n",
       "// Listen for the removal of the full notebook cells\n",
       "var notebookContainer = gd.closest('#notebook-container');\n",
       "if (notebookContainer) {{\n",
       "    x.observe(notebookContainer, {childList: true});\n",
       "}}\n",
       "\n",
       "// Listen for the clearing of the current output cell\n",
       "var outputEl = gd.closest('.output');\n",
       "if (outputEl) {{\n",
       "    x.observe(outputEl, {childList: true});\n",
       "}}\n",
       "\n",
       "                        })                };                });            </script>        </div>"
      ]
     },
     "metadata": {},
     "output_type": "display_data"
    }
   ],
   "source": [
    "fig = go.Figure(data=go.Heatmap(\n",
    "                    z=rewards, x=df['response_rate'].unique().astype('U'),\n",
    "                   y=df['g_force'].unique().astype('U')))\n",
    "\n",
    "fig.update_layout(\n",
    "    title='Heatmap for with response times vs max. pertubation during training',\n",
    "    xaxis_title=\"Response Rate\",\n",
    "    yaxis_title=\"Max Pertubation during training\",\n",
    ")"
   ]
  },
  {
   "cell_type": "code",
   "execution_count": 15,
   "metadata": {
    "scrolled": false
   },
   "outputs": [
    {
     "ename": "KeyError",
     "evalue": "0.0",
     "output_type": "error",
     "traceback": [
      "\u001b[1;31m---------------------------------------------------------------------------\u001b[0m",
      "\u001b[1;31mKeyError\u001b[0m                                  Traceback (most recent call last)",
      "\u001b[1;32mC:\\ProgramData\\Anaconda3\\lib\\site-packages\\pandas\\core\\indexes\\base.py\u001b[0m in \u001b[0;36mget_loc\u001b[1;34m(self, key, method, tolerance)\u001b[0m\n\u001b[0;32m   2896\u001b[0m             \u001b[1;32mtry\u001b[0m\u001b[1;33m:\u001b[0m\u001b[1;33m\u001b[0m\u001b[0m\n\u001b[1;32m-> 2897\u001b[1;33m                 \u001b[1;32mreturn\u001b[0m \u001b[0mself\u001b[0m\u001b[1;33m.\u001b[0m\u001b[0m_engine\u001b[0m\u001b[1;33m.\u001b[0m\u001b[0mget_loc\u001b[0m\u001b[1;33m(\u001b[0m\u001b[0mkey\u001b[0m\u001b[1;33m)\u001b[0m\u001b[1;33m\u001b[0m\u001b[0m\n\u001b[0m\u001b[0;32m   2898\u001b[0m             \u001b[1;32mexcept\u001b[0m \u001b[0mKeyError\u001b[0m\u001b[1;33m:\u001b[0m\u001b[1;33m\u001b[0m\u001b[0m\n",
      "\u001b[1;32mpandas/_libs/index.pyx\u001b[0m in \u001b[0;36mpandas._libs.index.IndexEngine.get_loc\u001b[1;34m()\u001b[0m\n",
      "\u001b[1;32mpandas/_libs/index.pyx\u001b[0m in \u001b[0;36mpandas._libs.index.IndexEngine.get_loc\u001b[1;34m()\u001b[0m\n",
      "\u001b[1;32mpandas/_libs/hashtable_class_helper.pxi\u001b[0m in \u001b[0;36mpandas._libs.hashtable.Float64HashTable.get_item\u001b[1;34m()\u001b[0m\n",
      "\u001b[1;32mpandas/_libs/hashtable_class_helper.pxi\u001b[0m in \u001b[0;36mpandas._libs.hashtable.Float64HashTable.get_item\u001b[1;34m()\u001b[0m\n",
      "\u001b[1;31mKeyError\u001b[0m: 0.0",
      "\nDuring handling of the above exception, another exception occurred:\n",
      "\u001b[1;31mKeyError\u001b[0m                                  Traceback (most recent call last)",
      "\u001b[1;32m<ipython-input-15-a868364d2d73>\u001b[0m in \u001b[0;36m<module>\u001b[1;34m()\u001b[0m\n\u001b[1;32m----> 1\u001b[1;33m \u001b[0mfig\u001b[0m \u001b[1;33m=\u001b[0m \u001b[0mff\u001b[0m\u001b[1;33m.\u001b[0m\u001b[0mcreate_annotated_heatmap\u001b[0m\u001b[1;33m(\u001b[0m\u001b[0mz\u001b[0m\u001b[1;33m=\u001b[0m\u001b[0mrewards\u001b[0m\u001b[1;33m,\u001b[0m\u001b[0my\u001b[0m\u001b[1;33m=\u001b[0m\u001b[0mdf\u001b[0m\u001b[1;33m[\u001b[0m\u001b[1;34m'g_force'\u001b[0m\u001b[1;33m]\u001b[0m\u001b[1;33m.\u001b[0m\u001b[0munique\u001b[0m\u001b[1;33m(\u001b[0m\u001b[1;33m)\u001b[0m\u001b[1;33m.\u001b[0m\u001b[0mastype\u001b[0m\u001b[1;33m(\u001b[0m\u001b[1;34m'U'\u001b[0m\u001b[1;33m)\u001b[0m\u001b[1;33m.\u001b[0m\u001b[0mtolist\u001b[0m\u001b[1;33m(\u001b[0m\u001b[1;33m)\u001b[0m\u001b[1;33m,\u001b[0m \u001b[0mx\u001b[0m\u001b[1;33m=\u001b[0m\u001b[1;33m[\u001b[0m\u001b[0mstr\u001b[0m\u001b[1;33m(\u001b[0m\u001b[0mi\u001b[0m\u001b[1;33m)\u001b[0m \u001b[1;33m+\u001b[0m \u001b[1;34m's'\u001b[0m \u001b[1;32mfor\u001b[0m \u001b[0mi\u001b[0m \u001b[1;32min\u001b[0m \u001b[0mdf\u001b[0m\u001b[1;33m[\u001b[0m\u001b[1;34m'response_rate'\u001b[0m\u001b[1;33m]\u001b[0m\u001b[1;33m.\u001b[0m\u001b[0munique\u001b[0m\u001b[1;33m(\u001b[0m\u001b[1;33m)\u001b[0m\u001b[1;33m.\u001b[0m\u001b[0mtolist\u001b[0m\u001b[1;33m(\u001b[0m\u001b[1;33m)\u001b[0m\u001b[1;33m]\u001b[0m\u001b[1;33m,\u001b[0m  \u001b[0mannotation_text\u001b[0m\u001b[1;33m=\u001b[0m\u001b[0mnp\u001b[0m\u001b[1;33m.\u001b[0m\u001b[0maround\u001b[0m\u001b[1;33m(\u001b[0m\u001b[0mrewards\u001b[0m\u001b[1;33m,\u001b[0m \u001b[0mdecimals\u001b[0m\u001b[1;33m=\u001b[0m\u001b[1;36m2\u001b[0m\u001b[1;33m)\u001b[0m\u001b[1;33m,\u001b[0m \u001b[0mcolorscale\u001b[0m\u001b[1;33m=\u001b[0m\u001b[1;34m'greens'\u001b[0m\u001b[1;33m)\u001b[0m\u001b[1;33m\u001b[0m\u001b[0m\n\u001b[0m\u001b[0;32m      2\u001b[0m \u001b[1;33m\u001b[0m\u001b[0m\n\u001b[0;32m      3\u001b[0m fig.update_layout(\n\u001b[0;32m      4\u001b[0m     \u001b[0mtitle\u001b[0m\u001b[1;33m=\u001b[0m\u001b[1;34m'Average evaluation seconds for response times vs max. pertubation during training'\u001b[0m\u001b[1;33m,\u001b[0m\u001b[1;33m\u001b[0m\u001b[0m\n\u001b[0;32m      5\u001b[0m     \u001b[0mxaxis_title\u001b[0m\u001b[1;33m=\u001b[0m\u001b[1;34m\"Response Time\"\u001b[0m\u001b[1;33m,\u001b[0m\u001b[1;33m\u001b[0m\u001b[0m\n",
      "\u001b[1;32mC:\\ProgramData\\Anaconda3\\lib\\site-packages\\plotly\\figure_factory\\_annotated_heatmap.py\u001b[0m in \u001b[0;36mcreate_annotated_heatmap\u001b[1;34m(z, x, y, annotation_text, colorscale, font_colors, showscale, reversescale, **kwargs)\u001b[0m\n\u001b[0;32m     99\u001b[0m     \u001b[1;31m# Avoiding mutables in the call signature\u001b[0m\u001b[1;33m\u001b[0m\u001b[1;33m\u001b[0m\u001b[0m\n\u001b[0;32m    100\u001b[0m     \u001b[0mfont_colors\u001b[0m \u001b[1;33m=\u001b[0m \u001b[0mfont_colors\u001b[0m \u001b[1;32mif\u001b[0m \u001b[0mfont_colors\u001b[0m \u001b[1;32mis\u001b[0m \u001b[1;32mnot\u001b[0m \u001b[1;32mNone\u001b[0m \u001b[1;32melse\u001b[0m \u001b[1;33m[\u001b[0m\u001b[1;33m]\u001b[0m\u001b[1;33m\u001b[0m\u001b[0m\n\u001b[1;32m--> 101\u001b[1;33m     \u001b[0mvalidate_annotated_heatmap\u001b[0m\u001b[1;33m(\u001b[0m\u001b[0mz\u001b[0m\u001b[1;33m,\u001b[0m \u001b[0mx\u001b[0m\u001b[1;33m,\u001b[0m \u001b[0my\u001b[0m\u001b[1;33m,\u001b[0m \u001b[0mannotation_text\u001b[0m\u001b[1;33m)\u001b[0m\u001b[1;33m\u001b[0m\u001b[0m\n\u001b[0m\u001b[0;32m    102\u001b[0m \u001b[1;33m\u001b[0m\u001b[0m\n\u001b[0;32m    103\u001b[0m     \u001b[1;31m# validate colorscale\u001b[0m\u001b[1;33m\u001b[0m\u001b[1;33m\u001b[0m\u001b[0m\n",
      "\u001b[1;32mC:\\ProgramData\\Anaconda3\\lib\\site-packages\\plotly\\figure_factory\\_annotated_heatmap.py\u001b[0m in \u001b[0;36mvalidate_annotated_heatmap\u001b[1;34m(z, x, y, annotation_text)\u001b[0m\n\u001b[0;32m     32\u001b[0m \u001b[1;33m\u001b[0m\u001b[0m\n\u001b[0;32m     33\u001b[0m     \u001b[1;32mif\u001b[0m \u001b[0mx\u001b[0m\u001b[1;33m:\u001b[0m\u001b[1;33m\u001b[0m\u001b[0m\n\u001b[1;32m---> 34\u001b[1;33m         \u001b[1;32mif\u001b[0m \u001b[0mlen\u001b[0m\u001b[1;33m(\u001b[0m\u001b[0mx\u001b[0m\u001b[1;33m)\u001b[0m \u001b[1;33m!=\u001b[0m \u001b[0mlen\u001b[0m\u001b[1;33m(\u001b[0m\u001b[0mz\u001b[0m\u001b[1;33m[\u001b[0m\u001b[1;36m0\u001b[0m\u001b[1;33m]\u001b[0m\u001b[1;33m)\u001b[0m\u001b[1;33m:\u001b[0m\u001b[1;33m\u001b[0m\u001b[0m\n\u001b[0m\u001b[0;32m     35\u001b[0m             raise exceptions.PlotlyError(\n\u001b[0;32m     36\u001b[0m                 \u001b[1;34m\"oops, the x list that you \"\u001b[0m\u001b[1;33m\u001b[0m\u001b[0m\n",
      "\u001b[1;32mC:\\ProgramData\\Anaconda3\\lib\\site-packages\\pandas\\core\\frame.py\u001b[0m in \u001b[0;36m__getitem__\u001b[1;34m(self, key)\u001b[0m\n\u001b[0;32m   2993\u001b[0m             \u001b[1;32mif\u001b[0m \u001b[0mself\u001b[0m\u001b[1;33m.\u001b[0m\u001b[0mcolumns\u001b[0m\u001b[1;33m.\u001b[0m\u001b[0mnlevels\u001b[0m \u001b[1;33m>\u001b[0m \u001b[1;36m1\u001b[0m\u001b[1;33m:\u001b[0m\u001b[1;33m\u001b[0m\u001b[0m\n\u001b[0;32m   2994\u001b[0m                 \u001b[1;32mreturn\u001b[0m \u001b[0mself\u001b[0m\u001b[1;33m.\u001b[0m\u001b[0m_getitem_multilevel\u001b[0m\u001b[1;33m(\u001b[0m\u001b[0mkey\u001b[0m\u001b[1;33m)\u001b[0m\u001b[1;33m\u001b[0m\u001b[0m\n\u001b[1;32m-> 2995\u001b[1;33m             \u001b[0mindexer\u001b[0m \u001b[1;33m=\u001b[0m \u001b[0mself\u001b[0m\u001b[1;33m.\u001b[0m\u001b[0mcolumns\u001b[0m\u001b[1;33m.\u001b[0m\u001b[0mget_loc\u001b[0m\u001b[1;33m(\u001b[0m\u001b[0mkey\u001b[0m\u001b[1;33m)\u001b[0m\u001b[1;33m\u001b[0m\u001b[0m\n\u001b[0m\u001b[0;32m   2996\u001b[0m             \u001b[1;32mif\u001b[0m \u001b[0mis_integer\u001b[0m\u001b[1;33m(\u001b[0m\u001b[0mindexer\u001b[0m\u001b[1;33m)\u001b[0m\u001b[1;33m:\u001b[0m\u001b[1;33m\u001b[0m\u001b[0m\n\u001b[0;32m   2997\u001b[0m                 \u001b[0mindexer\u001b[0m \u001b[1;33m=\u001b[0m \u001b[1;33m[\u001b[0m\u001b[0mindexer\u001b[0m\u001b[1;33m]\u001b[0m\u001b[1;33m\u001b[0m\u001b[0m\n",
      "\u001b[1;32mC:\\ProgramData\\Anaconda3\\lib\\site-packages\\pandas\\core\\indexes\\numeric.py\u001b[0m in \u001b[0;36mget_loc\u001b[1;34m(self, key, method, tolerance)\u001b[0m\n\u001b[0;32m    477\u001b[0m         \u001b[1;32mexcept\u001b[0m \u001b[1;33m(\u001b[0m\u001b[0mTypeError\u001b[0m\u001b[1;33m,\u001b[0m \u001b[0mNotImplementedError\u001b[0m\u001b[1;33m)\u001b[0m\u001b[1;33m:\u001b[0m\u001b[1;33m\u001b[0m\u001b[0m\n\u001b[0;32m    478\u001b[0m             \u001b[1;32mpass\u001b[0m\u001b[1;33m\u001b[0m\u001b[0m\n\u001b[1;32m--> 479\u001b[1;33m         \u001b[1;32mreturn\u001b[0m \u001b[0msuper\u001b[0m\u001b[1;33m(\u001b[0m\u001b[1;33m)\u001b[0m\u001b[1;33m.\u001b[0m\u001b[0mget_loc\u001b[0m\u001b[1;33m(\u001b[0m\u001b[0mkey\u001b[0m\u001b[1;33m,\u001b[0m \u001b[0mmethod\u001b[0m\u001b[1;33m=\u001b[0m\u001b[0mmethod\u001b[0m\u001b[1;33m,\u001b[0m \u001b[0mtolerance\u001b[0m\u001b[1;33m=\u001b[0m\u001b[0mtolerance\u001b[0m\u001b[1;33m)\u001b[0m\u001b[1;33m\u001b[0m\u001b[0m\n\u001b[0m\u001b[0;32m    480\u001b[0m \u001b[1;33m\u001b[0m\u001b[0m\n\u001b[0;32m    481\u001b[0m     \u001b[1;33m@\u001b[0m\u001b[0mcache_readonly\u001b[0m\u001b[1;33m\u001b[0m\u001b[0m\n",
      "\u001b[1;32mC:\\ProgramData\\Anaconda3\\lib\\site-packages\\pandas\\core\\indexes\\base.py\u001b[0m in \u001b[0;36mget_loc\u001b[1;34m(self, key, method, tolerance)\u001b[0m\n\u001b[0;32m   2897\u001b[0m                 \u001b[1;32mreturn\u001b[0m \u001b[0mself\u001b[0m\u001b[1;33m.\u001b[0m\u001b[0m_engine\u001b[0m\u001b[1;33m.\u001b[0m\u001b[0mget_loc\u001b[0m\u001b[1;33m(\u001b[0m\u001b[0mkey\u001b[0m\u001b[1;33m)\u001b[0m\u001b[1;33m\u001b[0m\u001b[0m\n\u001b[0;32m   2898\u001b[0m             \u001b[1;32mexcept\u001b[0m \u001b[0mKeyError\u001b[0m\u001b[1;33m:\u001b[0m\u001b[1;33m\u001b[0m\u001b[0m\n\u001b[1;32m-> 2899\u001b[1;33m                 \u001b[1;32mreturn\u001b[0m \u001b[0mself\u001b[0m\u001b[1;33m.\u001b[0m\u001b[0m_engine\u001b[0m\u001b[1;33m.\u001b[0m\u001b[0mget_loc\u001b[0m\u001b[1;33m(\u001b[0m\u001b[0mself\u001b[0m\u001b[1;33m.\u001b[0m\u001b[0m_maybe_cast_indexer\u001b[0m\u001b[1;33m(\u001b[0m\u001b[0mkey\u001b[0m\u001b[1;33m)\u001b[0m\u001b[1;33m)\u001b[0m\u001b[1;33m\u001b[0m\u001b[0m\n\u001b[0m\u001b[0;32m   2900\u001b[0m         \u001b[0mindexer\u001b[0m \u001b[1;33m=\u001b[0m \u001b[0mself\u001b[0m\u001b[1;33m.\u001b[0m\u001b[0mget_indexer\u001b[0m\u001b[1;33m(\u001b[0m\u001b[1;33m[\u001b[0m\u001b[0mkey\u001b[0m\u001b[1;33m]\u001b[0m\u001b[1;33m,\u001b[0m \u001b[0mmethod\u001b[0m\u001b[1;33m=\u001b[0m\u001b[0mmethod\u001b[0m\u001b[1;33m,\u001b[0m \u001b[0mtolerance\u001b[0m\u001b[1;33m=\u001b[0m\u001b[0mtolerance\u001b[0m\u001b[1;33m)\u001b[0m\u001b[1;33m\u001b[0m\u001b[0m\n\u001b[0;32m   2901\u001b[0m         \u001b[1;32mif\u001b[0m \u001b[0mindexer\u001b[0m\u001b[1;33m.\u001b[0m\u001b[0mndim\u001b[0m \u001b[1;33m>\u001b[0m \u001b[1;36m1\u001b[0m \u001b[1;32mor\u001b[0m \u001b[0mindexer\u001b[0m\u001b[1;33m.\u001b[0m\u001b[0msize\u001b[0m \u001b[1;33m>\u001b[0m \u001b[1;36m1\u001b[0m\u001b[1;33m:\u001b[0m\u001b[1;33m\u001b[0m\u001b[0m\n",
      "\u001b[1;32mpandas/_libs/index.pyx\u001b[0m in \u001b[0;36mpandas._libs.index.IndexEngine.get_loc\u001b[1;34m()\u001b[0m\n",
      "\u001b[1;32mpandas/_libs/index.pyx\u001b[0m in \u001b[0;36mpandas._libs.index.IndexEngine.get_loc\u001b[1;34m()\u001b[0m\n",
      "\u001b[1;32mpandas/_libs/hashtable_class_helper.pxi\u001b[0m in \u001b[0;36mpandas._libs.hashtable.Float64HashTable.get_item\u001b[1;34m()\u001b[0m\n",
      "\u001b[1;32mpandas/_libs/hashtable_class_helper.pxi\u001b[0m in \u001b[0;36mpandas._libs.hashtable.Float64HashTable.get_item\u001b[1;34m()\u001b[0m\n",
      "\u001b[1;31mKeyError\u001b[0m: 0.0"
     ]
    }
   ],
   "source": [
    "fig = ff.create_annotated_heatmap(z=rewards,y=df['g_force'].unique().astype('U').tolist(), x=[str(i) + 's' for i in df['response_rate'].unique().tolist()],  annotation_text=np.around(rewards, decimals=2), colorscale='greens')\n",
    "\n",
    "fig.update_layout(\n",
    "    title='Average evaluation seconds for response times vs max. pertubation during training',\n",
    "    xaxis_title=\"Response Time\",\n",
    "    yaxis_title=\"Max Pertubation during training\",\n",
    "    xaxis_side='bottom',\n",
    "    font=dict(size=18),\n",
    ")\n",
    "fig.show()"
   ]
  },
  {
   "cell_type": "code",
   "execution_count": 11,
   "metadata": {},
   "outputs": [
    {
     "data": {
      "application/vnd.plotly.v1+json": {
       "config": {
        "plotlyServerURL": "https://plot.ly"
       },
       "data": [
        {
         "colorscale": [
          [
           0,
           "rgb(247,251,255)"
          ],
          [
           0.125,
           "rgb(222,235,247)"
          ],
          [
           0.25,
           "rgb(198,219,239)"
          ],
          [
           0.375,
           "rgb(158,202,225)"
          ],
          [
           0.5,
           "rgb(107,174,214)"
          ],
          [
           0.625,
           "rgb(66,146,198)"
          ],
          [
           0.75,
           "rgb(33,113,181)"
          ],
          [
           0.875,
           "rgb(8,81,156)"
          ],
          [
           1,
           "rgb(8,48,107)"
          ]
         ],
         "reversescale": false,
         "showscale": true,
         "type": "heatmap",
         "x": [
          "0.01s",
          "0.02s",
          "0.04s",
          "0.08s",
          "0.16s",
          "0.32s",
          "0.64s",
          "1.28s"
         ],
         "y": [
          "0g",
          "1g",
          "2g",
          "3g",
          "4g",
          "5g",
          "6g",
          "7g",
          "8g",
          "9g",
          "10g",
          "11g",
          "12g",
          "13g",
          "14g",
          "15g",
          "16g",
          "17g",
          "18g",
          "19g",
          "20g"
         ],
         "z": [
          [
           46.186,
           79.136,
           82.64,
           93.82400000000001,
           9.216,
           0.32,
           0.64,
           1.28
          ],
          [
           82.884,
           77.46,
           83.776,
           63.152,
           28.032000000000004,
           0.32,
           0.64,
           1.28
          ],
          [
           71.912,
           87.864,
           83.464,
           100.48,
           14.752,
           0.32,
           0.64,
           1.28
          ],
          [
           99.924,
           110.232,
           90.55999999999999,
           82.4,
           44.096000000000004,
           0.32,
           0.64,
           1.28
          ],
          [
           84.11800000000001,
           130.924,
           100.008,
           88.55999999999999,
           24.832,
           0.32,
           0.64,
           1.28
          ],
          [
           123.1,
           143.604,
           113.51999999999998,
           135.00799999999998,
           19.136000000000003,
           0.32,
           0.64,
           1.28
          ],
          [
           135.18200000000002,
           147.38799999999998,
           120.98400000000001,
           82.41600000000001,
           38.272000000000006,
           0.32,
           0.64,
           1.28
          ],
          [
           154.53,
           160.18800000000002,
           127.98400000000001,
           72.576,
           34.944,
           0.32,
           0.64,
           1.28
          ],
          [
           141.448,
           157.676,
           124.824,
           117.02400000000003,
           7.5840000000000005,
           0.32,
           0.64,
           1.28
          ],
          [
           152.618,
           169.61600000000004,
           114.53599999999999,
           92.78399999999999,
           67.68,
           0.32,
           0.64,
           1.28
          ],
          [
           122.61000000000001,
           146.12399999999997,
           107.928,
           109.04,
           24.288,
           0.32,
           0.64,
           1.28
          ],
          [
           118.23799999999999,
           115.22,
           144.88000000000002,
           115.72800000000002,
           35.712,
           0.32,
           0.64,
           1.28
          ],
          [
           115.886,
           99.912,
           105.848,
           88.848,
           26.016,
           0.32,
           0.64,
           1.28
          ],
          [
           146.23,
           124.27199999999998,
           122.04,
           83.616,
           25.503999999999998,
           0.32,
           0.64,
           1.28
          ],
          [
           143.272,
           126.148,
           149.2,
           123.152,
           25.856,
           0.32,
           0.64,
           1.28
          ],
          [
           138.506,
           93.06,
           151.048,
           106.65599999999999,
           16.992,
           0.32,
           0.64,
           1.28
          ],
          [
           126.396,
           133.028,
           95.896,
           98.92800000000003,
           47.455999999999996,
           0.32,
           0.64,
           1.28
          ],
          [
           131.20999999999998,
           93.256,
           118.51199999999999,
           95.744,
           29.983999999999998,
           0.32,
           0.64,
           1.28
          ],
          [
           84,
           95.192,
           137.048,
           89.968,
           21.856000000000005,
           0.32,
           0.64,
           1.28
          ],
          [
           93.78399999999999,
           95.32000000000001,
           131.95999999999998,
           129.13600000000002,
           13.760000000000002,
           0.32,
           0.64,
           1.28
          ],
          [
           100.26200000000001,
           133.416,
           112.43200000000002,
           99.632,
           7.935999999999998,
           0.32,
           0.64,
           1.28
          ]
         ]
        }
       ],
       "layout": {
        "annotations": [
         {
          "font": {
           "color": "#000000"
          },
          "showarrow": false,
          "text": "46.19",
          "x": "0.01s",
          "xref": "x",
          "y": "0g",
          "yref": "y"
         },
         {
          "font": {
           "color": "#000000"
          },
          "showarrow": false,
          "text": "79.14",
          "x": "0.02s",
          "xref": "x",
          "y": "0g",
          "yref": "y"
         },
         {
          "font": {
           "color": "#000000"
          },
          "showarrow": false,
          "text": "82.64",
          "x": "0.04s",
          "xref": "x",
          "y": "0g",
          "yref": "y"
         },
         {
          "font": {
           "color": "#FFFFFF"
          },
          "showarrow": false,
          "text": "93.82",
          "x": "0.08s",
          "xref": "x",
          "y": "0g",
          "yref": "y"
         },
         {
          "font": {
           "color": "#000000"
          },
          "showarrow": false,
          "text": "9.22",
          "x": "0.16s",
          "xref": "x",
          "y": "0g",
          "yref": "y"
         },
         {
          "font": {
           "color": "#000000"
          },
          "showarrow": false,
          "text": "0.32",
          "x": "0.32s",
          "xref": "x",
          "y": "0g",
          "yref": "y"
         },
         {
          "font": {
           "color": "#000000"
          },
          "showarrow": false,
          "text": "0.64",
          "x": "0.64s",
          "xref": "x",
          "y": "0g",
          "yref": "y"
         },
         {
          "font": {
           "color": "#000000"
          },
          "showarrow": false,
          "text": "1.28",
          "x": "1.28s",
          "xref": "x",
          "y": "0g",
          "yref": "y"
         },
         {
          "font": {
           "color": "#000000"
          },
          "showarrow": false,
          "text": "82.88",
          "x": "0.01s",
          "xref": "x",
          "y": "1g",
          "yref": "y"
         },
         {
          "font": {
           "color": "#000000"
          },
          "showarrow": false,
          "text": "77.46",
          "x": "0.02s",
          "xref": "x",
          "y": "1g",
          "yref": "y"
         },
         {
          "font": {
           "color": "#000000"
          },
          "showarrow": false,
          "text": "83.78",
          "x": "0.04s",
          "xref": "x",
          "y": "1g",
          "yref": "y"
         },
         {
          "font": {
           "color": "#000000"
          },
          "showarrow": false,
          "text": "63.15",
          "x": "0.08s",
          "xref": "x",
          "y": "1g",
          "yref": "y"
         },
         {
          "font": {
           "color": "#000000"
          },
          "showarrow": false,
          "text": "28.03",
          "x": "0.16s",
          "xref": "x",
          "y": "1g",
          "yref": "y"
         },
         {
          "font": {
           "color": "#000000"
          },
          "showarrow": false,
          "text": "0.32",
          "x": "0.32s",
          "xref": "x",
          "y": "1g",
          "yref": "y"
         },
         {
          "font": {
           "color": "#000000"
          },
          "showarrow": false,
          "text": "0.64",
          "x": "0.64s",
          "xref": "x",
          "y": "1g",
          "yref": "y"
         },
         {
          "font": {
           "color": "#000000"
          },
          "showarrow": false,
          "text": "1.28",
          "x": "1.28s",
          "xref": "x",
          "y": "1g",
          "yref": "y"
         },
         {
          "font": {
           "color": "#000000"
          },
          "showarrow": false,
          "text": "71.91",
          "x": "0.01s",
          "xref": "x",
          "y": "2g",
          "yref": "y"
         },
         {
          "font": {
           "color": "#FFFFFF"
          },
          "showarrow": false,
          "text": "87.86",
          "x": "0.02s",
          "xref": "x",
          "y": "2g",
          "yref": "y"
         },
         {
          "font": {
           "color": "#000000"
          },
          "showarrow": false,
          "text": "83.46",
          "x": "0.04s",
          "xref": "x",
          "y": "2g",
          "yref": "y"
         },
         {
          "font": {
           "color": "#FFFFFF"
          },
          "showarrow": false,
          "text": "100.48",
          "x": "0.08s",
          "xref": "x",
          "y": "2g",
          "yref": "y"
         },
         {
          "font": {
           "color": "#000000"
          },
          "showarrow": false,
          "text": "14.75",
          "x": "0.16s",
          "xref": "x",
          "y": "2g",
          "yref": "y"
         },
         {
          "font": {
           "color": "#000000"
          },
          "showarrow": false,
          "text": "0.32",
          "x": "0.32s",
          "xref": "x",
          "y": "2g",
          "yref": "y"
         },
         {
          "font": {
           "color": "#000000"
          },
          "showarrow": false,
          "text": "0.64",
          "x": "0.64s",
          "xref": "x",
          "y": "2g",
          "yref": "y"
         },
         {
          "font": {
           "color": "#000000"
          },
          "showarrow": false,
          "text": "1.28",
          "x": "1.28s",
          "xref": "x",
          "y": "2g",
          "yref": "y"
         },
         {
          "font": {
           "color": "#FFFFFF"
          },
          "showarrow": false,
          "text": "99.92",
          "x": "0.01s",
          "xref": "x",
          "y": "3g",
          "yref": "y"
         },
         {
          "font": {
           "color": "#FFFFFF"
          },
          "showarrow": false,
          "text": "110.23",
          "x": "0.02s",
          "xref": "x",
          "y": "3g",
          "yref": "y"
         },
         {
          "font": {
           "color": "#FFFFFF"
          },
          "showarrow": false,
          "text": "90.56",
          "x": "0.04s",
          "xref": "x",
          "y": "3g",
          "yref": "y"
         },
         {
          "font": {
           "color": "#000000"
          },
          "showarrow": false,
          "text": "82.4",
          "x": "0.08s",
          "xref": "x",
          "y": "3g",
          "yref": "y"
         },
         {
          "font": {
           "color": "#000000"
          },
          "showarrow": false,
          "text": "44.1",
          "x": "0.16s",
          "xref": "x",
          "y": "3g",
          "yref": "y"
         },
         {
          "font": {
           "color": "#000000"
          },
          "showarrow": false,
          "text": "0.32",
          "x": "0.32s",
          "xref": "x",
          "y": "3g",
          "yref": "y"
         },
         {
          "font": {
           "color": "#000000"
          },
          "showarrow": false,
          "text": "0.64",
          "x": "0.64s",
          "xref": "x",
          "y": "3g",
          "yref": "y"
         },
         {
          "font": {
           "color": "#000000"
          },
          "showarrow": false,
          "text": "1.28",
          "x": "1.28s",
          "xref": "x",
          "y": "3g",
          "yref": "y"
         },
         {
          "font": {
           "color": "#000000"
          },
          "showarrow": false,
          "text": "84.12",
          "x": "0.01s",
          "xref": "x",
          "y": "4g",
          "yref": "y"
         },
         {
          "font": {
           "color": "#FFFFFF"
          },
          "showarrow": false,
          "text": "130.92",
          "x": "0.02s",
          "xref": "x",
          "y": "4g",
          "yref": "y"
         },
         {
          "font": {
           "color": "#FFFFFF"
          },
          "showarrow": false,
          "text": "100.01",
          "x": "0.04s",
          "xref": "x",
          "y": "4g",
          "yref": "y"
         },
         {
          "font": {
           "color": "#FFFFFF"
          },
          "showarrow": false,
          "text": "88.56",
          "x": "0.08s",
          "xref": "x",
          "y": "4g",
          "yref": "y"
         },
         {
          "font": {
           "color": "#000000"
          },
          "showarrow": false,
          "text": "24.83",
          "x": "0.16s",
          "xref": "x",
          "y": "4g",
          "yref": "y"
         },
         {
          "font": {
           "color": "#000000"
          },
          "showarrow": false,
          "text": "0.32",
          "x": "0.32s",
          "xref": "x",
          "y": "4g",
          "yref": "y"
         },
         {
          "font": {
           "color": "#000000"
          },
          "showarrow": false,
          "text": "0.64",
          "x": "0.64s",
          "xref": "x",
          "y": "4g",
          "yref": "y"
         },
         {
          "font": {
           "color": "#000000"
          },
          "showarrow": false,
          "text": "1.28",
          "x": "1.28s",
          "xref": "x",
          "y": "4g",
          "yref": "y"
         },
         {
          "font": {
           "color": "#FFFFFF"
          },
          "showarrow": false,
          "text": "123.1",
          "x": "0.01s",
          "xref": "x",
          "y": "5g",
          "yref": "y"
         },
         {
          "font": {
           "color": "#FFFFFF"
          },
          "showarrow": false,
          "text": "143.6",
          "x": "0.02s",
          "xref": "x",
          "y": "5g",
          "yref": "y"
         },
         {
          "font": {
           "color": "#FFFFFF"
          },
          "showarrow": false,
          "text": "113.52",
          "x": "0.04s",
          "xref": "x",
          "y": "5g",
          "yref": "y"
         },
         {
          "font": {
           "color": "#FFFFFF"
          },
          "showarrow": false,
          "text": "135.01",
          "x": "0.08s",
          "xref": "x",
          "y": "5g",
          "yref": "y"
         },
         {
          "font": {
           "color": "#000000"
          },
          "showarrow": false,
          "text": "19.14",
          "x": "0.16s",
          "xref": "x",
          "y": "5g",
          "yref": "y"
         },
         {
          "font": {
           "color": "#000000"
          },
          "showarrow": false,
          "text": "0.32",
          "x": "0.32s",
          "xref": "x",
          "y": "5g",
          "yref": "y"
         },
         {
          "font": {
           "color": "#000000"
          },
          "showarrow": false,
          "text": "0.64",
          "x": "0.64s",
          "xref": "x",
          "y": "5g",
          "yref": "y"
         },
         {
          "font": {
           "color": "#000000"
          },
          "showarrow": false,
          "text": "1.28",
          "x": "1.28s",
          "xref": "x",
          "y": "5g",
          "yref": "y"
         },
         {
          "font": {
           "color": "#FFFFFF"
          },
          "showarrow": false,
          "text": "135.18",
          "x": "0.01s",
          "xref": "x",
          "y": "6g",
          "yref": "y"
         },
         {
          "font": {
           "color": "#FFFFFF"
          },
          "showarrow": false,
          "text": "147.39",
          "x": "0.02s",
          "xref": "x",
          "y": "6g",
          "yref": "y"
         },
         {
          "font": {
           "color": "#FFFFFF"
          },
          "showarrow": false,
          "text": "120.98",
          "x": "0.04s",
          "xref": "x",
          "y": "6g",
          "yref": "y"
         },
         {
          "font": {
           "color": "#000000"
          },
          "showarrow": false,
          "text": "82.42",
          "x": "0.08s",
          "xref": "x",
          "y": "6g",
          "yref": "y"
         },
         {
          "font": {
           "color": "#000000"
          },
          "showarrow": false,
          "text": "38.27",
          "x": "0.16s",
          "xref": "x",
          "y": "6g",
          "yref": "y"
         },
         {
          "font": {
           "color": "#000000"
          },
          "showarrow": false,
          "text": "0.32",
          "x": "0.32s",
          "xref": "x",
          "y": "6g",
          "yref": "y"
         },
         {
          "font": {
           "color": "#000000"
          },
          "showarrow": false,
          "text": "0.64",
          "x": "0.64s",
          "xref": "x",
          "y": "6g",
          "yref": "y"
         },
         {
          "font": {
           "color": "#000000"
          },
          "showarrow": false,
          "text": "1.28",
          "x": "1.28s",
          "xref": "x",
          "y": "6g",
          "yref": "y"
         },
         {
          "font": {
           "color": "#FFFFFF"
          },
          "showarrow": false,
          "text": "154.53",
          "x": "0.01s",
          "xref": "x",
          "y": "7g",
          "yref": "y"
         },
         {
          "font": {
           "color": "#FFFFFF"
          },
          "showarrow": false,
          "text": "160.19",
          "x": "0.02s",
          "xref": "x",
          "y": "7g",
          "yref": "y"
         },
         {
          "font": {
           "color": "#FFFFFF"
          },
          "showarrow": false,
          "text": "127.98",
          "x": "0.04s",
          "xref": "x",
          "y": "7g",
          "yref": "y"
         },
         {
          "font": {
           "color": "#000000"
          },
          "showarrow": false,
          "text": "72.58",
          "x": "0.08s",
          "xref": "x",
          "y": "7g",
          "yref": "y"
         },
         {
          "font": {
           "color": "#000000"
          },
          "showarrow": false,
          "text": "34.94",
          "x": "0.16s",
          "xref": "x",
          "y": "7g",
          "yref": "y"
         },
         {
          "font": {
           "color": "#000000"
          },
          "showarrow": false,
          "text": "0.32",
          "x": "0.32s",
          "xref": "x",
          "y": "7g",
          "yref": "y"
         },
         {
          "font": {
           "color": "#000000"
          },
          "showarrow": false,
          "text": "0.64",
          "x": "0.64s",
          "xref": "x",
          "y": "7g",
          "yref": "y"
         },
         {
          "font": {
           "color": "#000000"
          },
          "showarrow": false,
          "text": "1.28",
          "x": "1.28s",
          "xref": "x",
          "y": "7g",
          "yref": "y"
         },
         {
          "font": {
           "color": "#FFFFFF"
          },
          "showarrow": false,
          "text": "141.45",
          "x": "0.01s",
          "xref": "x",
          "y": "8g",
          "yref": "y"
         },
         {
          "font": {
           "color": "#FFFFFF"
          },
          "showarrow": false,
          "text": "157.68",
          "x": "0.02s",
          "xref": "x",
          "y": "8g",
          "yref": "y"
         },
         {
          "font": {
           "color": "#FFFFFF"
          },
          "showarrow": false,
          "text": "124.82",
          "x": "0.04s",
          "xref": "x",
          "y": "8g",
          "yref": "y"
         },
         {
          "font": {
           "color": "#FFFFFF"
          },
          "showarrow": false,
          "text": "117.02",
          "x": "0.08s",
          "xref": "x",
          "y": "8g",
          "yref": "y"
         },
         {
          "font": {
           "color": "#000000"
          },
          "showarrow": false,
          "text": "7.58",
          "x": "0.16s",
          "xref": "x",
          "y": "8g",
          "yref": "y"
         },
         {
          "font": {
           "color": "#000000"
          },
          "showarrow": false,
          "text": "0.32",
          "x": "0.32s",
          "xref": "x",
          "y": "8g",
          "yref": "y"
         },
         {
          "font": {
           "color": "#000000"
          },
          "showarrow": false,
          "text": "0.64",
          "x": "0.64s",
          "xref": "x",
          "y": "8g",
          "yref": "y"
         },
         {
          "font": {
           "color": "#000000"
          },
          "showarrow": false,
          "text": "1.28",
          "x": "1.28s",
          "xref": "x",
          "y": "8g",
          "yref": "y"
         },
         {
          "font": {
           "color": "#FFFFFF"
          },
          "showarrow": false,
          "text": "152.62",
          "x": "0.01s",
          "xref": "x",
          "y": "9g",
          "yref": "y"
         },
         {
          "font": {
           "color": "#FFFFFF"
          },
          "showarrow": false,
          "text": "169.62",
          "x": "0.02s",
          "xref": "x",
          "y": "9g",
          "yref": "y"
         },
         {
          "font": {
           "color": "#FFFFFF"
          },
          "showarrow": false,
          "text": "114.54",
          "x": "0.04s",
          "xref": "x",
          "y": "9g",
          "yref": "y"
         },
         {
          "font": {
           "color": "#FFFFFF"
          },
          "showarrow": false,
          "text": "92.78",
          "x": "0.08s",
          "xref": "x",
          "y": "9g",
          "yref": "y"
         },
         {
          "font": {
           "color": "#000000"
          },
          "showarrow": false,
          "text": "67.68",
          "x": "0.16s",
          "xref": "x",
          "y": "9g",
          "yref": "y"
         },
         {
          "font": {
           "color": "#000000"
          },
          "showarrow": false,
          "text": "0.32",
          "x": "0.32s",
          "xref": "x",
          "y": "9g",
          "yref": "y"
         },
         {
          "font": {
           "color": "#000000"
          },
          "showarrow": false,
          "text": "0.64",
          "x": "0.64s",
          "xref": "x",
          "y": "9g",
          "yref": "y"
         },
         {
          "font": {
           "color": "#000000"
          },
          "showarrow": false,
          "text": "1.28",
          "x": "1.28s",
          "xref": "x",
          "y": "9g",
          "yref": "y"
         },
         {
          "font": {
           "color": "#FFFFFF"
          },
          "showarrow": false,
          "text": "122.61",
          "x": "0.01s",
          "xref": "x",
          "y": "10g",
          "yref": "y"
         },
         {
          "font": {
           "color": "#FFFFFF"
          },
          "showarrow": false,
          "text": "146.12",
          "x": "0.02s",
          "xref": "x",
          "y": "10g",
          "yref": "y"
         },
         {
          "font": {
           "color": "#FFFFFF"
          },
          "showarrow": false,
          "text": "107.93",
          "x": "0.04s",
          "xref": "x",
          "y": "10g",
          "yref": "y"
         },
         {
          "font": {
           "color": "#FFFFFF"
          },
          "showarrow": false,
          "text": "109.04",
          "x": "0.08s",
          "xref": "x",
          "y": "10g",
          "yref": "y"
         },
         {
          "font": {
           "color": "#000000"
          },
          "showarrow": false,
          "text": "24.29",
          "x": "0.16s",
          "xref": "x",
          "y": "10g",
          "yref": "y"
         },
         {
          "font": {
           "color": "#000000"
          },
          "showarrow": false,
          "text": "0.32",
          "x": "0.32s",
          "xref": "x",
          "y": "10g",
          "yref": "y"
         },
         {
          "font": {
           "color": "#000000"
          },
          "showarrow": false,
          "text": "0.64",
          "x": "0.64s",
          "xref": "x",
          "y": "10g",
          "yref": "y"
         },
         {
          "font": {
           "color": "#000000"
          },
          "showarrow": false,
          "text": "1.28",
          "x": "1.28s",
          "xref": "x",
          "y": "10g",
          "yref": "y"
         },
         {
          "font": {
           "color": "#FFFFFF"
          },
          "showarrow": false,
          "text": "118.24",
          "x": "0.01s",
          "xref": "x",
          "y": "11g",
          "yref": "y"
         },
         {
          "font": {
           "color": "#FFFFFF"
          },
          "showarrow": false,
          "text": "115.22",
          "x": "0.02s",
          "xref": "x",
          "y": "11g",
          "yref": "y"
         },
         {
          "font": {
           "color": "#FFFFFF"
          },
          "showarrow": false,
          "text": "144.88",
          "x": "0.04s",
          "xref": "x",
          "y": "11g",
          "yref": "y"
         },
         {
          "font": {
           "color": "#FFFFFF"
          },
          "showarrow": false,
          "text": "115.73",
          "x": "0.08s",
          "xref": "x",
          "y": "11g",
          "yref": "y"
         },
         {
          "font": {
           "color": "#000000"
          },
          "showarrow": false,
          "text": "35.71",
          "x": "0.16s",
          "xref": "x",
          "y": "11g",
          "yref": "y"
         },
         {
          "font": {
           "color": "#000000"
          },
          "showarrow": false,
          "text": "0.32",
          "x": "0.32s",
          "xref": "x",
          "y": "11g",
          "yref": "y"
         },
         {
          "font": {
           "color": "#000000"
          },
          "showarrow": false,
          "text": "0.64",
          "x": "0.64s",
          "xref": "x",
          "y": "11g",
          "yref": "y"
         },
         {
          "font": {
           "color": "#000000"
          },
          "showarrow": false,
          "text": "1.28",
          "x": "1.28s",
          "xref": "x",
          "y": "11g",
          "yref": "y"
         },
         {
          "font": {
           "color": "#FFFFFF"
          },
          "showarrow": false,
          "text": "115.89",
          "x": "0.01s",
          "xref": "x",
          "y": "12g",
          "yref": "y"
         },
         {
          "font": {
           "color": "#FFFFFF"
          },
          "showarrow": false,
          "text": "99.91",
          "x": "0.02s",
          "xref": "x",
          "y": "12g",
          "yref": "y"
         },
         {
          "font": {
           "color": "#FFFFFF"
          },
          "showarrow": false,
          "text": "105.85",
          "x": "0.04s",
          "xref": "x",
          "y": "12g",
          "yref": "y"
         },
         {
          "font": {
           "color": "#FFFFFF"
          },
          "showarrow": false,
          "text": "88.85",
          "x": "0.08s",
          "xref": "x",
          "y": "12g",
          "yref": "y"
         },
         {
          "font": {
           "color": "#000000"
          },
          "showarrow": false,
          "text": "26.02",
          "x": "0.16s",
          "xref": "x",
          "y": "12g",
          "yref": "y"
         },
         {
          "font": {
           "color": "#000000"
          },
          "showarrow": false,
          "text": "0.32",
          "x": "0.32s",
          "xref": "x",
          "y": "12g",
          "yref": "y"
         },
         {
          "font": {
           "color": "#000000"
          },
          "showarrow": false,
          "text": "0.64",
          "x": "0.64s",
          "xref": "x",
          "y": "12g",
          "yref": "y"
         },
         {
          "font": {
           "color": "#000000"
          },
          "showarrow": false,
          "text": "1.28",
          "x": "1.28s",
          "xref": "x",
          "y": "12g",
          "yref": "y"
         },
         {
          "font": {
           "color": "#FFFFFF"
          },
          "showarrow": false,
          "text": "146.23",
          "x": "0.01s",
          "xref": "x",
          "y": "13g",
          "yref": "y"
         },
         {
          "font": {
           "color": "#FFFFFF"
          },
          "showarrow": false,
          "text": "124.27",
          "x": "0.02s",
          "xref": "x",
          "y": "13g",
          "yref": "y"
         },
         {
          "font": {
           "color": "#FFFFFF"
          },
          "showarrow": false,
          "text": "122.04",
          "x": "0.04s",
          "xref": "x",
          "y": "13g",
          "yref": "y"
         },
         {
          "font": {
           "color": "#000000"
          },
          "showarrow": false,
          "text": "83.62",
          "x": "0.08s",
          "xref": "x",
          "y": "13g",
          "yref": "y"
         },
         {
          "font": {
           "color": "#000000"
          },
          "showarrow": false,
          "text": "25.5",
          "x": "0.16s",
          "xref": "x",
          "y": "13g",
          "yref": "y"
         },
         {
          "font": {
           "color": "#000000"
          },
          "showarrow": false,
          "text": "0.32",
          "x": "0.32s",
          "xref": "x",
          "y": "13g",
          "yref": "y"
         },
         {
          "font": {
           "color": "#000000"
          },
          "showarrow": false,
          "text": "0.64",
          "x": "0.64s",
          "xref": "x",
          "y": "13g",
          "yref": "y"
         },
         {
          "font": {
           "color": "#000000"
          },
          "showarrow": false,
          "text": "1.28",
          "x": "1.28s",
          "xref": "x",
          "y": "13g",
          "yref": "y"
         },
         {
          "font": {
           "color": "#FFFFFF"
          },
          "showarrow": false,
          "text": "143.27",
          "x": "0.01s",
          "xref": "x",
          "y": "14g",
          "yref": "y"
         },
         {
          "font": {
           "color": "#FFFFFF"
          },
          "showarrow": false,
          "text": "126.15",
          "x": "0.02s",
          "xref": "x",
          "y": "14g",
          "yref": "y"
         },
         {
          "font": {
           "color": "#FFFFFF"
          },
          "showarrow": false,
          "text": "149.2",
          "x": "0.04s",
          "xref": "x",
          "y": "14g",
          "yref": "y"
         },
         {
          "font": {
           "color": "#FFFFFF"
          },
          "showarrow": false,
          "text": "123.15",
          "x": "0.08s",
          "xref": "x",
          "y": "14g",
          "yref": "y"
         },
         {
          "font": {
           "color": "#000000"
          },
          "showarrow": false,
          "text": "25.86",
          "x": "0.16s",
          "xref": "x",
          "y": "14g",
          "yref": "y"
         },
         {
          "font": {
           "color": "#000000"
          },
          "showarrow": false,
          "text": "0.32",
          "x": "0.32s",
          "xref": "x",
          "y": "14g",
          "yref": "y"
         },
         {
          "font": {
           "color": "#000000"
          },
          "showarrow": false,
          "text": "0.64",
          "x": "0.64s",
          "xref": "x",
          "y": "14g",
          "yref": "y"
         },
         {
          "font": {
           "color": "#000000"
          },
          "showarrow": false,
          "text": "1.28",
          "x": "1.28s",
          "xref": "x",
          "y": "14g",
          "yref": "y"
         },
         {
          "font": {
           "color": "#FFFFFF"
          },
          "showarrow": false,
          "text": "138.51",
          "x": "0.01s",
          "xref": "x",
          "y": "15g",
          "yref": "y"
         },
         {
          "font": {
           "color": "#FFFFFF"
          },
          "showarrow": false,
          "text": "93.06",
          "x": "0.02s",
          "xref": "x",
          "y": "15g",
          "yref": "y"
         },
         {
          "font": {
           "color": "#FFFFFF"
          },
          "showarrow": false,
          "text": "151.05",
          "x": "0.04s",
          "xref": "x",
          "y": "15g",
          "yref": "y"
         },
         {
          "font": {
           "color": "#FFFFFF"
          },
          "showarrow": false,
          "text": "106.66",
          "x": "0.08s",
          "xref": "x",
          "y": "15g",
          "yref": "y"
         },
         {
          "font": {
           "color": "#000000"
          },
          "showarrow": false,
          "text": "16.99",
          "x": "0.16s",
          "xref": "x",
          "y": "15g",
          "yref": "y"
         },
         {
          "font": {
           "color": "#000000"
          },
          "showarrow": false,
          "text": "0.32",
          "x": "0.32s",
          "xref": "x",
          "y": "15g",
          "yref": "y"
         },
         {
          "font": {
           "color": "#000000"
          },
          "showarrow": false,
          "text": "0.64",
          "x": "0.64s",
          "xref": "x",
          "y": "15g",
          "yref": "y"
         },
         {
          "font": {
           "color": "#000000"
          },
          "showarrow": false,
          "text": "1.28",
          "x": "1.28s",
          "xref": "x",
          "y": "15g",
          "yref": "y"
         },
         {
          "font": {
           "color": "#FFFFFF"
          },
          "showarrow": false,
          "text": "126.4",
          "x": "0.01s",
          "xref": "x",
          "y": "16g",
          "yref": "y"
         },
         {
          "font": {
           "color": "#FFFFFF"
          },
          "showarrow": false,
          "text": "133.03",
          "x": "0.02s",
          "xref": "x",
          "y": "16g",
          "yref": "y"
         },
         {
          "font": {
           "color": "#FFFFFF"
          },
          "showarrow": false,
          "text": "95.9",
          "x": "0.04s",
          "xref": "x",
          "y": "16g",
          "yref": "y"
         },
         {
          "font": {
           "color": "#FFFFFF"
          },
          "showarrow": false,
          "text": "98.93",
          "x": "0.08s",
          "xref": "x",
          "y": "16g",
          "yref": "y"
         },
         {
          "font": {
           "color": "#000000"
          },
          "showarrow": false,
          "text": "47.46",
          "x": "0.16s",
          "xref": "x",
          "y": "16g",
          "yref": "y"
         },
         {
          "font": {
           "color": "#000000"
          },
          "showarrow": false,
          "text": "0.32",
          "x": "0.32s",
          "xref": "x",
          "y": "16g",
          "yref": "y"
         },
         {
          "font": {
           "color": "#000000"
          },
          "showarrow": false,
          "text": "0.64",
          "x": "0.64s",
          "xref": "x",
          "y": "16g",
          "yref": "y"
         },
         {
          "font": {
           "color": "#000000"
          },
          "showarrow": false,
          "text": "1.28",
          "x": "1.28s",
          "xref": "x",
          "y": "16g",
          "yref": "y"
         },
         {
          "font": {
           "color": "#FFFFFF"
          },
          "showarrow": false,
          "text": "131.21",
          "x": "0.01s",
          "xref": "x",
          "y": "17g",
          "yref": "y"
         },
         {
          "font": {
           "color": "#FFFFFF"
          },
          "showarrow": false,
          "text": "93.26",
          "x": "0.02s",
          "xref": "x",
          "y": "17g",
          "yref": "y"
         },
         {
          "font": {
           "color": "#FFFFFF"
          },
          "showarrow": false,
          "text": "118.51",
          "x": "0.04s",
          "xref": "x",
          "y": "17g",
          "yref": "y"
         },
         {
          "font": {
           "color": "#FFFFFF"
          },
          "showarrow": false,
          "text": "95.74",
          "x": "0.08s",
          "xref": "x",
          "y": "17g",
          "yref": "y"
         },
         {
          "font": {
           "color": "#000000"
          },
          "showarrow": false,
          "text": "29.98",
          "x": "0.16s",
          "xref": "x",
          "y": "17g",
          "yref": "y"
         },
         {
          "font": {
           "color": "#000000"
          },
          "showarrow": false,
          "text": "0.32",
          "x": "0.32s",
          "xref": "x",
          "y": "17g",
          "yref": "y"
         },
         {
          "font": {
           "color": "#000000"
          },
          "showarrow": false,
          "text": "0.64",
          "x": "0.64s",
          "xref": "x",
          "y": "17g",
          "yref": "y"
         },
         {
          "font": {
           "color": "#000000"
          },
          "showarrow": false,
          "text": "1.28",
          "x": "1.28s",
          "xref": "x",
          "y": "17g",
          "yref": "y"
         },
         {
          "font": {
           "color": "#000000"
          },
          "showarrow": false,
          "text": "84.0",
          "x": "0.01s",
          "xref": "x",
          "y": "18g",
          "yref": "y"
         },
         {
          "font": {
           "color": "#FFFFFF"
          },
          "showarrow": false,
          "text": "95.19",
          "x": "0.02s",
          "xref": "x",
          "y": "18g",
          "yref": "y"
         },
         {
          "font": {
           "color": "#FFFFFF"
          },
          "showarrow": false,
          "text": "137.05",
          "x": "0.04s",
          "xref": "x",
          "y": "18g",
          "yref": "y"
         },
         {
          "font": {
           "color": "#FFFFFF"
          },
          "showarrow": false,
          "text": "89.97",
          "x": "0.08s",
          "xref": "x",
          "y": "18g",
          "yref": "y"
         },
         {
          "font": {
           "color": "#000000"
          },
          "showarrow": false,
          "text": "21.86",
          "x": "0.16s",
          "xref": "x",
          "y": "18g",
          "yref": "y"
         },
         {
          "font": {
           "color": "#000000"
          },
          "showarrow": false,
          "text": "0.32",
          "x": "0.32s",
          "xref": "x",
          "y": "18g",
          "yref": "y"
         },
         {
          "font": {
           "color": "#000000"
          },
          "showarrow": false,
          "text": "0.64",
          "x": "0.64s",
          "xref": "x",
          "y": "18g",
          "yref": "y"
         },
         {
          "font": {
           "color": "#000000"
          },
          "showarrow": false,
          "text": "1.28",
          "x": "1.28s",
          "xref": "x",
          "y": "18g",
          "yref": "y"
         },
         {
          "font": {
           "color": "#FFFFFF"
          },
          "showarrow": false,
          "text": "93.78",
          "x": "0.01s",
          "xref": "x",
          "y": "19g",
          "yref": "y"
         },
         {
          "font": {
           "color": "#FFFFFF"
          },
          "showarrow": false,
          "text": "95.32",
          "x": "0.02s",
          "xref": "x",
          "y": "19g",
          "yref": "y"
         },
         {
          "font": {
           "color": "#FFFFFF"
          },
          "showarrow": false,
          "text": "131.96",
          "x": "0.04s",
          "xref": "x",
          "y": "19g",
          "yref": "y"
         },
         {
          "font": {
           "color": "#FFFFFF"
          },
          "showarrow": false,
          "text": "129.14",
          "x": "0.08s",
          "xref": "x",
          "y": "19g",
          "yref": "y"
         },
         {
          "font": {
           "color": "#000000"
          },
          "showarrow": false,
          "text": "13.76",
          "x": "0.16s",
          "xref": "x",
          "y": "19g",
          "yref": "y"
         },
         {
          "font": {
           "color": "#000000"
          },
          "showarrow": false,
          "text": "0.32",
          "x": "0.32s",
          "xref": "x",
          "y": "19g",
          "yref": "y"
         },
         {
          "font": {
           "color": "#000000"
          },
          "showarrow": false,
          "text": "0.64",
          "x": "0.64s",
          "xref": "x",
          "y": "19g",
          "yref": "y"
         },
         {
          "font": {
           "color": "#000000"
          },
          "showarrow": false,
          "text": "1.28",
          "x": "1.28s",
          "xref": "x",
          "y": "19g",
          "yref": "y"
         },
         {
          "font": {
           "color": "#FFFFFF"
          },
          "showarrow": false,
          "text": "100.26",
          "x": "0.01s",
          "xref": "x",
          "y": "20g",
          "yref": "y"
         },
         {
          "font": {
           "color": "#FFFFFF"
          },
          "showarrow": false,
          "text": "133.42",
          "x": "0.02s",
          "xref": "x",
          "y": "20g",
          "yref": "y"
         },
         {
          "font": {
           "color": "#FFFFFF"
          },
          "showarrow": false,
          "text": "112.43",
          "x": "0.04s",
          "xref": "x",
          "y": "20g",
          "yref": "y"
         },
         {
          "font": {
           "color": "#FFFFFF"
          },
          "showarrow": false,
          "text": "99.63",
          "x": "0.08s",
          "xref": "x",
          "y": "20g",
          "yref": "y"
         },
         {
          "font": {
           "color": "#000000"
          },
          "showarrow": false,
          "text": "7.94",
          "x": "0.16s",
          "xref": "x",
          "y": "20g",
          "yref": "y"
         },
         {
          "font": {
           "color": "#000000"
          },
          "showarrow": false,
          "text": "0.32",
          "x": "0.32s",
          "xref": "x",
          "y": "20g",
          "yref": "y"
         },
         {
          "font": {
           "color": "#000000"
          },
          "showarrow": false,
          "text": "0.64",
          "x": "0.64s",
          "xref": "x",
          "y": "20g",
          "yref": "y"
         },
         {
          "font": {
           "color": "#000000"
          },
          "showarrow": false,
          "text": "1.28",
          "x": "1.28s",
          "xref": "x",
          "y": "20g",
          "yref": "y"
         }
        ],
        "font": {
         "size": 15
        },
        "height": 700,
        "template": {
         "data": {
          "bar": [
           {
            "error_x": {
             "color": "#2a3f5f"
            },
            "error_y": {
             "color": "#2a3f5f"
            },
            "marker": {
             "line": {
              "color": "#E5ECF6",
              "width": 0.5
             },
             "pattern": {
              "fillmode": "overlay",
              "size": 10,
              "solidity": 0.2
             }
            },
            "type": "bar"
           }
          ],
          "barpolar": [
           {
            "marker": {
             "line": {
              "color": "#E5ECF6",
              "width": 0.5
             },
             "pattern": {
              "fillmode": "overlay",
              "size": 10,
              "solidity": 0.2
             }
            },
            "type": "barpolar"
           }
          ],
          "carpet": [
           {
            "aaxis": {
             "endlinecolor": "#2a3f5f",
             "gridcolor": "white",
             "linecolor": "white",
             "minorgridcolor": "white",
             "startlinecolor": "#2a3f5f"
            },
            "baxis": {
             "endlinecolor": "#2a3f5f",
             "gridcolor": "white",
             "linecolor": "white",
             "minorgridcolor": "white",
             "startlinecolor": "#2a3f5f"
            },
            "type": "carpet"
           }
          ],
          "choropleth": [
           {
            "colorbar": {
             "outlinewidth": 0,
             "ticks": ""
            },
            "type": "choropleth"
           }
          ],
          "contour": [
           {
            "colorbar": {
             "outlinewidth": 0,
             "ticks": ""
            },
            "colorscale": [
             [
              0,
              "#0d0887"
             ],
             [
              0.1111111111111111,
              "#46039f"
             ],
             [
              0.2222222222222222,
              "#7201a8"
             ],
             [
              0.3333333333333333,
              "#9c179e"
             ],
             [
              0.4444444444444444,
              "#bd3786"
             ],
             [
              0.5555555555555556,
              "#d8576b"
             ],
             [
              0.6666666666666666,
              "#ed7953"
             ],
             [
              0.7777777777777778,
              "#fb9f3a"
             ],
             [
              0.8888888888888888,
              "#fdca26"
             ],
             [
              1,
              "#f0f921"
             ]
            ],
            "type": "contour"
           }
          ],
          "contourcarpet": [
           {
            "colorbar": {
             "outlinewidth": 0,
             "ticks": ""
            },
            "type": "contourcarpet"
           }
          ],
          "heatmap": [
           {
            "colorbar": {
             "outlinewidth": 0,
             "ticks": ""
            },
            "colorscale": [
             [
              0,
              "#0d0887"
             ],
             [
              0.1111111111111111,
              "#46039f"
             ],
             [
              0.2222222222222222,
              "#7201a8"
             ],
             [
              0.3333333333333333,
              "#9c179e"
             ],
             [
              0.4444444444444444,
              "#bd3786"
             ],
             [
              0.5555555555555556,
              "#d8576b"
             ],
             [
              0.6666666666666666,
              "#ed7953"
             ],
             [
              0.7777777777777778,
              "#fb9f3a"
             ],
             [
              0.8888888888888888,
              "#fdca26"
             ],
             [
              1,
              "#f0f921"
             ]
            ],
            "type": "heatmap"
           }
          ],
          "heatmapgl": [
           {
            "colorbar": {
             "outlinewidth": 0,
             "ticks": ""
            },
            "colorscale": [
             [
              0,
              "#0d0887"
             ],
             [
              0.1111111111111111,
              "#46039f"
             ],
             [
              0.2222222222222222,
              "#7201a8"
             ],
             [
              0.3333333333333333,
              "#9c179e"
             ],
             [
              0.4444444444444444,
              "#bd3786"
             ],
             [
              0.5555555555555556,
              "#d8576b"
             ],
             [
              0.6666666666666666,
              "#ed7953"
             ],
             [
              0.7777777777777778,
              "#fb9f3a"
             ],
             [
              0.8888888888888888,
              "#fdca26"
             ],
             [
              1,
              "#f0f921"
             ]
            ],
            "type": "heatmapgl"
           }
          ],
          "histogram": [
           {
            "marker": {
             "pattern": {
              "fillmode": "overlay",
              "size": 10,
              "solidity": 0.2
             }
            },
            "type": "histogram"
           }
          ],
          "histogram2d": [
           {
            "colorbar": {
             "outlinewidth": 0,
             "ticks": ""
            },
            "colorscale": [
             [
              0,
              "#0d0887"
             ],
             [
              0.1111111111111111,
              "#46039f"
             ],
             [
              0.2222222222222222,
              "#7201a8"
             ],
             [
              0.3333333333333333,
              "#9c179e"
             ],
             [
              0.4444444444444444,
              "#bd3786"
             ],
             [
              0.5555555555555556,
              "#d8576b"
             ],
             [
              0.6666666666666666,
              "#ed7953"
             ],
             [
              0.7777777777777778,
              "#fb9f3a"
             ],
             [
              0.8888888888888888,
              "#fdca26"
             ],
             [
              1,
              "#f0f921"
             ]
            ],
            "type": "histogram2d"
           }
          ],
          "histogram2dcontour": [
           {
            "colorbar": {
             "outlinewidth": 0,
             "ticks": ""
            },
            "colorscale": [
             [
              0,
              "#0d0887"
             ],
             [
              0.1111111111111111,
              "#46039f"
             ],
             [
              0.2222222222222222,
              "#7201a8"
             ],
             [
              0.3333333333333333,
              "#9c179e"
             ],
             [
              0.4444444444444444,
              "#bd3786"
             ],
             [
              0.5555555555555556,
              "#d8576b"
             ],
             [
              0.6666666666666666,
              "#ed7953"
             ],
             [
              0.7777777777777778,
              "#fb9f3a"
             ],
             [
              0.8888888888888888,
              "#fdca26"
             ],
             [
              1,
              "#f0f921"
             ]
            ],
            "type": "histogram2dcontour"
           }
          ],
          "mesh3d": [
           {
            "colorbar": {
             "outlinewidth": 0,
             "ticks": ""
            },
            "type": "mesh3d"
           }
          ],
          "parcoords": [
           {
            "line": {
             "colorbar": {
              "outlinewidth": 0,
              "ticks": ""
             }
            },
            "type": "parcoords"
           }
          ],
          "pie": [
           {
            "automargin": true,
            "type": "pie"
           }
          ],
          "scatter": [
           {
            "marker": {
             "colorbar": {
              "outlinewidth": 0,
              "ticks": ""
             }
            },
            "type": "scatter"
           }
          ],
          "scatter3d": [
           {
            "line": {
             "colorbar": {
              "outlinewidth": 0,
              "ticks": ""
             }
            },
            "marker": {
             "colorbar": {
              "outlinewidth": 0,
              "ticks": ""
             }
            },
            "type": "scatter3d"
           }
          ],
          "scattercarpet": [
           {
            "marker": {
             "colorbar": {
              "outlinewidth": 0,
              "ticks": ""
             }
            },
            "type": "scattercarpet"
           }
          ],
          "scattergeo": [
           {
            "marker": {
             "colorbar": {
              "outlinewidth": 0,
              "ticks": ""
             }
            },
            "type": "scattergeo"
           }
          ],
          "scattergl": [
           {
            "marker": {
             "colorbar": {
              "outlinewidth": 0,
              "ticks": ""
             }
            },
            "type": "scattergl"
           }
          ],
          "scattermapbox": [
           {
            "marker": {
             "colorbar": {
              "outlinewidth": 0,
              "ticks": ""
             }
            },
            "type": "scattermapbox"
           }
          ],
          "scatterpolar": [
           {
            "marker": {
             "colorbar": {
              "outlinewidth": 0,
              "ticks": ""
             }
            },
            "type": "scatterpolar"
           }
          ],
          "scatterpolargl": [
           {
            "marker": {
             "colorbar": {
              "outlinewidth": 0,
              "ticks": ""
             }
            },
            "type": "scatterpolargl"
           }
          ],
          "scatterternary": [
           {
            "marker": {
             "colorbar": {
              "outlinewidth": 0,
              "ticks": ""
             }
            },
            "type": "scatterternary"
           }
          ],
          "surface": [
           {
            "colorbar": {
             "outlinewidth": 0,
             "ticks": ""
            },
            "colorscale": [
             [
              0,
              "#0d0887"
             ],
             [
              0.1111111111111111,
              "#46039f"
             ],
             [
              0.2222222222222222,
              "#7201a8"
             ],
             [
              0.3333333333333333,
              "#9c179e"
             ],
             [
              0.4444444444444444,
              "#bd3786"
             ],
             [
              0.5555555555555556,
              "#d8576b"
             ],
             [
              0.6666666666666666,
              "#ed7953"
             ],
             [
              0.7777777777777778,
              "#fb9f3a"
             ],
             [
              0.8888888888888888,
              "#fdca26"
             ],
             [
              1,
              "#f0f921"
             ]
            ],
            "type": "surface"
           }
          ],
          "table": [
           {
            "cells": {
             "fill": {
              "color": "#EBF0F8"
             },
             "line": {
              "color": "white"
             }
            },
            "header": {
             "fill": {
              "color": "#C8D4E3"
             },
             "line": {
              "color": "white"
             }
            },
            "type": "table"
           }
          ]
         },
         "layout": {
          "annotationdefaults": {
           "arrowcolor": "#2a3f5f",
           "arrowhead": 0,
           "arrowwidth": 1
          },
          "autotypenumbers": "strict",
          "coloraxis": {
           "colorbar": {
            "outlinewidth": 0,
            "ticks": ""
           }
          },
          "colorscale": {
           "diverging": [
            [
             0,
             "#8e0152"
            ],
            [
             0.1,
             "#c51b7d"
            ],
            [
             0.2,
             "#de77ae"
            ],
            [
             0.3,
             "#f1b6da"
            ],
            [
             0.4,
             "#fde0ef"
            ],
            [
             0.5,
             "#f7f7f7"
            ],
            [
             0.6,
             "#e6f5d0"
            ],
            [
             0.7,
             "#b8e186"
            ],
            [
             0.8,
             "#7fbc41"
            ],
            [
             0.9,
             "#4d9221"
            ],
            [
             1,
             "#276419"
            ]
           ],
           "sequential": [
            [
             0,
             "#0d0887"
            ],
            [
             0.1111111111111111,
             "#46039f"
            ],
            [
             0.2222222222222222,
             "#7201a8"
            ],
            [
             0.3333333333333333,
             "#9c179e"
            ],
            [
             0.4444444444444444,
             "#bd3786"
            ],
            [
             0.5555555555555556,
             "#d8576b"
            ],
            [
             0.6666666666666666,
             "#ed7953"
            ],
            [
             0.7777777777777778,
             "#fb9f3a"
            ],
            [
             0.8888888888888888,
             "#fdca26"
            ],
            [
             1,
             "#f0f921"
            ]
           ],
           "sequentialminus": [
            [
             0,
             "#0d0887"
            ],
            [
             0.1111111111111111,
             "#46039f"
            ],
            [
             0.2222222222222222,
             "#7201a8"
            ],
            [
             0.3333333333333333,
             "#9c179e"
            ],
            [
             0.4444444444444444,
             "#bd3786"
            ],
            [
             0.5555555555555556,
             "#d8576b"
            ],
            [
             0.6666666666666666,
             "#ed7953"
            ],
            [
             0.7777777777777778,
             "#fb9f3a"
            ],
            [
             0.8888888888888888,
             "#fdca26"
            ],
            [
             1,
             "#f0f921"
            ]
           ]
          },
          "colorway": [
           "#636efa",
           "#EF553B",
           "#00cc96",
           "#ab63fa",
           "#FFA15A",
           "#19d3f3",
           "#FF6692",
           "#B6E880",
           "#FF97FF",
           "#FECB52"
          ],
          "font": {
           "color": "#2a3f5f"
          },
          "geo": {
           "bgcolor": "white",
           "lakecolor": "white",
           "landcolor": "#E5ECF6",
           "showlakes": true,
           "showland": true,
           "subunitcolor": "white"
          },
          "hoverlabel": {
           "align": "left"
          },
          "hovermode": "closest",
          "mapbox": {
           "style": "light"
          },
          "paper_bgcolor": "white",
          "plot_bgcolor": "#E5ECF6",
          "polar": {
           "angularaxis": {
            "gridcolor": "white",
            "linecolor": "white",
            "ticks": ""
           },
           "bgcolor": "#E5ECF6",
           "radialaxis": {
            "gridcolor": "white",
            "linecolor": "white",
            "ticks": ""
           }
          },
          "scene": {
           "xaxis": {
            "backgroundcolor": "#E5ECF6",
            "gridcolor": "white",
            "gridwidth": 2,
            "linecolor": "white",
            "showbackground": true,
            "ticks": "",
            "zerolinecolor": "white"
           },
           "yaxis": {
            "backgroundcolor": "#E5ECF6",
            "gridcolor": "white",
            "gridwidth": 2,
            "linecolor": "white",
            "showbackground": true,
            "ticks": "",
            "zerolinecolor": "white"
           },
           "zaxis": {
            "backgroundcolor": "#E5ECF6",
            "gridcolor": "white",
            "gridwidth": 2,
            "linecolor": "white",
            "showbackground": true,
            "ticks": "",
            "zerolinecolor": "white"
           }
          },
          "shapedefaults": {
           "line": {
            "color": "#2a3f5f"
           }
          },
          "ternary": {
           "aaxis": {
            "gridcolor": "white",
            "linecolor": "white",
            "ticks": ""
           },
           "baxis": {
            "gridcolor": "white",
            "linecolor": "white",
            "ticks": ""
           },
           "bgcolor": "#E5ECF6",
           "caxis": {
            "gridcolor": "white",
            "linecolor": "white",
            "ticks": ""
           }
          },
          "title": {
           "x": 0.05
          },
          "xaxis": {
           "automargin": true,
           "gridcolor": "white",
           "linecolor": "white",
           "ticks": "",
           "title": {
            "standoff": 15
           },
           "zerolinecolor": "white",
           "zerolinewidth": 2
          },
          "yaxis": {
           "automargin": true,
           "gridcolor": "white",
           "linecolor": "white",
           "ticks": "",
           "title": {
            "standoff": 15
           },
           "zerolinecolor": "white",
           "zerolinewidth": 2
          }
         }
        },
        "xaxis": {
         "dtick": 1,
         "gridcolor": "rgb(0, 0, 0)",
         "side": "bottom",
         "ticks": "",
         "title": {
          "text": "Response Time"
         }
        },
        "yaxis": {
         "dtick": 1,
         "ticks": "",
         "ticksuffix": "  ",
         "title": {
          "text": "Max Pertubation during training"
         }
        }
       }
      },
      "text/html": [
       "<div>                            <div id=\"f81c1747-9ca9-4b31-a00b-3541a0f60182\" class=\"plotly-graph-div\" style=\"height:700px; width:100%;\"></div>            <script type=\"text/javascript\">                require([\"plotly\"], function(Plotly) {                    window.PLOTLYENV=window.PLOTLYENV || {};                                    if (document.getElementById(\"f81c1747-9ca9-4b31-a00b-3541a0f60182\")) {                    Plotly.newPlot(                        \"f81c1747-9ca9-4b31-a00b-3541a0f60182\",                        [{\"colorscale\":[[0.0,\"rgb(247,251,255)\"],[0.125,\"rgb(222,235,247)\"],[0.25,\"rgb(198,219,239)\"],[0.375,\"rgb(158,202,225)\"],[0.5,\"rgb(107,174,214)\"],[0.625,\"rgb(66,146,198)\"],[0.75,\"rgb(33,113,181)\"],[0.875,\"rgb(8,81,156)\"],[1.0,\"rgb(8,48,107)\"]],\"reversescale\":false,\"showscale\":true,\"type\":\"heatmap\",\"x\":[\"0.01s\",\"0.02s\",\"0.04s\",\"0.08s\",\"0.16s\",\"0.32s\",\"0.64s\",\"1.28s\"],\"y\":[\"0g\",\"1g\",\"2g\",\"3g\",\"4g\",\"5g\",\"6g\",\"7g\",\"8g\",\"9g\",\"10g\",\"11g\",\"12g\",\"13g\",\"14g\",\"15g\",\"16g\",\"17g\",\"18g\",\"19g\",\"20g\"],\"z\":[[46.186,79.136,82.64,93.82400000000001,9.216,0.32,0.64,1.28],[82.884,77.46,83.776,63.152,28.032000000000004,0.32,0.64,1.28],[71.912,87.864,83.464,100.48,14.752,0.32,0.64,1.28],[99.924,110.232,90.55999999999999,82.4,44.096000000000004,0.32,0.64,1.28],[84.11800000000001,130.924,100.008,88.55999999999999,24.832,0.32,0.64,1.28],[123.1,143.604,113.51999999999998,135.00799999999998,19.136000000000003,0.32,0.64,1.28],[135.18200000000002,147.38799999999998,120.98400000000001,82.41600000000001,38.272000000000006,0.32,0.64,1.28],[154.53,160.18800000000002,127.98400000000001,72.576,34.944,0.32,0.64,1.28],[141.448,157.676,124.824,117.02400000000003,7.5840000000000005,0.32,0.64,1.28],[152.618,169.61600000000004,114.53599999999999,92.78399999999999,67.68,0.32,0.64,1.28],[122.61000000000001,146.12399999999997,107.928,109.04,24.288,0.32,0.64,1.28],[118.23799999999999,115.22,144.88000000000002,115.72800000000002,35.712,0.32,0.64,1.28],[115.886,99.912,105.848,88.848,26.016,0.32,0.64,1.28],[146.23,124.27199999999998,122.04,83.616,25.503999999999998,0.32,0.64,1.28],[143.272,126.148,149.2,123.152,25.856,0.32,0.64,1.28],[138.506,93.06,151.048,106.65599999999999,16.992,0.32,0.64,1.28],[126.396,133.028,95.896,98.92800000000003,47.455999999999996,0.32,0.64,1.28],[131.20999999999998,93.256,118.51199999999999,95.744,29.983999999999998,0.32,0.64,1.28],[84.0,95.192,137.048,89.968,21.856000000000005,0.32,0.64,1.28],[93.78399999999999,95.32000000000001,131.95999999999998,129.13600000000002,13.760000000000002,0.32,0.64,1.28],[100.26200000000001,133.416,112.43200000000002,99.632,7.935999999999998,0.32,0.64,1.28]]}],                        {\"annotations\":[{\"font\":{\"color\":\"#000000\"},\"showarrow\":false,\"text\":\"46.19\",\"x\":\"0.01s\",\"xref\":\"x\",\"y\":\"0g\",\"yref\":\"y\"},{\"font\":{\"color\":\"#000000\"},\"showarrow\":false,\"text\":\"79.14\",\"x\":\"0.02s\",\"xref\":\"x\",\"y\":\"0g\",\"yref\":\"y\"},{\"font\":{\"color\":\"#000000\"},\"showarrow\":false,\"text\":\"82.64\",\"x\":\"0.04s\",\"xref\":\"x\",\"y\":\"0g\",\"yref\":\"y\"},{\"font\":{\"color\":\"#FFFFFF\"},\"showarrow\":false,\"text\":\"93.82\",\"x\":\"0.08s\",\"xref\":\"x\",\"y\":\"0g\",\"yref\":\"y\"},{\"font\":{\"color\":\"#000000\"},\"showarrow\":false,\"text\":\"9.22\",\"x\":\"0.16s\",\"xref\":\"x\",\"y\":\"0g\",\"yref\":\"y\"},{\"font\":{\"color\":\"#000000\"},\"showarrow\":false,\"text\":\"0.32\",\"x\":\"0.32s\",\"xref\":\"x\",\"y\":\"0g\",\"yref\":\"y\"},{\"font\":{\"color\":\"#000000\"},\"showarrow\":false,\"text\":\"0.64\",\"x\":\"0.64s\",\"xref\":\"x\",\"y\":\"0g\",\"yref\":\"y\"},{\"font\":{\"color\":\"#000000\"},\"showarrow\":false,\"text\":\"1.28\",\"x\":\"1.28s\",\"xref\":\"x\",\"y\":\"0g\",\"yref\":\"y\"},{\"font\":{\"color\":\"#000000\"},\"showarrow\":false,\"text\":\"82.88\",\"x\":\"0.01s\",\"xref\":\"x\",\"y\":\"1g\",\"yref\":\"y\"},{\"font\":{\"color\":\"#000000\"},\"showarrow\":false,\"text\":\"77.46\",\"x\":\"0.02s\",\"xref\":\"x\",\"y\":\"1g\",\"yref\":\"y\"},{\"font\":{\"color\":\"#000000\"},\"showarrow\":false,\"text\":\"83.78\",\"x\":\"0.04s\",\"xref\":\"x\",\"y\":\"1g\",\"yref\":\"y\"},{\"font\":{\"color\":\"#000000\"},\"showarrow\":false,\"text\":\"63.15\",\"x\":\"0.08s\",\"xref\":\"x\",\"y\":\"1g\",\"yref\":\"y\"},{\"font\":{\"color\":\"#000000\"},\"showarrow\":false,\"text\":\"28.03\",\"x\":\"0.16s\",\"xref\":\"x\",\"y\":\"1g\",\"yref\":\"y\"},{\"font\":{\"color\":\"#000000\"},\"showarrow\":false,\"text\":\"0.32\",\"x\":\"0.32s\",\"xref\":\"x\",\"y\":\"1g\",\"yref\":\"y\"},{\"font\":{\"color\":\"#000000\"},\"showarrow\":false,\"text\":\"0.64\",\"x\":\"0.64s\",\"xref\":\"x\",\"y\":\"1g\",\"yref\":\"y\"},{\"font\":{\"color\":\"#000000\"},\"showarrow\":false,\"text\":\"1.28\",\"x\":\"1.28s\",\"xref\":\"x\",\"y\":\"1g\",\"yref\":\"y\"},{\"font\":{\"color\":\"#000000\"},\"showarrow\":false,\"text\":\"71.91\",\"x\":\"0.01s\",\"xref\":\"x\",\"y\":\"2g\",\"yref\":\"y\"},{\"font\":{\"color\":\"#FFFFFF\"},\"showarrow\":false,\"text\":\"87.86\",\"x\":\"0.02s\",\"xref\":\"x\",\"y\":\"2g\",\"yref\":\"y\"},{\"font\":{\"color\":\"#000000\"},\"showarrow\":false,\"text\":\"83.46\",\"x\":\"0.04s\",\"xref\":\"x\",\"y\":\"2g\",\"yref\":\"y\"},{\"font\":{\"color\":\"#FFFFFF\"},\"showarrow\":false,\"text\":\"100.48\",\"x\":\"0.08s\",\"xref\":\"x\",\"y\":\"2g\",\"yref\":\"y\"},{\"font\":{\"color\":\"#000000\"},\"showarrow\":false,\"text\":\"14.75\",\"x\":\"0.16s\",\"xref\":\"x\",\"y\":\"2g\",\"yref\":\"y\"},{\"font\":{\"color\":\"#000000\"},\"showarrow\":false,\"text\":\"0.32\",\"x\":\"0.32s\",\"xref\":\"x\",\"y\":\"2g\",\"yref\":\"y\"},{\"font\":{\"color\":\"#000000\"},\"showarrow\":false,\"text\":\"0.64\",\"x\":\"0.64s\",\"xref\":\"x\",\"y\":\"2g\",\"yref\":\"y\"},{\"font\":{\"color\":\"#000000\"},\"showarrow\":false,\"text\":\"1.28\",\"x\":\"1.28s\",\"xref\":\"x\",\"y\":\"2g\",\"yref\":\"y\"},{\"font\":{\"color\":\"#FFFFFF\"},\"showarrow\":false,\"text\":\"99.92\",\"x\":\"0.01s\",\"xref\":\"x\",\"y\":\"3g\",\"yref\":\"y\"},{\"font\":{\"color\":\"#FFFFFF\"},\"showarrow\":false,\"text\":\"110.23\",\"x\":\"0.02s\",\"xref\":\"x\",\"y\":\"3g\",\"yref\":\"y\"},{\"font\":{\"color\":\"#FFFFFF\"},\"showarrow\":false,\"text\":\"90.56\",\"x\":\"0.04s\",\"xref\":\"x\",\"y\":\"3g\",\"yref\":\"y\"},{\"font\":{\"color\":\"#000000\"},\"showarrow\":false,\"text\":\"82.4\",\"x\":\"0.08s\",\"xref\":\"x\",\"y\":\"3g\",\"yref\":\"y\"},{\"font\":{\"color\":\"#000000\"},\"showarrow\":false,\"text\":\"44.1\",\"x\":\"0.16s\",\"xref\":\"x\",\"y\":\"3g\",\"yref\":\"y\"},{\"font\":{\"color\":\"#000000\"},\"showarrow\":false,\"text\":\"0.32\",\"x\":\"0.32s\",\"xref\":\"x\",\"y\":\"3g\",\"yref\":\"y\"},{\"font\":{\"color\":\"#000000\"},\"showarrow\":false,\"text\":\"0.64\",\"x\":\"0.64s\",\"xref\":\"x\",\"y\":\"3g\",\"yref\":\"y\"},{\"font\":{\"color\":\"#000000\"},\"showarrow\":false,\"text\":\"1.28\",\"x\":\"1.28s\",\"xref\":\"x\",\"y\":\"3g\",\"yref\":\"y\"},{\"font\":{\"color\":\"#000000\"},\"showarrow\":false,\"text\":\"84.12\",\"x\":\"0.01s\",\"xref\":\"x\",\"y\":\"4g\",\"yref\":\"y\"},{\"font\":{\"color\":\"#FFFFFF\"},\"showarrow\":false,\"text\":\"130.92\",\"x\":\"0.02s\",\"xref\":\"x\",\"y\":\"4g\",\"yref\":\"y\"},{\"font\":{\"color\":\"#FFFFFF\"},\"showarrow\":false,\"text\":\"100.01\",\"x\":\"0.04s\",\"xref\":\"x\",\"y\":\"4g\",\"yref\":\"y\"},{\"font\":{\"color\":\"#FFFFFF\"},\"showarrow\":false,\"text\":\"88.56\",\"x\":\"0.08s\",\"xref\":\"x\",\"y\":\"4g\",\"yref\":\"y\"},{\"font\":{\"color\":\"#000000\"},\"showarrow\":false,\"text\":\"24.83\",\"x\":\"0.16s\",\"xref\":\"x\",\"y\":\"4g\",\"yref\":\"y\"},{\"font\":{\"color\":\"#000000\"},\"showarrow\":false,\"text\":\"0.32\",\"x\":\"0.32s\",\"xref\":\"x\",\"y\":\"4g\",\"yref\":\"y\"},{\"font\":{\"color\":\"#000000\"},\"showarrow\":false,\"text\":\"0.64\",\"x\":\"0.64s\",\"xref\":\"x\",\"y\":\"4g\",\"yref\":\"y\"},{\"font\":{\"color\":\"#000000\"},\"showarrow\":false,\"text\":\"1.28\",\"x\":\"1.28s\",\"xref\":\"x\",\"y\":\"4g\",\"yref\":\"y\"},{\"font\":{\"color\":\"#FFFFFF\"},\"showarrow\":false,\"text\":\"123.1\",\"x\":\"0.01s\",\"xref\":\"x\",\"y\":\"5g\",\"yref\":\"y\"},{\"font\":{\"color\":\"#FFFFFF\"},\"showarrow\":false,\"text\":\"143.6\",\"x\":\"0.02s\",\"xref\":\"x\",\"y\":\"5g\",\"yref\":\"y\"},{\"font\":{\"color\":\"#FFFFFF\"},\"showarrow\":false,\"text\":\"113.52\",\"x\":\"0.04s\",\"xref\":\"x\",\"y\":\"5g\",\"yref\":\"y\"},{\"font\":{\"color\":\"#FFFFFF\"},\"showarrow\":false,\"text\":\"135.01\",\"x\":\"0.08s\",\"xref\":\"x\",\"y\":\"5g\",\"yref\":\"y\"},{\"font\":{\"color\":\"#000000\"},\"showarrow\":false,\"text\":\"19.14\",\"x\":\"0.16s\",\"xref\":\"x\",\"y\":\"5g\",\"yref\":\"y\"},{\"font\":{\"color\":\"#000000\"},\"showarrow\":false,\"text\":\"0.32\",\"x\":\"0.32s\",\"xref\":\"x\",\"y\":\"5g\",\"yref\":\"y\"},{\"font\":{\"color\":\"#000000\"},\"showarrow\":false,\"text\":\"0.64\",\"x\":\"0.64s\",\"xref\":\"x\",\"y\":\"5g\",\"yref\":\"y\"},{\"font\":{\"color\":\"#000000\"},\"showarrow\":false,\"text\":\"1.28\",\"x\":\"1.28s\",\"xref\":\"x\",\"y\":\"5g\",\"yref\":\"y\"},{\"font\":{\"color\":\"#FFFFFF\"},\"showarrow\":false,\"text\":\"135.18\",\"x\":\"0.01s\",\"xref\":\"x\",\"y\":\"6g\",\"yref\":\"y\"},{\"font\":{\"color\":\"#FFFFFF\"},\"showarrow\":false,\"text\":\"147.39\",\"x\":\"0.02s\",\"xref\":\"x\",\"y\":\"6g\",\"yref\":\"y\"},{\"font\":{\"color\":\"#FFFFFF\"},\"showarrow\":false,\"text\":\"120.98\",\"x\":\"0.04s\",\"xref\":\"x\",\"y\":\"6g\",\"yref\":\"y\"},{\"font\":{\"color\":\"#000000\"},\"showarrow\":false,\"text\":\"82.42\",\"x\":\"0.08s\",\"xref\":\"x\",\"y\":\"6g\",\"yref\":\"y\"},{\"font\":{\"color\":\"#000000\"},\"showarrow\":false,\"text\":\"38.27\",\"x\":\"0.16s\",\"xref\":\"x\",\"y\":\"6g\",\"yref\":\"y\"},{\"font\":{\"color\":\"#000000\"},\"showarrow\":false,\"text\":\"0.32\",\"x\":\"0.32s\",\"xref\":\"x\",\"y\":\"6g\",\"yref\":\"y\"},{\"font\":{\"color\":\"#000000\"},\"showarrow\":false,\"text\":\"0.64\",\"x\":\"0.64s\",\"xref\":\"x\",\"y\":\"6g\",\"yref\":\"y\"},{\"font\":{\"color\":\"#000000\"},\"showarrow\":false,\"text\":\"1.28\",\"x\":\"1.28s\",\"xref\":\"x\",\"y\":\"6g\",\"yref\":\"y\"},{\"font\":{\"color\":\"#FFFFFF\"},\"showarrow\":false,\"text\":\"154.53\",\"x\":\"0.01s\",\"xref\":\"x\",\"y\":\"7g\",\"yref\":\"y\"},{\"font\":{\"color\":\"#FFFFFF\"},\"showarrow\":false,\"text\":\"160.19\",\"x\":\"0.02s\",\"xref\":\"x\",\"y\":\"7g\",\"yref\":\"y\"},{\"font\":{\"color\":\"#FFFFFF\"},\"showarrow\":false,\"text\":\"127.98\",\"x\":\"0.04s\",\"xref\":\"x\",\"y\":\"7g\",\"yref\":\"y\"},{\"font\":{\"color\":\"#000000\"},\"showarrow\":false,\"text\":\"72.58\",\"x\":\"0.08s\",\"xref\":\"x\",\"y\":\"7g\",\"yref\":\"y\"},{\"font\":{\"color\":\"#000000\"},\"showarrow\":false,\"text\":\"34.94\",\"x\":\"0.16s\",\"xref\":\"x\",\"y\":\"7g\",\"yref\":\"y\"},{\"font\":{\"color\":\"#000000\"},\"showarrow\":false,\"text\":\"0.32\",\"x\":\"0.32s\",\"xref\":\"x\",\"y\":\"7g\",\"yref\":\"y\"},{\"font\":{\"color\":\"#000000\"},\"showarrow\":false,\"text\":\"0.64\",\"x\":\"0.64s\",\"xref\":\"x\",\"y\":\"7g\",\"yref\":\"y\"},{\"font\":{\"color\":\"#000000\"},\"showarrow\":false,\"text\":\"1.28\",\"x\":\"1.28s\",\"xref\":\"x\",\"y\":\"7g\",\"yref\":\"y\"},{\"font\":{\"color\":\"#FFFFFF\"},\"showarrow\":false,\"text\":\"141.45\",\"x\":\"0.01s\",\"xref\":\"x\",\"y\":\"8g\",\"yref\":\"y\"},{\"font\":{\"color\":\"#FFFFFF\"},\"showarrow\":false,\"text\":\"157.68\",\"x\":\"0.02s\",\"xref\":\"x\",\"y\":\"8g\",\"yref\":\"y\"},{\"font\":{\"color\":\"#FFFFFF\"},\"showarrow\":false,\"text\":\"124.82\",\"x\":\"0.04s\",\"xref\":\"x\",\"y\":\"8g\",\"yref\":\"y\"},{\"font\":{\"color\":\"#FFFFFF\"},\"showarrow\":false,\"text\":\"117.02\",\"x\":\"0.08s\",\"xref\":\"x\",\"y\":\"8g\",\"yref\":\"y\"},{\"font\":{\"color\":\"#000000\"},\"showarrow\":false,\"text\":\"7.58\",\"x\":\"0.16s\",\"xref\":\"x\",\"y\":\"8g\",\"yref\":\"y\"},{\"font\":{\"color\":\"#000000\"},\"showarrow\":false,\"text\":\"0.32\",\"x\":\"0.32s\",\"xref\":\"x\",\"y\":\"8g\",\"yref\":\"y\"},{\"font\":{\"color\":\"#000000\"},\"showarrow\":false,\"text\":\"0.64\",\"x\":\"0.64s\",\"xref\":\"x\",\"y\":\"8g\",\"yref\":\"y\"},{\"font\":{\"color\":\"#000000\"},\"showarrow\":false,\"text\":\"1.28\",\"x\":\"1.28s\",\"xref\":\"x\",\"y\":\"8g\",\"yref\":\"y\"},{\"font\":{\"color\":\"#FFFFFF\"},\"showarrow\":false,\"text\":\"152.62\",\"x\":\"0.01s\",\"xref\":\"x\",\"y\":\"9g\",\"yref\":\"y\"},{\"font\":{\"color\":\"#FFFFFF\"},\"showarrow\":false,\"text\":\"169.62\",\"x\":\"0.02s\",\"xref\":\"x\",\"y\":\"9g\",\"yref\":\"y\"},{\"font\":{\"color\":\"#FFFFFF\"},\"showarrow\":false,\"text\":\"114.54\",\"x\":\"0.04s\",\"xref\":\"x\",\"y\":\"9g\",\"yref\":\"y\"},{\"font\":{\"color\":\"#FFFFFF\"},\"showarrow\":false,\"text\":\"92.78\",\"x\":\"0.08s\",\"xref\":\"x\",\"y\":\"9g\",\"yref\":\"y\"},{\"font\":{\"color\":\"#000000\"},\"showarrow\":false,\"text\":\"67.68\",\"x\":\"0.16s\",\"xref\":\"x\",\"y\":\"9g\",\"yref\":\"y\"},{\"font\":{\"color\":\"#000000\"},\"showarrow\":false,\"text\":\"0.32\",\"x\":\"0.32s\",\"xref\":\"x\",\"y\":\"9g\",\"yref\":\"y\"},{\"font\":{\"color\":\"#000000\"},\"showarrow\":false,\"text\":\"0.64\",\"x\":\"0.64s\",\"xref\":\"x\",\"y\":\"9g\",\"yref\":\"y\"},{\"font\":{\"color\":\"#000000\"},\"showarrow\":false,\"text\":\"1.28\",\"x\":\"1.28s\",\"xref\":\"x\",\"y\":\"9g\",\"yref\":\"y\"},{\"font\":{\"color\":\"#FFFFFF\"},\"showarrow\":false,\"text\":\"122.61\",\"x\":\"0.01s\",\"xref\":\"x\",\"y\":\"10g\",\"yref\":\"y\"},{\"font\":{\"color\":\"#FFFFFF\"},\"showarrow\":false,\"text\":\"146.12\",\"x\":\"0.02s\",\"xref\":\"x\",\"y\":\"10g\",\"yref\":\"y\"},{\"font\":{\"color\":\"#FFFFFF\"},\"showarrow\":false,\"text\":\"107.93\",\"x\":\"0.04s\",\"xref\":\"x\",\"y\":\"10g\",\"yref\":\"y\"},{\"font\":{\"color\":\"#FFFFFF\"},\"showarrow\":false,\"text\":\"109.04\",\"x\":\"0.08s\",\"xref\":\"x\",\"y\":\"10g\",\"yref\":\"y\"},{\"font\":{\"color\":\"#000000\"},\"showarrow\":false,\"text\":\"24.29\",\"x\":\"0.16s\",\"xref\":\"x\",\"y\":\"10g\",\"yref\":\"y\"},{\"font\":{\"color\":\"#000000\"},\"showarrow\":false,\"text\":\"0.32\",\"x\":\"0.32s\",\"xref\":\"x\",\"y\":\"10g\",\"yref\":\"y\"},{\"font\":{\"color\":\"#000000\"},\"showarrow\":false,\"text\":\"0.64\",\"x\":\"0.64s\",\"xref\":\"x\",\"y\":\"10g\",\"yref\":\"y\"},{\"font\":{\"color\":\"#000000\"},\"showarrow\":false,\"text\":\"1.28\",\"x\":\"1.28s\",\"xref\":\"x\",\"y\":\"10g\",\"yref\":\"y\"},{\"font\":{\"color\":\"#FFFFFF\"},\"showarrow\":false,\"text\":\"118.24\",\"x\":\"0.01s\",\"xref\":\"x\",\"y\":\"11g\",\"yref\":\"y\"},{\"font\":{\"color\":\"#FFFFFF\"},\"showarrow\":false,\"text\":\"115.22\",\"x\":\"0.02s\",\"xref\":\"x\",\"y\":\"11g\",\"yref\":\"y\"},{\"font\":{\"color\":\"#FFFFFF\"},\"showarrow\":false,\"text\":\"144.88\",\"x\":\"0.04s\",\"xref\":\"x\",\"y\":\"11g\",\"yref\":\"y\"},{\"font\":{\"color\":\"#FFFFFF\"},\"showarrow\":false,\"text\":\"115.73\",\"x\":\"0.08s\",\"xref\":\"x\",\"y\":\"11g\",\"yref\":\"y\"},{\"font\":{\"color\":\"#000000\"},\"showarrow\":false,\"text\":\"35.71\",\"x\":\"0.16s\",\"xref\":\"x\",\"y\":\"11g\",\"yref\":\"y\"},{\"font\":{\"color\":\"#000000\"},\"showarrow\":false,\"text\":\"0.32\",\"x\":\"0.32s\",\"xref\":\"x\",\"y\":\"11g\",\"yref\":\"y\"},{\"font\":{\"color\":\"#000000\"},\"showarrow\":false,\"text\":\"0.64\",\"x\":\"0.64s\",\"xref\":\"x\",\"y\":\"11g\",\"yref\":\"y\"},{\"font\":{\"color\":\"#000000\"},\"showarrow\":false,\"text\":\"1.28\",\"x\":\"1.28s\",\"xref\":\"x\",\"y\":\"11g\",\"yref\":\"y\"},{\"font\":{\"color\":\"#FFFFFF\"},\"showarrow\":false,\"text\":\"115.89\",\"x\":\"0.01s\",\"xref\":\"x\",\"y\":\"12g\",\"yref\":\"y\"},{\"font\":{\"color\":\"#FFFFFF\"},\"showarrow\":false,\"text\":\"99.91\",\"x\":\"0.02s\",\"xref\":\"x\",\"y\":\"12g\",\"yref\":\"y\"},{\"font\":{\"color\":\"#FFFFFF\"},\"showarrow\":false,\"text\":\"105.85\",\"x\":\"0.04s\",\"xref\":\"x\",\"y\":\"12g\",\"yref\":\"y\"},{\"font\":{\"color\":\"#FFFFFF\"},\"showarrow\":false,\"text\":\"88.85\",\"x\":\"0.08s\",\"xref\":\"x\",\"y\":\"12g\",\"yref\":\"y\"},{\"font\":{\"color\":\"#000000\"},\"showarrow\":false,\"text\":\"26.02\",\"x\":\"0.16s\",\"xref\":\"x\",\"y\":\"12g\",\"yref\":\"y\"},{\"font\":{\"color\":\"#000000\"},\"showarrow\":false,\"text\":\"0.32\",\"x\":\"0.32s\",\"xref\":\"x\",\"y\":\"12g\",\"yref\":\"y\"},{\"font\":{\"color\":\"#000000\"},\"showarrow\":false,\"text\":\"0.64\",\"x\":\"0.64s\",\"xref\":\"x\",\"y\":\"12g\",\"yref\":\"y\"},{\"font\":{\"color\":\"#000000\"},\"showarrow\":false,\"text\":\"1.28\",\"x\":\"1.28s\",\"xref\":\"x\",\"y\":\"12g\",\"yref\":\"y\"},{\"font\":{\"color\":\"#FFFFFF\"},\"showarrow\":false,\"text\":\"146.23\",\"x\":\"0.01s\",\"xref\":\"x\",\"y\":\"13g\",\"yref\":\"y\"},{\"font\":{\"color\":\"#FFFFFF\"},\"showarrow\":false,\"text\":\"124.27\",\"x\":\"0.02s\",\"xref\":\"x\",\"y\":\"13g\",\"yref\":\"y\"},{\"font\":{\"color\":\"#FFFFFF\"},\"showarrow\":false,\"text\":\"122.04\",\"x\":\"0.04s\",\"xref\":\"x\",\"y\":\"13g\",\"yref\":\"y\"},{\"font\":{\"color\":\"#000000\"},\"showarrow\":false,\"text\":\"83.62\",\"x\":\"0.08s\",\"xref\":\"x\",\"y\":\"13g\",\"yref\":\"y\"},{\"font\":{\"color\":\"#000000\"},\"showarrow\":false,\"text\":\"25.5\",\"x\":\"0.16s\",\"xref\":\"x\",\"y\":\"13g\",\"yref\":\"y\"},{\"font\":{\"color\":\"#000000\"},\"showarrow\":false,\"text\":\"0.32\",\"x\":\"0.32s\",\"xref\":\"x\",\"y\":\"13g\",\"yref\":\"y\"},{\"font\":{\"color\":\"#000000\"},\"showarrow\":false,\"text\":\"0.64\",\"x\":\"0.64s\",\"xref\":\"x\",\"y\":\"13g\",\"yref\":\"y\"},{\"font\":{\"color\":\"#000000\"},\"showarrow\":false,\"text\":\"1.28\",\"x\":\"1.28s\",\"xref\":\"x\",\"y\":\"13g\",\"yref\":\"y\"},{\"font\":{\"color\":\"#FFFFFF\"},\"showarrow\":false,\"text\":\"143.27\",\"x\":\"0.01s\",\"xref\":\"x\",\"y\":\"14g\",\"yref\":\"y\"},{\"font\":{\"color\":\"#FFFFFF\"},\"showarrow\":false,\"text\":\"126.15\",\"x\":\"0.02s\",\"xref\":\"x\",\"y\":\"14g\",\"yref\":\"y\"},{\"font\":{\"color\":\"#FFFFFF\"},\"showarrow\":false,\"text\":\"149.2\",\"x\":\"0.04s\",\"xref\":\"x\",\"y\":\"14g\",\"yref\":\"y\"},{\"font\":{\"color\":\"#FFFFFF\"},\"showarrow\":false,\"text\":\"123.15\",\"x\":\"0.08s\",\"xref\":\"x\",\"y\":\"14g\",\"yref\":\"y\"},{\"font\":{\"color\":\"#000000\"},\"showarrow\":false,\"text\":\"25.86\",\"x\":\"0.16s\",\"xref\":\"x\",\"y\":\"14g\",\"yref\":\"y\"},{\"font\":{\"color\":\"#000000\"},\"showarrow\":false,\"text\":\"0.32\",\"x\":\"0.32s\",\"xref\":\"x\",\"y\":\"14g\",\"yref\":\"y\"},{\"font\":{\"color\":\"#000000\"},\"showarrow\":false,\"text\":\"0.64\",\"x\":\"0.64s\",\"xref\":\"x\",\"y\":\"14g\",\"yref\":\"y\"},{\"font\":{\"color\":\"#000000\"},\"showarrow\":false,\"text\":\"1.28\",\"x\":\"1.28s\",\"xref\":\"x\",\"y\":\"14g\",\"yref\":\"y\"},{\"font\":{\"color\":\"#FFFFFF\"},\"showarrow\":false,\"text\":\"138.51\",\"x\":\"0.01s\",\"xref\":\"x\",\"y\":\"15g\",\"yref\":\"y\"},{\"font\":{\"color\":\"#FFFFFF\"},\"showarrow\":false,\"text\":\"93.06\",\"x\":\"0.02s\",\"xref\":\"x\",\"y\":\"15g\",\"yref\":\"y\"},{\"font\":{\"color\":\"#FFFFFF\"},\"showarrow\":false,\"text\":\"151.05\",\"x\":\"0.04s\",\"xref\":\"x\",\"y\":\"15g\",\"yref\":\"y\"},{\"font\":{\"color\":\"#FFFFFF\"},\"showarrow\":false,\"text\":\"106.66\",\"x\":\"0.08s\",\"xref\":\"x\",\"y\":\"15g\",\"yref\":\"y\"},{\"font\":{\"color\":\"#000000\"},\"showarrow\":false,\"text\":\"16.99\",\"x\":\"0.16s\",\"xref\":\"x\",\"y\":\"15g\",\"yref\":\"y\"},{\"font\":{\"color\":\"#000000\"},\"showarrow\":false,\"text\":\"0.32\",\"x\":\"0.32s\",\"xref\":\"x\",\"y\":\"15g\",\"yref\":\"y\"},{\"font\":{\"color\":\"#000000\"},\"showarrow\":false,\"text\":\"0.64\",\"x\":\"0.64s\",\"xref\":\"x\",\"y\":\"15g\",\"yref\":\"y\"},{\"font\":{\"color\":\"#000000\"},\"showarrow\":false,\"text\":\"1.28\",\"x\":\"1.28s\",\"xref\":\"x\",\"y\":\"15g\",\"yref\":\"y\"},{\"font\":{\"color\":\"#FFFFFF\"},\"showarrow\":false,\"text\":\"126.4\",\"x\":\"0.01s\",\"xref\":\"x\",\"y\":\"16g\",\"yref\":\"y\"},{\"font\":{\"color\":\"#FFFFFF\"},\"showarrow\":false,\"text\":\"133.03\",\"x\":\"0.02s\",\"xref\":\"x\",\"y\":\"16g\",\"yref\":\"y\"},{\"font\":{\"color\":\"#FFFFFF\"},\"showarrow\":false,\"text\":\"95.9\",\"x\":\"0.04s\",\"xref\":\"x\",\"y\":\"16g\",\"yref\":\"y\"},{\"font\":{\"color\":\"#FFFFFF\"},\"showarrow\":false,\"text\":\"98.93\",\"x\":\"0.08s\",\"xref\":\"x\",\"y\":\"16g\",\"yref\":\"y\"},{\"font\":{\"color\":\"#000000\"},\"showarrow\":false,\"text\":\"47.46\",\"x\":\"0.16s\",\"xref\":\"x\",\"y\":\"16g\",\"yref\":\"y\"},{\"font\":{\"color\":\"#000000\"},\"showarrow\":false,\"text\":\"0.32\",\"x\":\"0.32s\",\"xref\":\"x\",\"y\":\"16g\",\"yref\":\"y\"},{\"font\":{\"color\":\"#000000\"},\"showarrow\":false,\"text\":\"0.64\",\"x\":\"0.64s\",\"xref\":\"x\",\"y\":\"16g\",\"yref\":\"y\"},{\"font\":{\"color\":\"#000000\"},\"showarrow\":false,\"text\":\"1.28\",\"x\":\"1.28s\",\"xref\":\"x\",\"y\":\"16g\",\"yref\":\"y\"},{\"font\":{\"color\":\"#FFFFFF\"},\"showarrow\":false,\"text\":\"131.21\",\"x\":\"0.01s\",\"xref\":\"x\",\"y\":\"17g\",\"yref\":\"y\"},{\"font\":{\"color\":\"#FFFFFF\"},\"showarrow\":false,\"text\":\"93.26\",\"x\":\"0.02s\",\"xref\":\"x\",\"y\":\"17g\",\"yref\":\"y\"},{\"font\":{\"color\":\"#FFFFFF\"},\"showarrow\":false,\"text\":\"118.51\",\"x\":\"0.04s\",\"xref\":\"x\",\"y\":\"17g\",\"yref\":\"y\"},{\"font\":{\"color\":\"#FFFFFF\"},\"showarrow\":false,\"text\":\"95.74\",\"x\":\"0.08s\",\"xref\":\"x\",\"y\":\"17g\",\"yref\":\"y\"},{\"font\":{\"color\":\"#000000\"},\"showarrow\":false,\"text\":\"29.98\",\"x\":\"0.16s\",\"xref\":\"x\",\"y\":\"17g\",\"yref\":\"y\"},{\"font\":{\"color\":\"#000000\"},\"showarrow\":false,\"text\":\"0.32\",\"x\":\"0.32s\",\"xref\":\"x\",\"y\":\"17g\",\"yref\":\"y\"},{\"font\":{\"color\":\"#000000\"},\"showarrow\":false,\"text\":\"0.64\",\"x\":\"0.64s\",\"xref\":\"x\",\"y\":\"17g\",\"yref\":\"y\"},{\"font\":{\"color\":\"#000000\"},\"showarrow\":false,\"text\":\"1.28\",\"x\":\"1.28s\",\"xref\":\"x\",\"y\":\"17g\",\"yref\":\"y\"},{\"font\":{\"color\":\"#000000\"},\"showarrow\":false,\"text\":\"84.0\",\"x\":\"0.01s\",\"xref\":\"x\",\"y\":\"18g\",\"yref\":\"y\"},{\"font\":{\"color\":\"#FFFFFF\"},\"showarrow\":false,\"text\":\"95.19\",\"x\":\"0.02s\",\"xref\":\"x\",\"y\":\"18g\",\"yref\":\"y\"},{\"font\":{\"color\":\"#FFFFFF\"},\"showarrow\":false,\"text\":\"137.05\",\"x\":\"0.04s\",\"xref\":\"x\",\"y\":\"18g\",\"yref\":\"y\"},{\"font\":{\"color\":\"#FFFFFF\"},\"showarrow\":false,\"text\":\"89.97\",\"x\":\"0.08s\",\"xref\":\"x\",\"y\":\"18g\",\"yref\":\"y\"},{\"font\":{\"color\":\"#000000\"},\"showarrow\":false,\"text\":\"21.86\",\"x\":\"0.16s\",\"xref\":\"x\",\"y\":\"18g\",\"yref\":\"y\"},{\"font\":{\"color\":\"#000000\"},\"showarrow\":false,\"text\":\"0.32\",\"x\":\"0.32s\",\"xref\":\"x\",\"y\":\"18g\",\"yref\":\"y\"},{\"font\":{\"color\":\"#000000\"},\"showarrow\":false,\"text\":\"0.64\",\"x\":\"0.64s\",\"xref\":\"x\",\"y\":\"18g\",\"yref\":\"y\"},{\"font\":{\"color\":\"#000000\"},\"showarrow\":false,\"text\":\"1.28\",\"x\":\"1.28s\",\"xref\":\"x\",\"y\":\"18g\",\"yref\":\"y\"},{\"font\":{\"color\":\"#FFFFFF\"},\"showarrow\":false,\"text\":\"93.78\",\"x\":\"0.01s\",\"xref\":\"x\",\"y\":\"19g\",\"yref\":\"y\"},{\"font\":{\"color\":\"#FFFFFF\"},\"showarrow\":false,\"text\":\"95.32\",\"x\":\"0.02s\",\"xref\":\"x\",\"y\":\"19g\",\"yref\":\"y\"},{\"font\":{\"color\":\"#FFFFFF\"},\"showarrow\":false,\"text\":\"131.96\",\"x\":\"0.04s\",\"xref\":\"x\",\"y\":\"19g\",\"yref\":\"y\"},{\"font\":{\"color\":\"#FFFFFF\"},\"showarrow\":false,\"text\":\"129.14\",\"x\":\"0.08s\",\"xref\":\"x\",\"y\":\"19g\",\"yref\":\"y\"},{\"font\":{\"color\":\"#000000\"},\"showarrow\":false,\"text\":\"13.76\",\"x\":\"0.16s\",\"xref\":\"x\",\"y\":\"19g\",\"yref\":\"y\"},{\"font\":{\"color\":\"#000000\"},\"showarrow\":false,\"text\":\"0.32\",\"x\":\"0.32s\",\"xref\":\"x\",\"y\":\"19g\",\"yref\":\"y\"},{\"font\":{\"color\":\"#000000\"},\"showarrow\":false,\"text\":\"0.64\",\"x\":\"0.64s\",\"xref\":\"x\",\"y\":\"19g\",\"yref\":\"y\"},{\"font\":{\"color\":\"#000000\"},\"showarrow\":false,\"text\":\"1.28\",\"x\":\"1.28s\",\"xref\":\"x\",\"y\":\"19g\",\"yref\":\"y\"},{\"font\":{\"color\":\"#FFFFFF\"},\"showarrow\":false,\"text\":\"100.26\",\"x\":\"0.01s\",\"xref\":\"x\",\"y\":\"20g\",\"yref\":\"y\"},{\"font\":{\"color\":\"#FFFFFF\"},\"showarrow\":false,\"text\":\"133.42\",\"x\":\"0.02s\",\"xref\":\"x\",\"y\":\"20g\",\"yref\":\"y\"},{\"font\":{\"color\":\"#FFFFFF\"},\"showarrow\":false,\"text\":\"112.43\",\"x\":\"0.04s\",\"xref\":\"x\",\"y\":\"20g\",\"yref\":\"y\"},{\"font\":{\"color\":\"#FFFFFF\"},\"showarrow\":false,\"text\":\"99.63\",\"x\":\"0.08s\",\"xref\":\"x\",\"y\":\"20g\",\"yref\":\"y\"},{\"font\":{\"color\":\"#000000\"},\"showarrow\":false,\"text\":\"7.94\",\"x\":\"0.16s\",\"xref\":\"x\",\"y\":\"20g\",\"yref\":\"y\"},{\"font\":{\"color\":\"#000000\"},\"showarrow\":false,\"text\":\"0.32\",\"x\":\"0.32s\",\"xref\":\"x\",\"y\":\"20g\",\"yref\":\"y\"},{\"font\":{\"color\":\"#000000\"},\"showarrow\":false,\"text\":\"0.64\",\"x\":\"0.64s\",\"xref\":\"x\",\"y\":\"20g\",\"yref\":\"y\"},{\"font\":{\"color\":\"#000000\"},\"showarrow\":false,\"text\":\"1.28\",\"x\":\"1.28s\",\"xref\":\"x\",\"y\":\"20g\",\"yref\":\"y\"}],\"font\":{\"size\":15},\"height\":700,\"template\":{\"data\":{\"bar\":[{\"error_x\":{\"color\":\"#2a3f5f\"},\"error_y\":{\"color\":\"#2a3f5f\"},\"marker\":{\"line\":{\"color\":\"#E5ECF6\",\"width\":0.5},\"pattern\":{\"fillmode\":\"overlay\",\"size\":10,\"solidity\":0.2}},\"type\":\"bar\"}],\"barpolar\":[{\"marker\":{\"line\":{\"color\":\"#E5ECF6\",\"width\":0.5},\"pattern\":{\"fillmode\":\"overlay\",\"size\":10,\"solidity\":0.2}},\"type\":\"barpolar\"}],\"carpet\":[{\"aaxis\":{\"endlinecolor\":\"#2a3f5f\",\"gridcolor\":\"white\",\"linecolor\":\"white\",\"minorgridcolor\":\"white\",\"startlinecolor\":\"#2a3f5f\"},\"baxis\":{\"endlinecolor\":\"#2a3f5f\",\"gridcolor\":\"white\",\"linecolor\":\"white\",\"minorgridcolor\":\"white\",\"startlinecolor\":\"#2a3f5f\"},\"type\":\"carpet\"}],\"choropleth\":[{\"colorbar\":{\"outlinewidth\":0,\"ticks\":\"\"},\"type\":\"choropleth\"}],\"contour\":[{\"colorbar\":{\"outlinewidth\":0,\"ticks\":\"\"},\"colorscale\":[[0.0,\"#0d0887\"],[0.1111111111111111,\"#46039f\"],[0.2222222222222222,\"#7201a8\"],[0.3333333333333333,\"#9c179e\"],[0.4444444444444444,\"#bd3786\"],[0.5555555555555556,\"#d8576b\"],[0.6666666666666666,\"#ed7953\"],[0.7777777777777778,\"#fb9f3a\"],[0.8888888888888888,\"#fdca26\"],[1.0,\"#f0f921\"]],\"type\":\"contour\"}],\"contourcarpet\":[{\"colorbar\":{\"outlinewidth\":0,\"ticks\":\"\"},\"type\":\"contourcarpet\"}],\"heatmap\":[{\"colorbar\":{\"outlinewidth\":0,\"ticks\":\"\"},\"colorscale\":[[0.0,\"#0d0887\"],[0.1111111111111111,\"#46039f\"],[0.2222222222222222,\"#7201a8\"],[0.3333333333333333,\"#9c179e\"],[0.4444444444444444,\"#bd3786\"],[0.5555555555555556,\"#d8576b\"],[0.6666666666666666,\"#ed7953\"],[0.7777777777777778,\"#fb9f3a\"],[0.8888888888888888,\"#fdca26\"],[1.0,\"#f0f921\"]],\"type\":\"heatmap\"}],\"heatmapgl\":[{\"colorbar\":{\"outlinewidth\":0,\"ticks\":\"\"},\"colorscale\":[[0.0,\"#0d0887\"],[0.1111111111111111,\"#46039f\"],[0.2222222222222222,\"#7201a8\"],[0.3333333333333333,\"#9c179e\"],[0.4444444444444444,\"#bd3786\"],[0.5555555555555556,\"#d8576b\"],[0.6666666666666666,\"#ed7953\"],[0.7777777777777778,\"#fb9f3a\"],[0.8888888888888888,\"#fdca26\"],[1.0,\"#f0f921\"]],\"type\":\"heatmapgl\"}],\"histogram\":[{\"marker\":{\"pattern\":{\"fillmode\":\"overlay\",\"size\":10,\"solidity\":0.2}},\"type\":\"histogram\"}],\"histogram2d\":[{\"colorbar\":{\"outlinewidth\":0,\"ticks\":\"\"},\"colorscale\":[[0.0,\"#0d0887\"],[0.1111111111111111,\"#46039f\"],[0.2222222222222222,\"#7201a8\"],[0.3333333333333333,\"#9c179e\"],[0.4444444444444444,\"#bd3786\"],[0.5555555555555556,\"#d8576b\"],[0.6666666666666666,\"#ed7953\"],[0.7777777777777778,\"#fb9f3a\"],[0.8888888888888888,\"#fdca26\"],[1.0,\"#f0f921\"]],\"type\":\"histogram2d\"}],\"histogram2dcontour\":[{\"colorbar\":{\"outlinewidth\":0,\"ticks\":\"\"},\"colorscale\":[[0.0,\"#0d0887\"],[0.1111111111111111,\"#46039f\"],[0.2222222222222222,\"#7201a8\"],[0.3333333333333333,\"#9c179e\"],[0.4444444444444444,\"#bd3786\"],[0.5555555555555556,\"#d8576b\"],[0.6666666666666666,\"#ed7953\"],[0.7777777777777778,\"#fb9f3a\"],[0.8888888888888888,\"#fdca26\"],[1.0,\"#f0f921\"]],\"type\":\"histogram2dcontour\"}],\"mesh3d\":[{\"colorbar\":{\"outlinewidth\":0,\"ticks\":\"\"},\"type\":\"mesh3d\"}],\"parcoords\":[{\"line\":{\"colorbar\":{\"outlinewidth\":0,\"ticks\":\"\"}},\"type\":\"parcoords\"}],\"pie\":[{\"automargin\":true,\"type\":\"pie\"}],\"scatter\":[{\"marker\":{\"colorbar\":{\"outlinewidth\":0,\"ticks\":\"\"}},\"type\":\"scatter\"}],\"scatter3d\":[{\"line\":{\"colorbar\":{\"outlinewidth\":0,\"ticks\":\"\"}},\"marker\":{\"colorbar\":{\"outlinewidth\":0,\"ticks\":\"\"}},\"type\":\"scatter3d\"}],\"scattercarpet\":[{\"marker\":{\"colorbar\":{\"outlinewidth\":0,\"ticks\":\"\"}},\"type\":\"scattercarpet\"}],\"scattergeo\":[{\"marker\":{\"colorbar\":{\"outlinewidth\":0,\"ticks\":\"\"}},\"type\":\"scattergeo\"}],\"scattergl\":[{\"marker\":{\"colorbar\":{\"outlinewidth\":0,\"ticks\":\"\"}},\"type\":\"scattergl\"}],\"scattermapbox\":[{\"marker\":{\"colorbar\":{\"outlinewidth\":0,\"ticks\":\"\"}},\"type\":\"scattermapbox\"}],\"scatterpolar\":[{\"marker\":{\"colorbar\":{\"outlinewidth\":0,\"ticks\":\"\"}},\"type\":\"scatterpolar\"}],\"scatterpolargl\":[{\"marker\":{\"colorbar\":{\"outlinewidth\":0,\"ticks\":\"\"}},\"type\":\"scatterpolargl\"}],\"scatterternary\":[{\"marker\":{\"colorbar\":{\"outlinewidth\":0,\"ticks\":\"\"}},\"type\":\"scatterternary\"}],\"surface\":[{\"colorbar\":{\"outlinewidth\":0,\"ticks\":\"\"},\"colorscale\":[[0.0,\"#0d0887\"],[0.1111111111111111,\"#46039f\"],[0.2222222222222222,\"#7201a8\"],[0.3333333333333333,\"#9c179e\"],[0.4444444444444444,\"#bd3786\"],[0.5555555555555556,\"#d8576b\"],[0.6666666666666666,\"#ed7953\"],[0.7777777777777778,\"#fb9f3a\"],[0.8888888888888888,\"#fdca26\"],[1.0,\"#f0f921\"]],\"type\":\"surface\"}],\"table\":[{\"cells\":{\"fill\":{\"color\":\"#EBF0F8\"},\"line\":{\"color\":\"white\"}},\"header\":{\"fill\":{\"color\":\"#C8D4E3\"},\"line\":{\"color\":\"white\"}},\"type\":\"table\"}]},\"layout\":{\"annotationdefaults\":{\"arrowcolor\":\"#2a3f5f\",\"arrowhead\":0,\"arrowwidth\":1},\"autotypenumbers\":\"strict\",\"coloraxis\":{\"colorbar\":{\"outlinewidth\":0,\"ticks\":\"\"}},\"colorscale\":{\"diverging\":[[0,\"#8e0152\"],[0.1,\"#c51b7d\"],[0.2,\"#de77ae\"],[0.3,\"#f1b6da\"],[0.4,\"#fde0ef\"],[0.5,\"#f7f7f7\"],[0.6,\"#e6f5d0\"],[0.7,\"#b8e186\"],[0.8,\"#7fbc41\"],[0.9,\"#4d9221\"],[1,\"#276419\"]],\"sequential\":[[0.0,\"#0d0887\"],[0.1111111111111111,\"#46039f\"],[0.2222222222222222,\"#7201a8\"],[0.3333333333333333,\"#9c179e\"],[0.4444444444444444,\"#bd3786\"],[0.5555555555555556,\"#d8576b\"],[0.6666666666666666,\"#ed7953\"],[0.7777777777777778,\"#fb9f3a\"],[0.8888888888888888,\"#fdca26\"],[1.0,\"#f0f921\"]],\"sequentialminus\":[[0.0,\"#0d0887\"],[0.1111111111111111,\"#46039f\"],[0.2222222222222222,\"#7201a8\"],[0.3333333333333333,\"#9c179e\"],[0.4444444444444444,\"#bd3786\"],[0.5555555555555556,\"#d8576b\"],[0.6666666666666666,\"#ed7953\"],[0.7777777777777778,\"#fb9f3a\"],[0.8888888888888888,\"#fdca26\"],[1.0,\"#f0f921\"]]},\"colorway\":[\"#636efa\",\"#EF553B\",\"#00cc96\",\"#ab63fa\",\"#FFA15A\",\"#19d3f3\",\"#FF6692\",\"#B6E880\",\"#FF97FF\",\"#FECB52\"],\"font\":{\"color\":\"#2a3f5f\"},\"geo\":{\"bgcolor\":\"white\",\"lakecolor\":\"white\",\"landcolor\":\"#E5ECF6\",\"showlakes\":true,\"showland\":true,\"subunitcolor\":\"white\"},\"hoverlabel\":{\"align\":\"left\"},\"hovermode\":\"closest\",\"mapbox\":{\"style\":\"light\"},\"paper_bgcolor\":\"white\",\"plot_bgcolor\":\"#E5ECF6\",\"polar\":{\"angularaxis\":{\"gridcolor\":\"white\",\"linecolor\":\"white\",\"ticks\":\"\"},\"bgcolor\":\"#E5ECF6\",\"radialaxis\":{\"gridcolor\":\"white\",\"linecolor\":\"white\",\"ticks\":\"\"}},\"scene\":{\"xaxis\":{\"backgroundcolor\":\"#E5ECF6\",\"gridcolor\":\"white\",\"gridwidth\":2,\"linecolor\":\"white\",\"showbackground\":true,\"ticks\":\"\",\"zerolinecolor\":\"white\"},\"yaxis\":{\"backgroundcolor\":\"#E5ECF6\",\"gridcolor\":\"white\",\"gridwidth\":2,\"linecolor\":\"white\",\"showbackground\":true,\"ticks\":\"\",\"zerolinecolor\":\"white\"},\"zaxis\":{\"backgroundcolor\":\"#E5ECF6\",\"gridcolor\":\"white\",\"gridwidth\":2,\"linecolor\":\"white\",\"showbackground\":true,\"ticks\":\"\",\"zerolinecolor\":\"white\"}},\"shapedefaults\":{\"line\":{\"color\":\"#2a3f5f\"}},\"ternary\":{\"aaxis\":{\"gridcolor\":\"white\",\"linecolor\":\"white\",\"ticks\":\"\"},\"baxis\":{\"gridcolor\":\"white\",\"linecolor\":\"white\",\"ticks\":\"\"},\"bgcolor\":\"#E5ECF6\",\"caxis\":{\"gridcolor\":\"white\",\"linecolor\":\"white\",\"ticks\":\"\"}},\"title\":{\"x\":0.05},\"xaxis\":{\"automargin\":true,\"gridcolor\":\"white\",\"linecolor\":\"white\",\"ticks\":\"\",\"title\":{\"standoff\":15},\"zerolinecolor\":\"white\",\"zerolinewidth\":2},\"yaxis\":{\"automargin\":true,\"gridcolor\":\"white\",\"linecolor\":\"white\",\"ticks\":\"\",\"title\":{\"standoff\":15},\"zerolinecolor\":\"white\",\"zerolinewidth\":2}}},\"xaxis\":{\"dtick\":1,\"gridcolor\":\"rgb(0, 0, 0)\",\"side\":\"bottom\",\"ticks\":\"\",\"title\":{\"text\":\"Response Time\"}},\"yaxis\":{\"dtick\":1,\"ticks\":\"\",\"ticksuffix\":\"  \",\"title\":{\"text\":\"Max Pertubation during training\"}}},                        {\"responsive\": true}                    ).then(function(){\n",
       "                            \n",
       "var gd = document.getElementById('f81c1747-9ca9-4b31-a00b-3541a0f60182');\n",
       "var x = new MutationObserver(function (mutations, observer) {{\n",
       "        var display = window.getComputedStyle(gd).display;\n",
       "        if (!display || display === 'none') {{\n",
       "            console.log([gd, 'removed!']);\n",
       "            Plotly.purge(gd);\n",
       "            observer.disconnect();\n",
       "        }}\n",
       "}});\n",
       "\n",
       "// Listen for the removal of the full notebook cells\n",
       "var notebookContainer = gd.closest('#notebook-container');\n",
       "if (notebookContainer) {{\n",
       "    x.observe(notebookContainer, {childList: true});\n",
       "}}\n",
       "\n",
       "// Listen for the clearing of the current output cell\n",
       "var outputEl = gd.closest('.output');\n",
       "if (outputEl) {{\n",
       "    x.observe(outputEl, {childList: true});\n",
       "}}\n",
       "\n",
       "                        })                };                });            </script>        </div>"
      ]
     },
     "metadata": {},
     "output_type": "display_data"
    }
   ],
   "source": [
    "fig = ff.create_annotated_heatmap(z=rewards.to_numpy(),y=[str(int(i))+'g' for i in df['g_force'].unique().tolist()], \n",
    "                                  x=[str(i) + 's' for i in df['response_rate'].unique().tolist()],  \n",
    "                                  annotation_text=np.around(rewards.to_numpy(), decimals=2), colorscale='blues', showscale=True,\n",
    "                                 reversescale =False)\n",
    "\n",
    "fig.update_layout(\n",
    "#     title='Average evaluation seconds for response times vs max. pertubation during training',\n",
    "    xaxis_title=\"Response Time\",\n",
    "    yaxis_title=\"Max Pertubation during training\",\n",
    "    xaxis_side='bottom',\n",
    "    font=dict(size=15),\n",
    "    height=700,\n",
    ")\n",
    "fig.show()\n",
    "\n"
   ]
  },
  {
   "cell_type": "code",
   "execution_count": 12,
   "metadata": {},
   "outputs": [
    {
     "data": {
      "application/vnd.plotly.v1+json": {
       "config": {
        "plotlyServerURL": "https://plot.ly"
       },
       "data": [
        {
         "colorscale": [
          [
           0,
           "rgb(247,251,255)"
          ],
          [
           0.125,
           "rgb(222,235,247)"
          ],
          [
           0.25,
           "rgb(198,219,239)"
          ],
          [
           0.375,
           "rgb(158,202,225)"
          ],
          [
           0.5,
           "rgb(107,174,214)"
          ],
          [
           0.625,
           "rgb(66,146,198)"
          ],
          [
           0.75,
           "rgb(33,113,181)"
          ],
          [
           0.875,
           "rgb(8,81,156)"
          ],
          [
           1,
           "rgb(8,48,107)"
          ]
         ],
         "reversescale": false,
         "showscale": true,
         "type": "heatmap",
         "x": [
          "0.01s",
          "0.02s",
          "0.04s",
          "0.08s",
          "0.16s",
          "0.32s",
          "0.64s",
          "1.28s"
         ],
         "y": [
          "0g",
          "1g",
          "2g",
          "3g",
          "4g",
          "5g",
          "6g",
          "7g",
          "8g",
          "9g",
          "10g",
          "11g",
          "12g",
          "13g",
          "14g",
          "15g",
          "16g",
          "17g",
          "18g",
          "19g",
          "20g"
         ],
         "z": [
          [
           166.3459947481299,
           105.27185064778739,
           41.11710812644599,
           71.06760545920953,
           17.324443958924043,
           0,
           0,
           0
          ],
          [
           95.8140036413869,
           127.80200135759756,
           44.17658598529189,
           70.7397311116067,
           9.751091126532284,
           0,
           0,
           0
          ],
          [
           196.26305678163976,
           93.41102796921578,
           25.556364389773652,
           70.61037242300837,
           18.60030568342694,
           0,
           0,
           0
          ],
          [
           124.28509429141596,
           82.77164703589227,
           37.319324213852624,
           55.34904681849415,
           7.844472784699683,
           0,
           0,
           0
          ],
          [
           117.35402944097798,
           64.53287854317738,
           50.349396576681386,
           59.11470259202868,
           11.635725612608706,
           0,
           0,
           0
          ],
          [
           79.34473534522336,
           100.04716832445197,
           46.35194461428491,
           70.96768652494993,
           7.931420332321485,
           0,
           0,
           0
          ],
          [
           123.75412024563825,
           67.63710635972959,
           22.818594847203308,
           70.24338643211968,
           15.309833136431683,
           0,
           0,
           0
          ],
          [
           192.17722096592837,
           93.89081970329441,
           38.03877646038359,
           70.79988286066046,
           14.378465832658588,
           0,
           0,
           0
          ],
          [
           117.46365949701301,
           82.35852890837887,
           30.024865414706646,
           57.5173799840613,
           17.794041292625533,
           0,
           0,
           0
          ],
          [
           159.75472806771307,
           90.8647969128922,
           36.6221900517761,
           54.34787332422307,
           3.635606147122578,
           0,
           0,
           0
          ],
          [
           98.53395966297265,
           56.76544116873739,
           25.367782142562042,
           70.51138789349454,
           10.852412529662654,
           0,
           0,
           0
          ],
          [
           103.17608473588082,
           87.78074184396374,
           38.15938716446628,
           69.26272858964435,
           12.65033031534577,
           0,
           0,
           0
          ],
          [
           137.7875599195122,
           93.17417789125366,
           38.50042032962292,
           71.5314777629569,
           11.7967261715209,
           0,
           0,
           0
          ],
          [
           137.41743813791356,
           93.8881138783008,
           30.601370242329324,
           65.45366832533256,
           5.2154671701474635,
           0,
           0,
           0
          ],
          [
           137.2407796276583,
           80.26713412907648,
           41.8345207262705,
           62.66647752651751,
           9.001760658897025,
           0,
           0,
           0
          ],
          [
           124.97571661559951,
           88.2552415906661,
           47.31553022884678,
           70.05678509673423,
           14.055096649338775,
           0,
           0,
           0
          ],
          [
           132.59944781555555,
           62.95509478116786,
           44.402330748936464,
           71.29799684264276,
           3.518189420136951,
           0,
           0,
           0
          ],
          [
           84.80518284870207,
           91.59924659352183,
           39.110358222657794,
           71.0337677956552,
           14.314283637018054,
           0,
           0,
           0
          ],
          [
           163.4813697612579,
           88.45376862893225,
           41.13601736430972,
           69.37717050912889,
           5.028142949281438,
           0,
           0,
           0
          ],
          [
           104.48901507207256,
           74.60310072639643,
           47.09513502406356,
           59.0536852856731,
           10.713630808709894,
           0,
           0,
           0
          ],
          [
           130.97725633659803,
           77.77305868420692,
           46.941564983819134,
           70.13019360440732,
           6.708869077183766,
           0,
           0,
           0
          ]
         ]
        }
       ],
       "layout": {
        "annotations": [
         {
          "font": {
           "color": "#FFFFFF"
          },
          "showarrow": false,
          "text": "166.35",
          "x": "0.01s",
          "xref": "x",
          "y": "0g",
          "yref": "y"
         },
         {
          "font": {
           "color": "#FFFFFF"
          },
          "showarrow": false,
          "text": "105.27",
          "x": "0.02s",
          "xref": "x",
          "y": "0g",
          "yref": "y"
         },
         {
          "font": {
           "color": "#000000"
          },
          "showarrow": false,
          "text": "41.12",
          "x": "0.04s",
          "xref": "x",
          "y": "0g",
          "yref": "y"
         },
         {
          "font": {
           "color": "#000000"
          },
          "showarrow": false,
          "text": "71.07",
          "x": "0.08s",
          "xref": "x",
          "y": "0g",
          "yref": "y"
         },
         {
          "font": {
           "color": "#000000"
          },
          "showarrow": false,
          "text": "17.32",
          "x": "0.16s",
          "xref": "x",
          "y": "0g",
          "yref": "y"
         },
         {
          "font": {
           "color": "#000000"
          },
          "showarrow": false,
          "text": "0.0",
          "x": "0.32s",
          "xref": "x",
          "y": "0g",
          "yref": "y"
         },
         {
          "font": {
           "color": "#000000"
          },
          "showarrow": false,
          "text": "0.0",
          "x": "0.64s",
          "xref": "x",
          "y": "0g",
          "yref": "y"
         },
         {
          "font": {
           "color": "#000000"
          },
          "showarrow": false,
          "text": "0.0",
          "x": "1.28s",
          "xref": "x",
          "y": "0g",
          "yref": "y"
         },
         {
          "font": {
           "color": "#000000"
          },
          "showarrow": false,
          "text": "95.81",
          "x": "0.01s",
          "xref": "x",
          "y": "1g",
          "yref": "y"
         },
         {
          "font": {
           "color": "#FFFFFF"
          },
          "showarrow": false,
          "text": "127.8",
          "x": "0.02s",
          "xref": "x",
          "y": "1g",
          "yref": "y"
         },
         {
          "font": {
           "color": "#000000"
          },
          "showarrow": false,
          "text": "44.18",
          "x": "0.04s",
          "xref": "x",
          "y": "1g",
          "yref": "y"
         },
         {
          "font": {
           "color": "#000000"
          },
          "showarrow": false,
          "text": "70.74",
          "x": "0.08s",
          "xref": "x",
          "y": "1g",
          "yref": "y"
         },
         {
          "font": {
           "color": "#000000"
          },
          "showarrow": false,
          "text": "9.75",
          "x": "0.16s",
          "xref": "x",
          "y": "1g",
          "yref": "y"
         },
         {
          "font": {
           "color": "#000000"
          },
          "showarrow": false,
          "text": "0.0",
          "x": "0.32s",
          "xref": "x",
          "y": "1g",
          "yref": "y"
         },
         {
          "font": {
           "color": "#000000"
          },
          "showarrow": false,
          "text": "0.0",
          "x": "0.64s",
          "xref": "x",
          "y": "1g",
          "yref": "y"
         },
         {
          "font": {
           "color": "#000000"
          },
          "showarrow": false,
          "text": "0.0",
          "x": "1.28s",
          "xref": "x",
          "y": "1g",
          "yref": "y"
         },
         {
          "font": {
           "color": "#FFFFFF"
          },
          "showarrow": false,
          "text": "196.26",
          "x": "0.01s",
          "xref": "x",
          "y": "2g",
          "yref": "y"
         },
         {
          "font": {
           "color": "#000000"
          },
          "showarrow": false,
          "text": "93.41",
          "x": "0.02s",
          "xref": "x",
          "y": "2g",
          "yref": "y"
         },
         {
          "font": {
           "color": "#000000"
          },
          "showarrow": false,
          "text": "25.56",
          "x": "0.04s",
          "xref": "x",
          "y": "2g",
          "yref": "y"
         },
         {
          "font": {
           "color": "#000000"
          },
          "showarrow": false,
          "text": "70.61",
          "x": "0.08s",
          "xref": "x",
          "y": "2g",
          "yref": "y"
         },
         {
          "font": {
           "color": "#000000"
          },
          "showarrow": false,
          "text": "18.6",
          "x": "0.16s",
          "xref": "x",
          "y": "2g",
          "yref": "y"
         },
         {
          "font": {
           "color": "#000000"
          },
          "showarrow": false,
          "text": "0.0",
          "x": "0.32s",
          "xref": "x",
          "y": "2g",
          "yref": "y"
         },
         {
          "font": {
           "color": "#000000"
          },
          "showarrow": false,
          "text": "0.0",
          "x": "0.64s",
          "xref": "x",
          "y": "2g",
          "yref": "y"
         },
         {
          "font": {
           "color": "#000000"
          },
          "showarrow": false,
          "text": "0.0",
          "x": "1.28s",
          "xref": "x",
          "y": "2g",
          "yref": "y"
         },
         {
          "font": {
           "color": "#FFFFFF"
          },
          "showarrow": false,
          "text": "124.29",
          "x": "0.01s",
          "xref": "x",
          "y": "3g",
          "yref": "y"
         },
         {
          "font": {
           "color": "#000000"
          },
          "showarrow": false,
          "text": "82.77",
          "x": "0.02s",
          "xref": "x",
          "y": "3g",
          "yref": "y"
         },
         {
          "font": {
           "color": "#000000"
          },
          "showarrow": false,
          "text": "37.32",
          "x": "0.04s",
          "xref": "x",
          "y": "3g",
          "yref": "y"
         },
         {
          "font": {
           "color": "#000000"
          },
          "showarrow": false,
          "text": "55.35",
          "x": "0.08s",
          "xref": "x",
          "y": "3g",
          "yref": "y"
         },
         {
          "font": {
           "color": "#000000"
          },
          "showarrow": false,
          "text": "7.84",
          "x": "0.16s",
          "xref": "x",
          "y": "3g",
          "yref": "y"
         },
         {
          "font": {
           "color": "#000000"
          },
          "showarrow": false,
          "text": "0.0",
          "x": "0.32s",
          "xref": "x",
          "y": "3g",
          "yref": "y"
         },
         {
          "font": {
           "color": "#000000"
          },
          "showarrow": false,
          "text": "0.0",
          "x": "0.64s",
          "xref": "x",
          "y": "3g",
          "yref": "y"
         },
         {
          "font": {
           "color": "#000000"
          },
          "showarrow": false,
          "text": "0.0",
          "x": "1.28s",
          "xref": "x",
          "y": "3g",
          "yref": "y"
         },
         {
          "font": {
           "color": "#FFFFFF"
          },
          "showarrow": false,
          "text": "117.35",
          "x": "0.01s",
          "xref": "x",
          "y": "4g",
          "yref": "y"
         },
         {
          "font": {
           "color": "#000000"
          },
          "showarrow": false,
          "text": "64.53",
          "x": "0.02s",
          "xref": "x",
          "y": "4g",
          "yref": "y"
         },
         {
          "font": {
           "color": "#000000"
          },
          "showarrow": false,
          "text": "50.35",
          "x": "0.04s",
          "xref": "x",
          "y": "4g",
          "yref": "y"
         },
         {
          "font": {
           "color": "#000000"
          },
          "showarrow": false,
          "text": "59.11",
          "x": "0.08s",
          "xref": "x",
          "y": "4g",
          "yref": "y"
         },
         {
          "font": {
           "color": "#000000"
          },
          "showarrow": false,
          "text": "11.64",
          "x": "0.16s",
          "xref": "x",
          "y": "4g",
          "yref": "y"
         },
         {
          "font": {
           "color": "#000000"
          },
          "showarrow": false,
          "text": "0.0",
          "x": "0.32s",
          "xref": "x",
          "y": "4g",
          "yref": "y"
         },
         {
          "font": {
           "color": "#000000"
          },
          "showarrow": false,
          "text": "0.0",
          "x": "0.64s",
          "xref": "x",
          "y": "4g",
          "yref": "y"
         },
         {
          "font": {
           "color": "#000000"
          },
          "showarrow": false,
          "text": "0.0",
          "x": "1.28s",
          "xref": "x",
          "y": "4g",
          "yref": "y"
         },
         {
          "font": {
           "color": "#000000"
          },
          "showarrow": false,
          "text": "79.34",
          "x": "0.01s",
          "xref": "x",
          "y": "5g",
          "yref": "y"
         },
         {
          "font": {
           "color": "#FFFFFF"
          },
          "showarrow": false,
          "text": "100.05",
          "x": "0.02s",
          "xref": "x",
          "y": "5g",
          "yref": "y"
         },
         {
          "font": {
           "color": "#000000"
          },
          "showarrow": false,
          "text": "46.35",
          "x": "0.04s",
          "xref": "x",
          "y": "5g",
          "yref": "y"
         },
         {
          "font": {
           "color": "#000000"
          },
          "showarrow": false,
          "text": "70.97",
          "x": "0.08s",
          "xref": "x",
          "y": "5g",
          "yref": "y"
         },
         {
          "font": {
           "color": "#000000"
          },
          "showarrow": false,
          "text": "7.93",
          "x": "0.16s",
          "xref": "x",
          "y": "5g",
          "yref": "y"
         },
         {
          "font": {
           "color": "#000000"
          },
          "showarrow": false,
          "text": "0.0",
          "x": "0.32s",
          "xref": "x",
          "y": "5g",
          "yref": "y"
         },
         {
          "font": {
           "color": "#000000"
          },
          "showarrow": false,
          "text": "0.0",
          "x": "0.64s",
          "xref": "x",
          "y": "5g",
          "yref": "y"
         },
         {
          "font": {
           "color": "#000000"
          },
          "showarrow": false,
          "text": "0.0",
          "x": "1.28s",
          "xref": "x",
          "y": "5g",
          "yref": "y"
         },
         {
          "font": {
           "color": "#FFFFFF"
          },
          "showarrow": false,
          "text": "123.75",
          "x": "0.01s",
          "xref": "x",
          "y": "6g",
          "yref": "y"
         },
         {
          "font": {
           "color": "#000000"
          },
          "showarrow": false,
          "text": "67.64",
          "x": "0.02s",
          "xref": "x",
          "y": "6g",
          "yref": "y"
         },
         {
          "font": {
           "color": "#000000"
          },
          "showarrow": false,
          "text": "22.82",
          "x": "0.04s",
          "xref": "x",
          "y": "6g",
          "yref": "y"
         },
         {
          "font": {
           "color": "#000000"
          },
          "showarrow": false,
          "text": "70.24",
          "x": "0.08s",
          "xref": "x",
          "y": "6g",
          "yref": "y"
         },
         {
          "font": {
           "color": "#000000"
          },
          "showarrow": false,
          "text": "15.31",
          "x": "0.16s",
          "xref": "x",
          "y": "6g",
          "yref": "y"
         },
         {
          "font": {
           "color": "#000000"
          },
          "showarrow": false,
          "text": "0.0",
          "x": "0.32s",
          "xref": "x",
          "y": "6g",
          "yref": "y"
         },
         {
          "font": {
           "color": "#000000"
          },
          "showarrow": false,
          "text": "0.0",
          "x": "0.64s",
          "xref": "x",
          "y": "6g",
          "yref": "y"
         },
         {
          "font": {
           "color": "#000000"
          },
          "showarrow": false,
          "text": "0.0",
          "x": "1.28s",
          "xref": "x",
          "y": "6g",
          "yref": "y"
         },
         {
          "font": {
           "color": "#FFFFFF"
          },
          "showarrow": false,
          "text": "192.18",
          "x": "0.01s",
          "xref": "x",
          "y": "7g",
          "yref": "y"
         },
         {
          "font": {
           "color": "#000000"
          },
          "showarrow": false,
          "text": "93.89",
          "x": "0.02s",
          "xref": "x",
          "y": "7g",
          "yref": "y"
         },
         {
          "font": {
           "color": "#000000"
          },
          "showarrow": false,
          "text": "38.04",
          "x": "0.04s",
          "xref": "x",
          "y": "7g",
          "yref": "y"
         },
         {
          "font": {
           "color": "#000000"
          },
          "showarrow": false,
          "text": "70.8",
          "x": "0.08s",
          "xref": "x",
          "y": "7g",
          "yref": "y"
         },
         {
          "font": {
           "color": "#000000"
          },
          "showarrow": false,
          "text": "14.38",
          "x": "0.16s",
          "xref": "x",
          "y": "7g",
          "yref": "y"
         },
         {
          "font": {
           "color": "#000000"
          },
          "showarrow": false,
          "text": "0.0",
          "x": "0.32s",
          "xref": "x",
          "y": "7g",
          "yref": "y"
         },
         {
          "font": {
           "color": "#000000"
          },
          "showarrow": false,
          "text": "0.0",
          "x": "0.64s",
          "xref": "x",
          "y": "7g",
          "yref": "y"
         },
         {
          "font": {
           "color": "#000000"
          },
          "showarrow": false,
          "text": "0.0",
          "x": "1.28s",
          "xref": "x",
          "y": "7g",
          "yref": "y"
         },
         {
          "font": {
           "color": "#FFFFFF"
          },
          "showarrow": false,
          "text": "117.46",
          "x": "0.01s",
          "xref": "x",
          "y": "8g",
          "yref": "y"
         },
         {
          "font": {
           "color": "#000000"
          },
          "showarrow": false,
          "text": "82.36",
          "x": "0.02s",
          "xref": "x",
          "y": "8g",
          "yref": "y"
         },
         {
          "font": {
           "color": "#000000"
          },
          "showarrow": false,
          "text": "30.02",
          "x": "0.04s",
          "xref": "x",
          "y": "8g",
          "yref": "y"
         },
         {
          "font": {
           "color": "#000000"
          },
          "showarrow": false,
          "text": "57.52",
          "x": "0.08s",
          "xref": "x",
          "y": "8g",
          "yref": "y"
         },
         {
          "font": {
           "color": "#000000"
          },
          "showarrow": false,
          "text": "17.79",
          "x": "0.16s",
          "xref": "x",
          "y": "8g",
          "yref": "y"
         },
         {
          "font": {
           "color": "#000000"
          },
          "showarrow": false,
          "text": "0.0",
          "x": "0.32s",
          "xref": "x",
          "y": "8g",
          "yref": "y"
         },
         {
          "font": {
           "color": "#000000"
          },
          "showarrow": false,
          "text": "0.0",
          "x": "0.64s",
          "xref": "x",
          "y": "8g",
          "yref": "y"
         },
         {
          "font": {
           "color": "#000000"
          },
          "showarrow": false,
          "text": "0.0",
          "x": "1.28s",
          "xref": "x",
          "y": "8g",
          "yref": "y"
         },
         {
          "font": {
           "color": "#FFFFFF"
          },
          "showarrow": false,
          "text": "159.75",
          "x": "0.01s",
          "xref": "x",
          "y": "9g",
          "yref": "y"
         },
         {
          "font": {
           "color": "#000000"
          },
          "showarrow": false,
          "text": "90.86",
          "x": "0.02s",
          "xref": "x",
          "y": "9g",
          "yref": "y"
         },
         {
          "font": {
           "color": "#000000"
          },
          "showarrow": false,
          "text": "36.62",
          "x": "0.04s",
          "xref": "x",
          "y": "9g",
          "yref": "y"
         },
         {
          "font": {
           "color": "#000000"
          },
          "showarrow": false,
          "text": "54.35",
          "x": "0.08s",
          "xref": "x",
          "y": "9g",
          "yref": "y"
         },
         {
          "font": {
           "color": "#000000"
          },
          "showarrow": false,
          "text": "3.64",
          "x": "0.16s",
          "xref": "x",
          "y": "9g",
          "yref": "y"
         },
         {
          "font": {
           "color": "#000000"
          },
          "showarrow": false,
          "text": "0.0",
          "x": "0.32s",
          "xref": "x",
          "y": "9g",
          "yref": "y"
         },
         {
          "font": {
           "color": "#000000"
          },
          "showarrow": false,
          "text": "0.0",
          "x": "0.64s",
          "xref": "x",
          "y": "9g",
          "yref": "y"
         },
         {
          "font": {
           "color": "#000000"
          },
          "showarrow": false,
          "text": "0.0",
          "x": "1.28s",
          "xref": "x",
          "y": "9g",
          "yref": "y"
         },
         {
          "font": {
           "color": "#FFFFFF"
          },
          "showarrow": false,
          "text": "98.53",
          "x": "0.01s",
          "xref": "x",
          "y": "10g",
          "yref": "y"
         },
         {
          "font": {
           "color": "#000000"
          },
          "showarrow": false,
          "text": "56.77",
          "x": "0.02s",
          "xref": "x",
          "y": "10g",
          "yref": "y"
         },
         {
          "font": {
           "color": "#000000"
          },
          "showarrow": false,
          "text": "25.37",
          "x": "0.04s",
          "xref": "x",
          "y": "10g",
          "yref": "y"
         },
         {
          "font": {
           "color": "#000000"
          },
          "showarrow": false,
          "text": "70.51",
          "x": "0.08s",
          "xref": "x",
          "y": "10g",
          "yref": "y"
         },
         {
          "font": {
           "color": "#000000"
          },
          "showarrow": false,
          "text": "10.85",
          "x": "0.16s",
          "xref": "x",
          "y": "10g",
          "yref": "y"
         },
         {
          "font": {
           "color": "#000000"
          },
          "showarrow": false,
          "text": "0.0",
          "x": "0.32s",
          "xref": "x",
          "y": "10g",
          "yref": "y"
         },
         {
          "font": {
           "color": "#000000"
          },
          "showarrow": false,
          "text": "0.0",
          "x": "0.64s",
          "xref": "x",
          "y": "10g",
          "yref": "y"
         },
         {
          "font": {
           "color": "#000000"
          },
          "showarrow": false,
          "text": "0.0",
          "x": "1.28s",
          "xref": "x",
          "y": "10g",
          "yref": "y"
         },
         {
          "font": {
           "color": "#FFFFFF"
          },
          "showarrow": false,
          "text": "103.18",
          "x": "0.01s",
          "xref": "x",
          "y": "11g",
          "yref": "y"
         },
         {
          "font": {
           "color": "#000000"
          },
          "showarrow": false,
          "text": "87.78",
          "x": "0.02s",
          "xref": "x",
          "y": "11g",
          "yref": "y"
         },
         {
          "font": {
           "color": "#000000"
          },
          "showarrow": false,
          "text": "38.16",
          "x": "0.04s",
          "xref": "x",
          "y": "11g",
          "yref": "y"
         },
         {
          "font": {
           "color": "#000000"
          },
          "showarrow": false,
          "text": "69.26",
          "x": "0.08s",
          "xref": "x",
          "y": "11g",
          "yref": "y"
         },
         {
          "font": {
           "color": "#000000"
          },
          "showarrow": false,
          "text": "12.65",
          "x": "0.16s",
          "xref": "x",
          "y": "11g",
          "yref": "y"
         },
         {
          "font": {
           "color": "#000000"
          },
          "showarrow": false,
          "text": "0.0",
          "x": "0.32s",
          "xref": "x",
          "y": "11g",
          "yref": "y"
         },
         {
          "font": {
           "color": "#000000"
          },
          "showarrow": false,
          "text": "0.0",
          "x": "0.64s",
          "xref": "x",
          "y": "11g",
          "yref": "y"
         },
         {
          "font": {
           "color": "#000000"
          },
          "showarrow": false,
          "text": "0.0",
          "x": "1.28s",
          "xref": "x",
          "y": "11g",
          "yref": "y"
         },
         {
          "font": {
           "color": "#FFFFFF"
          },
          "showarrow": false,
          "text": "137.79",
          "x": "0.01s",
          "xref": "x",
          "y": "12g",
          "yref": "y"
         },
         {
          "font": {
           "color": "#000000"
          },
          "showarrow": false,
          "text": "93.17",
          "x": "0.02s",
          "xref": "x",
          "y": "12g",
          "yref": "y"
         },
         {
          "font": {
           "color": "#000000"
          },
          "showarrow": false,
          "text": "38.5",
          "x": "0.04s",
          "xref": "x",
          "y": "12g",
          "yref": "y"
         },
         {
          "font": {
           "color": "#000000"
          },
          "showarrow": false,
          "text": "71.53",
          "x": "0.08s",
          "xref": "x",
          "y": "12g",
          "yref": "y"
         },
         {
          "font": {
           "color": "#000000"
          },
          "showarrow": false,
          "text": "11.8",
          "x": "0.16s",
          "xref": "x",
          "y": "12g",
          "yref": "y"
         },
         {
          "font": {
           "color": "#000000"
          },
          "showarrow": false,
          "text": "0.0",
          "x": "0.32s",
          "xref": "x",
          "y": "12g",
          "yref": "y"
         },
         {
          "font": {
           "color": "#000000"
          },
          "showarrow": false,
          "text": "0.0",
          "x": "0.64s",
          "xref": "x",
          "y": "12g",
          "yref": "y"
         },
         {
          "font": {
           "color": "#000000"
          },
          "showarrow": false,
          "text": "0.0",
          "x": "1.28s",
          "xref": "x",
          "y": "12g",
          "yref": "y"
         },
         {
          "font": {
           "color": "#FFFFFF"
          },
          "showarrow": false,
          "text": "137.42",
          "x": "0.01s",
          "xref": "x",
          "y": "13g",
          "yref": "y"
         },
         {
          "font": {
           "color": "#000000"
          },
          "showarrow": false,
          "text": "93.89",
          "x": "0.02s",
          "xref": "x",
          "y": "13g",
          "yref": "y"
         },
         {
          "font": {
           "color": "#000000"
          },
          "showarrow": false,
          "text": "30.6",
          "x": "0.04s",
          "xref": "x",
          "y": "13g",
          "yref": "y"
         },
         {
          "font": {
           "color": "#000000"
          },
          "showarrow": false,
          "text": "65.45",
          "x": "0.08s",
          "xref": "x",
          "y": "13g",
          "yref": "y"
         },
         {
          "font": {
           "color": "#000000"
          },
          "showarrow": false,
          "text": "5.22",
          "x": "0.16s",
          "xref": "x",
          "y": "13g",
          "yref": "y"
         },
         {
          "font": {
           "color": "#000000"
          },
          "showarrow": false,
          "text": "0.0",
          "x": "0.32s",
          "xref": "x",
          "y": "13g",
          "yref": "y"
         },
         {
          "font": {
           "color": "#000000"
          },
          "showarrow": false,
          "text": "0.0",
          "x": "0.64s",
          "xref": "x",
          "y": "13g",
          "yref": "y"
         },
         {
          "font": {
           "color": "#000000"
          },
          "showarrow": false,
          "text": "0.0",
          "x": "1.28s",
          "xref": "x",
          "y": "13g",
          "yref": "y"
         },
         {
          "font": {
           "color": "#FFFFFF"
          },
          "showarrow": false,
          "text": "137.24",
          "x": "0.01s",
          "xref": "x",
          "y": "14g",
          "yref": "y"
         },
         {
          "font": {
           "color": "#000000"
          },
          "showarrow": false,
          "text": "80.27",
          "x": "0.02s",
          "xref": "x",
          "y": "14g",
          "yref": "y"
         },
         {
          "font": {
           "color": "#000000"
          },
          "showarrow": false,
          "text": "41.83",
          "x": "0.04s",
          "xref": "x",
          "y": "14g",
          "yref": "y"
         },
         {
          "font": {
           "color": "#000000"
          },
          "showarrow": false,
          "text": "62.67",
          "x": "0.08s",
          "xref": "x",
          "y": "14g",
          "yref": "y"
         },
         {
          "font": {
           "color": "#000000"
          },
          "showarrow": false,
          "text": "9.0",
          "x": "0.16s",
          "xref": "x",
          "y": "14g",
          "yref": "y"
         },
         {
          "font": {
           "color": "#000000"
          },
          "showarrow": false,
          "text": "0.0",
          "x": "0.32s",
          "xref": "x",
          "y": "14g",
          "yref": "y"
         },
         {
          "font": {
           "color": "#000000"
          },
          "showarrow": false,
          "text": "0.0",
          "x": "0.64s",
          "xref": "x",
          "y": "14g",
          "yref": "y"
         },
         {
          "font": {
           "color": "#000000"
          },
          "showarrow": false,
          "text": "0.0",
          "x": "1.28s",
          "xref": "x",
          "y": "14g",
          "yref": "y"
         },
         {
          "font": {
           "color": "#FFFFFF"
          },
          "showarrow": false,
          "text": "124.98",
          "x": "0.01s",
          "xref": "x",
          "y": "15g",
          "yref": "y"
         },
         {
          "font": {
           "color": "#000000"
          },
          "showarrow": false,
          "text": "88.26",
          "x": "0.02s",
          "xref": "x",
          "y": "15g",
          "yref": "y"
         },
         {
          "font": {
           "color": "#000000"
          },
          "showarrow": false,
          "text": "47.32",
          "x": "0.04s",
          "xref": "x",
          "y": "15g",
          "yref": "y"
         },
         {
          "font": {
           "color": "#000000"
          },
          "showarrow": false,
          "text": "70.06",
          "x": "0.08s",
          "xref": "x",
          "y": "15g",
          "yref": "y"
         },
         {
          "font": {
           "color": "#000000"
          },
          "showarrow": false,
          "text": "14.06",
          "x": "0.16s",
          "xref": "x",
          "y": "15g",
          "yref": "y"
         },
         {
          "font": {
           "color": "#000000"
          },
          "showarrow": false,
          "text": "0.0",
          "x": "0.32s",
          "xref": "x",
          "y": "15g",
          "yref": "y"
         },
         {
          "font": {
           "color": "#000000"
          },
          "showarrow": false,
          "text": "0.0",
          "x": "0.64s",
          "xref": "x",
          "y": "15g",
          "yref": "y"
         },
         {
          "font": {
           "color": "#000000"
          },
          "showarrow": false,
          "text": "0.0",
          "x": "1.28s",
          "xref": "x",
          "y": "15g",
          "yref": "y"
         },
         {
          "font": {
           "color": "#FFFFFF"
          },
          "showarrow": false,
          "text": "132.6",
          "x": "0.01s",
          "xref": "x",
          "y": "16g",
          "yref": "y"
         },
         {
          "font": {
           "color": "#000000"
          },
          "showarrow": false,
          "text": "62.96",
          "x": "0.02s",
          "xref": "x",
          "y": "16g",
          "yref": "y"
         },
         {
          "font": {
           "color": "#000000"
          },
          "showarrow": false,
          "text": "44.4",
          "x": "0.04s",
          "xref": "x",
          "y": "16g",
          "yref": "y"
         },
         {
          "font": {
           "color": "#000000"
          },
          "showarrow": false,
          "text": "71.3",
          "x": "0.08s",
          "xref": "x",
          "y": "16g",
          "yref": "y"
         },
         {
          "font": {
           "color": "#000000"
          },
          "showarrow": false,
          "text": "3.52",
          "x": "0.16s",
          "xref": "x",
          "y": "16g",
          "yref": "y"
         },
         {
          "font": {
           "color": "#000000"
          },
          "showarrow": false,
          "text": "0.0",
          "x": "0.32s",
          "xref": "x",
          "y": "16g",
          "yref": "y"
         },
         {
          "font": {
           "color": "#000000"
          },
          "showarrow": false,
          "text": "0.0",
          "x": "0.64s",
          "xref": "x",
          "y": "16g",
          "yref": "y"
         },
         {
          "font": {
           "color": "#000000"
          },
          "showarrow": false,
          "text": "0.0",
          "x": "1.28s",
          "xref": "x",
          "y": "16g",
          "yref": "y"
         },
         {
          "font": {
           "color": "#000000"
          },
          "showarrow": false,
          "text": "84.81",
          "x": "0.01s",
          "xref": "x",
          "y": "17g",
          "yref": "y"
         },
         {
          "font": {
           "color": "#000000"
          },
          "showarrow": false,
          "text": "91.6",
          "x": "0.02s",
          "xref": "x",
          "y": "17g",
          "yref": "y"
         },
         {
          "font": {
           "color": "#000000"
          },
          "showarrow": false,
          "text": "39.11",
          "x": "0.04s",
          "xref": "x",
          "y": "17g",
          "yref": "y"
         },
         {
          "font": {
           "color": "#000000"
          },
          "showarrow": false,
          "text": "71.03",
          "x": "0.08s",
          "xref": "x",
          "y": "17g",
          "yref": "y"
         },
         {
          "font": {
           "color": "#000000"
          },
          "showarrow": false,
          "text": "14.31",
          "x": "0.16s",
          "xref": "x",
          "y": "17g",
          "yref": "y"
         },
         {
          "font": {
           "color": "#000000"
          },
          "showarrow": false,
          "text": "0.0",
          "x": "0.32s",
          "xref": "x",
          "y": "17g",
          "yref": "y"
         },
         {
          "font": {
           "color": "#000000"
          },
          "showarrow": false,
          "text": "0.0",
          "x": "0.64s",
          "xref": "x",
          "y": "17g",
          "yref": "y"
         },
         {
          "font": {
           "color": "#000000"
          },
          "showarrow": false,
          "text": "0.0",
          "x": "1.28s",
          "xref": "x",
          "y": "17g",
          "yref": "y"
         },
         {
          "font": {
           "color": "#FFFFFF"
          },
          "showarrow": false,
          "text": "163.48",
          "x": "0.01s",
          "xref": "x",
          "y": "18g",
          "yref": "y"
         },
         {
          "font": {
           "color": "#000000"
          },
          "showarrow": false,
          "text": "88.45",
          "x": "0.02s",
          "xref": "x",
          "y": "18g",
          "yref": "y"
         },
         {
          "font": {
           "color": "#000000"
          },
          "showarrow": false,
          "text": "41.14",
          "x": "0.04s",
          "xref": "x",
          "y": "18g",
          "yref": "y"
         },
         {
          "font": {
           "color": "#000000"
          },
          "showarrow": false,
          "text": "69.38",
          "x": "0.08s",
          "xref": "x",
          "y": "18g",
          "yref": "y"
         },
         {
          "font": {
           "color": "#000000"
          },
          "showarrow": false,
          "text": "5.03",
          "x": "0.16s",
          "xref": "x",
          "y": "18g",
          "yref": "y"
         },
         {
          "font": {
           "color": "#000000"
          },
          "showarrow": false,
          "text": "0.0",
          "x": "0.32s",
          "xref": "x",
          "y": "18g",
          "yref": "y"
         },
         {
          "font": {
           "color": "#000000"
          },
          "showarrow": false,
          "text": "0.0",
          "x": "0.64s",
          "xref": "x",
          "y": "18g",
          "yref": "y"
         },
         {
          "font": {
           "color": "#000000"
          },
          "showarrow": false,
          "text": "0.0",
          "x": "1.28s",
          "xref": "x",
          "y": "18g",
          "yref": "y"
         },
         {
          "font": {
           "color": "#FFFFFF"
          },
          "showarrow": false,
          "text": "104.49",
          "x": "0.01s",
          "xref": "x",
          "y": "19g",
          "yref": "y"
         },
         {
          "font": {
           "color": "#000000"
          },
          "showarrow": false,
          "text": "74.6",
          "x": "0.02s",
          "xref": "x",
          "y": "19g",
          "yref": "y"
         },
         {
          "font": {
           "color": "#000000"
          },
          "showarrow": false,
          "text": "47.1",
          "x": "0.04s",
          "xref": "x",
          "y": "19g",
          "yref": "y"
         },
         {
          "font": {
           "color": "#000000"
          },
          "showarrow": false,
          "text": "59.05",
          "x": "0.08s",
          "xref": "x",
          "y": "19g",
          "yref": "y"
         },
         {
          "font": {
           "color": "#000000"
          },
          "showarrow": false,
          "text": "10.71",
          "x": "0.16s",
          "xref": "x",
          "y": "19g",
          "yref": "y"
         },
         {
          "font": {
           "color": "#000000"
          },
          "showarrow": false,
          "text": "0.0",
          "x": "0.32s",
          "xref": "x",
          "y": "19g",
          "yref": "y"
         },
         {
          "font": {
           "color": "#000000"
          },
          "showarrow": false,
          "text": "0.0",
          "x": "0.64s",
          "xref": "x",
          "y": "19g",
          "yref": "y"
         },
         {
          "font": {
           "color": "#000000"
          },
          "showarrow": false,
          "text": "0.0",
          "x": "1.28s",
          "xref": "x",
          "y": "19g",
          "yref": "y"
         },
         {
          "font": {
           "color": "#FFFFFF"
          },
          "showarrow": false,
          "text": "130.98",
          "x": "0.01s",
          "xref": "x",
          "y": "20g",
          "yref": "y"
         },
         {
          "font": {
           "color": "#000000"
          },
          "showarrow": false,
          "text": "77.77",
          "x": "0.02s",
          "xref": "x",
          "y": "20g",
          "yref": "y"
         },
         {
          "font": {
           "color": "#000000"
          },
          "showarrow": false,
          "text": "46.94",
          "x": "0.04s",
          "xref": "x",
          "y": "20g",
          "yref": "y"
         },
         {
          "font": {
           "color": "#000000"
          },
          "showarrow": false,
          "text": "70.13",
          "x": "0.08s",
          "xref": "x",
          "y": "20g",
          "yref": "y"
         },
         {
          "font": {
           "color": "#000000"
          },
          "showarrow": false,
          "text": "6.71",
          "x": "0.16s",
          "xref": "x",
          "y": "20g",
          "yref": "y"
         },
         {
          "font": {
           "color": "#000000"
          },
          "showarrow": false,
          "text": "0.0",
          "x": "0.32s",
          "xref": "x",
          "y": "20g",
          "yref": "y"
         },
         {
          "font": {
           "color": "#000000"
          },
          "showarrow": false,
          "text": "0.0",
          "x": "0.64s",
          "xref": "x",
          "y": "20g",
          "yref": "y"
         },
         {
          "font": {
           "color": "#000000"
          },
          "showarrow": false,
          "text": "0.0",
          "x": "1.28s",
          "xref": "x",
          "y": "20g",
          "yref": "y"
         }
        ],
        "font": {
         "size": 15
        },
        "height": 700,
        "template": {
         "data": {
          "bar": [
           {
            "error_x": {
             "color": "#2a3f5f"
            },
            "error_y": {
             "color": "#2a3f5f"
            },
            "marker": {
             "line": {
              "color": "#E5ECF6",
              "width": 0.5
             },
             "pattern": {
              "fillmode": "overlay",
              "size": 10,
              "solidity": 0.2
             }
            },
            "type": "bar"
           }
          ],
          "barpolar": [
           {
            "marker": {
             "line": {
              "color": "#E5ECF6",
              "width": 0.5
             },
             "pattern": {
              "fillmode": "overlay",
              "size": 10,
              "solidity": 0.2
             }
            },
            "type": "barpolar"
           }
          ],
          "carpet": [
           {
            "aaxis": {
             "endlinecolor": "#2a3f5f",
             "gridcolor": "white",
             "linecolor": "white",
             "minorgridcolor": "white",
             "startlinecolor": "#2a3f5f"
            },
            "baxis": {
             "endlinecolor": "#2a3f5f",
             "gridcolor": "white",
             "linecolor": "white",
             "minorgridcolor": "white",
             "startlinecolor": "#2a3f5f"
            },
            "type": "carpet"
           }
          ],
          "choropleth": [
           {
            "colorbar": {
             "outlinewidth": 0,
             "ticks": ""
            },
            "type": "choropleth"
           }
          ],
          "contour": [
           {
            "colorbar": {
             "outlinewidth": 0,
             "ticks": ""
            },
            "colorscale": [
             [
              0,
              "#0d0887"
             ],
             [
              0.1111111111111111,
              "#46039f"
             ],
             [
              0.2222222222222222,
              "#7201a8"
             ],
             [
              0.3333333333333333,
              "#9c179e"
             ],
             [
              0.4444444444444444,
              "#bd3786"
             ],
             [
              0.5555555555555556,
              "#d8576b"
             ],
             [
              0.6666666666666666,
              "#ed7953"
             ],
             [
              0.7777777777777778,
              "#fb9f3a"
             ],
             [
              0.8888888888888888,
              "#fdca26"
             ],
             [
              1,
              "#f0f921"
             ]
            ],
            "type": "contour"
           }
          ],
          "contourcarpet": [
           {
            "colorbar": {
             "outlinewidth": 0,
             "ticks": ""
            },
            "type": "contourcarpet"
           }
          ],
          "heatmap": [
           {
            "colorbar": {
             "outlinewidth": 0,
             "ticks": ""
            },
            "colorscale": [
             [
              0,
              "#0d0887"
             ],
             [
              0.1111111111111111,
              "#46039f"
             ],
             [
              0.2222222222222222,
              "#7201a8"
             ],
             [
              0.3333333333333333,
              "#9c179e"
             ],
             [
              0.4444444444444444,
              "#bd3786"
             ],
             [
              0.5555555555555556,
              "#d8576b"
             ],
             [
              0.6666666666666666,
              "#ed7953"
             ],
             [
              0.7777777777777778,
              "#fb9f3a"
             ],
             [
              0.8888888888888888,
              "#fdca26"
             ],
             [
              1,
              "#f0f921"
             ]
            ],
            "type": "heatmap"
           }
          ],
          "heatmapgl": [
           {
            "colorbar": {
             "outlinewidth": 0,
             "ticks": ""
            },
            "colorscale": [
             [
              0,
              "#0d0887"
             ],
             [
              0.1111111111111111,
              "#46039f"
             ],
             [
              0.2222222222222222,
              "#7201a8"
             ],
             [
              0.3333333333333333,
              "#9c179e"
             ],
             [
              0.4444444444444444,
              "#bd3786"
             ],
             [
              0.5555555555555556,
              "#d8576b"
             ],
             [
              0.6666666666666666,
              "#ed7953"
             ],
             [
              0.7777777777777778,
              "#fb9f3a"
             ],
             [
              0.8888888888888888,
              "#fdca26"
             ],
             [
              1,
              "#f0f921"
             ]
            ],
            "type": "heatmapgl"
           }
          ],
          "histogram": [
           {
            "marker": {
             "pattern": {
              "fillmode": "overlay",
              "size": 10,
              "solidity": 0.2
             }
            },
            "type": "histogram"
           }
          ],
          "histogram2d": [
           {
            "colorbar": {
             "outlinewidth": 0,
             "ticks": ""
            },
            "colorscale": [
             [
              0,
              "#0d0887"
             ],
             [
              0.1111111111111111,
              "#46039f"
             ],
             [
              0.2222222222222222,
              "#7201a8"
             ],
             [
              0.3333333333333333,
              "#9c179e"
             ],
             [
              0.4444444444444444,
              "#bd3786"
             ],
             [
              0.5555555555555556,
              "#d8576b"
             ],
             [
              0.6666666666666666,
              "#ed7953"
             ],
             [
              0.7777777777777778,
              "#fb9f3a"
             ],
             [
              0.8888888888888888,
              "#fdca26"
             ],
             [
              1,
              "#f0f921"
             ]
            ],
            "type": "histogram2d"
           }
          ],
          "histogram2dcontour": [
           {
            "colorbar": {
             "outlinewidth": 0,
             "ticks": ""
            },
            "colorscale": [
             [
              0,
              "#0d0887"
             ],
             [
              0.1111111111111111,
              "#46039f"
             ],
             [
              0.2222222222222222,
              "#7201a8"
             ],
             [
              0.3333333333333333,
              "#9c179e"
             ],
             [
              0.4444444444444444,
              "#bd3786"
             ],
             [
              0.5555555555555556,
              "#d8576b"
             ],
             [
              0.6666666666666666,
              "#ed7953"
             ],
             [
              0.7777777777777778,
              "#fb9f3a"
             ],
             [
              0.8888888888888888,
              "#fdca26"
             ],
             [
              1,
              "#f0f921"
             ]
            ],
            "type": "histogram2dcontour"
           }
          ],
          "mesh3d": [
           {
            "colorbar": {
             "outlinewidth": 0,
             "ticks": ""
            },
            "type": "mesh3d"
           }
          ],
          "parcoords": [
           {
            "line": {
             "colorbar": {
              "outlinewidth": 0,
              "ticks": ""
             }
            },
            "type": "parcoords"
           }
          ],
          "pie": [
           {
            "automargin": true,
            "type": "pie"
           }
          ],
          "scatter": [
           {
            "marker": {
             "colorbar": {
              "outlinewidth": 0,
              "ticks": ""
             }
            },
            "type": "scatter"
           }
          ],
          "scatter3d": [
           {
            "line": {
             "colorbar": {
              "outlinewidth": 0,
              "ticks": ""
             }
            },
            "marker": {
             "colorbar": {
              "outlinewidth": 0,
              "ticks": ""
             }
            },
            "type": "scatter3d"
           }
          ],
          "scattercarpet": [
           {
            "marker": {
             "colorbar": {
              "outlinewidth": 0,
              "ticks": ""
             }
            },
            "type": "scattercarpet"
           }
          ],
          "scattergeo": [
           {
            "marker": {
             "colorbar": {
              "outlinewidth": 0,
              "ticks": ""
             }
            },
            "type": "scattergeo"
           }
          ],
          "scattergl": [
           {
            "marker": {
             "colorbar": {
              "outlinewidth": 0,
              "ticks": ""
             }
            },
            "type": "scattergl"
           }
          ],
          "scattermapbox": [
           {
            "marker": {
             "colorbar": {
              "outlinewidth": 0,
              "ticks": ""
             }
            },
            "type": "scattermapbox"
           }
          ],
          "scatterpolar": [
           {
            "marker": {
             "colorbar": {
              "outlinewidth": 0,
              "ticks": ""
             }
            },
            "type": "scatterpolar"
           }
          ],
          "scatterpolargl": [
           {
            "marker": {
             "colorbar": {
              "outlinewidth": 0,
              "ticks": ""
             }
            },
            "type": "scatterpolargl"
           }
          ],
          "scatterternary": [
           {
            "marker": {
             "colorbar": {
              "outlinewidth": 0,
              "ticks": ""
             }
            },
            "type": "scatterternary"
           }
          ],
          "surface": [
           {
            "colorbar": {
             "outlinewidth": 0,
             "ticks": ""
            },
            "colorscale": [
             [
              0,
              "#0d0887"
             ],
             [
              0.1111111111111111,
              "#46039f"
             ],
             [
              0.2222222222222222,
              "#7201a8"
             ],
             [
              0.3333333333333333,
              "#9c179e"
             ],
             [
              0.4444444444444444,
              "#bd3786"
             ],
             [
              0.5555555555555556,
              "#d8576b"
             ],
             [
              0.6666666666666666,
              "#ed7953"
             ],
             [
              0.7777777777777778,
              "#fb9f3a"
             ],
             [
              0.8888888888888888,
              "#fdca26"
             ],
             [
              1,
              "#f0f921"
             ]
            ],
            "type": "surface"
           }
          ],
          "table": [
           {
            "cells": {
             "fill": {
              "color": "#EBF0F8"
             },
             "line": {
              "color": "white"
             }
            },
            "header": {
             "fill": {
              "color": "#C8D4E3"
             },
             "line": {
              "color": "white"
             }
            },
            "type": "table"
           }
          ]
         },
         "layout": {
          "annotationdefaults": {
           "arrowcolor": "#2a3f5f",
           "arrowhead": 0,
           "arrowwidth": 1
          },
          "autotypenumbers": "strict",
          "coloraxis": {
           "colorbar": {
            "outlinewidth": 0,
            "ticks": ""
           }
          },
          "colorscale": {
           "diverging": [
            [
             0,
             "#8e0152"
            ],
            [
             0.1,
             "#c51b7d"
            ],
            [
             0.2,
             "#de77ae"
            ],
            [
             0.3,
             "#f1b6da"
            ],
            [
             0.4,
             "#fde0ef"
            ],
            [
             0.5,
             "#f7f7f7"
            ],
            [
             0.6,
             "#e6f5d0"
            ],
            [
             0.7,
             "#b8e186"
            ],
            [
             0.8,
             "#7fbc41"
            ],
            [
             0.9,
             "#4d9221"
            ],
            [
             1,
             "#276419"
            ]
           ],
           "sequential": [
            [
             0,
             "#0d0887"
            ],
            [
             0.1111111111111111,
             "#46039f"
            ],
            [
             0.2222222222222222,
             "#7201a8"
            ],
            [
             0.3333333333333333,
             "#9c179e"
            ],
            [
             0.4444444444444444,
             "#bd3786"
            ],
            [
             0.5555555555555556,
             "#d8576b"
            ],
            [
             0.6666666666666666,
             "#ed7953"
            ],
            [
             0.7777777777777778,
             "#fb9f3a"
            ],
            [
             0.8888888888888888,
             "#fdca26"
            ],
            [
             1,
             "#f0f921"
            ]
           ],
           "sequentialminus": [
            [
             0,
             "#0d0887"
            ],
            [
             0.1111111111111111,
             "#46039f"
            ],
            [
             0.2222222222222222,
             "#7201a8"
            ],
            [
             0.3333333333333333,
             "#9c179e"
            ],
            [
             0.4444444444444444,
             "#bd3786"
            ],
            [
             0.5555555555555556,
             "#d8576b"
            ],
            [
             0.6666666666666666,
             "#ed7953"
            ],
            [
             0.7777777777777778,
             "#fb9f3a"
            ],
            [
             0.8888888888888888,
             "#fdca26"
            ],
            [
             1,
             "#f0f921"
            ]
           ]
          },
          "colorway": [
           "#636efa",
           "#EF553B",
           "#00cc96",
           "#ab63fa",
           "#FFA15A",
           "#19d3f3",
           "#FF6692",
           "#B6E880",
           "#FF97FF",
           "#FECB52"
          ],
          "font": {
           "color": "#2a3f5f"
          },
          "geo": {
           "bgcolor": "white",
           "lakecolor": "white",
           "landcolor": "#E5ECF6",
           "showlakes": true,
           "showland": true,
           "subunitcolor": "white"
          },
          "hoverlabel": {
           "align": "left"
          },
          "hovermode": "closest",
          "mapbox": {
           "style": "light"
          },
          "paper_bgcolor": "white",
          "plot_bgcolor": "#E5ECF6",
          "polar": {
           "angularaxis": {
            "gridcolor": "white",
            "linecolor": "white",
            "ticks": ""
           },
           "bgcolor": "#E5ECF6",
           "radialaxis": {
            "gridcolor": "white",
            "linecolor": "white",
            "ticks": ""
           }
          },
          "scene": {
           "xaxis": {
            "backgroundcolor": "#E5ECF6",
            "gridcolor": "white",
            "gridwidth": 2,
            "linecolor": "white",
            "showbackground": true,
            "ticks": "",
            "zerolinecolor": "white"
           },
           "yaxis": {
            "backgroundcolor": "#E5ECF6",
            "gridcolor": "white",
            "gridwidth": 2,
            "linecolor": "white",
            "showbackground": true,
            "ticks": "",
            "zerolinecolor": "white"
           },
           "zaxis": {
            "backgroundcolor": "#E5ECF6",
            "gridcolor": "white",
            "gridwidth": 2,
            "linecolor": "white",
            "showbackground": true,
            "ticks": "",
            "zerolinecolor": "white"
           }
          },
          "shapedefaults": {
           "line": {
            "color": "#2a3f5f"
           }
          },
          "ternary": {
           "aaxis": {
            "gridcolor": "white",
            "linecolor": "white",
            "ticks": ""
           },
           "baxis": {
            "gridcolor": "white",
            "linecolor": "white",
            "ticks": ""
           },
           "bgcolor": "#E5ECF6",
           "caxis": {
            "gridcolor": "white",
            "linecolor": "white",
            "ticks": ""
           }
          },
          "title": {
           "x": 0.05
          },
          "xaxis": {
           "automargin": true,
           "gridcolor": "white",
           "linecolor": "white",
           "ticks": "",
           "title": {
            "standoff": 15
           },
           "zerolinecolor": "white",
           "zerolinewidth": 2
          },
          "yaxis": {
           "automargin": true,
           "gridcolor": "white",
           "linecolor": "white",
           "ticks": "",
           "title": {
            "standoff": 15
           },
           "zerolinecolor": "white",
           "zerolinewidth": 2
          }
         }
        },
        "xaxis": {
         "dtick": 1,
         "gridcolor": "rgb(0, 0, 0)",
         "side": "bottom",
         "ticks": "",
         "title": {
          "text": "Response Time"
         }
        },
        "yaxis": {
         "dtick": 1,
         "ticks": "",
         "ticksuffix": "  ",
         "title": {
          "text": "Max Pertubation during training"
         }
        }
       }
      },
      "text/html": [
       "<div>                            <div id=\"98e2d336-aaac-470a-8e02-3293ce99fe19\" class=\"plotly-graph-div\" style=\"height:700px; width:100%;\"></div>            <script type=\"text/javascript\">                require([\"plotly\"], function(Plotly) {                    window.PLOTLYENV=window.PLOTLYENV || {};                                    if (document.getElementById(\"98e2d336-aaac-470a-8e02-3293ce99fe19\")) {                    Plotly.newPlot(                        \"98e2d336-aaac-470a-8e02-3293ce99fe19\",                        [{\"colorscale\":[[0.0,\"rgb(247,251,255)\"],[0.125,\"rgb(222,235,247)\"],[0.25,\"rgb(198,219,239)\"],[0.375,\"rgb(158,202,225)\"],[0.5,\"rgb(107,174,214)\"],[0.625,\"rgb(66,146,198)\"],[0.75,\"rgb(33,113,181)\"],[0.875,\"rgb(8,81,156)\"],[1.0,\"rgb(8,48,107)\"]],\"reversescale\":false,\"showscale\":true,\"type\":\"heatmap\",\"x\":[\"0.01s\",\"0.02s\",\"0.04s\",\"0.08s\",\"0.16s\",\"0.32s\",\"0.64s\",\"1.28s\"],\"y\":[\"0g\",\"1g\",\"2g\",\"3g\",\"4g\",\"5g\",\"6g\",\"7g\",\"8g\",\"9g\",\"10g\",\"11g\",\"12g\",\"13g\",\"14g\",\"15g\",\"16g\",\"17g\",\"18g\",\"19g\",\"20g\"],\"z\":[[166.3459947481299,105.27185064778739,41.11710812644599,71.06760545920953,17.324443958924043,0.0,0.0,0.0],[95.8140036413869,127.80200135759756,44.17658598529189,70.7397311116067,9.751091126532284,0.0,0.0,0.0],[196.26305678163976,93.41102796921578,25.556364389773652,70.61037242300837,18.60030568342694,0.0,0.0,0.0],[124.28509429141596,82.77164703589227,37.319324213852624,55.34904681849415,7.844472784699683,0.0,0.0,0.0],[117.35402944097798,64.53287854317738,50.349396576681386,59.11470259202868,11.635725612608706,0.0,0.0,0.0],[79.34473534522336,100.04716832445197,46.35194461428491,70.96768652494993,7.931420332321485,0.0,0.0,0.0],[123.75412024563825,67.63710635972959,22.818594847203308,70.24338643211968,15.309833136431683,0.0,0.0,0.0],[192.17722096592837,93.89081970329441,38.03877646038359,70.79988286066046,14.378465832658588,0.0,0.0,0.0],[117.46365949701301,82.35852890837887,30.024865414706646,57.5173799840613,17.794041292625533,0.0,0.0,0.0],[159.75472806771307,90.8647969128922,36.6221900517761,54.34787332422307,3.635606147122578,0.0,0.0,0.0],[98.53395966297265,56.76544116873739,25.367782142562042,70.51138789349454,10.852412529662654,0.0,0.0,0.0],[103.17608473588082,87.78074184396374,38.15938716446628,69.26272858964435,12.65033031534577,0.0,0.0,0.0],[137.7875599195122,93.17417789125366,38.50042032962292,71.5314777629569,11.7967261715209,0.0,0.0,0.0],[137.41743813791356,93.8881138783008,30.601370242329324,65.45366832533256,5.2154671701474635,0.0,0.0,0.0],[137.2407796276583,80.26713412907648,41.8345207262705,62.66647752651751,9.001760658897025,0.0,0.0,0.0],[124.97571661559951,88.2552415906661,47.31553022884678,70.05678509673423,14.055096649338775,0.0,0.0,0.0],[132.59944781555555,62.95509478116786,44.402330748936464,71.29799684264276,3.518189420136951,0.0,0.0,0.0],[84.80518284870207,91.59924659352183,39.110358222657794,71.0337677956552,14.314283637018054,0.0,0.0,0.0],[163.4813697612579,88.45376862893225,41.13601736430972,69.37717050912889,5.028142949281438,0.0,0.0,0.0],[104.48901507207256,74.60310072639643,47.09513502406356,59.0536852856731,10.713630808709894,0.0,0.0,0.0],[130.97725633659803,77.77305868420692,46.941564983819134,70.13019360440732,6.708869077183766,0.0,0.0,0.0]]}],                        {\"annotations\":[{\"font\":{\"color\":\"#FFFFFF\"},\"showarrow\":false,\"text\":\"166.35\",\"x\":\"0.01s\",\"xref\":\"x\",\"y\":\"0g\",\"yref\":\"y\"},{\"font\":{\"color\":\"#FFFFFF\"},\"showarrow\":false,\"text\":\"105.27\",\"x\":\"0.02s\",\"xref\":\"x\",\"y\":\"0g\",\"yref\":\"y\"},{\"font\":{\"color\":\"#000000\"},\"showarrow\":false,\"text\":\"41.12\",\"x\":\"0.04s\",\"xref\":\"x\",\"y\":\"0g\",\"yref\":\"y\"},{\"font\":{\"color\":\"#000000\"},\"showarrow\":false,\"text\":\"71.07\",\"x\":\"0.08s\",\"xref\":\"x\",\"y\":\"0g\",\"yref\":\"y\"},{\"font\":{\"color\":\"#000000\"},\"showarrow\":false,\"text\":\"17.32\",\"x\":\"0.16s\",\"xref\":\"x\",\"y\":\"0g\",\"yref\":\"y\"},{\"font\":{\"color\":\"#000000\"},\"showarrow\":false,\"text\":\"0.0\",\"x\":\"0.32s\",\"xref\":\"x\",\"y\":\"0g\",\"yref\":\"y\"},{\"font\":{\"color\":\"#000000\"},\"showarrow\":false,\"text\":\"0.0\",\"x\":\"0.64s\",\"xref\":\"x\",\"y\":\"0g\",\"yref\":\"y\"},{\"font\":{\"color\":\"#000000\"},\"showarrow\":false,\"text\":\"0.0\",\"x\":\"1.28s\",\"xref\":\"x\",\"y\":\"0g\",\"yref\":\"y\"},{\"font\":{\"color\":\"#000000\"},\"showarrow\":false,\"text\":\"95.81\",\"x\":\"0.01s\",\"xref\":\"x\",\"y\":\"1g\",\"yref\":\"y\"},{\"font\":{\"color\":\"#FFFFFF\"},\"showarrow\":false,\"text\":\"127.8\",\"x\":\"0.02s\",\"xref\":\"x\",\"y\":\"1g\",\"yref\":\"y\"},{\"font\":{\"color\":\"#000000\"},\"showarrow\":false,\"text\":\"44.18\",\"x\":\"0.04s\",\"xref\":\"x\",\"y\":\"1g\",\"yref\":\"y\"},{\"font\":{\"color\":\"#000000\"},\"showarrow\":false,\"text\":\"70.74\",\"x\":\"0.08s\",\"xref\":\"x\",\"y\":\"1g\",\"yref\":\"y\"},{\"font\":{\"color\":\"#000000\"},\"showarrow\":false,\"text\":\"9.75\",\"x\":\"0.16s\",\"xref\":\"x\",\"y\":\"1g\",\"yref\":\"y\"},{\"font\":{\"color\":\"#000000\"},\"showarrow\":false,\"text\":\"0.0\",\"x\":\"0.32s\",\"xref\":\"x\",\"y\":\"1g\",\"yref\":\"y\"},{\"font\":{\"color\":\"#000000\"},\"showarrow\":false,\"text\":\"0.0\",\"x\":\"0.64s\",\"xref\":\"x\",\"y\":\"1g\",\"yref\":\"y\"},{\"font\":{\"color\":\"#000000\"},\"showarrow\":false,\"text\":\"0.0\",\"x\":\"1.28s\",\"xref\":\"x\",\"y\":\"1g\",\"yref\":\"y\"},{\"font\":{\"color\":\"#FFFFFF\"},\"showarrow\":false,\"text\":\"196.26\",\"x\":\"0.01s\",\"xref\":\"x\",\"y\":\"2g\",\"yref\":\"y\"},{\"font\":{\"color\":\"#000000\"},\"showarrow\":false,\"text\":\"93.41\",\"x\":\"0.02s\",\"xref\":\"x\",\"y\":\"2g\",\"yref\":\"y\"},{\"font\":{\"color\":\"#000000\"},\"showarrow\":false,\"text\":\"25.56\",\"x\":\"0.04s\",\"xref\":\"x\",\"y\":\"2g\",\"yref\":\"y\"},{\"font\":{\"color\":\"#000000\"},\"showarrow\":false,\"text\":\"70.61\",\"x\":\"0.08s\",\"xref\":\"x\",\"y\":\"2g\",\"yref\":\"y\"},{\"font\":{\"color\":\"#000000\"},\"showarrow\":false,\"text\":\"18.6\",\"x\":\"0.16s\",\"xref\":\"x\",\"y\":\"2g\",\"yref\":\"y\"},{\"font\":{\"color\":\"#000000\"},\"showarrow\":false,\"text\":\"0.0\",\"x\":\"0.32s\",\"xref\":\"x\",\"y\":\"2g\",\"yref\":\"y\"},{\"font\":{\"color\":\"#000000\"},\"showarrow\":false,\"text\":\"0.0\",\"x\":\"0.64s\",\"xref\":\"x\",\"y\":\"2g\",\"yref\":\"y\"},{\"font\":{\"color\":\"#000000\"},\"showarrow\":false,\"text\":\"0.0\",\"x\":\"1.28s\",\"xref\":\"x\",\"y\":\"2g\",\"yref\":\"y\"},{\"font\":{\"color\":\"#FFFFFF\"},\"showarrow\":false,\"text\":\"124.29\",\"x\":\"0.01s\",\"xref\":\"x\",\"y\":\"3g\",\"yref\":\"y\"},{\"font\":{\"color\":\"#000000\"},\"showarrow\":false,\"text\":\"82.77\",\"x\":\"0.02s\",\"xref\":\"x\",\"y\":\"3g\",\"yref\":\"y\"},{\"font\":{\"color\":\"#000000\"},\"showarrow\":false,\"text\":\"37.32\",\"x\":\"0.04s\",\"xref\":\"x\",\"y\":\"3g\",\"yref\":\"y\"},{\"font\":{\"color\":\"#000000\"},\"showarrow\":false,\"text\":\"55.35\",\"x\":\"0.08s\",\"xref\":\"x\",\"y\":\"3g\",\"yref\":\"y\"},{\"font\":{\"color\":\"#000000\"},\"showarrow\":false,\"text\":\"7.84\",\"x\":\"0.16s\",\"xref\":\"x\",\"y\":\"3g\",\"yref\":\"y\"},{\"font\":{\"color\":\"#000000\"},\"showarrow\":false,\"text\":\"0.0\",\"x\":\"0.32s\",\"xref\":\"x\",\"y\":\"3g\",\"yref\":\"y\"},{\"font\":{\"color\":\"#000000\"},\"showarrow\":false,\"text\":\"0.0\",\"x\":\"0.64s\",\"xref\":\"x\",\"y\":\"3g\",\"yref\":\"y\"},{\"font\":{\"color\":\"#000000\"},\"showarrow\":false,\"text\":\"0.0\",\"x\":\"1.28s\",\"xref\":\"x\",\"y\":\"3g\",\"yref\":\"y\"},{\"font\":{\"color\":\"#FFFFFF\"},\"showarrow\":false,\"text\":\"117.35\",\"x\":\"0.01s\",\"xref\":\"x\",\"y\":\"4g\",\"yref\":\"y\"},{\"font\":{\"color\":\"#000000\"},\"showarrow\":false,\"text\":\"64.53\",\"x\":\"0.02s\",\"xref\":\"x\",\"y\":\"4g\",\"yref\":\"y\"},{\"font\":{\"color\":\"#000000\"},\"showarrow\":false,\"text\":\"50.35\",\"x\":\"0.04s\",\"xref\":\"x\",\"y\":\"4g\",\"yref\":\"y\"},{\"font\":{\"color\":\"#000000\"},\"showarrow\":false,\"text\":\"59.11\",\"x\":\"0.08s\",\"xref\":\"x\",\"y\":\"4g\",\"yref\":\"y\"},{\"font\":{\"color\":\"#000000\"},\"showarrow\":false,\"text\":\"11.64\",\"x\":\"0.16s\",\"xref\":\"x\",\"y\":\"4g\",\"yref\":\"y\"},{\"font\":{\"color\":\"#000000\"},\"showarrow\":false,\"text\":\"0.0\",\"x\":\"0.32s\",\"xref\":\"x\",\"y\":\"4g\",\"yref\":\"y\"},{\"font\":{\"color\":\"#000000\"},\"showarrow\":false,\"text\":\"0.0\",\"x\":\"0.64s\",\"xref\":\"x\",\"y\":\"4g\",\"yref\":\"y\"},{\"font\":{\"color\":\"#000000\"},\"showarrow\":false,\"text\":\"0.0\",\"x\":\"1.28s\",\"xref\":\"x\",\"y\":\"4g\",\"yref\":\"y\"},{\"font\":{\"color\":\"#000000\"},\"showarrow\":false,\"text\":\"79.34\",\"x\":\"0.01s\",\"xref\":\"x\",\"y\":\"5g\",\"yref\":\"y\"},{\"font\":{\"color\":\"#FFFFFF\"},\"showarrow\":false,\"text\":\"100.05\",\"x\":\"0.02s\",\"xref\":\"x\",\"y\":\"5g\",\"yref\":\"y\"},{\"font\":{\"color\":\"#000000\"},\"showarrow\":false,\"text\":\"46.35\",\"x\":\"0.04s\",\"xref\":\"x\",\"y\":\"5g\",\"yref\":\"y\"},{\"font\":{\"color\":\"#000000\"},\"showarrow\":false,\"text\":\"70.97\",\"x\":\"0.08s\",\"xref\":\"x\",\"y\":\"5g\",\"yref\":\"y\"},{\"font\":{\"color\":\"#000000\"},\"showarrow\":false,\"text\":\"7.93\",\"x\":\"0.16s\",\"xref\":\"x\",\"y\":\"5g\",\"yref\":\"y\"},{\"font\":{\"color\":\"#000000\"},\"showarrow\":false,\"text\":\"0.0\",\"x\":\"0.32s\",\"xref\":\"x\",\"y\":\"5g\",\"yref\":\"y\"},{\"font\":{\"color\":\"#000000\"},\"showarrow\":false,\"text\":\"0.0\",\"x\":\"0.64s\",\"xref\":\"x\",\"y\":\"5g\",\"yref\":\"y\"},{\"font\":{\"color\":\"#000000\"},\"showarrow\":false,\"text\":\"0.0\",\"x\":\"1.28s\",\"xref\":\"x\",\"y\":\"5g\",\"yref\":\"y\"},{\"font\":{\"color\":\"#FFFFFF\"},\"showarrow\":false,\"text\":\"123.75\",\"x\":\"0.01s\",\"xref\":\"x\",\"y\":\"6g\",\"yref\":\"y\"},{\"font\":{\"color\":\"#000000\"},\"showarrow\":false,\"text\":\"67.64\",\"x\":\"0.02s\",\"xref\":\"x\",\"y\":\"6g\",\"yref\":\"y\"},{\"font\":{\"color\":\"#000000\"},\"showarrow\":false,\"text\":\"22.82\",\"x\":\"0.04s\",\"xref\":\"x\",\"y\":\"6g\",\"yref\":\"y\"},{\"font\":{\"color\":\"#000000\"},\"showarrow\":false,\"text\":\"70.24\",\"x\":\"0.08s\",\"xref\":\"x\",\"y\":\"6g\",\"yref\":\"y\"},{\"font\":{\"color\":\"#000000\"},\"showarrow\":false,\"text\":\"15.31\",\"x\":\"0.16s\",\"xref\":\"x\",\"y\":\"6g\",\"yref\":\"y\"},{\"font\":{\"color\":\"#000000\"},\"showarrow\":false,\"text\":\"0.0\",\"x\":\"0.32s\",\"xref\":\"x\",\"y\":\"6g\",\"yref\":\"y\"},{\"font\":{\"color\":\"#000000\"},\"showarrow\":false,\"text\":\"0.0\",\"x\":\"0.64s\",\"xref\":\"x\",\"y\":\"6g\",\"yref\":\"y\"},{\"font\":{\"color\":\"#000000\"},\"showarrow\":false,\"text\":\"0.0\",\"x\":\"1.28s\",\"xref\":\"x\",\"y\":\"6g\",\"yref\":\"y\"},{\"font\":{\"color\":\"#FFFFFF\"},\"showarrow\":false,\"text\":\"192.18\",\"x\":\"0.01s\",\"xref\":\"x\",\"y\":\"7g\",\"yref\":\"y\"},{\"font\":{\"color\":\"#000000\"},\"showarrow\":false,\"text\":\"93.89\",\"x\":\"0.02s\",\"xref\":\"x\",\"y\":\"7g\",\"yref\":\"y\"},{\"font\":{\"color\":\"#000000\"},\"showarrow\":false,\"text\":\"38.04\",\"x\":\"0.04s\",\"xref\":\"x\",\"y\":\"7g\",\"yref\":\"y\"},{\"font\":{\"color\":\"#000000\"},\"showarrow\":false,\"text\":\"70.8\",\"x\":\"0.08s\",\"xref\":\"x\",\"y\":\"7g\",\"yref\":\"y\"},{\"font\":{\"color\":\"#000000\"},\"showarrow\":false,\"text\":\"14.38\",\"x\":\"0.16s\",\"xref\":\"x\",\"y\":\"7g\",\"yref\":\"y\"},{\"font\":{\"color\":\"#000000\"},\"showarrow\":false,\"text\":\"0.0\",\"x\":\"0.32s\",\"xref\":\"x\",\"y\":\"7g\",\"yref\":\"y\"},{\"font\":{\"color\":\"#000000\"},\"showarrow\":false,\"text\":\"0.0\",\"x\":\"0.64s\",\"xref\":\"x\",\"y\":\"7g\",\"yref\":\"y\"},{\"font\":{\"color\":\"#000000\"},\"showarrow\":false,\"text\":\"0.0\",\"x\":\"1.28s\",\"xref\":\"x\",\"y\":\"7g\",\"yref\":\"y\"},{\"font\":{\"color\":\"#FFFFFF\"},\"showarrow\":false,\"text\":\"117.46\",\"x\":\"0.01s\",\"xref\":\"x\",\"y\":\"8g\",\"yref\":\"y\"},{\"font\":{\"color\":\"#000000\"},\"showarrow\":false,\"text\":\"82.36\",\"x\":\"0.02s\",\"xref\":\"x\",\"y\":\"8g\",\"yref\":\"y\"},{\"font\":{\"color\":\"#000000\"},\"showarrow\":false,\"text\":\"30.02\",\"x\":\"0.04s\",\"xref\":\"x\",\"y\":\"8g\",\"yref\":\"y\"},{\"font\":{\"color\":\"#000000\"},\"showarrow\":false,\"text\":\"57.52\",\"x\":\"0.08s\",\"xref\":\"x\",\"y\":\"8g\",\"yref\":\"y\"},{\"font\":{\"color\":\"#000000\"},\"showarrow\":false,\"text\":\"17.79\",\"x\":\"0.16s\",\"xref\":\"x\",\"y\":\"8g\",\"yref\":\"y\"},{\"font\":{\"color\":\"#000000\"},\"showarrow\":false,\"text\":\"0.0\",\"x\":\"0.32s\",\"xref\":\"x\",\"y\":\"8g\",\"yref\":\"y\"},{\"font\":{\"color\":\"#000000\"},\"showarrow\":false,\"text\":\"0.0\",\"x\":\"0.64s\",\"xref\":\"x\",\"y\":\"8g\",\"yref\":\"y\"},{\"font\":{\"color\":\"#000000\"},\"showarrow\":false,\"text\":\"0.0\",\"x\":\"1.28s\",\"xref\":\"x\",\"y\":\"8g\",\"yref\":\"y\"},{\"font\":{\"color\":\"#FFFFFF\"},\"showarrow\":false,\"text\":\"159.75\",\"x\":\"0.01s\",\"xref\":\"x\",\"y\":\"9g\",\"yref\":\"y\"},{\"font\":{\"color\":\"#000000\"},\"showarrow\":false,\"text\":\"90.86\",\"x\":\"0.02s\",\"xref\":\"x\",\"y\":\"9g\",\"yref\":\"y\"},{\"font\":{\"color\":\"#000000\"},\"showarrow\":false,\"text\":\"36.62\",\"x\":\"0.04s\",\"xref\":\"x\",\"y\":\"9g\",\"yref\":\"y\"},{\"font\":{\"color\":\"#000000\"},\"showarrow\":false,\"text\":\"54.35\",\"x\":\"0.08s\",\"xref\":\"x\",\"y\":\"9g\",\"yref\":\"y\"},{\"font\":{\"color\":\"#000000\"},\"showarrow\":false,\"text\":\"3.64\",\"x\":\"0.16s\",\"xref\":\"x\",\"y\":\"9g\",\"yref\":\"y\"},{\"font\":{\"color\":\"#000000\"},\"showarrow\":false,\"text\":\"0.0\",\"x\":\"0.32s\",\"xref\":\"x\",\"y\":\"9g\",\"yref\":\"y\"},{\"font\":{\"color\":\"#000000\"},\"showarrow\":false,\"text\":\"0.0\",\"x\":\"0.64s\",\"xref\":\"x\",\"y\":\"9g\",\"yref\":\"y\"},{\"font\":{\"color\":\"#000000\"},\"showarrow\":false,\"text\":\"0.0\",\"x\":\"1.28s\",\"xref\":\"x\",\"y\":\"9g\",\"yref\":\"y\"},{\"font\":{\"color\":\"#FFFFFF\"},\"showarrow\":false,\"text\":\"98.53\",\"x\":\"0.01s\",\"xref\":\"x\",\"y\":\"10g\",\"yref\":\"y\"},{\"font\":{\"color\":\"#000000\"},\"showarrow\":false,\"text\":\"56.77\",\"x\":\"0.02s\",\"xref\":\"x\",\"y\":\"10g\",\"yref\":\"y\"},{\"font\":{\"color\":\"#000000\"},\"showarrow\":false,\"text\":\"25.37\",\"x\":\"0.04s\",\"xref\":\"x\",\"y\":\"10g\",\"yref\":\"y\"},{\"font\":{\"color\":\"#000000\"},\"showarrow\":false,\"text\":\"70.51\",\"x\":\"0.08s\",\"xref\":\"x\",\"y\":\"10g\",\"yref\":\"y\"},{\"font\":{\"color\":\"#000000\"},\"showarrow\":false,\"text\":\"10.85\",\"x\":\"0.16s\",\"xref\":\"x\",\"y\":\"10g\",\"yref\":\"y\"},{\"font\":{\"color\":\"#000000\"},\"showarrow\":false,\"text\":\"0.0\",\"x\":\"0.32s\",\"xref\":\"x\",\"y\":\"10g\",\"yref\":\"y\"},{\"font\":{\"color\":\"#000000\"},\"showarrow\":false,\"text\":\"0.0\",\"x\":\"0.64s\",\"xref\":\"x\",\"y\":\"10g\",\"yref\":\"y\"},{\"font\":{\"color\":\"#000000\"},\"showarrow\":false,\"text\":\"0.0\",\"x\":\"1.28s\",\"xref\":\"x\",\"y\":\"10g\",\"yref\":\"y\"},{\"font\":{\"color\":\"#FFFFFF\"},\"showarrow\":false,\"text\":\"103.18\",\"x\":\"0.01s\",\"xref\":\"x\",\"y\":\"11g\",\"yref\":\"y\"},{\"font\":{\"color\":\"#000000\"},\"showarrow\":false,\"text\":\"87.78\",\"x\":\"0.02s\",\"xref\":\"x\",\"y\":\"11g\",\"yref\":\"y\"},{\"font\":{\"color\":\"#000000\"},\"showarrow\":false,\"text\":\"38.16\",\"x\":\"0.04s\",\"xref\":\"x\",\"y\":\"11g\",\"yref\":\"y\"},{\"font\":{\"color\":\"#000000\"},\"showarrow\":false,\"text\":\"69.26\",\"x\":\"0.08s\",\"xref\":\"x\",\"y\":\"11g\",\"yref\":\"y\"},{\"font\":{\"color\":\"#000000\"},\"showarrow\":false,\"text\":\"12.65\",\"x\":\"0.16s\",\"xref\":\"x\",\"y\":\"11g\",\"yref\":\"y\"},{\"font\":{\"color\":\"#000000\"},\"showarrow\":false,\"text\":\"0.0\",\"x\":\"0.32s\",\"xref\":\"x\",\"y\":\"11g\",\"yref\":\"y\"},{\"font\":{\"color\":\"#000000\"},\"showarrow\":false,\"text\":\"0.0\",\"x\":\"0.64s\",\"xref\":\"x\",\"y\":\"11g\",\"yref\":\"y\"},{\"font\":{\"color\":\"#000000\"},\"showarrow\":false,\"text\":\"0.0\",\"x\":\"1.28s\",\"xref\":\"x\",\"y\":\"11g\",\"yref\":\"y\"},{\"font\":{\"color\":\"#FFFFFF\"},\"showarrow\":false,\"text\":\"137.79\",\"x\":\"0.01s\",\"xref\":\"x\",\"y\":\"12g\",\"yref\":\"y\"},{\"font\":{\"color\":\"#000000\"},\"showarrow\":false,\"text\":\"93.17\",\"x\":\"0.02s\",\"xref\":\"x\",\"y\":\"12g\",\"yref\":\"y\"},{\"font\":{\"color\":\"#000000\"},\"showarrow\":false,\"text\":\"38.5\",\"x\":\"0.04s\",\"xref\":\"x\",\"y\":\"12g\",\"yref\":\"y\"},{\"font\":{\"color\":\"#000000\"},\"showarrow\":false,\"text\":\"71.53\",\"x\":\"0.08s\",\"xref\":\"x\",\"y\":\"12g\",\"yref\":\"y\"},{\"font\":{\"color\":\"#000000\"},\"showarrow\":false,\"text\":\"11.8\",\"x\":\"0.16s\",\"xref\":\"x\",\"y\":\"12g\",\"yref\":\"y\"},{\"font\":{\"color\":\"#000000\"},\"showarrow\":false,\"text\":\"0.0\",\"x\":\"0.32s\",\"xref\":\"x\",\"y\":\"12g\",\"yref\":\"y\"},{\"font\":{\"color\":\"#000000\"},\"showarrow\":false,\"text\":\"0.0\",\"x\":\"0.64s\",\"xref\":\"x\",\"y\":\"12g\",\"yref\":\"y\"},{\"font\":{\"color\":\"#000000\"},\"showarrow\":false,\"text\":\"0.0\",\"x\":\"1.28s\",\"xref\":\"x\",\"y\":\"12g\",\"yref\":\"y\"},{\"font\":{\"color\":\"#FFFFFF\"},\"showarrow\":false,\"text\":\"137.42\",\"x\":\"0.01s\",\"xref\":\"x\",\"y\":\"13g\",\"yref\":\"y\"},{\"font\":{\"color\":\"#000000\"},\"showarrow\":false,\"text\":\"93.89\",\"x\":\"0.02s\",\"xref\":\"x\",\"y\":\"13g\",\"yref\":\"y\"},{\"font\":{\"color\":\"#000000\"},\"showarrow\":false,\"text\":\"30.6\",\"x\":\"0.04s\",\"xref\":\"x\",\"y\":\"13g\",\"yref\":\"y\"},{\"font\":{\"color\":\"#000000\"},\"showarrow\":false,\"text\":\"65.45\",\"x\":\"0.08s\",\"xref\":\"x\",\"y\":\"13g\",\"yref\":\"y\"},{\"font\":{\"color\":\"#000000\"},\"showarrow\":false,\"text\":\"5.22\",\"x\":\"0.16s\",\"xref\":\"x\",\"y\":\"13g\",\"yref\":\"y\"},{\"font\":{\"color\":\"#000000\"},\"showarrow\":false,\"text\":\"0.0\",\"x\":\"0.32s\",\"xref\":\"x\",\"y\":\"13g\",\"yref\":\"y\"},{\"font\":{\"color\":\"#000000\"},\"showarrow\":false,\"text\":\"0.0\",\"x\":\"0.64s\",\"xref\":\"x\",\"y\":\"13g\",\"yref\":\"y\"},{\"font\":{\"color\":\"#000000\"},\"showarrow\":false,\"text\":\"0.0\",\"x\":\"1.28s\",\"xref\":\"x\",\"y\":\"13g\",\"yref\":\"y\"},{\"font\":{\"color\":\"#FFFFFF\"},\"showarrow\":false,\"text\":\"137.24\",\"x\":\"0.01s\",\"xref\":\"x\",\"y\":\"14g\",\"yref\":\"y\"},{\"font\":{\"color\":\"#000000\"},\"showarrow\":false,\"text\":\"80.27\",\"x\":\"0.02s\",\"xref\":\"x\",\"y\":\"14g\",\"yref\":\"y\"},{\"font\":{\"color\":\"#000000\"},\"showarrow\":false,\"text\":\"41.83\",\"x\":\"0.04s\",\"xref\":\"x\",\"y\":\"14g\",\"yref\":\"y\"},{\"font\":{\"color\":\"#000000\"},\"showarrow\":false,\"text\":\"62.67\",\"x\":\"0.08s\",\"xref\":\"x\",\"y\":\"14g\",\"yref\":\"y\"},{\"font\":{\"color\":\"#000000\"},\"showarrow\":false,\"text\":\"9.0\",\"x\":\"0.16s\",\"xref\":\"x\",\"y\":\"14g\",\"yref\":\"y\"},{\"font\":{\"color\":\"#000000\"},\"showarrow\":false,\"text\":\"0.0\",\"x\":\"0.32s\",\"xref\":\"x\",\"y\":\"14g\",\"yref\":\"y\"},{\"font\":{\"color\":\"#000000\"},\"showarrow\":false,\"text\":\"0.0\",\"x\":\"0.64s\",\"xref\":\"x\",\"y\":\"14g\",\"yref\":\"y\"},{\"font\":{\"color\":\"#000000\"},\"showarrow\":false,\"text\":\"0.0\",\"x\":\"1.28s\",\"xref\":\"x\",\"y\":\"14g\",\"yref\":\"y\"},{\"font\":{\"color\":\"#FFFFFF\"},\"showarrow\":false,\"text\":\"124.98\",\"x\":\"0.01s\",\"xref\":\"x\",\"y\":\"15g\",\"yref\":\"y\"},{\"font\":{\"color\":\"#000000\"},\"showarrow\":false,\"text\":\"88.26\",\"x\":\"0.02s\",\"xref\":\"x\",\"y\":\"15g\",\"yref\":\"y\"},{\"font\":{\"color\":\"#000000\"},\"showarrow\":false,\"text\":\"47.32\",\"x\":\"0.04s\",\"xref\":\"x\",\"y\":\"15g\",\"yref\":\"y\"},{\"font\":{\"color\":\"#000000\"},\"showarrow\":false,\"text\":\"70.06\",\"x\":\"0.08s\",\"xref\":\"x\",\"y\":\"15g\",\"yref\":\"y\"},{\"font\":{\"color\":\"#000000\"},\"showarrow\":false,\"text\":\"14.06\",\"x\":\"0.16s\",\"xref\":\"x\",\"y\":\"15g\",\"yref\":\"y\"},{\"font\":{\"color\":\"#000000\"},\"showarrow\":false,\"text\":\"0.0\",\"x\":\"0.32s\",\"xref\":\"x\",\"y\":\"15g\",\"yref\":\"y\"},{\"font\":{\"color\":\"#000000\"},\"showarrow\":false,\"text\":\"0.0\",\"x\":\"0.64s\",\"xref\":\"x\",\"y\":\"15g\",\"yref\":\"y\"},{\"font\":{\"color\":\"#000000\"},\"showarrow\":false,\"text\":\"0.0\",\"x\":\"1.28s\",\"xref\":\"x\",\"y\":\"15g\",\"yref\":\"y\"},{\"font\":{\"color\":\"#FFFFFF\"},\"showarrow\":false,\"text\":\"132.6\",\"x\":\"0.01s\",\"xref\":\"x\",\"y\":\"16g\",\"yref\":\"y\"},{\"font\":{\"color\":\"#000000\"},\"showarrow\":false,\"text\":\"62.96\",\"x\":\"0.02s\",\"xref\":\"x\",\"y\":\"16g\",\"yref\":\"y\"},{\"font\":{\"color\":\"#000000\"},\"showarrow\":false,\"text\":\"44.4\",\"x\":\"0.04s\",\"xref\":\"x\",\"y\":\"16g\",\"yref\":\"y\"},{\"font\":{\"color\":\"#000000\"},\"showarrow\":false,\"text\":\"71.3\",\"x\":\"0.08s\",\"xref\":\"x\",\"y\":\"16g\",\"yref\":\"y\"},{\"font\":{\"color\":\"#000000\"},\"showarrow\":false,\"text\":\"3.52\",\"x\":\"0.16s\",\"xref\":\"x\",\"y\":\"16g\",\"yref\":\"y\"},{\"font\":{\"color\":\"#000000\"},\"showarrow\":false,\"text\":\"0.0\",\"x\":\"0.32s\",\"xref\":\"x\",\"y\":\"16g\",\"yref\":\"y\"},{\"font\":{\"color\":\"#000000\"},\"showarrow\":false,\"text\":\"0.0\",\"x\":\"0.64s\",\"xref\":\"x\",\"y\":\"16g\",\"yref\":\"y\"},{\"font\":{\"color\":\"#000000\"},\"showarrow\":false,\"text\":\"0.0\",\"x\":\"1.28s\",\"xref\":\"x\",\"y\":\"16g\",\"yref\":\"y\"},{\"font\":{\"color\":\"#000000\"},\"showarrow\":false,\"text\":\"84.81\",\"x\":\"0.01s\",\"xref\":\"x\",\"y\":\"17g\",\"yref\":\"y\"},{\"font\":{\"color\":\"#000000\"},\"showarrow\":false,\"text\":\"91.6\",\"x\":\"0.02s\",\"xref\":\"x\",\"y\":\"17g\",\"yref\":\"y\"},{\"font\":{\"color\":\"#000000\"},\"showarrow\":false,\"text\":\"39.11\",\"x\":\"0.04s\",\"xref\":\"x\",\"y\":\"17g\",\"yref\":\"y\"},{\"font\":{\"color\":\"#000000\"},\"showarrow\":false,\"text\":\"71.03\",\"x\":\"0.08s\",\"xref\":\"x\",\"y\":\"17g\",\"yref\":\"y\"},{\"font\":{\"color\":\"#000000\"},\"showarrow\":false,\"text\":\"14.31\",\"x\":\"0.16s\",\"xref\":\"x\",\"y\":\"17g\",\"yref\":\"y\"},{\"font\":{\"color\":\"#000000\"},\"showarrow\":false,\"text\":\"0.0\",\"x\":\"0.32s\",\"xref\":\"x\",\"y\":\"17g\",\"yref\":\"y\"},{\"font\":{\"color\":\"#000000\"},\"showarrow\":false,\"text\":\"0.0\",\"x\":\"0.64s\",\"xref\":\"x\",\"y\":\"17g\",\"yref\":\"y\"},{\"font\":{\"color\":\"#000000\"},\"showarrow\":false,\"text\":\"0.0\",\"x\":\"1.28s\",\"xref\":\"x\",\"y\":\"17g\",\"yref\":\"y\"},{\"font\":{\"color\":\"#FFFFFF\"},\"showarrow\":false,\"text\":\"163.48\",\"x\":\"0.01s\",\"xref\":\"x\",\"y\":\"18g\",\"yref\":\"y\"},{\"font\":{\"color\":\"#000000\"},\"showarrow\":false,\"text\":\"88.45\",\"x\":\"0.02s\",\"xref\":\"x\",\"y\":\"18g\",\"yref\":\"y\"},{\"font\":{\"color\":\"#000000\"},\"showarrow\":false,\"text\":\"41.14\",\"x\":\"0.04s\",\"xref\":\"x\",\"y\":\"18g\",\"yref\":\"y\"},{\"font\":{\"color\":\"#000000\"},\"showarrow\":false,\"text\":\"69.38\",\"x\":\"0.08s\",\"xref\":\"x\",\"y\":\"18g\",\"yref\":\"y\"},{\"font\":{\"color\":\"#000000\"},\"showarrow\":false,\"text\":\"5.03\",\"x\":\"0.16s\",\"xref\":\"x\",\"y\":\"18g\",\"yref\":\"y\"},{\"font\":{\"color\":\"#000000\"},\"showarrow\":false,\"text\":\"0.0\",\"x\":\"0.32s\",\"xref\":\"x\",\"y\":\"18g\",\"yref\":\"y\"},{\"font\":{\"color\":\"#000000\"},\"showarrow\":false,\"text\":\"0.0\",\"x\":\"0.64s\",\"xref\":\"x\",\"y\":\"18g\",\"yref\":\"y\"},{\"font\":{\"color\":\"#000000\"},\"showarrow\":false,\"text\":\"0.0\",\"x\":\"1.28s\",\"xref\":\"x\",\"y\":\"18g\",\"yref\":\"y\"},{\"font\":{\"color\":\"#FFFFFF\"},\"showarrow\":false,\"text\":\"104.49\",\"x\":\"0.01s\",\"xref\":\"x\",\"y\":\"19g\",\"yref\":\"y\"},{\"font\":{\"color\":\"#000000\"},\"showarrow\":false,\"text\":\"74.6\",\"x\":\"0.02s\",\"xref\":\"x\",\"y\":\"19g\",\"yref\":\"y\"},{\"font\":{\"color\":\"#000000\"},\"showarrow\":false,\"text\":\"47.1\",\"x\":\"0.04s\",\"xref\":\"x\",\"y\":\"19g\",\"yref\":\"y\"},{\"font\":{\"color\":\"#000000\"},\"showarrow\":false,\"text\":\"59.05\",\"x\":\"0.08s\",\"xref\":\"x\",\"y\":\"19g\",\"yref\":\"y\"},{\"font\":{\"color\":\"#000000\"},\"showarrow\":false,\"text\":\"10.71\",\"x\":\"0.16s\",\"xref\":\"x\",\"y\":\"19g\",\"yref\":\"y\"},{\"font\":{\"color\":\"#000000\"},\"showarrow\":false,\"text\":\"0.0\",\"x\":\"0.32s\",\"xref\":\"x\",\"y\":\"19g\",\"yref\":\"y\"},{\"font\":{\"color\":\"#000000\"},\"showarrow\":false,\"text\":\"0.0\",\"x\":\"0.64s\",\"xref\":\"x\",\"y\":\"19g\",\"yref\":\"y\"},{\"font\":{\"color\":\"#000000\"},\"showarrow\":false,\"text\":\"0.0\",\"x\":\"1.28s\",\"xref\":\"x\",\"y\":\"19g\",\"yref\":\"y\"},{\"font\":{\"color\":\"#FFFFFF\"},\"showarrow\":false,\"text\":\"130.98\",\"x\":\"0.01s\",\"xref\":\"x\",\"y\":\"20g\",\"yref\":\"y\"},{\"font\":{\"color\":\"#000000\"},\"showarrow\":false,\"text\":\"77.77\",\"x\":\"0.02s\",\"xref\":\"x\",\"y\":\"20g\",\"yref\":\"y\"},{\"font\":{\"color\":\"#000000\"},\"showarrow\":false,\"text\":\"46.94\",\"x\":\"0.04s\",\"xref\":\"x\",\"y\":\"20g\",\"yref\":\"y\"},{\"font\":{\"color\":\"#000000\"},\"showarrow\":false,\"text\":\"70.13\",\"x\":\"0.08s\",\"xref\":\"x\",\"y\":\"20g\",\"yref\":\"y\"},{\"font\":{\"color\":\"#000000\"},\"showarrow\":false,\"text\":\"6.71\",\"x\":\"0.16s\",\"xref\":\"x\",\"y\":\"20g\",\"yref\":\"y\"},{\"font\":{\"color\":\"#000000\"},\"showarrow\":false,\"text\":\"0.0\",\"x\":\"0.32s\",\"xref\":\"x\",\"y\":\"20g\",\"yref\":\"y\"},{\"font\":{\"color\":\"#000000\"},\"showarrow\":false,\"text\":\"0.0\",\"x\":\"0.64s\",\"xref\":\"x\",\"y\":\"20g\",\"yref\":\"y\"},{\"font\":{\"color\":\"#000000\"},\"showarrow\":false,\"text\":\"0.0\",\"x\":\"1.28s\",\"xref\":\"x\",\"y\":\"20g\",\"yref\":\"y\"}],\"font\":{\"size\":15},\"height\":700,\"template\":{\"data\":{\"bar\":[{\"error_x\":{\"color\":\"#2a3f5f\"},\"error_y\":{\"color\":\"#2a3f5f\"},\"marker\":{\"line\":{\"color\":\"#E5ECF6\",\"width\":0.5},\"pattern\":{\"fillmode\":\"overlay\",\"size\":10,\"solidity\":0.2}},\"type\":\"bar\"}],\"barpolar\":[{\"marker\":{\"line\":{\"color\":\"#E5ECF6\",\"width\":0.5},\"pattern\":{\"fillmode\":\"overlay\",\"size\":10,\"solidity\":0.2}},\"type\":\"barpolar\"}],\"carpet\":[{\"aaxis\":{\"endlinecolor\":\"#2a3f5f\",\"gridcolor\":\"white\",\"linecolor\":\"white\",\"minorgridcolor\":\"white\",\"startlinecolor\":\"#2a3f5f\"},\"baxis\":{\"endlinecolor\":\"#2a3f5f\",\"gridcolor\":\"white\",\"linecolor\":\"white\",\"minorgridcolor\":\"white\",\"startlinecolor\":\"#2a3f5f\"},\"type\":\"carpet\"}],\"choropleth\":[{\"colorbar\":{\"outlinewidth\":0,\"ticks\":\"\"},\"type\":\"choropleth\"}],\"contour\":[{\"colorbar\":{\"outlinewidth\":0,\"ticks\":\"\"},\"colorscale\":[[0.0,\"#0d0887\"],[0.1111111111111111,\"#46039f\"],[0.2222222222222222,\"#7201a8\"],[0.3333333333333333,\"#9c179e\"],[0.4444444444444444,\"#bd3786\"],[0.5555555555555556,\"#d8576b\"],[0.6666666666666666,\"#ed7953\"],[0.7777777777777778,\"#fb9f3a\"],[0.8888888888888888,\"#fdca26\"],[1.0,\"#f0f921\"]],\"type\":\"contour\"}],\"contourcarpet\":[{\"colorbar\":{\"outlinewidth\":0,\"ticks\":\"\"},\"type\":\"contourcarpet\"}],\"heatmap\":[{\"colorbar\":{\"outlinewidth\":0,\"ticks\":\"\"},\"colorscale\":[[0.0,\"#0d0887\"],[0.1111111111111111,\"#46039f\"],[0.2222222222222222,\"#7201a8\"],[0.3333333333333333,\"#9c179e\"],[0.4444444444444444,\"#bd3786\"],[0.5555555555555556,\"#d8576b\"],[0.6666666666666666,\"#ed7953\"],[0.7777777777777778,\"#fb9f3a\"],[0.8888888888888888,\"#fdca26\"],[1.0,\"#f0f921\"]],\"type\":\"heatmap\"}],\"heatmapgl\":[{\"colorbar\":{\"outlinewidth\":0,\"ticks\":\"\"},\"colorscale\":[[0.0,\"#0d0887\"],[0.1111111111111111,\"#46039f\"],[0.2222222222222222,\"#7201a8\"],[0.3333333333333333,\"#9c179e\"],[0.4444444444444444,\"#bd3786\"],[0.5555555555555556,\"#d8576b\"],[0.6666666666666666,\"#ed7953\"],[0.7777777777777778,\"#fb9f3a\"],[0.8888888888888888,\"#fdca26\"],[1.0,\"#f0f921\"]],\"type\":\"heatmapgl\"}],\"histogram\":[{\"marker\":{\"pattern\":{\"fillmode\":\"overlay\",\"size\":10,\"solidity\":0.2}},\"type\":\"histogram\"}],\"histogram2d\":[{\"colorbar\":{\"outlinewidth\":0,\"ticks\":\"\"},\"colorscale\":[[0.0,\"#0d0887\"],[0.1111111111111111,\"#46039f\"],[0.2222222222222222,\"#7201a8\"],[0.3333333333333333,\"#9c179e\"],[0.4444444444444444,\"#bd3786\"],[0.5555555555555556,\"#d8576b\"],[0.6666666666666666,\"#ed7953\"],[0.7777777777777778,\"#fb9f3a\"],[0.8888888888888888,\"#fdca26\"],[1.0,\"#f0f921\"]],\"type\":\"histogram2d\"}],\"histogram2dcontour\":[{\"colorbar\":{\"outlinewidth\":0,\"ticks\":\"\"},\"colorscale\":[[0.0,\"#0d0887\"],[0.1111111111111111,\"#46039f\"],[0.2222222222222222,\"#7201a8\"],[0.3333333333333333,\"#9c179e\"],[0.4444444444444444,\"#bd3786\"],[0.5555555555555556,\"#d8576b\"],[0.6666666666666666,\"#ed7953\"],[0.7777777777777778,\"#fb9f3a\"],[0.8888888888888888,\"#fdca26\"],[1.0,\"#f0f921\"]],\"type\":\"histogram2dcontour\"}],\"mesh3d\":[{\"colorbar\":{\"outlinewidth\":0,\"ticks\":\"\"},\"type\":\"mesh3d\"}],\"parcoords\":[{\"line\":{\"colorbar\":{\"outlinewidth\":0,\"ticks\":\"\"}},\"type\":\"parcoords\"}],\"pie\":[{\"automargin\":true,\"type\":\"pie\"}],\"scatter\":[{\"marker\":{\"colorbar\":{\"outlinewidth\":0,\"ticks\":\"\"}},\"type\":\"scatter\"}],\"scatter3d\":[{\"line\":{\"colorbar\":{\"outlinewidth\":0,\"ticks\":\"\"}},\"marker\":{\"colorbar\":{\"outlinewidth\":0,\"ticks\":\"\"}},\"type\":\"scatter3d\"}],\"scattercarpet\":[{\"marker\":{\"colorbar\":{\"outlinewidth\":0,\"ticks\":\"\"}},\"type\":\"scattercarpet\"}],\"scattergeo\":[{\"marker\":{\"colorbar\":{\"outlinewidth\":0,\"ticks\":\"\"}},\"type\":\"scattergeo\"}],\"scattergl\":[{\"marker\":{\"colorbar\":{\"outlinewidth\":0,\"ticks\":\"\"}},\"type\":\"scattergl\"}],\"scattermapbox\":[{\"marker\":{\"colorbar\":{\"outlinewidth\":0,\"ticks\":\"\"}},\"type\":\"scattermapbox\"}],\"scatterpolar\":[{\"marker\":{\"colorbar\":{\"outlinewidth\":0,\"ticks\":\"\"}},\"type\":\"scatterpolar\"}],\"scatterpolargl\":[{\"marker\":{\"colorbar\":{\"outlinewidth\":0,\"ticks\":\"\"}},\"type\":\"scatterpolargl\"}],\"scatterternary\":[{\"marker\":{\"colorbar\":{\"outlinewidth\":0,\"ticks\":\"\"}},\"type\":\"scatterternary\"}],\"surface\":[{\"colorbar\":{\"outlinewidth\":0,\"ticks\":\"\"},\"colorscale\":[[0.0,\"#0d0887\"],[0.1111111111111111,\"#46039f\"],[0.2222222222222222,\"#7201a8\"],[0.3333333333333333,\"#9c179e\"],[0.4444444444444444,\"#bd3786\"],[0.5555555555555556,\"#d8576b\"],[0.6666666666666666,\"#ed7953\"],[0.7777777777777778,\"#fb9f3a\"],[0.8888888888888888,\"#fdca26\"],[1.0,\"#f0f921\"]],\"type\":\"surface\"}],\"table\":[{\"cells\":{\"fill\":{\"color\":\"#EBF0F8\"},\"line\":{\"color\":\"white\"}},\"header\":{\"fill\":{\"color\":\"#C8D4E3\"},\"line\":{\"color\":\"white\"}},\"type\":\"table\"}]},\"layout\":{\"annotationdefaults\":{\"arrowcolor\":\"#2a3f5f\",\"arrowhead\":0,\"arrowwidth\":1},\"autotypenumbers\":\"strict\",\"coloraxis\":{\"colorbar\":{\"outlinewidth\":0,\"ticks\":\"\"}},\"colorscale\":{\"diverging\":[[0,\"#8e0152\"],[0.1,\"#c51b7d\"],[0.2,\"#de77ae\"],[0.3,\"#f1b6da\"],[0.4,\"#fde0ef\"],[0.5,\"#f7f7f7\"],[0.6,\"#e6f5d0\"],[0.7,\"#b8e186\"],[0.8,\"#7fbc41\"],[0.9,\"#4d9221\"],[1,\"#276419\"]],\"sequential\":[[0.0,\"#0d0887\"],[0.1111111111111111,\"#46039f\"],[0.2222222222222222,\"#7201a8\"],[0.3333333333333333,\"#9c179e\"],[0.4444444444444444,\"#bd3786\"],[0.5555555555555556,\"#d8576b\"],[0.6666666666666666,\"#ed7953\"],[0.7777777777777778,\"#fb9f3a\"],[0.8888888888888888,\"#fdca26\"],[1.0,\"#f0f921\"]],\"sequentialminus\":[[0.0,\"#0d0887\"],[0.1111111111111111,\"#46039f\"],[0.2222222222222222,\"#7201a8\"],[0.3333333333333333,\"#9c179e\"],[0.4444444444444444,\"#bd3786\"],[0.5555555555555556,\"#d8576b\"],[0.6666666666666666,\"#ed7953\"],[0.7777777777777778,\"#fb9f3a\"],[0.8888888888888888,\"#fdca26\"],[1.0,\"#f0f921\"]]},\"colorway\":[\"#636efa\",\"#EF553B\",\"#00cc96\",\"#ab63fa\",\"#FFA15A\",\"#19d3f3\",\"#FF6692\",\"#B6E880\",\"#FF97FF\",\"#FECB52\"],\"font\":{\"color\":\"#2a3f5f\"},\"geo\":{\"bgcolor\":\"white\",\"lakecolor\":\"white\",\"landcolor\":\"#E5ECF6\",\"showlakes\":true,\"showland\":true,\"subunitcolor\":\"white\"},\"hoverlabel\":{\"align\":\"left\"},\"hovermode\":\"closest\",\"mapbox\":{\"style\":\"light\"},\"paper_bgcolor\":\"white\",\"plot_bgcolor\":\"#E5ECF6\",\"polar\":{\"angularaxis\":{\"gridcolor\":\"white\",\"linecolor\":\"white\",\"ticks\":\"\"},\"bgcolor\":\"#E5ECF6\",\"radialaxis\":{\"gridcolor\":\"white\",\"linecolor\":\"white\",\"ticks\":\"\"}},\"scene\":{\"xaxis\":{\"backgroundcolor\":\"#E5ECF6\",\"gridcolor\":\"white\",\"gridwidth\":2,\"linecolor\":\"white\",\"showbackground\":true,\"ticks\":\"\",\"zerolinecolor\":\"white\"},\"yaxis\":{\"backgroundcolor\":\"#E5ECF6\",\"gridcolor\":\"white\",\"gridwidth\":2,\"linecolor\":\"white\",\"showbackground\":true,\"ticks\":\"\",\"zerolinecolor\":\"white\"},\"zaxis\":{\"backgroundcolor\":\"#E5ECF6\",\"gridcolor\":\"white\",\"gridwidth\":2,\"linecolor\":\"white\",\"showbackground\":true,\"ticks\":\"\",\"zerolinecolor\":\"white\"}},\"shapedefaults\":{\"line\":{\"color\":\"#2a3f5f\"}},\"ternary\":{\"aaxis\":{\"gridcolor\":\"white\",\"linecolor\":\"white\",\"ticks\":\"\"},\"baxis\":{\"gridcolor\":\"white\",\"linecolor\":\"white\",\"ticks\":\"\"},\"bgcolor\":\"#E5ECF6\",\"caxis\":{\"gridcolor\":\"white\",\"linecolor\":\"white\",\"ticks\":\"\"}},\"title\":{\"x\":0.05},\"xaxis\":{\"automargin\":true,\"gridcolor\":\"white\",\"linecolor\":\"white\",\"ticks\":\"\",\"title\":{\"standoff\":15},\"zerolinecolor\":\"white\",\"zerolinewidth\":2},\"yaxis\":{\"automargin\":true,\"gridcolor\":\"white\",\"linecolor\":\"white\",\"ticks\":\"\",\"title\":{\"standoff\":15},\"zerolinecolor\":\"white\",\"zerolinewidth\":2}}},\"xaxis\":{\"dtick\":1,\"gridcolor\":\"rgb(0, 0, 0)\",\"side\":\"bottom\",\"ticks\":\"\",\"title\":{\"text\":\"Response Time\"}},\"yaxis\":{\"dtick\":1,\"ticks\":\"\",\"ticksuffix\":\"  \",\"title\":{\"text\":\"Max Pertubation during training\"}}},                        {\"responsive\": true}                    ).then(function(){\n",
       "                            \n",
       "var gd = document.getElementById('98e2d336-aaac-470a-8e02-3293ce99fe19');\n",
       "var x = new MutationObserver(function (mutations, observer) {{\n",
       "        var display = window.getComputedStyle(gd).display;\n",
       "        if (!display || display === 'none') {{\n",
       "            console.log([gd, 'removed!']);\n",
       "            Plotly.purge(gd);\n",
       "            observer.disconnect();\n",
       "        }}\n",
       "}});\n",
       "\n",
       "// Listen for the removal of the full notebook cells\n",
       "var notebookContainer = gd.closest('#notebook-container');\n",
       "if (notebookContainer) {{\n",
       "    x.observe(notebookContainer, {childList: true});\n",
       "}}\n",
       "\n",
       "// Listen for the clearing of the current output cell\n",
       "var outputEl = gd.closest('.output');\n",
       "if (outputEl) {{\n",
       "    x.observe(outputEl, {childList: true});\n",
       "}}\n",
       "\n",
       "                        })                };                });            </script>        </div>"
      ]
     },
     "metadata": {},
     "output_type": "display_data"
    }
   ],
   "source": [
    "fig = ff.create_annotated_heatmap(z=jerks.to_numpy(),y=[str(int(i))+'g' for i in df['g_force'].unique().tolist()], \n",
    "                                  x=[str(i) + 's' for i in df['response_rate'].unique().tolist()],  \n",
    "                                  annotation_text=np.around(jerks.to_numpy(), decimals=2), colorscale='blues', showscale=True,\n",
    "                                 reversescale =False)\n",
    "\n",
    "fig.update_layout(\n",
    "#     title='Average evaluation seconds for response times vs max. pertubation during training',\n",
    "    xaxis_title=\"Response Time\",\n",
    "    yaxis_title=\"Max Pertubation during training\",\n",
    "    xaxis_side='bottom',\n",
    "    font=dict(size=15),\n",
    "    height=700,\n",
    ")\n",
    "fig.show()\n",
    "\n"
   ]
  },
  {
   "cell_type": "markdown",
   "metadata": {},
   "source": [
    "# Jerk"
   ]
  },
  {
   "cell_type": "code",
   "execution_count": 26,
   "metadata": {},
   "outputs": [
    {
     "name": "stdout",
     "output_type": "stream",
     "text": [
      "[ 43.3  43.3  43.3  43.3  43.3  43.3 104.3 199.6 182.5  70.1 187.  117.5\n",
      " 195.2 237.8 130.2 351.4 285.8 361.3 234.5 337.1 368.1 242.5 189.3 329.4\n",
      " 350.  355.4 332.5 378.7 408.5 325.1 348.4 281.  273.3 179.9  59.5 293.6\n",
      " 418.8 423.  329.  354.9 317.4 349.6 424.4 348.4 294.2 298.4 485.5 285.5\n",
      " 474.4 329.2 382.5 304.9 445.3 304.5 200.2 437.4 258.3 251.5 248.8 355.2\n",
      " 404.8 359.1 377.6 330.9  96.4 302.8 335.  456.8 267.9 364.4 254.3 302.9\n",
      " 274.8 156.8 321.2 274.7 200.3 452.4 412.1 448.7 286.4]\n",
      "[ 39.4  39.4  39.4  39.4  39.4  39.4 140.5 152.7 187.8 214.8 142.5 265.6\n",
      " 138.8 230.  222.9 316.4 349.9 294.7 291.7 267.3 208.8 173.1 305.6 215.7\n",
      "  78.9 126.8 254.7 226.2 399.8 329.3 285.7 368.6 479.5 251.7 353.1  55.2\n",
      " 447.8 352.4 246.8 261.3 236.7 426.5 290.  351.2 344.  102.6 217.1 224.5\n",
      " 290.9 232.8 386.2 290.3 264.2 199.5 191.4 378.5 268.4 402.7 431.3 367.2\n",
      " 476.9 295.8 352.2 398.7 394.1 345.  268.5 312.7 240.  344.1 372.6 339.\n",
      " 350.6 387.9 376.9 274.9 271.  340.3 390.7 445.2 308.6]\n",
      "[ 25.5  25.5  25.5  25.5  25.5  25.5  76.9 223.5 185.7 156.1 200.  174.5\n",
      " 191.2 200.1 244.8 276.4 319.8 314.8 223.3 308.2 287.4 193.6 246.8 254.3\n",
      " 401.8 317.  355.6 291.3  72.2 217.6 309.8 296.7 351.9 248.  179.  309.7\n",
      " 311.1 359.  369.1 442.2 286.8 217.6 378.2 379.5 205.8 176.3 213.8 363.\n",
      " 329.9 349.3 266.3 229.3 340.4 514.5 277.6 207.4 289.7 256.9 398.  307.9\n",
      " 305.7 361.5 456.3 366.8 424.8 339.3 402.6 408.6 310.1 364.1 241.6 211.8\n",
      " 338.  428.3 230.6 389.  379.7 253.9 388.  400.9 210.9]\n",
      "[ 30.9  30.9  30.9  30.9  30.9  30.9 161.7 237.4 171.7 198.3 199.2 177.8\n",
      " 183.2 240.9 265.9 274.6 249.2 203.  235.2 287.4 116.6 254.2 388.8 414.3\n",
      " 248.1 290.2 229.9 303.8 259.4 294.6 335.5 283.1 274.1 214.  258.2 287.9\n",
      " 246.7 323.8 351.9 359.3 492.3 329.9 277.1 375.5 340.9 334.8 359.8 252.6\n",
      " 300.6 349.3 297.5 368.4 432.5 317.4 428.3 254.3 301.2 381.3 339.2 241.6\n",
      " 453.5 310.6 430.9 327.2 325.2 233.4 328.8 284.3 333.5 329.4 338.  282.1\n",
      " 431.1 376.  213.1 351.6  36.7 426.8 241.1 314.  309.6]\n",
      "[ 43.3  43.3  43.3  43.3  43.3  43.3 136.8 167.2 132.9 221.9 204.4 181.6\n",
      " 169.9 230.6 162.9 252.  188.7 307.6 198.7 204.  214.6 223.9 296.7 252.6\n",
      " 375.  361.4 175.7 302.5 339.  304.  313.4 112.7 344.1 299.1 265.9 281.8\n",
      " 405.5 269.9 255.4  94.7 295.6 316.5 261.4 177.6 387.4 333.7 199.1 368.7\n",
      " 297.  276.3 323.4 292.4 371.6 341.8 274.5 355.7 391.4 306.6 278.7 326.5\n",
      " 490.  307.4 259.7 315.1 491.3 386.6 173.1 372.7 342.7 265.8 433.2 382.\n",
      " 298.6 351.2 442.7 297.  376.6  38.7 352.6 311.7 331.1]\n",
      "[ 43.3  43.3  43.3  43.3  43.3  43.3 147.6 162.  213.5 153.  246.9 175.8\n",
      " 163.1 194.  209.7 175.8 199.2 195.3 152.  191.1 199.3 211.2 228.9 246.6\n",
      " 272.1 230.2 362.3 274.7 235.5 308.5 208.9 266.5 264.5 314.4 386.7 361.6\n",
      " 383.6 180.3 314.7 348.3 262.4 233.  275.  231.8 228.5 348.9 272.9 266.3\n",
      " 267.8 250.9 123.5 235.3 326.9 305.5  85.2 363.2 276.9 204.3 182.4 242.5\n",
      " 259.9 262.3 136.8 310.  261.  333.  221.7 284.1 210.9 348.4 301.8 265.8\n",
      " 287.5 395.3 384.6  79.5 311.9 399.3 269.9 386.6 256. ]\n",
      "[ 39.4  39.4  39.4  39.4  39.4  39.4 132.5 163.5 142.8 186.4 166.4 185.2\n",
      " 186.3 169.  215.9 183.6 202.8 180.4 256.  228.1 189.7 327.2 172.5 219.9\n",
      " 223.1 250.8 270.1 236.  214.6 254.6 214.4 258.6 336.4 267.8 251.4 321.1\n",
      " 300.8 341.1 303.9 303.8 362.9 206.7 317.7 254.6 285.8 252.6 326.6 369.8\n",
      " 401.7 262.5 243.8 221.6 209.8 355.2 218.5 235.5 312.9 222.8 264.2 353.9\n",
      " 290.9 272.8 325.7 259.5 310.1 224.5 180.4 316.8 371.8 259.8 297.3 259.7\n",
      " 240.2 209.  421.6 415.3 424.2 390.3 185.4 247.6 310.4]\n",
      "[ 25.5  25.5  25.5  25.5  25.5  25.5 168.3 136.4 173.1 147.4 159.2 248.6\n",
      " 207.5 255.3 170.  231.3 248.6 258.5 285.8 225.7 255.9 353.2 284.4 249.\n",
      " 213.3 282.3 140.1 311.5 264.1 288.6 261.4 255.  270.5 234.4 327.8 206.1\n",
      " 307.7 288.5 298.1 375.2 263.6 337.8 245.9 273.4 245.  317.7 339.1 345.6\n",
      " 344.8 292.3 157.4 240.1 335.6 217.7 307.1 399.  382.3 275.9 335.8 273.8\n",
      "  26.5 203.1 270.2 289.9 264.2 305.2 185.4 258.7 374.6 443.1 184.3 300.4\n",
      " 326.7 232.2 356.8 318.  322.9 287.9 375.5 346.5 305.3]\n",
      "[ 30.9  30.9  30.9  30.9  30.9  30.9 132.4 184.4 187.7  70.  164.5 237.8\n",
      " 202.8 233.1 174.6 174.   62.1 263.5 253.8 237.9 273.4 237.9 156.   46.3\n",
      " 267.4 241.1 235.7 217.8 234.2 272.2 330.1 348.1 261.4 366.8 296.5 247.5\n",
      " 244.1 199.1 236.6 300.1 244.3 270.7 341.6 255.9 441.6 351.7 278.5 338.1\n",
      " 410.6 263.7 277.6 368.6 183.5 260.7 107.6 162.2 202.2 234.  301.7 298.7\n",
      " 135.5 245.2 305.5 238.4 314.4 423.  234.2 335.9 273.4 305.5 333.5 328.4\n",
      " 329.  301.3 274.2 128.  319.2 217.6 229.9 277.2 276.8]\n",
      "[ 43.3  43.3  43.3  43.3  43.3  43.3 138.3 166.9 102.5 196.3 147.5  95.7\n",
      " 241.1 157.3 164.1 232.  185.2 216.2 267.1 227.5 201.4 191.2 326.7 324.8\n",
      " 305.  252.8 231.  280.5 275.7 234.1 392.2 281.7 314.6 272.5 185.1 344.7\n",
      " 236.8 269.5 237.5 317.  298.4 276.1 267.2 389.6 273.7 364.2 278.8 203.2\n",
      " 125.  294.4 312.3 211.4 303.9 331.8 111.5 300.3 341.4 304.1 321.9  80.7\n",
      "  89.  354.2 237.1 102.1 218.  188.5 238.8 264.3 175.5 200.5 219.  204.4\n",
      " 270.  245.2 332.1 282.8 236.7 213.9 321.8 246.3 409.5]\n",
      "[ 43.3  43.3  43.3  43.3  43.3  43.3 107.9 170.7 164.9 167.1 125.3 147.4\n",
      " 124.  174.6 191.5 210.9  26.7 288.  257.9 211.5 196.2 263.5 239.1 252.\n",
      " 205.3 141.5 293.2 302.4 227.6 251.7 272.5 245.2 285.  240.7 362.8 256.4\n",
      " 205.2  32.8 206.  202.3 293.9 224.5 262.6 223.9 208.5 279.3 232.8 232.4\n",
      " 273.5 257.8 166.4 308.9 327.2 224.  278.2 233.4 258.  279.4 174.5 287.1\n",
      " 192.5 252.3 224.9 174.3 206.  202.1 261.7 320.7 285.9 221.7 272.1 214.9\n",
      " 230.  258.1  71.  307.2 221.5 277.5 320.2 266.6 278.1]\n",
      "[ 39.4  39.4  39.4  39.4  39.4  39.4 142.9 127.5 151.3 165.5 150.4 161.2\n",
      " 194.9 220.5 179.1 337.  167.  172.5 198.8 194.  179.3 197.1 266.1 176.7\n",
      " 127.7 215.4 226.1 226.5 219.6 255.7 275.2 281.9 247.2 284.9 364.8 254.2\n",
      " 233.1 301.6 103.6 169.8 325.8 161.  183.7 283.5 198.7 219.2 243.1 314.5\n",
      " 207.  230.7 365.6 282.7 306.2 292.1 234.7 277.8 262.1 350.4 334.5 167.3\n",
      " 257.4 233.2 209.1 309.9 250.3 313.9 194.3 302.2 301.6 200.3 258.4 312.6\n",
      "  59.2 218.6 351.4 215.7 225.2 228.9 315.9 253.  300.9]\n",
      "[ 25.5  25.5  25.5  25.5  25.5  25.5 129.2  45.1 143.4 168.6 152.7 141.7\n",
      " 141.  180.5 169.9 215.3 186.8 174.2 168.6 161.7 229.1 257.4 191.5 183.7\n",
      " 211.5 187.  183.6 202.  194.9  82.9 175.6 199.5 241.5 225.  222.3 227.7\n",
      " 198.2  67.2 177.4 204.4 226.3 254.2 272.5 257.6 217.9  59.6  88.5 257.\n",
      " 220.7 262.9 309.  257.5 224.1 295.1 215.6 226.8 260.4 202.9 181.1 157.3\n",
      " 181.6 139.3 253.4 287.1 283.8 260.9 218.2 298.4 392.1 257.5 257.1 241.7\n",
      " 198.9 220.4 199.4 254.3 203.3 192.9 361.9 275.6 194.9]\n",
      "[ 30.9  30.9  30.9  30.9  30.9  30.9 132.6 172.9 148.3 206.9 181.7 152.2\n",
      " 179.7 220.5 251.6  42.1 208.5 212.5 244.5 242.  214.1 240.1 237.2 221.3\n",
      " 158.5 174.8 191.9 153.2 256.2 181.8 185.8 269.4 281.2 257.3 285.8 206.\n",
      " 240.4 164.1 244.8  96.1 249.5 180.2 127.3 253.1 242.3 237.6 261.9  81.\n",
      " 278.  270.3 271.7 221.8 281.5 255.1 376.2 274.7 200.3 211.  332.7 235.\n",
      " 176.  333.6 297.9 268.1 335.3 337.1 315.6 222.1 240.  109.  292.2 264.2\n",
      " 305.5 219.9 319.3 248.7 280.7 195.  308.3 263.9 218.5]\n",
      "[ 43.3  43.3  43.3  43.3  43.3  43.3 174.4 188.5 157.2 151.8 186.7 210.9\n",
      " 190.1 179.4 212.6 183.7 214.2 240.6  78.5 220.   64.7 243.7 220.   66.1\n",
      " 250.3 251.6  42.4 259.5  91.5 218.4 185.8 187.7 245.9 241.1 187.6 295.1\n",
      " 219.6 296.2 257.1 225.  267.9  60.5 174.3 296.3 218.5 234.5 132.7 366.4\n",
      " 294.8 264.8 292.9 214.  392.  310.  197.8 315.7 238.7 296.8 260.7 206.3\n",
      " 317.6 223.2 266.7 220.  312.  300.8  81.7 246.1 496.9 290.6 215.1 312.3\n",
      " 226.2 286.9 204.2  46.  259.6 379.6  64.2 336.  286.2]\n",
      "[ 43.3  43.3  43.3  43.3  43.3  43.3 139.9 162.4 137.9 132.7 138.8 139.4\n",
      " 164.9 173.1 164.4 153.3 178.5 203.3 181.5 107.  234.3 224.7 205.2  72.9\n",
      " 179.4 216.3 302.5 198.5 233.8 282.2 256.2 248.9 222.4 277.5 230.1 206.8\n",
      "  31.6 225.8 202.5 297.1 213.3 281.  201.7 305.8 213.3 310.1 262.2 148.9\n",
      "  65.2 169.1 249.7 225.4 279.1 226.6 244.6 289.6 233.1 280.8 218.6 266.7\n",
      " 289.  226.9 255.9 252.5 138.6 195.1 190.3 187.5 327.6 195.1 318.7 250.6\n",
      " 268.7 268.4 273.6 202.4 283.9 200.3 321.  199.1 143.3]\n",
      "[ 39.4  39.4  39.4  39.4  39.4  39.4 138.6 127.  113.1  38.9 161.9 158.\n",
      " 192.7 183.9 194.6 188.6 193.  164.2 294.3 213.  221.8 231.5 199.5 210.8\n",
      " 197.  158.3 188.4 169.3 250.4 216.7 204.7 189.2 185.1 196.  234.8 124.2\n",
      " 233.5 220.1 248.4 266.6 215.6 266.5 185.2 160.7 254.3 248.9 186.4 206.2\n",
      " 244.9 221.6 205.1 247.7 158.9 279.7 153.4 222.1 190.6 190.7 207.5 249.4\n",
      " 234.6 296.7 210.1 189.1 241.  180.1  85.   54.9 152.7 111.7 182.  288.1\n",
      " 297.5 307.5 245.7 287.1 203.  246.2 216.6 227.6 231.7]\n",
      "[ 25.5  25.5  25.5  25.5  25.5  25.5 122.8 132.1 150.3 135.8 176.2 139.7\n",
      " 145.2 148.9 182.9 225.3 148.1 183.4 192.1 252.  200.3 198.8 233.4 300.6\n",
      " 218.9 253.8 300.3  50.6 165.4 193.6 200.3  95.6 200.4 219.5 202.2 311.4\n",
      " 219.8 214.7 154.6 188.3 212.2 220.2 236.4 298.6 270.2 242.4 252.9 216.6\n",
      " 191.3 285.2 248.1 240.8 254.3 289.3 475.9 232.2 233.6 263.2 223.5 253.7\n",
      " 316.1 255.7 232.  315.4 254.3 249.1 258.7 247.4 203.7 259.1 303.3 212.\n",
      " 235.7 227.8 218.3 401.7 253.3 302.4 206.4 220.8 207.1]\n",
      "[ 30.9  30.9  30.9  30.9  30.9  30.9 109.5 135.3 148.5  47.  154.  117.3\n",
      " 108.8 212.3 211.7 172.3 166.8 222.  226.3 179.9 276.9 217.  196.1 243.4\n",
      " 236.9 234.4 218.  221.8 170.5 220.6 187.2 158.6 289.8 203.7  89.4 250.\n",
      " 247.1  25.1 184.2 219.8 253.5 277.4 193.1 252.1 288.  287.4 208.1 307.9\n",
      " 205.4 209.8 247.8 228.3 226.2 171.2 119.  161.3 194.3 234.8 190.9 240.1\n",
      " 177.4 322.8 280.6 234.6 235.  275.5  88.3 316.7 208.1 275.3 256.8 234.9\n",
      " 327.5 323.8 186.4 219.8 311.  238.3 243.  291.8 168.3]\n",
      "[ 43.3  43.3  43.3  43.3  43.3  43.3 114.6 174.8 150.6 151.1 178.4 146.5\n",
      " 157.6 213.2 140.2 190.1 164.4 160.4 211.4 210.1 268.1 185.5 224.6 294.4\n",
      " 198.5 184.4 285.6 206.2 164.6 270.2 230.7 271.4 194.5 279.2 214.  234.5\n",
      " 260.6 218.5 224.8 352.  121.8 185.4 232.8 184.3 206.9 204.6 240.7 207.1\n",
      " 169.9 259.1 258.8 220.9 190.5 188.  279.2 327.2 259.1 222.6 193.4 225.6\n",
      " 192.8 161.2 285.7 234.5 174.3 265.  375.5 266.9 163.4 220.1 210.9 272.9\n",
      "  60.  226.  223.3 246.2 168.9 230.2 315.6 251.3 222. ]\n",
      "[ 43.3  43.3  43.3  43.3  43.3  43.3 149.1 172.6 152.7 148.3 147.5 170.7\n",
      " 179.1 224.1  25.4 165.9 203.4 152.3 145.5 198.7 256.3 217.4 277.4 196.5\n",
      " 228.  172.1 170.5 144.8 216.  205.3 215.7 188.2 158.9 192.  226.4 276.3\n",
      " 223.8 170.  202.3 234.3 204.6 284.1 231.7 101.7 160.3 154.7 205.6 203.4\n",
      " 213.5 142.5 226.4 183.3 262.2 220.6 281.2 250.2 182.6 212.5 200.4 190.1\n",
      " 210.4 219.5 159.  205.8 263.7 162.1 233.  274.  157.6 156.2 228.5 172.1\n",
      " 206.4 254.1 199.6  49.9 200.8 202.9 235.6 200.4 210.5]\n",
      "[ 39.4  39.4  39.4  39.4  39.4  39.4 144.9 133.8 157.3 139.  141.8 224.8\n",
      " 211.9 173.3 160.3 182.1 208.9 158.  170.7 150.2 156.3 181.9 156.4 107.4\n",
      " 134.1 165.4 197.9 207.6 153.4 123.1 212.  171.2 205.5  92.3 219.9 159.3\n",
      " 187.  175.   37.3 197.4 176.1 182.  207.9 176.6 202.5 117.5 151.6 162.2\n",
      " 184.2 193.9 153.4 186.6 162.9 167.  243.9 203.1 163.9 200.4 191.  175.8\n",
      " 128.4 169.6 224.2 185.2 170.6 222.1 133.4 159.9 184.9 142.1 274.1 206.\n",
      "  31.7 168.8 144.3 212.2 193.  204.3  38.2 237.7 259.8]\n",
      "[ 25.5  25.5  25.5  25.5  25.5  25.5 110.8 191.  163.9 126.9 225.1 217.9\n",
      " 167.2 180.8 185.2 197.9 155.6 179.8 170.6 176.7 192.5 176.3 217.3 226.6\n",
      " 167.1 218.7 241.4 214.6 208.8 182.8 216.8 211.2 216.  314.9 223.5 231.5\n",
      " 222.6 223.9 187.3 214.5 157.9 250.6 183.5 191.9 187.6 233.8 206.1  52.6\n",
      " 218.6 213.7 364.2  25.6 232.4 179.2 104.1 222.4 249.4 226.3 266.4 201.9\n",
      " 262.7 208.9  90.3 248.6 241.9 252.  270.2 268.2 286.8 250.6 189.6 200.6\n",
      " 260.4 301.2 254.2 227.6 230.1 203.7  29.1 215.6 181. ]\n",
      "[ 30.9  30.9  30.9  30.9  30.9  30.9 146.3 153.  172.3 150.   34.9 149.4\n",
      " 174.3 198.6 187.1 127.9  55.6 171.3 220.7 200.5 226.5 170.4 192.4 194.\n",
      " 195.  227.1 138.5 250.4 148.9 203.5 164.5 119.4 178.4 152.5 171.2 174.\n",
      " 205.9 194.  204.  180.5 189.1 181.   49.5 289.2 244.6 190.9 266.5 217.\n",
      " 249.9 279.2 188.9 157.9 244.9 176.8 227.7 189.6 223.5 201.  192.6 187.2\n",
      " 216.3 167.6 345.9 197.4 185.2 283.6 181.4 238.5 198.3 212.7 265.  177.2\n",
      " 194.5 202.5 199.2 235.8 221.5 270.8 371.6 251.1 189.7]\n",
      "[ 43.3  43.3  43.3  43.3  43.3  43.3 118.5 199.6 165.2 134.1 144.  107.3\n",
      " 196.8 145.7 133.7 167.2 156.1 165.1 180.1 221.1 156.  180.8 197.3 172.4\n",
      " 184.7 155.6 229.8 153.4 181.6 139.3 234.2 241.3 181.4 160.4 203.9 227.9\n",
      " 236.1 136.   28.3 282.1 227.5 172.4 214.2 183.5 174.6 174.   69.6 201.2\n",
      " 279.  209.3 228.6 161.2 237.  170.4 210.6 190.9 256.  319.  208.5  60.3\n",
      " 197.9  41.  221.8  89.4 260.  178.5 177.6 256.6 146.7 252.5 145.6 186.7\n",
      " 240.6 199.1 201.8 231.2 219.  189.8 222.6 227.8 293.6]\n",
      "[ 43.3  43.3  43.3  43.3  43.3  43.3 105.4 154.1 189.7 150.  135.  123.1\n",
      " 138.4 176.3 203.2 174.8 136.2 252.6 152.5 236.1 180.9 245.  191.3 221.9\n",
      " 189.1 229.4 199.3 239.1 214.5 100.  235.6 191.8 184.  220.6 160.5 242.\n",
      " 186.8 202.9 177.  222.8 240.1 218.1 176.1 231.4 159.3 206.7 171.1 239.\n",
      " 203.7 181.2 256.8 213.  191.3 186.  159.8 201.8 210.3  68.7  93.4 198.6\n",
      "  92.1 201.3 192.7 135.5 200.6 256.4 237.6 264.  146.9 192.9 270.9 193.2\n",
      " 264.4 237.4 169.7 171.8 206.5 192.4 211.6 155.  235.5]\n",
      "[ 39.4  39.4  39.4  39.4  39.4  39.4 129.1 156.6  34.  158.2 149.6 153.2\n",
      " 198.1 176.3 153.1 173.2 171.6 174.5 148.7 192.7 162.1 172.6 147.5 206.\n",
      " 188.4 204.  176.8 193.8 187.9 225.2 295.7 152.1 228.2 174.3 178.7 190.9\n",
      " 196.1 155.6 159.  203.2 194.4 196.1 150.4 204.8 214.  138.7 233.7 189.2\n",
      " 140.7 263.7 160.8 221.8 187.5 185.9 179.1 205.8 194.7 200.3 168.9 193.3\n",
      " 214.9 212.7 183.3 209.3 249.3 234.7 297.9 151.9 218.  212.2 129.  256.4\n",
      " 163.9 206.4 151.6 240.6 216.3 185.2 234.7 184.4 205.1]\n",
      "[ 25.5  25.5  25.5  25.5  25.5  25.5 144.4 146.8 153.6 120.  231.  145.5\n",
      " 219.9  86.9 168.9 244.1 228.4 232.5 244.2 159.2 188.9 175.7 206.8 198.3\n",
      "  28.1 245.7 231.7 246.8 179.3 211.6 236.6 119.2 181.9 251.1 217.1 196.2\n",
      " 229.5 112.3 171.  229.2 286.2 188.3 198.7 193.5 209.2 227.5 208.5 183.7\n",
      " 250.5 216.6 313.7 227.8 180.2 193.4 202.3 202.5 192.  237.2 256.7  39.1\n",
      " 186.2 207.2 259.3 272.  192.6 236.6 244.5 258.6 177.8 145.4 236.6  22.5\n",
      " 245.3 190.8 238.1 247.8 242.2 205.7 144.9 278.7 230.1]\n",
      "[ 30.9  30.9  30.9  30.9  30.9  30.9 125.8 177.3 162.9 127.5 161.5 160.2\n",
      " 175.5 177.1 165.7  83.9 168.2 124.1 130.5 165.4 153.3 168.1 190.  141.2\n",
      " 173.2 146.  166.4 179.4 131.  149.  144.  183.3 177.6 217.7 160.9 169.3\n",
      "  57.9 152.8 168.6 165.4 221.3 185.5 212.6 259.3 187.  247.2 202.  225.9\n",
      " 213.8 234.9 211.1 178.2 284.1 219.2 299.7 198.4 198.  233.3 197.3 181.2\n",
      " 144.9 249.9 229.9 259.  326.2  81.3 198.2 213.1 247.7 148.4 202.  249.1\n",
      " 198.9 279.8 235.1 225.6 221.5  33.4 247.3 199.8 182.8]\n",
      "[ 43.3  43.3  43.3  43.3  43.3  43.3 133.  133.4 131.9  80.3 134.7 166.6\n",
      " 201.5 172.3 148.8 204.6 202.  162.2 255.6 196.5 197.3 201.2 148.7 208.4\n",
      " 202.2 282.2 200.7 181.4 201.7 208.  153.6 169.3 203.5 218.7 198.6 173.6\n",
      " 142.2 233.2 180.4 199.9 183.9 173.7 222.4 249.3 179.4 222.4  53.2 223.9\n",
      " 188.8 183.3 170.6 207.5 199.3 209.1 310.9 239.9 167.2 217.7 198.8 210.9\n",
      " 259.8 243.  206.2 243.  179.3 164.2 183.3 210.5 180.4 252.1 274.5 138.2\n",
      " 209.3 160.  227.4 215.6 229.8 204.3 247.7 199.1 173.3]\n",
      "[ 43.3  43.3  43.3  43.3  43.3  43.3 106.4 158.2 197.8 138.4 143.4  25.1\n",
      " 176.8 140.2 180.1 110.3 172.8 204.3 193.  153.7 150.6 134.8 153.3 155.6\n",
      " 210.  173.1 182.3 173.8 168.1 171.  202.  158.2 203.1 168.  209.  189.2\n",
      " 186.4 191.8 237.7 220.5 252.2 164.7 171.6 145.  169.  153.5 151.  170.5\n",
      " 217.1 203.1 138.3 246.6 234.2 145.5 206.3 200.6 169.4 164.  160.7 156.6\n",
      " 164.3 173.1 196.6 196.4 152.4 219.1 209.6 205.9 205.9 179.  195.5 246.4\n",
      " 207.5 262.1 185.7 188.4 228.1 198.5 185.1 185.5 191.1]\n",
      "[ 39.4  39.4  39.4  39.4  39.4  39.4 125.  109.8 145.5 139.8 105.9 145.5\n",
      " 189.3 157.5 146.1 205.7 167.6 173.1 106.3 174.1 174.6 201.  225.4 228.6\n",
      "  30.3 176.7 167.9 183.9 215.5 184.5 160.5 179.1 167.2 197.1 216.1 180.6\n",
      " 195.8 202.9 196.9 191.9 238.3 183.6 183.9 165.4 200.1 166.3 157.6 169.7\n",
      " 199.3 224.1 241.6 188.1 178.9 160.1 233.7 196.  229.6 218.6 133.1 129.1\n",
      " 174.4 181.1 211.6 314.3 195.9 151.4 177.7 176.6 195.8 242.2 280.5 155.2\n",
      " 177.5 194.7 227.8 164.5 175.  248.1 149.6 127.2 202.8]\n",
      "[ 25.5  25.5  25.5  25.5  25.5  25.5 154.7 131.2 136.3 112.3 111.3 102.2\n",
      " 175.4 149.2 208.  184.2 221.4 234.2 217.8 203.7 165.8 178.7 201.3 181.8\n",
      " 234.3  94.4 216.4 160.5 188.  168.3 148.5 153.6 198.4 204.4 155.7 190.9\n",
      " 158.2 165.7 198.1 248.3 236.4 200.5 189.9 181.6 161.2 170.9 222.7 232.7\n",
      " 247.8 245.6 198.9 109.9 168.7 144.5 167.9 165.2 159.6 142.9 179.8 191.4\n",
      " 207.1 264.  159.6 203.7 192.7  58.5 179.4 195.6 201.8 226.2 212.  163.1\n",
      " 227.5 226.5 140.8 229.4 193.8 238.1 235.6 229.9 232. ]\n",
      "[ 30.9  30.9  30.9  30.9  30.9  30.9 150.  164.9 183.6 146.  112.9 153.1\n",
      " 188.  184.7 192.6 135.7 134.3 169.5 147.4 200.9  42.4 200.1 167.6 184.9\n",
      " 184.  293.6 231.8 201.1 186.6 162.3 280.3 185.9  48.2 218.6 195.6 195.6\n",
      " 167.1 201.7 218.9 154.3 223.9 186.  224.7 258.1 169.6 210.1 179.5 196.1\n",
      " 147.4 256.6 252.3 240.8 177.  204.8 245.7 154.  152.4 194.9 196.5 164.9\n",
      " 169.2 264.3 216.9 191.7 255.3 238.9 277.2 202.  202.1 189.1 203.9 205.6\n",
      " 161.1  43.5 283.  300.1 201.3  97.4 192.7 215.4 202.9]\n",
      "[ 43.3  43.3  43.3  43.3  43.3  43.3  49.5 165.5 127.2 110.9 125.2 124.8\n",
      " 127.4 160.  147.3 187.6 157.6 168.  154.  177.7 203.7 191.3 170.1 153.2\n",
      " 194.9 179.2 147.8  39.9 186.1 193.1  38.1 170.9 182.8 201.2 227.6 142.4\n",
      " 162.7 159.3 272.3 161.9 206.8 205.3 141.7 235.6 195.2 237.  167.3 140.2\n",
      " 185.3 175.2 204.1 209.6 160.1 227.5 151.   47.7 193.1 187.9 201.  144.9\n",
      " 162.8  28.3 180.  171.5 184.2 252.3 270.4 279.9 191.  204.6 178.2 280.8\n",
      " 202.5 210.6 265.6 148.  211.5 328.2 212.7 167.6 164.2]\n",
      "[ 43.3  43.3  43.3  43.3  43.3  43.3 123.8 150.3 136.2 139.6 141.1 173.8\n",
      " 242.1 234.4 201.3  82.8 148.3 161.  167.8 178.3 155.9 212.5 202.5 172.5\n",
      " 188.9 172.8  95.9 213.3  79.9 154.1 121.3 146.4 129.7 184.9 165.4 144.6\n",
      " 206.9 178.1 198.   77.  209.4 186.  213.1 171.9 286.1 199.7 183.6 156.7\n",
      " 209.9 172.2 227.7 106.9 193.3 166.  197.7 176.9 195.7 146.8 246.  205.\n",
      " 216.4 192.4 169.7 234.2 155.7 186.8 225.3 246.3 198.5 166.5 181.6 178.3\n",
      " 177.  154.7 165.9 180.3 156.9 194.5 147.1 162.4 186.2]\n",
      "[ 39.4  39.4  39.4  39.4  39.4  39.4 150.6 134.6  95.  168.7 145.1 137.9\n",
      " 146.5 170.9 162.5 137.8 137.9 156.3 166.  161.7 172.1 147.4 150.  154.6\n",
      " 118.5 172.3 181.2 155.3 168.8 194.9 214.2 122.  142.3 188.8 149.9 197.7\n",
      " 191.  194.6 212.8 149.  121.6 199.7 223.2 161.5 148.8 198.4 185.8 178.5\n",
      " 150.4 241.  218.3 184.9 235.6 209.  171.7 180.4 165.3 204.2  58.5 162.6\n",
      " 229.9 181.3 240.6 200.7 135.8  87.1 150.  184.  218.1 246.  141.4 194.8\n",
      " 201.8 193.6 173.3 182.1 206.6 192.1 156.  171.4 160.7]\n",
      "[ 25.5  25.5  25.5  25.5  25.5  25.5 149.7 141.8 109.8 113.9 103.8 112.\n",
      " 109.1 123.5 138.5 138.  123.8 176.1 171.4 258.7 200.5 199.5 187.9 222.9\n",
      " 160.9 183.1 146.1 183.  205.7 183.7 160.2 122.6 286.8 144.7 190.9 140.7\n",
      " 149.1 204.8 159.7 146.4 193.  179.7 190.4 107.5 180.8 178.5 200.7 224.\n",
      " 158.4  32.8 197.3 179.  158.8 162.6 165.8 193.2 149.2 158.7 167.7 201.1\n",
      " 201.9 187.4 159.5 138.4 149.1 151.  205.8 217.9 153.8 245.   95.  252.6\n",
      " 153.3 173.4 161.8  45.4 158.1 223.  217.1 185.5 174. ]\n",
      "[ 30.9  30.9  30.9  30.9  30.9  30.9 117.4  63.4 165.5 149.9 123.1 144.5\n",
      " 139.3 158.5 188.2 178.3 156.8 178.1 195.9 191.1 140.6 164.5 164.6 166.9\n",
      " 142.6 228.2 133.1 154.2 212.4 135.3 126.2 223.8 192.1 144.3 123.  220.4\n",
      " 208.6 115.6  99.6 128.1 166.1 140.9 156.4 180.  145.   45.3 194.1 240.3\n",
      " 192.5 183.8 170.2 146.2 148.4 233.3 197.  166.9 191.3  25.2 183.8 187.3\n",
      " 161.6 216.8 182.3 269.  199.5 185.4 157.9 165.4 158.7 152.3 177.7 156.4\n",
      " 149.9 168.6 206.3 198.6 238.6 204.5 178.3 208.3 152.3]\n",
      "[ 43.3  43.3  43.3  43.3  43.3  43.3 111.3 146.9 123.9 103.1 132.5 110.5\n",
      " 120.5 116.   77.9 175.5 173.6 208.5 177.4 202.1 172.  189.1 166.6 170.3\n",
      " 144.2 145.  201.2 165.6 165.3 177.8 149.4 204.3 182.9 160.6 191.6 171.6\n",
      " 161.8 172.4 140.7 196.4 161.  182.9  59.4 235.3 148.3 155.6 148.7 220.6\n",
      " 169.  190.  174.6 164.4 181.2 229.1 186.8 190.7 191.9 176.4 148.1 180.6\n",
      " 165.9 209.6 159.5 205.7 170.8 102.6 195.7 207.1 153.  157.  160.7 103.2\n",
      " 177.3 179.6 235.5 249.8 194.1 172.5 123.8 176.3 107.5]\n",
      "[ 43.3  43.3  43.3  43.3  43.3  43.3 121.1 151.6  97.1 153.5 146.9 108.8\n",
      " 126.8 187.9 165.6 178.8 170.9 191.5 142.8 186.9 193.5 182.3 142.2 159.9\n",
      " 143.7 137.6 192.5 177.9 197.3 176.5 162.7 208.6 252.9 200.7 160.9 181.9\n",
      " 164.6 148.2 206.1 189.8 180.4 230.6 151.3 206.3 190.1  35.8 183.9 220.4\n",
      " 144.2 173.7 159.8 195.9 118.1 136.2 182.2 156.7 175.9 134.8 191.  219.4\n",
      " 189.2 186.7 172.  157.1 188.1 171.7 177.  174.5  98.4 160.3 170.1 160.1\n",
      " 146.6 221.9 144.6 172.3 163.8 245.9 178.9  62.  192.1]\n",
      "[ 39.4  39.4  39.4  39.4  39.4  39.4 140.3 123.  103.6 113.5 132.5 144.1\n",
      " 166.5 147.1 108.3 127.8 195.2 138.  174.5 161.  129.3 168.  119.8 158.9\n",
      " 136.7 168.6 141.3 146.4 185.9 178.2 141.7 162.2 163.3 175.8 124.2 172.9\n",
      " 176.  162.4 209.8 169.2 167.7 193.6 141.1 155.4 164.7 142.  162.  175.\n",
      " 150.6 143.3 142.3 194.4 177.9 182.2 142.5 171.9 134.8 221.7 131.9 212.2\n",
      " 185.8 162.4 184.5 174.8 182.8 152.7  50.3 189.  194.2 171.7 162.4 187.5\n",
      " 168.5 178.  199.3  43.4 159.6 228.3 154.1 178.6 191.7]\n",
      "[ 25.5  25.5  25.5  25.5  25.5  25.5 138.6 112.5 164.8  78.7 149.  136.1\n",
      " 151.5 211.8 152.2 153.9 214.6 170.2 194.5 180.  167.  169.4 178.3 208.6\n",
      " 145.6 159.4 159.7 167.5 160.  149.5 199.1 189.1 136.4 125.6 173.9 162.2\n",
      " 127.9 180.8 205.1 187.8 170.2 146.5 206.8 160.7  75.9 173.3 219.1 252.8\n",
      " 204.  216.8 164.1 146.3 174.8 183.4 134.9 164.5 199.4 173.2 190.9 176.5\n",
      " 276.5 234.1 209.3 150.2 150.6 188.3 191.2 100.2 158.8 213.1 132.6 179.7\n",
      " 154.3 184.9 139.2 162.9 187.3 234.6 190.4 198.  227.7]\n",
      "[ 30.9  30.9  30.9  30.9  30.9  30.9 138.1 141.3 157.9 116.9 118.1 136.3\n",
      "  90.5 186.5 190.3 210.8 143.3 167.1 138.6 242.7 137.5 168.6 164.6 134.3\n",
      " 168.3 183.5 124.8 177.3 121.3 178.2 163.2 145.1 161.8 215.5 159.8 168.2\n",
      " 134.9 151.9  34.5 127.7 175.6 173.6 171.5 156.2 215.7 163.2 164.5 179.9\n",
      " 201.8 149.  142.  149.3 156.3 157.7 103.1 148.8 149.5 188.1 181.6 224.8\n",
      " 203.6 142.9 155.4 139.6 160.9 219.4 177.8 231.8 168.6 248.7 167.3 179.1\n",
      " 192.6 206.1 193.8 152.8 164.9 213.1 193.8 191.4 172.2]\n",
      "[ 43.3  43.3  43.3  43.3  43.3  43.3 117.1 148.7 193.7 100.1 132.1 165.8\n",
      " 130.1  98.7 143.9  65.9 159.3 170.1 203.2 178.2 189.5 125.4 136.7  50.5\n",
      " 200.1 135.  187.8  30.1 225.9 174.  174.8 176.  151.4 205.4 162.7 253.2\n",
      "  88.  159.7 182.2 169.8 130.2 138.9 169.7 187.  166.9 139.4 219.2 190.7\n",
      " 190.  205.5 185.9 195.1 189.2 196.6 178.6 195.9 117.6 243.9 170.  173.2\n",
      " 193.  192.6 180.9 159.8 205.3 190.2 173.  197.3 163.  140.1 224.8 166.2\n",
      " 189.5 180.3 175.5 168.6 176.1 159.4 172.8 181.9 176. ]\n",
      "[ 43.3  43.3  43.3  43.3  43.3  43.3  98.8 143.6 116.  157.3 111.2 113.7\n",
      " 158.1 196.6  98.5 180.5 197.9 230.2 179.1 137.4 168.8 188.8 162.  115.4\n",
      " 137.5 230.  197.3 183.4 142.4  73.2 203.  178.1 232.8 181.  233.5 196.\n",
      " 151.3 184.2 204.4  43.1  70.9 232.4 237.1 180.1 165.6 154.7 150.1 195.5\n",
      " 179.9 208.4 171.5 172.8 167.8 141.5 167.1 167.5 139.7 239.1 209.4 192.2\n",
      " 175.6 204.  150.  102.8 172.8 196.3 211.3 192.8 178.2 143.8 174.9 150.4\n",
      " 178.4 188.5 190.4 154.  188.3 167.5 203.5 211.6 221. ]\n",
      "[ 39.4  39.4  39.4  39.4  39.4  39.4 142.2 113.6 107.6 134.8 148.1 112.7\n",
      " 114.6 152.6 147.2 130.2 125.7 171.9 142.7 122.7 160.5 159.6 181.2 169.2\n",
      " 153.5 140.1  41.7 132.8 141.9 194.6 168.9 149.9 157.4 167.2 194.2 151.5\n",
      " 171.1 146.1 150.5 182.8 176.7 172.  158.5 183.1 156.5 197.6 153.3 156.5\n",
      " 148.  183.3 150.  187.5 135.  140.5 166.7 166.7 140.1 188.5 143.3 215.3\n",
      " 206.5 233.3 167.  163.9 128.7 151.8 131.4 167.4 249.8 240.6 158.2 154.2\n",
      " 168.5 141.2 165.1 245.3 197.2 163.5 167.3 170.8 136.8]\n",
      "[ 25.5  25.5  25.5  25.5  25.5  25.5 134.7 135.6 137.7 127.3 156.7 108.8\n",
      " 160.1 183.  148.3 167.9 130.9 143.9 165.8  53.2 174.  195.4 166.6 141.1\n",
      " 181.9 164.9 179.5 136.2 163.2 183.8 158.7 194.8 174.8 136.9 171.2 145.9\n",
      " 129.8 159.3 175.9 257.1 206.1 178.1 148.  227.  184.5 180.6 179.9 261.\n",
      " 165.7 198.2 168.6 175.  164.6 139.6 134.7 224.4 171.  197.2 183.3 245.7\n",
      " 204.9 169.2 196.4 177.4 139.5 204.9 184.  187.9 201.7 155.3 158.8 190.3\n",
      " 177.5 237.8 178.  120.4 204.4 161.4 132.1 182.  249.6]\n",
      "[ 30.9  30.9  30.9  30.9  30.9  30.9 117.2 161.7 120.8 153.9 100.2  51.7\n",
      " 139.6 136.6 204.  114.7 148.9 164.1 172.5 185.  152.2 158.3 136.9 155.1\n",
      " 216.  185.6 137.7 182.9 191.9 177.4 165.2  70.7  99.8 171.7 169.  153.6\n",
      " 174.6 171.7 177.3 166.7 160.7 192.5 202.8 184.9 176.3 183.1 211.7 177.4\n",
      " 175.9 131.6 234.9 119.8 160.  166.6 220.   74.  211.3 197.1 157.6 159.2\n",
      " 144.6 169.5 198.8 127.3 155.2 171.1 189.  152.4 181.8 163.4 171.5 220.2\n",
      " 203.8 145.  187.2 135.5 161.  197.7 185.7 172.1 114.8]\n",
      "[ 43.3  43.3  43.3  43.3  43.3  43.3 115.2 165.3 158.3  88.9 132.5 126.9\n",
      " 113.6 131.5 137.1 140.8 138.9 146.2 162.2 165.9 177.  139.9 184.1 144.7\n",
      " 108.5 153.2 161.3 164.7 140.  169.1 202.8 215.6 204.4 180.4 209.9 152.4\n",
      " 162.6 151.2 144.7 128.4 198.4 140.  121.9 167.2 170.9 124.5 197.6 169.2\n",
      " 172.8 141.3 164.4 176.8 175.6 144.8 144.1 177.4 168.8 160.8 172.3 133.5\n",
      " 195.3 206.3 158.7 164.8 191.2 168.7 172.9 238.8 145.2 147.5 206.1 181.1\n",
      " 169.9 193.9 195.3 182.2 166.5 145.8 153.9 171.  152.5]\n",
      "[ 21.6  21.6  21.6  21.6  21.6  21.6  93.8 121.4 134.5 120.  146.9 124.3\n",
      " 140.4 130.9 157.2 197.3 145.  204.8 204.7 247.3 165.4 164.6 181.2 205.5\n",
      " 304.4 155.7 252.5 243.  323.  329.1 196.  160.4 351.9 289.3 273.  246.3\n",
      " 319.8 321.8 279.4 253.2 381.9 301.4 164.9 235.6 201.2 209.2 179.4 378.7\n",
      " 332.1 243.8 266.4 331.8 225.2 253.5 321.5 262.9 247.9 232.1 180.9 306.7\n",
      " 199.3 206.  207.2 231.5 436.  362.  270.  282.6 258.9 291.8 328.3 304.\n",
      " 363.2 385.9 271.9 266.3 231.6 237.1 279.  223.1 189.2]\n",
      "[ 19.9  19.9  19.9  19.9  19.9  19.9  84.1 104.8  88.3 102.6 125.  132.3\n",
      " 128.2 159.1 124.2 154.2 152.4 148.7 150.  294.4 164.4 204.4 265.7 198.8\n",
      " 222.1 234.5 191.5 182.7 169.1 248.7 288.8 211.4 282.3 215.5 191.  217.8\n",
      " 295.3 326.  265.  224.1 258.4 277.4 262.3 207.1 294.3 213.7 191.2 268.4\n",
      " 252.8 256.9 238.  253.7 303.4 253.6 367.8 291.1 272.7 280.4 334.9 337.6\n",
      " 290.6 194.1 228.8 359.3 256.4 259.5 381.4 194.5 352.  273.2 344.4 222.1\n",
      " 362.7 301.7 189.9 266.5 181.8 235.3 214.5 237.3 219.9]\n",
      "[ 13.   13.   13.   13.   13.   13.   89.3  86.1 109.5 107.  130.6 214.8\n",
      " 188.  214.2 170.2 188.3 210.4 153.1 269.2 204.4 270.9 222.3 239.9 196.8\n",
      " 177.9 251.3 164.4 235.8 249.4 238.3 288.2 196.2 265.6 193.1 185.9 278.5\n",
      " 279.5 272.9 270.2 408.2 250.3 259.5 355.4 300.3 282.1 205.3 240.9 334.9\n",
      " 430.3 238.9 283.8 223.2 200.  309.7 405.3 316.8 488.1 193.7 266.3 413.5\n",
      " 301.9 204.8 327.7 287.2 319.4 312.8 276.6 194.3 317.9 201.9 283.7 197.1\n",
      " 271.5 416.3 469.3 264.8 339.7 338.7 274.6 467.5 353.4]\n",
      "[ 15.8  15.8  15.8  15.8  15.8  15.8 143.  132.9  80.8 146.7 160.8 133.9\n",
      " 152.9 152.5 128.1 171.2 149.5 198.4 137.3 116.6 180.4 189.9 190.5 184.9\n",
      " 170.1 278.  150.1 206.2 191.6 255.5 192.8 246.  217.3 218.5 302.6 228.\n",
      " 206.9 226.9 280.6 225.  307.1 211.9 304.1 284.9 295.8 179.8 311.  225.6\n",
      " 294.3 296.6 341.3 321.8 369.4 203.6 237.4 233.4 312.3 252.4 273.3 234.\n",
      " 280.  315.3 272.2 326.6 359.6 278.5 369.7 324.5 289.2 319.5 288.3 352.7\n",
      " 331.3 226.6 274.5 261.1 243.  197.1 250.  324.8 231.3]\n",
      "[ 21.9  21.9  21.9  21.9  21.9  21.9  89.6  67.8 113.2 113.  128.5 163.\n",
      " 202.8 154.4 169.1 190.  210.7 168.  153.5 226.1 238.6 242.6 235.  281.8\n",
      " 248.4 269.2 190.8 286.6 129.2 304.6 229.9 262.4 178.1 237.2 325.  295.1\n",
      " 214.  290.3 196.3 238.8 245.  439.6 150.4 183.4 243.2 266.7 348.7 281.1\n",
      " 226.5 176.9 420.5 368.8 228.  319.5 369.9 301.1 241.7 208.1 279.2 331.\n",
      " 285.4 290.8 238.  358.5 296.9 373.  311.4 220.9 252.3 236.7 382.5 256.1\n",
      " 193.8 247.3 426.5 265.6 263.9 285.4 290.3 500.9 223.5]\n",
      "[ 21.6  21.6  21.6  21.6  21.6  21.6  85.2 132.1 157.8 133.7 157.4 164.3\n",
      " 151.8 129.2 140.  145.5 173.6 190.6 139.7 170.  189.7 219.7 259.3 212.2\n",
      " 198.  239.7 180.6 172.9 313.  186.2 163.6 262.4 206.5 200.5 228.  240.2\n",
      " 179.1 296.4 205.8 288.9 211.8 232.4 248.7 236.  268.5 179.6 287.2 224.3\n",
      " 266.9 289.2 207.6 234.6 221.1 307.3 261.9 210.7 317.5 292.6 270.2 228.8\n",
      " 181.8 260.  267.2 165.5 235.8 271.8 280.5 231.8 332.5 207.1 302.6 340.1\n",
      " 347.  205.5 189.5 350.2 278.9 253.  405.8 349.7 289.2]\n",
      "[ 19.9  19.9  19.9  19.9  19.9  19.9 116.3  92.3 140.3  87.9 106.1 167.9\n",
      " 170.1 205.4 148.1 218.6 156.6 228.5 199.3 243.2 220.4 156.4 185.4 233.7\n",
      " 238.6 202.2 170.  181.2 160.7 204.5 237.6 238.8 218.7 207.2 204.4 177.6\n",
      " 182.8 245.  252.8 167.1 184.7 131.7 207.8 241.7 211.4 181.6 228.7 238.1\n",
      " 240.7 327.7 264.2 313.1 179.7 234.9 281.2 213.1 358.8 209.9 256.3 353.\n",
      " 307.1 226.  253.2 259.3 232.6 272.4 220.8 303.  254.4 270.4 175.8 263.3\n",
      " 149.9 303.9 160.4 239.7 295.9 196.9 219.4 255.  232.9]\n",
      "[ 13.   13.   13.   13.   13.   13.  120.9  73.8 110.9 130.  143.5 173.\n",
      " 182.2 186.3 220.6 201.7 147.1 197.9 163.8 201.4 184.9 222.8 197.1 152.9\n",
      " 167.4 185.5 171.8 180.4 165.9 249.6 176.6 238.6 198.1 199.2 283.2 183.3\n",
      " 179.2 355.6 212.4 195.6 191.8 301.9 182.7 279.9 221.5 219.6 209.8 198.\n",
      " 145.8 202.3 169.5 314.8 217.8 266.4 282.6 251.7 186.8 247.1 249.3 229.\n",
      " 332.3 173.2 305.2 279.7 158.5 313.3 262.2 219.1 271.1 298.1 222.6 271.6\n",
      " 250.7 242.  185.2 190.9 334.1 234.7 175.1 276.4 206.6]\n",
      "[ 15.8  15.8  15.8  15.8  15.8  15.8  98.2  76.1  93.1 134.8 156.  139.\n",
      " 134.5 157.2 148.4 174.5 183.  161.6 166.5 152.6 166.5 156.2 175.7 163.1\n",
      " 173.1 201.2 148.8 150.1 206.  240.8 198.5 250.7 139.  175.3 239.6 183.\n",
      " 304.5 254.9 197.8 172.7 294.  202.3 229.4 240.5 173.9 182.9 287.4 269.9\n",
      " 189.8 296.8 229.1 296.1 250.2 347.8 180.7 169.4 340.6 237.3 179.1 231.3\n",
      " 233.4 315.2 307.5 268.4 233.  297.7 170.5 196.1 258.3 308.8 240.3 317.2\n",
      " 280.9 205.1 273.2 229.3 335.7 254.4 222.2 271.7 258.6]\n",
      "[ 21.9  21.9  21.9  21.9  21.9  21.9 125.   70.6 135.2 113.1 152.4 139.2\n",
      " 155.5 165.3 161.8 179.8 302.  218.8 207.4 185.  280.2 213.  146.7 120.1\n",
      " 254.6 167.  319.2 280.2 210.5 273.1 274.  238.6 273.7 207.1 214.7 344.5\n",
      " 228.9 220.5 309.3 217.5 313.4 337.8 324.6 237.  194.3 192.  265.1 303.\n",
      " 244.3 237.7 278.8 180.4 205.5 139.  262.6 208.8 338.2 263.8 313.2 346.\n",
      " 233.6 230.7 254.1 331.5 243.1 158.9 185.8 245.4 233.5 242.3 148.4 229.2\n",
      " 249.1 254.5 213.9 234.3 259.1 269.2 247.8 205.1 318.8]\n",
      "[ 21.6  21.6  21.6  21.6  21.6  21.6  72.5 110.8 126.8  89.1 178.3 123.9\n",
      " 151.9 192.5 232.9 144.8 149.9 223.1 183.7 150.  147.5 144.7 155.4 260.9\n",
      " 187.1 198.2 244.3 208.  141.3 228.8 150.  197.5 222.4 176.  259.4 200.\n",
      " 234.  176.3 134.5 210.9 220.9 204.5 230.2 214.4 246.5 244.9 229.8 210.3\n",
      " 263.1 199.9 181.1 220.9 245.  219.7 182.  165.4 284.8 211.2 182.6 273.\n",
      " 302.  181.8 229.1 216.7 245.3 216.6 163.7 211.  234.  240.1 132.6 207.2\n",
      " 270.  218.4 189.6 228.3 216.3 311.6 220.2 281.5 272.1]\n",
      "[ 19.9  19.9  19.9  19.9  19.9  19.9 136.8 125.4  92.7  79.2 148.5 148.3\n",
      " 134.1 132.9 146.1 151.  185.  126.2 139.6 149.4 165.3 143.5 205.6 184.9\n",
      " 143.5 177.  231.6 182.8 249.8 224.8 134.5 154.  215.  237.1 178.2 226.9\n",
      " 211.1 135.1 208.8 204.9 169.7 172.6 130.8 156.5 142.4 173.8 152.6 252.8\n",
      " 293.2 243.  214.2 240.5 233.2 262.  260.1 258.8 198.6 209.2 202.  200.1\n",
      " 304.8 172.6 243.6 244.9 161.  168.  177.7 211.4 218.7 140.1 201.4 184.4\n",
      " 233.6 178.7 286.6 252.3 274.9 235.7 201.  283.6 253.8]\n",
      "[ 13.   13.   13.   13.   13.   13.   96.1  93.3 114.6 108.3 116.2 158.4\n",
      " 126.1 165.7 193.5 242.8 167.3 219.1 145.  178.9 152.  200.1 272.7 211.7\n",
      " 191.2 148.3 155.1 234.  164.6 235.9 194.7 167.6 172.6 192.5 200.8 172.4\n",
      " 295.8 202.6 210.  175.6 182.5 236.2 232.6 218.1 140.5 202.3 177.7 227.6\n",
      " 145.1 153.1 170.6 320.  202.2 204.3 287.7 323.  155.9 195.  129.4 243.1\n",
      " 195.9 226.6 175.6 165.5 274.4 252.3 267.3 313.4 165.9 247.4 270.5 288.2\n",
      " 297.9 206.6 212.5 240.3 301.4 317.9 257.9 235.2 138.2]\n",
      "[ 15.8  15.8  15.8  15.8  15.8  15.8  94.5  87.4 103.3 141.5 130.5 206.8\n",
      " 143.4 141.4 139.5 185.3 138.5 155.9 172.  132.4 154.1 155.7 152.7 139.4\n",
      " 130.  148.6 176.9 148.3 133.4 166.8 124.9 147.1 123.8 188.6 201.9 186.4\n",
      " 201.7 200.5 192.  224.8 200.8 189.2 141.4 203.7 248.2 167.  173.  148.2\n",
      " 191.7 216.1 239.1 210.8 232.8 310.8 265.1 258.4 243.7 205.4 220.5 172.6\n",
      " 388.7 227.7 241.6 189.6 245.6 305.5 211.8 222.9 177.7 229.9 251.9 237.1\n",
      " 259.6 219.5 202.4 221.7 311.9 278.7 176.3 282.9 166.7]\n",
      "[ 21.9  21.9  21.9  21.9  21.9  21.9  85.6  75.8 123.   74.  116.5 149.4\n",
      " 150.4 144.8 165.6 168.  198.6 160.4 172.1 133.3 178.7 142.  159.4 177.4\n",
      " 216.7 146.4 245.1 247.8 224.9 131.3 207.3 141.6 256.3 266.2 207.3 293.4\n",
      " 154.4 200.4 198.7 289.7 264.5 229.6 250.4 283.2 213.7 238.3 220.9 256.8\n",
      " 165.1 307.8 203.7 189.1 234.8 211.7 259.9 261.8 250.7 219.3 222.1 333.2\n",
      " 213.1 295.  285.7 219.6 299.  271.6 164.7 280.5 320.1 233.4 149.3 247.6\n",
      " 195.8 227.  276.5 175.7 263.4 170.3 198.8 284.9 186.2]\n",
      "[ 21.6  21.6  21.6  21.6  21.6  21.6  79.  103.4 151.1 152.4 127.7 144.8\n",
      " 137.6 169.2 139.1 198.4 118.7 110.2 167.8 204.3 260.9 203.6 169.6 176.7\n",
      " 148.5 196.1 185.6 212.5 242.1 175.2 199.  168.6 198.2 236.2 160.2 208.5\n",
      " 203.6 215.1 272.4 151.4 257.3 161.8 132.  175.5 160.3 238.5 224.6 198.5\n",
      " 227.5 247.1 233.2 205.7 161.6 215.4 189.4 208.8 167.1 170.9 153.  245.2\n",
      " 172.3 155.7 239.5 167.9 111.2 155.2 232.1 168.5 288.4 195.5 213.5 220.\n",
      " 270.4 217.  225.8 213.6 176.5 258.3 167.5 222.8 245.1]\n",
      "[ 19.9  19.9  19.9  19.9  19.9  19.9 106.5  89.  140.3 122.9  86.1 130.9\n",
      " 120.5 147.6 176.9 143.7 125.6 142.5 137.2 144.1 146.  145.2 138.5 150.9\n",
      " 114.2 164.5 168.5 171.9 189.4 179.2 179.9 157.6 341.4 141.  201.  239.4\n",
      " 210.5 212.1 163.4 240.9 220.7 280.8 142.9 225.8 141.2 145.  254.7 146.5\n",
      " 222.9 167.  360.7 154.3 156.9 197.7 160.3 223.5 129.7 174.5 257.1 345.6\n",
      " 211.6 163.4 169.5 202.  245.8 257.2 163.5 201.1 125.5 241.1 190.8 165.4\n",
      " 150.8 144.7 174.7 113.3 184.3 143.5 140.5 226.1 136. ]\n",
      "[ 13.   13.   13.   13.   13.   13.   93.1 100.3 133.7 136.4 120.6 142.1\n",
      " 136.2 182.8 145.8 210.5 145.4 145.6 141.5 188.7 162.3 173.6 198.8 242.6\n",
      " 180.5 218.2 228.  225.5 205.1 162.2 171.8 162.9 166.4 178.9 302.3 190.8\n",
      " 146.2 223.3 186.  188.6 174.2 159.7 208.7 219.8 216.7 160.2 235.7 167.9\n",
      " 204.1 174.6 208.9 179.7 164.1 198.5 193.1 198.7 179.2 220.5 191.3 136.2\n",
      " 208.4 227.2 316.2 177.8 117.6 199.3 177.1 206.  206.8 228.9 225.6 257.5\n",
      " 173.4 196.4 210.4 204.8 206.2 170.5 229.1 214.9 179.5]\n",
      "[ 15.8  15.8  15.8  15.8  15.8  15.8 112.7  90.8 136.1 120.2 135.2 144.6\n",
      " 107.6 152.3 137.4 212.  159.7 213.5 215.5 154.3 139.8 130.7 153.9 162.9\n",
      " 126.8 178.9 276.4 148.  133.8 238.7 159.8 208.  165.1 265.  150.7 161.9\n",
      " 194.2 250.8 204.4 187.  223.8 195.9 142.8 231.1 210.  167.6 143.  168.2\n",
      " 199.6 186.4 178.4 201.  250.8 186.5 190.  204.4 218.1 133.  210.3 187.5\n",
      " 277.6 225.3 259.8 250.4 191.3 213.8 282.6 224.2 203.2 179.8 229.3 241.2\n",
      " 122.3 284.9 233.6 183.1 154.  173.7 278.8 197.2 208.7]\n",
      "[ 21.9  21.9  21.9  21.9  21.9  21.9  92.4  87.  118.6  67.9  77.8 137.4\n",
      " 112.7 187.1 152.8 188.  156.6 189.2 159.5 170.6 161.2 105.5 146.8 203.\n",
      " 193.5 148.5 160.4 135.  140.  160.3 161.8 182.6 146.  231.  189.2 278.5\n",
      " 209.  192.5 246.4 159.3 136.1 174.7 174.8 205.9 183.5 228.9 215.  180.4\n",
      " 190.  271.9 167.6 209.9 203.3 159.2 191.9 171.7 161.4 129.7 189.6 154.4\n",
      " 160.9 166.4 166.  193.7 159.4 195.  204.8 182.3 226.5 238.3 180.3 209.3\n",
      " 213.6 180.8 190.4 176.9 186.4 202.3 221.9 182.1 245.8]\n",
      "[ 21.6  21.6  21.6  21.6  21.6  21.6  77.5  74.6 134.6 143.3 129.2 125.2\n",
      " 137.5 148.5 156.5 149.9 151.3 126.5 166.4 195.2 156.5 105.4 136.1 161.2\n",
      " 172.1 185.7 154.1 174.8 139.3 252.6 159.2 244.6 179.  145.6 154.5 145.1\n",
      " 176.  214.5 172.7 229.1 211.8 205.  187.8 160.3 274.3 170.9 158.8 155.5\n",
      " 220.1 193.1 172.8 166.3 151.3 172.7 118.9 182.6 220.9 162.4 230.3 155.7\n",
      " 208.2 140.8 143.2 207.8 184.7 168.1 150.2 105.9 194.  161.2 188.  155.9\n",
      " 156.8 197.5 154.4 157.8 139.5 181.3 169.7 282.2 203.6]\n",
      "[ 19.9  19.9  19.9  19.9  19.9  19.9 107.  102.1 123.8 126.3 100.7 117.3\n",
      " 114.  159.5 116.7 136.6 161.4 131.3 126.8 129.  141.6 169.  156.5 170.4\n",
      " 149.8 164.8 172.4 147.4 129.3 166.9 125.2 133.9 168.  204.4 189.1 188.1\n",
      " 132.6 219.  148.9 168.8 175.7 184.3 182.3 129.8 200.7 134.8 157.7 155.6\n",
      " 239.3 151.8 212.  181.  220.1 202.9 149.4 153.  158.1 318.2 164.4 234.4\n",
      " 153.9 182.6 190.6 232.  188.1 152.7 124.9 185.1 190.3 240.1 127.3 238.8\n",
      " 222.3 139.7 179.4 182.  225.5 194.8 167.7 217.3 249.6]\n",
      "[ 13.   13.   13.   13.   13.   13.   83.6  83.  109.4  91.8 151.3 131.9\n",
      " 147.6 139.7 152.4 170.3 145.1 135.3 155.1 169.7 236.4 170.9 139.1 168.7\n",
      " 221.  178.9 189.7 202.9 174.6 157.9 163.4 175.6 175.6 170.6 235.  115.8\n",
      " 201.6 187.5 115.1 159.1 200.  204.9 203.3 208.6 201.4 236.3 209.5 207.\n",
      " 175.4 165.9 202.5 224.6 150.9 213.7 128.9 109.9 177.4 192.6 174.3 274.7\n",
      " 186.  239.8 225.3 161.4 162.7 139.2 206.2 227.1 206.  182.6 166.3 220.9\n",
      " 221.2 245.  203.5 210.9 149.5 193.3 190.1 165.2 193. ]\n",
      "[ 15.8  15.8  15.8  15.8  15.8  15.8 125.7 128.8 136.4 141.3 123.  128.1\n",
      " 144.7 132.8 160.7 132.9 131.1 119.6 130.2 153.2 162.4 122.5 112.7 152.5\n",
      " 137.9 170.8 151.6 178.2 132.  132.6 174.6 208.4 141.7 149.3 164.9 128.3\n",
      " 215.5 135.2 209.5 167.3 174.7 156.3 137.7 139.8 154.5 188.  149.2 196.3\n",
      " 125.3 117.7 156.6 127.4 166.8 247.6 154.5 173.2 168.2 241.3 202.7 152.\n",
      " 160.6 149.3 127.4 144.8 272.  242.3 329.3 266.7 218.7 230.  149.1 161.8\n",
      " 202.3 222.5 310.3 147.  139.3 220.2 148.7 192.  184.2]\n",
      "[ 21.9  21.9  21.9  21.9  21.9  21.9  79.1  72.9  75.2  97.1 121.4 124.8\n",
      " 118.2 189.  152.8 167.7 160.1 158.8 201.2 156.3 190.2 152.2 206.2 224.8\n",
      " 159.8 219.7 174.3 168.  165.8 148.6 255.6 212.9 174.5 189.2 169.4 247.6\n",
      " 167.4 115.6 179.7 131.3 152.4 208.1 180.7 183.2 152.8 228.  157.4 166.1\n",
      " 124.6 112.9 170.8 194.6 199.4 181.1 147.6 234.5 168.  110.1 180.  190.2\n",
      " 216.9 176.8 145.2 137.6 245.9 186.  228.1 264.1 225.  177.8 172.9 157.\n",
      " 280.4 181.1 178.5 142.4 171.3 214.4 126.8 177.8 165.1]\n",
      "[ 21.6  21.6  21.6  21.6  21.6  21.6  92.7  98.4 127.4 118.2 128.6 129.5\n",
      " 133.4 117.4 185.9 134.3 115.7 139.9 195.6 141.2 140.7 166.6 134.9 179.5\n",
      " 172.7 154.3 147.7 130.8 161.7 151.  163.2 187.6 188.1 139.  147.4 183.4\n",
      " 177.7 182.2 168.9 211.  166.3 194.8 155.2 172.  237.1 160.1 192.2 208.9\n",
      " 194.  137.3 114.2 173.9 145.6 208.8 154.8 167.7 168.2 242.9 216.5 219.8\n",
      " 182.6 189.3 146.4 140.7 125.7 180.  142.3 207.4 168.5 128.5 236.6 188.5\n",
      " 271.8 148.6 153.3 134.5 188.  173.8 163.1 192.4 165. ]\n",
      "[ 19.9  19.9  19.9  19.9  19.9  19.9  99.2 101.7 116.8  98.   86.5 107.3\n",
      " 146.7 145.4 111.1 135.2 137.4 142.9 167.6 114.7 145.2 148.3 122.2 167.7\n",
      " 118.2 143.  140.4 148.6 116.9 177.2 169.4 172.1 152.5 200.1 146.4 132.7\n",
      " 171.7 204.5 153.  240.5 166.  158.7 133.2 140.4 153.  186.2 166.7 158.2\n",
      " 182.4 196.9 185.7 124.5 167.4 138.2 113.  164.1 133.5 150.2 123.9 169.6\n",
      " 162.4 142.7 186.2 180.1 169.7 137.7 205.4 163.7 229.4 161.7 201.9 202.9\n",
      " 167.5 215.3 168.6 161.7 170.3 198.8 178.7 136.5 174. ]\n",
      "[ 13.   13.   13.   13.   13.   13.   86.6 119.3  97.1 106.   86.2 115.2\n",
      " 143.4 115.8 124.3 128.  136.6 150.4 142.4 142.3 133.5 137.6 128.  186.1\n",
      " 126.9 180.7 148.  146.1 149.  187.5 111.2 205.2 165.4 165.3 169.1 172.8\n",
      " 169.6 154.2 132.8 151.4 175.5 207.5 195.6 199.4 121.8 207.7 140.7 157.1\n",
      " 213.9 167.4 165.9 160.8 148.9 143.1 179.7 138.1 177.3 139.5 143.7 194.7\n",
      " 176.  142.3 144.6 151.6 157.1 137.8 182.7 173.1 170.7 173.2 170.8 223.9\n",
      " 192.5 172.5 148.  175.1 235.3 252.5 136.4 120.7 155.8]\n",
      "[ 15.8  15.8  15.8  15.8  15.8  15.8 124.8  81.3 113.5 118.1 123.5 171.3\n",
      " 148.4 138.9 146.9 121.2 159.3 131.4 136.8 112.7 163.2 128.3 129.2 201.3\n",
      " 123.2 130.3 164.9 184.7 148.3 131.6 180.9 279.5 122.1 132.3 173.6 248.7\n",
      " 199.1 138.  196.6 124.5 172.7 183.5 190.  202.6 152.1 157.3 204.8 147.9\n",
      " 178.1 202.6 172.7 244.6 185.3 135.8 155.2 143.4 265.9 141.7 266.8 162.3\n",
      " 236.3 124.1 187.2 138.2 200.1 214.7 211.9 140.3 188.3 149.9 176.9 137.6\n",
      " 129.5 198.4 220.3 136.3 191.1 158.3 130.7 140.8 176.1]\n",
      "[ 21.9  21.9  21.9  21.9  21.9  21.9  95.2  91.6 116.2  96.9 136.5 120.5\n",
      " 127.7 126.7 147.  128.7 181.8 148.6 150.7 125.1 153.5 156.9 184.3 148.7\n",
      " 132.1 130.4 166.7 184.3 149.5 181.3 209.9 131.3 137.5 164.1 144.4 216.9\n",
      " 156.6 138.9 166.6 170.  155.3 182.3 242.3 145.9 133.5 185.7 171.2 164.3\n",
      " 200.9 165.5 158.6 196.  137.2 214.3 152.7 175.8 138.3 169.5 160.  176.2\n",
      " 171.4 188.4 139.1 194.5 197.  147.2 200.2 177.9 125.3 178.4 160.7 249.8\n",
      " 158.3 151.3 151.4 169.1 156.1 204.5 232.  202.1 142.7]\n",
      "[ 21.6  21.6  21.6  21.6  21.6  21.6  84.5  82.2 122.8 133.6 115.8 124.3\n",
      " 123.5 111.3 191.3 172.2 160.5 122.  143.  163.4 160.9 175.2 161.5 158.5\n",
      " 197.5 182.9 146.  211.4 177.  160.1 143.8 133.6 118.7 118.2 173.1 167.2\n",
      " 199.5 161.6 143.5 162.5 157.7 229.3 199.4 103.6 249.3 153.  137.9 178.1\n",
      " 148.5 112.7 177.4 172.1 173.9 153.3 183.5 156.7 165.6 174.7 212.3 150.8\n",
      " 188.6 118.3 153.4 191.2 184.8 183.9 181.  151.9 174.  121.9 213.6 173.2\n",
      " 166.6 158.6 174.8 171.2 157.6 150.5 171.1 187.6 124.4]\n",
      "[ 19.9  19.9  19.9  19.9  19.9  19.9 107.8 119.5 121.   95.5 123.4 127.6\n",
      " 137.5 155.9 111.3 115.7 114.7 115.8 124.7 117.9 127.4 122.3 190.1 149.8\n",
      " 153.8 135.  144.7 143.2 161.1 145.2 129.9 153.6 144.2 109.1 142.6 170.7\n",
      " 180.2 149.4 165.9 119.5 111.  174.  133.4 150.3 127.2 150.8 198.3 149.7\n",
      " 215.1 148.6 174.5 162.6 153.  134.9 216.9 199.9 193.3 118.8 157.  171.1\n",
      " 141.4 164.3 168.  175.8 129.3 176.4 159.6 160.2 140.7 193.5 135.5 184.6\n",
      " 233.2 207.7 187.6 159.  157.9 132.  172.9 143.9 128.2]\n",
      "[ 13.   13.   13.   13.   13.   13.   89.9 100.7 110.4  91.6 107.7  82.8\n",
      " 144.  103.7 116.6 107.6 154.6 118.6 156.1 153.  134.8 131.2 180.4 211.1\n",
      " 167.7 149.1 156.5 213.2 137.6 106.4 127.9 156.6 131.8 178.6 166.1 166.4\n",
      " 203.3 138.9 129.1 134.5 145.1 187.8 197.4 161.9 183.5 140.6 170.4 140.4\n",
      " 116.2 240.7 161.9 194.9 107.  120.8 150.7 136.8 141.  147.8 144.4 153.9\n",
      " 172.  123.9 128.6 174.9 138.6 121.  222.6 189.7 166.9 168.6 179.1 109.6\n",
      " 192.3 129.3 171.  127.3 122.9 158.9 143.1 181.7 122.7]\n",
      "[ 15.8  15.8  15.8  15.8  15.8  15.8 139.2 119.9 122.9 116.7 145.5 158.7\n",
      " 156.3  90.6 116.5 145.5 169.  113.8 157.9 118.9  99.1 145.7 134.6 144.\n",
      " 182.2 144.4 125.7 148.2 163.3 128.  156.7 112.5 104.1 141.6 124.  144.5\n",
      " 110.1 144.9 164.8 145.5 121.  125.8 146.7 212.2 155.4 145.3 137.5  97.3\n",
      " 158.2 190.4 203.6 151.3 185.2 164.2 193.2 206.  168.6 150.6 199.8 192.5\n",
      " 208.  122.7 124.7 158.5 145.1 164.4 175.5 166.7 170.6 203.  160.5 196.1\n",
      " 209.5 168.5 296.9 137.3 135.9 163.7 178.9 223.3 156.3]\n",
      "[ 21.9  21.9  21.9  21.9  21.9  21.9  91.9 109.3  99.9  70.2 115.  120.2\n",
      " 113.6 127.4 109.7 121.  156.1 146.6 122.5 136.4 175.5 121.4 156.5 110.1\n",
      " 160.8 126.9 112.7 151.4 110.8 140.6 152.7 124.2 129.4 117.6 150.5 136.4\n",
      " 159.1 132.9 136.1 127.6 153.4 136.  220.  134.9 173.9 185.5 138.4 219.6\n",
      " 155.  151.3 155.2 134.9 147.2 130.9 202.5 140.7 149.6 165.7 184.8 134.7\n",
      " 185.9 146.  149.8 142.6 156.9 177.5 143.3 151.9 156.3 147.8 172.2 135.9\n",
      " 148.2 161.9 174.5 222.3 136.5 137.8 164.2 177.  162. ]\n",
      "[ 21.6  21.6  21.6  21.6  21.6  21.6  86.7  95.1 116.9 111.6 127.3 139.3\n",
      " 122.9 107.1 186.  108.2 175.8 130.3 123.4 133.8 116.  174.2 129.6 168.\n",
      " 145.3 117.2 140.6 116.5 176.  141.5 156.3 142.  170.  184.6 161.5 197.9\n",
      " 141.5 138.9 178.6 186.4 221.9 111.3 215.6 151.8 207.1 162.4 151.3 167.3\n",
      " 168.3 177.4 144.1 207.3 151.6 188.8 132.1 120.4 122.4 197.1 184.6 144.9\n",
      " 203.6 142.1 153.8 170.1 153.  126.  197.5 131.9 161.2 223.5 172.  153.\n",
      " 193.4 160.3 124.5 193.7 183.1 161.4 148.5 147.2 130.8]\n",
      "[ 19.9  19.9  19.9  19.9  19.9  19.9  82.  106.2  95.8  83.6 121.5 112.2\n",
      " 115.5 149.9 155.5 116.8 135.1 126.7 139.5 143.1 163.3 128.8 133.5 157.\n",
      " 124.4 149.9 108.4 144.1 177.6 184.8 171.  187.8 188.3 137.3 168.8 152.7\n",
      " 123.7 136.9 136.  169.9 172.6 186.  119.7 153.5 156.3 113.6 127.4 217.5\n",
      " 137.9 137.4 151.3 149.8 148.4 176.2 134.7 147.4 138.  121.6 127.8 139.3\n",
      " 208.  126.8 194.4 163.6 137.3 134.3 189.4 117.6 181.4 108.8 166.5 138.2\n",
      " 133.7 182.2 183.8 131.6 135.3 131.8 174.  219.2 180.9]\n",
      "[ 13.   13.   13.   13.   13.   13.   87.7  88.3  79.2  81.6  72.6  95.1\n",
      " 180.9 179.2 139.5 131.1 154.4 154.1 238.  152.8 172.  168.  163.1 114.1\n",
      " 106.3 177.5 206.8 232.3 134.  133.7 153.5 164.5 136.3 170.9 180.3 149.5\n",
      " 212.4 180.1 149.3 151.1 158.4 153.4 126.  183.7 205.8 161.4 163.  175.8\n",
      " 161.4 172.3 169.8 161.8 128.4 129.1 173.2 187.5 171.9 199.4 155.9 115.4\n",
      " 195.2 146.8 167.  160.3 167.8 160.1 186.7 127.7 131.5 141.5 116.4 104.7\n",
      " 197.5 152.4 150.4 118.8  98.1 168.3 134.2 200.5 136.6]\n",
      "[ 15.8  15.8  15.8  15.8  15.8  15.8  95.3 113.3  82.6 109.  127.2 168.5\n",
      " 143.2 116.3 136.5 136.7 133.3 137.2 122.2 117.3 110.  120.2 128.5 166.2\n",
      " 119.5 137.7 138.  126.7 126.  159.7 121.8 178.8 172.1 147.6 190.2 128.1\n",
      " 141.7 159.2 200.7 146.4 212.2 153.5 155.2 178.7 180.  145.4 124.8 139.3\n",
      " 134.  173.9 115.6 154.2 156.3 134.6 145.9 153.3 184.9 147.2 211.3 149.5\n",
      " 119.6 209.7 136.4 228.2 156.  178.4 141.5 153.6 151.6 169.3 100.8 169.\n",
      " 179.1 163.1 139.7  99.5 119.6 160.6 123.4 143.6 156. ]\n",
      "[ 21.9  21.9  21.9  21.9  21.9  21.9  76.1  73.4  84.9 104.7 105.7 130.8\n",
      " 133.9 143.5 125.3 145.5 155.  131.  125.2 175.2 145.4 144.8 141.7 135.4\n",
      " 180.9 144.3 167.8 144.2 156.  128.6 152.9 147.2 130.  126.3 175.  200.2\n",
      " 143.6 182.4 146.9 146.3 119.6 180.2 206.4 180.5 139.3 167.1 162.4 202.3\n",
      " 184.9 136.2 126.8 115.5 145.7 160.1 151.  123.8 131.7 139.8 111.6 132.9\n",
      " 146.7 144.3 138.5 216.7 125.8 158.  132.9 202.6 142.4 200.5 129.7 110.5\n",
      " 101.4 226.6 140.8 187.5 130.8 150.6 178.  159.6 161. ]\n",
      "[ 21.6  21.6  21.6  21.6  21.6  21.6  83.   84.9  91.8 107.1 142.4 114.2\n",
      " 114.7 111.1 120.5 134.4 144.8 119.2 141.2 136.9 160.4 151.5 117.2 134.9\n",
      " 158.4 138.1 129.7 125.6 193.4 106.6 148.9 118.8  96.9 128.5 215.7 169.5\n",
      " 200.  162.  123.7 140.5 219.6 152.8 142.4 158.9 131.3 110.3 153.  112.4\n",
      " 179.2 122.  154.9 162.7 191.9 134.7 131.2 174.7 133.5 130.8 173.2 152.6\n",
      " 107.4 138.6 173.4 144.6 199.8 186.  150.5 148.1 136.2 102.9 154.5 151.1\n",
      " 197.8 139.5 132.8 176.6 124.2 130.7 159.4 104.8 118.7]\n",
      "[ 19.9  19.9  19.9  19.9  19.9  19.9 133.7 101.1 110.6 115.3 104.  123.6\n",
      " 167.8 141.4 120.9 126.4 116.3 111.9 126.7 114.5 147.1 125.3 150.7 133.8\n",
      " 118.8 149.6 133.  150.2 165.3 145.5 114.1 144.  182.4 124.9 187.8 151.2\n",
      " 137.9 128.8 145.8 140.9 154.2 175.6 135.6 136.9 139.1 160.7 179.5 132.4\n",
      " 189.4 113.1 136.4 176.3 201.5 144.6 187.9 188.5 164.1 144.5 134.  205.1\n",
      " 136.8 151.8 138.7 168.4 143.2 202.8 119.  147.  146.4 135.7 134.6 123.1\n",
      " 135.  124.8 128.3 128.  139.  182.  138.4 166.8 145. ]\n",
      "[ 13.   13.   13.   13.   13.   13.   87.4  86.1 127.6 133.5 118.8 128.6\n",
      " 113.2 119.7 150.2 135.8 148.1 143.5 105.1 141.3 150.2 160.4 174.7 138.6\n",
      " 184.7 126.1 109.2 161.3 114.5 101.1 141.8 150.8 121.2 124.4 142.3 165.6\n",
      " 152.4 174.5 160.3 129.9 131.9 176.  136.1 163.3 127.7 139.7 164.6 191.8\n",
      " 117.3 152.2 172.4 133.7 132.3 130.2 175.4 154.1 157.9  96.4 149.1 134.7\n",
      " 192.6 107.5 106.4 147.3 145.3 155.6 166.5 136.1 153.3  89.5 167.5 155.7\n",
      " 139.5 127.7 162.  126.6 166.2 137.5 163.4 180.9 150.3]\n",
      "[ 15.8  15.8  15.8  15.8  15.8  15.8 104.8 110.3 126.5 157.4 106.  150.6\n",
      " 109.4 124.2 123.3 141.  113.5 107.1 108.  111.4 130.1 149.2 129.5 147.1\n",
      " 115.  209.4 125.3 155.7 126.9 162.7 135.1 148.4 124.8 137.5 171.7 136.7\n",
      " 115.  170.2 172.8 118.5 181.4 156.7 171.7 134.1 106.2 180.5 133.3 197.3\n",
      " 157.5 166.5 152.7 198.6 148.8 199.3 153.6 114.2 154.2 145.7 164.5 134.8\n",
      " 156.4 118.  131.6 136.2 135.3 156.4 103.7 139.1 150.2 198.8 143.8 158.4\n",
      " 140.1 146.3 147.6 143.6 153.6 136.  146.4 213.6 157.5]\n",
      "[ 21.9  21.9  21.9  21.9  21.9  21.9  76.7  62.5 107.1  96.7 114.6 116.9\n",
      "  97.6 133.8 134.9 151.8 124.8 110.4 141.3 151.6 124.  145.5 153.5 144.2\n",
      " 107.3 136.3 159.  126.1 157.  151.9 127.2 123.6 149.4 151.5 125.3 182.3\n",
      " 134.  187.3  99.5 111.2 113.8 106.2 141.8 141.3 134.5 145.2 184.8 141.1\n",
      " 143.8 183.5 175.8 168.4 112.9 184.2 184.4 154.7 138.1 171.6 153.5 124.6\n",
      " 123.6 150.1 203.2 115.4 125.7 221.9 111.  118.5 151.2 170.7  73.  151.1\n",
      " 131.2 121.  144.2 154.9 131.7 179.4 154.4 164.2 148.7]\n",
      "[ 21.6  21.6  21.6  21.6  21.6  21.6  81.4  77.7  92.  103.5  99.1 119.9\n",
      " 124.9 112.1 130.4 136.6 166.2 117.2 108.  111.9 104.  113.4 141.7 126.3\n",
      " 120.7 164.2 117.6 148.  129.8 137.7 113.6 120.7 132.  126.  169.8 147.6\n",
      " 127.8 141.4 139.3 116.5 105.  122.8 129.6 157.8 152.7 172.8 201.2 170.1\n",
      " 151.  145.3 158.7 178.4 164.9 220.9 161.  127.2 109.  169.7 133.7 166.2\n",
      " 221.3 150.2 120.8 171.1 162.5 162.8 160.4 137.5 158.5 133.3 176.  105.6\n",
      " 208.8 210.5 126.8 133.1 197.  142.5 153.  124.7 131.4]\n",
      "[ 19.9  19.9  19.9  19.9  19.9  19.9 108.5 113.5 114.6  89.6 137.  102.3\n",
      " 140.1 130.6 159.  114.5 117.3 127.8 134.8 151.1 131.1 104.9 166.3 147.9\n",
      " 111.5 114.7 106.5 141.7 162.3 146.5 134.3 111.3 155.3 141.4 109.9 119.1\n",
      " 140.4 125.8 142.7 174.6 104.2 128.4 135.9 114.2 145.9 135.5 120.5 152.6\n",
      " 135.1 166.5 162.4 118.7 135.9 137.4 127.4 144.1 140.2 134.3 103.4 164.5\n",
      " 169.3 138.8 157.1 132.7 159.1 129.6 149.7 128.7 148.9 121.3 145.4 192.9\n",
      " 153.1 160.2 127.  145.3 156.2 109.7 172.1 151.4 111. ]\n",
      "[ 13.   13.   13.   13.   13.   13.   85.8  81.6 102.2  76.4  74.2 102.\n",
      " 115.4 106.9 121.3 125.1 106.3 126.6 136.8 168.  111.3 117.2 142.3  88.2\n",
      " 150.5 135.8 122.3 201.6 124.7 152.2 129.6 175.4 154.3 155.6 143.1 145.2\n",
      " 149.2 144.9 121.5 132.9 180.8 211.1 126.9 117.7 123.  129.  131.8 140.1\n",
      " 159.  125.6 149.5 165.4 148.5 162.2 151.  129.6 120.3 142.2 125.8 149.2\n",
      " 196.6 149.9 128.  159.8 165.9 159.7 181.3 121.9 147.5 162.9 166.8 174.7\n",
      " 130.6 183.8 158.4 175.  128.3 184.  127.6 132.8 134.6]\n",
      "[ 15.8  15.8  15.8  15.8  15.8  15.8 105.3 140.  108.8 123.8 143.3 103.2\n",
      " 117.7  99.1 149.9 137.4 107.2 144.  129.1 140.7 128.4 109.4 113.  126.6\n",
      " 146.8 137.9  99.6 157.4 149.2 105.5 117.3 159.3 115.7 147.6 151.7 167.4\n",
      " 165.5 174.3 145.1 166.3 121.4 143.4 138.3 110.1 134.9 155.6 159.8 114.9\n",
      " 136.1 142.5 278.2 114.5 138.2 128.7 127.6 125.9 167.7 122.7 150.1 140.3\n",
      " 155.3 140.5 168.8 144.6 152.7 146.8 171.7 128.8 134.8 168.2 211.  139.8\n",
      " 184.5 182.5 147.1 124.5 137.1 104.3 162.9 168.2 159.3]\n",
      "[ 21.9  21.9  21.9  21.9  21.9  21.9 127.9 106.5 125.1 104.2 130.6 121.7\n",
      " 122.9 109.4 125.3 166.9 117.6 188.8 156.7 122.4 179.1 112.4 151.9 166.4\n",
      " 130.9 123.  161.9 169.7 128.2 156.7 178.4 144.3 130.4 129.4 117.6 149.8\n",
      " 133.9 143.3 161.1 100.3 148.5 146.5 155.  135.6 133.8 172.6 133.9 156.7\n",
      " 148.2 156.2 146.3 130.4 125.2 144.2 153.2 214.4 168.2 195.3 170.5 182.1\n",
      " 172.9 173.8 211.6 125.2 152.8 153.9 123.  162.2 167.9 132.  172.  131.8\n",
      " 140.5 157.6 129.2 131.9 138.  176.5 123.6 155.2 152.7]\n",
      "[ 10.8  10.8  10.8  10.8  10.8  10.8  88.5  56.   52.7  48.7  50.4 111.7\n",
      " 133.3 121.  113.  150.1 211.9 139.5 152.9 140.4 129.1 127.6 113.6 141.6\n",
      " 178.3 161.9 103.2 162.9 195.7 138.2 160.1 139.4 143.5 261.1 167.3 148.7\n",
      " 322.9 172.3 126.4 268.9 226.5 251.1 278.  177.6 335.7 186.4 224.1 311.9\n",
      " 328.7 179.8 177.2 352.7 307.3 260.  269.  227.7 211.5 297.9 212.8 234.4\n",
      " 291.6 273.3 148.6 315.2 294.5 299.5 281.5 248.9 232.5 211.6 315.1 248.2\n",
      " 330.4 184.2 423.6 349.  325.3 281.9 454.3 300.6 286.4]\n",
      "[ 10.   10.   10.   10.   10.   10.   76.3  47.   63.5  98.1  85.1  99.\n",
      " 100.2 134.4 102.5 167.  134.1 153.  126.8 115.6 110.5 115.2 151.4 116.2\n",
      " 207.1 138.  196.6 121.6 140.6 170.3 204.9 153.2 200.6 169.3 257.1 189.5\n",
      " 249.4 197.6 295.6 222.  262.2 319.4 219.  227.8 302.8 157.8 245.6 240.2\n",
      " 310.4 264.6 231.6 240.7 271.7 389.3 243.4 185.7 301.1 341.  338.2 306.\n",
      " 249.9 280.6 269.6 365.3 167.7 334.3 401.4 331.5 275.5 214.3 283.5 183.6\n",
      " 278.3 264.7 309.1 275.8 305.4 211.7 342.8 304.7 319.3]\n",
      "[  7.    7.    7.    7.    7.    7.   81.7  54.9  70.9 116.6 119.1 114.2\n",
      " 168.3 113.8 198.  126.3 144.3 124.9 104.9 146.8 119.8 169.2 142.1 152.3\n",
      " 112.2 124.8 167.6 246.  108.4 111.7 151.1 142.4 245.6 134.4 213.5 181.5\n",
      " 202.  219.8 224.3 256.3 237.  275.7 232.7 240.4 172.1 313.9 167.2 313.7\n",
      " 193.2 234.  307.  373.7 432.3 220.9 207.4 237.4 254.1 263.  318.5 329.7\n",
      " 267.2 128.6 181.6 273.  291.3 324.2 324.7 257.7 251.5 323.9 171.  168.5\n",
      " 180.  249.3 229.6 205.7 280.5 331.3 264.1 288.6 211.1]\n",
      "[  8.    8.    8.    8.    8.    8.   90.   66.   65.3  51.  107.2 108.2\n",
      " 135.  108.5 138.  182.6 163.4 155.9 134.4 158.4 139.4 161.9 161.9 195.9\n",
      " 187.1 181.2 175.7 147.1 153.6 226.2 250.6 228.8 189.3 206.9 279.4 162.2\n",
      " 272.2 238.  279.2 266.5 161.3 262.4 255.4 275.5 421.5 172.9 228.7 533.6\n",
      " 234.1 379.2 174.8 274.6 371.  370.5 372.5 346.  259.9 261.3 234.3 250.4\n",
      " 308.8 348.  377.9 388.7 364.6 305.3 220.  240.4 175.  202.5 159.3 187.2\n",
      " 303.7 294.4 459.5 262.7 320.6 340.  332.8 407.6 220.4]\n",
      "[ 11.   11.   11.   11.   11.   11.   51.1  51.5  61.3  45.3  79.3 104.6\n",
      " 158.9 123.8 120.  134.1 124.8 132.4 142.2 141.4 131.9 172.5 184.3 175.\n",
      " 131.3 118.6 128.4 126.  209.2 149.6 177.7 154.9 228.7 154.4 145.7 211.8\n",
      " 132.2 120.5 169.8 275.  184.5 193.6 166.4 181.1 168.6 184.  273.8 280.\n",
      " 130.5 200.7 195.2 165.4 170.8 167.2 306.4 423.6 196.8 239.3 172.3 382.9\n",
      " 302.9 254.1 300.6 362.3 277.4 247.9 189.2 286.6 333.1 270.  244.9 278.\n",
      " 270.4 216.5 180.1 247.7 253.3 353.5 177.3 168.3 206.6]\n",
      "[ 10.8  10.8  10.8  10.8  10.8  10.8  56.5  56.7  46.5  68.4 147.1 118.7\n",
      " 116.8 120.2 149.5 137.1 144.8 112.8 133.8 168.1 123.7 152.9 109.7 126.3\n",
      " 105.3 116.7 192.6 116.9 140.4 135.8 153.1 144.7 162.6 141.1 121.4 160.7\n",
      " 133.3 187.8 203.5 223.8 155.5 188.  149.3 177.  190.2 230.2 154.5 204.\n",
      " 285.2 219.  166.5 206.8 259.1 200.7 229.  238.8 232.4 267.5 293.8 208.\n",
      " 201.9 210.9 155.8 198.8 162.4 174.5 198.  257.8 205.7 287.1 234.6 169.7\n",
      " 165.4 196.  199.4 234.1 297.8 199.4 264.9 255.7 264. ]\n",
      "[ 10.   10.   10.   10.   10.   10.   67.8  54.2  53.8 117.7 130.4 151.5\n",
      " 136.6 177.5 107.9 107.1 141.  137.2 162.5 183.2 155.2 124.  178.5 119.1\n",
      " 196.5 186.7 130.9 157.9 123.9 122.7 180.9 228.7 121.8 165.9 158.2 185.8\n",
      " 153.5 173.4 146.  155.3 254.1 165.2 117.5 172.6 162.2 131.6 219.6 128.4\n",
      " 154.9 205.6 232.7 142.2 251.  238.5 199.1 183.6 187.7 165.  146.2 170.8\n",
      " 210.8 245.8 212.4 209.8 194.  223.8 227.2 219.  179.2 232.9 128.4 187.5\n",
      " 177.2 348.1 226.6 285.2 307.9 223.  246.3 186.2 188.1]\n",
      "[  7.    7.    7.    7.    7.    7.   77.3  64.1  77.9 106.4 109.7 142.7\n",
      " 142.2 207.8 123.4 109.4 149.8 159.1 157.1 163.4 129.3 115.6 127.3 111.2\n",
      " 146.  148.5 149.6 149.1 103.9 207.7 117.9 230.4 159.9 191.7 158.  184.2\n",
      " 114.7 155.9 145.4 143.9 198.4 177.5 202.8 210.2 170.5 161.4 193.8 174.2\n",
      " 250.  143.2 158.1 224.5 154.  155.2 412.3 234.6 156.3 306.4 242.7 139.6\n",
      " 229.3 177.1 255.6 199.5 168.1 174.3 158.8 189.  180.4 179.2 215.1 176.6\n",
      " 230.8 336.5 137.6 204.1 292.  226.  205.5 179.8 223.8]\n",
      "[  8.    8.    8.    8.    8.    8.   92.   61.8  46.5  63.  122.3 134.7\n",
      " 137.5 124.2 157.  125.1 144.8 115.7 172.  117.9 138.2 176.5 152.7 147.8\n",
      " 175.8 167.  196.7 141.9 165.5 201.8 117.9 136.2 173.1 261.9 252.7 118.1\n",
      " 206.9 158.5 251.4 117.3 271.2 167.1 220.2 170.2 211.7 282.  204.7 197.9\n",
      " 144.6 200.4 235.1 346.9 235.9 212.3 234.4 317.4 208.9 235.7 282.1 276.3\n",
      " 325.9 246.1 176.3 220.  181.9 135.9 148.3 172.2 216.1 348.4 158.8 199.5\n",
      " 220.8 243.7 172.5 197.8 257.7 303.6 253.5 161.9 148.7]\n",
      "[ 11.   11.   11.   11.   11.   11.   87.6  64.5  50.6  61.4 121.8 137.1\n",
      "  99.6 141.8 127.6 124.8 121.6 119.6 133.9 137.8 101.  161.4 135.4 194.1\n",
      " 114.5 140.6 131.9 113.2 118.  120.4 158.4 142.  178.  211.1 148.  135.3\n",
      " 210.3 167.6 192.6 159.8 141.3 188.6 197.  143.8 187.2 165.6 145.6 197.7\n",
      " 138.  192.2 145.7 167.1 143.9 153.7 162.9 178.2 185.9 241.3 128.  214.5\n",
      " 203.4 151.1 159.5 179.5 284.5 210.2 253.9 140.  282.7 201.2 243.4 160.9\n",
      " 222.5 168.1 100.  141.5 210.1 212.2 208.3 124.7  85.3]\n",
      "[ 10.8  10.8  10.8  10.8  10.8  10.8  62.6  48.7  44.5  51.4  61.6  94.8\n",
      " 131.5 110.3  91.3 104.9 169.5 193.1 115.7 121.3 148.4 145.1 106.3 146.1\n",
      " 119.5 145.6 110.6 152.9 118.7 179.9 191.2 145.5 143.3 166.7 157.8 141.\n",
      " 151.1 170.5 134.4 161.  171.7 148.8 105.2 211.  184.3 122.7 199.  166.7\n",
      " 201.1 166.5 179.2 201.7 158.9 221.8 197.9 195.2 237.4 150.1 143.  119.7\n",
      " 162.2 187.5 201.7  98.8 125.6 199.6  90.8 218.6 134.4 149.2 147.1 176.3\n",
      " 183.1 219.  222.9 226.2 149.  149.3 182.8 190.3 197.7]\n",
      "[ 10.   10.   10.   10.   10.   10.   71.2  60.7  55.5  85.8 125.7 132.1\n",
      " 109.6 121.4  95.9 121.2 148.5 143.8 119.5 138.6 118.3 185.7 143.3 138.5\n",
      " 168.6 138.3 118.3  95.5 173.5 158.2 166.5 162.1 159.1 131.3 141.8 167.2\n",
      " 135.9 193.2 146.8 127.6 176.8 162.6 166.6 195.5 138.9 167.5 153.1 134.3\n",
      " 190.7 171.7 170.4 204.8 288.2 192.7 172.6 236.5 120.3 146.8 212.1 142.1\n",
      " 226.1 284.8 260.8 232.7 180.5 213.3 247.6 164.8 303.3 237.6 159.3 194.6\n",
      " 159.  155.4 164.3 224.  230.  308.4 247.9 181.2 137.5]\n",
      "[  7.    7.    7.    7.    7.    7.   71.4  72.1 129.  130.7 108.1 101.8\n",
      " 147.6 141.7 235.7 152.4 158.4 143.  142.5 114.2 182.5 136.6 115.6 149.\n",
      " 186.1 112.1 189.4 139.2 186.8 167.2 170.1 193.2 156.4 171.3 164.9 227.9\n",
      " 155.1 167.9 206.7 146.2 117.9 251.9 220.  243.1 238.3 132.5 169.4 142.8\n",
      " 132.3 319.7 203.2 195.8 148.9 178.4 184.2 180.4 219.9 246.8 207.8 200.4\n",
      " 305.7 225.7 237.1 208.  175.8 303.8 239.7 199.3 160.1 139.6 216.3 169.1\n",
      " 237.7 165.8 226.1 187.3 247.7 151.4 106.7 251.5 148.6]\n",
      "[  8.    8.    8.    8.    8.    8.   77.2  53.4  49.7  54.4 125.  113.1\n",
      " 132.2 101.1 139.1 126.5 159.4 127.1 111.9 134.1 133.3 123.3 136.1 148.\n",
      " 160.1 181.  165.4 143.  139.  258.6 223.3 209.7 202.6 185.6 213.1 258.4\n",
      " 264.8 219.1 262.1 173.8 171.5 237.3 288.8 240.  186.9 261.2 170.7 189.\n",
      " 245.  266.  177.6 181.6 171.3 280.4 203.9 172.6 171.  149.1 161.4 279.6\n",
      " 142.2 257.4 344.3 298.3 136.5 252.3 235.3 218.9 167.7 155.4 141.2 192.8\n",
      " 187.8 164.8 242.1 274.8 182.2 192.8 189.6 187.5 202.1]\n",
      "[ 11.   11.   11.   11.   11.   11.   51.2  55.   57.8  41.4  74.5 101.9\n",
      " 109.  126.1 147.3 112.6  97.7 105.6 114.4 112.2 164.4 134.1 118.4 123.5\n",
      " 105.1 125.9 119.5 125.8 176.  117.5 153.2 175.9 135.3 115.8 141.  172.\n",
      " 123.2 162.8 141.1  99.3 138.2 171.4 113.4 152.2 133.3 147.  117.1 122.8\n",
      " 196.3 154.3 127.5 139.6 136.9 115.9  51.   99.7 142.7 171.8 167.7 119.3\n",
      " 162.5 159.3 232.6 200.2 227.7 204.3 139.  171.1 187.9 162.7 162.5 137.7\n",
      " 219.9 184.9 211.8 177.1 225.5 210.8 306.9 194.7 206.9]\n",
      "[ 10.8  10.8  10.8  10.8  10.8  10.8  56.3  52.4  58.1  66.7 112.7 113.5\n",
      " 116.6 136.7  86.9 131.6 161.9 164.  131.6 176.4 122.5 120.7 123.3 168.\n",
      " 107.2 164.5 158.4 230.5 131.6 103.7 144.9 188.3 144.5 128.2 126.8 109.8\n",
      " 214.8 164.4 212.9 158.3 263.3 152.7 159.8 188.8 236.3 188.3 140.7 204.1\n",
      " 266.5 159.4 187.5 312.2 140.  158.8 236.4 212.4 178.8 143.8 251.2 170.7\n",
      " 159.9 160.9 243.  149.  194.6 154.2 240.  142.4 255.  217.1 178.8 209.1\n",
      " 150.8 148.4 181.1 137.1 208.1 202.3 153.9 139.4 160.2]\n",
      "[ 10.   10.   10.   10.   10.   10.   58.   63.2  51.   52.  136.1 118.6\n",
      " 123.3 137.6 132.5 101.2 114.1  89.3 118.6 110.2 114.1 109.3 140.4 150.\n",
      " 127.1 118.7 157.3 126.7 196.6 141.  149.5 121.8 173.9 109.9 174.1 130.8\n",
      " 107.7 144.7 128.8 104.3 155.8 159.3 173.2 193.6 190.  146.7 126.7 146.7\n",
      " 117.8 170.1 170.5 221.7 144.  110.  169.5 143.2 166.7 134.  240.2 171.3\n",
      " 181.8 167.4 152.9 188.1 178.5 138.5 161.3 204.  185.3 179.9 164.8 184.9\n",
      " 330.5 194.2 139.1 153.6 194.6 151.3 176.6 162.8 182.6]\n",
      "[  7.    7.    7.    7.    7.    7.   88.   96.4  77.6 138.5 100.1 103.8\n",
      " 139.6 126.2 136.5 127.2 168.8 149.7 146.1 166.  181.6 127.  152.8 174.5\n",
      " 172.7 147.7 123.4 188.3 152.4 178.  136.3 215.4 142.7 176.6 147.  156.7\n",
      " 128.1 141.7 159.8 193.2 152.1 144.4 179.1 141.8 218.  188.8 141.5 135.8\n",
      " 168.9 216.5 224.9 179.3 174.4 173.2 155.4 193.2 207.4 159.3 178.5 208.\n",
      " 199.8 189.2 193.3 168.  212.8 143.7 246.4 182.8 272.5 148.5 134.9 185.7\n",
      " 124.6 155.2 190.1 130.  184.3 181.2 163.8 128.9 158.9]\n",
      "[  8.    8.    8.    8.    8.    8.   75.4  50.1  52.9  52.6 131.1 136.6\n",
      " 119.1 105.6 129.8 115.5 120.  131.2 110.4 127.1 130.9  95.4 112.7 156.8\n",
      " 145.8 146.7 136.9 169.  154.5 119.6 171.1 167.9 177.1 158.4 220.9 141.7\n",
      " 292.8 167.1 169.6 159.9 202.3 154.9 132.9 188.8 194.5 170.3 240.6 199.3\n",
      " 226.8 250.5 146.9 165.5 115.6 171.5 154.  159.8 228.7 241.9 185.8 171.1\n",
      " 204.6 174.8 271.8 179.9 130.1 227.4 213.6 221.5 182.  217.2 149.9 272.4\n",
      " 232.4 143.8 182.7 236.  185.9 177.1 180.2 190.9 188.2]\n",
      "[ 11.   11.   11.   11.   11.   11.   67.6  58.7  52.9  56.3  81.5 108.7\n",
      "  98.8 135.4 143.4 138.7 108.2 129.3 105.   96.3 117.3 107.8 133.2 127.2\n",
      " 154.9 113.4 139.2 155.3 175.  171.5 116.9 127.8 135.6 134.4 141.7 148.\n",
      " 146.7 134.4 101.5 103.9 155.  131.  101.5 177.6 191.9 129.3 193.5 159.9\n",
      " 183.6 165.5 149.5 135.8 133.4 195.1 159.5 162.  241.4 244.6 198.8 173.5\n",
      " 186.6 217.4 159.  165.3 138.5 162.3 337.  167.2 132.3 216.1 221.  281.2\n",
      " 155.8 287.3 127.8 200.9 189.2 192.1 203.6 161.5 222.5]\n",
      "[ 10.8  10.8  10.8  10.8  10.8  10.8  77.1  55.5  49.5  82.3 108.6 107.6\n",
      " 104.8 108.6 107.8  97.4 111.1 109.4 118.8 137.   83.7 139.5 139.1 150.\n",
      " 128.6 139.8 142.3 110.7 166.5 160.8 161.9 161.1 136.9 138.1 142.9 131.1\n",
      " 114.  227.  112.  182.1 118.9 152.4 152.8 196.8 155.7 166.4 134.4 139.3\n",
      " 108.9 178.4 145.9 181.3 191.7 127.9 177.6 147.5 164.  240.3 182.  139.\n",
      " 136.6 166.1 178.6 142.6 249.6 144.3 129.9 134.6 154.2 221.4 140.8 133.5\n",
      " 225.  219.5 186.  169.3 181.1 149.6 156.4 158.5 228.5]\n",
      "[ 10.   10.   10.   10.   10.   10.   54.3  52.9  51.6  97.9 123.  103.9\n",
      "  99.5 140.5 121.6 155.4 121.1 126.7 123.1 150.1 114.4 122.7 100.9 105.6\n",
      " 162.7 117.6 121.2  94.2 117.3 126.1  99.8 116.9 117.4 155.5 167.4 215.5\n",
      " 149.5 133.5 109.2 130.7  90.7 173.4 179.1 107.5 110.2 159.5 119.2 117.3\n",
      " 100.4 158.6 137.8 197.2 209.2 175.1 161.  159.2 157.3  88.1 131.2 193.6\n",
      " 131.6 132.4 175.6 190.7 208.2 176.7 195.3 268.  129.  118.4 147.7 182.6\n",
      " 175.7 128.4 153.6 219.1 160.4 249.1 148.8 158.4 180.4]\n",
      "[  7.    7.    7.    7.    7.    7.   82.   61.8  99.3 146.2 149.8 101.5\n",
      " 103.9 103.4 140.  134.6 147.  143.3 134.2 185.7 166.7 147.7 116.  150.1\n",
      "  94.8 199.4 117.6 118.6 161.1 138.5 173.8 121.2 193.  179.1 170.6 134.4\n",
      " 114.6 204.7 134.7 130.  129.5 193.3 162.6 201.4 144.9 120.3 150.6 154.4\n",
      " 163.4 164.2 240.3 138.5 158.1 136.3 177.9 177.3 171.7 211.2 167.7 113.5\n",
      " 192.4 136.6 163.4 175.7 207.3 154.3 165.9 170.1 228.  157.2 195.8 178.3\n",
      " 161.9 168.3 113.5 149.9 166.4 133.8 136.9 173.6 173.7]\n",
      "[  8.    8.    8.    8.    8.    8.   77.4  50.5  47.1  77.4 108.9 116.\n",
      " 105.1 117.7 106.3 105.8 119.1  92.  126.6 127.1 112.6 123.4 140.9 143.\n",
      " 127.  106.  120.2 151.3 147.6 178.9 208.2 176.1  93.6 148.6 156.5 219.4\n",
      " 129.1 145.9 135.8 140.8 149.6 121.8 182.4 118.9 115.6 140.8 152.1 122.1\n",
      " 192.2 125.9 200.4 212.1 155.2 135.7 114.  173.1 170.3 143.  182.1 188.4\n",
      " 181.8 239.6 126.9 143.9 155.8 213.3 155.  180.3 162.9 186.2 142.9 197.7\n",
      " 177.7 149.5 191.  201.3 199.7 201.1 184.9 137.2 178.5]\n",
      "[ 11.   11.   11.   11.   11.   11.   62.1  48.8  60.1  89.4  92.1 116.3\n",
      " 114.1 109.  112.7 117.3 114.2 156.5 114.6  93.9 115.3 101.   97.3 111.9\n",
      " 113.8 111.1 109.6 155.4 128.3 127.2 114.  124.9 145.1 120.3 128.6 152.9\n",
      " 123.7 124.2 131.7 168.1 116.4 140.1 195.4 135.8 120.5 139.9 120.3 128.7\n",
      " 149.8 212.9 201.1 135.1 117.3 117.5 218.3 182.  216.6 165.5 161.5 109.3\n",
      " 223.3 178.6 125.2 196.1 194.6 177.4 161.1 147.8 175.1 153.8 192.9 137.3\n",
      " 224.2 220.2 171.  181.9 124.3 134.7 174.2 173.1 145.4]\n",
      "[ 10.8  10.8  10.8  10.8  10.8  10.8  90.2  52.9  39.   52.6  62.4  87.9\n",
      " 115.8 144.7 130.7 112.7 117.7 111.1 121.1 128.2 120.5  98.1 101.9 129.6\n",
      "  97.3 122.5 131.8 143.2 136.8 125.2 137.7 106.1 159.1 107.2 124.8 163.\n",
      " 123.8 139.4 128.4 161.3 146.8 168.7 148.1 163.3  78.  142.7 243.3 184.6\n",
      " 177.8 125.5 250.4  91.7 118.  113.5 148.1 133.4 178.8 186.2 163.6 218.9\n",
      " 139.  154.3 161.6 154.4 125.3 152.7 128.8 163.7 147.2 202.3 143.9 180.8\n",
      " 191.2 168.9 175.7 180.7 140.9 135.5 130.7 132.  119.6]\n",
      "[ 10.   10.   10.   10.   10.   10.   54.3  55.1  57.   86.2 103.8  96.\n",
      " 129.2 146.2 102.6 145.6 114.  123.2  91.6 123.7 112.  107.7 113.9 130.4\n",
      " 114.2 144.6 123.9 101.3 113.9 128.3 122.7 134.5  89.9 115.4 109.6 121.5\n",
      " 113.6 146.9 135.4 190.1 129.2 104.4 150.7 199.9 120.5 110.5 133.  131.5\n",
      " 111.8 121.2 129.5 137.7 135.5 185.8 129.6 168.6 127.7 170.5 125.2 134.9\n",
      " 135.5 105.1 184.2 143.7 111.1 172.2 129.4 113.6 171.2 163.8 170.  126.9\n",
      " 156.6 181.8  97.4 150.9 170.1 181.8 123.8 158.8 158.4]\n",
      "[  7.    7.    7.    7.    7.    7.   96.6  43.1 112.8 107.5 117.4  97.8\n",
      " 110.6 118.8 121.1 139.1 105.  109.7 143.9 124.  106.9 110.5 115.  119.3\n",
      " 117.2 116.4 122.5 124.2 148.8 108.3  99.9 125.5 121.4 119.1 118.6 144.7\n",
      "  99.  167.2 148.3 116.  161.7 147.1 112.4 125.1 123.  111.5 135.2 166.5\n",
      " 103.4 125.7 150.9 146.7 153.7 133.3 160.4 132.3 133.7 140.2 115.6 122.8\n",
      " 100.7 128.6 103.4 177.5 147.5 218.1 156.3 180.9 211.4 136.4 143.4 120.3\n",
      " 122.9 159.7 161.7 184.6 190.4 128.2 147.4 170.8 165.7]\n",
      "[  8.    8.    8.    8.    8.    8.   68.6  53.7  53.  114.3 130.6 114.\n",
      " 115.  118.2 121.6 127.6 159.  153.2 129.5 123.4 123.8 147.3 143.3 110.7\n",
      " 185.7 124.3 102.3 159.7 107.6 144.  136.5 123.  110.  117.  158.  147.1\n",
      " 149.2 168.  136.4 140.3 146.3 179.  210.6 205.  251.9 188.  163.9 224.5\n",
      " 151.8 166.8 143.8 162.6 211.3 256.9 185.5 163.9 201.4 167.3 195.2 173.4\n",
      " 145.  137.5 267.4 147.4 145.3 174.7 150.1 139.1 221.2 124.4 224.2 192.7\n",
      " 141.8 197.4 123.2 134.7 185.2 163.8 136.6 156.9 146. ]\n",
      "[ 11.   11.   11.   11.   11.   11.   62.6  47.5  49.4  45.9  69.   90.1\n",
      " 101.5 127.5  96.  114.5 107.8  98.7 114.3 145.5  87.1 113.5 129.4 128.7\n",
      " 110.5 105.8 106.3 117.5 120.8 133.  119.4 149.2 119.5 119.5 106.5 130.7\n",
      " 138.5 166.5 148.2 119.  120.7 154.9 166.  142.8 139.3 129.9 149.  136.5\n",
      " 114.8 120.6 137.1 136.  143.2 126.7 122.9 131.5 132.5 126.8 147.2 134.6\n",
      " 141.5 109.8 197.2 144.9 145.  142.3 161.6 121.8  98.3 143.3 164.8 186.6\n",
      " 195.7 129.1 146.  133.6  89.9 168.5 159.9 123.1 188.7]\n",
      "[ 10.8  10.8  10.8  10.8  10.8  10.8  48.9  51.6  45.7  53.5  70.  117.8\n",
      "  94.6  98.6 110.  113.2 123.5 115.3 117.4 104.9  98.2 136.6  94.7 115.2\n",
      " 204.3 151.4 116.6 116.9 125.8 122.8 121.9 112.1 123.5 155.4 124.7 175.9\n",
      " 116.5 114.1 137.8 134.3 169.3 140.9 177.2 218.8 167.7 152.9 116.2 152.1\n",
      " 142.  164.9 181.7 146.  169.4 163.2 198.9 132.5 149.9 127.4 117.4 251.4\n",
      " 123.6 157.5 158.5 161.2  87.5 111.2 129.3 138.1 112.8 169.  176.9 178.5\n",
      " 111.7 126.3 122.1 162.2 255.9 153.3 111.  143.6 153.2]\n",
      "[ 10.   10.   10.   10.   10.   10.   64.9  47.3  51.5  92.  104.6 107.6\n",
      " 102.8 117.2  99.1 110.7  98.  126.7 128.6 113.  117.  107.1 112.  107.1\n",
      " 135.5 153.3 130.2 109.7  94.8 138.3 127.7 153.2 134.5 131.7 111.8 117.8\n",
      " 112.6 156.1 127.2 132.3 152.9 158.7 137.2 173.3 107.1 139.2 136.2 155.9\n",
      " 154.5 136.7 105.7 145.2 138.1 183.8 214.  102.5 164.3 131.1 136.5 194.4\n",
      " 168.8 120.6 151.5 130.1 129.6 123.1 116.8 111.8 182.2 207.3 129.2 124.9\n",
      " 127.8 179.9 151.1 114.2 169.7 139.8 154.9 122.8 130.9]\n",
      "[  7.    7.    7.    7.    7.    7.   89.3  54.9 101.1  92.5  91.1 112.4\n",
      "  99.4  86.4  87.6 106.8 124.2 108.2 128.5 114.5 104.6 115.9  91.4 107.5\n",
      " 126.2 103.4 127.2 115.9 141.6 121.7 164.9 122.5 122.1 101.9 135.8 111.3\n",
      " 127.2 144.7 122.6 121.5 118.6 108.2  85.8 153.6  93.1 209.7 151.3 123.2\n",
      " 177.2 164.2 142.6 146.  110.7 115.7 202.2 164.7 188.6 117.5 132.8 134.2\n",
      " 182.1 127.4 137.1 164.6 160.1 196.2 160.5 128.3 198.5 122.5 245.  151.7\n",
      " 186.9 132.6 154.2 123.  124.5 134.5 156.9 108.7 146.1]\n",
      "[  8.    8.    8.    8.    8.    8.   56.5  47.3  47.8  67.7  91.9 119.9\n",
      " 108.3  86.4 112.2  99.8 126.2 109.4 102.4  98.2  96.8 140.8 141.1 121.4\n",
      " 108.3 131.6 138.9  92.4 105.2 102.2 117.2 114.8 165.8 118.   84.3 131.2\n",
      " 165.  104.  156.8 113.5 109.6 147.9 112.3 219.  129.6 136.5 171.  125.3\n",
      " 142.9 140.1 112.5 144.1 127.9 168.7 161.3 117.9 120.4 135.4 114.6 143.8\n",
      " 133.  154.8 120.4 123.3 163.  161.7 108.4 159.2 144.9 163.3 128.9 152.6\n",
      " 142.2 117.  171.3 163.5 181.7 196.6 132.7 131.7 143.4]\n",
      "[ 11.   11.   11.   11.   11.   11.   61.7  49.5  37.6  50.1  64.  108.\n",
      " 161.6  98.3  99.   84.4 120.4 104.9 110.6 128.  110.4 134.9 116.6 107.7\n",
      " 109.7 125.   95.9 131.7 115.1 105.  115.7 116.6 114.5 107.5 131.1 121.\n",
      " 157.9 121.  127.1 141.6  96.2 115.2 140.6 122.2 112.7 136.9 136.  122.5\n",
      " 144.9 106.3 138.7 120.9 140.5 175.7 126.4 133.8 143.7 112.4 152.8 122.1\n",
      " 122.9 137.9 147.6 115.2 108.9 129.2 145.9 176.4 173.4 190.7 122.2 149.1\n",
      " 120.5 109.5 142.1 211.9 136.4 152.1 145.7 114.3 141. ]\n",
      "[ 10.8  10.8  10.8  10.8  10.8  10.8  76.3  52.5  60.2  72.9  74.6  58.2\n",
      " 116.2 119.5 115.3 107.8 114.4  82.7 117.9 120.8 130.3 125.4  90.6 108.4\n",
      " 110.6 110.1 130.   96.5 127.9 108.2 144.3 159.1 133.5 144.9 130.  108.6\n",
      " 178.4 171.2 152.8 100.3 159.7 139.  153.  183.  100.  171.7 107.5 131.2\n",
      " 125.9 116.1 121.1 132.6 119.1 154.  116.8 143.  160.6 183.8 133.9 163.7\n",
      " 152.  126.  153.1 105.3 138.9 101.3 117.4 166.2 162.2 122.8 137.  137.9\n",
      " 127.6 206.8 146.7 183.  173.9 167.  128.  118.9 154.2]\n",
      "[ 10.   10.   10.   10.   10.   10.   73.6  46.   51.8  50.9 121.7 104.1\n",
      " 102.1 111.7 103.  105.8  87.4 109.  117.3 134.7  99.7  88.4 109.9 117.3\n",
      "  95.6 103.1 136.7 139.  120.8 105.1 117.8  87.2 161.7 117.5 106.4 116.2\n",
      " 113.  102.2 117.9 130.1  90.8 146.7 130.1 124.8  95.3 112.   95.4 109.3\n",
      "  90.3 117.4 200.5 164.8 127.5 154.5 127.2 136.2 119.3 152.1 133.9 158.1\n",
      " 104.9 141.5 143.6 224.3  93.7 144.7 116.2 170.2 111.2 145.  119.3 152.7\n",
      " 132.8 158.6 141.3 134.1 113.7 129.1 150.1 165.4 114.8]\n",
      "[  7.    7.    7.    7.    7.    7.   75.1  53.1  79.1 120.3 129.9 104.8\n",
      " 114.4  95.3 123.1 111.8 120.  109.4  88.9 122.7 111.4 114.1 107.2 117.5\n",
      " 106.3  95.9 111.6 126.8 109.2 135.3 121.8 103.   99.3 122.8 123.1 106.5\n",
      " 111.7 167.7 145.5 150.9 117.  152.7 136.8 117.9 136.6 162.7 113.8 115.5\n",
      " 194.9 113.3 148.6 145.2 112.8 129.9 128.4 152.  169.6 146.2  87.9 105.5\n",
      " 182.7 138.4 165.9 116.7 148.3 177.7 133.8 140.3 100.5 149.8 119.6 133.6\n",
      " 178.4 123.3 169.6  91.9 145.2 151.1 149.6 105.5 144.2]\n",
      "[  8.    8.    8.    8.    8.    8.   91.9  60.7  48.6  48.7 100.5  90.6\n",
      "  99.   84.5 115.5 110.  102.9 119.9 104.9 131.3 142.4 121.3  98.1 105.7\n",
      " 119.4 128.  119.6 113.6 100.   96.5 105.3  99.9 127.1  86.2 112.  146.5\n",
      " 156.6 151.6 142.7 145.  166.3 107.9 174.  192.3 142.7 123.  188.9 126.8\n",
      " 146.1 126.8 199.1 182.3 145.2 116.9 147.8 136.9 169.5 153.2 151.5 143.7\n",
      " 137.7 201.3 144.6 157.6 166.1 145.9 138.4 180.6 147.4 121.4 126.9 115.\n",
      " 202.5 154.6 167.7 175.9 168.2 170.2 137.9 181.9 211.2]\n",
      "[ 11.   11.   11.   11.   11.   11.   69.9  53.6  50.5  47.6 105.6 114.4\n",
      " 159.  103.7 111.9 128.1 120.3 124.1 127.1  89.8 100.  106.9  89.3 114.4\n",
      " 111.3 109.3  98.7  93.3  98.8 118.8  97.9 113.8 101.8 109.6 110.7 131.6\n",
      "  95.1 109.7 104.3 152.9 128.9 151.1 168.4 172.5 124.7  99.9 113.  144.8\n",
      " 133.1 143.2 133.8 127.6 115.9 136.2 134.9 113.6 116.2 106.7 135.4  93.1\n",
      " 134.9 118.5 140.5 139.3 108.8 130.  112.5 116.9 117.7 126.2 133.7 140.1\n",
      " 116.8 100.6 134.4 134.4 133.  133.7 178.9  97.9 115.4]\n",
      "[ 10.8  10.8  10.8  10.8  10.8  10.8  77.6  54.9  52.8  50.3  63.  123.\n",
      " 109.3 109.3 116.2  97.5 130.3  91.  112.6  93.6 102.7 115.4 100.4  94.6\n",
      " 124.4 116.2 107.4 152.3 120.9  99.5  93.   99.3 112.5 120.8 116.5 124.7\n",
      " 123.  134.3 103.2 113.6 102.5 132.9 132.1 131.6 127.5 142.8 172.8 110.9\n",
      " 105.4 116.7 164.3 124.7 107.1 160.9 149.6 158.1 136.7 134.1 115.8 127.7\n",
      " 112.8 134.  171.  168.5 138.3 101.8 138.9 126.8 154.4 156.3 139.2 105.2\n",
      " 146.1 116.5 150.6 120.5 132.1 137.7 111.8 158.7 129.7]\n",
      "[ 10.   10.   10.   10.   10.   10.   73.5  52.   66.7  62.7 123.8 101.6\n",
      "  86.5 104.6 137.7 114.4  86.7 115.7 129.9 126.7  99.4 108.8 126.6 155.8\n",
      " 117.7 124.8 123.7 137.2 134.3 105.9 128.9  95.7 125.9 129.1 119.7 114.8\n",
      " 117.4  98.8  89.4 123.2 113.7 135.  155.9 178.  131.4 132.4 105.2 144.\n",
      " 163.1 123.6 110.1 133.6 187.4 190.  143.5 136.2 131.3 153.9 136.6 143.\n",
      " 119.7 141.9 150.1 172.3 166.1 198.7 100.2 136.9 153.4 112.4 115.5 151.3\n",
      " 142.2 125.5 128.8 141.6 122.6 107.  140.  160.3 153.1]\n",
      "[  7.    7.    7.    7.    7.    7.   72.2  81.2  95.4 107.6 115.9 109.4\n",
      " 102.7 122.  115.7 111.7 111.7 113.8  93.3 114.2 114.7 141.7 113.  107.3\n",
      "  99.4 109.3 141.7 102.6 137.   99.7 106.8 105.6 109.5 116.3 102.6 140.9\n",
      " 111.3 131.1 156.9 171.5  97.3 133.5 112.1 156.8 124.1 191.6 124.8 133.4\n",
      " 118.4 120.6 126.4 106.5 112.5 154.3 128.1 130.  112.9 154.8 151.2  96.\n",
      " 102.3 172.   99.6 176.8 127.2 131.  156.1 126.  162.8 133.5 173.3 154.\n",
      " 135.4 149.5 129.9 140.9 141.2 120.6 129.6 121.1 176.6]\n",
      "[  8.    8.    8.    8.    8.    8.   79.5  68.   92.6 100.   96.  105.\n",
      " 111.2  99.8 112.3 120.2 112.9 143.9  95.9 114.1 159.9 110.4 109.2  92.1\n",
      "  84.2 112.3 111.5 123.5 112.9 150.4 130.6 104.8 106.2 126.7 112.7 178.\n",
      "  96.5 149.3 138.8 118.  119.2 169.3 143.3 146.3 167.4 129.7 146.8 142.3\n",
      " 143.8 139.8 145.2 117.7 128.1 110.3 140.  126.4 124.1 122.  120.6 131.8\n",
      " 163.2 150.4 166.9 104.7 117.9 171.5 115.5 136.7 247.2 117.4 117.7 114.\n",
      " 225.8 165.8 130.5 110.9 119.9 138.9 162.9 169.6 228.2]\n",
      "[ 11.   11.   11.   11.   11.   11.   60.7  50.8  76.   50.8  98.4  87.9\n",
      " 127.6 125.8 115.3  87.5 114.3 123.6  98.5 110.4 104.7  98.2 117.3 107.2\n",
      " 112.5 111.8  90.8 114.7 107.4 112.4 147.7 106.  143.6 111.3 107.4 141.9\n",
      " 121.4 112.8  96.2  93.9 101.9 140.9  96.7 148.9 121.7 120.4 210.1 123.9\n",
      " 115.5 162.3 171.  127.1 113.6 142.3 132.9 134.2 109.2 103.4 158.8 105.6\n",
      " 149.  109.1 161.2 103.9 178.2 119.  132.  158.4 156.6 124.8 156.8 169.6\n",
      " 126.4 121.8 131.8 109.1 126.7 126.5 132.5 110.  126.7]\n",
      "[ 10.8  10.8  10.8  10.8  10.8  10.8  65.8  62.8  51.4  49.   53.1  77.3\n",
      " 106.2  92.9 118.5 105.4 122.4 107.7 115.1 106.8 103.3 102.4  87.7 104.8\n",
      " 118.4 115.2 102.5 163.6  96.4  99.2  99.5 120.8 119.3 117.1 105.2 192.3\n",
      " 151.9 140.8 119.6  84.3 108.3 142.3 101.   98.2 124.9 142.1 122.6 137.\n",
      " 122.  112.5 123.  179.7 168.4 175.6 131.1 101.6 169.4 115.1 113.7 121.1\n",
      " 122.6 172.8 142.4 126.5 158.1 116.6 148.2 133.3 151.7 169.9 148.3 122.9\n",
      " 130.9 124.  144.  105.1 138.6 145.1 195.5 165.6 119. ]\n",
      "[ 10.   10.   10.   10.   10.   10.   72.2  50.7  59.3  89.3 100.2 115.2\n",
      " 112.2 107.9 100.5 113.5 112.7 121.3 122.3 125.2  99.6 114.5 127.7 118.3\n",
      " 119.2 121.5 125.1 106.1 153.8 117.4  96.1  92.  141.8 107.6  95.2 128.4\n",
      " 103.5  97.8  86.9 140.8 113.  120.  130.4 113.3 133.1 120.4 137.4 109.\n",
      "  74.1 137.3 128.7 109.7  95.8 144.9 133.5  99.8 158.6 168.6 155.8 130.1\n",
      " 156.2 116.3 114.6 107.2 100.8 174.5 150.1 152.1 186.2 144.8 121.  158.6\n",
      " 141.9 123.3 205.6 204.4  97.3 133.5 131.5 165.1 125.4]\n",
      "[  7.    7.    7.    7.    7.    7.   73.9  52.9  68.2  96.9 106.8 100.9\n",
      " 105.7 135.3 111.9 111.3  98.8 101.5  97.8 124.  101.  106.4 125.6  93.6\n",
      " 101.2 140.5  95.   96.1 106.8 110.9  96.4 107.9 152.4  93.8  93.5 108.\n",
      " 122.3 115.7 107.6 118.5 108.1 112.4 104.9 106.7  96.4 105.9 115.5 106.5\n",
      " 117.3 113.5 119.3 108.5 112.4 148.8 121.2  95.2 137.8 125.6 132.6 114.1\n",
      " 135.  123.1 109.5 109.2 143.  107.6 164.   88.8 133.1 110.5 146.  150.4\n",
      " 160.4 131.3 152.3 124.9 139.  132.3 118.9 169.  120. ]\n",
      "[  8.    8.    8.    8.    8.    8.   75.8  56.9  67.1  55.   85.   93.2\n",
      " 128.8  85.  115.  137.8 104.4  96.1  97.  120.  107.6  82.5 126.3 132.1\n",
      " 114.5 139.4 184.  170.3 132.4 114.5 110.3 111.5  95.9 117.7 121.7 133.1\n",
      "  97.1 177.3 130.8 173.6 122.1 142.  164.7 120.7 149.9 133.6 108.9 170.9\n",
      " 123.3 212.  131.7 108.6 129.  106.  124.9 116.5 129.5 115.5 148.7 108.\n",
      " 109.4 143.6 128.8 165.9 162.8 125.1 117.4 132.  158.7 100.8 163.8 137.3\n",
      " 129.6 119.8 189.1 164.6 151.6 138.1 134.2 101.8 168.9]\n",
      "[ 11.   11.   11.   11.   11.   11.   82.4  45.3  55.9  86.6  69.2  94.6\n",
      " 113.5 101.   93.7 106.4  87.4  91.1 110.5 119.8 127.9 107.  117.9  91.7\n",
      "  99.5 125.8  96.1 113.5 107.2 106.7 120.4 126.5 126.6 105.   98.4 106.4\n",
      " 126.7 103.9 121.7 156.6 118.3 107.9 111.5 162.7 149.9 201.9 131.7 117.7\n",
      " 107.5 115.9 143.8 127.7 110.7 141.4 108.2 136.8 129.3 158.4 136.8 158.7\n",
      " 162.5 211.4 115.5 142.3 135.9 174.3 222.2 150.6  93.7 120.  153.4 127.1\n",
      " 149.3 119.3 112.8 121.  183.5 139.  124.3 131.1 146.9]\n",
      "[  5.6   5.6   5.6   5.6   5.6   5.6  31.2  35.1  39.8  41.1  72.4 113.6\n",
      " 112.3  83.7  85.4 167.7 146.9 120.2 108.  184.1 114.  122.8 267.5 151.3\n",
      " 133.5 193.  158.5 168.  222.6 276.2 155.3 171.9 163.7 160.3 186.3 252.7\n",
      " 165.1 217.2 244.5 241.4 184.  175.9 188.3 177.1 215.3 179.3 150.7 169.3\n",
      " 214.3 254.3 178.6 200.2 223.1 221.7 268.  129.6 108.8 166.6 204.5 283.7\n",
      " 212.6 222.8 244.  148.  248.7 195.4 191.3 243.4 129.9 244.7 168.7 171.2\n",
      " 184.  202.4 229.4 213.7 238.4 185.1 153.2 158.5 222.4]\n",
      "[  5.    5.    5.    5.    5.    5.   26.4  30.8  34.2  34.7  33.8  36.6\n",
      "  43.5  51.   75.3  94.9  84.1 110.9 122.5 197.8 164.  108.7 131.8 143.5\n",
      " 140.6 111.6 154.8 115.1 192.6 143.5 184.7 105.6 105.  148.8 120.7 123.2\n",
      " 103.  128.2 140.1 139.7 174.7 126.2  97.3 148.7 153.8 214.4 207.4 158.\n",
      " 103.5 179.9 154.3 193.3  56.2 170.1 136.9 112.5 165.7 157.6 140.9 166.3\n",
      " 125.5 153.4 244.2 200.7 257.4 182.8 177.7 101.9 119.9  88.1  74.7  80.1\n",
      "  76.4  70.7  64.6  57.7  52.9  57.3  56.8  62.8  59.3]\n",
      "[  4.    4.    4.    4.    4.    4.   55.3  40.4  31.   34.6  43.8  81.\n",
      "  76.4 100.9  99.5 105.6 102.5  95.9 112.8 129.4 111.2 119.6 128.1 104.8\n",
      " 108.8 107.7 110.  175.1 153.5 165.9 185.8 171.3 132.9 162.6 195.8 186.6\n",
      " 192.4 145.6 169.7 246.8 159.9 221.1 191.9 144.1 140.1 177.2 195.6 143.7\n",
      " 202.1 171.4 208.3 174.6 191.3 161.3 189.8 197.8 177.8 144.8 177.3 156.9\n",
      " 174.1 173.1 270.  229.6 248.2 243.9 193.  155.3 241.8 185.9 203.4 181.1\n",
      " 242.6 165.4 239.2 189.5 133.5 204.3 196.7 255.  121.9]\n",
      "[  4.3   4.3   4.3   4.3   4.3   4.3  45.5  35.6  38.5  42.9  96.2  61.6\n",
      "  95.7  96.5 108.9 107.6 119.2 112.5 128.3  99.3 120.3 138.5  93.  150.1\n",
      " 131.8 137.1 148.1 155.2 137.8 130.9 159.5 215.4 212.4 283.6 239.6 163.3\n",
      " 263.6 167.2 210.5 206.6 171.9 222.8 159.5 287.1 227.4 242.  180.9 204.3\n",
      " 164.3 197.  174.  126.6 269.9 286.9 182.6 129.4 138.9 336.7 191.3 225.5\n",
      " 205.9 150.2 194.5 144.5 132.6 237.  221.3 265.3 153.6 225.4 117.1 216.7\n",
      " 161.4 237.9 185.2 195.9 200.6 221.3 153.7 242.7 181.2]\n",
      "[  5.8   5.8   5.8   5.8   5.8   5.8  24.1  44.8  61.4  33.   36.9  44.9\n",
      "  46.9  37.2  35.   36.5  42.2  51.8 100.2 105.9  94.5 104.5 119.5 165.4\n",
      " 102.6 117.  144.8 117.5 138.3 156.7 134.5 138.3  77.6  53.4  67.2  94.6\n",
      " 132.8 129.6 147.1 137.8 133.9 128.2 179.9 141.2 106.1 129.  159.5 213.3\n",
      " 169.7 180.  151.2 169.8 170.3 229.7 139.3 200.8 113.1 182.6 213.  181.6\n",
      " 158.9 243.8 226.4 223.9 145.4 213.5 236.5 211.7 142.1 191.2 138.  129.6\n",
      " 250.8 223.4 175.1 205.4 215.2 194.  212.2 246.5 136.9]\n",
      "[  5.6   5.6   5.6   5.6   5.6   5.6  28.   34.5  29.7  46.6  46.6  72.2\n",
      " 159.7 114.2 101.7 125.5 131.9 135.3 165.8 128.4 105.3 117.9 144.2 156.3\n",
      " 146.2 109.7 150.8 182.  138.7 116.2 112.  165.2 113.3 168.5 187.5 182.4\n",
      " 225.7 146.2 166.3 138.3 186.1 192.4 172.1 151.2 198.8 159.2 131.2 170.2\n",
      " 184.2 178.6 167.  183.8 185.3 114.9 242.3 187.2 150.  129.6 205.1 199.\n",
      " 112.9 174.4 199.7 176.5 169.1 164.1 140.1 176.  169.9 184.3 120.4 224.\n",
      " 108.4 186.4 237.  148.7 141.  198.6 157.6 136.  181.5]\n",
      "[  5.    5.    5.    5.    5.    5.   29.3  32.4  26.4  28.   29.   47.5\n",
      "  44.7  57.3  35.2  31.3  31.   36.   43.9  36.5  44.2  55.5  97.8 106.6\n",
      " 124.3 136.2 136.6 133.8 105.4 111.9 120.3 177.5 185.2 188.6 183.8 130.3\n",
      " 119.9 138.1 167.2 170.3 187.2 121.2 104.4 159.5 156.  166.8 169.4 151.5\n",
      " 138.7 111.4 119.  152.4 127.  124.5 137.9 165.9 142.5 135.6 184.7 127.\n",
      " 113.1 130.1 120.   94.8 101.7 196.9 109.8 116.2 126.2 102.5 143.8 119.5\n",
      " 146.6 151.  173.7 170.2 132.1 139.9 103.  188.8 135.6]\n",
      "[  4.    4.    4.    4.    4.    4.   47.   39.2  38.6  55.1  53.5  92.7\n",
      " 108.3 113.9 100.2 115.6  83.8  95.  123.2 122.8 106.6 159.7 120.4 126.6\n",
      " 135.3 165.9 208.3 216.2 182.  186.9 162.5 130.4 107.9 201.2 158.5 144.2\n",
      " 183.  149.5 223.5 131.8 154.4 197.6 128.3 175.1 145.1 172.7 162.6 165.5\n",
      " 181.4 138.1 180.3 152.1 172.  179.6 185.7 193.7 189.5 190.2 175.5 171.1\n",
      " 150.1 184.  277.  172.  220.3 201.4 186.5 156.7 173.5 132.  100.9 124.7\n",
      " 141.3 148.3 148.2 151.7 125.6 113.8 210.4 135.7 212.7]\n",
      "[  4.3   4.3   4.3   4.3   4.3   4.3  28.5  28.4  35.7  39.5  75.1  66.8\n",
      "  89.7 115.9 100.   72.2  20.   23.   30.7  35.4 101.6 120.1 116.6 112.8\n",
      " 105.1 175.1 211.4 129.6 235.4 184.4 260.  219.7 191.5 216.1 189.  189.9\n",
      " 214.4 215.1 168.6 148.6 143.7 198.2 188.7 207.8 199.2 244.8 167.7 150.1\n",
      " 213.5 195.4 174.9 179.2 166.6 179.3 166.9 194.  226.2 225.3 187.8 160.6\n",
      " 194.4 159.3 172.4 120.7 174.7 180.1 177.8 189.3 203.5 148.2 203.6 159.5\n",
      " 160.3 170.6 157.6 233.7  95.7 140.9 234.7 131.1 183.3]\n",
      "[  5.8   5.8   5.8   5.8   5.8   5.8  25.3  45.4  63.6  76.4  90.2 128.5\n",
      " 133.1 122.8 117.1 107.6 120.5 123.  117.  148.   86.4 106.3 113.2 116.9\n",
      " 101.3 130.7  96.6 115.8 179.5 155.7 121.1 102.8 133.6 160.7 148.8 112.6\n",
      " 134.3 147.1 181.4 134.1 150.9 128.4 221.9 122.2 168.5 174.2 189.6 144.2\n",
      " 146.9 223.5 147.3 163.8 246.9 200.6 189.2 161.5 162.8 211.5 164.9 192.2\n",
      " 160.9 174.4 161.2 149.3 142.2 146.6 126.4 189.  179.3 188.9 218.4 170.\n",
      " 151.4 156.9 185.5 145.9 161.8 152.9 120.7 181.1 113.1]\n",
      "[  5.6   5.6   5.6   5.6   5.6   5.6  25.7  30.3  31.1  48.1  48.6 126.\n",
      " 165.1  87.2  84.4  97.7 120.7 116.  147.2 137.2  86.2  94.5 128.6  97.2\n",
      " 103.5 146.3  95.1 133.7 106.1 105.2 133.3 111.1 153.  154.6 147.1 136.1\n",
      " 233.4 135.6 136.7 214.7 131.1 195.6 127.7 143.7 135.1 159.3 146.  205.3\n",
      " 175.  132.4 182.8 149.9 155.2 152.6 149.2 208.5 144.1 108.  177.8 165.6\n",
      " 155.5 128.8 174.8 159.8 162.9 157.4 178.7 171.8 111.2 166.7 195.9 174.8\n",
      " 157.  159.6 113.2 112.5 140.2 200.  151.8 148.6 160.3]\n",
      "[  5.    5.    5.    5.    5.    5.   27.   31.3  24.1  30.4  29.8  34.2\n",
      "  33.   34.3  33.   38.   46.   63.6  92.8 109.8  93.5  97.5 127.1  95.7\n",
      " 125.   91.6  99.5 110.3 168.4 134.   95.9 126.8 134.5 143.6 108.1 131.4\n",
      " 125.9 137.9 103.2  88.3 115.9 102.7  86.8 149.8 113.9 125.3 120.8 113.4\n",
      " 112.4  98.4 131.3 125.1 122.5 112.  148.3 102.8 162.3 129.3 182.6 173.1\n",
      " 102.5 103.8 130.9  84.1  75.5  83.5  75.6  77.2  73.9 126.9 113.   94.9\n",
      " 104.  100.8 142.1 105.8 165.8 134.6 116.2 143.4  80.6]\n",
      "[  4.    4.    4.    4.    4.    4.   39.5  46.5  47.1  63.6  93.6  91.9\n",
      " 135.8  86.7  97.  140.8 103.9 122.  129.3  93.7 116.8 109.6 141.4 105.\n",
      " 119.9 122.  117.8 118.3 152.1 111.2 132.9 175.6 125.9 123.4 150.2 189.4\n",
      " 121.2 167.5 150.7 140.4 153.4 127.4 141.1 172.3 183.5  98.4 215.8 129.\n",
      " 122.5 164.6 156.7 125.7 198.4 183.6 182.9 162.9 228.2 128.7 127.  155.\n",
      " 137.1 138.1 201.1 139.9 175.2 182.7 200.6 160.7 212.3 174.3 217.  150.7\n",
      " 143.6 117.7 157.6 145.2 187.6 276.9 217.4 168.8 165.9]\n",
      "[  4.3   4.3   4.3   4.3   4.3   4.3  41.9  33.1  40.9  75.1  58.3  66.2\n",
      "  61.2  92.7 113.3  31.8  21.8 102.3  88.6 119.2  93.8 113.1 104.5  87.4\n",
      " 119.3 123.3 103.7 131.3  99.5  93.3 122.6 100.3 118.9  98.7  91.8 136.1\n",
      "  76.1  74.4 166.1 126.2 123.9 129.6 174.5 113.6 144.  190.8 110.1 148.8\n",
      " 124.6 114.2 143.  176.  109.2 211.4 186.2 106.7 180.3 185.4 170.9 279.4\n",
      " 154.5 241.4 139.1 180.4 126.1 144.7 170.2 151.7 173.2 155.  110.9 112.\n",
      " 223.5 173.6 155.9 125.1 168.7 164.2 210.5 134.9 137. ]\n",
      "[  5.8   5.8   5.8   5.8   5.8   5.8  23.4  42.5  35.4  44.4  75.6 103.9\n",
      "  97.7  98.5 102.1 113.1  96.3 124.2  80.   90.6  86.1 104.2  92.3  94.7\n",
      " 161.1 119.4 162.1 148.7 123.3 125.3 136.5  88.  116.1 116.5  88.3 105.7\n",
      " 127.3 146.9 118.6 145.6 131.8 170.4 113.7 148.3 128.9 193.2 200.2 121.4\n",
      " 177.7 196.8 170.8 167.2 177.4 165.1 154.9 175.7 142.6 131.2 197.2 177.2\n",
      " 127.8 185.6 184.3 216.5 217.5 163.1 157.  233.9 138.9 131.5 198.5 135.5\n",
      " 125.6 101.5  90.8  90.  110.2 134.7  99.5  84.5 131.5]\n",
      "[  5.6   5.6   5.6   5.6   5.6   5.6  24.7  40.7  41.8  38.3  69.9  72.4\n",
      "  89.3 106.4 124.   97.3 114.2 112.7  98.5  99.4  97.8  82.1 109.8 109.2\n",
      " 126.4 111.2 122.2  90.8 108.7 120.6 113.6 186.  128.7 124.1 122.1 119.3\n",
      " 104.7  87.7 144.2 198.7 178.5 140.5 157.8 135.9 178.4 150.4 221.2 153.1\n",
      " 182.9 142.7 149.4 106.8 123.3 210.4 137.  156.2 117.3 172.3 126.7 175.7\n",
      " 127.4 231.7 188.2  99.2 147.6 142.2 127.1  99.3 132.7 136.  140.9 200.3\n",
      " 150.1 144.5 160.1 115.9 189.  161.6 132.5 164.4 138. ]\n",
      "[  5.    5.    5.    5.    5.    5.   26.7  32.9  26.   30.1  32.   35.1\n",
      "  39.   43.9  47.1  46.   64.7  71.8  98.2  82.  100.8 149.6 122.2  94.9\n",
      "  86.9 116.3 116.7 120.5  91.1  96.4 118.6 107.7 131.1 103.3 130.  182.7\n",
      " 158.7 123.9 131.8 104.6 114.   87.  147.7 104.5 162.  163.  150.7 160.8\n",
      " 143.3 122.3 136.1 134.6 180.  176.  109.  133.3 189.7 152.3 211.7 137.1\n",
      " 139.9 136.  160.1 220.9 149.3 186.   92.5 184.7 188.2 157.5 124.1 121.6\n",
      " 146.5 142.3 143.3 180.2 170.1 129.7 110.  173.9 123.1]\n",
      "[  4.    4.    4.    4.    4.    4.   48.5  37.7  31.4  37.   36.1  35.7\n",
      "  38.6  44.2  51.5  75.6 109.   99.8 100.9  99.  119.8 127.6  99.6  89.9\n",
      " 124.5 157.6 138.6 114.4 116.6 122.  113.8 155.7 155.7 136.5 106.1 120.7\n",
      " 125.  151.4 112.1 161.7 145.8  84.7 153.  150.2 181.3 182.6 164.5 117.1\n",
      " 169.3 149.3 177.9 131.7 182.1 153.1 194.2 233.9 149.8 153.8 156.2 123.7\n",
      " 210.9 132.7 108.6 114.6 116.9 161.5 142.4 142.  130.4 122.9 139.5 144.5\n",
      " 153.7 229.3 184.1 182.7 173.3 141.8 203.4 138.8 116. ]\n",
      "[  4.3   4.3   4.3   4.3   4.3   4.3  35.9  48.5  33.2  73.7  63.2  87.3\n",
      " 103.4 106.  102.7 123.8  89.2 111.2 145.1  93.5 117.9 101.9 103.6  93.1\n",
      "  91.4 119.3  98.6 107.2 101.1 105.5 108.3 144.5 114.9 150.3 123.1 133.\n",
      " 141.8 141.1  91.4 178.4 133.7 136.  159.3 135.2 185.4 118.4 125.2 132.2\n",
      " 121.4 127.4 155.4 171.5 128.2 170.7 126.8 177.  140.7 144.3 121.4 109.4\n",
      " 144.6 215.8 182.8 153.  124.8 113.4 129.1 134.8 219.7 180.9 142.  144.2\n",
      " 106.4 114.1 152.  124.6 128.3 181.3 134.2 155.4 143.1]\n",
      "[  5.8   5.8   5.8   5.8   5.8   5.8  24.1  42.8  52.9  88.7 101.2  99.6\n",
      " 107.5 110.9 100.6 100.4 120.1  86.3 121.2  93.3  83.3 115.6 116.4 115.7\n",
      " 126.2  97.4  92.7  94.  107.2 103.2 116.7 134.2 123.8 139.5 100.2  88.4\n",
      "  98.7 112.9 121.4  94.8 121.  106.2 138.8 157.8 120.5 153.9 134.8 147.8\n",
      " 175.9 138.3 199.3 132.8 152.9 230.6 174.2 165.7 169.5 140.1 130.9 125.9\n",
      " 116.4 150.6 120.5 133.4 211.9 120.1 203.  127.1 170.9 172.8 111.6 155.2\n",
      " 149.9 144.3 143.2 144.2 177.5 133.3 156.8 153.7 139. ]\n",
      "[  5.6   5.6   5.6   5.6   5.6   5.6  35.5  31.6  30.7  41.9  40.2  42.9\n",
      "  57.7  99.7 102.7  93.2  92.  132.2 125.4 140.  137.3 115.6  95.6 109.6\n",
      " 126.9  89.1  90.7  99.1 105.6 114.6 131.1 133.8 132.8  85.9 105.  101.4\n",
      " 124.1 148.8 134.7 174.3 155.6 163.3 155.5 123.4 176.1 180.  152.8 118.4\n",
      " 192.7 227.2 121.8 157.6 135.8  94.4  94.8 102.9 139.5 101.1 145.1 173.\n",
      " 111.8 123.1 199.9 154.8 133.6 130.3 192.4 122.5 129.9 190.6 181.2 149.\n",
      " 142.5 184.6 177.1 148.9 227.  171.6 123.4 149.6 146.2]\n",
      "[  5.    5.    5.    5.    5.    5.   29.7  40.2  35.6  30.9  30.1  30.8\n",
      "  29.6  28.   28.8  30.7  32.   34.   35.8  37.   38.2  46.9  90.4  90.7\n",
      "  88.8 132.7 111.7 100.8 104.6 110.4 132.8 106.5 116.2  97.3 111.5  97.3\n",
      "  96.1 108.1  91.2 101.3 134.2 132.1 125.9 116.1 133.9 157.1 140.8 111.7\n",
      " 149.8 156.8 116.9 140.7 168.8 163.8 157.5 132.5 108.8 116.5 108.9 116.6\n",
      " 135.  150.8 111.5 127.2  99.2 137.9 113.6 176.3 127.   95.2  72.6  65.6\n",
      "  69.5  62.4  70.1  50.5  63.3  76.5  66.6  63.1  57.6]\n",
      "[  4.    4.    4.    4.    4.    4.   45.5  39.6  29.4  50.   88.2  94.3\n",
      "  90.2 117.2 105.8  94.2  83.2  93.8  93.7 105.7  89.7 107.4 155.8 104.2\n",
      " 125.3 105.8 108.2  97.  111.1  98.1  88.6 119.2 108.1 118.2  91.9 145.1\n",
      " 134.9 104.3 120.6 165.5 121.7 110.4  96.9 146.6 112.1 115.3 111.2 145.8\n",
      " 158.4 209.1 135.6 151.6  92.6 120.7 115.8  93.8 111.5 139.9 122.7 184.3\n",
      " 126.5 126.3 131.8 164.7 133.1 138.  149.7 191.5 142.3 147.3 170.7 147.3\n",
      " 135.6 169.6 171.3 188.2 137.3 100.2 126.  126.8 136.1]\n",
      "[  4.3   4.3   4.3   4.3   4.3   4.3  31.4  32.5  33.2  60.4 106.7 101.8\n",
      " 109.9 108.6 103.3  92.8  86.4 103.9  87.7  99.1 110.7  98.4  99.4 119.9\n",
      " 109.7  82.6  97.7 125.6  95.9 139.1 135.4 123.1 120.6  94.  132.7 112.\n",
      " 137.  130.1  99.9 150.6 176.4 155.6  86.4 154.7 168.5  92.5 109.3 104.9\n",
      " 155.7 127.4 159.4 169.5 172.3 175.3 149.6 132.8 105.8 161.9 124.5 125.6\n",
      " 148.7 142.3 140.1 115.5 164.4 117.3 122.4 131.5 108.5 171.2 172.4 173.3\n",
      " 104.7 136.4 147.7 171.4 113.1 147.  170.3 154.8 173.4]\n",
      "[  5.8   5.8   5.8   5.8   5.8   5.8  23.7  40.6  62.   95.1  84.   95.8\n",
      "  91.8 115.3  91.   95.2  95.4  94.1 121.7 105.9 130.9 117.1 104.   96.9\n",
      " 100.1 101.7 122.2 109.4  92.8 101.1 103.2  99.7 100.2 115.6 133.4 115.6\n",
      " 127.6 136.6  96.9 132.1 119.4 105.7 204.7 195.3 135.8 219.  158.2 137.4\n",
      " 119.  129.4 178.  116.1 123.5 123.5 155.3 113.3 128.1 194.  116.7 118.9\n",
      " 167.3 217.6 122.5  87.6 122.5 132.4 119.8 150.7 137.6 141.4 218.3 135.6\n",
      " 129.8 116.6 201.5 149.1 117.4  95.9 119.  120.8 171.6]\n",
      "[  5.6   5.6   5.6   5.6   5.6   5.6  30.4  29.4  40.   41.1  44.1  44.6\n",
      " 110.   98.1 107.8 121.1  84.8  93.7 100.1  78.8 115.2 106.4 119.  112.4\n",
      " 132.9  99.   94.8 119.5  98.9 106.8  83.1 120.8 125.6 104.7 126.  113.2\n",
      " 153.7 141.7 101.4 130.9 125.2 133.2  99.6 151.2 109.5 187.7  89.2 124.7\n",
      " 114.3 112.7 126.3 116.4 135.8 112.2 123.8 156.1 180.3 130.4 189.4 146.2\n",
      " 132.9 199.5 177.7  96.6 100.5 153.1 172.7 139.9 157.7 128.7 112.3 114.4\n",
      " 160.3 126.  151.8 102.6 151.2 148.6 133.1 168.8 146.2]\n",
      "[  5.    5.    5.    5.    5.    5.   27.2  34.3  27.9  29.   29.9  30.\n",
      "  31.   38.   44.7  65.4  79.8 100.3  99.4 113.9 107.8  92.  121.5 123.6\n",
      " 105.3 124.3 107.2 105.7  98.4 149.3 117.9 125.9 118.9 135.8 106.2  98.5\n",
      " 117.3 139.1 124.3  94.  135.4 103.5 120.7 115.3  98.7 131.6 112.5  90.7\n",
      " 110.7 130.1  81.5 120.7 101.6 104.4 111.  145.2 121.2  90.9  99.3 158.3\n",
      " 109.9 102.6 132.4 132.2 161.7 106.2 137.9 140.4 133.8 126.3 130.3 139.\n",
      " 148.6 107.9 145.6 128.6 149.5 151.  147.4 114.8  86.3]\n",
      "[  4.    4.    4.    4.    4.    4.   42.5  38.2  30.6  36.6  42.3  73.2\n",
      "  85.6  88.9  98.1  96.3  99.7  89.6 112.2  97.  129.4 111.8 111.   89.5\n",
      "  91.7 117.  111.8 102.3 148.5  97.2 107.2 149.6 104.3  96.6 126.8 131.3\n",
      " 121.7 165.4 147.6 157.7 154.2 137.1 121.3 142.1 157.6 119.4 177.2  94.8\n",
      " 158.5 134.9 157.7 115.1 123.4 130.5 173.5 116.9  96.4 139.9 143.8 155.\n",
      " 120.9 105.6 142.7 147.7 103.6 113.7 132.4 111.8  87.9 106.3 132.7 135.7\n",
      "  88.8 104.  114.2 112.4 129.4 126.3 125.4 149.2  92.9]\n",
      "[  4.3   4.3   4.3   4.3   4.3   4.3  33.3  36.8  35.7  41.9  39.   39.9\n",
      "  43.2  35.   39.  117.9  68.2  45.7  97.2  85.3 105.8  92.8  99.3  84.\n",
      " 106.2 128.2  93.  130.3 133.5 146.1 126.2 139.3 113.  114.2 107.3 144.\n",
      " 161.8 116.5 118.7 133.8 123.3 137.  132.7  99.5 162.8 154.7 118.2 163.6\n",
      " 120.9  96.8 126.5 143.1 113.6 154.3 113.  121.8 121.  123.4 120.1 130.\n",
      " 117.2 116.1 141.6 114.4  96.9 139.3 137.2 133.6 113.3 101.6 141.1 106.9\n",
      " 102.9 122.3 179.6 114.6 132.1 137.9  85.3 106.6 132.1]\n",
      "[  5.8   5.8   5.8   5.8   5.8   5.8  27.7  41.7  56.6  59.3  67.2  92.8\n",
      " 103.7 106.6  87.7 103.   91.5  90.   95.4  94.3  79.9  86.8 124.   86.5\n",
      "  89.7 101.  149.  111.2  98.5  91.4 104.9  90.9  81.9 107.5 126.  116.8\n",
      " 115.1 164.4 113.5 128.9 120.4 117.3 121.  129.5 117.  141.5 114.6 137.8\n",
      " 116.2 141.3 198.8 138.2 128.  121.2 169.9 136.5 125.  106.1 127.5 153.5\n",
      "  91.1 205.  186.5  82.2 161.1 136.  118.  167.1 117.1 196.  201.3 165.8\n",
      " 107.4 178.8 116.1 131.8 120.4 126.8 113.3 126.4 129.2]\n",
      "[  5.6   5.6   5.6   5.6   5.6   5.6  37.3  32.3  35.   37.6  48.5  75.8\n",
      "  94.1 111.2  96.7  94.1 117.5 127.5 105.9  88.4  87.1 104.5 125.7 113.3\n",
      " 155.3 100.7 124.7  89.1 136.9 106.1 122.6 147.6 119.6 163.1  88.8 117.6\n",
      " 157.3 205.9 105.7 153.5 136.  126.6 148.8 158.6 116.5 114.3 145.6 110.8\n",
      " 123.1 158.9 127.4 120.3 138.9 125.9 138.3 209.6 146.3 111.2 117.2 146.1\n",
      "  94.7 123.  114.  143.3 128.   90.5 171.6 123.6 185.5 140.9 136.8 126.4\n",
      " 129.9 122.2 125.9 113.3 179.2 123.1 136.   99.5 125. ]\n",
      "[  5.    5.    5.    5.    5.    5.   27.2  30.1  26.9  25.4  27.7  27.7\n",
      "  26.5  26.2  26.   26.   28.   27.7  27.8  28.3  28.7  29.   29.7  30.7\n",
      "  34.   37.   42.   76.7 113.   87.6  85.6 110.1 116.3  91.7  95.2  98.7\n",
      "  84.1 107.7  85.9 112.2  84.9 142.1  83.3 108.3 111.4 117.6  86.9  86.3\n",
      "  87.5 114.4  96.4 103.5  92.5  92.6  95.1 114.   88.7  88.5  95.2  90.8\n",
      "  99.5 122.8 113.9  98.3 128.1 106.8  60.3 102.   83.  113.   82.9 117.7\n",
      "  89.1 116.4  97.8 123.4  96.5 119.4  96.2  89.   92.8]\n",
      "[  4.    4.    4.    4.    4.    4.   38.3  36.3  32.2  30.8  32.2  34.9\n",
      "  41.   41.3  47.8  79.6 108.5  87.2 110.1  88.3  97.  103.   91.9 133.9\n",
      "  92.8 122.2  91.9  73.9  68.9  62.4 108.7 112.3 142.  129.1 128.7 101.9\n",
      " 166.6  98.6  93.7  98.6 107.5 137.7 119.8 116.5 143.6 108.6 105.5 145.6\n",
      " 118.6  94.6  96.6  82.9 119.9 106.1 120.1 137.8 104.9 130.5 126.9 130.1\n",
      " 119.3 115.8 118.  134.1 104.5 112.7  91.4 109.8  93.2 142.2 114.8 150.\n",
      " 136.1 116.   90.8 153.7  90.3 158.  105.8 125.  145.7]\n",
      "[  4.3   4.3   4.3   4.3   4.3   4.3  41.5  35.8  38.   62.7  69.6 100.2\n",
      "  57.9  77.1  85.1  92.4  89.9 103.5  84.7 125.5 103.2  91.8 105.   86.\n",
      "  87.1 123.5  93.  105.7  94.4  88.1  92.1  95.5  98.2  88.1  98.3  87.7\n",
      "  85.1 113.7 105.7 122.8  87.7 115.6 124.3 110.8 129.2 123.8 108.1 107.3\n",
      " 107.4 133.7  94.6 103.9 112.6  93.7 131.8 102.8 155.3 132.8 122.2 119.3\n",
      " 113.8 136.2 115.9  86.1 187.7 121.9 128.2  98.2  96.2 136.  115.5 143.2\n",
      "  96.5 216.3 137.  125.8 140.8  99.7  93.  130.  101.2]\n",
      "[  5.8   5.8   5.8   5.8   5.8   5.8  24.1  49.8  72.   82.7  94.5  95.6\n",
      "  81.6 105.5  95.7  88.7  97.8  88.8  95.6 112.6  83.5 100.7 120.1 100.1\n",
      " 101.7 101.3  94.5 112.7  99.7  78.8 121.3 133.6 106.4 131.1  89.5 110.4\n",
      " 113.1 145.7  90.5 132.8 119.6 115.  126.6  94.8 133.6  99.4 123.3 108.8\n",
      " 186.5 169.7 115.6 148.   86.1  88.   96.6 181.4 137.5 127.4 171.6 137.6\n",
      " 109.1 149.6  86.4  99.5 100.7 118.9  96.5 130.8 169.3 114.3 107.6 183.\n",
      " 108.6 181.4 123.2 117.8  93.7 108.  120.3 115.8  88.3]\n",
      "[  5.6   5.6   5.6   5.6   5.6   5.6  40.5  42.7  41.8  32.2  41.2  83.\n",
      "  99.3 111.8 110.4 110.6 105.7 107.1 103.2 118.8  83.3 114.6 113.  149.1\n",
      " 134.2 107.5 156.8 111.5  99.   97.  138.  104.9 128.1 107.1 121.9 167.9\n",
      "  96.8 135.4 133.1 122.7 124.1 123.9 112.9 109.3 125.8 126.6  97.8 121.2\n",
      " 134.  114.6 109.  129.5 115.6 131.1 125.4 118.   98.1  82.4 152.8 134.4\n",
      " 109.4 137.1 172.5 127.5 103.5 116.9 178.5 103.6 129.2 112.2 137.7 186.6\n",
      " 124.7 138.9 158.3  87.4 130.8 133.6 139.5 106.6 105.7]\n",
      "[  5.    5.    5.    5.    5.    5.   28.1  33.4  28.7  28.8  29.2  30.3\n",
      "  32.2  37.   43.   50.8  55.8  82.4  93.5  78.8  77.9  83.5 139.8  83.6\n",
      "  98.4 111.7 105.5 100.5 106.2  91.2  84.9  99.3  96.6 126.3  93.9 182.7\n",
      " 163.  112.3 125.7 137.1 101.8 101.4 211.  149.1 136.6 110.5 123.3 112.4\n",
      " 113.7 135.9 101.2 120.9  97.6 129.2 119.8 161.4 115.2 111.7 163.7 120.6\n",
      " 105.8 131.5 145.7 105.6 125.7 153.8 100.1 104.7 112.3 126.4 127.9 101.5\n",
      " 128.1 104.5 154.  135.2 131.8  95.6 119.1 110.7 107.4]\n",
      "[  4.    4.    4.    4.    4.    4.   46.8  38.   37.7  45.5  70.6 113.4\n",
      "  90.8 100.2 106.1 117.6 103.5 102.1 119.8  99.7  93.6 100.   98.9 103.5\n",
      "  99.2  89.   99.9  85.9  74.8  97.1 132.7 100.8 126.  122.6 108.8 105.\n",
      " 101.5  84.  102.9 108.7 133.4 129.8  98.7 102.2 106.2 133.4 144.4 107.\n",
      " 106.3 119.3 110.4 106.4  99.2 101.4 127.  150.2 111.7 122.4 140.2 101.8\n",
      " 133.9 100.6 107.8 145.9 144.7 133.2 126.1 109.4 148.  128.4 127.6  83.7\n",
      " 111.6 122.1 124.7 121.4 128.4 128.6 165.3 107.7 163.2]\n",
      "[  4.3   4.3   4.3   4.3   4.3   4.3  38.   53.3  42.8  55.2  47.8  57.4\n",
      "  84.   90.5 102.9  46.4  19.9  36.5  40.7  43.1 105.2 109.1 110.4  89.5\n",
      "  81.7  97.4 100.1  89.9 141.5  94.8  97.9 136.3  95.4 107.3 105.4  90.5\n",
      " 117.7 106.8  94.6 102.9 100.7 121.1 140.  119.1  85.6  93.  122.1 104.1\n",
      " 115.5  97.3 101.3 175.  115.  130.8 109.4 114.3 122.4 111.7 109.2 143.1\n",
      " 102.7  96.3 138.1 134.2 117.4 104.4 128.2 114.8 112.2 122.9 132.4 126.5\n",
      " 158.4 187.4 125.9 102.8 124.2 106.1 113.3 148.3  86.6]\n",
      "[  5.8   5.8   5.8   5.8   5.8   5.8  29.6  48.1  73.6  99.2 106.6 110.1\n",
      "  94.7 104.7  84.7 117.1 114.5  85.9 121.8  83.3 109.3 101.3  99.3 108.4\n",
      "  86.9  84.7  98.2 109.5 115.1 107.4  93.2 154.5 160.6 151.1 119.  112.7\n",
      " 112.1  99.4 102.5 121.1 103.6  91.5 108.8  98.4 126.4  97.1 108.1 100.\n",
      " 144.5 141.  105.5 111.7 139.1  86.1  80.8 128.7 137.   98.9  93.2 109.4\n",
      " 106.5 106.3 140.8 120.2 117.  147.9  97.9  79.5  89.3 120.5  81.3 123.9\n",
      " 136.9 110.   98.7 100.2 134.7  97.2 108.9 179.1 118.9]\n",
      "[  5.6   5.6   5.6   5.6   5.6   5.6  49.4  35.5  43.8  55.6  64.9  95.3\n",
      " 100.1  94.4  89.1 105.2  90.4  90.2  88.7  96.4 120.   94.8  94.2 120.1\n",
      " 124.  109.7 132.6 115.7  99.3 107.4 125.7 108.8 115.6 125.8 105.5 101.7\n",
      " 118.6 102.  119.3 119.4 122.2  88.7 134.6  92.7 113.5 146.3  88.4 120.8\n",
      " 117.7 125.3 112.5 142.7 130.9  94.9 104.6 157.6  99.2 117.5 118.3  84.2\n",
      " 117.2 111.6 117.  103.  127.6 114.4 123.8 167.3 111.2 131.1 137.9 111.2\n",
      " 113.5 103.5 111.7 102.3 120.  110.  159.3 124.8 147.6]\n",
      "[  5.    5.    5.    5.    5.    5.   25.7  43.5  28.9  29.7  33.6  32.9\n",
      "  37.7  52.8  94.4  99.4  94.6  94.7  86.   89.2 102.9 116.5 116.7 108.1\n",
      " 116.6  82.1 102.   91.6  92.   93.1  92.9 138.5 102.3 129.8 116.  162.\n",
      " 128.7 116.6 104.4 121.6  94.1 104.8 141.2 130.2 104.5  99.5  80.3 130.3\n",
      " 111.3 117.1  86.9 109.3  81.9 107.5  94.7  83.5 109.9  78.5 116.8  94.3\n",
      "  93.9 130.5  93.   97.7 124.8 127.5 109.5 113.9  88.  104.4 120.9 107.9\n",
      " 114.  104.   83.1 157.  149.2 129.1 119.5 152.9 142.6]\n",
      "[  4.    4.    4.    4.    4.    4.   44.8  39.8  33.5  60.6  85.7  95.9\n",
      "  80.1  98.4 113.   97.1  89.5 100.5  95.7 100.8 104.9 110.1 104.6  89.6\n",
      "  89.3 115.9  98.9  91.2  88.1 100.2 101.5 106.  101.2  99.1 106.1 106.6\n",
      "  84.8  93.4 117.  111.3 112.4  94.9 106.9 121.8 119.5 107.9  85.5 116.\n",
      " 178.  111.7 129.9 108.5 102.3 118.2 110.1 110.2  93.1 110.3 133.5 152.9\n",
      "  94.2 102.9 121.5 115.4 170.5 117.8 115.3 112.5 105.4 104.7 139.6 103.8\n",
      " 120.3 107.6  99.4 143.9 135.9 125.4 141.6 123.3 129.9]\n",
      "[  4.3   4.3   4.3   4.3   4.3   4.3  37.3  35.2  37.2  67.6  83.2  88.3\n",
      " 113.  115.7  92.9 126.7  88.8  99.7  95.5  83.8  99.3  88.  110.6 115.5\n",
      " 102.8  91.1 121.9 104.7  87.2 105.5 111.8 142.1  98.6  94.5 119.6 105.\n",
      " 119.7 127.  139.5 175.9 152.5 147.4 113.9 129.2 103.3  96.9 150.5 100.7\n",
      " 120.3 155.7 140.8 112.9  96.1 131.6 139.5  90.1  88.5 164.8 110.9 103.4\n",
      " 104.   98.5 200.6 122.9 138.8 124.8 173.5 153.1 130.9 145.9 108.4 169.8\n",
      " 115.1 131.6 134.1  99.1 102.7 174.2 159.7 142.5 135.6]\n",
      "[  5.8   5.8   5.8   5.8   5.8   5.8  24.1  39.6  65.2  67.5 103.7  93.5\n",
      "  90.9  94.8  82.1 100.3  90.2  97.9 109.3  97.4 106.5  98.2 100.9  94.3\n",
      "  95.  119.7 117.4 111.7  98.3 126.1 126.9 103.5 110.7  89.  110.4  87.7\n",
      "  87.1 169.5 101.3 135.   91.7  95.  101.1 118.2 104.2 149.9 122.9 148.5\n",
      " 131.2 115.8 111.2 121.3 126.3  83.9 111.4 134.1 146.1  96.3 118.  112.6\n",
      "  99.1 126.7 118.5 114.7 151.3 109.4  99.6 109.1  98.8 139.7 164.9 117.3\n",
      " 100.3 130.7 133.  110.8  96.  103.1 107.2 123.5 134.7]\n",
      "[  5.6   5.6   5.6   5.6   5.6   5.6  28.5  31.3  34.2  53.3  44.3  55.7\n",
      " 113.3  94.3  90.3  99.3  89.6 107.2  86.6  86.9 112.  127.   85.5 115.1\n",
      " 111.3  90.6 104.5  93.3  95.9 112.5  90.3 129.5  94.1 111.5  84.8 165.4\n",
      " 103.9 104.8 106.7 115.5 106.9 124.9 129.1 115.8  96.8 115.1 132.7 104.9\n",
      "  97.9 117.5 115.1 108.7 135.  132.   93.5 114.3  95.9 124.8 135.5 129.8\n",
      "  93.5 111.9 119.2 112.  100.2  85.6 135.4  82.8 103.9 112.9 110.7 129.7\n",
      " 142.4 120.5 138.6 117.  127.  161.6 140.2 111.8 125.8]\n",
      "[  5.    5.    5.    5.    5.    5.   26.8  30.1  31.1  27.5  32.3  42.7\n",
      "  35.9  35.1  30.3  35.4  35.6  43.7  79.2  83.7 116.2 131.5 120.6 111.9\n",
      "  98.9 107.1 121.9 106.8 103.6 103.4 114.8  99.3  86.1 123.1  86.5 101.8\n",
      " 123.4 100.2 174.1  94.7  98.9 105.7 109.7  82.8  96.1 110.9  98.5 103.4\n",
      " 101.1  94.5 103.8  83.5 102.1 128.6  98.9 125.1 104.  117.5 106.6 100.7\n",
      "  90.5  98.3  92.5 120.6  88.9 125.1  94.1 126.4 104.2  79.4 103.  108.8\n",
      "  82.8  99.8  97.9  98.6 127.2 103.2 108.1 124.4  82.8]\n",
      "[  4.    4.    4.    4.    4.    4.   42.8  39.   30.5  34.8  42.5  49.4\n",
      "  51.2  77.4  88.8 100.4  88.9  93.   95.4  92.3  99.1  85.9 102.8  86.8\n",
      "  80.8 104.2  84.8  99.6  80.6  98.2 100.  124.6 116.1 107.8  99.5  75.\n",
      " 116.3 109.5 130.1 130.2 120.4 132.8  96.2 138.3 103.4  93.6 140.7 138.7\n",
      " 127.1 113.2 149.7 103.2 160.  119.8 153.9 161.9 129.3 122.4 136.1 155.9\n",
      " 137.  140.7 155.   95.4  89.   81.2 137.1  93.1  94.   99.1  62.9  56.1\n",
      "  51.7  52.1  55.   60.5  70.9  76.8  63.8 103.3 119.1]\n",
      "[  4.3   4.3   4.3   4.3   4.3   4.3  37.7  36.8  60.4  54.2  87.6  96.1\n",
      "  87.7 105.5 108.   76.6  93.3  97.6 113.2 103.2 123.9  96.8 118.4 118.\n",
      "  88.7  90.2  97.4  95.   96.5 126.2 159.   78.9  97.   99.7 109.   84.4\n",
      " 112.1 130.5 102.3 139.7 124.1 102.6 117.8 120.5 117.8 153.8 120.1  94.8\n",
      " 101.5 167.5 101.  103.8 153.4 120.4 120.8 130.3 144.5 100.9 164.4 185.\n",
      " 165.6 150.4 150.4 114.7 108.2 188.9 103.6 129.   81.4 112.7 104.3  96.1\n",
      " 132.6 133.5 147.  155.8  97.6 106.9  96.9 118.8 128.9]\n",
      "[  5.8   5.8   5.8   5.8   5.8   5.8  23.7  45.2  62.3  86.3  88.5 115.4\n",
      "  99.2 103.3  96.1  90.3  90.7  92.7  89.9  78.5  86.2  84.5  97.6  95.2\n",
      " 105.4  90.   74.9 110.2  96.5 105.  126.5 120.4  98.8 102.   87.4  98.\n",
      "  89.7 100.2  90.2  99.3 107.8 104.4  91.1  93.7  86.6 115.9 110.6  99.6\n",
      " 138.8  91.7 105.8  97.2 127.4 112.6 111.1 115.7 106.2  98.1 102.8 107.8\n",
      "  92.8  82.8 103.7 138.   87.8 141.7 120.2 119.2 123.3 117.1 153.   96.5\n",
      " 120.6 119.9 108.4 137.  132.2 114.8 151.3 116.7 111. ]\n",
      "[  3.    3.    3.    3.    3.    3.    1.    1.    7.   24.7  32.1  33.5\n",
      "  41.4  47.8  73.8  42.5  51.9  99.4 166.3 127.3 123.5  93.   85.5  97.5\n",
      " 100.7  31.9  94.7  30.   66.  122.6  95.1  98.6 109.8 102.8  87.7  82.3\n",
      "  98.6 114.3 127.5 100.5 102.7 108.8 149.3 161.6 134.1 150.7 115.8 102.3\n",
      " 113.7 113.9 154.5 171.6 105.4 107.6 159.  185.  191.9 116.6 146.4 125.6\n",
      " 129.5 128.1 112.3 144.5 169.2 145.9 163.3 180.8  94.  160.7 155.6 118.9\n",
      " 154.  132.  168.9 158.5 125.8 116.4 137.1 112.1 164.2]\n",
      "[  3.    3.    3.    3.    3.    3.    1.    1.    3.   12.6  21.   18.5\n",
      "  24.4  18.5  39.2  66.   24.8  96.6 100.7 104.6  36.9  39.6  35.1  46.8\n",
      "  47.5  43.9  24.5  55.5  56.1  74.7 102.8 107.7  82.4 126.  123.4  19.2\n",
      " 100.6  28.3 103.2 135.2 119.2  74.4  19.7  91.9 142.1 140.3 151.2 145.8\n",
      " 167.  167.  159.7 129.7 166.2 143.6 105.2 121.4 115.8 100.4 102.4 143.9\n",
      "  96.5  41.5 138.8 127.8  99.1  73.4 145.4  95.9 131.5  90.6 106.1 111.1\n",
      " 102.6 107.4  90.2  91.6  98.  105.9 132.2 104.6 117.7]\n",
      "[  2.    2.    2.    2.    2.    2.    1.    1.    1.   13.7  29.2  25.8\n",
      "  31.5  81.7  70.9  60.2 100.8 123.5  88.1 139.9 164.6  57.4  77.5  27.\n",
      " 152.9  24.7  66.3  65.4  16.4  51.1  18.7  36.1  29.4  16.4  17.7  22.6\n",
      "  22.5  26.3  17.5  26.8  31.   22.9  27.5  40.3  25.5  29.3  26.6  34.\n",
      "  27.2  34.   27.6  22.4  23.6  24.6  37.5  26.9  26.9  25.9  37.4  24.2\n",
      "  21.1  22.6  22.7  49.5  24.5  28.   25.   28.5  32.6  54.8  46.7  31.8\n",
      "  26.5  21.8  18.9  25.8  31.4  30.1  35.3  26.4  27.3]\n",
      "[  2.8   2.8   2.8   2.8   2.8   2.8   1.    1.    1.    1.    1.   16.7\n",
      "  15.   15.7  17.1  19.2  37.6  56.9  40.5  37.2  39.   63.4  87.6  56.\n",
      "  38.8  53.4 111.3  27.7  47.   68.6  89.8  52.2  52.6  91.4 124.4 100.5\n",
      "  87.6 100.8  95.7  19.3  56.4 101.7  21.7  71.   64.  104.2 112.1 109.3\n",
      "  20.2  81.1  84.6  88.5  75.2 104.9 112.   97.8 116.3 114.9 103.8  81.2\n",
      " 100.5  20.5 110.   64.1  85.3  50.   21.   17.2  18.9  95.1  23.6 104.3\n",
      "  98.2  72.   97.   86.8 109.7  85.5  85.3  98.4  85.5]\n",
      "[ 3.   3.   3.   3.   3.   3.   1.   1.   1.   1.   1.   3.   5.5 16.9\n",
      " 23.6 33.7 19.9 47.3 21.5 90.9 98.5 19.4 19.8 34.5 23.6 22.2 18.1 18.3\n",
      " 38.  18.2 15.  23.3 19.6 14.8 16.1 14.5 16.1 15.5 39.7 28.  38.9 55.6\n",
      " 26.  60.3 32.5 32.4 35.3 27.2 23.4 31.1 20.9 24.9 56.6 38.8 35.8 31.\n",
      " 57.6 29.9 34.6 25.6 25.1 24.2 30.1 27.8 39.3 28.5 32.3 41.6 32.5 32.1\n",
      " 32.4 25.3 24.  26.1 42.2 51.1 33.2 50.8 42.1 27.2 36.8]\n",
      "[  3.    3.    3.    3.    3.    3.    1.    1.    7.   19.8  31.6  33.\n",
      "  37.8  36.9  48.4 110.4  85.2 107.9  88.4 100.4  89.5 131.  100.1 142.1\n",
      " 141.5 144.4 188.8 152.1 159.  126.2 147.6 142.7 121.7 118.7 140.5 125.5\n",
      " 147.9  93.4 106.7  83.4 145.5 138.   95.6  99.3 146.8 121.4 121.2 106.1\n",
      " 148.7 132.1  94.2  81.8  86.6 106.2  94.3 108.8  86.6  98.8 120.1 104.8\n",
      "  96.6 107.8 138.3  94.9 103.4 120.2 108.9 118.9  86.8  99.1 131.5  90.5\n",
      "  97.2 107.   86.1  98.4 104.2 130.4 126.3  94.9  87.7]\n",
      "[  3.    3.    3.    3.    3.    3.    1.    1.    3.   14.1  25.8  24.1\n",
      "  23.3  18.6  22.9  26.7  30.6 109.   20.5 104.8  64.2  82.8  53.7  45.9\n",
      "  46.1  28.   46.9  36.9  98.1 102.2  94.3 120.5 132.7 132.1 112.   46.7\n",
      " 112.3 103.6  80.9  86.8  32.5 139.9 113.7  90.9  98.8  93.6 113.7 102.2\n",
      "  97.1  89.2  39.8  41.   25.7  27.5  35.1  28.1  23.   17.4  30.4  27.8\n",
      "  34.9  36.5  49.   42.9  40.8  71.1 102.6  84.8  90.6 107.3  83.6  81.8\n",
      "  85.9  71.5  59.   79.2  49.3  63.1  72.9  87.5  85.1]\n",
      "[  2.    2.    2.    2.    2.    2.    1.    1.    1.   15.2  20.1  26.8\n",
      "  43.6  43.7  45.7  51.8  61.1  32.4  71.8  56.8 103.2  82.2  85.2 108.7\n",
      " 126.  110.9 100.7  69.   51.4  80.8 117.   81.1 127.1 108.7 144.4 145.4\n",
      " 132.5 130.  133.4 123.  144.2 126.7 109.7  95.2 122.3 101.1 106.1  95.\n",
      "  93.4 147.4 146.9 115.1  97.2 153.3 138.7  92.6  82.3 158.1 122.  148.6\n",
      " 136.4 105.8  79.  162.3 134.2 136.   97.9 112.5 133.1 127.4 126.5 122.6\n",
      " 111.8  79.5  94.1  91.1  89.6  99.9 155.2 118.4 110.8]\n",
      "[  2.8   2.8   2.8   2.8   2.8   2.8   1.    1.    1.    1.    1.   18.5\n",
      "  17.   17.4  22.   24.9  27.7  37.2  20.9  62.1  95.6  45.2  44.2  39.2\n",
      "  34.6  32.   30.   69.4  34.1  95.2  70.5  86.2 137.4  42.2 115.7 108.5\n",
      " 116.  122.1  88.4 105.9 137.8  74.5  46.8  87.9 105.7  65.2 104.2 144.9\n",
      "  55.2  86.8 151.5 171.1  82.6  89.6  76.3  99.5  53.3  50.6 130.5  61.\n",
      " 120.3  95.   95.7 123.  125.  107.6 130.7 137.6  94.6 100.4 103.7 116.2\n",
      " 110.  116.5  21.4 107.4 122.   28.2 105.8 102.4  27.2]\n",
      "[ 3.   3.   3.   3.   3.   3.   1.   1.   1.   1.   1.   3.   5.5 12.8\n",
      " 27.1 32.  26.4 47.1 65.5 65.  49.7 19.3 17.  23.5 80.7 21.3 28.6 34.2\n",
      " 19.1 13.3 11.4 18.4 14.1 17.2 22.9 23.5 17.7 20.8 21.3 15.9 22.6 16.2\n",
      " 23.4 39.8 30.8 48.6 37.3 57.9 39.1 30.8 33.2 32.4 23.9 45.7 41.3 38.\n",
      " 21.6 33.8 29.8 33.2 34.4 34.2 37.  27.9 39.9 29.7 24.  41.1 45.1 24.7\n",
      " 26.5 22.4 32.3 62.8 36.  43.9 47.  58.6 43.1 19.  42.5]\n",
      "[  3.    3.    3.    3.    3.    3.    1.    1.    7.   22.2  40.   40.8\n",
      "  28.6  25.3  31.9  51.4  26.9  37.7  78.9  92.7  75.9  70.1  51.3  39.4\n",
      "  37.1  47.2  90.5 113.9  84.8 132.2 122.1 109.8 119.9 112.6 100.6  85.\n",
      " 135.6 105.5 103.5 121.  109.9 120.5  97.4 116.3 102.9  82.2 100.1  85.8\n",
      "  86.5 126.  106.4  93.6  88.7  85.  116.1  87.3 132.1  91.   90.9  99.2\n",
      "  84.6  88.9  94.7  71.3  71.3  87.2 104.5  79.2 104.   35.1  89.3  67.4\n",
      " 115.1  99.   26.8  62.7  28.5  24.9  27.7  23.9  29.6]\n",
      "[  3.    3.    3.    3.    3.    3.    1.    1.    3.   13.5  22.9  29.3\n",
      "  31.6  26.1  23.4  26.4  34.4  55.1  63.9  63.8  34.4  44.1  41.4 114.7\n",
      "  84.7 104.1 141.8  79.4 125.2  93.6  51.7 129.1  96.4  25.7  41.1  68.6\n",
      "  36.7  33.  106.1  85.4 131.7  71.3  30.1  72.1 113.6 108.2  86.9  84.6\n",
      "  69.6 101.6  93.  104.9 110.5 100.  111.9 117.9 104.4 105.8 115.7  98.9\n",
      " 100.9 105.8 102.6  75.7  88.5  78.4 116.5 110.3 103.   85.7 104.6  98.\n",
      "  88.6 109.4 121.1  99.6 104.5 112.8  83.8 118.8 116.2]\n",
      "[  2.    2.    2.    2.    2.    2.    1.    1.    1.   17.6  34.6  66.8\n",
      "  26.4  28.4  26.9  29.9  28.1  36.1 132.8 140.9 118.8  93.4 102.4 141.5\n",
      "  98.4  26.1  15.   14.4  19.   15.   15.   24.   24.1  28.4  29.7  15.4\n",
      "  90.9  18.1  24.7  17.   32.3  18.1  21.4  18.7  69.7  54.9  49.8  73.8\n",
      " 101.8  32.2  43.7  32.3  49.4  43.7  38.8  28.4  26.5  19.4  38.1  44.1\n",
      "  19.9  30.1  33.4  83.1  35.1  42.4  46.   51.8  87.1  43.5  72.   28.7\n",
      "  59.2  42.4  74.2  33.   40.8  54.9  33.6  37.3  38.1]\n",
      "[  2.8   2.8   2.8   2.8   2.8   2.8   1.    1.    1.    1.    1.   17.2\n",
      "  19.8  21.   35.1  20.8  22.8  68.   45.4  68.4  44.1  30.3  39.7  38.9\n",
      "  61.1  28.   87.9  63.7  53.8  47.6  22.1 103.4  63.9 107.9 125.1 103.8\n",
      " 102.1  86.  113.2 112.8 103.7 106.4  95.9 108.  108.3 110.8 104.1  88.2\n",
      " 115.   91.1  84.6  80.5  95.3  98.3  98.6  87.8 102.2 118.4 111.5  87.\n",
      " 106.3 107.2  97.3  93.9  84.6 115.1  95.5  88.5  83.5  81.8  95.8  50.7\n",
      "  79.1  87.4  57.8  96.2 101.7  93.8  72.2  83.1  90.4]\n",
      "[  3.    3.    3.    3.    3.    3.    1.    1.    1.    1.    1.    3.\n",
      "   5.5  13.9  30.   51.9  37.6  25.2  53.5  27.7  20.3  36.5 104.5  83.3\n",
      " 106.7 100.6  37.   23.9  24.9  27.9  29.6  36.9  31.8  29.2  26.1  21.4\n",
      "  42.2  42.6  67.6  33.2  23.9  28.   28.9  88.2  93.5  87.4  33.6  70.3\n",
      "  19.1  19.   24.   22.3  34.9  56.6  22.2  19.7  28.   23.8  19.3  19.\n",
      "  19.7  21.9  19.6  20.8  20.6  19.7  23.8  23.6  24.1  20.   25.3  24.3\n",
      "  35.8  21.6  21.4  22.1  22.7  25.9  26.3  25.7  26.7]\n"
     ]
    },
    {
     "name": "stdout",
     "output_type": "stream",
     "text": [
      "[  3.    3.    3.    3.    3.    3.    1.    1.    7.   24.7  23.6  36.7\n",
      "  38.8  36.5  31.   26.5  29.8  34.   38.3  92.7  31.7 104.3  59.4 106.1\n",
      "  48.8  55.1  55.6  41.7  23.9  24.8  35.1  28.2  34.   31.2  29.9  26.1\n",
      "  28.7  24.3  34.7  56.9  26.6  80.2  83.1  87.9  21.3 104.3  93.5 120.5\n",
      "  75.4 116.5 137.7 149.3 136.8 118.9 140.5 114.9 115.4 112.1 107.8  98.7\n",
      " 101.  121.6 122.6 106.2 107.8 150.6  87.9 105.3 136.2 120.2  80.8 150.4\n",
      " 143.  144.   95.3 130.8 101.  116.7 115.4  99.3  81.4]\n",
      "[  3.    3.    3.    3.    3.    3.    1.    1.    3.   13.2  24.7  38.3\n",
      "  21.2  36.8  61.2  37.6  89.7  76.1  81.9  34.1  61.4  79.9  97.6  60.3\n",
      "  54.9  35.   76.   80.7  31.6  30.   46.8  37.2  26.4  30.7  27.2  85.4\n",
      "  81.2  22.9 118.6 120.8  89.7 104.2  83.7  96.1  22.1 114.9 117.5  95.8\n",
      " 125.3 106.9 111.7 147.9 154.7 101.  109.8 154.1 103.3 134.1 126.5  97.9\n",
      " 115.3  74.9 114.5 104.9 101.9  76.5 105.6  91.2  82.8 100.7  89.9  80.5\n",
      "  53.2  79.8  90.1  85.8 109.5  86.7  85.1 109.4  89. ]\n",
      "[  2.    2.    2.    2.    2.    2.    1.    1.    1.   18.7  22.1  29.6\n",
      "  93.9 108.1  99.4 128.7  87.6  97.3  95.3  98.1  57.9  30.6 107.2  18.2\n",
      "  14.1  46.8  17.3  20.6  20.6  17.1  25.1  17.   16.   26.9  87.5  17.\n",
      " 123.3 140.1 115.8  17.1 106.8 107.6 113.7 118.6 118.  145.8  99.7 124.8\n",
      "  95.9 109.3 111.6 102.2 152.1  98.4 134.7  89.5  95.3 105.8 128.4 113.1\n",
      " 105.1  92.7 119.8 107.2 110.8 102.9 112.4  97.8 100.7 128.4 126.  118.2\n",
      " 103.4 116.7 111.8 103.6  86.7 100.6 108.7  84.6  94.5]\n",
      "[  2.8   2.8   2.8   2.8   2.8   2.8   1.    1.    1.    1.    1.   16.7\n",
      "  18.5  19.1  22.9  18.   19.6  24.4  21.8  20.4  35.2  43.5  52.1  43.3\n",
      "  60.5  65.   62.5  47.1  71.6  72.3  71.3  76.6 101.5 122.3 131.5 104.7\n",
      "  96.1 113.2  93.3 108.6 118.9  96.1 107.6  93.  138.4 122.5  18.5 102.9\n",
      " 128.9 106.2 127.3 119.3  97.7 122.6  83.  101.5 100.3  97.1  70.5  88.3\n",
      "  30.8  40.2  93.5 115.5  87.7  65.2  29.9  40.9  41.   45.4  43.2 106.9\n",
      "  47.2  70.4  42.4  31.5  68.3  73.1  70.8  45.2  28. ]\n",
      "[  3.    3.    3.    3.    3.    3.    1.    1.    1.    1.    1.    3.\n",
      "   5.5  22.   26.   42.1  21.3  18.3  28.9  20.6  22.4 119.6  28.6  23.3\n",
      "  24.3  44.4  54.2  39.1  21.8  22.8  18.   19.9  16.9  36.9  22.3  22.7\n",
      "  21.5  19.2  43.6  20.3  35.4  33.3  44.8  35.4  31.4  21.9  40.3  77.7\n",
      "  36.3  54.9  49.9  43.9  27.5  30.3  32.3  28.   67.7  54.5  40.9  32.2\n",
      "  32.2  34.6  44.6  32.1  53.   37.8  49.9  39.2  55.7  39.5  43.8  38.7\n",
      "  37.   26.7  39.   37.9  54.4  45.7  23.   62.8  28.7]\n",
      "[  3.    3.    3.    3.    3.    3.    1.    1.    7.   27.2  29.8  39.7\n",
      "  65.9  55.7  57.8  63.6  77.6  87.3  86.5  93.  113.5  73.7  77.8  75.6\n",
      "  96.9  57.   38.8  35.4  24.5  21.   66.6  55.7  84.1 126.1 159.5 111.6\n",
      " 162.6 121.5 143.  120.7 124.8 123.1  91.7 112.7 101.3  98.8 115.9 103.4\n",
      " 111.7 132.3 115.2 108.7 120.6 103.1 115.1  97.5 120.  138.1 113.   82.7\n",
      " 108.1  93.5 126.6  79.1  99.   94.3 106.2 138.1 116.5  86.9  88.9 126.7\n",
      " 113.5  98.8 110.4  98.9 109.1 113.7 100.4  86.2 105.7]\n",
      "[  3.    3.    3.    3.    3.    3.    1.    1.    3.   14.4  18.7  20.9\n",
      "  33.   25.6  26.9  18.6  27.4  82.   20.7  85.9  43.6  44.8  59.   92.7\n",
      "  42.8  90.   20.7  34.7  35.5  42.8  35.1 112.9  85.9 105.1 131.3  18.4\n",
      "  91.8  19.6 100.7  96.9  89.9  92.9  21.5 108.   24.9  87.5  26.4  23.9\n",
      "  37.   29.8  44.8  29.   52.6  86.5  83.   98.7  81.3  94.4  29.   30.3\n",
      "  28.1  23.6  26.8  23.   22.8  23.3  21.   20.   20.8  21.7  22.9  27.6\n",
      "  22.9  20.4  22.9  20.4  21.8  21.8  22.   21.8  21. ]\n",
      "[  2.    2.    2.    2.    2.    2.    1.    1.    1.   18.6  19.7  39.3\n",
      " 102.1  99.7  57.5 125.3 126.3 118.   80.3  96.8 124.   99.2  73.5  89.4\n",
      " 118.1  93.3  29.7  15.4  17.6  13.   14.9  13.   20.2  31.6  15.3  24.7\n",
      "  29.4  17.   24.3  33.9  39.9  76.2  46.2  80.2  50.8  43.9  35.5  43.1\n",
      "  48.   32.1  41.2  43.2  34.1  37.1  32.9  53.9  27.8  38.   93.1  54.2\n",
      "  38.6  24.7  51.3  28.3  68.   49.1  25.7  24.9  16.1  64.   77.6  48.4\n",
      "  45.2  49.3  28.8  69.7  37.8  79.4  76.3  42.   36.1]\n",
      "[  2.8   2.8   2.8   2.8   2.8   2.8   1.    1.    1.    1.    1.   18.7\n",
      "  18.9  18.9  22.   23.3  22.8  26.6  52.6  54.8  46.3  20.7  30.5  40.\n",
      "  34.4  28.   28.2  25.8  28.8  27.7  55.5  48.8  48.5  81.1  36.7 108.8\n",
      "  59.8 119.3 115.4  88.4 123.9 118.   90.7  88.7 130.8  82.6  89.7  52.2\n",
      "  96.9  45.6  94.7  90.1  79.5  87.  104.8 116.2  85.  105.3  99.9  94.3\n",
      "  95.7  93.5  81.1 102.5 101.   97.6  82.  105.7 117.  129.9  76.9  96.1\n",
      "  86.4 127.3  96.5 109.4 104.1  96.9 104.9 111.7  91.9]\n",
      "[ 3.   3.   3.   3.   3.   3.   1.   1.   1.   1.   1.   3.   5.5 12.8\n",
      " 29.9 21.6 18.9 22.4 22.1 47.1 43.5 72.6 42.5 32.8 79.1 44.2 33.1 30.1\n",
      " 36.7 34.2 48.6 53.1 35.5 24.1 40.4 30.8 36.8 30.7 36.7 31.8 30.3 19.3\n",
      " 40.2 34.6 41.7 44.1 24.4 34.3 22.8 32.4 26.7 34.2 48.6 40.3 25.2 48.8\n",
      " 44.3 41.7 36.2 34.6 37.  29.3 39.2 18.4 18.  37.8 27.  33.6 37.7 33.1\n",
      " 26.2 29.8 46.8 33.4 53.  29.3 39.6 54.9 34.7 28.6 26.7]\n",
      "[  3.    3.    3.    3.    3.    3.    1.    1.    7.   17.8  24.5  40.4\n",
      "  31.2  24.9  33.8  32.6  49.2  74.9  59.8  37.4  48.4  22.7  23.1  39.3\n",
      "  38.9  27.2  39.8  43.5  38.6  70.4  43.6  38.2 119.2  92.3  86.3  86.9\n",
      "  99.2  86.8  93.4  91.3 113.2 123.6 106.7 107.3 127.8  91.7 112.1  91.6\n",
      " 113.7 102.1 109.6 124.8 106.2  83.5  86.8 111.8 110.9  90.8 101.4  95.8\n",
      "  64.1  83.1  92.1  90.  101.5  94.5  81.9  82.2 113.9 106.6  87.5 102.5\n",
      "  95.7  91.4  94.4  80.7  99.5 121.8  96.5  96.6 130.5]\n",
      "[  3.    3.    3.    3.    3.    3.    1.    1.    3.   14.4  17.7  30.4\n",
      "  27.2  29.1  55.   96.8  53.5 125.6  99.9 103.6 109.4  86.6  84.2  96.4\n",
      "  54.9  29.3  97.8  70.7  79.1  94.7  88.  107.3  89.2 108.   99.4  78.6\n",
      " 102.6  87.8  95.4 102.6  95.4  96.7  97.3  85.2 135.  101.7  88.1 102.4\n",
      " 102.   55.   94.9  84.5  57.4 120.  117.2 127.   98.5 100.5 121.1 114.8\n",
      " 101.3  78.5 105.4  71.5  86.7 100.7 114.3  98.1  56.2 111.6  83.5  82.6\n",
      "  69.4  92.7 107.2  82.6  63.5  78.5  94.9  96.5  90.5]\n",
      "[  2.    2.    2.    2.    2.    2.    1.    1.    1.   11.3  19.3  31.4\n",
      "  70.4 110.   91.   95.3  92.8  97.8  88.4  85.9 131.  115.8  92.9  86.6\n",
      "  14.   27.   84.4  85.1  60.9  65.4  75.1 111.   97.3  88.2  99.4 101.5\n",
      " 102.4  90.3 107.2 107.7 118.6 101.1  80.  106.7 144.  113.9 114.6 127.1\n",
      " 108.8 128.2 168.2 123.9 121.5 107.  113.8 122.3 110.6 117.7 130.8 137.4\n",
      " 110.5 132.3 121.2  99.1 100.9 104.5 126.4 150.5 158.8  99.9  95.1 112.5\n",
      " 103.   98.3 105.7 121.3 106.6 104.9  98.8 130.3 129.3]\n",
      "[  2.8   2.8   2.8   2.8   2.8   2.8   1.    1.    1.    1.    1.   17.8\n",
      "  18.5  19.   20.9  28.9  30.9  76.7  94.   46.7  43.1  60.   35.3  39.8\n",
      "  22.   18.7  29.5  32.6  27.6  48.   43.7  20.7 106.1  68.1  52.4 103.\n",
      "  26.4  20.1 121.9 124.   97.4  98.6  90.6  85.3  92.3  84.2  92.4  93.6\n",
      "  89.5 107.9  88.4  19.8  82.5 117.7  96.5 107.   94.6 100.1  88.6 121.9\n",
      " 108.2  93.2 115.3  96.9 117.6 100.6 128.9 108.1  97.5  76.8 112.8  98.1\n",
      "  86.6 127.1 122.7  74.2 132.  117.7  89.9  77.7 102.9]\n",
      "[  3.    3.    3.    3.    3.    3.    1.    1.    1.    1.    1.    3.\n",
      "   5.5  12.6  24.1  31.4  20.4  21.3  17.1  48.9  29.5  28.2  52.6  68.6\n",
      " 110.9  43.1  39.   25.1  29.7  44.7  37.2  25.8  24.7  26.1  48.8  25.4\n",
      "  36.1  34.1  34.   44.7  38.9  28.   70.3  51.2  95.3  58.9  18.9  71.8\n",
      "  93.5  17.1  62.5  35.1  61.   55.3  57.6  18.4  20.8  52.3  16.8  17.6\n",
      "  25.5  21.7  19.2  21.6  17.5  18.3  19.7  23.2  21.7  30.3  22.1  18.7\n",
      "  22.1  26.8  28.7  31.3  30.3  19.   35.8  35.9  35.5]\n",
      "[  3.    3.    3.    3.    3.    3.    1.    1.    7.   16.7  28.1  50.\n",
      "  51.1  44.4  73.   41.9  45.6  69.3  72.2  79.8  68.1  41.2  44.4  50.7\n",
      "  42.2  22.   50.3  69.8  42.7  36.7  20.3  77.1  88.1  44.2 111.2 103.7\n",
      " 102.5  97.4  89.5  96.5  87.2 151.6  97.9  87.3 113.9 109.1 115.7  98.4\n",
      " 128.7 129.4  93.  108.6 121.6  99.3  82.5 105.9  95.2  78.5  93.2  85.\n",
      " 112.3  98.  106.1  99.7  90.  135.5 105.8  86.5  83.5  92.8  45.3  86.7\n",
      "  63.1  49.7  96.3  75.3 115.9  88.2  90.8  92.1 100.7]\n",
      "[  3.    3.    3.    3.    3.    3.    1.    1.    3.   14.1  29.1  28.6\n",
      "  25.1  25.   31.4  22.8  40.5  46.   20.3  71.8 103.8  40.5  50.8  21.\n",
      "  39.2  16.9  64.9 100.9  71.4 130.  101.   76.  104.4  98.9 101.6 125.\n",
      "  83.4  95.6  97.8 106.9 123.9 110.8  90.8  79.  113.3 140.9 101.6 100.5\n",
      " 116.1  87.8  85.4  84.3 111.   82.6  86.7  99.9  87.2  86.7 107.1 112.4\n",
      " 101.   94.5 103.   90.1  84.   79.7  77.8  81.3 110.   80.3  98.3  98.9\n",
      "  97.3 109.7  99.7 118.6  81.  113.  117.6  95.2 128.3]\n",
      "[  2.    2.    2.    2.    2.    2.    1.    1.    1.   19.8  24.1  41.8\n",
      "  58.7  85.2  79.9  91.7 109.3  84.5  87.   94.3  95.3 110.8 118.4  92.\n",
      " 109.5 111.   95.5  13.   84.4  74.8  20.5  11.   15.1 101.7  29.  107.3\n",
      " 101.9  92.8 106.6  92.1  90.7  93.5 109.2 103.1  83.9  78.9  89.1  93.4\n",
      " 107.   29.2  18.   37.   25.   20.3  14.9  42.5  21.2  20.9  27.1  22.\n",
      "  22.   20.2  50.6  51.2  33.8  49.3  46.5  41.9  24.   24.7  24.5  28.\n",
      "  48.3  60.3  65.3  55.2  20.1  48.3  19.6  25.4  29. ]\n",
      "[  2.8   2.8   2.8   2.8   2.8   2.8   1.    1.    1.    1.    1.   17.4\n",
      "  18.4  20.3  23.8  20.8  27.7  34.5  72.8  69.   71.   33.6  37.6  30.3\n",
      "  45.4  26.5  23.5  25.8  32.6  30.5  37.3  41.2  65.7  95.5  64.4 116.2\n",
      "  96.9  97.9 143.6 112.7 110.6 100.2  88.8 104.1  97.3  91.8  82.6 106.4\n",
      "  83.   93.2 104.4  80.4  93.9  88.3 111.8 101.9  97.8 121.8  99.2  92.\n",
      "  84.7  98.5 105.5  87.2  71.7 105.1 100.4  79.6  78.8  89.  105.3  84.9\n",
      "  91.1  90.8  82.8  82.9  90.4  93.5  21.2  25.7  81.1]\n",
      "[ 3.   3.   3.   3.   3.   3.   1.   1.   1.   1.   1.   3.   5.5 16.5\n",
      " 24.3 71.4 36.3 23.6 46.1 18.9 28.2 82.1 78.5 68.4 23.1 14.1 43.3 53.\n",
      " 16.7 14.  13.1 49.9 23.9 39.2 31.1 17.2 18.7 24.9 33.2 23.3 37.3 36.5\n",
      " 29.1 30.5 26.8 47.5 65.1 27.1 31.1 32.2 41.9 45.8 43.1 27.8 34.8 26.3\n",
      " 27.2 30.  28.5 25.3 45.5 39.2 28.4 29.7 22.3 46.3 32.1 34.8 34.2 27.5\n",
      " 31.5 34.9 15.9 22.3 31.5 40.3 27.4 17.2 36.8 32.2 35.7]\n",
      "[  3.    3.    3.    3.    3.    3.    1.    1.    7.   21.4  25.3  57.6\n",
      "  52.9  35.8  44.2  33.9  28.4  27.7  38.3  33.4 120.  101.3  98.2  82.3\n",
      "  62.8 112.2  85.4  79.  116.   83.7 155.4  86.9  88.3 113.6 113.1 116.3\n",
      "  82.4 118.2  96.2 117.7 121.8 121.7  93.   95.4  77.  117.6 131.9 112.3\n",
      "  98.1 113.7  95.1 148.  134.2  99.  133.5 123.9  92.8 151.1 143.8 109.2\n",
      " 122.4  93.2  88.4  93.  131.4 134.7  86.6 107.6 118.1 104.8 120.1  96.2\n",
      " 137.3  89.5  93.   97.4  89.1 129.7 119.3  89.  105.6]\n",
      "[  3.    3.    3.    3.    3.    3.    1.    1.    3.   12.9  21.5  27.9\n",
      "  26.4  26.1  30.8  34.7  26.4  46.1  27.   87.4  59.6  98.2  91.5  90.1\n",
      "  94.   32.8 107.7 116.9 103.2 117.2  97.6  94.4 120.9  91.2  99.7  83.5\n",
      "  92.2  98.7 109.7  93.2 112.3  99.3 104.4 101.5  78.   84.6 148.5 106.5\n",
      " 107.5 112.7  85.7 137.8 133.1 105.7 108.  112.1  94.9  86.9  88.7 100.3\n",
      " 104.1 116.9 134.9  93.1 123.8 111.4 110.9 106.7 139.1 131.  125.2  88.5\n",
      " 101.6  89.5 123.3 105.5  77.7 119.8  98.   84.3  84.5]\n",
      "[  2.    2.    2.    2.    2.    2.    1.    1.    1.   18.2  23.1  32.8\n",
      "  52.4  31.7  43.3  63.6  66.4  77.6  94.9 123.  121.7 109.9 103.  109.3\n",
      " 110.3 140.   91.8  77.4 104.2  86.7 115.6  93.8 100.8  94.6 105.6  90.1\n",
      "  36.7  88.1  42.4  15.   78.1 101.6  34.1  91.9  70.3 107.3 103.6  81.6\n",
      "  93.7  83.1  90.6  89.2  67.3  91.8 108.3  75.5  60.4  85.9  84.6  99.3\n",
      "  91.9 101.1  82.9  99.6  85.5  84.8  51.7  97.1  92.9  98.4  41.1 101.8\n",
      "  69.2  49.   81.   53.7  41.6  22.1 102.5  86.6  23.9]\n",
      "[  2.8   2.8   2.8   2.8   2.8   2.8   1.    1.    1.    1.    1.   16.7\n",
      "  20.8  20.4  22.8  24.7  37.6  36.8  32.8  17.1  16.6  16.6  22.   19.8\n",
      "  20.   30.3  53.7  68.   45.9 103.5  86.7  89.2  82.9  95.9  95.9 113.8\n",
      "  93.3  93.9  81.6  89.8 121.5  83.2 121.8  92.3  82.6  97.4  94.2  61.6\n",
      "  99.7 113.8  73.   66.2  88.   93.3  88.1  47.6  74.5  25.4  88.1  53.1\n",
      "  41.5  26.3  58.1  44.5  89.7  53.2  80.2  33.9  28.4  31.9  34.3  26.4\n",
      "  35.2  28.1  23.8  25.4  37.6  30.3  29.   48.2  36.7]\n",
      "[ 3.   3.   3.   3.   3.   3.   1.   1.   1.   1.   1.   3.   5.5 17.6\n",
      " 22.  36.9 17.8 16.8 47.4 14.6 17.4 21.4 17.1 27.  19.6 15.8 16.1 16.2\n",
      " 14.9 21.7 22.7 35.  16.  36.9 26.3 15.7 48.6 24.  55.  24.9 20.  21.3\n",
      " 20.6 26.2 72.7 22.5 17.6 20.6 26.1 20.7 20.4 18.2 24.  20.3 23.3 23.9\n",
      " 18.8 57.7 18.1 27.8 18.1 18.  19.2 16.2 21.3 20.  18.  26.7 36.4 24.3\n",
      " 28.8 18.1 21.1 35.9 31.  28.1 21.  26.5 30.8 69.6 58.8]\n",
      "[  3.    3.    3.    3.    3.    3.    1.    1.    7.   19.1  32.5  33.2\n",
      "  44.1  31.5  32.4  45.6  80.3  44.   36.7  30.6  33.2  34.7  41.4  25.\n",
      "  34.1  32.4  34.3  36.6  31.5  32.2  33.   91.7 114.8  97.6  83.8  72.5\n",
      " 103.7  98.9  98.8  89.9  95.8  93.5  21.9  99.   81.5  26.2  41.9  82.4\n",
      "  84.4  80.9  22.   27.1  99.9  95.6  83.4  36.1  34.5  81.5  48.2  72.\n",
      "  77.5  97.5  89.   66.4  91.1  96.   92.4 106.8  98.6  31.8  83.8  45.4\n",
      "  85.2  43.4  79.5  89.6  92.   88.9  88.5  90.   28.8]\n",
      "[  3.    3.    3.    3.    3.    3.    1.    1.    3.   13.4  21.6  23.2\n",
      "  23.4  23.3  24.5  38.6  40.6  54.4  37.3  56.4  81.7  85.2  49.4  71.1\n",
      "  98.1  78.3 107.4  81.8  87.4  96.9  95.3  91.7  98.9  86.7  89.6 111.1\n",
      "  78.5  97.6 117.9  72.5  82.  106.9  87.   25.3  26.4  80.4 113.   91.1\n",
      "  97.   58.   85.4  50.   46.8  49.1  20.6  27.   68.2  27.9  25.5  23.5\n",
      "  57.5  23.5  22.3  22.8  23.4  51.9  25.7  23.6  25.6  23.4  23.4  22.8\n",
      "  22.8  32.9  26.9  21.2  23.7  27.4  26.   83.8  39. ]\n",
      "[  2.    2.    2.    2.    2.    2.    1.    1.    1.   15.1  20.   25.1\n",
      "  64.5  69.9  83.9  95.4 114.3  92.8  86.8 101.3 135.  127.9 102.7  95.3\n",
      " 141.8  86.   92.6  88.1  94.3 117.1  78.7  94.4 113.9  92.6  87.1  91.9\n",
      " 122.7  94.   95.5  19.4 100.3  15.5  30.4  24.4  34.   18.9  22.1  17.9\n",
      "  19.8  27.4  20.3  29.1  29.5  32.4  32.3  31.4  43.9  31.8  50.3  36.7\n",
      "  20.9  27.9  34.1  21.4  24.6  55.   41.2  32.   34.7  29.2  48.3  42.1\n",
      "  30.2  34.   37.7  89.9  66.9  29.   41.3  34.3  41. ]\n",
      "[  2.8   2.8   2.8   2.8   2.8   2.8   1.    1.    1.    1.    1.   17.4\n",
      "  16.4  23.3  22.   28.3  37.4  53.1  28.2  36.7  53.3  46.7  32.9  32.1\n",
      "  30.6  31.2  33.   33.   31.4  32.9  35.7  82.9  34.1  43.2 104.3 114.1\n",
      "  92.6  95.3 108.  109.2 102.5  94.6 118.8 148.2  87.   88.2  95.5  65.8\n",
      "  86.1  80.5 100.5 115.4  80.4  70.4  94.1  98.8 105.2  83.2 105.9 113.2\n",
      "  83.7  93.6  87.3  98.2  96.2  96.   91.6  97.9 105.3 105.9 101.5  91.2\n",
      "  84.9  87.4  83.9  69.8  82.8  78.   91.6 101.4  88.9]\n",
      "[ 3.   3.   3.   3.   3.   3.   1.   1.   1.   1.   1.   3.   5.5 17.\n",
      " 32.  22.  20.9 21.4 18.9 16.7 14.  14.9 19.  14.4 17.1 36.6 22.3 72.1\n",
      " 36.  19.  20.2 22.5 35.2 20.5 36.2 19.4 18.  35.  24.  18.  25.2 23.9\n",
      " 18.8 22.7 23.1 21.4 32.6 53.1 21.1 27.  42.  29.8 41.3 43.3 20.  25.4\n",
      " 21.6 19.8 22.6 35.5 29.8 20.4 22.4 24.1 21.5 28.1 25.8 72.9 28.2 30.4\n",
      " 43.6 28.3 16.8 24.9 30.  45.4 79.7 53.  16.4 48.8 25.9]\n",
      "[  3.    3.    3.    3.    3.    3.    1.    1.    7.   20.3  32.2  69.9\n",
      "  41.5  43.   93.2 112.7 107.9 108.1  99.4  83.  110.9  92.2 100.5  16.4\n",
      "  78.8  56.8  44.9  20.8  71.   98.7  33.   59.   19.5  21.6  25.2  41.6\n",
      "  45.7  52.4  55.9  63.4  73.5  56.9  47.4  98.9  80.   45.4  64.3 115.4\n",
      "  41.7  50.8  91.5  78.1  96.  118.2  89.9 106.4  91.7  77.2  44.6  99.9\n",
      " 102.7  92.3  80.5  86.3  79.5 102.8  83.8  93.3  86.   75.   84.4  83.6\n",
      "  94.8  84.7  76.7  83.9  85.9  60.8  51.   54.9  42.6]\n",
      "[  3.    3.    3.    3.    3.    3.    1.    1.    3.   14.3  24.6  22.9\n",
      "  27.4  23.8  37.1  84.2 112.6  88.5  88.3  79.3  26.1  23.6  22.8 117.4\n",
      "  95.8  45.9  36.4  95.2 111.9  99.8  85.   95.3  97.1  78.9  45.6  46.4\n",
      "  86.4 115.2  94.4  85.1 107.2 107.5 103.3  87.8  94.5  79.   31.1 118.\n",
      "  67.6  97.4  85.2  52.3  96.1  86.   72.4  85.8  80.7 105.   90.5  44.4\n",
      "  43.   84.9 103.3  40.1  99.6  74.8  90.6  96.9  92.4  83.3  34.4  72.4\n",
      "  98.5  34.8  30.5  82.4  67.6  75.   53.1  84.6 100.7]\n",
      "[  2.    2.    2.    2.    2.    2.    1.    1.    1.   13.6  21.6  28.\n",
      "  43.9  66.4  74.9  68.7  54.9  55.   86.1 101.3  82.   88.  107.3  90.2\n",
      " 100.5  77.9 104.6  85.7 106.7  87.9  91.9 112.5  98.8  93.4 106.   89.4\n",
      " 110.2  92.7  90.7 105.  102.1  95.   85.3  96.9  94.9 108.3  98.7  81.6\n",
      "  87.4  83.6  92.9  95.1 118.6  87.   85.   75.7  91.3  74.6 109.2  72.1\n",
      "  87.7  90.2  87.1  74.   97.8  70.4  70.4  76.   91.2  80.7 102.2 102.5\n",
      "  34.6  99.8  34.6  41.5  48.5  42.5  49.6  64.5  53.6]\n",
      "[  2.8   2.8   2.8   2.8   2.8   2.8   1.    1.    1.    1.    1.   19.1\n",
      "  20.8  29.3  30.8  27.8  29.5  21.4  62.9  30.9  34.2  28.6  38.5  28.4\n",
      "  24.1  25.7  17.7  16.5  18.2  18.6  20.6  23.9 112.3 100.4  89.9  79.\n",
      "  78.4  20.6  66.6  80.1  83.1  81.6 107.1  73.2 105.7 102.   89.7 118.\n",
      "  85.1  99.2  86.5  90.7  86.8  88.4  78.6  87.5  81.1  44.9  80.9  50.7\n",
      "  58.2  75.3  89.8  95.1  89.2  73.2  68.1  28.3  82.3  92.8  33.1  25.\n",
      "  53.6  34.9  30.6  28.8  25.3  25.6  25.9  25.9  27.8]\n",
      "[ 3.   3.   3.   3.   3.   3.   1.   1.   1.   1.   1.   3.   5.5 12.8\n",
      " 22.7 30.  18.9 25.6 24.3 62.8 21.9 19.6 23.5 18.1 29.5 21.6 15.5 16.1\n",
      " 14.6 13.  19.  18.2 23.  16.5 20.5 18.  16.  17.7 20.  17.4 23.6 28.8\n",
      " 16.6 28.2 36.4 18.  87.3 83.9 18.  14.1 22.  26.  52.2 39.6 32.  37.5\n",
      " 13.  18.  15.9 16.6 17.6 24.8 32.4 37.4 15.  40.3 14.9 16.9 25.1 36.5\n",
      " 21.8 37.  84.5 28.  16.9 15.3 14.  26.6 51.2 16.7 13. ]\n",
      "[1.8 1.8 1.8 1.8 1.8 1.8 1.  1.  1.  1.  1.  1.  1.  1.  1.  1.  1.  1.\n",
      " 1.  1.  1.  1.  1.  1.  1.  1.  1.  1.  1.  1.  1.  1.  1.  1.  1.  1.\n",
      " 1.  1.  1.  1.  1.  1.  1.  1.  1.  1.  1.  1.  1.  1.  1.  1.  1.  1.\n",
      " 1.  1.  1.  1.  1.  1.  1.  1.  1.  1.  1.  1.  1.  1.  1.  1.  1.  1.\n",
      " 1.  1.  1.  1.  1.  1.  1.  1.  1. ]\n",
      "[2. 2. 2. 2. 2. 2. 1. 1. 1. 1. 1. 1. 1. 1. 1. 1. 1. 1. 1. 1. 1. 1. 1. 1.\n",
      " 1. 1. 1. 1. 1. 1. 1. 1. 1. 1. 1. 1. 1. 1. 1. 1. 1. 1. 1. 1. 1. 1. 1. 1.\n",
      " 1. 1. 1. 1. 1. 1. 1. 1. 1. 1. 1. 1. 1. 1. 1. 1. 1. 1. 1. 1. 1. 1. 1. 1.\n",
      " 1. 1. 1. 1. 1. 1. 1. 1. 1.]\n",
      "[1. 1. 1. 1. 1. 1. 1. 1. 1. 1. 1. 1. 1. 1. 1. 1. 1. 1. 1. 1. 1. 1. 1. 1.\n",
      " 1. 1. 1. 1. 1. 1. 1. 1. 1. 1. 1. 1. 1. 1. 1. 1. 1. 1. 1. 1. 1. 1. 1. 1.\n",
      " 1. 1. 1. 1. 1. 1. 1. 1. 1. 1. 1. 1. 1. 1. 1. 1. 1. 1. 1. 1. 1. 1. 1. 1.\n",
      " 1. 1. 1. 1. 1. 1. 1. 1. 1.]\n",
      "[2. 2. 2. 2. 2. 2. 1. 1. 1. 1. 1. 1. 1. 1. 1. 1. 1. 1. 1. 1. 1. 1. 1. 1.\n",
      " 1. 1. 1. 1. 1. 1. 1. 1. 1. 1. 1. 1. 1. 1. 1. 1. 1. 1. 1. 1. 1. 1. 1. 1.\n",
      " 1. 1. 1. 1. 1. 1. 1. 1. 1. 1. 1. 1. 1. 1. 1. 1. 1. 1. 1. 1. 1. 1. 1. 1.\n",
      " 1. 1. 1. 1. 1. 1. 1. 1. 1.]\n",
      "[2. 2. 2. 2. 2. 2. 1. 1. 1. 1. 1. 1. 1. 1. 1. 1. 1. 1. 1. 1. 1. 1. 1. 1.\n",
      " 1. 1. 1. 1. 1. 1. 1. 1. 1. 1. 1. 1. 1. 1. 1. 1. 1. 1. 1. 1. 1. 1. 1. 1.\n",
      " 1. 1. 1. 1. 1. 1. 1. 1. 1. 1. 1. 1. 1. 1. 1. 1. 1. 1. 1. 1. 1. 1. 1. 1.\n",
      " 1. 1. 1. 1. 1. 1. 1. 1. 1.]\n",
      "[1.8 1.8 1.8 1.8 1.8 1.8 1.  1.  1.  1.  1.  1.  1.  1.  1.  1.  1.  1.\n",
      " 1.  1.  1.  1.  1.  1.  1.  1.  1.  1.  1.  1.  1.  1.  1.  1.  1.  1.\n",
      " 1.  1.  1.  1.  1.  1.  1.  1.  1.  1.  1.  1.  1.  1.  1.  1.  1.  1.\n",
      " 1.  1.  1.  1.  1.  1.  1.  1.  1.  1.  1.  1.  1.  1.  1.  1.  1.  1.\n",
      " 1.  1.  1.  1.  1.  1.  1.  1.  1. ]\n",
      "[2. 2. 2. 2. 2. 2. 1. 1. 1. 1. 1. 1. 1. 1. 1. 1. 1. 1. 1. 1. 1. 1. 1. 1.\n",
      " 1. 1. 1. 1. 1. 1. 1. 1. 1. 1. 1. 1. 1. 1. 1. 1. 1. 1. 1. 1. 1. 1. 1. 1.\n",
      " 1. 1. 1. 1. 1. 1. 1. 1. 1. 1. 1. 1. 1. 1. 1. 1. 1. 1. 1. 1. 1. 1. 1. 1.\n",
      " 1. 1. 1. 1. 1. 1. 1. 1. 1.]\n",
      "[1. 1. 1. 1. 1. 1. 1. 1. 1. 1. 1. 1. 1. 1. 1. 1. 1. 1. 1. 1. 1. 1. 1. 1.\n",
      " 1. 1. 1. 1. 1. 1. 1. 1. 1. 1. 1. 1. 1. 1. 1. 1. 1. 1. 1. 1. 1. 1. 1. 1.\n",
      " 1. 1. 1. 1. 1. 1. 1. 1. 1. 1. 1. 1. 1. 1. 1. 1. 1. 1. 1. 1. 1. 1. 1. 1.\n",
      " 1. 1. 1. 1. 1. 1. 1. 1. 1.]\n",
      "[2. 2. 2. 2. 2. 2. 1. 1. 1. 1. 1. 1. 1. 1. 1. 1. 1. 1. 1. 1. 1. 1. 1. 1.\n",
      " 1. 1. 1. 1. 1. 1. 1. 1. 1. 1. 1. 1. 1. 1. 1. 1. 1. 1. 1. 1. 1. 1. 1. 1.\n",
      " 1. 1. 1. 1. 1. 1. 1. 1. 1. 1. 1. 1. 1. 1. 1. 1. 1. 1. 1. 1. 1. 1. 1. 1.\n",
      " 1. 1. 1. 1. 1. 1. 1. 1. 1.]\n",
      "[2. 2. 2. 2. 2. 2. 1. 1. 1. 1. 1. 1. 1. 1. 1. 1. 1. 1. 1. 1. 1. 1. 1. 1.\n",
      " 1. 1. 1. 1. 1. 1. 1. 1. 1. 1. 1. 1. 1. 1. 1. 1. 1. 1. 1. 1. 1. 1. 1. 1.\n",
      " 1. 1. 1. 1. 1. 1. 1. 1. 1. 1. 1. 1. 1. 1. 1. 1. 1. 1. 1. 1. 1. 1. 1. 1.\n",
      " 1. 1. 1. 1. 1. 1. 1. 1. 1.]\n",
      "[1.8 1.8 1.8 1.8 1.8 1.8 1.  1.  1.  1.  1.  1.  1.  1.  1.  1.  1.  1.\n",
      " 1.  1.  1.  1.  1.  1.  1.  1.  1.  1.  1.  1.  1.  1.  1.  1.  1.  1.\n",
      " 1.  1.  1.  1.  1.  1.  1.  1.  1.  1.  1.  1.  1.  1.  1.  1.  1.  1.\n",
      " 1.  1.  1.  1.  1.  1.  1.  1.  1.  1.  1.  1.  1.  1.  1.  1.  1.  1.\n",
      " 1.  1.  1.  1.  1.  1.  1.  1.  1. ]\n",
      "[2. 2. 2. 2. 2. 2. 1. 1. 1. 1. 1. 1. 1. 1. 1. 1. 1. 1. 1. 1. 1. 1. 1. 1.\n",
      " 1. 1. 1. 1. 1. 1. 1. 1. 1. 1. 1. 1. 1. 1. 1. 1. 1. 1. 1. 1. 1. 1. 1. 1.\n",
      " 1. 1. 1. 1. 1. 1. 1. 1. 1. 1. 1. 1. 1. 1. 1. 1. 1. 1. 1. 1. 1. 1. 1. 1.\n",
      " 1. 1. 1. 1. 1. 1. 1. 1. 1.]\n",
      "[1. 1. 1. 1. 1. 1. 1. 1. 1. 1. 1. 1. 1. 1. 1. 1. 1. 1. 1. 1. 1. 1. 1. 1.\n",
      " 1. 1. 1. 1. 1. 1. 1. 1. 1. 1. 1. 1. 1. 1. 1. 1. 1. 1. 1. 1. 1. 1. 1. 1.\n",
      " 1. 1. 1. 1. 1. 1. 1. 1. 1. 1. 1. 1. 1. 1. 1. 1. 1. 1. 1. 1. 1. 1. 1. 1.\n",
      " 1. 1. 1. 1. 1. 1. 1. 1. 1.]\n",
      "[2. 2. 2. 2. 2. 2. 1. 1. 1. 1. 1. 1. 1. 1. 1. 1. 1. 1. 1. 1. 1. 1. 1. 1.\n",
      " 1. 1. 1. 1. 1. 1. 1. 1. 1. 1. 1. 1. 1. 1. 1. 1. 1. 1. 1. 1. 1. 1. 1. 1.\n",
      " 1. 1. 1. 1. 1. 1. 1. 1. 1. 1. 1. 1. 1. 1. 1. 1. 1. 1. 1. 1. 1. 1. 1. 1.\n",
      " 1. 1. 1. 1. 1. 1. 1. 1. 1.]\n",
      "[2. 2. 2. 2. 2. 2. 1. 1. 1. 1. 1. 1. 1. 1. 1. 1. 1. 1. 1. 1. 1. 1. 1. 1.\n",
      " 1. 1. 1. 1. 1. 1. 1. 1. 1. 1. 1. 1. 1. 1. 1. 1. 1. 1. 1. 1. 1. 1. 1. 1.\n",
      " 1. 1. 1. 1. 1. 1. 1. 1. 1. 1. 1. 1. 1. 1. 1. 1. 1. 1. 1. 1. 1. 1. 1. 1.\n",
      " 1. 1. 1. 1. 1. 1. 1. 1. 1.]\n",
      "[1.8 1.8 1.8 1.8 1.8 1.8 1.  1.  1.  1.  1.  1.  1.  1.  1.  1.  1.  1.\n",
      " 1.  1.  1.  1.  1.  1.  1.  1.  1.  1.  1.  1.  1.  1.  1.  1.  1.  1.\n",
      " 1.  1.  1.  1.  1.  1.  1.  1.  1.  1.  1.  1.  1.  1.  1.  1.  1.  1.\n",
      " 1.  1.  1.  1.  1.  1.  1.  1.  1.  1.  1.  1.  1.  1.  1.  1.  1.  1.\n",
      " 1.  1.  1.  1.  1.  1.  1.  1.  1. ]\n",
      "[2. 2. 2. 2. 2. 2. 1. 1. 1. 1. 1. 1. 1. 1. 1. 1. 1. 1. 1. 1. 1. 1. 1. 1.\n",
      " 1. 1. 1. 1. 1. 1. 1. 1. 1. 1. 1. 1. 1. 1. 1. 1. 1. 1. 1. 1. 1. 1. 1. 1.\n",
      " 1. 1. 1. 1. 1. 1. 1. 1. 1. 1. 1. 1. 1. 1. 1. 1. 1. 1. 1. 1. 1. 1. 1. 1.\n",
      " 1. 1. 1. 1. 1. 1. 1. 1. 1.]\n",
      "[1. 1. 1. 1. 1. 1. 1. 1. 1. 1. 1. 1. 1. 1. 1. 1. 1. 1. 1. 1. 1. 1. 1. 1.\n",
      " 1. 1. 1. 1. 1. 1. 1. 1. 1. 1. 1. 1. 1. 1. 1. 1. 1. 1. 1. 1. 1. 1. 1. 1.\n",
      " 1. 1. 1. 1. 1. 1. 1. 1. 1. 1. 1. 1. 1. 1. 1. 1. 1. 1. 1. 1. 1. 1. 1. 1.\n",
      " 1. 1. 1. 1. 1. 1. 1. 1. 1.]\n",
      "[2. 2. 2. 2. 2. 2. 1. 1. 1. 1. 1. 1. 1. 1. 1. 1. 1. 1. 1. 1. 1. 1. 1. 1.\n",
      " 1. 1. 1. 1. 1. 1. 1. 1. 1. 1. 1. 1. 1. 1. 1. 1. 1. 1. 1. 1. 1. 1. 1. 1.\n",
      " 1. 1. 1. 1. 1. 1. 1. 1. 1. 1. 1. 1. 1. 1. 1. 1. 1. 1. 1. 1. 1. 1. 1. 1.\n",
      " 1. 1. 1. 1. 1. 1. 1. 1. 1.]\n",
      "[2. 2. 2. 2. 2. 2. 1. 1. 1. 1. 1. 1. 1. 1. 1. 1. 1. 1. 1. 1. 1. 1. 1. 1.\n",
      " 1. 1. 1. 1. 1. 1. 1. 1. 1. 1. 1. 1. 1. 1. 1. 1. 1. 1. 1. 1. 1. 1. 1. 1.\n",
      " 1. 1. 1. 1. 1. 1. 1. 1. 1. 1. 1. 1. 1. 1. 1. 1. 1. 1. 1. 1. 1. 1. 1. 1.\n",
      " 1. 1. 1. 1. 1. 1. 1. 1. 1.]\n",
      "[1.8 1.8 1.8 1.8 1.8 1.8 1.  1.  1.  1.  1.  1.  1.  1.  1.  1.  1.  1.\n",
      " 1.  1.  1.  1.  1.  1.  1.  1.  1.  1.  1.  1.  1.  1.  1.  1.  1.  1.\n",
      " 1.  1.  1.  1.  1.  1.  1.  1.  1.  1.  1.  1.  1.  1.  1.  1.  1.  1.\n",
      " 1.  1.  1.  1.  1.  1.  1.  1.  1.  1.  1.  1.  1.  1.  1.  1.  1.  1.\n",
      " 1.  1.  1.  1.  1.  1.  1.  1.  1. ]\n",
      "[2. 2. 2. 2. 2. 2. 1. 1. 1. 1. 1. 1. 1. 1. 1. 1. 1. 1. 1. 1. 1. 1. 1. 1.\n",
      " 1. 1. 1. 1. 1. 1. 1. 1. 1. 1. 1. 1. 1. 1. 1. 1. 1. 1. 1. 1. 1. 1. 1. 1.\n",
      " 1. 1. 1. 1. 1. 1. 1. 1. 1. 1. 1. 1. 1. 1. 1. 1. 1. 1. 1. 1. 1. 1. 1. 1.\n",
      " 1. 1. 1. 1. 1. 1. 1. 1. 1.]\n",
      "[1. 1. 1. 1. 1. 1. 1. 1. 1. 1. 1. 1. 1. 1. 1. 1. 1. 1. 1. 1. 1. 1. 1. 1.\n",
      " 1. 1. 1. 1. 1. 1. 1. 1. 1. 1. 1. 1. 1. 1. 1. 1. 1. 1. 1. 1. 1. 1. 1. 1.\n",
      " 1. 1. 1. 1. 1. 1. 1. 1. 1. 1. 1. 1. 1. 1. 1. 1. 1. 1. 1. 1. 1. 1. 1. 1.\n",
      " 1. 1. 1. 1. 1. 1. 1. 1. 1.]\n",
      "[2. 2. 2. 2. 2. 2. 1. 1. 1. 1. 1. 1. 1. 1. 1. 1. 1. 1. 1. 1. 1. 1. 1. 1.\n",
      " 1. 1. 1. 1. 1. 1. 1. 1. 1. 1. 1. 1. 1. 1. 1. 1. 1. 1. 1. 1. 1. 1. 1. 1.\n",
      " 1. 1. 1. 1. 1. 1. 1. 1. 1. 1. 1. 1. 1. 1. 1. 1. 1. 1. 1. 1. 1. 1. 1. 1.\n",
      " 1. 1. 1. 1. 1. 1. 1. 1. 1.]\n",
      "[2. 2. 2. 2. 2. 2. 1. 1. 1. 1. 1. 1. 1. 1. 1. 1. 1. 1. 1. 1. 1. 1. 1. 1.\n",
      " 1. 1. 1. 1. 1. 1. 1. 1. 1. 1. 1. 1. 1. 1. 1. 1. 1. 1. 1. 1. 1. 1. 1. 1.\n",
      " 1. 1. 1. 1. 1. 1. 1. 1. 1. 1. 1. 1. 1. 1. 1. 1. 1. 1. 1. 1. 1. 1. 1. 1.\n",
      " 1. 1. 1. 1. 1. 1. 1. 1. 1.]\n",
      "[1.8 1.8 1.8 1.8 1.8 1.8 1.  1.  1.  1.  1.  1.  1.  1.  1.  1.  1.  1.\n",
      " 1.  1.  1.  1.  1.  1.  1.  1.  1.  1.  1.  1.  1.  1.  1.  1.  1.  1.\n",
      " 1.  1.  1.  1.  1.  1.  1.  1.  1.  1.  1.  1.  1.  1.  1.  1.  1.  1.\n",
      " 1.  1.  1.  1.  1.  1.  1.  1.  1.  1.  1.  1.  1.  1.  1.  1.  1.  1.\n",
      " 1.  1.  1.  1.  1.  1.  1.  1.  1. ]\n",
      "[2. 2. 2. 2. 2. 2. 1. 1. 1. 1. 1. 1. 1. 1. 1. 1. 1. 1. 1. 1. 1. 1. 1. 1.\n",
      " 1. 1. 1. 1. 1. 1. 1. 1. 1. 1. 1. 1. 1. 1. 1. 1. 1. 1. 1. 1. 1. 1. 1. 1.\n",
      " 1. 1. 1. 1. 1. 1. 1. 1. 1. 1. 1. 1. 1. 1. 1. 1. 1. 1. 1. 1. 1. 1. 1. 1.\n",
      " 1. 1. 1. 1. 1. 1. 1. 1. 1.]\n",
      "[1. 1. 1. 1. 1. 1. 1. 1. 1. 1. 1. 1. 1. 1. 1. 1. 1. 1. 1. 1. 1. 1. 1. 1.\n",
      " 1. 1. 1. 1. 1. 1. 1. 1. 1. 1. 1. 1. 1. 1. 1. 1. 1. 1. 1. 1. 1. 1. 1. 1.\n",
      " 1. 1. 1. 1. 1. 1. 1. 1. 1. 1. 1. 1. 1. 1. 1. 1. 1. 1. 1. 1. 1. 1. 1. 1.\n",
      " 1. 1. 1. 1. 1. 1. 1. 1. 1.]\n",
      "[2. 2. 2. 2. 2. 2. 1. 1. 1. 1. 1. 1. 1. 1. 1. 1. 1. 1. 1. 1. 1. 1. 1. 1.\n",
      " 1. 1. 1. 1. 1. 1. 1. 1. 1. 1. 1. 1. 1. 1. 1. 1. 1. 1. 1. 1. 1. 1. 1. 1.\n",
      " 1. 1. 1. 1. 1. 1. 1. 1. 1. 1. 1. 1. 1. 1. 1. 1. 1. 1. 1. 1. 1. 1. 1. 1.\n",
      " 1. 1. 1. 1. 1. 1. 1. 1. 1.]\n",
      "[2. 2. 2. 2. 2. 2. 1. 1. 1. 1. 1. 1. 1. 1. 1. 1. 1. 1. 1. 1. 1. 1. 1. 1.\n",
      " 1. 1. 1. 1. 1. 1. 1. 1. 1. 1. 1. 1. 1. 1. 1. 1. 1. 1. 1. 1. 1. 1. 1. 1.\n",
      " 1. 1. 1. 1. 1. 1. 1. 1. 1. 1. 1. 1. 1. 1. 1. 1. 1. 1. 1. 1. 1. 1. 1. 1.\n",
      " 1. 1. 1. 1. 1. 1. 1. 1. 1.]\n",
      "[1.8 1.8 1.8 1.8 1.8 1.8 1.  1.  1.  1.  1.  1.  1.  1.  1.  1.  1.  1.\n",
      " 1.  1.  1.  1.  1.  1.  1.  1.  1.  1.  1.  1.  1.  1.  1.  1.  1.  1.\n",
      " 1.  1.  1.  1.  1.  1.  1.  1.  1.  1.  1.  1.  1.  1.  1.  1.  1.  1.\n",
      " 1.  1.  1.  1.  1.  1.  1.  1.  1.  1.  1.  1.  1.  1.  1.  1.  1.  1.\n",
      " 1.  1.  1.  1.  1.  1.  1.  1.  1. ]\n",
      "[2. 2. 2. 2. 2. 2. 1. 1. 1. 1. 1. 1. 1. 1. 1. 1. 1. 1. 1. 1. 1. 1. 1. 1.\n",
      " 1. 1. 1. 1. 1. 1. 1. 1. 1. 1. 1. 1. 1. 1. 1. 1. 1. 1. 1. 1. 1. 1. 1. 1.\n",
      " 1. 1. 1. 1. 1. 1. 1. 1. 1. 1. 1. 1. 1. 1. 1. 1. 1. 1. 1. 1. 1. 1. 1. 1.\n",
      " 1. 1. 1. 1. 1. 1. 1. 1. 1.]\n",
      "[1. 1. 1. 1. 1. 1. 1. 1. 1. 1. 1. 1. 1. 1. 1. 1. 1. 1. 1. 1. 1. 1. 1. 1.\n",
      " 1. 1. 1. 1. 1. 1. 1. 1. 1. 1. 1. 1. 1. 1. 1. 1. 1. 1. 1. 1. 1. 1. 1. 1.\n",
      " 1. 1. 1. 1. 1. 1. 1. 1. 1. 1. 1. 1. 1. 1. 1. 1. 1. 1. 1. 1. 1. 1. 1. 1.\n",
      " 1. 1. 1. 1. 1. 1. 1. 1. 1.]\n",
      "[2. 2. 2. 2. 2. 2. 1. 1. 1. 1. 1. 1. 1. 1. 1. 1. 1. 1. 1. 1. 1. 1. 1. 1.\n",
      " 1. 1. 1. 1. 1. 1. 1. 1. 1. 1. 1. 1. 1. 1. 1. 1. 1. 1. 1. 1. 1. 1. 1. 1.\n",
      " 1. 1. 1. 1. 1. 1. 1. 1. 1. 1. 1. 1. 1. 1. 1. 1. 1. 1. 1. 1. 1. 1. 1. 1.\n",
      " 1. 1. 1. 1. 1. 1. 1. 1. 1.]\n",
      "[2. 2. 2. 2. 2. 2. 1. 1. 1. 1. 1. 1. 1. 1. 1. 1. 1. 1. 1. 1. 1. 1. 1. 1.\n",
      " 1. 1. 1. 1. 1. 1. 1. 1. 1. 1. 1. 1. 1. 1. 1. 1. 1. 1. 1. 1. 1. 1. 1. 1.\n",
      " 1. 1. 1. 1. 1. 1. 1. 1. 1. 1. 1. 1. 1. 1. 1. 1. 1. 1. 1. 1. 1. 1. 1. 1.\n",
      " 1. 1. 1. 1. 1. 1. 1. 1. 1.]\n",
      "[1.8 1.8 1.8 1.8 1.8 1.8 1.  1.  1.  1.  1.  1.  1.  1.  1.  1.  1.  1.\n",
      " 1.  1.  1.  1.  1.  1.  1.  1.  1.  1.  1.  1.  1.  1.  1.  1.  1.  1.\n",
      " 1.  1.  1.  1.  1.  1.  1.  1.  1.  1.  1.  1.  1.  1.  1.  1.  1.  1.\n",
      " 1.  1.  1.  1.  1.  1.  1.  1.  1.  1.  1.  1.  1.  1.  1.  1.  1.  1.\n",
      " 1.  1.  1.  1.  1.  1.  1.  1.  1. ]\n",
      "[2. 2. 2. 2. 2. 2. 1. 1. 1. 1. 1. 1. 1. 1. 1. 1. 1. 1. 1. 1. 1. 1. 1. 1.\n",
      " 1. 1. 1. 1. 1. 1. 1. 1. 1. 1. 1. 1. 1. 1. 1. 1. 1. 1. 1. 1. 1. 1. 1. 1.\n",
      " 1. 1. 1. 1. 1. 1. 1. 1. 1. 1. 1. 1. 1. 1. 1. 1. 1. 1. 1. 1. 1. 1. 1. 1.\n",
      " 1. 1. 1. 1. 1. 1. 1. 1. 1.]\n",
      "[1. 1. 1. 1. 1. 1. 1. 1. 1. 1. 1. 1. 1. 1. 1. 1. 1. 1. 1. 1. 1. 1. 1. 1.\n",
      " 1. 1. 1. 1. 1. 1. 1. 1. 1. 1. 1. 1. 1. 1. 1. 1. 1. 1. 1. 1. 1. 1. 1. 1.\n",
      " 1. 1. 1. 1. 1. 1. 1. 1. 1. 1. 1. 1. 1. 1. 1. 1. 1. 1. 1. 1. 1. 1. 1. 1.\n",
      " 1. 1. 1. 1. 1. 1. 1. 1. 1.]\n",
      "[2. 2. 2. 2. 2. 2. 1. 1. 1. 1. 1. 1. 1. 1. 1. 1. 1. 1. 1. 1. 1. 1. 1. 1.\n",
      " 1. 1. 1. 1. 1. 1. 1. 1. 1. 1. 1. 1. 1. 1. 1. 1. 1. 1. 1. 1. 1. 1. 1. 1.\n",
      " 1. 1. 1. 1. 1. 1. 1. 1. 1. 1. 1. 1. 1. 1. 1. 1. 1. 1. 1. 1. 1. 1. 1. 1.\n",
      " 1. 1. 1. 1. 1. 1. 1. 1. 1.]\n",
      "[2. 2. 2. 2. 2. 2. 1. 1. 1. 1. 1. 1. 1. 1. 1. 1. 1. 1. 1. 1. 1. 1. 1. 1.\n",
      " 1. 1. 1. 1. 1. 1. 1. 1. 1. 1. 1. 1. 1. 1. 1. 1. 1. 1. 1. 1. 1. 1. 1. 1.\n",
      " 1. 1. 1. 1. 1. 1. 1. 1. 1. 1. 1. 1. 1. 1. 1. 1. 1. 1. 1. 1. 1. 1. 1. 1.\n",
      " 1. 1. 1. 1. 1. 1. 1. 1. 1.]\n",
      "[1.8 1.8 1.8 1.8 1.8 1.8 1.  1.  1.  1.  1.  1.  1.  1.  1.  1.  1.  1.\n",
      " 1.  1.  1.  1.  1.  1.  1.  1.  1.  1.  1.  1.  1.  1.  1.  1.  1.  1.\n",
      " 1.  1.  1.  1.  1.  1.  1.  1.  1.  1.  1.  1.  1.  1.  1.  1.  1.  1.\n",
      " 1.  1.  1.  1.  1.  1.  1.  1.  1.  1.  1.  1.  1.  1.  1.  1.  1.  1.\n",
      " 1.  1.  1.  1.  1.  1.  1.  1.  1. ]\n",
      "[2. 2. 2. 2. 2. 2. 1. 1. 1. 1. 1. 1. 1. 1. 1. 1. 1. 1. 1. 1. 1. 1. 1. 1.\n",
      " 1. 1. 1. 1. 1. 1. 1. 1. 1. 1. 1. 1. 1. 1. 1. 1. 1. 1. 1. 1. 1. 1. 1. 1.\n",
      " 1. 1. 1. 1. 1. 1. 1. 1. 1. 1. 1. 1. 1. 1. 1. 1. 1. 1. 1. 1. 1. 1. 1. 1.\n",
      " 1. 1. 1. 1. 1. 1. 1. 1. 1.]\n",
      "[1. 1. 1. 1. 1. 1. 1. 1. 1. 1. 1. 1. 1. 1. 1. 1. 1. 1. 1. 1. 1. 1. 1. 1.\n",
      " 1. 1. 1. 1. 1. 1. 1. 1. 1. 1. 1. 1. 1. 1. 1. 1. 1. 1. 1. 1. 1. 1. 1. 1.\n",
      " 1. 1. 1. 1. 1. 1. 1. 1. 1. 1. 1. 1. 1. 1. 1. 1. 1. 1. 1. 1. 1. 1. 1. 1.\n",
      " 1. 1. 1. 1. 1. 1. 1. 1. 1.]\n",
      "[2. 2. 2. 2. 2. 2. 1. 1. 1. 1. 1. 1. 1. 1. 1. 1. 1. 1. 1. 1. 1. 1. 1. 1.\n",
      " 1. 1. 1. 1. 1. 1. 1. 1. 1. 1. 1. 1. 1. 1. 1. 1. 1. 1. 1. 1. 1. 1. 1. 1.\n",
      " 1. 1. 1. 1. 1. 1. 1. 1. 1. 1. 1. 1. 1. 1. 1. 1. 1. 1. 1. 1. 1. 1. 1. 1.\n",
      " 1. 1. 1. 1. 1. 1. 1. 1. 1.]\n",
      "[2. 2. 2. 2. 2. 2. 1. 1. 1. 1. 1. 1. 1. 1. 1. 1. 1. 1. 1. 1. 1. 1. 1. 1.\n",
      " 1. 1. 1. 1. 1. 1. 1. 1. 1. 1. 1. 1. 1. 1. 1. 1. 1. 1. 1. 1. 1. 1. 1. 1.\n",
      " 1. 1. 1. 1. 1. 1. 1. 1. 1. 1. 1. 1. 1. 1. 1. 1. 1. 1. 1. 1. 1. 1. 1. 1.\n",
      " 1. 1. 1. 1. 1. 1. 1. 1. 1.]\n",
      "[1.8 1.8 1.8 1.8 1.8 1.8 1.  1.  1.  1.  1.  1.  1.  1.  1.  1.  1.  1.\n",
      " 1.  1.  1.  1.  1.  1.  1.  1.  1.  1.  1.  1.  1.  1.  1.  1.  1.  1.\n",
      " 1.  1.  1.  1.  1.  1.  1.  1.  1.  1.  1.  1.  1.  1.  1.  1.  1.  1.\n",
      " 1.  1.  1.  1.  1.  1.  1.  1.  1.  1.  1.  1.  1.  1.  1.  1.  1.  1.\n",
      " 1.  1.  1.  1.  1.  1.  1.  1.  1. ]\n",
      "[2. 2. 2. 2. 2. 2. 1. 1. 1. 1. 1. 1. 1. 1. 1. 1. 1. 1. 1. 1. 1. 1. 1. 1.\n",
      " 1. 1. 1. 1. 1. 1. 1. 1. 1. 1. 1. 1. 1. 1. 1. 1. 1. 1. 1. 1. 1. 1. 1. 1.\n",
      " 1. 1. 1. 1. 1. 1. 1. 1. 1. 1. 1. 1. 1. 1. 1. 1. 1. 1. 1. 1. 1. 1. 1. 1.\n",
      " 1. 1. 1. 1. 1. 1. 1. 1. 1.]\n",
      "[1. 1. 1. 1. 1. 1. 1. 1. 1. 1. 1. 1. 1. 1. 1. 1. 1. 1. 1. 1. 1. 1. 1. 1.\n",
      " 1. 1. 1. 1. 1. 1. 1. 1. 1. 1. 1. 1. 1. 1. 1. 1. 1. 1. 1. 1. 1. 1. 1. 1.\n",
      " 1. 1. 1. 1. 1. 1. 1. 1. 1. 1. 1. 1. 1. 1. 1. 1. 1. 1. 1. 1. 1. 1. 1. 1.\n",
      " 1. 1. 1. 1. 1. 1. 1. 1. 1.]\n",
      "[2. 2. 2. 2. 2. 2. 1. 1. 1. 1. 1. 1. 1. 1. 1. 1. 1. 1. 1. 1. 1. 1. 1. 1.\n",
      " 1. 1. 1. 1. 1. 1. 1. 1. 1. 1. 1. 1. 1. 1. 1. 1. 1. 1. 1. 1. 1. 1. 1. 1.\n",
      " 1. 1. 1. 1. 1. 1. 1. 1. 1. 1. 1. 1. 1. 1. 1. 1. 1. 1. 1. 1. 1. 1. 1. 1.\n",
      " 1. 1. 1. 1. 1. 1. 1. 1. 1.]\n",
      "[2. 2. 2. 2. 2. 2. 1. 1. 1. 1. 1. 1. 1. 1. 1. 1. 1. 1. 1. 1. 1. 1. 1. 1.\n",
      " 1. 1. 1. 1. 1. 1. 1. 1. 1. 1. 1. 1. 1. 1. 1. 1. 1. 1. 1. 1. 1. 1. 1. 1.\n",
      " 1. 1. 1. 1. 1. 1. 1. 1. 1. 1. 1. 1. 1. 1. 1. 1. 1. 1. 1. 1. 1. 1. 1. 1.\n",
      " 1. 1. 1. 1. 1. 1. 1. 1. 1.]\n",
      "[1. 1. 1. 1. 1. 1. 1. 1. 1. 1. 1. 1. 1. 1. 1. 1. 1. 1. 1. 1. 1. 1. 1. 1.\n",
      " 1. 1. 1. 1. 1. 1. 1. 1. 1. 1. 1. 1. 1. 1. 1. 1. 1. 1. 1. 1. 1. 1. 1. 1.\n",
      " 1. 1. 1. 1. 1. 1. 1. 1. 1. 1. 1. 1. 1. 1. 1. 1. 1. 1. 1. 1. 1. 1. 1. 1.\n",
      " 1. 1. 1. 1. 1. 1. 1. 1. 1.]\n",
      "[1. 1. 1. 1. 1. 1. 1. 1. 1. 1. 1. 1. 1. 1. 1. 1. 1. 1. 1. 1. 1. 1. 1. 1.\n",
      " 1. 1. 1. 1. 1. 1. 1. 1. 1. 1. 1. 1. 1. 1. 1. 1. 1. 1. 1. 1. 1. 1. 1. 1.\n",
      " 1. 1. 1. 1. 1. 1. 1. 1. 1. 1. 1. 1. 1. 1. 1. 1. 1. 1. 1. 1. 1. 1. 1. 1.\n",
      " 1. 1. 1. 1. 1. 1. 1. 1. 1.]\n",
      "[1. 1. 1. 1. 1. 1. 1. 1. 1. 1. 1. 1. 1. 1. 1. 1. 1. 1. 1. 1. 1. 1. 1. 1.\n",
      " 1. 1. 1. 1. 1. 1. 1. 1. 1. 1. 1. 1. 1. 1. 1. 1. 1. 1. 1. 1. 1. 1. 1. 1.\n",
      " 1. 1. 1. 1. 1. 1. 1. 1. 1. 1. 1. 1. 1. 1. 1. 1. 1. 1. 1. 1. 1. 1. 1. 1.\n",
      " 1. 1. 1. 1. 1. 1. 1. 1. 1.]\n",
      "[1. 1. 1. 1. 1. 1. 1. 1. 1. 1. 1. 1. 1. 1. 1. 1. 1. 1. 1. 1. 1. 1. 1. 1.\n",
      " 1. 1. 1. 1. 1. 1. 1. 1. 1. 1. 1. 1. 1. 1. 1. 1. 1. 1. 1. 1. 1. 1. 1. 1.\n",
      " 1. 1. 1. 1. 1. 1. 1. 1. 1. 1. 1. 1. 1. 1. 1. 1. 1. 1. 1. 1. 1. 1. 1. 1.\n",
      " 1. 1. 1. 1. 1. 1. 1. 1. 1.]\n",
      "[1. 1. 1. 1. 1. 1. 1. 1. 1. 1. 1. 1. 1. 1. 1. 1. 1. 1. 1. 1. 1. 1. 1. 1.\n",
      " 1. 1. 1. 1. 1. 1. 1. 1. 1. 1. 1. 1. 1. 1. 1. 1. 1. 1. 1. 1. 1. 1. 1. 1.\n",
      " 1. 1. 1. 1. 1. 1. 1. 1. 1. 1. 1. 1. 1. 1. 1. 1. 1. 1. 1. 1. 1. 1. 1. 1.\n",
      " 1. 1. 1. 1. 1. 1. 1. 1. 1.]\n",
      "[1. 1. 1. 1. 1. 1. 1. 1. 1. 1. 1. 1. 1. 1. 1. 1. 1. 1. 1. 1. 1. 1. 1. 1.\n",
      " 1. 1. 1. 1. 1. 1. 1. 1. 1. 1. 1. 1. 1. 1. 1. 1. 1. 1. 1. 1. 1. 1. 1. 1.\n",
      " 1. 1. 1. 1. 1. 1. 1. 1. 1. 1. 1. 1. 1. 1. 1. 1. 1. 1. 1. 1. 1. 1. 1. 1.\n",
      " 1. 1. 1. 1. 1. 1. 1. 1. 1.]\n",
      "[1. 1. 1. 1. 1. 1. 1. 1. 1. 1. 1. 1. 1. 1. 1. 1. 1. 1. 1. 1. 1. 1. 1. 1.\n",
      " 1. 1. 1. 1. 1. 1. 1. 1. 1. 1. 1. 1. 1. 1. 1. 1. 1. 1. 1. 1. 1. 1. 1. 1.\n",
      " 1. 1. 1. 1. 1. 1. 1. 1. 1. 1. 1. 1. 1. 1. 1. 1. 1. 1. 1. 1. 1. 1. 1. 1.\n",
      " 1. 1. 1. 1. 1. 1. 1. 1. 1.]\n",
      "[1. 1. 1. 1. 1. 1. 1. 1. 1. 1. 1. 1. 1. 1. 1. 1. 1. 1. 1. 1. 1. 1. 1. 1.\n",
      " 1. 1. 1. 1. 1. 1. 1. 1. 1. 1. 1. 1. 1. 1. 1. 1. 1. 1. 1. 1. 1. 1. 1. 1.\n",
      " 1. 1. 1. 1. 1. 1. 1. 1. 1. 1. 1. 1. 1. 1. 1. 1. 1. 1. 1. 1. 1. 1. 1. 1.\n",
      " 1. 1. 1. 1. 1. 1. 1. 1. 1.]\n",
      "[1. 1. 1. 1. 1. 1. 1. 1. 1. 1. 1. 1. 1. 1. 1. 1. 1. 1. 1. 1. 1. 1. 1. 1.\n",
      " 1. 1. 1. 1. 1. 1. 1. 1. 1. 1. 1. 1. 1. 1. 1. 1. 1. 1. 1. 1. 1. 1. 1. 1.\n",
      " 1. 1. 1. 1. 1. 1. 1. 1. 1. 1. 1. 1. 1. 1. 1. 1. 1. 1. 1. 1. 1. 1. 1. 1.\n",
      " 1. 1. 1. 1. 1. 1. 1. 1. 1.]\n",
      "[1. 1. 1. 1. 1. 1. 1. 1. 1. 1. 1. 1. 1. 1. 1. 1. 1. 1. 1. 1. 1. 1. 1. 1.\n",
      " 1. 1. 1. 1. 1. 1. 1. 1. 1. 1. 1. 1. 1. 1. 1. 1. 1. 1. 1. 1. 1. 1. 1. 1.\n",
      " 1. 1. 1. 1. 1. 1. 1. 1. 1. 1. 1. 1. 1. 1. 1. 1. 1. 1. 1. 1. 1. 1. 1. 1.\n",
      " 1. 1. 1. 1. 1. 1. 1. 1. 1.]\n",
      "[1. 1. 1. 1. 1. 1. 1. 1. 1. 1. 1. 1. 1. 1. 1. 1. 1. 1. 1. 1. 1. 1. 1. 1.\n",
      " 1. 1. 1. 1. 1. 1. 1. 1. 1. 1. 1. 1. 1. 1. 1. 1. 1. 1. 1. 1. 1. 1. 1. 1.\n",
      " 1. 1. 1. 1. 1. 1. 1. 1. 1. 1. 1. 1. 1. 1. 1. 1. 1. 1. 1. 1. 1. 1. 1. 1.\n",
      " 1. 1. 1. 1. 1. 1. 1. 1. 1.]\n",
      "[1. 1. 1. 1. 1. 1. 1. 1. 1. 1. 1. 1. 1. 1. 1. 1. 1. 1. 1. 1. 1. 1. 1. 1.\n",
      " 1. 1. 1. 1. 1. 1. 1. 1. 1. 1. 1. 1. 1. 1. 1. 1. 1. 1. 1. 1. 1. 1. 1. 1.\n",
      " 1. 1. 1. 1. 1. 1. 1. 1. 1. 1. 1. 1. 1. 1. 1. 1. 1. 1. 1. 1. 1. 1. 1. 1.\n",
      " 1. 1. 1. 1. 1. 1. 1. 1. 1.]\n",
      "[1. 1. 1. 1. 1. 1. 1. 1. 1. 1. 1. 1. 1. 1. 1. 1. 1. 1. 1. 1. 1. 1. 1. 1.\n",
      " 1. 1. 1. 1. 1. 1. 1. 1. 1. 1. 1. 1. 1. 1. 1. 1. 1. 1. 1. 1. 1. 1. 1. 1.\n",
      " 1. 1. 1. 1. 1. 1. 1. 1. 1. 1. 1. 1. 1. 1. 1. 1. 1. 1. 1. 1. 1. 1. 1. 1.\n",
      " 1. 1. 1. 1. 1. 1. 1. 1. 1.]\n",
      "[1. 1. 1. 1. 1. 1. 1. 1. 1. 1. 1. 1. 1. 1. 1. 1. 1. 1. 1. 1. 1. 1. 1. 1.\n",
      " 1. 1. 1. 1. 1. 1. 1. 1. 1. 1. 1. 1. 1. 1. 1. 1. 1. 1. 1. 1. 1. 1. 1. 1.\n",
      " 1. 1. 1. 1. 1. 1. 1. 1. 1. 1. 1. 1. 1. 1. 1. 1. 1. 1. 1. 1. 1. 1. 1. 1.\n",
      " 1. 1. 1. 1. 1. 1. 1. 1. 1.]\n",
      "[1. 1. 1. 1. 1. 1. 1. 1. 1. 1. 1. 1. 1. 1. 1. 1. 1. 1. 1. 1. 1. 1. 1. 1.\n",
      " 1. 1. 1. 1. 1. 1. 1. 1. 1. 1. 1. 1. 1. 1. 1. 1. 1. 1. 1. 1. 1. 1. 1. 1.\n",
      " 1. 1. 1. 1. 1. 1. 1. 1. 1. 1. 1. 1. 1. 1. 1. 1. 1. 1. 1. 1. 1. 1. 1. 1.\n",
      " 1. 1. 1. 1. 1. 1. 1. 1. 1.]\n",
      "[1. 1. 1. 1. 1. 1. 1. 1. 1. 1. 1. 1. 1. 1. 1. 1. 1. 1. 1. 1. 1. 1. 1. 1.\n",
      " 1. 1. 1. 1. 1. 1. 1. 1. 1. 1. 1. 1. 1. 1. 1. 1. 1. 1. 1. 1. 1. 1. 1. 1.\n",
      " 1. 1. 1. 1. 1. 1. 1. 1. 1. 1. 1. 1. 1. 1. 1. 1. 1. 1. 1. 1. 1. 1. 1. 1.\n",
      " 1. 1. 1. 1. 1. 1. 1. 1. 1.]\n",
      "[1. 1. 1. 1. 1. 1. 1. 1. 1. 1. 1. 1. 1. 1. 1. 1. 1. 1. 1. 1. 1. 1. 1. 1.\n",
      " 1. 1. 1. 1. 1. 1. 1. 1. 1. 1. 1. 1. 1. 1. 1. 1. 1. 1. 1. 1. 1. 1. 1. 1.\n",
      " 1. 1. 1. 1. 1. 1. 1. 1. 1. 1. 1. 1. 1. 1. 1. 1. 1. 1. 1. 1. 1. 1. 1. 1.\n",
      " 1. 1. 1. 1. 1. 1. 1. 1. 1.]\n",
      "[1. 1. 1. 1. 1. 1. 1. 1. 1. 1. 1. 1. 1. 1. 1. 1. 1. 1. 1. 1. 1. 1. 1. 1.\n",
      " 1. 1. 1. 1. 1. 1. 1. 1. 1. 1. 1. 1. 1. 1. 1. 1. 1. 1. 1. 1. 1. 1. 1. 1.\n",
      " 1. 1. 1. 1. 1. 1. 1. 1. 1. 1. 1. 1. 1. 1. 1. 1. 1. 1. 1. 1. 1. 1. 1. 1.\n",
      " 1. 1. 1. 1. 1. 1. 1. 1. 1.]\n",
      "[1. 1. 1. 1. 1. 1. 1. 1. 1. 1. 1. 1. 1. 1. 1. 1. 1. 1. 1. 1. 1. 1. 1. 1.\n",
      " 1. 1. 1. 1. 1. 1. 1. 1. 1. 1. 1. 1. 1. 1. 1. 1. 1. 1. 1. 1. 1. 1. 1. 1.\n",
      " 1. 1. 1. 1. 1. 1. 1. 1. 1. 1. 1. 1. 1. 1. 1. 1. 1. 1. 1. 1. 1. 1. 1. 1.\n",
      " 1. 1. 1. 1. 1. 1. 1. 1. 1.]\n",
      "[1. 1. 1. 1. 1. 1. 1. 1. 1. 1. 1. 1. 1. 1. 1. 1. 1. 1. 1. 1. 1. 1. 1. 1.\n",
      " 1. 1. 1. 1. 1. 1. 1. 1. 1. 1. 1. 1. 1. 1. 1. 1. 1. 1. 1. 1. 1. 1. 1. 1.\n",
      " 1. 1. 1. 1. 1. 1. 1. 1. 1. 1. 1. 1. 1. 1. 1. 1. 1. 1. 1. 1. 1. 1. 1. 1.\n",
      " 1. 1. 1. 1. 1. 1. 1. 1. 1.]\n",
      "[1. 1. 1. 1. 1. 1. 1. 1. 1. 1. 1. 1. 1. 1. 1. 1. 1. 1. 1. 1. 1. 1. 1. 1.\n",
      " 1. 1. 1. 1. 1. 1. 1. 1. 1. 1. 1. 1. 1. 1. 1. 1. 1. 1. 1. 1. 1. 1. 1. 1.\n",
      " 1. 1. 1. 1. 1. 1. 1. 1. 1. 1. 1. 1. 1. 1. 1. 1. 1. 1. 1. 1. 1. 1. 1. 1.\n",
      " 1. 1. 1. 1. 1. 1. 1. 1. 1.]\n",
      "[1. 1. 1. 1. 1. 1. 1. 1. 1. 1. 1. 1. 1. 1. 1. 1. 1. 1. 1. 1. 1. 1. 1. 1.\n",
      " 1. 1. 1. 1. 1. 1. 1. 1. 1. 1. 1. 1. 1. 1. 1. 1. 1. 1. 1. 1. 1. 1. 1. 1.\n",
      " 1. 1. 1. 1. 1. 1. 1. 1. 1. 1. 1. 1. 1. 1. 1. 1. 1. 1. 1. 1. 1. 1. 1. 1.\n",
      " 1. 1. 1. 1. 1. 1. 1. 1. 1.]\n",
      "[1. 1. 1. 1. 1. 1. 1. 1. 1. 1. 1. 1. 1. 1. 1. 1. 1. 1. 1. 1. 1. 1. 1. 1.\n",
      " 1. 1. 1. 1. 1. 1. 1. 1. 1. 1. 1. 1. 1. 1. 1. 1. 1. 1. 1. 1. 1. 1. 1. 1.\n",
      " 1. 1. 1. 1. 1. 1. 1. 1. 1. 1. 1. 1. 1. 1. 1. 1. 1. 1. 1. 1. 1. 1. 1. 1.\n",
      " 1. 1. 1. 1. 1. 1. 1. 1. 1.]\n",
      "[1. 1. 1. 1. 1. 1. 1. 1. 1. 1. 1. 1. 1. 1. 1. 1. 1. 1. 1. 1. 1. 1. 1. 1.\n",
      " 1. 1. 1. 1. 1. 1. 1. 1. 1. 1. 1. 1. 1. 1. 1. 1. 1. 1. 1. 1. 1. 1. 1. 1.\n",
      " 1. 1. 1. 1. 1. 1. 1. 1. 1. 1. 1. 1. 1. 1. 1. 1. 1. 1. 1. 1. 1. 1. 1. 1.\n",
      " 1. 1. 1. 1. 1. 1. 1. 1. 1.]\n",
      "[1. 1. 1. 1. 1. 1. 1. 1. 1. 1. 1. 1. 1. 1. 1. 1. 1. 1. 1. 1. 1. 1. 1. 1.\n",
      " 1. 1. 1. 1. 1. 1. 1. 1. 1. 1. 1. 1. 1. 1. 1. 1. 1. 1. 1. 1. 1. 1. 1. 1.\n",
      " 1. 1. 1. 1. 1. 1. 1. 1. 1. 1. 1. 1. 1. 1. 1. 1. 1. 1. 1. 1. 1. 1. 1. 1.\n",
      " 1. 1. 1. 1. 1. 1. 1. 1. 1.]\n",
      "[1. 1. 1. 1. 1. 1. 1. 1. 1. 1. 1. 1. 1. 1. 1. 1. 1. 1. 1. 1. 1. 1. 1. 1.\n",
      " 1. 1. 1. 1. 1. 1. 1. 1. 1. 1. 1. 1. 1. 1. 1. 1. 1. 1. 1. 1. 1. 1. 1. 1.\n",
      " 1. 1. 1. 1. 1. 1. 1. 1. 1. 1. 1. 1. 1. 1. 1. 1. 1. 1. 1. 1. 1. 1. 1. 1.\n",
      " 1. 1. 1. 1. 1. 1. 1. 1. 1.]\n",
      "[1. 1. 1. 1. 1. 1. 1. 1. 1. 1. 1. 1. 1. 1. 1. 1. 1. 1. 1. 1. 1. 1. 1. 1.\n",
      " 1. 1. 1. 1. 1. 1. 1. 1. 1. 1. 1. 1. 1. 1. 1. 1. 1. 1. 1. 1. 1. 1. 1. 1.\n",
      " 1. 1. 1. 1. 1. 1. 1. 1. 1. 1. 1. 1. 1. 1. 1. 1. 1. 1. 1. 1. 1. 1. 1. 1.\n",
      " 1. 1. 1. 1. 1. 1. 1. 1. 1.]\n",
      "[1. 1. 1. 1. 1. 1. 1. 1. 1. 1. 1. 1. 1. 1. 1. 1. 1. 1. 1. 1. 1. 1. 1. 1.\n",
      " 1. 1. 1. 1. 1. 1. 1. 1. 1. 1. 1. 1. 1. 1. 1. 1. 1. 1. 1. 1. 1. 1. 1. 1.\n",
      " 1. 1. 1. 1. 1. 1. 1. 1. 1. 1. 1. 1. 1. 1. 1. 1. 1. 1. 1. 1. 1. 1. 1. 1.\n",
      " 1. 1. 1. 1. 1. 1. 1. 1. 1.]\n",
      "[1. 1. 1. 1. 1. 1. 1. 1. 1. 1. 1. 1. 1. 1. 1. 1. 1. 1. 1. 1. 1. 1. 1. 1.\n",
      " 1. 1. 1. 1. 1. 1. 1. 1. 1. 1. 1. 1. 1. 1. 1. 1. 1. 1. 1. 1. 1. 1. 1. 1.\n",
      " 1. 1. 1. 1. 1. 1. 1. 1. 1. 1. 1. 1. 1. 1. 1. 1. 1. 1. 1. 1. 1. 1. 1. 1.\n",
      " 1. 1. 1. 1. 1. 1. 1. 1. 1.]\n",
      "[1. 1. 1. 1. 1. 1. 1. 1. 1. 1. 1. 1. 1. 1. 1. 1. 1. 1. 1. 1. 1. 1. 1. 1.\n",
      " 1. 1. 1. 1. 1. 1. 1. 1. 1. 1. 1. 1. 1. 1. 1. 1. 1. 1. 1. 1. 1. 1. 1. 1.\n",
      " 1. 1. 1. 1. 1. 1. 1. 1. 1. 1. 1. 1. 1. 1. 1. 1. 1. 1. 1. 1. 1. 1. 1. 1.\n",
      " 1. 1. 1. 1. 1. 1. 1. 1. 1.]\n",
      "[1. 1. 1. 1. 1. 1. 1. 1. 1. 1. 1. 1. 1. 1. 1. 1. 1. 1. 1. 1. 1. 1. 1. 1.\n",
      " 1. 1. 1. 1. 1. 1. 1. 1. 1. 1. 1. 1. 1. 1. 1. 1. 1. 1. 1. 1. 1. 1. 1. 1.\n",
      " 1. 1. 1. 1. 1. 1. 1. 1. 1. 1. 1. 1. 1. 1. 1. 1. 1. 1. 1. 1. 1. 1. 1. 1.\n",
      " 1. 1. 1. 1. 1. 1. 1. 1. 1.]\n",
      "[1. 1. 1. 1. 1. 1. 1. 1. 1. 1. 1. 1. 1. 1. 1. 1. 1. 1. 1. 1. 1. 1. 1. 1.\n",
      " 1. 1. 1. 1. 1. 1. 1. 1. 1. 1. 1. 1. 1. 1. 1. 1. 1. 1. 1. 1. 1. 1. 1. 1.\n",
      " 1. 1. 1. 1. 1. 1. 1. 1. 1. 1. 1. 1. 1. 1. 1. 1. 1. 1. 1. 1. 1. 1. 1. 1.\n",
      " 1. 1. 1. 1. 1. 1. 1. 1. 1.]\n",
      "[1. 1. 1. 1. 1. 1. 1. 1. 1. 1. 1. 1. 1. 1. 1. 1. 1. 1. 1. 1. 1. 1. 1. 1.\n",
      " 1. 1. 1. 1. 1. 1. 1. 1. 1. 1. 1. 1. 1. 1. 1. 1. 1. 1. 1. 1. 1. 1. 1. 1.\n",
      " 1. 1. 1. 1. 1. 1. 1. 1. 1. 1. 1. 1. 1. 1. 1. 1. 1. 1. 1. 1. 1. 1. 1. 1.\n",
      " 1. 1. 1. 1. 1. 1. 1. 1. 1.]\n",
      "[1. 1. 1. 1. 1. 1. 1. 1. 1. 1. 1. 1. 1. 1. 1. 1. 1. 1. 1. 1. 1. 1. 1. 1.\n",
      " 1. 1. 1. 1. 1. 1. 1. 1. 1. 1. 1. 1. 1. 1. 1. 1. 1. 1. 1. 1. 1. 1. 1. 1.\n",
      " 1. 1. 1. 1. 1. 1. 1. 1. 1. 1. 1. 1. 1. 1. 1. 1. 1. 1. 1. 1. 1. 1. 1. 1.\n",
      " 1. 1. 1. 1. 1. 1. 1. 1. 1.]\n",
      "[1. 1. 1. 1. 1. 1. 1. 1. 1. 1. 1. 1. 1. 1. 1. 1. 1. 1. 1. 1. 1. 1. 1. 1.\n",
      " 1. 1. 1. 1. 1. 1. 1. 1. 1. 1. 1. 1. 1. 1. 1. 1. 1. 1. 1. 1. 1. 1. 1. 1.\n",
      " 1. 1. 1. 1. 1. 1. 1. 1. 1. 1. 1. 1. 1. 1. 1. 1. 1. 1. 1. 1. 1. 1. 1. 1.\n",
      " 1. 1. 1. 1. 1. 1. 1. 1. 1.]\n",
      "[1. 1. 1. 1. 1. 1. 1. 1. 1. 1. 1. 1. 1. 1. 1. 1. 1. 1. 1. 1. 1. 1. 1. 1.\n",
      " 1. 1. 1. 1. 1. 1. 1. 1. 1. 1. 1. 1. 1. 1. 1. 1. 1. 1. 1. 1. 1. 1. 1. 1.\n",
      " 1. 1. 1. 1. 1. 1. 1. 1. 1. 1. 1. 1. 1. 1. 1. 1. 1. 1. 1. 1. 1. 1. 1. 1.\n",
      " 1. 1. 1. 1. 1. 1. 1. 1. 1.]\n",
      "[1. 1. 1. 1. 1. 1. 1. 1. 1. 1. 1. 1. 1. 1. 1. 1. 1. 1. 1. 1. 1. 1. 1. 1.\n",
      " 1. 1. 1. 1. 1. 1. 1. 1. 1. 1. 1. 1. 1. 1. 1. 1. 1. 1. 1. 1. 1. 1. 1. 1.\n",
      " 1. 1. 1. 1. 1. 1. 1. 1. 1. 1. 1. 1. 1. 1. 1. 1. 1. 1. 1. 1. 1. 1. 1. 1.\n",
      " 1. 1. 1. 1. 1. 1. 1. 1. 1.]\n",
      "[1. 1. 1. 1. 1. 1. 1. 1. 1. 1. 1. 1. 1. 1. 1. 1. 1. 1. 1. 1. 1. 1. 1. 1.\n",
      " 1. 1. 1. 1. 1. 1. 1. 1. 1. 1. 1. 1. 1. 1. 1. 1. 1. 1. 1. 1. 1. 1. 1. 1.\n",
      " 1. 1. 1. 1. 1. 1. 1. 1. 1. 1. 1. 1. 1. 1. 1. 1. 1. 1. 1. 1. 1. 1. 1. 1.\n",
      " 1. 1. 1. 1. 1. 1. 1. 1. 1.]\n",
      "[1. 1. 1. 1. 1. 1. 1. 1. 1. 1. 1. 1. 1. 1. 1. 1. 1. 1. 1. 1. 1. 1. 1. 1.\n",
      " 1. 1. 1. 1. 1. 1. 1. 1. 1. 1. 1. 1. 1. 1. 1. 1. 1. 1. 1. 1. 1. 1. 1. 1.\n",
      " 1. 1. 1. 1. 1. 1. 1. 1. 1. 1. 1. 1. 1. 1. 1. 1. 1. 1. 1. 1. 1. 1. 1. 1.\n",
      " 1. 1. 1. 1. 1. 1. 1. 1. 1.]\n",
      "[1. 1. 1. 1. 1. 1. 1. 1. 1. 1. 1. 1. 1. 1. 1. 1. 1. 1. 1. 1. 1. 1. 1. 1.\n",
      " 1. 1. 1. 1. 1. 1. 1. 1. 1. 1. 1. 1. 1. 1. 1. 1. 1. 1. 1. 1. 1. 1. 1. 1.\n",
      " 1. 1. 1. 1. 1. 1. 1. 1. 1. 1. 1. 1. 1. 1. 1. 1. 1. 1. 1. 1. 1. 1. 1. 1.\n",
      " 1. 1. 1. 1. 1. 1. 1. 1. 1.]\n",
      "[1. 1. 1. 1. 1. 1. 1. 1. 1. 1. 1. 1. 1. 1. 1. 1. 1. 1. 1. 1. 1. 1. 1. 1.\n",
      " 1. 1. 1. 1. 1. 1. 1. 1. 1. 1. 1. 1. 1. 1. 1. 1. 1. 1. 1. 1. 1. 1. 1. 1.\n",
      " 1. 1. 1. 1. 1. 1. 1. 1. 1. 1. 1. 1. 1. 1. 1. 1. 1. 1. 1. 1. 1. 1. 1. 1.\n",
      " 1. 1. 1. 1. 1. 1. 1. 1. 1.]\n",
      "[1. 1. 1. 1. 1. 1. 1. 1. 1. 1. 1. 1. 1. 1. 1. 1. 1. 1. 1. 1. 1. 1. 1. 1.\n",
      " 1. 1. 1. 1. 1. 1. 1. 1. 1. 1. 1. 1. 1. 1. 1. 1. 1. 1. 1. 1. 1. 1. 1. 1.\n",
      " 1. 1. 1. 1. 1. 1. 1. 1. 1. 1. 1. 1. 1. 1. 1. 1. 1. 1. 1. 1. 1. 1. 1. 1.\n",
      " 1. 1. 1. 1. 1. 1. 1. 1. 1.]\n",
      "[1. 1. 1. 1. 1. 1. 1. 1. 1. 1. 1. 1. 1. 1. 1. 1. 1. 1. 1. 1. 1. 1. 1. 1.\n",
      " 1. 1. 1. 1. 1. 1. 1. 1. 1. 1. 1. 1. 1. 1. 1. 1. 1. 1. 1. 1. 1. 1. 1. 1.\n",
      " 1. 1. 1. 1. 1. 1. 1. 1. 1. 1. 1. 1. 1. 1. 1. 1. 1. 1. 1. 1. 1. 1. 1. 1.\n",
      " 1. 1. 1. 1. 1. 1. 1. 1. 1.]\n",
      "[1. 1. 1. 1. 1. 1. 1. 1. 1. 1. 1. 1. 1. 1. 1. 1. 1. 1. 1. 1. 1. 1. 1. 1.\n",
      " 1. 1. 1. 1. 1. 1. 1. 1. 1. 1. 1. 1. 1. 1. 1. 1. 1. 1. 1. 1. 1. 1. 1. 1.\n",
      " 1. 1. 1. 1. 1. 1. 1. 1. 1. 1. 1. 1. 1. 1. 1. 1. 1. 1. 1. 1. 1. 1. 1. 1.\n",
      " 1. 1. 1. 1. 1. 1. 1. 1. 1.]\n",
      "[1. 1. 1. 1. 1. 1. 1. 1. 1. 1. 1. 1. 1. 1. 1. 1. 1. 1. 1. 1. 1. 1. 1. 1.\n",
      " 1. 1. 1. 1. 1. 1. 1. 1. 1. 1. 1. 1. 1. 1. 1. 1. 1. 1. 1. 1. 1. 1. 1. 1.\n",
      " 1. 1. 1. 1. 1. 1. 1. 1. 1. 1. 1. 1. 1. 1. 1. 1. 1. 1. 1. 1. 1. 1. 1. 1.\n",
      " 1. 1. 1. 1. 1. 1. 1. 1. 1.]\n",
      "[1. 1. 1. 1. 1. 1. 1. 1. 1. 1. 1. 1. 1. 1. 1. 1. 1. 1. 1. 1. 1. 1. 1. 1.\n",
      " 1. 1. 1. 1. 1. 1. 1. 1. 1. 1. 1. 1. 1. 1. 1. 1. 1. 1. 1. 1. 1. 1. 1. 1.\n",
      " 1. 1. 1. 1. 1. 1. 1. 1. 1. 1. 1. 1. 1. 1. 1. 1. 1. 1. 1. 1. 1. 1. 1. 1.\n",
      " 1. 1. 1. 1. 1. 1. 1. 1. 1.]\n",
      "[1. 1. 1. 1. 1. 1. 1. 1. 1. 1. 1. 1. 1. 1. 1. 1. 1. 1. 1. 1. 1. 1. 1. 1.\n",
      " 1. 1. 1. 1. 1. 1. 1. 1. 1. 1. 1. 1. 1. 1. 1. 1. 1. 1. 1. 1. 1. 1. 1. 1.\n",
      " 1. 1. 1. 1. 1. 1. 1. 1. 1. 1. 1. 1. 1. 1. 1. 1. 1. 1. 1. 1. 1. 1. 1. 1.\n",
      " 1. 1. 1. 1. 1. 1. 1. 1. 1.]\n",
      "[1. 1. 1. 1. 1. 1. 1. 1. 1. 1. 1. 1. 1. 1. 1. 1. 1. 1. 1. 1. 1. 1. 1. 1.\n",
      " 1. 1. 1. 1. 1. 1. 1. 1. 1. 1. 1. 1. 1. 1. 1. 1. 1. 1. 1. 1. 1. 1. 1. 1.\n",
      " 1. 1. 1. 1. 1. 1. 1. 1. 1. 1. 1. 1. 1. 1. 1. 1. 1. 1. 1. 1. 1. 1. 1. 1.\n",
      " 1. 1. 1. 1. 1. 1. 1. 1. 1.]\n",
      "[1. 1. 1. 1. 1. 1. 1. 1. 1. 1. 1. 1. 1. 1. 1. 1. 1. 1. 1. 1. 1. 1. 1. 1.\n",
      " 1. 1. 1. 1. 1. 1. 1. 1. 1. 1. 1. 1. 1. 1. 1. 1. 1. 1. 1. 1. 1. 1. 1. 1.\n",
      " 1. 1. 1. 1. 1. 1. 1. 1. 1. 1. 1. 1. 1. 1. 1. 1. 1. 1. 1. 1. 1. 1. 1. 1.\n",
      " 1. 1. 1. 1. 1. 1. 1. 1. 1.]\n",
      "[1. 1. 1. 1. 1. 1. 1. 1. 1. 1. 1. 1. 1. 1. 1. 1. 1. 1. 1. 1. 1. 1. 1. 1.\n",
      " 1. 1. 1. 1. 1. 1. 1. 1. 1. 1. 1. 1. 1. 1. 1. 1. 1. 1. 1. 1. 1. 1. 1. 1.\n",
      " 1. 1. 1. 1. 1. 1. 1. 1. 1. 1. 1. 1. 1. 1. 1. 1. 1. 1. 1. 1. 1. 1. 1. 1.\n",
      " 1. 1. 1. 1. 1. 1. 1. 1. 1.]\n",
      "[1. 1. 1. 1. 1. 1. 1. 1. 1. 1. 1. 1. 1. 1. 1. 1. 1. 1. 1. 1. 1. 1. 1. 1.\n",
      " 1. 1. 1. 1. 1. 1. 1. 1. 1. 1. 1. 1. 1. 1. 1. 1. 1. 1. 1. 1. 1. 1. 1. 1.\n",
      " 1. 1. 1. 1. 1. 1. 1. 1. 1. 1. 1. 1. 1. 1. 1. 1. 1. 1. 1. 1. 1. 1. 1. 1.\n",
      " 1. 1. 1. 1. 1. 1. 1. 1. 1.]\n",
      "[1. 1. 1. 1. 1. 1. 1. 1. 1. 1. 1. 1. 1. 1. 1. 1. 1. 1. 1. 1. 1. 1. 1. 1.\n",
      " 1. 1. 1. 1. 1. 1. 1. 1. 1. 1. 1. 1. 1. 1. 1. 1. 1. 1. 1. 1. 1. 1. 1. 1.\n",
      " 1. 1. 1. 1. 1. 1. 1. 1. 1. 1. 1. 1. 1. 1. 1. 1. 1. 1. 1. 1. 1. 1. 1. 1.\n",
      " 1. 1. 1. 1. 1. 1. 1. 1. 1.]\n",
      "[1. 1. 1. 1. 1. 1. 1. 1. 1. 1. 1. 1. 1. 1. 1. 1. 1. 1. 1. 1. 1. 1. 1. 1.\n",
      " 1. 1. 1. 1. 1. 1. 1. 1. 1. 1. 1. 1. 1. 1. 1. 1. 1. 1. 1. 1. 1. 1. 1. 1.\n",
      " 1. 1. 1. 1. 1. 1. 1. 1. 1. 1. 1. 1. 1. 1. 1. 1. 1. 1. 1. 1. 1. 1. 1. 1.\n",
      " 1. 1. 1. 1. 1. 1. 1. 1. 1.]\n",
      "[1. 1. 1. 1. 1. 1. 1. 1. 1. 1. 1. 1. 1. 1. 1. 1. 1. 1. 1. 1. 1. 1. 1. 1.\n",
      " 1. 1. 1. 1. 1. 1. 1. 1. 1. 1. 1. 1. 1. 1. 1. 1. 1. 1. 1. 1. 1. 1. 1. 1.\n",
      " 1. 1. 1. 1. 1. 1. 1. 1. 1. 1. 1. 1. 1. 1. 1. 1. 1. 1. 1. 1. 1. 1. 1. 1.\n",
      " 1. 1. 1. 1. 1. 1. 1. 1. 1.]\n",
      "[1. 1. 1. 1. 1. 1. 1. 1. 1. 1. 1. 1. 1. 1. 1. 1. 1. 1. 1. 1. 1. 1. 1. 1.\n",
      " 1. 1. 1. 1. 1. 1. 1. 1. 1. 1. 1. 1. 1. 1. 1. 1. 1. 1. 1. 1. 1. 1. 1. 1.\n",
      " 1. 1. 1. 1. 1. 1. 1. 1. 1. 1. 1. 1. 1. 1. 1. 1. 1. 1. 1. 1. 1. 1. 1. 1.\n",
      " 1. 1. 1. 1. 1. 1. 1. 1. 1.]\n",
      "[1. 1. 1. 1. 1. 1. 1. 1. 1. 1. 1. 1. 1. 1. 1. 1. 1. 1. 1. 1. 1. 1. 1. 1.\n",
      " 1. 1. 1. 1. 1. 1. 1. 1. 1. 1. 1. 1. 1. 1. 1. 1. 1. 1. 1. 1. 1. 1. 1. 1.\n",
      " 1. 1. 1. 1. 1. 1. 1. 1. 1. 1. 1. 1. 1. 1. 1. 1. 1. 1. 1. 1. 1. 1. 1. 1.\n",
      " 1. 1. 1. 1. 1. 1. 1. 1. 1.]\n",
      "[1. 1. 1. 1. 1. 1. 1. 1. 1. 1. 1. 1. 1. 1. 1. 1. 1. 1. 1. 1. 1. 1. 1. 1.\n",
      " 1. 1. 1. 1. 1. 1. 1. 1. 1. 1. 1. 1. 1. 1. 1. 1. 1. 1. 1. 1. 1. 1. 1. 1.\n",
      " 1. 1. 1. 1. 1. 1. 1. 1. 1. 1. 1. 1. 1. 1. 1. 1. 1. 1. 1. 1. 1. 1. 1. 1.\n",
      " 1. 1. 1. 1. 1. 1. 1. 1. 1.]\n",
      "[1. 1. 1. 1. 1. 1. 1. 1. 1. 1. 1. 1. 1. 1. 1. 1. 1. 1. 1. 1. 1. 1. 1. 1.\n",
      " 1. 1. 1. 1. 1. 1. 1. 1. 1. 1. 1. 1. 1. 1. 1. 1. 1. 1. 1. 1. 1. 1. 1. 1.\n",
      " 1. 1. 1. 1. 1. 1. 1. 1. 1. 1. 1. 1. 1. 1. 1. 1. 1. 1. 1. 1. 1. 1. 1. 1.\n",
      " 1. 1. 1. 1. 1. 1. 1. 1. 1.]\n",
      "[1. 1. 1. 1. 1. 1. 1. 1. 1. 1. 1. 1. 1. 1. 1. 1. 1. 1. 1. 1. 1. 1. 1. 1.\n",
      " 1. 1. 1. 1. 1. 1. 1. 1. 1. 1. 1. 1. 1. 1. 1. 1. 1. 1. 1. 1. 1. 1. 1. 1.\n",
      " 1. 1. 1. 1. 1. 1. 1. 1. 1. 1. 1. 1. 1. 1. 1. 1. 1. 1. 1. 1. 1. 1. 1. 1.\n",
      " 1. 1. 1. 1. 1. 1. 1. 1. 1.]\n",
      "[1. 1. 1. 1. 1. 1. 1. 1. 1. 1. 1. 1. 1. 1. 1. 1. 1. 1. 1. 1. 1. 1. 1. 1.\n",
      " 1. 1. 1. 1. 1. 1. 1. 1. 1. 1. 1. 1. 1. 1. 1. 1. 1. 1. 1. 1. 1. 1. 1. 1.\n",
      " 1. 1. 1. 1. 1. 1. 1. 1. 1. 1. 1. 1. 1. 1. 1. 1. 1. 1. 1. 1. 1. 1. 1. 1.\n",
      " 1. 1. 1. 1. 1. 1. 1. 1. 1.]\n",
      "[1. 1. 1. 1. 1. 1. 1. 1. 1. 1. 1. 1. 1. 1. 1. 1. 1. 1. 1. 1. 1. 1. 1. 1.\n",
      " 1. 1. 1. 1. 1. 1. 1. 1. 1. 1. 1. 1. 1. 1. 1. 1. 1. 1. 1. 1. 1. 1. 1. 1.\n",
      " 1. 1. 1. 1. 1. 1. 1. 1. 1. 1. 1. 1. 1. 1. 1. 1. 1. 1. 1. 1. 1. 1. 1. 1.\n",
      " 1. 1. 1. 1. 1. 1. 1. 1. 1.]\n",
      "[1. 1. 1. 1. 1. 1. 1. 1. 1. 1. 1. 1. 1. 1. 1. 1. 1. 1. 1. 1. 1. 1. 1. 1.\n",
      " 1. 1. 1. 1. 1. 1. 1. 1. 1. 1. 1. 1. 1. 1. 1. 1. 1. 1. 1. 1. 1. 1. 1. 1.\n",
      " 1. 1. 1. 1. 1. 1. 1. 1. 1. 1. 1. 1. 1. 1. 1. 1. 1. 1. 1. 1. 1. 1. 1. 1.\n",
      " 1. 1. 1. 1. 1. 1. 1. 1. 1.]\n",
      "[1. 1. 1. 1. 1. 1. 1. 1. 1. 1. 1. 1. 1. 1. 1. 1. 1. 1. 1. 1. 1. 1. 1. 1.\n",
      " 1. 1. 1. 1. 1. 1. 1. 1. 1. 1. 1. 1. 1. 1. 1. 1. 1. 1. 1. 1. 1. 1. 1. 1.\n",
      " 1. 1. 1. 1. 1. 1. 1. 1. 1. 1. 1. 1. 1. 1. 1. 1. 1. 1. 1. 1. 1. 1. 1. 1.\n",
      " 1. 1. 1. 1. 1. 1. 1. 1. 1.]\n",
      "[1. 1. 1. 1. 1. 1. 1. 1. 1. 1. 1. 1. 1. 1. 1. 1. 1. 1. 1. 1. 1. 1. 1. 1.\n",
      " 1. 1. 1. 1. 1. 1. 1. 1. 1. 1. 1. 1. 1. 1. 1. 1. 1. 1. 1. 1. 1. 1. 1. 1.\n",
      " 1. 1. 1. 1. 1. 1. 1. 1. 1. 1. 1. 1. 1. 1. 1. 1. 1. 1. 1. 1. 1. 1. 1. 1.\n",
      " 1. 1. 1. 1. 1. 1. 1. 1. 1.]\n",
      "[1. 1. 1. 1. 1. 1. 1. 1. 1. 1. 1. 1. 1. 1. 1. 1. 1. 1. 1. 1. 1. 1. 1. 1.\n",
      " 1. 1. 1. 1. 1. 1. 1. 1. 1. 1. 1. 1. 1. 1. 1. 1. 1. 1. 1. 1. 1. 1. 1. 1.\n",
      " 1. 1. 1. 1. 1. 1. 1. 1. 1. 1. 1. 1. 1. 1. 1. 1. 1. 1. 1. 1. 1. 1. 1. 1.\n",
      " 1. 1. 1. 1. 1. 1. 1. 1. 1.]\n",
      "[1. 1. 1. 1. 1. 1. 1. 1. 1. 1. 1. 1. 1. 1. 1. 1. 1. 1. 1. 1. 1. 1. 1. 1.\n",
      " 1. 1. 1. 1. 1. 1. 1. 1. 1. 1. 1. 1. 1. 1. 1. 1. 1. 1. 1. 1. 1. 1. 1. 1.\n",
      " 1. 1. 1. 1. 1. 1. 1. 1. 1. 1. 1. 1. 1. 1. 1. 1. 1. 1. 1. 1. 1. 1. 1. 1.\n",
      " 1. 1. 1. 1. 1. 1. 1. 1. 1.]\n",
      "[1. 1. 1. 1. 1. 1. 1. 1. 1. 1. 1. 1. 1. 1. 1. 1. 1. 1. 1. 1. 1. 1. 1. 1.\n",
      " 1. 1. 1. 1. 1. 1. 1. 1. 1. 1. 1. 1. 1. 1. 1. 1. 1. 1. 1. 1. 1. 1. 1. 1.\n",
      " 1. 1. 1. 1. 1. 1. 1. 1. 1. 1. 1. 1. 1. 1. 1. 1. 1. 1. 1. 1. 1. 1. 1. 1.\n",
      " 1. 1. 1. 1. 1. 1. 1. 1. 1.]\n",
      "[1. 1. 1. 1. 1. 1. 1. 1. 1. 1. 1. 1. 1. 1. 1. 1. 1. 1. 1. 1. 1. 1. 1. 1.\n",
      " 1. 1. 1. 1. 1. 1. 1. 1. 1. 1. 1. 1. 1. 1. 1. 1. 1. 1. 1. 1. 1. 1. 1. 1.\n",
      " 1. 1. 1. 1. 1. 1. 1. 1. 1. 1. 1. 1. 1. 1. 1. 1. 1. 1. 1. 1. 1. 1. 1. 1.\n",
      " 1. 1. 1. 1. 1. 1. 1. 1. 1.]\n",
      "[1. 1. 1. 1. 1. 1. 1. 1. 1. 1. 1. 1. 1. 1. 1. 1. 1. 1. 1. 1. 1. 1. 1. 1.\n",
      " 1. 1. 1. 1. 1. 1. 1. 1. 1. 1. 1. 1. 1. 1. 1. 1. 1. 1. 1. 1. 1. 1. 1. 1.\n",
      " 1. 1. 1. 1. 1. 1. 1. 1. 1. 1. 1. 1. 1. 1. 1. 1. 1. 1. 1. 1. 1. 1. 1. 1.\n",
      " 1. 1. 1. 1. 1. 1. 1. 1. 1.]\n",
      "[1. 1. 1. 1. 1. 1. 1. 1. 1. 1. 1. 1. 1. 1. 1. 1. 1. 1. 1. 1. 1. 1. 1. 1.\n",
      " 1. 1. 1. 1. 1. 1. 1. 1. 1. 1. 1. 1. 1. 1. 1. 1. 1. 1. 1. 1. 1. 1. 1. 1.\n",
      " 1. 1. 1. 1. 1. 1. 1. 1. 1. 1. 1. 1. 1. 1. 1. 1. 1. 1. 1. 1. 1. 1. 1. 1.\n",
      " 1. 1. 1. 1. 1. 1. 1. 1. 1.]\n",
      "[1. 1. 1. 1. 1. 1. 1. 1. 1. 1. 1. 1. 1. 1. 1. 1. 1. 1. 1. 1. 1. 1. 1. 1.\n",
      " 1. 1. 1. 1. 1. 1. 1. 1. 1. 1. 1. 1. 1. 1. 1. 1. 1. 1. 1. 1. 1. 1. 1. 1.\n",
      " 1. 1. 1. 1. 1. 1. 1. 1. 1. 1. 1. 1. 1. 1. 1. 1. 1. 1. 1. 1. 1. 1. 1. 1.\n",
      " 1. 1. 1. 1. 1. 1. 1. 1. 1.]\n",
      "[1. 1. 1. 1. 1. 1. 1. 1. 1. 1. 1. 1. 1. 1. 1. 1. 1. 1. 1. 1. 1. 1. 1. 1.\n",
      " 1. 1. 1. 1. 1. 1. 1. 1. 1. 1. 1. 1. 1. 1. 1. 1. 1. 1. 1. 1. 1. 1. 1. 1.\n",
      " 1. 1. 1. 1. 1. 1. 1. 1. 1. 1. 1. 1. 1. 1. 1. 1. 1. 1. 1. 1. 1. 1. 1. 1.\n",
      " 1. 1. 1. 1. 1. 1. 1. 1. 1.]\n",
      "[1. 1. 1. 1. 1. 1. 1. 1. 1. 1. 1. 1. 1. 1. 1. 1. 1. 1. 1. 1. 1. 1. 1. 1.\n",
      " 1. 1. 1. 1. 1. 1. 1. 1. 1. 1. 1. 1. 1. 1. 1. 1. 1. 1. 1. 1. 1. 1. 1. 1.\n",
      " 1. 1. 1. 1. 1. 1. 1. 1. 1. 1. 1. 1. 1. 1. 1. 1. 1. 1. 1. 1. 1. 1. 1. 1.\n",
      " 1. 1. 1. 1. 1. 1. 1. 1. 1.]\n",
      "[1. 1. 1. 1. 1. 1. 1. 1. 1. 1. 1. 1. 1. 1. 1. 1. 1. 1. 1. 1. 1. 1. 1. 1.\n",
      " 1. 1. 1. 1. 1. 1. 1. 1. 1. 1. 1. 1. 1. 1. 1. 1. 1. 1. 1. 1. 1. 1. 1. 1.\n",
      " 1. 1. 1. 1. 1. 1. 1. 1. 1. 1. 1. 1. 1. 1. 1. 1. 1. 1. 1. 1. 1. 1. 1. 1.\n",
      " 1. 1. 1. 1. 1. 1. 1. 1. 1.]\n",
      "[1. 1. 1. 1. 1. 1. 1. 1. 1. 1. 1. 1. 1. 1. 1. 1. 1. 1. 1. 1. 1. 1. 1. 1.\n",
      " 1. 1. 1. 1. 1. 1. 1. 1. 1. 1. 1. 1. 1. 1. 1. 1. 1. 1. 1. 1. 1. 1. 1. 1.\n",
      " 1. 1. 1. 1. 1. 1. 1. 1. 1. 1. 1. 1. 1. 1. 1. 1. 1. 1. 1. 1. 1. 1. 1. 1.\n",
      " 1. 1. 1. 1. 1. 1. 1. 1. 1.]\n",
      "[1. 1. 1. 1. 1. 1. 1. 1. 1. 1. 1. 1. 1. 1. 1. 1. 1. 1. 1. 1. 1. 1. 1. 1.\n",
      " 1. 1. 1. 1. 1. 1. 1. 1. 1. 1. 1. 1. 1. 1. 1. 1. 1. 1. 1. 1. 1. 1. 1. 1.\n",
      " 1. 1. 1. 1. 1. 1. 1. 1. 1. 1. 1. 1. 1. 1. 1. 1. 1. 1. 1. 1. 1. 1. 1. 1.\n",
      " 1. 1. 1. 1. 1. 1. 1. 1. 1.]\n",
      "[1. 1. 1. 1. 1. 1. 1. 1. 1. 1. 1. 1. 1. 1. 1. 1. 1. 1. 1. 1. 1. 1. 1. 1.\n",
      " 1. 1. 1. 1. 1. 1. 1. 1. 1. 1. 1. 1. 1. 1. 1. 1. 1. 1. 1. 1. 1. 1. 1. 1.\n",
      " 1. 1. 1. 1. 1. 1. 1. 1. 1. 1. 1. 1. 1. 1. 1. 1. 1. 1. 1. 1. 1. 1. 1. 1.\n",
      " 1. 1. 1. 1. 1. 1. 1. 1. 1.]\n",
      "[1. 1. 1. 1. 1. 1. 1. 1. 1. 1. 1. 1. 1. 1. 1. 1. 1. 1. 1. 1. 1. 1. 1. 1.\n",
      " 1. 1. 1. 1. 1. 1. 1. 1. 1. 1. 1. 1. 1. 1. 1. 1. 1. 1. 1. 1. 1. 1. 1. 1.\n",
      " 1. 1. 1. 1. 1. 1. 1. 1. 1. 1. 1. 1. 1. 1. 1. 1. 1. 1. 1. 1. 1. 1. 1. 1.\n",
      " 1. 1. 1. 1. 1. 1. 1. 1. 1.]\n",
      "[1. 1. 1. 1. 1. 1. 1. 1. 1. 1. 1. 1. 1. 1. 1. 1. 1. 1. 1. 1. 1. 1. 1. 1.\n",
      " 1. 1. 1. 1. 1. 1. 1. 1. 1. 1. 1. 1. 1. 1. 1. 1. 1. 1. 1. 1. 1. 1. 1. 1.\n",
      " 1. 1. 1. 1. 1. 1. 1. 1. 1. 1. 1. 1. 1. 1. 1. 1. 1. 1. 1. 1. 1. 1. 1. 1.\n",
      " 1. 1. 1. 1. 1. 1. 1. 1. 1.]\n",
      "[1. 1. 1. 1. 1. 1. 1. 1. 1. 1. 1. 1. 1. 1. 1. 1. 1. 1. 1. 1. 1. 1. 1. 1.\n",
      " 1. 1. 1. 1. 1. 1. 1. 1. 1. 1. 1. 1. 1. 1. 1. 1. 1. 1. 1. 1. 1. 1. 1. 1.\n",
      " 1. 1. 1. 1. 1. 1. 1. 1. 1. 1. 1. 1. 1. 1. 1. 1. 1. 1. 1. 1. 1. 1. 1. 1.\n",
      " 1. 1. 1. 1. 1. 1. 1. 1. 1.]\n",
      "[1. 1. 1. 1. 1. 1. 1. 1. 1. 1. 1. 1. 1. 1. 1. 1. 1. 1. 1. 1. 1. 1. 1. 1.\n",
      " 1. 1. 1. 1. 1. 1. 1. 1. 1. 1. 1. 1. 1. 1. 1. 1. 1. 1. 1. 1. 1. 1. 1. 1.\n",
      " 1. 1. 1. 1. 1. 1. 1. 1. 1. 1. 1. 1. 1. 1. 1. 1. 1. 1. 1. 1. 1. 1. 1. 1.\n",
      " 1. 1. 1. 1. 1. 1. 1. 1. 1.]\n",
      "[1. 1. 1. 1. 1. 1. 1. 1. 1. 1. 1. 1. 1. 1. 1. 1. 1. 1. 1. 1. 1. 1. 1. 1.\n",
      " 1. 1. 1. 1. 1. 1. 1. 1. 1. 1. 1. 1. 1. 1. 1. 1. 1. 1. 1. 1. 1. 1. 1. 1.\n",
      " 1. 1. 1. 1. 1. 1. 1. 1. 1. 1. 1. 1. 1. 1. 1. 1. 1. 1. 1. 1. 1. 1. 1. 1.\n",
      " 1. 1. 1. 1. 1. 1. 1. 1. 1.]\n",
      "[1. 1. 1. 1. 1. 1. 1. 1. 1. 1. 1. 1. 1. 1. 1. 1. 1. 1. 1. 1. 1. 1. 1. 1.\n",
      " 1. 1. 1. 1. 1. 1. 1. 1. 1. 1. 1. 1. 1. 1. 1. 1. 1. 1. 1. 1. 1. 1. 1. 1.\n",
      " 1. 1. 1. 1. 1. 1. 1. 1. 1. 1. 1. 1. 1. 1. 1. 1. 1. 1. 1. 1. 1. 1. 1. 1.\n",
      " 1. 1. 1. 1. 1. 1. 1. 1. 1.]\n",
      "[1. 1. 1. 1. 1. 1. 1. 1. 1. 1. 1. 1. 1. 1. 1. 1. 1. 1. 1. 1. 1. 1. 1. 1.\n",
      " 1. 1. 1. 1. 1. 1. 1. 1. 1. 1. 1. 1. 1. 1. 1. 1. 1. 1. 1. 1. 1. 1. 1. 1.\n",
      " 1. 1. 1. 1. 1. 1. 1. 1. 1. 1. 1. 1. 1. 1. 1. 1. 1. 1. 1. 1. 1. 1. 1. 1.\n",
      " 1. 1. 1. 1. 1. 1. 1. 1. 1.]\n",
      "[1. 1. 1. 1. 1. 1. 1. 1. 1. 1. 1. 1. 1. 1. 1. 1. 1. 1. 1. 1. 1. 1. 1. 1.\n",
      " 1. 1. 1. 1. 1. 1. 1. 1. 1. 1. 1. 1. 1. 1. 1. 1. 1. 1. 1. 1. 1. 1. 1. 1.\n",
      " 1. 1. 1. 1. 1. 1. 1. 1. 1. 1. 1. 1. 1. 1. 1. 1. 1. 1. 1. 1. 1. 1. 1. 1.\n",
      " 1. 1. 1. 1. 1. 1. 1. 1. 1.]\n",
      "[1. 1. 1. 1. 1. 1. 1. 1. 1. 1. 1. 1. 1. 1. 1. 1. 1. 1. 1. 1. 1. 1. 1. 1.\n",
      " 1. 1. 1. 1. 1. 1. 1. 1. 1. 1. 1. 1. 1. 1. 1. 1. 1. 1. 1. 1. 1. 1. 1. 1.\n",
      " 1. 1. 1. 1. 1. 1. 1. 1. 1. 1. 1. 1. 1. 1. 1. 1. 1. 1. 1. 1. 1. 1. 1. 1.\n",
      " 1. 1. 1. 1. 1. 1. 1. 1. 1.]\n",
      "[1. 1. 1. 1. 1. 1. 1. 1. 1. 1. 1. 1. 1. 1. 1. 1. 1. 1. 1. 1. 1. 1. 1. 1.\n",
      " 1. 1. 1. 1. 1. 1. 1. 1. 1. 1. 1. 1. 1. 1. 1. 1. 1. 1. 1. 1. 1. 1. 1. 1.\n",
      " 1. 1. 1. 1. 1. 1. 1. 1. 1. 1. 1. 1. 1. 1. 1. 1. 1. 1. 1. 1. 1. 1. 1. 1.\n",
      " 1. 1. 1. 1. 1. 1. 1. 1. 1.]\n",
      "[1. 1. 1. 1. 1. 1. 1. 1. 1. 1. 1. 1. 1. 1. 1. 1. 1. 1. 1. 1. 1. 1. 1. 1.\n",
      " 1. 1. 1. 1. 1. 1. 1. 1. 1. 1. 1. 1. 1. 1. 1. 1. 1. 1. 1. 1. 1. 1. 1. 1.\n",
      " 1. 1. 1. 1. 1. 1. 1. 1. 1. 1. 1. 1. 1. 1. 1. 1. 1. 1. 1. 1. 1. 1. 1. 1.\n",
      " 1. 1. 1. 1. 1. 1. 1. 1. 1.]\n",
      "[1. 1. 1. 1. 1. 1. 1. 1. 1. 1. 1. 1. 1. 1. 1. 1. 1. 1. 1. 1. 1. 1. 1. 1.\n",
      " 1. 1. 1. 1. 1. 1. 1. 1. 1. 1. 1. 1. 1. 1. 1. 1. 1. 1. 1. 1. 1. 1. 1. 1.\n",
      " 1. 1. 1. 1. 1. 1. 1. 1. 1. 1. 1. 1. 1. 1. 1. 1. 1. 1. 1. 1. 1. 1. 1. 1.\n",
      " 1. 1. 1. 1. 1. 1. 1. 1. 1.]\n",
      "[1. 1. 1. 1. 1. 1. 1. 1. 1. 1. 1. 1. 1. 1. 1. 1. 1. 1. 1. 1. 1. 1. 1. 1.\n",
      " 1. 1. 1. 1. 1. 1. 1. 1. 1. 1. 1. 1. 1. 1. 1. 1. 1. 1. 1. 1. 1. 1. 1. 1.\n",
      " 1. 1. 1. 1. 1. 1. 1. 1. 1. 1. 1. 1. 1. 1. 1. 1. 1. 1. 1. 1. 1. 1. 1. 1.\n",
      " 1. 1. 1. 1. 1. 1. 1. 1. 1.]\n",
      "[1. 1. 1. 1. 1. 1. 1. 1. 1. 1. 1. 1. 1. 1. 1. 1. 1. 1. 1. 1. 1. 1. 1. 1.\n",
      " 1. 1. 1. 1. 1. 1. 1. 1. 1. 1. 1. 1. 1. 1. 1. 1. 1. 1. 1. 1. 1. 1. 1. 1.\n",
      " 1. 1. 1. 1. 1. 1. 1. 1. 1. 1. 1. 1. 1. 1. 1. 1. 1. 1. 1. 1. 1. 1. 1. 1.\n",
      " 1. 1. 1. 1. 1. 1. 1. 1. 1.]\n",
      "[1. 1. 1. 1. 1. 1. 1. 1. 1. 1. 1. 1. 1. 1. 1. 1. 1. 1. 1. 1. 1. 1. 1. 1.\n",
      " 1. 1. 1. 1. 1. 1. 1. 1. 1. 1. 1. 1. 1. 1. 1. 1. 1. 1. 1. 1. 1. 1. 1. 1.\n",
      " 1. 1. 1. 1. 1. 1. 1. 1. 1. 1. 1. 1. 1. 1. 1. 1. 1. 1. 1. 1. 1. 1. 1. 1.\n",
      " 1. 1. 1. 1. 1. 1. 1. 1. 1.]\n",
      "[1. 1. 1. 1. 1. 1. 1. 1. 1. 1. 1. 1. 1. 1. 1. 1. 1. 1. 1. 1. 1. 1. 1. 1.\n",
      " 1. 1. 1. 1. 1. 1. 1. 1. 1. 1. 1. 1. 1. 1. 1. 1. 1. 1. 1. 1. 1. 1. 1. 1.\n",
      " 1. 1. 1. 1. 1. 1. 1. 1. 1. 1. 1. 1. 1. 1. 1. 1. 1. 1. 1. 1. 1. 1. 1. 1.\n",
      " 1. 1. 1. 1. 1. 1. 1. 1. 1.]\n",
      "[1. 1. 1. 1. 1. 1. 1. 1. 1. 1. 1. 1. 1. 1. 1. 1. 1. 1. 1. 1. 1. 1. 1. 1.\n",
      " 1. 1. 1. 1. 1. 1. 1. 1. 1. 1. 1. 1. 1. 1. 1. 1. 1. 1. 1. 1. 1. 1. 1. 1.\n",
      " 1. 1. 1. 1. 1. 1. 1. 1. 1. 1. 1. 1. 1. 1. 1. 1. 1. 1. 1. 1. 1. 1. 1. 1.\n",
      " 1. 1. 1. 1. 1. 1. 1. 1. 1.]\n",
      "[1. 1. 1. 1. 1. 1. 1. 1. 1. 1. 1. 1. 1. 1. 1. 1. 1. 1. 1. 1. 1. 1. 1. 1.\n",
      " 1. 1. 1. 1. 1. 1. 1. 1. 1. 1. 1. 1. 1. 1. 1. 1. 1. 1. 1. 1. 1. 1. 1. 1.\n",
      " 1. 1. 1. 1. 1. 1. 1. 1. 1. 1. 1. 1. 1. 1. 1. 1. 1. 1. 1. 1. 1. 1. 1. 1.\n",
      " 1. 1. 1. 1. 1. 1. 1. 1. 1.]\n",
      "[1. 1. 1. 1. 1. 1. 1. 1. 1. 1. 1. 1. 1. 1. 1. 1. 1. 1. 1. 1. 1. 1. 1. 1.\n",
      " 1. 1. 1. 1. 1. 1. 1. 1. 1. 1. 1. 1. 1. 1. 1. 1. 1. 1. 1. 1. 1. 1. 1. 1.\n",
      " 1. 1. 1. 1. 1. 1. 1. 1. 1. 1. 1. 1. 1. 1. 1. 1. 1. 1. 1. 1. 1. 1. 1. 1.\n",
      " 1. 1. 1. 1. 1. 1. 1. 1. 1.]\n",
      "[1. 1. 1. 1. 1. 1. 1. 1. 1. 1. 1. 1. 1. 1. 1. 1. 1. 1. 1. 1. 1. 1. 1. 1.\n",
      " 1. 1. 1. 1. 1. 1. 1. 1. 1. 1. 1. 1. 1. 1. 1. 1. 1. 1. 1. 1. 1. 1. 1. 1.\n",
      " 1. 1. 1. 1. 1. 1. 1. 1. 1. 1. 1. 1. 1. 1. 1. 1. 1. 1. 1. 1. 1. 1. 1. 1.\n",
      " 1. 1. 1. 1. 1. 1. 1. 1. 1.]\n",
      "[1. 1. 1. 1. 1. 1. 1. 1. 1. 1. 1. 1. 1. 1. 1. 1. 1. 1. 1. 1. 1. 1. 1. 1.\n",
      " 1. 1. 1. 1. 1. 1. 1. 1. 1. 1. 1. 1. 1. 1. 1. 1. 1. 1. 1. 1. 1. 1. 1. 1.\n",
      " 1. 1. 1. 1. 1. 1. 1. 1. 1. 1. 1. 1. 1. 1. 1. 1. 1. 1. 1. 1. 1. 1. 1. 1.\n",
      " 1. 1. 1. 1. 1. 1. 1. 1. 1.]\n",
      "[1. 1. 1. 1. 1. 1. 1. 1. 1. 1. 1. 1. 1. 1. 1. 1. 1. 1. 1. 1. 1. 1. 1. 1.\n",
      " 1. 1. 1. 1. 1. 1. 1. 1. 1. 1. 1. 1. 1. 1. 1. 1. 1. 1. 1. 1. 1. 1. 1. 1.\n",
      " 1. 1. 1. 1. 1. 1. 1. 1. 1. 1. 1. 1. 1. 1. 1. 1. 1. 1. 1. 1. 1. 1. 1. 1.\n",
      " 1. 1. 1. 1. 1. 1. 1. 1. 1.]\n",
      "[1. 1. 1. 1. 1. 1. 1. 1. 1. 1. 1. 1. 1. 1. 1. 1. 1. 1. 1. 1. 1. 1. 1. 1.\n",
      " 1. 1. 1. 1. 1. 1. 1. 1. 1. 1. 1. 1. 1. 1. 1. 1. 1. 1. 1. 1. 1. 1. 1. 1.\n",
      " 1. 1. 1. 1. 1. 1. 1. 1. 1. 1. 1. 1. 1. 1. 1. 1. 1. 1. 1. 1. 1. 1. 1. 1.\n",
      " 1. 1. 1. 1. 1. 1. 1. 1. 1.]\n"
     ]
    }
   ],
   "source": [
    "df = pd.DataFrame(columns=['seed', 'g_force', 'response_rate', 'reward', 'angle', 'jerk'])\n",
    "# df = torch.load('dataframe')\n",
    "default_timestep = 0.02\n",
    "default_frame_skip = 2\n",
    "jit_duration = 0.02\n",
    "env_name = 'InvertedPendulum-v2'\n",
    "for response_rate in response_times:\n",
    "    for g_force in [16, 17, 18, 19, 20]:\n",
    "        print(response_rate, g_force)\n",
    "        for seed in range(5):\n",
    "            states = []\n",
    "            force = g_force * 9.81\n",
    "            arguments = ['TD3', env_name, seed, jit_duration, float(g_force), response_rate, 1.0, False,'final']\n",
    "                # Target policy smoothing is scaled wrt the action scale\n",
    "            file_name = '_'.join([str(x) for x in arguments])\n",
    "            if response_rate % default_timestep == 0:\n",
    "                frame_skip = response_rate / default_timestep\n",
    "                timestep = default_timestep\n",
    "            elif jit_duration < response_rate:\n",
    "                timestep = jit_duration\n",
    "                frame_skip = response_rate / timestep\n",
    "            else:\n",
    "                timestep = response_rate\n",
    "                frame_skip = 1\n",
    "            jit_frames = 0  # How many frames the horizontal jitter force lasts each time\n",
    "            if jit_duration:\n",
    "                if jit_duration % timestep == 0:\n",
    "                    jit_frames = int(jit_duration / timestep)\n",
    "                else:\n",
    "                    raise ValueError(\n",
    "                        \"jit_duration should be a multiple of the timestep: \" + str(timestep))\n",
    "                    \n",
    "            time_change_factor = (default_timestep * default_frame_skip) / (timestep * frame_skip)\n",
    "            eval_env = make_env(env_name, seed, time_change_factor, timestep, frame_skip, False)\n",
    "            eval_env._max_episode_steps = 100000\n",
    "            state_dim = eval_env.observation_space.shape[0]\n",
    "            action_dim = eval_env.action_space.shape[0]\n",
    "            max_action = float(eval_env.action_space.high[0])\n",
    "            kwargs = {\n",
    "                \"state_dim\": state_dim,\n",
    "                \"action_dim\": action_dim,\n",
    "                \"observation_space\": eval_env.observation_space,\n",
    "                \"max_action\": max_action,\n",
    "                \"discount\": 0.99,\n",
    "                \"tau\": 0.005,\n",
    "            }\n",
    "            kwargs[\"policy_noise\"] = 2 * max_action\n",
    "            kwargs[\"noise_clip\"] = 0.5 * max_action\n",
    "            kwargs[\"policy_freq\"] = 2\n",
    "            policy = TD3.TD3(**kwargs)\n",
    "            policy_file = file_name \n",
    "            if os.path.exists('../models/'+policy_file+\"_critic\"):\n",
    "                policy.load(f\"../models/{policy_file}\")\n",
    "                avg_reward = 0.\n",
    "                avg_angle = 0.\n",
    "                steps = 0\n",
    "\n",
    "                t = 0\n",
    "                forces = []\n",
    "                force_times = []\n",
    "                for _ in range(1):\n",
    "                    state, done = eval_env.reset(), False\n",
    "                    eval_env.model.opt.gravity[0] = 0\n",
    "                    counter = 0\n",
    "                    disturb = 5\n",
    "                    jittering = False\n",
    "                    force = 0.25\n",
    "                    prev_action = None\n",
    "                    jerk = 0\n",
    "                    while not done:\n",
    "                        action = policy.select_action(np.array(state))\n",
    "                        # Perform action\n",
    "                        if not jittering and round(disturb - counter, 3) >= response_rate:  # Not during the frames when jitter force keeps existing\n",
    "                            next_state, reward, done, _ = eval_env.step(action)\n",
    "                            counter += response_rate\n",
    "                        elif not jittering and round(disturb - counter, 3) < response_rate:\n",
    "                            forces.append(force)\n",
    "                            force_times.append(t)\n",
    "                            jitter_force = force * 9.81 * (2 * (np.random.random() > 0.5) - 1)  # Jitter force strength w/ direction\n",
    "                            next_state, reward, done, _ = eval_env.jitter_step_start(action, jitter_force,\n",
    "                                                                                     (disturb - counter) / timestep,\n",
    "                                                                                     frame_skip - ((disturb - counter) / timestep),\n",
    "                                                                                     jit_frames)\n",
    "                            jittered_frames = frame_skip - ((disturb - counter) / timestep)\n",
    "                            if jittered_frames >= jit_frames:\n",
    "                                jittered_frames = 0\n",
    "                                jittering = False\n",
    "                                eval_env.model.opt.gravity[0] = 0\n",
    "                                counter = 0\n",
    "                                force += 0.25\n",
    "\n",
    "                            else:\n",
    "                                jittering = True\n",
    "                                eval_env.model.opt.gravity[0] = jitter_force\n",
    "                                counter += response_rate\n",
    "                        elif jit_frames - jittered_frames < frame_skip:  # Jitter force will dispear from now!\n",
    "                            next_state, reward, done, _ = eval_env.jitter_step_end(\n",
    "                                action, jitter_force, jit_frames - jittered_frames, frame_skip - (jit_frames - jittered_frames))\n",
    "                            jittering = False  # Stop jittering now\n",
    "                            eval_env.model.opt.gravity[0] = 0\n",
    "                            counter = 0\n",
    "                            force += 0.25\n",
    "                        else:  # Jitter force keeps existing now!\n",
    "                            next_state, reward, done, _ = eval_env.step(action)\n",
    "                            jittered_frames += frame_skip\n",
    "                            counter += response_rate\n",
    "                            if jittered_frames == jit_frames:\n",
    "                                jittering = False\n",
    "                                eval_env.model.opt.gravity[0] = 0\n",
    "                                counter = 0\n",
    "                                force += 0.25\n",
    "\n",
    "                        avg_reward += reward\n",
    "                        avg_angle += abs(next_state[1])\n",
    "                        state = next_state\n",
    "                        counter = round(counter, 3)\n",
    "                        if jit_duration:\n",
    "                            if counter == disturb:\n",
    "                                forces.append(force)\n",
    "                                force_times.append(t)\n",
    "                                jitter_force = force * 9.81 * (2 * (random.random() > 0.5) - 1)\n",
    "                                eval_env.model.opt.gravity[0] = jitter_force\n",
    "                                jittering = True\n",
    "                                jittered_frames = 0\n",
    "\n",
    "                        t += 1\n",
    "                        if prev_action:\n",
    "                            jerk += action - prev_action\n",
    "                        prev_action = action\n",
    "                        states.append(state)\n",
    "                states = np.array(states)\n",
    "                fig = make_subplots(rows=2, cols=1)\n",
    "                x = [i for i in range(t)]\n",
    "                for index, f in enumerate(force_times):\n",
    "                    fig.add_shape(go.layout.Shape(type=\"line\",\n",
    "                                            x0=f,\n",
    "                                            y0=-100,\n",
    "                                            x1=f,\n",
    "                                            y1=100,\n",
    "                                            ),row=1,col=1)\n",
    "                    fig.add_annotation(x=f,\n",
    "                                       y=0,\n",
    "                                       text=str(forces[index]), \n",
    "                                       showarrow=False,\n",
    "                                       row=1, col=1)\n",
    "                fig.add_trace(go.Scatter(x=x, y=states[:,0], mode='lines', name='pos'), row=1, col=1)\n",
    "                fig.add_trace(go.Scatter(x=x, y=states[:,1], mode='lines', name='angle'), row=2, col=1)\n",
    "    #             fig.add_trace(go.Scatter(x=x, y=states[:,2], mode='lines', name='vel'))\n",
    "    #             fig.add_trace(go.Scatter(x=x, y=states[:,3], mode='lines', name='angular vel'))\n",
    "                fig.update_layout(xaxis_title=\"Frames\")\n",
    "\n",
    "                fig.write_html(\"images2/\"+file_name+'.html')\n",
    "        \n",
    "\n",
    "                avg_reward /= 1\n",
    "                avg_angle /= 1\n",
    "                jerk /= avg_reward\n",
    "                df.loc[len(df.index)] = [seed, g_force, response_rate, avg_reward, avg_angle, jerk]\n",
    "                "
   ]
  },
  {
   "cell_type": "code",
   "execution_count": 25,
   "metadata": {},
   "outputs": [
    {
     "data": {
      "text/plain": [
       "20"
      ]
     },
     "execution_count": 25,
     "metadata": {},
     "output_type": "execute_result"
    }
   ],
   "source": []
  },
  {
   "cell_type": "code",
   "execution_count": 72,
   "metadata": {},
   "outputs": [
    {
     "data": {
      "text/plain": [
       "Parameter containing:\n",
       "tensor([ 0.3864, -0.4175], requires_grad=True)"
      ]
     },
     "execution_count": 72,
     "metadata": {},
     "output_type": "execute_result"
    }
   ],
   "source": [
    "reflex.bias"
   ]
  },
  {
   "cell_type": "code",
   "execution_count": 22,
   "metadata": {},
   "outputs": [
    {
     "data": {
      "text/plain": [
       "range(15, 20)"
      ]
     },
     "execution_count": 22,
     "metadata": {},
     "output_type": "execute_result"
    }
   ],
   "source": [
    "range(15,20)"
   ]
  },
  {
   "cell_type": "code",
   "execution_count": null,
   "metadata": {},
   "outputs": [],
   "source": []
  }
 ],
 "metadata": {
  "kernelspec": {
   "display_name": "Python 3 (ipykernel)",
   "language": "python",
   "name": "python3"
  },
  "language_info": {
   "codemirror_mode": {
    "name": "ipython",
    "version": 3
   },
   "file_extension": ".py",
   "mimetype": "text/x-python",
   "name": "python",
   "nbconvert_exporter": "python",
   "pygments_lexer": "ipython3",
   "version": "3.8.7"
  }
 },
 "nbformat": 4,
 "nbformat_minor": 2
}
