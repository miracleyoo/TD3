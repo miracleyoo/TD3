{
 "cells": [
  {
   "cell_type": "code",
   "execution_count": 1,
   "id": "c10671f6-4840-45a9-a820-de0039589142",
   "metadata": {},
   "outputs": [
    {
     "name": "stderr",
     "output_type": "stream",
     "text": [
      "c:\\python37\\lib\\site-packages\\tqdm\\auto.py:22: TqdmWarning: IProgress not found. Please update jupyter and ipywidgets. See https://ipywidgets.readthedocs.io/en/stable/user_install.html\n",
      "  from .autonotebook import tqdm as notebook_tqdm\n"
     ]
    }
   ],
   "source": [
    "import torch\n",
    "import sys\n",
    "import os\n",
    "import random\n",
    "import numpy as np\n",
    "import plotly.graph_objects as go\n",
    "from plotly.subplots import make_subplots\n",
    "from tqdm import tqdm\n",
    "import pandas as pd\n",
    "sys.path.append('../../')\n",
    "import TD3\n",
    "import utils\n",
    "\n",
    "sys.path.append('../')\n",
    "from common import make_env, perform_action, const_disturb_five, const_jitter_force, get_frame_skip_and_timestep, const_disturb_half\n",
    "from evals import *\n",
    "\n"
   ]
  },
  {
   "cell_type": "code",
   "execution_count": 47,
   "id": "4d8532e7-2cbb-4a5e-bdcd-a97fa235cade",
   "metadata": {},
   "outputs": [],
   "source": [
    "def eval_policy_increasing_force_hybrid_reflex(policy, parent_policy, eval_env, max_action, eval_episodes=10,\n",
    "                                               env_timestep=0.02, frame_skip=1, jit_frames=0, response_rate=0.04,\n",
    "                                               start_force=0.25, delayed_env=False, parent_steps=2, zero_reflex=False,\n",
    "                                               fast_eval=False, reflex_threshold=0):\n",
    "\n",
    "    get_next_disturb = const_disturb_half if fast_eval else const_disturb_five\n",
    "\n",
    "    avg_reward = 0.\n",
    "    rewards = []\n",
    "    steps = []\n",
    "    avg_angle = 0.\n",
    "    end_force = 0\n",
    "    t = 0\n",
    "    actions = 0\n",
    "    for _ in range(eval_episodes):\n",
    "        eval_env.model.opt.gravity[0] = 0\n",
    "        counter = 0\n",
    "        disturb = get_next_disturb(1)\n",
    "        force = start_force * 9.81\n",
    "        jerk = 0\n",
    "        jittered_frames = 0\n",
    "        jittering = False\n",
    "        jitter_force = 0\n",
    "        reflex = False\n",
    "        state, done = eval_env.reset(), False\n",
    "        child_state = state\n",
    "        parent_action = eval_env.previous_action\n",
    "        next_parent_action = parent_action\n",
    "        total_reward = 0\n",
    "        while not done:\n",
    "            # parent action changed every parent-steps. Due to delayed environment, the actual change happens one\n",
    "            # step before the next action.\n",
    "            if t % parent_steps == 0:\n",
    "                next_parent_action = parent_policy.select_action(state).clip(-max_action, max_action)\n",
    "            elif (t+1) % parent_steps == 0:\n",
    "                parent_action = next_parent_action\n",
    "            # do not clip child action since it can go over, its max action should be twice.\n",
    "            if isinstance(policy, TD3.TD3):\n",
    "                child_action = policy.select_action(child_state) * (1-zero_reflex)\n",
    "            else:\n",
    "                child_action = policy(torch.Tensor(child_state).to(device)).cpu().detach().numpy() * (1-zero_reflex)\n",
    "            action = (parent_action + child_action).clip(-max_action, max_action)\n",
    "            if np.all(abs(action - parent_action) < reflex_threshold):\n",
    "                action = parent_action\n",
    "                child_action = 0\n",
    "                if (t + 1) % parent_steps == 0:\n",
    "                        actions += 1\n",
    "            else:\n",
    "                actions += 1\n",
    "            \n",
    "            jittering, disturb, counter, jittered_frames, jitter_force, next_state, reward, done, force = perform_action(\n",
    "                jittering, disturb, counter, response_rate, eval_env, reflex, action, None, frame_skip,\n",
    "                const_jitter_force, force, env_timestep, jit_frames, jittered_frames, get_next_disturb, jitter_force,\n",
    "                1, delayed_env)\n",
    "\n",
    "            total_reward += reward\n",
    "            avg_angle += abs(next_state[1])\n",
    "            counter = round(counter, 3)\n",
    "\n",
    "            if counter == disturb:\n",
    "                jitter_force, force = const_jitter_force(force)\n",
    "                eval_env.model.opt.gravity[0] = jitter_force\n",
    "                jittering = True\n",
    "                jittered_frames = 0\n",
    "\n",
    "            child_state = next_state\n",
    "            state = next_state\n",
    "            t += 1\n",
    "            steps.append([parent_action, child_action, action, jitter_force, jittering])\n",
    "        rewards.append(total_reward)\n",
    "        avg_reward += total_reward\n",
    "        end_force += force\n",
    "\n",
    "    avg_reward /= eval_episodes\n",
    "    avg_angle /= eval_episodes\n",
    "    jerk /= t\n",
    "    avg_actions = actions/eval_episodes\n",
    "\n",
    "    return avg_reward, avg_angle, jerk, avg_actions, end_force / (9.81 * eval_episodes), rewards, steps"
   ]
  },
  {
   "cell_type": "code",
   "execution_count": 48,
   "id": "266d2052-9e8c-4554-890c-bfc33dc73682",
   "metadata": {},
   "outputs": [],
   "source": [
    "def get_results(dataframe, default_timestep, response_rate, parent_response_rate, env_name, reflex_threshold, jit_duration):\n",
    "    for seed in tqdm(range(5)):\n",
    "        torch.manual_seed(seed)\n",
    "        np.random.seed(seed)\n",
    "\n",
    "        frame_skip, timestep, jit_frames = get_frame_skip_and_timestep(jit_duration, response_rate,\n",
    "                                                                       default_timestep) \n",
    "        parent_steps = int(parent_response_rate/response_rate)  # Number children steps in on parent step\n",
    "        time_change_factor = (default_timestep * default_frame_skip) / (timestep * frame_skip)\n",
    "        env = make_env(env_name, seed, time_change_factor, timestep, frame_skip, delayed_env)\n",
    "        state_dim = env.observation_space[0].shape[0]\n",
    "        action_dim = env.action_space.shape[0]\n",
    "        parent_max_action = float(env.action_space.high[0])\n",
    "        child_max_action = 2 * parent_max_action\n",
    "        kwargs = {\n",
    "            \"state_dim\": state_dim,\n",
    "            \"action_dim\": action_dim,\n",
    "            \"max_action\": parent_max_action,\n",
    "            \"discount\": discount,\n",
    "            \"tau\": tau,\n",
    "            \"observation_space\": env.observation_space,\n",
    "            \"delayed_env\": delayed_env,\n",
    "            \"reflex\": False,\n",
    "        }\n",
    "        # Initialize policy\n",
    "            # Target policy smoothing is scaled wrt the action scale\n",
    "        kwargs[\"policy_noise\"] = policy_noise * parent_max_action\n",
    "        kwargs[\"noise_clip\"] = noise_clip * parent_max_action\n",
    "        kwargs[\"policy_freq\"] = policy_freq\n",
    "        parent_policy = TD3.TD3(**kwargs)\n",
    "        kwargs[\"max_action\"] = child_max_action\n",
    "        kwargs[\"policy_noise\"] = policy_noise * child_max_action\n",
    "        kwargs[\"noise_clip\"] = noise_clip * child_max_action\n",
    "        policy = TD3.TD3(**kwargs)\n",
    "        arguments = [policy_name, env_name, seed, parent_response_rate, delayed_env, 'best']\n",
    "\n",
    "        parent_file_name = '_'.join([str(x) for x in arguments])\n",
    "        parent_policy.load(f\"../hybrid/models_paper/{parent_file_name}\")\n",
    "        arguments = [\"reflex_train\", policy_name, env_name, seed,jit_duration, response_rate, parent_response_rate, 'best']\n",
    "        file_name = '_'.join([str(x) for x in arguments])\n",
    "        policy.load(f\"../hybrid/models_paper/{file_name}\")\n",
    "        eval_env = make_env(env_name, seed, time_change_factor, timestep, frame_skip, delayed_env)\n",
    "        eval_env.env.env._max_episode_steps = 1000000\n",
    "        avg_reward, avg_angle, jerk, avg_actions, end_force, rewards, steps = eval_policy_increasing_force_hybrid_reflex(policy, parent_policy,\n",
    "                                                                                              eval_env, parent_max_action, 10,\n",
    "                                                                                              timestep, frame_skip,\n",
    "                                                                                              jit_frames, response_rate, 0.25,\n",
    "                                                                                              delayed_env, parent_steps,\n",
    "                                                                                              True, True, reflex_threshold)\n",
    "        dataframe.loc[len(dataframe)] = [env_name, avg_reward, seed, avg_actions, reflex_threshold]"
   ]
  },
  {
   "cell_type": "code",
   "execution_count": 114,
   "id": "918a5653-a008-4d94-9417-42c50b4e5e53",
   "metadata": {},
   "outputs": [
    {
     "name": "stdout",
     "output_type": "stream",
     "text": [
      "0.0\n",
      "0.1\n",
      "0.2\n",
      "0.30000000000000004\n",
      "0.4\n",
      "0.5\n",
      "0.6000000000000001\n",
      "0.7000000000000001\n",
      "0.8\n",
      "0.9\n",
      "1.0\n",
      "1.1\n",
      "1.2000000000000002\n",
      "1.3\n",
      "1.4000000000000001\n",
      "1.5\n",
      "1.6\n",
      "1.7000000000000002\n",
      "1.8\n",
      "1.9000000000000001\n",
      "2.0\n"
     ]
    },
    {
     "name": "stderr",
     "output_type": "stream",
     "text": [
      "100%|████████████████████████████████████████████████████████████████████████████████████████████████████████████████████████████████████████████████████████████████████████████████| 5/5 [04:56<00:00, 59.33s/it]\n"
     ]
    }
   ],
   "source": [
    "default_timesteps = {'InvertedPendulum-v2':0.02, 'Hopper-v2': 0.002, 'Walker2d-v2': 0.002, 'InvertedDoublePendulum-v2':0.01}\n",
    "default_frame_skips = {'InvertedPendulum-v2':2, 'Hopper-v2': 4, 'Walker2d-v2': 4, 'InvertedDoublePendulum-v2':5}\n",
    "dataframe = pd.DataFrame(columns=[\"env\", \"result\", \"seed\", \"actions\", \"threshold\"])\n",
    "\n",
    "delayed_env = True\n",
    "policy_name = 'TD3'\n",
    "discount = 0.99\n",
    "tau=0.005\n",
    "policy_freq=2\n",
    "policy_noise=2\n",
    "noise_clip=0.5\n",
    "# # inverted pendulum\n",
    "# env_name = 'InvertedPendulum-v2'\n",
    "# response_rate = 0.02\n",
    "# parent_response_rate = 0.04\n",
    "# default_timestep = default_timesteps[env_name]\n",
    "# default_frame_skip = default_frame_skips[env_name]\n",
    "# jit_duration = 0.02\n",
    "# reflex_threshold = 4*0.3\n",
    "# for t in range(21):\n",
    "#     reflex_threshold = t*0.3\n",
    "#     print(reflex_threshold)\n",
    "#     get_results(dataframe, default_timestep, response_rate, parent_response_rate, env_name, reflex_threshold, jit_duration)\n",
    "\n",
    "\n",
    "# # Hopper\n",
    "env_name = 'Walker2d-v2'\n",
    "response_rate = 0.004\n",
    "parent_response_rate = 0.008\n",
    "default_timestep = default_timesteps[env_name]\n",
    "default_frame_skip = default_frame_skips[env_name]\n",
    "jit_duration = 0.004\n",
    "reflex_threshold = 4*0.1\n",
    "for t in range(21):\n",
    "    reflex_threshold = t*0.1\n",
    "    print(reflex_threshold)\n",
    "get_results(dataframe, default_timestep, response_rate, parent_response_rate, env_name, reflex_threshold, jit_duration)\n",
    "    \n",
    "    \n",
    "# # Walker2d\n",
    "# env_name = 'Walker2d-v2'\n",
    "# response_rate = 0.004\n",
    "# parent_response_rate = 0.008\n",
    "# default_timestep = default_timesteps[env_name]\n",
    "# default_frame_skip = default_frame_skips[env_name]\n",
    "# jit_duration = 0.004\n",
    "# reflex_threshold = 4*0.1\n",
    "# for t in range(21):\n",
    "#     reflex_threshold = t*0.1\n",
    "#     print(reflex_threshold)\n",
    "#     get_results(dataframe, default_timestep, response_rate, parent_response_rate, env_name, reflex_threshold, jit_duration)"
   ]
  },
  {
   "cell_type": "code",
   "execution_count": 45,
   "id": "eba0eeb5-c6a3-4435-9192-d715ba6a319e",
   "metadata": {},
   "outputs": [
    {
     "data": {
      "application/vnd.plotly.v1+json": {
       "config": {
        "plotlyServerURL": "https://plot.ly"
       },
       "data": [
        {
         "error_y": {
          "array": [
           2.1408285035482457,
           5.100245713755621,
           3.0002324341211577,
           5.223275916531121,
           5.290578810938702,
           4.165025122371041,
           1.986466851427746,
           2.386726389966175,
           2.4854660775607074,
           5.3462713370692505,
           7.129764881642986,
           3.2951084281460945,
           6.433805943738719,
           3.062024084360677,
           4.300075228365897,
           2.7189643232836858,
           4.08430518223902,
           4.2229704601264055,
           17.54150621024581,
           32.52186822994594,
           55.41640057134075
          ],
          "type": "data",
          "visible": true
         },
         "mode": "lines+markers",
         "name": "Reward",
         "type": "scatter",
         "x": [
          0,
          1,
          2,
          3,
          4,
          5,
          6,
          7,
          8,
          9,
          10,
          11,
          12,
          13,
          14,
          15,
          16,
          17,
          18,
          19,
          20
         ],
         "xaxis": "x",
         "y": [
          10.285840124652912,
          11.677132386895526,
          10.973665733237883,
          12.008140692356053,
          12.292787630958232,
          11.22257717954211,
          9.931306127523635,
          10.388685946879425,
          11.032685656098048,
          12.900695434918594,
          13.140413700108905,
          10.947417733547223,
          13.192787430187892,
          11.662208169835429,
          11.575830800797577,
          11.631881949909587,
          11.447056072884674,
          10.563734028991274,
          20.180534553980685,
          26.470582344883518,
          79.00746301988639
         ],
         "yaxis": "y"
        },
        {
         "mode": "lines",
         "name": "number of actions picked",
         "type": "scatter",
         "x": [
          0,
          1,
          2,
          3,
          4,
          5,
          6,
          7,
          8,
          9,
          10,
          11,
          12,
          13,
          14,
          15,
          16,
          17,
          18,
          19,
          20
         ],
         "xaxis": "x",
         "y": [
          786.78,
          890.64,
          825.6,
          883.8,
          888.5,
          793.3399999999999,
          681.8399999999999,
          684.74,
          708,
          804.36,
          802.1600000000001,
          642.36,
          748.52,
          619.64,
          595.66,
          569.58,
          541.5799999999999,
          477.4,
          828.4200000000001,
          1035.3400000000001,
          2965.6
         ],
         "yaxis": "y2"
        }
       ],
       "layout": {
        "autosize": true,
        "template": {
         "data": {
          "bar": [
           {
            "error_x": {
             "color": "#2a3f5f"
            },
            "error_y": {
             "color": "#2a3f5f"
            },
            "marker": {
             "line": {
              "color": "#E5ECF6",
              "width": 0.5
             },
             "pattern": {
              "fillmode": "overlay",
              "size": 10,
              "solidity": 0.2
             }
            },
            "type": "bar"
           }
          ],
          "barpolar": [
           {
            "marker": {
             "line": {
              "color": "#E5ECF6",
              "width": 0.5
             },
             "pattern": {
              "fillmode": "overlay",
              "size": 10,
              "solidity": 0.2
             }
            },
            "type": "barpolar"
           }
          ],
          "carpet": [
           {
            "aaxis": {
             "endlinecolor": "#2a3f5f",
             "gridcolor": "white",
             "linecolor": "white",
             "minorgridcolor": "white",
             "startlinecolor": "#2a3f5f"
            },
            "baxis": {
             "endlinecolor": "#2a3f5f",
             "gridcolor": "white",
             "linecolor": "white",
             "minorgridcolor": "white",
             "startlinecolor": "#2a3f5f"
            },
            "type": "carpet"
           }
          ],
          "choropleth": [
           {
            "colorbar": {
             "outlinewidth": 0,
             "ticks": ""
            },
            "type": "choropleth"
           }
          ],
          "contour": [
           {
            "colorbar": {
             "outlinewidth": 0,
             "ticks": ""
            },
            "colorscale": [
             [
              0,
              "#0d0887"
             ],
             [
              0.1111111111111111,
              "#46039f"
             ],
             [
              0.2222222222222222,
              "#7201a8"
             ],
             [
              0.3333333333333333,
              "#9c179e"
             ],
             [
              0.4444444444444444,
              "#bd3786"
             ],
             [
              0.5555555555555556,
              "#d8576b"
             ],
             [
              0.6666666666666666,
              "#ed7953"
             ],
             [
              0.7777777777777778,
              "#fb9f3a"
             ],
             [
              0.8888888888888888,
              "#fdca26"
             ],
             [
              1,
              "#f0f921"
             ]
            ],
            "type": "contour"
           }
          ],
          "contourcarpet": [
           {
            "colorbar": {
             "outlinewidth": 0,
             "ticks": ""
            },
            "type": "contourcarpet"
           }
          ],
          "heatmap": [
           {
            "colorbar": {
             "outlinewidth": 0,
             "ticks": ""
            },
            "colorscale": [
             [
              0,
              "#0d0887"
             ],
             [
              0.1111111111111111,
              "#46039f"
             ],
             [
              0.2222222222222222,
              "#7201a8"
             ],
             [
              0.3333333333333333,
              "#9c179e"
             ],
             [
              0.4444444444444444,
              "#bd3786"
             ],
             [
              0.5555555555555556,
              "#d8576b"
             ],
             [
              0.6666666666666666,
              "#ed7953"
             ],
             [
              0.7777777777777778,
              "#fb9f3a"
             ],
             [
              0.8888888888888888,
              "#fdca26"
             ],
             [
              1,
              "#f0f921"
             ]
            ],
            "type": "heatmap"
           }
          ],
          "heatmapgl": [
           {
            "colorbar": {
             "outlinewidth": 0,
             "ticks": ""
            },
            "colorscale": [
             [
              0,
              "#0d0887"
             ],
             [
              0.1111111111111111,
              "#46039f"
             ],
             [
              0.2222222222222222,
              "#7201a8"
             ],
             [
              0.3333333333333333,
              "#9c179e"
             ],
             [
              0.4444444444444444,
              "#bd3786"
             ],
             [
              0.5555555555555556,
              "#d8576b"
             ],
             [
              0.6666666666666666,
              "#ed7953"
             ],
             [
              0.7777777777777778,
              "#fb9f3a"
             ],
             [
              0.8888888888888888,
              "#fdca26"
             ],
             [
              1,
              "#f0f921"
             ]
            ],
            "type": "heatmapgl"
           }
          ],
          "histogram": [
           {
            "marker": {
             "pattern": {
              "fillmode": "overlay",
              "size": 10,
              "solidity": 0.2
             }
            },
            "type": "histogram"
           }
          ],
          "histogram2d": [
           {
            "colorbar": {
             "outlinewidth": 0,
             "ticks": ""
            },
            "colorscale": [
             [
              0,
              "#0d0887"
             ],
             [
              0.1111111111111111,
              "#46039f"
             ],
             [
              0.2222222222222222,
              "#7201a8"
             ],
             [
              0.3333333333333333,
              "#9c179e"
             ],
             [
              0.4444444444444444,
              "#bd3786"
             ],
             [
              0.5555555555555556,
              "#d8576b"
             ],
             [
              0.6666666666666666,
              "#ed7953"
             ],
             [
              0.7777777777777778,
              "#fb9f3a"
             ],
             [
              0.8888888888888888,
              "#fdca26"
             ],
             [
              1,
              "#f0f921"
             ]
            ],
            "type": "histogram2d"
           }
          ],
          "histogram2dcontour": [
           {
            "colorbar": {
             "outlinewidth": 0,
             "ticks": ""
            },
            "colorscale": [
             [
              0,
              "#0d0887"
             ],
             [
              0.1111111111111111,
              "#46039f"
             ],
             [
              0.2222222222222222,
              "#7201a8"
             ],
             [
              0.3333333333333333,
              "#9c179e"
             ],
             [
              0.4444444444444444,
              "#bd3786"
             ],
             [
              0.5555555555555556,
              "#d8576b"
             ],
             [
              0.6666666666666666,
              "#ed7953"
             ],
             [
              0.7777777777777778,
              "#fb9f3a"
             ],
             [
              0.8888888888888888,
              "#fdca26"
             ],
             [
              1,
              "#f0f921"
             ]
            ],
            "type": "histogram2dcontour"
           }
          ],
          "mesh3d": [
           {
            "colorbar": {
             "outlinewidth": 0,
             "ticks": ""
            },
            "type": "mesh3d"
           }
          ],
          "parcoords": [
           {
            "line": {
             "colorbar": {
              "outlinewidth": 0,
              "ticks": ""
             }
            },
            "type": "parcoords"
           }
          ],
          "pie": [
           {
            "automargin": true,
            "type": "pie"
           }
          ],
          "scatter": [
           {
            "fillpattern": {
             "fillmode": "overlay",
             "size": 10,
             "solidity": 0.2
            },
            "type": "scatter"
           }
          ],
          "scatter3d": [
           {
            "line": {
             "colorbar": {
              "outlinewidth": 0,
              "ticks": ""
             }
            },
            "marker": {
             "colorbar": {
              "outlinewidth": 0,
              "ticks": ""
             }
            },
            "type": "scatter3d"
           }
          ],
          "scattercarpet": [
           {
            "marker": {
             "colorbar": {
              "outlinewidth": 0,
              "ticks": ""
             }
            },
            "type": "scattercarpet"
           }
          ],
          "scattergeo": [
           {
            "marker": {
             "colorbar": {
              "outlinewidth": 0,
              "ticks": ""
             }
            },
            "type": "scattergeo"
           }
          ],
          "scattergl": [
           {
            "marker": {
             "colorbar": {
              "outlinewidth": 0,
              "ticks": ""
             }
            },
            "type": "scattergl"
           }
          ],
          "scattermapbox": [
           {
            "marker": {
             "colorbar": {
              "outlinewidth": 0,
              "ticks": ""
             }
            },
            "type": "scattermapbox"
           }
          ],
          "scatterpolar": [
           {
            "marker": {
             "colorbar": {
              "outlinewidth": 0,
              "ticks": ""
             }
            },
            "type": "scatterpolar"
           }
          ],
          "scatterpolargl": [
           {
            "marker": {
             "colorbar": {
              "outlinewidth": 0,
              "ticks": ""
             }
            },
            "type": "scatterpolargl"
           }
          ],
          "scatterternary": [
           {
            "marker": {
             "colorbar": {
              "outlinewidth": 0,
              "ticks": ""
             }
            },
            "type": "scatterternary"
           }
          ],
          "surface": [
           {
            "colorbar": {
             "outlinewidth": 0,
             "ticks": ""
            },
            "colorscale": [
             [
              0,
              "#0d0887"
             ],
             [
              0.1111111111111111,
              "#46039f"
             ],
             [
              0.2222222222222222,
              "#7201a8"
             ],
             [
              0.3333333333333333,
              "#9c179e"
             ],
             [
              0.4444444444444444,
              "#bd3786"
             ],
             [
              0.5555555555555556,
              "#d8576b"
             ],
             [
              0.6666666666666666,
              "#ed7953"
             ],
             [
              0.7777777777777778,
              "#fb9f3a"
             ],
             [
              0.8888888888888888,
              "#fdca26"
             ],
             [
              1,
              "#f0f921"
             ]
            ],
            "type": "surface"
           }
          ],
          "table": [
           {
            "cells": {
             "fill": {
              "color": "#EBF0F8"
             },
             "line": {
              "color": "white"
             }
            },
            "header": {
             "fill": {
              "color": "#C8D4E3"
             },
             "line": {
              "color": "white"
             }
            },
            "type": "table"
           }
          ]
         },
         "layout": {
          "annotationdefaults": {
           "arrowcolor": "#2a3f5f",
           "arrowhead": 0,
           "arrowwidth": 1
          },
          "autotypenumbers": "strict",
          "coloraxis": {
           "colorbar": {
            "outlinewidth": 0,
            "ticks": ""
           }
          },
          "colorscale": {
           "diverging": [
            [
             0,
             "#8e0152"
            ],
            [
             0.1,
             "#c51b7d"
            ],
            [
             0.2,
             "#de77ae"
            ],
            [
             0.3,
             "#f1b6da"
            ],
            [
             0.4,
             "#fde0ef"
            ],
            [
             0.5,
             "#f7f7f7"
            ],
            [
             0.6,
             "#e6f5d0"
            ],
            [
             0.7,
             "#b8e186"
            ],
            [
             0.8,
             "#7fbc41"
            ],
            [
             0.9,
             "#4d9221"
            ],
            [
             1,
             "#276419"
            ]
           ],
           "sequential": [
            [
             0,
             "#0d0887"
            ],
            [
             0.1111111111111111,
             "#46039f"
            ],
            [
             0.2222222222222222,
             "#7201a8"
            ],
            [
             0.3333333333333333,
             "#9c179e"
            ],
            [
             0.4444444444444444,
             "#bd3786"
            ],
            [
             0.5555555555555556,
             "#d8576b"
            ],
            [
             0.6666666666666666,
             "#ed7953"
            ],
            [
             0.7777777777777778,
             "#fb9f3a"
            ],
            [
             0.8888888888888888,
             "#fdca26"
            ],
            [
             1,
             "#f0f921"
            ]
           ],
           "sequentialminus": [
            [
             0,
             "#0d0887"
            ],
            [
             0.1111111111111111,
             "#46039f"
            ],
            [
             0.2222222222222222,
             "#7201a8"
            ],
            [
             0.3333333333333333,
             "#9c179e"
            ],
            [
             0.4444444444444444,
             "#bd3786"
            ],
            [
             0.5555555555555556,
             "#d8576b"
            ],
            [
             0.6666666666666666,
             "#ed7953"
            ],
            [
             0.7777777777777778,
             "#fb9f3a"
            ],
            [
             0.8888888888888888,
             "#fdca26"
            ],
            [
             1,
             "#f0f921"
            ]
           ]
          },
          "colorway": [
           "#636efa",
           "#EF553B",
           "#00cc96",
           "#ab63fa",
           "#FFA15A",
           "#19d3f3",
           "#FF6692",
           "#B6E880",
           "#FF97FF",
           "#FECB52"
          ],
          "font": {
           "color": "#2a3f5f"
          },
          "geo": {
           "bgcolor": "white",
           "lakecolor": "white",
           "landcolor": "#E5ECF6",
           "showlakes": true,
           "showland": true,
           "subunitcolor": "white"
          },
          "hoverlabel": {
           "align": "left"
          },
          "hovermode": "closest",
          "mapbox": {
           "style": "light"
          },
          "paper_bgcolor": "white",
          "plot_bgcolor": "#E5ECF6",
          "polar": {
           "angularaxis": {
            "gridcolor": "white",
            "linecolor": "white",
            "ticks": ""
           },
           "bgcolor": "#E5ECF6",
           "radialaxis": {
            "gridcolor": "white",
            "linecolor": "white",
            "ticks": ""
           }
          },
          "scene": {
           "xaxis": {
            "backgroundcolor": "#E5ECF6",
            "gridcolor": "white",
            "gridwidth": 2,
            "linecolor": "white",
            "showbackground": true,
            "ticks": "",
            "zerolinecolor": "white"
           },
           "yaxis": {
            "backgroundcolor": "#E5ECF6",
            "gridcolor": "white",
            "gridwidth": 2,
            "linecolor": "white",
            "showbackground": true,
            "ticks": "",
            "zerolinecolor": "white"
           },
           "zaxis": {
            "backgroundcolor": "#E5ECF6",
            "gridcolor": "white",
            "gridwidth": 2,
            "linecolor": "white",
            "showbackground": true,
            "ticks": "",
            "zerolinecolor": "white"
           }
          },
          "shapedefaults": {
           "line": {
            "color": "#2a3f5f"
           }
          },
          "ternary": {
           "aaxis": {
            "gridcolor": "white",
            "linecolor": "white",
            "ticks": ""
           },
           "baxis": {
            "gridcolor": "white",
            "linecolor": "white",
            "ticks": ""
           },
           "bgcolor": "#E5ECF6",
           "caxis": {
            "gridcolor": "white",
            "linecolor": "white",
            "ticks": ""
           }
          },
          "title": {
           "x": 0.05
          },
          "xaxis": {
           "automargin": true,
           "gridcolor": "white",
           "linecolor": "white",
           "ticks": "",
           "title": {
            "standoff": 15
           },
           "zerolinecolor": "white",
           "zerolinewidth": 2
          },
          "yaxis": {
           "automargin": true,
           "gridcolor": "white",
           "linecolor": "white",
           "ticks": "",
           "title": {
            "standoff": 15
           },
           "zerolinecolor": "white",
           "zerolinewidth": 2
          }
         }
        },
        "title": {
         "text": "Walker-v2 (0.004, 0.008)"
        },
        "xaxis": {
         "anchor": "y",
         "autorange": true,
         "domain": [
          0,
          0.94
         ],
         "range": [
          -1.167361926747938,
          21.167361926747937
         ],
         "type": "linear"
        },
        "yaxis": {
         "anchor": "x",
         "autorange": true,
         "domain": [
          0,
          1
         ],
         "range": [
          -13.855460855967394,
          142.2280385621321
         ],
         "type": "linear"
        },
        "yaxis2": {
         "anchor": "x",
         "autorange": true,
         "overlaying": "y",
         "range": [
          339.16666666666663,
          3103.833333333333
         ],
         "side": "right",
         "type": "linear"
        }
       }
      },
      "image/png": "[encoded data removed]",
      "text/html": [
       "<div>                            <div id=\"3b9fadd5-a8d8-4cbb-a753-90fef2904a10\" class=\"plotly-graph-div\" style=\"height:525px; width:100%;\"></div>            <script type=\"text/javascript\">                require([\"plotly\"], function(Plotly) {                    window.PLOTLYENV=window.PLOTLYENV || {};                                    if (document.getElementById(\"3b9fadd5-a8d8-4cbb-a753-90fef2904a10\")) {                    Plotly.newPlot(                        \"3b9fadd5-a8d8-4cbb-a753-90fef2904a10\",                        [{\"error_y\":{\"array\":[2.1408285035482457,5.100245713755621,3.0002324341211577,5.223275916531121,5.290578810938702,4.165025122371041,1.986466851427746,2.386726389966175,2.4854660775607074,5.3462713370692505,7.129764881642986,3.2951084281460945,6.433805943738719,3.062024084360677,4.300075228365897,2.7189643232836858,4.08430518223902,4.2229704601264055,17.54150621024581,32.52186822994594,55.41640057134075],\"type\":\"data\",\"visible\":true},\"mode\":\"lines+markers\",\"name\":\"Reward\",\"x\":[0,1,2,3,4,5,6,7,8,9,10,11,12,13,14,15,16,17,18,19,20],\"y\":[10.285840124652912,11.677132386895526,10.973665733237883,12.008140692356053,12.292787630958232,11.22257717954211,9.931306127523635,10.388685946879425,11.032685656098048,12.900695434918594,13.140413700108905,10.947417733547223,13.192787430187892,11.662208169835429,11.575830800797577,11.631881949909587,11.447056072884674,10.563734028991274,20.180534553980685,26.470582344883518,79.00746301988639],\"type\":\"scatter\",\"xaxis\":\"x\",\"yaxis\":\"y\"},{\"mode\":\"lines\",\"name\":\"number of actions picked\",\"x\":[0,1,2,3,4,5,6,7,8,9,10,11,12,13,14,15,16,17,18,19,20],\"y\":[786.78,890.64,825.6,883.8,888.5,793.3399999999999,681.8399999999999,684.74,708.0,804.36,802.1600000000001,642.36,748.52,619.64,595.66,569.58,541.5799999999999,477.4,828.4200000000001,1035.3400000000001,2965.6],\"type\":\"scatter\",\"xaxis\":\"x\",\"yaxis\":\"y2\"}],                        {\"template\":{\"data\":{\"histogram2dcontour\":[{\"type\":\"histogram2dcontour\",\"colorbar\":{\"outlinewidth\":0,\"ticks\":\"\"},\"colorscale\":[[0.0,\"#0d0887\"],[0.1111111111111111,\"#46039f\"],[0.2222222222222222,\"#7201a8\"],[0.3333333333333333,\"#9c179e\"],[0.4444444444444444,\"#bd3786\"],[0.5555555555555556,\"#d8576b\"],[0.6666666666666666,\"#ed7953\"],[0.7777777777777778,\"#fb9f3a\"],[0.8888888888888888,\"#fdca26\"],[1.0,\"#f0f921\"]]}],\"choropleth\":[{\"type\":\"choropleth\",\"colorbar\":{\"outlinewidth\":0,\"ticks\":\"\"}}],\"histogram2d\":[{\"type\":\"histogram2d\",\"colorbar\":{\"outlinewidth\":0,\"ticks\":\"\"},\"colorscale\":[[0.0,\"#0d0887\"],[0.1111111111111111,\"#46039f\"],[0.2222222222222222,\"#7201a8\"],[0.3333333333333333,\"#9c179e\"],[0.4444444444444444,\"#bd3786\"],[0.5555555555555556,\"#d8576b\"],[0.6666666666666666,\"#ed7953\"],[0.7777777777777778,\"#fb9f3a\"],[0.8888888888888888,\"#fdca26\"],[1.0,\"#f0f921\"]]}],\"heatmap\":[{\"type\":\"heatmap\",\"colorbar\":{\"outlinewidth\":0,\"ticks\":\"\"},\"colorscale\":[[0.0,\"#0d0887\"],[0.1111111111111111,\"#46039f\"],[0.2222222222222222,\"#7201a8\"],[0.3333333333333333,\"#9c179e\"],[0.4444444444444444,\"#bd3786\"],[0.5555555555555556,\"#d8576b\"],[0.6666666666666666,\"#ed7953\"],[0.7777777777777778,\"#fb9f3a\"],[0.8888888888888888,\"#fdca26\"],[1.0,\"#f0f921\"]]}],\"heatmapgl\":[{\"type\":\"heatmapgl\",\"colorbar\":{\"outlinewidth\":0,\"ticks\":\"\"},\"colorscale\":[[0.0,\"#0d0887\"],[0.1111111111111111,\"#46039f\"],[0.2222222222222222,\"#7201a8\"],[0.3333333333333333,\"#9c179e\"],[0.4444444444444444,\"#bd3786\"],[0.5555555555555556,\"#d8576b\"],[0.6666666666666666,\"#ed7953\"],[0.7777777777777778,\"#fb9f3a\"],[0.8888888888888888,\"#fdca26\"],[1.0,\"#f0f921\"]]}],\"contourcarpet\":[{\"type\":\"contourcarpet\",\"colorbar\":{\"outlinewidth\":0,\"ticks\":\"\"}}],\"contour\":[{\"type\":\"contour\",\"colorbar\":{\"outlinewidth\":0,\"ticks\":\"\"},\"colorscale\":[[0.0,\"#0d0887\"],[0.1111111111111111,\"#46039f\"],[0.2222222222222222,\"#7201a8\"],[0.3333333333333333,\"#9c179e\"],[0.4444444444444444,\"#bd3786\"],[0.5555555555555556,\"#d8576b\"],[0.6666666666666666,\"#ed7953\"],[0.7777777777777778,\"#fb9f3a\"],[0.8888888888888888,\"#fdca26\"],[1.0,\"#f0f921\"]]}],\"surface\":[{\"type\":\"surface\",\"colorbar\":{\"outlinewidth\":0,\"ticks\":\"\"},\"colorscale\":[[0.0,\"#0d0887\"],[0.1111111111111111,\"#46039f\"],[0.2222222222222222,\"#7201a8\"],[0.3333333333333333,\"#9c179e\"],[0.4444444444444444,\"#bd3786\"],[0.5555555555555556,\"#d8576b\"],[0.6666666666666666,\"#ed7953\"],[0.7777777777777778,\"#fb9f3a\"],[0.8888888888888888,\"#fdca26\"],[1.0,\"#f0f921\"]]}],\"mesh3d\":[{\"type\":\"mesh3d\",\"colorbar\":{\"outlinewidth\":0,\"ticks\":\"\"}}],\"scatter\":[{\"fillpattern\":{\"fillmode\":\"overlay\",\"size\":10,\"solidity\":0.2},\"type\":\"scatter\"}],\"parcoords\":[{\"type\":\"parcoords\",\"line\":{\"colorbar\":{\"outlinewidth\":0,\"ticks\":\"\"}}}],\"scatterpolargl\":[{\"type\":\"scatterpolargl\",\"marker\":{\"colorbar\":{\"outlinewidth\":0,\"ticks\":\"\"}}}],\"bar\":[{\"error_x\":{\"color\":\"#2a3f5f\"},\"error_y\":{\"color\":\"#2a3f5f\"},\"marker\":{\"line\":{\"color\":\"#E5ECF6\",\"width\":0.5},\"pattern\":{\"fillmode\":\"overlay\",\"size\":10,\"solidity\":0.2}},\"type\":\"bar\"}],\"scattergeo\":[{\"type\":\"scattergeo\",\"marker\":{\"colorbar\":{\"outlinewidth\":0,\"ticks\":\"\"}}}],\"scatterpolar\":[{\"type\":\"scatterpolar\",\"marker\":{\"colorbar\":{\"outlinewidth\":0,\"ticks\":\"\"}}}],\"histogram\":[{\"marker\":{\"pattern\":{\"fillmode\":\"overlay\",\"size\":10,\"solidity\":0.2}},\"type\":\"histogram\"}],\"scattergl\":[{\"type\":\"scattergl\",\"marker\":{\"colorbar\":{\"outlinewidth\":0,\"ticks\":\"\"}}}],\"scatter3d\":[{\"type\":\"scatter3d\",\"line\":{\"colorbar\":{\"outlinewidth\":0,\"ticks\":\"\"}},\"marker\":{\"colorbar\":{\"outlinewidth\":0,\"ticks\":\"\"}}}],\"scattermapbox\":[{\"type\":\"scattermapbox\",\"marker\":{\"colorbar\":{\"outlinewidth\":0,\"ticks\":\"\"}}}],\"scatterternary\":[{\"type\":\"scatterternary\",\"marker\":{\"colorbar\":{\"outlinewidth\":0,\"ticks\":\"\"}}}],\"scattercarpet\":[{\"type\":\"scattercarpet\",\"marker\":{\"colorbar\":{\"outlinewidth\":0,\"ticks\":\"\"}}}],\"carpet\":[{\"aaxis\":{\"endlinecolor\":\"#2a3f5f\",\"gridcolor\":\"white\",\"linecolor\":\"white\",\"minorgridcolor\":\"white\",\"startlinecolor\":\"#2a3f5f\"},\"baxis\":{\"endlinecolor\":\"#2a3f5f\",\"gridcolor\":\"white\",\"linecolor\":\"white\",\"minorgridcolor\":\"white\",\"startlinecolor\":\"#2a3f5f\"},\"type\":\"carpet\"}],\"table\":[{\"cells\":{\"fill\":{\"color\":\"#EBF0F8\"},\"line\":{\"color\":\"white\"}},\"header\":{\"fill\":{\"color\":\"#C8D4E3\"},\"line\":{\"color\":\"white\"}},\"type\":\"table\"}],\"barpolar\":[{\"marker\":{\"line\":{\"color\":\"#E5ECF6\",\"width\":0.5},\"pattern\":{\"fillmode\":\"overlay\",\"size\":10,\"solidity\":0.2}},\"type\":\"barpolar\"}],\"pie\":[{\"automargin\":true,\"type\":\"pie\"}]},\"layout\":{\"autotypenumbers\":\"strict\",\"colorway\":[\"#636efa\",\"#EF553B\",\"#00cc96\",\"#ab63fa\",\"#FFA15A\",\"#19d3f3\",\"#FF6692\",\"#B6E880\",\"#FF97FF\",\"#FECB52\"],\"font\":{\"color\":\"#2a3f5f\"},\"hovermode\":\"closest\",\"hoverlabel\":{\"align\":\"left\"},\"paper_bgcolor\":\"white\",\"plot_bgcolor\":\"#E5ECF6\",\"polar\":{\"bgcolor\":\"#E5ECF6\",\"angularaxis\":{\"gridcolor\":\"white\",\"linecolor\":\"white\",\"ticks\":\"\"},\"radialaxis\":{\"gridcolor\":\"white\",\"linecolor\":\"white\",\"ticks\":\"\"}},\"ternary\":{\"bgcolor\":\"#E5ECF6\",\"aaxis\":{\"gridcolor\":\"white\",\"linecolor\":\"white\",\"ticks\":\"\"},\"baxis\":{\"gridcolor\":\"white\",\"linecolor\":\"white\",\"ticks\":\"\"},\"caxis\":{\"gridcolor\":\"white\",\"linecolor\":\"white\",\"ticks\":\"\"}},\"coloraxis\":{\"colorbar\":{\"outlinewidth\":0,\"ticks\":\"\"}},\"colorscale\":{\"sequential\":[[0.0,\"#0d0887\"],[0.1111111111111111,\"#46039f\"],[0.2222222222222222,\"#7201a8\"],[0.3333333333333333,\"#9c179e\"],[0.4444444444444444,\"#bd3786\"],[0.5555555555555556,\"#d8576b\"],[0.6666666666666666,\"#ed7953\"],[0.7777777777777778,\"#fb9f3a\"],[0.8888888888888888,\"#fdca26\"],[1.0,\"#f0f921\"]],\"sequentialminus\":[[0.0,\"#0d0887\"],[0.1111111111111111,\"#46039f\"],[0.2222222222222222,\"#7201a8\"],[0.3333333333333333,\"#9c179e\"],[0.4444444444444444,\"#bd3786\"],[0.5555555555555556,\"#d8576b\"],[0.6666666666666666,\"#ed7953\"],[0.7777777777777778,\"#fb9f3a\"],[0.8888888888888888,\"#fdca26\"],[1.0,\"#f0f921\"]],\"diverging\":[[0,\"#8e0152\"],[0.1,\"#c51b7d\"],[0.2,\"#de77ae\"],[0.3,\"#f1b6da\"],[0.4,\"#fde0ef\"],[0.5,\"#f7f7f7\"],[0.6,\"#e6f5d0\"],[0.7,\"#b8e186\"],[0.8,\"#7fbc41\"],[0.9,\"#4d9221\"],[1,\"#276419\"]]},\"xaxis\":{\"gridcolor\":\"white\",\"linecolor\":\"white\",\"ticks\":\"\",\"title\":{\"standoff\":15},\"zerolinecolor\":\"white\",\"automargin\":true,\"zerolinewidth\":2},\"yaxis\":{\"gridcolor\":\"white\",\"linecolor\":\"white\",\"ticks\":\"\",\"title\":{\"standoff\":15},\"zerolinecolor\":\"white\",\"automargin\":true,\"zerolinewidth\":2},\"scene\":{\"xaxis\":{\"backgroundcolor\":\"#E5ECF6\",\"gridcolor\":\"white\",\"linecolor\":\"white\",\"showbackground\":true,\"ticks\":\"\",\"zerolinecolor\":\"white\",\"gridwidth\":2},\"yaxis\":{\"backgroundcolor\":\"#E5ECF6\",\"gridcolor\":\"white\",\"linecolor\":\"white\",\"showbackground\":true,\"ticks\":\"\",\"zerolinecolor\":\"white\",\"gridwidth\":2},\"zaxis\":{\"backgroundcolor\":\"#E5ECF6\",\"gridcolor\":\"white\",\"linecolor\":\"white\",\"showbackground\":true,\"ticks\":\"\",\"zerolinecolor\":\"white\",\"gridwidth\":2}},\"shapedefaults\":{\"line\":{\"color\":\"#2a3f5f\"}},\"annotationdefaults\":{\"arrowcolor\":\"#2a3f5f\",\"arrowhead\":0,\"arrowwidth\":1},\"geo\":{\"bgcolor\":\"white\",\"landcolor\":\"#E5ECF6\",\"subunitcolor\":\"white\",\"showland\":true,\"showlakes\":true,\"lakecolor\":\"white\"},\"title\":{\"x\":0.05},\"mapbox\":{\"style\":\"light\"}}},\"xaxis\":{\"anchor\":\"y\",\"domain\":[0.0,0.94]},\"yaxis\":{\"anchor\":\"x\",\"domain\":[0.0,1.0]},\"yaxis2\":{\"anchor\":\"x\",\"overlaying\":\"y\",\"side\":\"right\"},\"title\":{\"text\":\"Walker-v2 (0.004, 0.008)\"}},                        {\"responsive\": true}                    ).then(function(){\n",
       "                            \n",
       "var gd = document.getElementById('3b9fadd5-a8d8-4cbb-a753-90fef2904a10');\n",
       "var x = new MutationObserver(function (mutations, observer) {{\n",
       "        var display = window.getComputedStyle(gd).display;\n",
       "        if (!display || display === 'none') {{\n",
       "            console.log([gd, 'removed!']);\n",
       "            Plotly.purge(gd);\n",
       "            observer.disconnect();\n",
       "        }}\n",
       "}});\n",
       "\n",
       "// Listen for the removal of the full notebook cells\n",
       "var notebookContainer = gd.closest('#notebook-container');\n",
       "if (notebookContainer) {{\n",
       "    x.observe(notebookContainer, {childList: true});\n",
       "}}\n",
       "\n",
       "// Listen for the clearing of the current output cell\n",
       "var outputEl = gd.closest('.output');\n",
       "if (outputEl) {{\n",
       "    x.observe(outputEl, {childList: true});\n",
       "}}\n",
       "\n",
       "                        })                };                });            </script>        </div>"
      ]
     },
     "metadata": {},
     "output_type": "display_data"
    }
   ],
   "source": [
    "dataf = dataframe #.loc[dataframe['seed']!= 4]\n",
    "dataf['result'] = dataf['result'] * 0.004 \n",
    "df = dataf.groupby(['threshold']).mean()\n",
    "df_std =  dataf.groupby(['threshold']).std()\n",
    "fig = make_subplots(specs=[[{\"secondary_y\": True}]])\n",
    "\n",
    "\n",
    "x = list(range(21))\n",
    "\n",
    "y1_upper = list(df['result'] + df_std['result'])\n",
    "y1_lower = list(df['result'] - df_std['result'])\n",
    "y1_lower = y1_lower[::-1]\n",
    "x_rev = x[::-1]\n",
    "fig.add_trace(go.Scatter(x=x, y=df['result'], mode='lines+markers', name='Reward', error_y=dict(\n",
    "            type='data', # value of error bar given in data coordinates\n",
    "            array=df_std['result'],\n",
    "            visible=True)), secondary_y=False)\n",
    "\n",
    "fig.add_trace(go.Scatter(x=list(range(21)), y=df['actions'], mode='lines', name='number of actions picked'), secondary_y=True)\n",
    "fig.update_layout(\n",
    "    title_text=\"Walker-v2 (0.004, 0.008)\")\n"
   ]
  },
  {
   "cell_type": "code",
   "execution_count": 51,
   "id": "6a1f31e6-c8f5-4546-aed5-17cb22f09e70",
   "metadata": {},
   "outputs": [],
   "source": [
    "dataframe['result'] = dataframe['result']*0.004"
   ]
  },
  {
   "cell_type": "code",
   "execution_count": 52,
   "id": "462284ba-fbb6-4bf1-8610-e589d3df0746",
   "metadata": {},
   "outputs": [
    {
     "data": {
      "text/plain": [
       "0     96.576571\n",
       "1     44.741662\n",
       "2    155.724532\n",
       "3     43.979693\n",
       "4     40.696350\n",
       "Name: result, dtype: float64"
      ]
     },
     "execution_count": 52,
     "metadata": {},
     "output_type": "execute_result"
    }
   ],
   "source": [
    "dataframe['result']"
   ]
  },
  {
   "cell_type": "code",
   "execution_count": 112,
   "id": "e03c972c-cff1-40d7-b959-4f0d4d5efff0",
   "metadata": {},
   "outputs": [],
   "source": [
    "policy_name = 'TD3'\n",
    "env_name = 'Walker2d-v2'\n",
    "jit_duration = 0.004\n",
    "response_rate = 0.004\n",
    "parent_response_rate = 0.008\n",
    "# lcs1 = np.zeros([5, 201])\n",
    "# lcs2 = np.zeros([5, 201])\n",
    "lcs1 = np.zeros([201])\n",
    "lcs2 = np.zeros([201])\n",
    "for seed in range(5):\n",
    "    arguments = [\"reflex_train\", policy_name, env_name, seed,jit_duration, response_rate, parent_response_rate]\n",
    "    file_name = '_'.join([str(x) for x in arguments])\n",
    "    lc = np.load(f\"../hybrid/results_paper/{file_name}.npy\")\n",
    "    lcs1 += lc\n",
    "    \n",
    "    arguments = [\"perturbation\", policy_name, env_name, seed, response_rate, delayed_env]\n",
    "\n",
    "    file_name = '_'.join([str(x) for x in arguments])\n",
    "    lc = np.load(f\"../hybrid/results_paper/{file_name}.npy\")\n",
    "    if seed != 1:\n",
    "        lcs2 += lc\n"
   ]
  },
  {
   "cell_type": "code",
   "execution_count": 113,
   "id": "1e26c617-93b5-424f-90ea-b7c80d2d9900",
   "metadata": {},
   "outputs": [
    {
     "data": {
      "application/vnd.plotly.v1+json": {
       "config": {
        "plotlyServerURL": "https://plot.ly"
       },
       "data": [
        {
         "mode": "lines",
         "name": "TLA",
         "type": "scatter",
         "x": [
          0,
          1,
          2,
          3,
          4,
          5,
          6,
          7,
          8,
          9,
          10,
          11,
          12,
          13,
          14,
          15,
          16,
          17,
          18,
          19,
          20,
          21,
          22,
          23,
          24,
          25,
          26,
          27,
          28,
          29,
          30,
          31,
          32,
          33,
          34,
          35,
          36,
          37,
          38,
          39,
          40,
          41,
          42,
          43,
          44,
          45,
          46,
          47,
          48,
          49,
          50,
          51,
          52,
          53,
          54,
          55,
          56,
          57,
          58,
          59,
          60,
          61,
          62,
          63,
          64,
          65,
          66,
          67,
          68,
          69,
          70,
          71,
          72,
          73,
          74,
          75,
          76,
          77,
          78,
          79,
          80,
          81,
          82,
          83,
          84,
          85,
          86,
          87,
          88,
          89,
          90,
          91,
          92,
          93,
          94,
          95,
          96,
          97,
          98,
          99,
          100,
          101,
          102,
          103,
          104,
          105,
          106,
          107,
          108,
          109,
          110,
          111,
          112,
          113,
          114,
          115,
          116,
          117,
          118,
          119,
          120,
          121,
          122,
          123,
          124,
          125,
          126,
          127,
          128,
          129,
          130,
          131,
          132,
          133,
          134,
          135,
          136,
          137,
          138,
          139,
          140,
          141,
          142,
          143,
          144,
          145,
          146,
          147,
          148,
          149,
          150,
          151,
          152,
          153,
          154,
          155,
          156,
          157,
          158,
          159,
          160,
          161,
          162,
          163,
          164,
          165,
          166,
          167,
          168,
          169,
          170,
          171,
          172,
          173,
          174,
          175,
          176,
          177,
          178,
          179,
          180,
          181,
          182,
          183,
          184,
          185,
          186,
          187,
          188,
          189,
          190,
          191,
          192,
          193,
          194,
          195,
          196,
          197,
          198,
          199,
          200
         ],
         "y": [
          3871.8848125838804,
          383.3111426245121,
          703.9411120009947,
          693.2923778182087,
          772.4574597432826,
          620.9352744983626,
          613.0033939017801,
          687.0810853112764,
          602.0072957375421,
          759.4557216400167,
          648.8282524240165,
          739.7660495002284,
          683.0540477872507,
          728.0961712058324,
          659.1350673623356,
          536.9247524710354,
          620.7710267075083,
          810.1757267230183,
          817.7385960097512,
          776.1064570992523,
          784.5637419633891,
          735.7143609897075,
          752.3295445866086,
          688.232558515319,
          985.1394896492351,
          720.1811428019549,
          787.8473025604491,
          980.5347755926771,
          953.2588339552283,
          911.5066110757889,
          938.5801459145966,
          877.6317323099942,
          964.3218298089832,
          1017.3686486720569,
          997.3757694060441,
          824.3898255178722,
          966.52413096843,
          892.7975367737138,
          909.5767159624014,
          994.7513027743546,
          968.0610147717705,
          1006.3081827988601,
          992.0052090582622,
          1051.8811972966173,
          1035.3047513650893,
          1043.3344168595404,
          908.5159307126711,
          912.7068670799454,
          925.6390565012304,
          929.8879740168732,
          1027.3975781485,
          952.4562197898343,
          953.3689133537813,
          1085.0601539183515,
          1232.6779913870098,
          1241.4956800589873,
          1132.2581329711206,
          1118.779214857836,
          1137.6749745791535,
          1080.2434055259928,
          1079.8085112681042,
          1179.4601916554147,
          1102.727095453291,
          1158.8104934431835,
          1300.062509796407,
          1127.6458587865147,
          1247.4780607151442,
          1070.546782615606,
          1112.7965519135093,
          1122.5644971118938,
          1052.670869656004,
          1339.3835278223123,
          1446.9492899666943,
          1734.502030542614,
          1648.080373765531,
          1389.1841634319492,
          1411.6798249397366,
          1954.511666856899,
          1585.852970328609,
          1707.9886250336858,
          1536.885482070278,
          1751.833992541708,
          1326.984861608595,
          1302.9752794450897,
          1313.1972171803786,
          1305.7424149738356,
          1446.3572531824561,
          1466.8927420641965,
          1653.9718393335042,
          1573.6507263263861,
          1847.6615286540477,
          1846.507864403999,
          1565.4214736497993,
          1601.45782828652,
          1712.209659584998,
          1988.5829452500373,
          1570.8258725065589,
          2478.440200143998,
          2343.935349736201,
          2136.2268296215107,
          2080.3455662262354,
          1957.3772467833783,
          2313.7583000382024,
          1833.897866514221,
          2436.607776888206,
          3070.302264558275,
          11490.042249555383,
          3591.5165509970357,
          5255.327785174006,
          12154.548283145235,
          3746.413360882507,
          3180.146486133523,
          5148.341498801876,
          4521.8001059993285,
          5067.731579789323,
          6225.40822277032,
          3533.097735753522,
          9315.448792181565,
          6220.41970192335,
          13725.821327557747,
          3373.46405090646,
          3058.7511599479985,
          4537.891847344826,
          2406.8331072004817,
          5675.561795802752,
          3371.79179001062,
          5744.781477584824,
          5507.048368968955,
          4813.636730593898,
          5193.107885844672,
          4433.503804442516,
          2797.5945915911907,
          4066.555916340356,
          5736.650198325186,
          10180.525238161525,
          8495.454727451204,
          5614.657404663539,
          7009.4997160122775,
          4522.323074863254,
          5540.211924925812,
          10838.271466684113,
          8440.342793043961,
          4500.419555865175,
          14017.277541217176,
          10323.560466701787,
          13327.386852467263,
          7074.782417229724,
          9679.320737403134,
          9862.365236419411,
          18529.757369462684,
          5855.073689899598,
          10226.271244113446,
          2529.922762219779,
          6211.242489328583,
          5605.053936913793,
          6400.034884798779,
          10871.401273266809,
          4345.512254103543,
          8749.304457835455,
          8227.223015805092,
          11856.673959163338,
          22978.511090191685,
          18622.624277728897,
          14492.951772880286,
          22078.94028834664,
          19987.322669332232,
          18014.829005860305,
          23734.321058517486,
          19839.926432039516,
          21631.100017214107,
          23498.98418293547,
          19589.680848382548,
          18633.31468862748,
          19834.055386436994,
          24609.267024458946,
          24853.84209507841,
          34144.122060626076,
          25116.840823404356,
          23267.576586307227,
          32055.92113561647,
          29302.980676696472,
          34482.73725961424,
          33547.02535359007,
          17374.80961558629,
          21913.280637928045,
          37437.23481993274,
          31059.53949373833,
          21763.193564427125,
          38216.96698032283,
          31949.003321702032,
          53449.44465729748,
          50023.403876220116,
          34072.1670179678,
          38651.71345246273,
          26845.957261457876,
          49945.61238600059,
          50581.34825919853,
          49335.73525930625,
          42801.45188243755,
          28854.708972533874,
          25259.102536187107
         ]
        },
        {
         "mode": "lines",
         "name": "TD3",
         "type": "scatter",
         "x": [
          0,
          1,
          2,
          3,
          4,
          5,
          6,
          7,
          8,
          9,
          10,
          11,
          12,
          13,
          14,
          15,
          16,
          17,
          18,
          19,
          20,
          21,
          22,
          23,
          24,
          25,
          26,
          27,
          28,
          29,
          30,
          31,
          32,
          33,
          34,
          35,
          36,
          37,
          38,
          39,
          40,
          41,
          42,
          43,
          44,
          45,
          46,
          47,
          48,
          49,
          50,
          51,
          52,
          53,
          54,
          55,
          56,
          57,
          58,
          59,
          60,
          61,
          62,
          63,
          64,
          65,
          66,
          67,
          68,
          69,
          70,
          71,
          72,
          73,
          74,
          75,
          76,
          77,
          78,
          79,
          80,
          81,
          82,
          83,
          84,
          85,
          86,
          87,
          88,
          89,
          90,
          91,
          92,
          93,
          94,
          95,
          96,
          97,
          98,
          99,
          100,
          101,
          102,
          103,
          104,
          105,
          106,
          107,
          108,
          109,
          110,
          111,
          112,
          113,
          114,
          115,
          116,
          117,
          118,
          119,
          120,
          121,
          122,
          123,
          124,
          125,
          126,
          127,
          128,
          129,
          130,
          131,
          132,
          133,
          134,
          135,
          136,
          137,
          138,
          139,
          140,
          141,
          142,
          143,
          144,
          145,
          146,
          147,
          148,
          149,
          150,
          151,
          152,
          153,
          154,
          155,
          156,
          157,
          158,
          159,
          160,
          161,
          162,
          163,
          164,
          165,
          166,
          167,
          168,
          169,
          170,
          171,
          172,
          173,
          174,
          175,
          176,
          177,
          178,
          179,
          180,
          181,
          182,
          183,
          184,
          185,
          186,
          187,
          188,
          189,
          190,
          191,
          192,
          193,
          194,
          195,
          196,
          197,
          198,
          199,
          200
         ],
         "y": [
          74.48441546015488,
          373.184480334026,
          432.3773926114675,
          545.7604906644568,
          504.11627812719377,
          480.6004753830993,
          461.2597005061948,
          529.4697151452492,
          629.1645297088667,
          585.9951470085293,
          723.9998015758326,
          759.024027202404,
          799.0078633422477,
          710.5559402123084,
          794.9849382778384,
          870.015818473423,
          754.8071912300593,
          888.0648069366858,
          1075.217227245062,
          1198.5104314335806,
          759.3147961599041,
          1164.4133065846422,
          901.1192116098678,
          907.3391202746059,
          982.4338473778307,
          997.1981864087313,
          1024.760432320569,
          1018.7235396734857,
          1038.9121974247068,
          1069.926624296308,
          1302.597770598727,
          1163.9511877780262,
          1041.7002588576756,
          1272.7702840492502,
          1077.5984813000086,
          1258.4422302924415,
          1156.3207112282503,
          1390.116502878141,
          1562.306703200823,
          1194.496234195255,
          1193.1719826908127,
          1229.3044423626322,
          1330.0078818038032,
          1299.696582558785,
          1035.6435101376953,
          1478.636690219993,
          1395.8773929446616,
          1470.7388212353428,
          1486.9823446112596,
          1229.108031037598,
          1465.0051752071686,
          1181.801151280412,
          1637.5904837938633,
          1662.0027337967276,
          1907.1125284809798,
          1886.7575711203294,
          1675.128977728929,
          1797.9265014769935,
          2464.8966656269176,
          2369.7986956339873,
          3510.3264522746103,
          2920.7026178501374,
          2374.9829684551837,
          2571.103061856402,
          2597.8076476814376,
          2221.5355827372164,
          2083.674609635042,
          2722.3745876944595,
          2533.5312158313936,
          4740.971750287595,
          2963.250146715098,
          2960.1661307283866,
          3769.367629697181,
          10138.170956551612,
          4935.819884868051,
          10097.84309729618,
          9610.051328482607,
          6786.499751710504,
          11127.067788510773,
          12792.022413184735,
          6240.7480101185765,
          6078.299950246235,
          8230.590653229197,
          9615.833351982132,
          14112.810887120893,
          7937.175247031905,
          6176.241078916275,
          7699.835256507311,
          8691.268284974372,
          8872.34069333592,
          15742.154852606947,
          19423.118562519834,
          8411.32155188276,
          17976.020674292813,
          9417.414726578365,
          21588.49095614433,
          28693.608411765596,
          26348.383109043396,
          23316.503050909283,
          19429.80746158094,
          19613.642916341734,
          20699.3473604326,
          38649.20459666557,
          13031.396761910048,
          53719.01410108402,
          53026.29888483106,
          59568.37500359402,
          52324.8166428961,
          53357.21378253445,
          45376.08025512264,
          41837.076953855096,
          57291.59293481057,
          57411.476803435675,
          63185.49235901924,
          28691.871858932616,
          29961.843870590124,
          17734.12652733391,
          16742.93424136552,
          33618.91416780638,
          24300.674835026213,
          49325.482996692204,
          25542.812348229923,
          26198.708863457843,
          24716.988006567506,
          58988.04128866855,
          17802.33827436313,
          51606.54511225371,
          34980.25642041777,
          36548.48008369523,
          62883.80225390314,
          50349.143338209906,
          69994.80180921915,
          28406.533032448322,
          52998.89167287997,
          50177.99650564068,
          51191.855245012914,
          38398.822585507696,
          42049.49418059891,
          66165.47867730865,
          68686.37099684206,
          54108.4213476461,
          66483.60663963808,
          79153.85205875155,
          48250.18181002018,
          71226.13287784546,
          55134.78727212111,
          47609.97783676977,
          30248.65431850344,
          38783.4834659173,
          32445.51171841044,
          80805.3867490693,
          108213.28190838003,
          85079.85464347346,
          77302.20979010598,
          102902.97807939921,
          46216.66158149006,
          80668.48109117574,
          53692.0173564347,
          103782.78008887418,
          81245.67005596953,
          87766.47278033405,
          73622.80427191079,
          67045.36831570236,
          79470.39983266123,
          41635.95679598099,
          85682.02361147686,
          59503.58709646496,
          61956.9160332009,
          38165.74513624856,
          75481.22810770616,
          84134.57484907385,
          58897.14913207465,
          64250.16331835629,
          100745.08529403088,
          85999.77279279182,
          61539.522486609516,
          58068.172226902905,
          118602.83007734249,
          77827.15767762827,
          84449.31616514457,
          72400.7799120547,
          92060.25161081633,
          85566.50787254349,
          88509.86436401668,
          64760.72975565708,
          70443.00764416439,
          65242.50955824193,
          84308.32274895333,
          114428.76081106119,
          80635.02504434565,
          97733.28700457473,
          89644.63261688422,
          93764.78268318031,
          46767.19938376618,
          41686.36546779942,
          73479.03771555252,
          76766.03791906523,
          111056.0383576688,
          65792.24577310782,
          69569.8857958032,
          53298.29136228376
         ]
        }
       ],
       "layout": {
        "autosize": true,
        "template": {
         "data": {
          "bar": [
           {
            "error_x": {
             "color": "#2a3f5f"
            },
            "error_y": {
             "color": "#2a3f5f"
            },
            "marker": {
             "line": {
              "color": "#E5ECF6",
              "width": 0.5
             },
             "pattern": {
              "fillmode": "overlay",
              "size": 10,
              "solidity": 0.2
             }
            },
            "type": "bar"
           }
          ],
          "barpolar": [
           {
            "marker": {
             "line": {
              "color": "#E5ECF6",
              "width": 0.5
             },
             "pattern": {
              "fillmode": "overlay",
              "size": 10,
              "solidity": 0.2
             }
            },
            "type": "barpolar"
           }
          ],
          "carpet": [
           {
            "aaxis": {
             "endlinecolor": "#2a3f5f",
             "gridcolor": "white",
             "linecolor": "white",
             "minorgridcolor": "white",
             "startlinecolor": "#2a3f5f"
            },
            "baxis": {
             "endlinecolor": "#2a3f5f",
             "gridcolor": "white",
             "linecolor": "white",
             "minorgridcolor": "white",
             "startlinecolor": "#2a3f5f"
            },
            "type": "carpet"
           }
          ],
          "choropleth": [
           {
            "colorbar": {
             "outlinewidth": 0,
             "ticks": ""
            },
            "type": "choropleth"
           }
          ],
          "contour": [
           {
            "colorbar": {
             "outlinewidth": 0,
             "ticks": ""
            },
            "colorscale": [
             [
              0,
              "#0d0887"
             ],
             [
              0.1111111111111111,
              "#46039f"
             ],
             [
              0.2222222222222222,
              "#7201a8"
             ],
             [
              0.3333333333333333,
              "#9c179e"
             ],
             [
              0.4444444444444444,
              "#bd3786"
             ],
             [
              0.5555555555555556,
              "#d8576b"
             ],
             [
              0.6666666666666666,
              "#ed7953"
             ],
             [
              0.7777777777777778,
              "#fb9f3a"
             ],
             [
              0.8888888888888888,
              "#fdca26"
             ],
             [
              1,
              "#f0f921"
             ]
            ],
            "type": "contour"
           }
          ],
          "contourcarpet": [
           {
            "colorbar": {
             "outlinewidth": 0,
             "ticks": ""
            },
            "type": "contourcarpet"
           }
          ],
          "heatmap": [
           {
            "colorbar": {
             "outlinewidth": 0,
             "ticks": ""
            },
            "colorscale": [
             [
              0,
              "#0d0887"
             ],
             [
              0.1111111111111111,
              "#46039f"
             ],
             [
              0.2222222222222222,
              "#7201a8"
             ],
             [
              0.3333333333333333,
              "#9c179e"
             ],
             [
              0.4444444444444444,
              "#bd3786"
             ],
             [
              0.5555555555555556,
              "#d8576b"
             ],
             [
              0.6666666666666666,
              "#ed7953"
             ],
             [
              0.7777777777777778,
              "#fb9f3a"
             ],
             [
              0.8888888888888888,
              "#fdca26"
             ],
             [
              1,
              "#f0f921"
             ]
            ],
            "type": "heatmap"
           }
          ],
          "heatmapgl": [
           {
            "colorbar": {
             "outlinewidth": 0,
             "ticks": ""
            },
            "colorscale": [
             [
              0,
              "#0d0887"
             ],
             [
              0.1111111111111111,
              "#46039f"
             ],
             [
              0.2222222222222222,
              "#7201a8"
             ],
             [
              0.3333333333333333,
              "#9c179e"
             ],
             [
              0.4444444444444444,
              "#bd3786"
             ],
             [
              0.5555555555555556,
              "#d8576b"
             ],
             [
              0.6666666666666666,
              "#ed7953"
             ],
             [
              0.7777777777777778,
              "#fb9f3a"
             ],
             [
              0.8888888888888888,
              "#fdca26"
             ],
             [
              1,
              "#f0f921"
             ]
            ],
            "type": "heatmapgl"
           }
          ],
          "histogram": [
           {
            "marker": {
             "pattern": {
              "fillmode": "overlay",
              "size": 10,
              "solidity": 0.2
             }
            },
            "type": "histogram"
           }
          ],
          "histogram2d": [
           {
            "colorbar": {
             "outlinewidth": 0,
             "ticks": ""
            },
            "colorscale": [
             [
              0,
              "#0d0887"
             ],
             [
              0.1111111111111111,
              "#46039f"
             ],
             [
              0.2222222222222222,
              "#7201a8"
             ],
             [
              0.3333333333333333,
              "#9c179e"
             ],
             [
              0.4444444444444444,
              "#bd3786"
             ],
             [
              0.5555555555555556,
              "#d8576b"
             ],
             [
              0.6666666666666666,
              "#ed7953"
             ],
             [
              0.7777777777777778,
              "#fb9f3a"
             ],
             [
              0.8888888888888888,
              "#fdca26"
             ],
             [
              1,
              "#f0f921"
             ]
            ],
            "type": "histogram2d"
           }
          ],
          "histogram2dcontour": [
           {
            "colorbar": {
             "outlinewidth": 0,
             "ticks": ""
            },
            "colorscale": [
             [
              0,
              "#0d0887"
             ],
             [
              0.1111111111111111,
              "#46039f"
             ],
             [
              0.2222222222222222,
              "#7201a8"
             ],
             [
              0.3333333333333333,
              "#9c179e"
             ],
             [
              0.4444444444444444,
              "#bd3786"
             ],
             [
              0.5555555555555556,
              "#d8576b"
             ],
             [
              0.6666666666666666,
              "#ed7953"
             ],
             [
              0.7777777777777778,
              "#fb9f3a"
             ],
             [
              0.8888888888888888,
              "#fdca26"
             ],
             [
              1,
              "#f0f921"
             ]
            ],
            "type": "histogram2dcontour"
           }
          ],
          "mesh3d": [
           {
            "colorbar": {
             "outlinewidth": 0,
             "ticks": ""
            },
            "type": "mesh3d"
           }
          ],
          "parcoords": [
           {
            "line": {
             "colorbar": {
              "outlinewidth": 0,
              "ticks": ""
             }
            },
            "type": "parcoords"
           }
          ],
          "pie": [
           {
            "automargin": true,
            "type": "pie"
           }
          ],
          "scatter": [
           {
            "fillpattern": {
             "fillmode": "overlay",
             "size": 10,
             "solidity": 0.2
            },
            "type": "scatter"
           }
          ],
          "scatter3d": [
           {
            "line": {
             "colorbar": {
              "outlinewidth": 0,
              "ticks": ""
             }
            },
            "marker": {
             "colorbar": {
              "outlinewidth": 0,
              "ticks": ""
             }
            },
            "type": "scatter3d"
           }
          ],
          "scattercarpet": [
           {
            "marker": {
             "colorbar": {
              "outlinewidth": 0,
              "ticks": ""
             }
            },
            "type": "scattercarpet"
           }
          ],
          "scattergeo": [
           {
            "marker": {
             "colorbar": {
              "outlinewidth": 0,
              "ticks": ""
             }
            },
            "type": "scattergeo"
           }
          ],
          "scattergl": [
           {
            "marker": {
             "colorbar": {
              "outlinewidth": 0,
              "ticks": ""
             }
            },
            "type": "scattergl"
           }
          ],
          "scattermapbox": [
           {
            "marker": {
             "colorbar": {
              "outlinewidth": 0,
              "ticks": ""
             }
            },
            "type": "scattermapbox"
           }
          ],
          "scatterpolar": [
           {
            "marker": {
             "colorbar": {
              "outlinewidth": 0,
              "ticks": ""
             }
            },
            "type": "scatterpolar"
           }
          ],
          "scatterpolargl": [
           {
            "marker": {
             "colorbar": {
              "outlinewidth": 0,
              "ticks": ""
             }
            },
            "type": "scatterpolargl"
           }
          ],
          "scatterternary": [
           {
            "marker": {
             "colorbar": {
              "outlinewidth": 0,
              "ticks": ""
             }
            },
            "type": "scatterternary"
           }
          ],
          "surface": [
           {
            "colorbar": {
             "outlinewidth": 0,
             "ticks": ""
            },
            "colorscale": [
             [
              0,
              "#0d0887"
             ],
             [
              0.1111111111111111,
              "#46039f"
             ],
             [
              0.2222222222222222,
              "#7201a8"
             ],
             [
              0.3333333333333333,
              "#9c179e"
             ],
             [
              0.4444444444444444,
              "#bd3786"
             ],
             [
              0.5555555555555556,
              "#d8576b"
             ],
             [
              0.6666666666666666,
              "#ed7953"
             ],
             [
              0.7777777777777778,
              "#fb9f3a"
             ],
             [
              0.8888888888888888,
              "#fdca26"
             ],
             [
              1,
              "#f0f921"
             ]
            ],
            "type": "surface"
           }
          ],
          "table": [
           {
            "cells": {
             "fill": {
              "color": "#EBF0F8"
             },
             "line": {
              "color": "white"
             }
            },
            "header": {
             "fill": {
              "color": "#C8D4E3"
             },
             "line": {
              "color": "white"
             }
            },
            "type": "table"
           }
          ]
         },
         "layout": {
          "annotationdefaults": {
           "arrowcolor": "#2a3f5f",
           "arrowhead": 0,
           "arrowwidth": 1
          },
          "autotypenumbers": "strict",
          "coloraxis": {
           "colorbar": {
            "outlinewidth": 0,
            "ticks": ""
           }
          },
          "colorscale": {
           "diverging": [
            [
             0,
             "#8e0152"
            ],
            [
             0.1,
             "#c51b7d"
            ],
            [
             0.2,
             "#de77ae"
            ],
            [
             0.3,
             "#f1b6da"
            ],
            [
             0.4,
             "#fde0ef"
            ],
            [
             0.5,
             "#f7f7f7"
            ],
            [
             0.6,
             "#e6f5d0"
            ],
            [
             0.7,
             "#b8e186"
            ],
            [
             0.8,
             "#7fbc41"
            ],
            [
             0.9,
             "#4d9221"
            ],
            [
             1,
             "#276419"
            ]
           ],
           "sequential": [
            [
             0,
             "#0d0887"
            ],
            [
             0.1111111111111111,
             "#46039f"
            ],
            [
             0.2222222222222222,
             "#7201a8"
            ],
            [
             0.3333333333333333,
             "#9c179e"
            ],
            [
             0.4444444444444444,
             "#bd3786"
            ],
            [
             0.5555555555555556,
             "#d8576b"
            ],
            [
             0.6666666666666666,
             "#ed7953"
            ],
            [
             0.7777777777777778,
             "#fb9f3a"
            ],
            [
             0.8888888888888888,
             "#fdca26"
            ],
            [
             1,
             "#f0f921"
            ]
           ],
           "sequentialminus": [
            [
             0,
             "#0d0887"
            ],
            [
             0.1111111111111111,
             "#46039f"
            ],
            [
             0.2222222222222222,
             "#7201a8"
            ],
            [
             0.3333333333333333,
             "#9c179e"
            ],
            [
             0.4444444444444444,
             "#bd3786"
            ],
            [
             0.5555555555555556,
             "#d8576b"
            ],
            [
             0.6666666666666666,
             "#ed7953"
            ],
            [
             0.7777777777777778,
             "#fb9f3a"
            ],
            [
             0.8888888888888888,
             "#fdca26"
            ],
            [
             1,
             "#f0f921"
            ]
           ]
          },
          "colorway": [
           "#636efa",
           "#EF553B",
           "#00cc96",
           "#ab63fa",
           "#FFA15A",
           "#19d3f3",
           "#FF6692",
           "#B6E880",
           "#FF97FF",
           "#FECB52"
          ],
          "font": {
           "color": "#2a3f5f"
          },
          "geo": {
           "bgcolor": "white",
           "lakecolor": "white",
           "landcolor": "#E5ECF6",
           "showlakes": true,
           "showland": true,
           "subunitcolor": "white"
          },
          "hoverlabel": {
           "align": "left"
          },
          "hovermode": "closest",
          "mapbox": {
           "style": "light"
          },
          "paper_bgcolor": "white",
          "plot_bgcolor": "#E5ECF6",
          "polar": {
           "angularaxis": {
            "gridcolor": "white",
            "linecolor": "white",
            "ticks": ""
           },
           "bgcolor": "#E5ECF6",
           "radialaxis": {
            "gridcolor": "white",
            "linecolor": "white",
            "ticks": ""
           }
          },
          "scene": {
           "xaxis": {
            "backgroundcolor": "#E5ECF6",
            "gridcolor": "white",
            "gridwidth": 2,
            "linecolor": "white",
            "showbackground": true,
            "ticks": "",
            "zerolinecolor": "white"
           },
           "yaxis": {
            "backgroundcolor": "#E5ECF6",
            "gridcolor": "white",
            "gridwidth": 2,
            "linecolor": "white",
            "showbackground": true,
            "ticks": "",
            "zerolinecolor": "white"
           },
           "zaxis": {
            "backgroundcolor": "#E5ECF6",
            "gridcolor": "white",
            "gridwidth": 2,
            "linecolor": "white",
            "showbackground": true,
            "ticks": "",
            "zerolinecolor": "white"
           }
          },
          "shapedefaults": {
           "line": {
            "color": "#2a3f5f"
           }
          },
          "ternary": {
           "aaxis": {
            "gridcolor": "white",
            "linecolor": "white",
            "ticks": ""
           },
           "baxis": {
            "gridcolor": "white",
            "linecolor": "white",
            "ticks": ""
           },
           "bgcolor": "#E5ECF6",
           "caxis": {
            "gridcolor": "white",
            "linecolor": "white",
            "ticks": ""
           }
          },
          "title": {
           "x": 0.05
          },
          "xaxis": {
           "automargin": true,
           "gridcolor": "white",
           "linecolor": "white",
           "ticks": "",
           "title": {
            "standoff": 15
           },
           "zerolinecolor": "white",
           "zerolinewidth": 2
          },
          "yaxis": {
           "automargin": true,
           "gridcolor": "white",
           "linecolor": "white",
           "ticks": "",
           "title": {
            "standoff": 15
           },
           "zerolinecolor": "white",
           "zerolinewidth": 2
          }
         }
        },
        "xaxis": {
         "autorange": true,
         "range": [
          0,
          200
         ],
         "type": "linear"
        },
        "yaxis": {
         "autorange": true,
         "range": [
          -6510.423676866641,
          125187.73816966928
         ],
         "type": "linear"
        }
       }
      },
      "image/png": "[encoded data removed]",
      "text/html": [
       "<div>                            <div id=\"6d21722a-5ef9-4d78-8571-3159170595cf\" class=\"plotly-graph-div\" style=\"height:525px; width:100%;\"></div>            <script type=\"text/javascript\">                require([\"plotly\"], function(Plotly) {                    window.PLOTLYENV=window.PLOTLYENV || {};                                    if (document.getElementById(\"6d21722a-5ef9-4d78-8571-3159170595cf\")) {                    Plotly.newPlot(                        \"6d21722a-5ef9-4d78-8571-3159170595cf\",                        [{\"mode\":\"lines\",\"name\":\"TLA\",\"x\":[0,1,2,3,4,5,6,7,8,9,10,11,12,13,14,15,16,17,18,19,20,21,22,23,24,25,26,27,28,29,30,31,32,33,34,35,36,37,38,39,40,41,42,43,44,45,46,47,48,49,50,51,52,53,54,55,56,57,58,59,60,61,62,63,64,65,66,67,68,69,70,71,72,73,74,75,76,77,78,79,80,81,82,83,84,85,86,87,88,89,90,91,92,93,94,95,96,97,98,99,100,101,102,103,104,105,106,107,108,109,110,111,112,113,114,115,116,117,118,119,120,121,122,123,124,125,126,127,128,129,130,131,132,133,134,135,136,137,138,139,140,141,142,143,144,145,146,147,148,149,150,151,152,153,154,155,156,157,158,159,160,161,162,163,164,165,166,167,168,169,170,171,172,173,174,175,176,177,178,179,180,181,182,183,184,185,186,187,188,189,190,191,192,193,194,195,196,197,198,199,200],\"y\":[3871.8848125838804,383.3111426245121,703.9411120009947,693.2923778182087,772.4574597432826,620.9352744983626,613.0033939017801,687.0810853112764,602.0072957375421,759.4557216400167,648.8282524240165,739.7660495002284,683.0540477872507,728.0961712058324,659.1350673623356,536.9247524710354,620.7710267075083,810.1757267230183,817.7385960097512,776.1064570992523,784.5637419633891,735.7143609897075,752.3295445866086,688.232558515319,985.1394896492351,720.1811428019549,787.8473025604491,980.5347755926771,953.2588339552283,911.5066110757889,938.5801459145966,877.6317323099942,964.3218298089832,1017.3686486720569,997.3757694060441,824.3898255178722,966.52413096843,892.7975367737138,909.5767159624014,994.7513027743546,968.0610147717705,1006.3081827988601,992.0052090582622,1051.8811972966173,1035.3047513650893,1043.3344168595404,908.5159307126711,912.7068670799454,925.6390565012304,929.8879740168732,1027.3975781485,952.4562197898343,953.3689133537813,1085.0601539183515,1232.6779913870098,1241.4956800589873,1132.2581329711206,1118.779214857836,1137.6749745791535,1080.2434055259928,1079.8085112681042,1179.4601916554147,1102.727095453291,1158.8104934431835,1300.062509796407,1127.6458587865147,1247.4780607151442,1070.546782615606,1112.7965519135093,1122.5644971118938,1052.670869656004,1339.3835278223123,1446.9492899666943,1734.502030542614,1648.080373765531,1389.1841634319492,1411.6798249397366,1954.511666856899,1585.852970328609,1707.9886250336858,1536.885482070278,1751.833992541708,1326.984861608595,1302.9752794450897,1313.1972171803786,1305.7424149738356,1446.3572531824561,1466.8927420641965,1653.9718393335042,1573.6507263263861,1847.6615286540477,1846.507864403999,1565.4214736497993,1601.45782828652,1712.209659584998,1988.5829452500373,1570.8258725065589,2478.440200143998,2343.935349736201,2136.2268296215107,2080.3455662262354,1957.3772467833783,2313.7583000382024,1833.897866514221,2436.607776888206,3070.302264558275,11490.042249555383,3591.5165509970357,5255.327785174006,12154.548283145235,3746.413360882507,3180.146486133523,5148.341498801876,4521.8001059993285,5067.731579789323,6225.40822277032,3533.097735753522,9315.448792181565,6220.41970192335,13725.821327557747,3373.46405090646,3058.7511599479985,4537.891847344826,2406.8331072004817,5675.561795802752,3371.79179001062,5744.781477584824,5507.048368968955,4813.636730593898,5193.107885844672,4433.503804442516,2797.5945915911907,4066.555916340356,5736.650198325186,10180.525238161525,8495.454727451204,5614.657404663539,7009.4997160122775,4522.323074863254,5540.211924925812,10838.271466684113,8440.342793043961,4500.419555865175,14017.277541217176,10323.560466701787,13327.386852467263,7074.782417229724,9679.320737403134,9862.365236419411,18529.757369462684,5855.073689899598,10226.271244113446,2529.922762219779,6211.242489328583,5605.053936913793,6400.034884798779,10871.401273266809,4345.512254103543,8749.304457835455,8227.223015805092,11856.673959163338,22978.511090191685,18622.624277728897,14492.951772880286,22078.94028834664,19987.322669332232,18014.829005860305,23734.321058517486,19839.926432039516,21631.100017214107,23498.98418293547,19589.680848382548,18633.31468862748,19834.055386436994,24609.267024458946,24853.84209507841,34144.122060626076,25116.840823404356,23267.576586307227,32055.92113561647,29302.980676696472,34482.73725961424,33547.02535359007,17374.80961558629,21913.280637928045,37437.23481993274,31059.53949373833,21763.193564427125,38216.96698032283,31949.003321702032,53449.44465729748,50023.403876220116,34072.1670179678,38651.71345246273,26845.957261457876,49945.61238600059,50581.34825919853,49335.73525930625,42801.45188243755,28854.708972533874,25259.102536187107],\"type\":\"scatter\"},{\"mode\":\"lines\",\"name\":\"TD3\",\"x\":[0,1,2,3,4,5,6,7,8,9,10,11,12,13,14,15,16,17,18,19,20,21,22,23,24,25,26,27,28,29,30,31,32,33,34,35,36,37,38,39,40,41,42,43,44,45,46,47,48,49,50,51,52,53,54,55,56,57,58,59,60,61,62,63,64,65,66,67,68,69,70,71,72,73,74,75,76,77,78,79,80,81,82,83,84,85,86,87,88,89,90,91,92,93,94,95,96,97,98,99,100,101,102,103,104,105,106,107,108,109,110,111,112,113,114,115,116,117,118,119,120,121,122,123,124,125,126,127,128,129,130,131,132,133,134,135,136,137,138,139,140,141,142,143,144,145,146,147,148,149,150,151,152,153,154,155,156,157,158,159,160,161,162,163,164,165,166,167,168,169,170,171,172,173,174,175,176,177,178,179,180,181,182,183,184,185,186,187,188,189,190,191,192,193,194,195,196,197,198,199,200],\"y\":[74.48441546015488,373.184480334026,432.3773926114675,545.7604906644568,504.11627812719377,480.6004753830993,461.2597005061948,529.4697151452492,629.1645297088667,585.9951470085293,723.9998015758326,759.024027202404,799.0078633422477,710.5559402123084,794.9849382778384,870.015818473423,754.8071912300593,888.0648069366858,1075.217227245062,1198.5104314335806,759.3147961599041,1164.4133065846422,901.1192116098678,907.3391202746059,982.4338473778307,997.1981864087313,1024.760432320569,1018.7235396734857,1038.9121974247068,1069.926624296308,1302.597770598727,1163.9511877780262,1041.7002588576756,1272.7702840492502,1077.5984813000086,1258.4422302924415,1156.3207112282503,1390.116502878141,1562.306703200823,1194.496234195255,1193.1719826908127,1229.3044423626322,1330.0078818038032,1299.696582558785,1035.6435101376953,1478.636690219993,1395.8773929446616,1470.7388212353428,1486.9823446112596,1229.108031037598,1465.0051752071686,1181.801151280412,1637.5904837938633,1662.0027337967276,1907.1125284809798,1886.7575711203294,1675.128977728929,1797.9265014769935,2464.8966656269176,2369.7986956339873,3510.3264522746103,2920.7026178501374,2374.9829684551837,2571.103061856402,2597.8076476814376,2221.5355827372164,2083.674609635042,2722.3745876944595,2533.5312158313936,4740.971750287595,2963.250146715098,2960.1661307283866,3769.367629697181,10138.170956551612,4935.819884868051,10097.84309729618,9610.051328482607,6786.499751710504,11127.067788510773,12792.022413184735,6240.7480101185765,6078.299950246235,8230.590653229197,9615.833351982132,14112.810887120893,7937.175247031905,6176.241078916275,7699.835256507311,8691.268284974372,8872.34069333592,15742.154852606947,19423.118562519834,8411.32155188276,17976.020674292813,9417.414726578365,21588.49095614433,28693.608411765596,26348.383109043396,23316.503050909283,19429.80746158094,19613.642916341734,20699.3473604326,38649.20459666557,13031.396761910048,53719.01410108402,53026.29888483106,59568.37500359402,52324.8166428961,53357.21378253445,45376.08025512264,41837.076953855096,57291.59293481057,57411.476803435675,63185.49235901924,28691.871858932616,29961.843870590124,17734.12652733391,16742.93424136552,33618.91416780638,24300.674835026213,49325.482996692204,25542.812348229923,26198.708863457843,24716.988006567506,58988.04128866855,17802.33827436313,51606.54511225371,34980.25642041777,36548.48008369523,62883.80225390314,50349.143338209906,69994.80180921915,28406.533032448322,52998.89167287997,50177.99650564068,51191.855245012914,38398.822585507696,42049.49418059891,66165.47867730865,68686.37099684206,54108.4213476461,66483.60663963808,79153.85205875155,48250.18181002018,71226.13287784546,55134.78727212111,47609.97783676977,30248.65431850344,38783.4834659173,32445.51171841044,80805.3867490693,108213.28190838003,85079.85464347346,77302.20979010598,102902.97807939921,46216.66158149006,80668.48109117574,53692.0173564347,103782.78008887418,81245.67005596953,87766.47278033405,73622.80427191079,67045.36831570236,79470.39983266123,41635.95679598099,85682.02361147686,59503.58709646496,61956.9160332009,38165.74513624856,75481.22810770616,84134.57484907385,58897.14913207465,64250.16331835629,100745.08529403088,85999.77279279182,61539.522486609516,58068.172226902905,118602.83007734249,77827.15767762827,84449.31616514457,72400.7799120547,92060.25161081633,85566.50787254349,88509.86436401668,64760.72975565708,70443.00764416439,65242.50955824193,84308.32274895333,114428.76081106119,80635.02504434565,97733.28700457473,89644.63261688422,93764.78268318031,46767.19938376618,41686.36546779942,73479.03771555252,76766.03791906523,111056.0383576688,65792.24577310782,69569.8857958032,53298.29136228376],\"type\":\"scatter\"}],                        {\"template\":{\"data\":{\"histogram2dcontour\":[{\"type\":\"histogram2dcontour\",\"colorbar\":{\"outlinewidth\":0,\"ticks\":\"\"},\"colorscale\":[[0.0,\"#0d0887\"],[0.1111111111111111,\"#46039f\"],[0.2222222222222222,\"#7201a8\"],[0.3333333333333333,\"#9c179e\"],[0.4444444444444444,\"#bd3786\"],[0.5555555555555556,\"#d8576b\"],[0.6666666666666666,\"#ed7953\"],[0.7777777777777778,\"#fb9f3a\"],[0.8888888888888888,\"#fdca26\"],[1.0,\"#f0f921\"]]}],\"choropleth\":[{\"type\":\"choropleth\",\"colorbar\":{\"outlinewidth\":0,\"ticks\":\"\"}}],\"histogram2d\":[{\"type\":\"histogram2d\",\"colorbar\":{\"outlinewidth\":0,\"ticks\":\"\"},\"colorscale\":[[0.0,\"#0d0887\"],[0.1111111111111111,\"#46039f\"],[0.2222222222222222,\"#7201a8\"],[0.3333333333333333,\"#9c179e\"],[0.4444444444444444,\"#bd3786\"],[0.5555555555555556,\"#d8576b\"],[0.6666666666666666,\"#ed7953\"],[0.7777777777777778,\"#fb9f3a\"],[0.8888888888888888,\"#fdca26\"],[1.0,\"#f0f921\"]]}],\"heatmap\":[{\"type\":\"heatmap\",\"colorbar\":{\"outlinewidth\":0,\"ticks\":\"\"},\"colorscale\":[[0.0,\"#0d0887\"],[0.1111111111111111,\"#46039f\"],[0.2222222222222222,\"#7201a8\"],[0.3333333333333333,\"#9c179e\"],[0.4444444444444444,\"#bd3786\"],[0.5555555555555556,\"#d8576b\"],[0.6666666666666666,\"#ed7953\"],[0.7777777777777778,\"#fb9f3a\"],[0.8888888888888888,\"#fdca26\"],[1.0,\"#f0f921\"]]}],\"heatmapgl\":[{\"type\":\"heatmapgl\",\"colorbar\":{\"outlinewidth\":0,\"ticks\":\"\"},\"colorscale\":[[0.0,\"#0d0887\"],[0.1111111111111111,\"#46039f\"],[0.2222222222222222,\"#7201a8\"],[0.3333333333333333,\"#9c179e\"],[0.4444444444444444,\"#bd3786\"],[0.5555555555555556,\"#d8576b\"],[0.6666666666666666,\"#ed7953\"],[0.7777777777777778,\"#fb9f3a\"],[0.8888888888888888,\"#fdca26\"],[1.0,\"#f0f921\"]]}],\"contourcarpet\":[{\"type\":\"contourcarpet\",\"colorbar\":{\"outlinewidth\":0,\"ticks\":\"\"}}],\"contour\":[{\"type\":\"contour\",\"colorbar\":{\"outlinewidth\":0,\"ticks\":\"\"},\"colorscale\":[[0.0,\"#0d0887\"],[0.1111111111111111,\"#46039f\"],[0.2222222222222222,\"#7201a8\"],[0.3333333333333333,\"#9c179e\"],[0.4444444444444444,\"#bd3786\"],[0.5555555555555556,\"#d8576b\"],[0.6666666666666666,\"#ed7953\"],[0.7777777777777778,\"#fb9f3a\"],[0.8888888888888888,\"#fdca26\"],[1.0,\"#f0f921\"]]}],\"surface\":[{\"type\":\"surface\",\"colorbar\":{\"outlinewidth\":0,\"ticks\":\"\"},\"colorscale\":[[0.0,\"#0d0887\"],[0.1111111111111111,\"#46039f\"],[0.2222222222222222,\"#7201a8\"],[0.3333333333333333,\"#9c179e\"],[0.4444444444444444,\"#bd3786\"],[0.5555555555555556,\"#d8576b\"],[0.6666666666666666,\"#ed7953\"],[0.7777777777777778,\"#fb9f3a\"],[0.8888888888888888,\"#fdca26\"],[1.0,\"#f0f921\"]]}],\"mesh3d\":[{\"type\":\"mesh3d\",\"colorbar\":{\"outlinewidth\":0,\"ticks\":\"\"}}],\"scatter\":[{\"fillpattern\":{\"fillmode\":\"overlay\",\"size\":10,\"solidity\":0.2},\"type\":\"scatter\"}],\"parcoords\":[{\"type\":\"parcoords\",\"line\":{\"colorbar\":{\"outlinewidth\":0,\"ticks\":\"\"}}}],\"scatterpolargl\":[{\"type\":\"scatterpolargl\",\"marker\":{\"colorbar\":{\"outlinewidth\":0,\"ticks\":\"\"}}}],\"bar\":[{\"error_x\":{\"color\":\"#2a3f5f\"},\"error_y\":{\"color\":\"#2a3f5f\"},\"marker\":{\"line\":{\"color\":\"#E5ECF6\",\"width\":0.5},\"pattern\":{\"fillmode\":\"overlay\",\"size\":10,\"solidity\":0.2}},\"type\":\"bar\"}],\"scattergeo\":[{\"type\":\"scattergeo\",\"marker\":{\"colorbar\":{\"outlinewidth\":0,\"ticks\":\"\"}}}],\"scatterpolar\":[{\"type\":\"scatterpolar\",\"marker\":{\"colorbar\":{\"outlinewidth\":0,\"ticks\":\"\"}}}],\"histogram\":[{\"marker\":{\"pattern\":{\"fillmode\":\"overlay\",\"size\":10,\"solidity\":0.2}},\"type\":\"histogram\"}],\"scattergl\":[{\"type\":\"scattergl\",\"marker\":{\"colorbar\":{\"outlinewidth\":0,\"ticks\":\"\"}}}],\"scatter3d\":[{\"type\":\"scatter3d\",\"line\":{\"colorbar\":{\"outlinewidth\":0,\"ticks\":\"\"}},\"marker\":{\"colorbar\":{\"outlinewidth\":0,\"ticks\":\"\"}}}],\"scattermapbox\":[{\"type\":\"scattermapbox\",\"marker\":{\"colorbar\":{\"outlinewidth\":0,\"ticks\":\"\"}}}],\"scatterternary\":[{\"type\":\"scatterternary\",\"marker\":{\"colorbar\":{\"outlinewidth\":0,\"ticks\":\"\"}}}],\"scattercarpet\":[{\"type\":\"scattercarpet\",\"marker\":{\"colorbar\":{\"outlinewidth\":0,\"ticks\":\"\"}}}],\"carpet\":[{\"aaxis\":{\"endlinecolor\":\"#2a3f5f\",\"gridcolor\":\"white\",\"linecolor\":\"white\",\"minorgridcolor\":\"white\",\"startlinecolor\":\"#2a3f5f\"},\"baxis\":{\"endlinecolor\":\"#2a3f5f\",\"gridcolor\":\"white\",\"linecolor\":\"white\",\"minorgridcolor\":\"white\",\"startlinecolor\":\"#2a3f5f\"},\"type\":\"carpet\"}],\"table\":[{\"cells\":{\"fill\":{\"color\":\"#EBF0F8\"},\"line\":{\"color\":\"white\"}},\"header\":{\"fill\":{\"color\":\"#C8D4E3\"},\"line\":{\"color\":\"white\"}},\"type\":\"table\"}],\"barpolar\":[{\"marker\":{\"line\":{\"color\":\"#E5ECF6\",\"width\":0.5},\"pattern\":{\"fillmode\":\"overlay\",\"size\":10,\"solidity\":0.2}},\"type\":\"barpolar\"}],\"pie\":[{\"automargin\":true,\"type\":\"pie\"}]},\"layout\":{\"autotypenumbers\":\"strict\",\"colorway\":[\"#636efa\",\"#EF553B\",\"#00cc96\",\"#ab63fa\",\"#FFA15A\",\"#19d3f3\",\"#FF6692\",\"#B6E880\",\"#FF97FF\",\"#FECB52\"],\"font\":{\"color\":\"#2a3f5f\"},\"hovermode\":\"closest\",\"hoverlabel\":{\"align\":\"left\"},\"paper_bgcolor\":\"white\",\"plot_bgcolor\":\"#E5ECF6\",\"polar\":{\"bgcolor\":\"#E5ECF6\",\"angularaxis\":{\"gridcolor\":\"white\",\"linecolor\":\"white\",\"ticks\":\"\"},\"radialaxis\":{\"gridcolor\":\"white\",\"linecolor\":\"white\",\"ticks\":\"\"}},\"ternary\":{\"bgcolor\":\"#E5ECF6\",\"aaxis\":{\"gridcolor\":\"white\",\"linecolor\":\"white\",\"ticks\":\"\"},\"baxis\":{\"gridcolor\":\"white\",\"linecolor\":\"white\",\"ticks\":\"\"},\"caxis\":{\"gridcolor\":\"white\",\"linecolor\":\"white\",\"ticks\":\"\"}},\"coloraxis\":{\"colorbar\":{\"outlinewidth\":0,\"ticks\":\"\"}},\"colorscale\":{\"sequential\":[[0.0,\"#0d0887\"],[0.1111111111111111,\"#46039f\"],[0.2222222222222222,\"#7201a8\"],[0.3333333333333333,\"#9c179e\"],[0.4444444444444444,\"#bd3786\"],[0.5555555555555556,\"#d8576b\"],[0.6666666666666666,\"#ed7953\"],[0.7777777777777778,\"#fb9f3a\"],[0.8888888888888888,\"#fdca26\"],[1.0,\"#f0f921\"]],\"sequentialminus\":[[0.0,\"#0d0887\"],[0.1111111111111111,\"#46039f\"],[0.2222222222222222,\"#7201a8\"],[0.3333333333333333,\"#9c179e\"],[0.4444444444444444,\"#bd3786\"],[0.5555555555555556,\"#d8576b\"],[0.6666666666666666,\"#ed7953\"],[0.7777777777777778,\"#fb9f3a\"],[0.8888888888888888,\"#fdca26\"],[1.0,\"#f0f921\"]],\"diverging\":[[0,\"#8e0152\"],[0.1,\"#c51b7d\"],[0.2,\"#de77ae\"],[0.3,\"#f1b6da\"],[0.4,\"#fde0ef\"],[0.5,\"#f7f7f7\"],[0.6,\"#e6f5d0\"],[0.7,\"#b8e186\"],[0.8,\"#7fbc41\"],[0.9,\"#4d9221\"],[1,\"#276419\"]]},\"xaxis\":{\"gridcolor\":\"white\",\"linecolor\":\"white\",\"ticks\":\"\",\"title\":{\"standoff\":15},\"zerolinecolor\":\"white\",\"automargin\":true,\"zerolinewidth\":2},\"yaxis\":{\"gridcolor\":\"white\",\"linecolor\":\"white\",\"ticks\":\"\",\"title\":{\"standoff\":15},\"zerolinecolor\":\"white\",\"automargin\":true,\"zerolinewidth\":2},\"scene\":{\"xaxis\":{\"backgroundcolor\":\"#E5ECF6\",\"gridcolor\":\"white\",\"linecolor\":\"white\",\"showbackground\":true,\"ticks\":\"\",\"zerolinecolor\":\"white\",\"gridwidth\":2},\"yaxis\":{\"backgroundcolor\":\"#E5ECF6\",\"gridcolor\":\"white\",\"linecolor\":\"white\",\"showbackground\":true,\"ticks\":\"\",\"zerolinecolor\":\"white\",\"gridwidth\":2},\"zaxis\":{\"backgroundcolor\":\"#E5ECF6\",\"gridcolor\":\"white\",\"linecolor\":\"white\",\"showbackground\":true,\"ticks\":\"\",\"zerolinecolor\":\"white\",\"gridwidth\":2}},\"shapedefaults\":{\"line\":{\"color\":\"#2a3f5f\"}},\"annotationdefaults\":{\"arrowcolor\":\"#2a3f5f\",\"arrowhead\":0,\"arrowwidth\":1},\"geo\":{\"bgcolor\":\"white\",\"landcolor\":\"#E5ECF6\",\"subunitcolor\":\"white\",\"showland\":true,\"showlakes\":true,\"lakecolor\":\"white\"},\"title\":{\"x\":0.05},\"mapbox\":{\"style\":\"light\"}}}},                        {\"responsive\": true}                    ).then(function(){\n",
       "                            \n",
       "var gd = document.getElementById('6d21722a-5ef9-4d78-8571-3159170595cf');\n",
       "var x = new MutationObserver(function (mutations, observer) {{\n",
       "        var display = window.getComputedStyle(gd).display;\n",
       "        if (!display || display === 'none') {{\n",
       "            console.log([gd, 'removed!']);\n",
       "            Plotly.purge(gd);\n",
       "            observer.disconnect();\n",
       "        }}\n",
       "}});\n",
       "\n",
       "// Listen for the removal of the full notebook cells\n",
       "var notebookContainer = gd.closest('#notebook-container');\n",
       "if (notebookContainer) {{\n",
       "    x.observe(notebookContainer, {childList: true});\n",
       "}}\n",
       "\n",
       "// Listen for the clearing of the current output cell\n",
       "var outputEl = gd.closest('.output');\n",
       "if (outputEl) {{\n",
       "    x.observe(outputEl, {childList: true});\n",
       "}}\n",
       "\n",
       "                        })                };                });            </script>        </div>"
      ]
     },
     "metadata": {},
     "output_type": "display_data"
    }
   ],
   "source": [
    "lcs1 /= 5\n",
    "lcs2 /= 4\n",
    "\n",
    "fig = go.Figure()\n",
    "fig.add_trace(go.Scatter(x=list(range(201)), y=lcs1,\n",
    "                    mode='lines',\n",
    "                    name='TLA'))\n",
    "\n",
    "fig.add_trace(go.Scatter(x=list(range(201)), y=lcs2,\n",
    "                    mode='lines',\n",
    "                    name='TD3'))\n",
    "\n",
    "\n",
    "fig.show()"
   ]
  },
  {
   "cell_type": "code",
   "execution_count": 109,
   "id": "2032fc87-a886-47ac-b37f-f0fbecd30a15",
   "metadata": {},
   "outputs": [
    {
     "data": {
      "text/plain": [
       "(4, 201)"
      ]
     },
     "execution_count": 109,
     "metadata": {},
     "output_type": "execute_result"
    }
   ],
   "source": [
    "lcs2 = lcs2[[0,2,3,4],:]\n",
    "lcs2.shape"
   ]
  },
  {
   "cell_type": "code",
   "execution_count": 110,
   "id": "4c0810b5-7c7d-463b-ac48-7c51d4f6cf71",
   "metadata": {},
   "outputs": [
    {
     "name": "stdout",
     "output_type": "stream",
     "text": [
      "74.48441546015488\n",
      "373.184480334026\n",
      "432.3773926114675\n",
      "545.7604906644568\n",
      "504.11627812719377\n",
      "480.6004753830993\n",
      "461.2597005061948\n",
      "529.4697151452492\n",
      "629.1645297088667\n",
      "585.9951470085293\n",
      "723.9998015758326\n",
      "759.024027202404\n",
      "799.0078633422477\n",
      "710.5559402123084\n",
      "794.9849382778384\n",
      "870.015818473423\n",
      "754.8071912300593\n",
      "888.0648069366858\n",
      "1075.217227245062\n",
      "1198.5104314335806\n",
      "759.3147961599041\n",
      "1164.4133065846422\n",
      "901.1192116098678\n",
      "907.3391202746059\n",
      "982.4338473778307\n",
      "997.1981864087313\n",
      "1024.760432320569\n",
      "1018.7235396734857\n",
      "1038.9121974247068\n",
      "1069.926624296308\n",
      "1302.597770598727\n",
      "1163.9511877780262\n",
      "1041.7002588576756\n",
      "1272.7702840492502\n",
      "1077.5984813000086\n",
      "1258.4422302924415\n",
      "1156.3207112282503\n",
      "1390.116502878141\n",
      "1562.306703200823\n",
      "1194.496234195255\n",
      "1193.1719826908127\n",
      "1229.3044423626322\n",
      "1330.0078818038032\n",
      "1299.696582558785\n",
      "1035.6435101376953\n",
      "1478.636690219993\n",
      "1395.8773929446616\n",
      "1470.7388212353428\n",
      "1486.9823446112596\n",
      "1229.108031037598\n",
      "1465.0051752071686\n",
      "1181.801151280412\n",
      "1637.5904837938633\n",
      "1662.0027337967276\n",
      "1907.1125284809798\n",
      "1886.7575711203294\n",
      "1675.128977728929\n",
      "1797.9265014769935\n",
      "2464.8966656269176\n",
      "2369.7986956339873\n",
      "3510.3264522746103\n",
      "2920.7026178501374\n",
      "2374.9829684551837\n",
      "2571.103061856402\n",
      "2597.8076476814376\n",
      "2221.5355827372164\n",
      "2083.674609635042\n",
      "2722.3745876944595\n",
      "2533.5312158313936\n",
      "4740.971750287595\n",
      "2963.250146715098\n",
      "2960.1661307283866\n",
      "3769.367629697181\n",
      "10138.170956551612\n",
      "4935.819884868051\n",
      "10097.84309729618\n",
      "9610.051328482607\n",
      "6786.499751710504\n",
      "11127.067788510773\n",
      "12792.022413184735\n",
      "6240.7480101185765\n",
      "6078.299950246235\n",
      "8230.590653229197\n",
      "9615.833351982132\n",
      "14112.810887120893\n",
      "7937.175247031905\n",
      "6176.241078916275\n",
      "7699.835256507311\n",
      "8691.268284974372\n",
      "8872.34069333592\n",
      "15742.154852606947\n",
      "19423.118562519834\n",
      "8411.32155188276\n",
      "17976.020674292813\n",
      "9417.414726578365\n",
      "21588.49095614433\n",
      "28693.608411765596\n",
      "26348.383109043396\n",
      "23316.503050909283\n",
      "19429.80746158094\n",
      "19613.642916341734\n",
      "20699.3473604326\n",
      "38649.20459666557\n",
      "13031.396761910048\n",
      "53719.01410108402\n",
      "53026.29888483106\n",
      "59568.37500359402\n",
      "52324.8166428961\n",
      "53357.21378253445\n",
      "45376.08025512264\n",
      "41837.076953855096\n",
      "57291.59293481057\n",
      "57411.476803435675\n",
      "63185.49235901924\n",
      "28691.871858932616\n",
      "29961.843870590124\n",
      "17734.12652733391\n",
      "16742.93424136552\n",
      "33618.91416780638\n",
      "24300.674835026213\n",
      "49325.482996692204\n",
      "25542.812348229923\n",
      "26198.708863457843\n",
      "24716.988006567506\n",
      "58988.04128866855\n",
      "17802.33827436313\n",
      "51606.54511225371\n",
      "34980.25642041777\n",
      "36548.48008369523\n",
      "62883.80225390314\n",
      "50349.143338209906\n",
      "69994.80180921915\n",
      "28406.533032448322\n",
      "52998.89167287997\n",
      "50177.99650564068\n",
      "51191.855245012914\n",
      "38398.822585507696\n",
      "42049.49418059891\n",
      "66165.47867730865\n",
      "68686.37099684206\n",
      "54108.4213476461\n",
      "66483.60663963808\n",
      "79153.85205875155\n",
      "48250.18181002018\n",
      "71226.13287784546\n",
      "55134.78727212111\n",
      "47609.97783676977\n",
      "30248.65431850344\n",
      "38783.4834659173\n",
      "32445.51171841044\n",
      "80805.3867490693\n",
      "108213.28190838003\n",
      "85079.85464347346\n",
      "77302.20979010598\n",
      "102902.97807939921\n",
      "46216.66158149006\n",
      "80668.48109117574\n",
      "53692.0173564347\n",
      "103782.78008887418\n",
      "81245.67005596953\n",
      "87766.47278033405\n",
      "73622.80427191079\n",
      "67045.36831570236\n",
      "79470.39983266123\n",
      "41635.95679598099\n",
      "85682.02361147686\n",
      "59503.58709646496\n",
      "61956.9160332009\n",
      "38165.74513624856\n",
      "75481.22810770616\n",
      "84134.57484907385\n",
      "58897.14913207465\n",
      "64250.16331835629\n",
      "100745.08529403088\n",
      "85999.77279279182\n",
      "61539.522486609516\n",
      "58068.172226902905\n",
      "118602.83007734249\n",
      "77827.15767762827\n",
      "84449.31616514457\n",
      "72400.7799120547\n",
      "92060.25161081633\n",
      "85566.50787254349\n",
      "88509.86436401668\n",
      "64760.72975565708\n",
      "70443.00764416439\n",
      "65242.50955824193\n",
      "84308.32274895333\n",
      "114428.76081106119\n",
      "80635.02504434565\n",
      "97733.28700457473\n",
      "89644.63261688422\n",
      "93764.78268318031\n",
      "46767.19938376618\n",
      "41686.36546779942\n",
      "73479.03771555252\n",
      "76766.03791906523\n",
      "111056.0383576688\n",
      "65792.24577310782\n",
      "69569.8857958032\n",
      "53298.29136228376\n"
     ]
    }
   ],
   "source": [
    "\n",
    "lcs1_mean = np.mean(lcs2, 0)\n",
    "\n",
    "for i in lcs1_mean:\n",
    "    print(i)"
   ]
  },
  {
   "cell_type": "code",
   "execution_count": null,
   "id": "dbacf714-872d-4029-b401-79c7ad89ecf4",
   "metadata": {},
   "outputs": [],
   "source": []
  }
 ],
 "metadata": {
  "kernelspec": {
   "display_name": "Python 3 (ipykernel)",
   "language": "python",
   "name": "python3"
  },
  "language_info": {
   "codemirror_mode": {
    "name": "ipython",
    "version": 3
   },
   "file_extension": ".py",
   "mimetype": "text/x-python",
   "name": "python",
   "nbconvert_exporter": "python",
   "pygments_lexer": "ipython3",
   "version": "3.7.8rc1"
  }
 },
 "nbformat": 4,
 "nbformat_minor": 5
}
