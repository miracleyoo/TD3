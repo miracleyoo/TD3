{
 "cells": [
  {
   "cell_type": "code",
   "execution_count": 1,
   "id": "e49cb21c-4dbf-4400-ba90-6e9a0f2267ca",
   "metadata": {},
   "outputs": [
    {
     "name": "stderr",
     "output_type": "stream",
     "text": [
      "c:\\python37\\lib\\site-packages\\tqdm\\auto.py:22: TqdmWarning: IProgress not found. Please update jupyter and ipywidgets. See https://ipywidgets.readthedocs.io/en/stable/user_install.html\n",
      "  from .autonotebook import tqdm as notebook_tqdm\n"
     ]
    }
   ],
   "source": [
    "import torch\n",
    "import sys\n",
    "import os\n",
    "import random\n",
    "import numpy as np\n",
    "import plotly.graph_objects as go\n",
    "from plotly.subplots import make_subplots\n",
    "from tqdm import tqdm\n",
    "import pandas as pd\n",
    "sys.path.append('../../')\n",
    "import TD3\n",
    "import utils\n",
    "\n",
    "sys.path.append('../')\n",
    "from common import make_env, perform_action, const_disturb_five, const_jitter_force, get_frame_skip_and_timestep, const_disturb_half\n",
    "from evals import *\n",
    "\n"
   ]
  },
  {
   "cell_type": "code",
   "execution_count": 32,
   "id": "41d21f77-84aa-4b29-a5ea-4c4af2356d9f",
   "metadata": {},
   "outputs": [],
   "source": [
    "def get_results(dataframe, default_timestep, response_rate, parent_response_rate, env_name, reflex_threshold, with_parent_action, penalty):\n",
    "    for seed in tqdm(range(5)):\n",
    "        torch.manual_seed(seed)\n",
    "        np.random.seed(seed)\n",
    "\n",
    "        timestep = default_timestep if default_timestep <= response_rate else response_rate\n",
    "        frame_skip = response_rate / timestep\n",
    "        parent_steps = int(parent_response_rate/response_rate)  # Number children steps in on parent step\n",
    "        time_change_factor = (default_timestep * default_frame_skip) / (timestep * frame_skip)\n",
    "        env = make_env(env_name, seed, time_change_factor, timestep, frame_skip, delayed_env)\n",
    "        state_dim = sum(s.shape[0] for s in env.observation_space)\n",
    "        action_dim = env.action_space.shape[0]\n",
    "        parent_max_action = float(env.action_space.high[0])\n",
    "        child_max_action = 2 * parent_max_action\n",
    "        kwargs = {\n",
    "            \"state_dim\": state_dim,\n",
    "            \"action_dim\": action_dim,\n",
    "            \"max_action\": parent_max_action,\n",
    "            \"discount\": discount,\n",
    "            \"tau\": tau,\n",
    "            \"observation_space\": env.observation_space,\n",
    "            \"delayed_env\": delayed_env,\n",
    "            \"reflex\": False,\n",
    "        }\n",
    "        # Initialize policy\n",
    "            # Target policy smoothing is scaled wrt the action scale\n",
    "        kwargs[\"policy_noise\"] = policy_noise * parent_max_action\n",
    "        kwargs[\"noise_clip\"] = noise_clip * parent_max_action\n",
    "        kwargs[\"policy_freq\"] = policy_freq\n",
    "        parent_policy = TD3.TD3(**kwargs)\n",
    "        if with_parent_action:\n",
    "            kwargs[\"state_dim\"] = state_dim + action_dim\n",
    "        policy = TD3.TD3(**kwargs)\n",
    "        arguments = [policy_name, env_name, seed, parent_response_rate, delayed_env, 'best']\n",
    "\n",
    "        parent_file_name = '_'.join([str(x) for x in arguments])\n",
    "        parent_policy.load(f\"../hybrid/models_paper/{parent_file_name}\")\n",
    "        augment_type = \"reflex_train_normal\"\n",
    "        if penalty:\n",
    "            augment_type += '_penalty'\n",
    "        if with_parent_action:\n",
    "            augment_type += '_with_parent_action'\n",
    "\n",
    "        arguments = [augment_type, policy_name, env_name, seed, response_rate, parent_response_rate, 'best']\n",
    "        file_name = '_'.join([str(x) for x in arguments])\n",
    "        policy.load(f\"../hybrid/models_paper/{file_name}\")\n",
    "        eval_env = make_env(env_name, seed, time_change_factor, timestep, frame_skip, delayed_env)\n",
    "        rewards = 0\n",
    "        actions = 0\n",
    "        for _ in range(10):\n",
    "            eval_state, eval_done = eval_env.reset(), False\n",
    "            eval_parent_action = eval_env.previous_action\n",
    "            eval_episode_timesteps = 0\n",
    "            eval_next_parent_action = parent_policy.select_action(eval_state)\n",
    "            eval_child_state = np.concatenate([eval_state, eval_parent_action], 0) if with_parent_action else eval_state\n",
    "            while not eval_done:\n",
    "                \n",
    "                eval_child_action = policy.select_action(eval_child_state)\n",
    "                eval_action = (eval_parent_action + eval_child_action).clip(-parent_max_action, parent_max_action)\n",
    "                if np.all(abs(eval_action - eval_parent_action) <= reflex_threshold):\n",
    "                    eval_action = eval_parent_action\n",
    "                    eval_child_action = 0\n",
    "                    if (eval_episode_timesteps + 1) % parent_steps == 0:\n",
    "                        actions += 1\n",
    "                else:\n",
    "                    actions += 1\n",
    "\n",
    "                eval_next_state, eval_reward, eval_done, _ = eval_env.step(eval_action)\n",
    "                eval_state = eval_next_state\n",
    "                eval_episode_timesteps += 1\n",
    "                \n",
    "                if eval_episode_timesteps % parent_steps == 0:\n",
    "                    eval_next_parent_action = parent_policy.select_action(eval_state)\n",
    "                elif (eval_episode_timesteps + 1) % parent_steps == 0:\n",
    "                    eval_parent_action = eval_next_parent_action\n",
    "                \n",
    "                eval_child_state = np.concatenate([eval_state, eval_parent_action], 0) if with_parent_action else eval_state\n",
    "                rewards += eval_reward\n",
    "        avg_reward = rewards / 10\n",
    "        avg_actions = actions/10\n",
    "        dataframe.loc[len(dataframe)] = [env_name, avg_reward, seed, avg_actions, reflex_threshold]"
   ]
  },
  {
   "cell_type": "code",
   "execution_count": 38,
   "id": "166ec958-a1a0-476e-b812-e21ce656df31",
   "metadata": {},
   "outputs": [
    {
     "name": "stderr",
     "output_type": "stream",
     "text": [
      "100%|████████████████████████████████████████████████████████████████████████████████████████████████████████████████████████████████████████████████████████████████████████████████| 5/5 [00:25<00:00,  5.10s/it]\n"
     ]
    }
   ],
   "source": [
    "default_timesteps = {'InvertedPendulum-v2':0.02, 'Hopper-v2': 0.002, 'Walker2d-v2': 0.002, 'InvertedDoublePendulum-v2': 0.01, 'Ant-v2': 0.01, 'HalfCheetah-v2': 0.01, 'Reacher-v2': 0.01}\n",
    "default_frame_skips = {'InvertedPendulum-v2':2, 'Hopper-v2': 4, 'Walker2d-v2': 4, 'InvertedDoublePendulum-v2': 5, 'Ant-v2':5, 'HalfCheetah-v2':5, 'Reacher-v2': 2}\n",
    "dataframe = pd.DataFrame(columns=[\"env\", \"result\", \"seed\", \"actions\", \"threshold\"])\n",
    "\n",
    "delayed_env = True\n",
    "policy_name = 'TD3'\n",
    "discount = 0.99\n",
    "tau=0.005\n",
    "policy_freq=2\n",
    "policy_noise=2\n",
    "noise_clip=0.5\n",
    "with_parent_action = False\n",
    "# # inverted pendulum\n",
    "# env_name = 'InvertedPendulum-v2'\n",
    "# response_rate = 0.04\n",
    "# parent_response_rate = 0.08\n",
    "# default_timestep = default_timesteps[env_name]\n",
    "# default_frame_skip = default_frame_skips[env_name]\n",
    "# reflex_threshold = 4*0.3\n",
    "# for t in range(21):\n",
    "#     reflex_threshold = t*0.3\n",
    "#     print(reflex_threshold)\n",
    "# get_results(dataframe, default_timestep, response_rate, parent_response_rate, env_name, reflex_threshold, with_parent_action)\n",
    "\n",
    "# inverted double pendulum\n",
    "env_name = 'InvertedDoublePendulum-v2'\n",
    "response_rate = 0.05\n",
    "parent_response_rate = 0.1\n",
    "default_timestep = default_timesteps[env_name]\n",
    "default_frame_skip = default_frame_skips[env_name]\n",
    "reflex_threshold = 3*0.1\n",
    "# for t in range(11):\n",
    "#     reflex_threshold = t*0.1\n",
    "#     print(reflex_threshold)\n",
    "    \n",
    "get_results(dataframe, default_timestep, response_rate, parent_response_rate, env_name, reflex_threshold, True, True)\n",
    "\n",
    "\n",
    "# # Hopper\n",
    "# env_name = 'Hopper-v2'\n",
    "# response_rate = 0.008\n",
    "# parent_response_rate = 0.016\n",
    "# default_timestep = default_timesteps[env_name]\n",
    "# default_frame_skip = default_frame_skips[env_name]\n",
    "# reflex_threshold = 4*0.1\n",
    "# # for t in range(21):\n",
    "#     reflex_threshold = t*0.1\n",
    "#     print(reflex_threshold)\n",
    "    \n",
    "# get_results(dataframe, default_timestep, response_rate, parent_response_rate, env_name, reflex_threshold, with_parent_action)\n",
    "\n",
    "# # Walker2d\n",
    "# env_name = 'Walker2d-v2'\n",
    "# response_rate = 0.008\n",
    "# parent_response_rate = 0.016\n",
    "# default_timestep = default_timesteps[env_name]\n",
    "# default_frame_skip = default_frame_skips[env_name]\n",
    "# reflex_threshold = 4*0.1\n",
    "# for t in range(21):\n",
    "#     reflex_threshold = t*0.1\n",
    "#     print(reflex_threshold)\n",
    "    \n",
    "# get_results(dataframe, default_timestep, response_rate, parent_response_rate, env_name, reflex_threshold, with_parent_action)\n",
    "\n",
    "\n",
    "# # # Ant\n",
    "# env_name = 'Ant-v2'\n",
    "# response_rate = 0.05\n",
    "# parent_response_rate = 0.1\n",
    "# default_timestep = default_timesteps[env_name]\n",
    "# default_frame_skip = default_frame_skips[env_name]\n",
    "# reflex_threshold = 4*0.1\n",
    "# for t in range(11):\n",
    "#     reflex_threshold = t*0.1\n",
    "#     print(reflex_threshold)\n",
    "    \n",
    "#     get_results(dataframe, default_timestep, response_rate, parent_response_rate, env_name, reflex_threshold, True, True)\n",
    "\n",
    "\n",
    "# # HalfCheetah\n",
    "# env_name = 'HalfCheetah-v2'\n",
    "# response_rate = 0.05\n",
    "# parent_response_rate = 0.1\n",
    "# default_timestep = default_timesteps[env_name]\n",
    "# default_frame_skip = default_frame_skips[env_name]\n",
    "# reflex_threshold = 4*0.1\n",
    "# for t in range(11):\n",
    "#     reflex_threshold = t*0.1\n",
    "#     print(reflex_threshold)\n",
    "    \n",
    "#     get_results(dataframe, default_timestep, response_rate, parent_response_rate, env_name, reflex_threshold, True, True)"
   ]
  },
  {
   "cell_type": "code",
   "execution_count": 39,
   "id": "b6be5da8",
   "metadata": {},
   "outputs": [
    {
     "data": {
      "text/html": [
       "<div>\n",
       "<style scoped>\n",
       "    .dataframe tbody tr th:only-of-type {\n",
       "        vertical-align: middle;\n",
       "    }\n",
       "\n",
       "    .dataframe tbody tr th {\n",
       "        vertical-align: top;\n",
       "    }\n",
       "\n",
       "    .dataframe thead th {\n",
       "        text-align: right;\n",
       "    }\n",
       "</style>\n",
       "<table border=\"1\" class=\"dataframe\">\n",
       "  <thead>\n",
       "    <tr style=\"text-align: right;\">\n",
       "      <th></th>\n",
       "      <th>result</th>\n",
       "      <th>actions</th>\n",
       "      <th>threshold</th>\n",
       "      <th>return_per_action</th>\n",
       "      <th>std</th>\n",
       "    </tr>\n",
       "    <tr>\n",
       "      <th>env</th>\n",
       "      <th></th>\n",
       "      <th></th>\n",
       "      <th></th>\n",
       "      <th></th>\n",
       "      <th></th>\n",
       "    </tr>\n",
       "  </thead>\n",
       "  <tbody>\n",
       "    <tr>\n",
       "      <th>InvertedDoublePendulum-v2</th>\n",
       "      <td>9178.395503</td>\n",
       "      <td>494.02</td>\n",
       "      <td>0.3</td>\n",
       "      <td>18.579665</td>\n",
       "      <td>404.387385</td>\n",
       "    </tr>\n",
       "  </tbody>\n",
       "</table>\n",
       "</div>"
      ],
      "text/plain": [
       "                                result  actions  threshold  return_per_action  \\\n",
       "env                                                                             \n",
       "InvertedDoublePendulum-v2  9178.395503   494.02        0.3          18.579665   \n",
       "\n",
       "                                  std  \n",
       "env                                    \n",
       "InvertedDoublePendulum-v2  404.387385  "
      ]
     },
     "execution_count": 39,
     "metadata": {},
     "output_type": "execute_result"
    }
   ],
   "source": [
    "dataframe['return_per_action'] = (dataframe['result'] / dataframe['actions'])\n",
    "\n",
    "df = dataframe.groupby(['env']).mean()\n",
    "df_std = dataframe.groupby(['env']).std()\n",
    "df['std'] = df_std['result']\n",
    "df"
   ]
  },
  {
   "cell_type": "code",
   "execution_count": 35,
   "id": "e2bfff8b-68f2-47fa-80b0-ff4355e08405",
   "metadata": {},
   "outputs": [
    {
     "data": {
      "application/vnd.plotly.v1+json": {
       "config": {
        "plotlyServerURL": "https://plot.ly"
       },
       "data": [
        {
         "error_y": {
          "array": [
           407.4465742650098,
           406.3794610622835,
           404.06047207710304,
           404.3873853221576,
           804.5614220003813,
           821.5884455115754,
           811.382318886076,
           811.3760479117576,
           758.7919125739171,
           758.7969846464533,
           758.8482695441853
          ],
          "type": "data",
          "visible": true
         },
         "mode": "lines+markers",
         "name": "Reward",
         "type": "scatter",
         "x": [
          0,
          1,
          2,
          3,
          4,
          5,
          6,
          7,
          8,
          9,
          10,
          11,
          12,
          13,
          14,
          15,
          16,
          17,
          18,
          19,
          20
         ],
         "xaxis": "x",
         "y": [
          9177.473862396419,
          9177.739949970422,
          9178.632947841612,
          9178.395502880594,
          8818.662251918331,
          8807.43047379892,
          8813.816806579542,
          8813.809341495233,
          8632.014283400606,
          8632.005781727607,
          8631.83414663542
         ],
         "yaxis": "y"
        },
        {
         "mode": "lines",
         "name": "number of actions picked",
         "type": "scatter",
         "x": [
          0,
          1,
          2,
          3,
          4,
          5,
          6,
          7,
          8,
          9,
          10,
          11,
          12,
          13,
          14,
          15,
          16,
          17,
          18,
          19,
          20
         ],
         "xaxis": "x",
         "y": [
          980.54,
          542.1,
          496.58000000000004,
          494.02,
          473.43999999999994,
          471.98,
          471,
          470.96000000000004,
          461.2,
          461.2,
          461.12
         ],
         "yaxis": "y2"
        }
       ],
       "layout": {
        "template": {
         "data": {
          "bar": [
           {
            "error_x": {
             "color": "#2a3f5f"
            },
            "error_y": {
             "color": "#2a3f5f"
            },
            "marker": {
             "line": {
              "color": "#E5ECF6",
              "width": 0.5
             },
             "pattern": {
              "fillmode": "overlay",
              "size": 10,
              "solidity": 0.2
             }
            },
            "type": "bar"
           }
          ],
          "barpolar": [
           {
            "marker": {
             "line": {
              "color": "#E5ECF6",
              "width": 0.5
             },
             "pattern": {
              "fillmode": "overlay",
              "size": 10,
              "solidity": 0.2
             }
            },
            "type": "barpolar"
           }
          ],
          "carpet": [
           {
            "aaxis": {
             "endlinecolor": "#2a3f5f",
             "gridcolor": "white",
             "linecolor": "white",
             "minorgridcolor": "white",
             "startlinecolor": "#2a3f5f"
            },
            "baxis": {
             "endlinecolor": "#2a3f5f",
             "gridcolor": "white",
             "linecolor": "white",
             "minorgridcolor": "white",
             "startlinecolor": "#2a3f5f"
            },
            "type": "carpet"
           }
          ],
          "choropleth": [
           {
            "colorbar": {
             "outlinewidth": 0,
             "ticks": ""
            },
            "type": "choropleth"
           }
          ],
          "contour": [
           {
            "colorbar": {
             "outlinewidth": 0,
             "ticks": ""
            },
            "colorscale": [
             [
              0,
              "#0d0887"
             ],
             [
              0.1111111111111111,
              "#46039f"
             ],
             [
              0.2222222222222222,
              "#7201a8"
             ],
             [
              0.3333333333333333,
              "#9c179e"
             ],
             [
              0.4444444444444444,
              "#bd3786"
             ],
             [
              0.5555555555555556,
              "#d8576b"
             ],
             [
              0.6666666666666666,
              "#ed7953"
             ],
             [
              0.7777777777777778,
              "#fb9f3a"
             ],
             [
              0.8888888888888888,
              "#fdca26"
             ],
             [
              1,
              "#f0f921"
             ]
            ],
            "type": "contour"
           }
          ],
          "contourcarpet": [
           {
            "colorbar": {
             "outlinewidth": 0,
             "ticks": ""
            },
            "type": "contourcarpet"
           }
          ],
          "heatmap": [
           {
            "colorbar": {
             "outlinewidth": 0,
             "ticks": ""
            },
            "colorscale": [
             [
              0,
              "#0d0887"
             ],
             [
              0.1111111111111111,
              "#46039f"
             ],
             [
              0.2222222222222222,
              "#7201a8"
             ],
             [
              0.3333333333333333,
              "#9c179e"
             ],
             [
              0.4444444444444444,
              "#bd3786"
             ],
             [
              0.5555555555555556,
              "#d8576b"
             ],
             [
              0.6666666666666666,
              "#ed7953"
             ],
             [
              0.7777777777777778,
              "#fb9f3a"
             ],
             [
              0.8888888888888888,
              "#fdca26"
             ],
             [
              1,
              "#f0f921"
             ]
            ],
            "type": "heatmap"
           }
          ],
          "heatmapgl": [
           {
            "colorbar": {
             "outlinewidth": 0,
             "ticks": ""
            },
            "colorscale": [
             [
              0,
              "#0d0887"
             ],
             [
              0.1111111111111111,
              "#46039f"
             ],
             [
              0.2222222222222222,
              "#7201a8"
             ],
             [
              0.3333333333333333,
              "#9c179e"
             ],
             [
              0.4444444444444444,
              "#bd3786"
             ],
             [
              0.5555555555555556,
              "#d8576b"
             ],
             [
              0.6666666666666666,
              "#ed7953"
             ],
             [
              0.7777777777777778,
              "#fb9f3a"
             ],
             [
              0.8888888888888888,
              "#fdca26"
             ],
             [
              1,
              "#f0f921"
             ]
            ],
            "type": "heatmapgl"
           }
          ],
          "histogram": [
           {
            "marker": {
             "pattern": {
              "fillmode": "overlay",
              "size": 10,
              "solidity": 0.2
             }
            },
            "type": "histogram"
           }
          ],
          "histogram2d": [
           {
            "colorbar": {
             "outlinewidth": 0,
             "ticks": ""
            },
            "colorscale": [
             [
              0,
              "#0d0887"
             ],
             [
              0.1111111111111111,
              "#46039f"
             ],
             [
              0.2222222222222222,
              "#7201a8"
             ],
             [
              0.3333333333333333,
              "#9c179e"
             ],
             [
              0.4444444444444444,
              "#bd3786"
             ],
             [
              0.5555555555555556,
              "#d8576b"
             ],
             [
              0.6666666666666666,
              "#ed7953"
             ],
             [
              0.7777777777777778,
              "#fb9f3a"
             ],
             [
              0.8888888888888888,
              "#fdca26"
             ],
             [
              1,
              "#f0f921"
             ]
            ],
            "type": "histogram2d"
           }
          ],
          "histogram2dcontour": [
           {
            "colorbar": {
             "outlinewidth": 0,
             "ticks": ""
            },
            "colorscale": [
             [
              0,
              "#0d0887"
             ],
             [
              0.1111111111111111,
              "#46039f"
             ],
             [
              0.2222222222222222,
              "#7201a8"
             ],
             [
              0.3333333333333333,
              "#9c179e"
             ],
             [
              0.4444444444444444,
              "#bd3786"
             ],
             [
              0.5555555555555556,
              "#d8576b"
             ],
             [
              0.6666666666666666,
              "#ed7953"
             ],
             [
              0.7777777777777778,
              "#fb9f3a"
             ],
             [
              0.8888888888888888,
              "#fdca26"
             ],
             [
              1,
              "#f0f921"
             ]
            ],
            "type": "histogram2dcontour"
           }
          ],
          "mesh3d": [
           {
            "colorbar": {
             "outlinewidth": 0,
             "ticks": ""
            },
            "type": "mesh3d"
           }
          ],
          "parcoords": [
           {
            "line": {
             "colorbar": {
              "outlinewidth": 0,
              "ticks": ""
             }
            },
            "type": "parcoords"
           }
          ],
          "pie": [
           {
            "automargin": true,
            "type": "pie"
           }
          ],
          "scatter": [
           {
            "fillpattern": {
             "fillmode": "overlay",
             "size": 10,
             "solidity": 0.2
            },
            "type": "scatter"
           }
          ],
          "scatter3d": [
           {
            "line": {
             "colorbar": {
              "outlinewidth": 0,
              "ticks": ""
             }
            },
            "marker": {
             "colorbar": {
              "outlinewidth": 0,
              "ticks": ""
             }
            },
            "type": "scatter3d"
           }
          ],
          "scattercarpet": [
           {
            "marker": {
             "colorbar": {
              "outlinewidth": 0,
              "ticks": ""
             }
            },
            "type": "scattercarpet"
           }
          ],
          "scattergeo": [
           {
            "marker": {
             "colorbar": {
              "outlinewidth": 0,
              "ticks": ""
             }
            },
            "type": "scattergeo"
           }
          ],
          "scattergl": [
           {
            "marker": {
             "colorbar": {
              "outlinewidth": 0,
              "ticks": ""
             }
            },
            "type": "scattergl"
           }
          ],
          "scattermapbox": [
           {
            "marker": {
             "colorbar": {
              "outlinewidth": 0,
              "ticks": ""
             }
            },
            "type": "scattermapbox"
           }
          ],
          "scatterpolar": [
           {
            "marker": {
             "colorbar": {
              "outlinewidth": 0,
              "ticks": ""
             }
            },
            "type": "scatterpolar"
           }
          ],
          "scatterpolargl": [
           {
            "marker": {
             "colorbar": {
              "outlinewidth": 0,
              "ticks": ""
             }
            },
            "type": "scatterpolargl"
           }
          ],
          "scatterternary": [
           {
            "marker": {
             "colorbar": {
              "outlinewidth": 0,
              "ticks": ""
             }
            },
            "type": "scatterternary"
           }
          ],
          "surface": [
           {
            "colorbar": {
             "outlinewidth": 0,
             "ticks": ""
            },
            "colorscale": [
             [
              0,
              "#0d0887"
             ],
             [
              0.1111111111111111,
              "#46039f"
             ],
             [
              0.2222222222222222,
              "#7201a8"
             ],
             [
              0.3333333333333333,
              "#9c179e"
             ],
             [
              0.4444444444444444,
              "#bd3786"
             ],
             [
              0.5555555555555556,
              "#d8576b"
             ],
             [
              0.6666666666666666,
              "#ed7953"
             ],
             [
              0.7777777777777778,
              "#fb9f3a"
             ],
             [
              0.8888888888888888,
              "#fdca26"
             ],
             [
              1,
              "#f0f921"
             ]
            ],
            "type": "surface"
           }
          ],
          "table": [
           {
            "cells": {
             "fill": {
              "color": "#EBF0F8"
             },
             "line": {
              "color": "white"
             }
            },
            "header": {
             "fill": {
              "color": "#C8D4E3"
             },
             "line": {
              "color": "white"
             }
            },
            "type": "table"
           }
          ]
         },
         "layout": {
          "annotationdefaults": {
           "arrowcolor": "#2a3f5f",
           "arrowhead": 0,
           "arrowwidth": 1
          },
          "autotypenumbers": "strict",
          "coloraxis": {
           "colorbar": {
            "outlinewidth": 0,
            "ticks": ""
           }
          },
          "colorscale": {
           "diverging": [
            [
             0,
             "#8e0152"
            ],
            [
             0.1,
             "#c51b7d"
            ],
            [
             0.2,
             "#de77ae"
            ],
            [
             0.3,
             "#f1b6da"
            ],
            [
             0.4,
             "#fde0ef"
            ],
            [
             0.5,
             "#f7f7f7"
            ],
            [
             0.6,
             "#e6f5d0"
            ],
            [
             0.7,
             "#b8e186"
            ],
            [
             0.8,
             "#7fbc41"
            ],
            [
             0.9,
             "#4d9221"
            ],
            [
             1,
             "#276419"
            ]
           ],
           "sequential": [
            [
             0,
             "#0d0887"
            ],
            [
             0.1111111111111111,
             "#46039f"
            ],
            [
             0.2222222222222222,
             "#7201a8"
            ],
            [
             0.3333333333333333,
             "#9c179e"
            ],
            [
             0.4444444444444444,
             "#bd3786"
            ],
            [
             0.5555555555555556,
             "#d8576b"
            ],
            [
             0.6666666666666666,
             "#ed7953"
            ],
            [
             0.7777777777777778,
             "#fb9f3a"
            ],
            [
             0.8888888888888888,
             "#fdca26"
            ],
            [
             1,
             "#f0f921"
            ]
           ],
           "sequentialminus": [
            [
             0,
             "#0d0887"
            ],
            [
             0.1111111111111111,
             "#46039f"
            ],
            [
             0.2222222222222222,
             "#7201a8"
            ],
            [
             0.3333333333333333,
             "#9c179e"
            ],
            [
             0.4444444444444444,
             "#bd3786"
            ],
            [
             0.5555555555555556,
             "#d8576b"
            ],
            [
             0.6666666666666666,
             "#ed7953"
            ],
            [
             0.7777777777777778,
             "#fb9f3a"
            ],
            [
             0.8888888888888888,
             "#fdca26"
            ],
            [
             1,
             "#f0f921"
            ]
           ]
          },
          "colorway": [
           "#636efa",
           "#EF553B",
           "#00cc96",
           "#ab63fa",
           "#FFA15A",
           "#19d3f3",
           "#FF6692",
           "#B6E880",
           "#FF97FF",
           "#FECB52"
          ],
          "font": {
           "color": "#2a3f5f"
          },
          "geo": {
           "bgcolor": "white",
           "lakecolor": "white",
           "landcolor": "#E5ECF6",
           "showlakes": true,
           "showland": true,
           "subunitcolor": "white"
          },
          "hoverlabel": {
           "align": "left"
          },
          "hovermode": "closest",
          "mapbox": {
           "style": "light"
          },
          "paper_bgcolor": "white",
          "plot_bgcolor": "#E5ECF6",
          "polar": {
           "angularaxis": {
            "gridcolor": "white",
            "linecolor": "white",
            "ticks": ""
           },
           "bgcolor": "#E5ECF6",
           "radialaxis": {
            "gridcolor": "white",
            "linecolor": "white",
            "ticks": ""
           }
          },
          "scene": {
           "xaxis": {
            "backgroundcolor": "#E5ECF6",
            "gridcolor": "white",
            "gridwidth": 2,
            "linecolor": "white",
            "showbackground": true,
            "ticks": "",
            "zerolinecolor": "white"
           },
           "yaxis": {
            "backgroundcolor": "#E5ECF6",
            "gridcolor": "white",
            "gridwidth": 2,
            "linecolor": "white",
            "showbackground": true,
            "ticks": "",
            "zerolinecolor": "white"
           },
           "zaxis": {
            "backgroundcolor": "#E5ECF6",
            "gridcolor": "white",
            "gridwidth": 2,
            "linecolor": "white",
            "showbackground": true,
            "ticks": "",
            "zerolinecolor": "white"
           }
          },
          "shapedefaults": {
           "line": {
            "color": "#2a3f5f"
           }
          },
          "ternary": {
           "aaxis": {
            "gridcolor": "white",
            "linecolor": "white",
            "ticks": ""
           },
           "baxis": {
            "gridcolor": "white",
            "linecolor": "white",
            "ticks": ""
           },
           "bgcolor": "#E5ECF6",
           "caxis": {
            "gridcolor": "white",
            "linecolor": "white",
            "ticks": ""
           }
          },
          "title": {
           "x": 0.05
          },
          "xaxis": {
           "automargin": true,
           "gridcolor": "white",
           "linecolor": "white",
           "ticks": "",
           "title": {
            "standoff": 15
           },
           "zerolinecolor": "white",
           "zerolinewidth": 2
          },
          "yaxis": {
           "automargin": true,
           "gridcolor": "white",
           "linecolor": "white",
           "ticks": "",
           "title": {
            "standoff": 15
           },
           "zerolinecolor": "white",
           "zerolinewidth": 2
          }
         }
        },
        "title": {
         "text": "Walker2d-v2 (0.008, 0.016)"
        },
        "xaxis": {
         "anchor": "y",
         "domain": [
          0,
          0.94
         ]
        },
        "yaxis": {
         "anchor": "x",
         "domain": [
          0,
          1
         ]
        },
        "yaxis2": {
         "anchor": "x",
         "overlaying": "y",
         "side": "right"
        }
       }
      },
      "text/html": [
       "<div>                            <div id=\"ed5980a2-3f9d-4204-b3f2-ec7ba8f60914\" class=\"plotly-graph-div\" style=\"height:525px; width:100%;\"></div>            <script type=\"text/javascript\">                require([\"plotly\"], function(Plotly) {                    window.PLOTLYENV=window.PLOTLYENV || {};                                    if (document.getElementById(\"ed5980a2-3f9d-4204-b3f2-ec7ba8f60914\")) {                    Plotly.newPlot(                        \"ed5980a2-3f9d-4204-b3f2-ec7ba8f60914\",                        [{\"error_y\":{\"array\":[407.4465742650098,406.3794610622835,404.06047207710304,404.3873853221576,804.5614220003813,821.5884455115754,811.382318886076,811.3760479117576,758.7919125739171,758.7969846464533,758.8482695441853],\"type\":\"data\",\"visible\":true},\"mode\":\"lines+markers\",\"name\":\"Reward\",\"x\":[0,1,2,3,4,5,6,7,8,9,10,11,12,13,14,15,16,17,18,19,20],\"y\":[9177.473862396419,9177.739949970422,9178.632947841612,9178.395502880594,8818.662251918331,8807.43047379892,8813.816806579542,8813.809341495233,8632.014283400606,8632.005781727607,8631.83414663542],\"type\":\"scatter\",\"xaxis\":\"x\",\"yaxis\":\"y\"},{\"mode\":\"lines\",\"name\":\"number of actions picked\",\"x\":[0,1,2,3,4,5,6,7,8,9,10,11,12,13,14,15,16,17,18,19,20],\"y\":[980.54,542.1,496.58000000000004,494.02,473.43999999999994,471.98,471.0,470.96000000000004,461.2,461.2,461.12],\"type\":\"scatter\",\"xaxis\":\"x\",\"yaxis\":\"y2\"}],                        {\"template\":{\"data\":{\"histogram2dcontour\":[{\"type\":\"histogram2dcontour\",\"colorbar\":{\"outlinewidth\":0,\"ticks\":\"\"},\"colorscale\":[[0.0,\"#0d0887\"],[0.1111111111111111,\"#46039f\"],[0.2222222222222222,\"#7201a8\"],[0.3333333333333333,\"#9c179e\"],[0.4444444444444444,\"#bd3786\"],[0.5555555555555556,\"#d8576b\"],[0.6666666666666666,\"#ed7953\"],[0.7777777777777778,\"#fb9f3a\"],[0.8888888888888888,\"#fdca26\"],[1.0,\"#f0f921\"]]}],\"choropleth\":[{\"type\":\"choropleth\",\"colorbar\":{\"outlinewidth\":0,\"ticks\":\"\"}}],\"histogram2d\":[{\"type\":\"histogram2d\",\"colorbar\":{\"outlinewidth\":0,\"ticks\":\"\"},\"colorscale\":[[0.0,\"#0d0887\"],[0.1111111111111111,\"#46039f\"],[0.2222222222222222,\"#7201a8\"],[0.3333333333333333,\"#9c179e\"],[0.4444444444444444,\"#bd3786\"],[0.5555555555555556,\"#d8576b\"],[0.6666666666666666,\"#ed7953\"],[0.7777777777777778,\"#fb9f3a\"],[0.8888888888888888,\"#fdca26\"],[1.0,\"#f0f921\"]]}],\"heatmap\":[{\"type\":\"heatmap\",\"colorbar\":{\"outlinewidth\":0,\"ticks\":\"\"},\"colorscale\":[[0.0,\"#0d0887\"],[0.1111111111111111,\"#46039f\"],[0.2222222222222222,\"#7201a8\"],[0.3333333333333333,\"#9c179e\"],[0.4444444444444444,\"#bd3786\"],[0.5555555555555556,\"#d8576b\"],[0.6666666666666666,\"#ed7953\"],[0.7777777777777778,\"#fb9f3a\"],[0.8888888888888888,\"#fdca26\"],[1.0,\"#f0f921\"]]}],\"heatmapgl\":[{\"type\":\"heatmapgl\",\"colorbar\":{\"outlinewidth\":0,\"ticks\":\"\"},\"colorscale\":[[0.0,\"#0d0887\"],[0.1111111111111111,\"#46039f\"],[0.2222222222222222,\"#7201a8\"],[0.3333333333333333,\"#9c179e\"],[0.4444444444444444,\"#bd3786\"],[0.5555555555555556,\"#d8576b\"],[0.6666666666666666,\"#ed7953\"],[0.7777777777777778,\"#fb9f3a\"],[0.8888888888888888,\"#fdca26\"],[1.0,\"#f0f921\"]]}],\"contourcarpet\":[{\"type\":\"contourcarpet\",\"colorbar\":{\"outlinewidth\":0,\"ticks\":\"\"}}],\"contour\":[{\"type\":\"contour\",\"colorbar\":{\"outlinewidth\":0,\"ticks\":\"\"},\"colorscale\":[[0.0,\"#0d0887\"],[0.1111111111111111,\"#46039f\"],[0.2222222222222222,\"#7201a8\"],[0.3333333333333333,\"#9c179e\"],[0.4444444444444444,\"#bd3786\"],[0.5555555555555556,\"#d8576b\"],[0.6666666666666666,\"#ed7953\"],[0.7777777777777778,\"#fb9f3a\"],[0.8888888888888888,\"#fdca26\"],[1.0,\"#f0f921\"]]}],\"surface\":[{\"type\":\"surface\",\"colorbar\":{\"outlinewidth\":0,\"ticks\":\"\"},\"colorscale\":[[0.0,\"#0d0887\"],[0.1111111111111111,\"#46039f\"],[0.2222222222222222,\"#7201a8\"],[0.3333333333333333,\"#9c179e\"],[0.4444444444444444,\"#bd3786\"],[0.5555555555555556,\"#d8576b\"],[0.6666666666666666,\"#ed7953\"],[0.7777777777777778,\"#fb9f3a\"],[0.8888888888888888,\"#fdca26\"],[1.0,\"#f0f921\"]]}],\"mesh3d\":[{\"type\":\"mesh3d\",\"colorbar\":{\"outlinewidth\":0,\"ticks\":\"\"}}],\"scatter\":[{\"fillpattern\":{\"fillmode\":\"overlay\",\"size\":10,\"solidity\":0.2},\"type\":\"scatter\"}],\"parcoords\":[{\"type\":\"parcoords\",\"line\":{\"colorbar\":{\"outlinewidth\":0,\"ticks\":\"\"}}}],\"scatterpolargl\":[{\"type\":\"scatterpolargl\",\"marker\":{\"colorbar\":{\"outlinewidth\":0,\"ticks\":\"\"}}}],\"bar\":[{\"error_x\":{\"color\":\"#2a3f5f\"},\"error_y\":{\"color\":\"#2a3f5f\"},\"marker\":{\"line\":{\"color\":\"#E5ECF6\",\"width\":0.5},\"pattern\":{\"fillmode\":\"overlay\",\"size\":10,\"solidity\":0.2}},\"type\":\"bar\"}],\"scattergeo\":[{\"type\":\"scattergeo\",\"marker\":{\"colorbar\":{\"outlinewidth\":0,\"ticks\":\"\"}}}],\"scatterpolar\":[{\"type\":\"scatterpolar\",\"marker\":{\"colorbar\":{\"outlinewidth\":0,\"ticks\":\"\"}}}],\"histogram\":[{\"marker\":{\"pattern\":{\"fillmode\":\"overlay\",\"size\":10,\"solidity\":0.2}},\"type\":\"histogram\"}],\"scattergl\":[{\"type\":\"scattergl\",\"marker\":{\"colorbar\":{\"outlinewidth\":0,\"ticks\":\"\"}}}],\"scatter3d\":[{\"type\":\"scatter3d\",\"line\":{\"colorbar\":{\"outlinewidth\":0,\"ticks\":\"\"}},\"marker\":{\"colorbar\":{\"outlinewidth\":0,\"ticks\":\"\"}}}],\"scattermapbox\":[{\"type\":\"scattermapbox\",\"marker\":{\"colorbar\":{\"outlinewidth\":0,\"ticks\":\"\"}}}],\"scatterternary\":[{\"type\":\"scatterternary\",\"marker\":{\"colorbar\":{\"outlinewidth\":0,\"ticks\":\"\"}}}],\"scattercarpet\":[{\"type\":\"scattercarpet\",\"marker\":{\"colorbar\":{\"outlinewidth\":0,\"ticks\":\"\"}}}],\"carpet\":[{\"aaxis\":{\"endlinecolor\":\"#2a3f5f\",\"gridcolor\":\"white\",\"linecolor\":\"white\",\"minorgridcolor\":\"white\",\"startlinecolor\":\"#2a3f5f\"},\"baxis\":{\"endlinecolor\":\"#2a3f5f\",\"gridcolor\":\"white\",\"linecolor\":\"white\",\"minorgridcolor\":\"white\",\"startlinecolor\":\"#2a3f5f\"},\"type\":\"carpet\"}],\"table\":[{\"cells\":{\"fill\":{\"color\":\"#EBF0F8\"},\"line\":{\"color\":\"white\"}},\"header\":{\"fill\":{\"color\":\"#C8D4E3\"},\"line\":{\"color\":\"white\"}},\"type\":\"table\"}],\"barpolar\":[{\"marker\":{\"line\":{\"color\":\"#E5ECF6\",\"width\":0.5},\"pattern\":{\"fillmode\":\"overlay\",\"size\":10,\"solidity\":0.2}},\"type\":\"barpolar\"}],\"pie\":[{\"automargin\":true,\"type\":\"pie\"}]},\"layout\":{\"autotypenumbers\":\"strict\",\"colorway\":[\"#636efa\",\"#EF553B\",\"#00cc96\",\"#ab63fa\",\"#FFA15A\",\"#19d3f3\",\"#FF6692\",\"#B6E880\",\"#FF97FF\",\"#FECB52\"],\"font\":{\"color\":\"#2a3f5f\"},\"hovermode\":\"closest\",\"hoverlabel\":{\"align\":\"left\"},\"paper_bgcolor\":\"white\",\"plot_bgcolor\":\"#E5ECF6\",\"polar\":{\"bgcolor\":\"#E5ECF6\",\"angularaxis\":{\"gridcolor\":\"white\",\"linecolor\":\"white\",\"ticks\":\"\"},\"radialaxis\":{\"gridcolor\":\"white\",\"linecolor\":\"white\",\"ticks\":\"\"}},\"ternary\":{\"bgcolor\":\"#E5ECF6\",\"aaxis\":{\"gridcolor\":\"white\",\"linecolor\":\"white\",\"ticks\":\"\"},\"baxis\":{\"gridcolor\":\"white\",\"linecolor\":\"white\",\"ticks\":\"\"},\"caxis\":{\"gridcolor\":\"white\",\"linecolor\":\"white\",\"ticks\":\"\"}},\"coloraxis\":{\"colorbar\":{\"outlinewidth\":0,\"ticks\":\"\"}},\"colorscale\":{\"sequential\":[[0.0,\"#0d0887\"],[0.1111111111111111,\"#46039f\"],[0.2222222222222222,\"#7201a8\"],[0.3333333333333333,\"#9c179e\"],[0.4444444444444444,\"#bd3786\"],[0.5555555555555556,\"#d8576b\"],[0.6666666666666666,\"#ed7953\"],[0.7777777777777778,\"#fb9f3a\"],[0.8888888888888888,\"#fdca26\"],[1.0,\"#f0f921\"]],\"sequentialminus\":[[0.0,\"#0d0887\"],[0.1111111111111111,\"#46039f\"],[0.2222222222222222,\"#7201a8\"],[0.3333333333333333,\"#9c179e\"],[0.4444444444444444,\"#bd3786\"],[0.5555555555555556,\"#d8576b\"],[0.6666666666666666,\"#ed7953\"],[0.7777777777777778,\"#fb9f3a\"],[0.8888888888888888,\"#fdca26\"],[1.0,\"#f0f921\"]],\"diverging\":[[0,\"#8e0152\"],[0.1,\"#c51b7d\"],[0.2,\"#de77ae\"],[0.3,\"#f1b6da\"],[0.4,\"#fde0ef\"],[0.5,\"#f7f7f7\"],[0.6,\"#e6f5d0\"],[0.7,\"#b8e186\"],[0.8,\"#7fbc41\"],[0.9,\"#4d9221\"],[1,\"#276419\"]]},\"xaxis\":{\"gridcolor\":\"white\",\"linecolor\":\"white\",\"ticks\":\"\",\"title\":{\"standoff\":15},\"zerolinecolor\":\"white\",\"automargin\":true,\"zerolinewidth\":2},\"yaxis\":{\"gridcolor\":\"white\",\"linecolor\":\"white\",\"ticks\":\"\",\"title\":{\"standoff\":15},\"zerolinecolor\":\"white\",\"automargin\":true,\"zerolinewidth\":2},\"scene\":{\"xaxis\":{\"backgroundcolor\":\"#E5ECF6\",\"gridcolor\":\"white\",\"linecolor\":\"white\",\"showbackground\":true,\"ticks\":\"\",\"zerolinecolor\":\"white\",\"gridwidth\":2},\"yaxis\":{\"backgroundcolor\":\"#E5ECF6\",\"gridcolor\":\"white\",\"linecolor\":\"white\",\"showbackground\":true,\"ticks\":\"\",\"zerolinecolor\":\"white\",\"gridwidth\":2},\"zaxis\":{\"backgroundcolor\":\"#E5ECF6\",\"gridcolor\":\"white\",\"linecolor\":\"white\",\"showbackground\":true,\"ticks\":\"\",\"zerolinecolor\":\"white\",\"gridwidth\":2}},\"shapedefaults\":{\"line\":{\"color\":\"#2a3f5f\"}},\"annotationdefaults\":{\"arrowcolor\":\"#2a3f5f\",\"arrowhead\":0,\"arrowwidth\":1},\"geo\":{\"bgcolor\":\"white\",\"landcolor\":\"#E5ECF6\",\"subunitcolor\":\"white\",\"showland\":true,\"showlakes\":true,\"lakecolor\":\"white\"},\"title\":{\"x\":0.05},\"mapbox\":{\"style\":\"light\"}}},\"xaxis\":{\"anchor\":\"y\",\"domain\":[0.0,0.94]},\"yaxis\":{\"anchor\":\"x\",\"domain\":[0.0,1.0]},\"yaxis2\":{\"anchor\":\"x\",\"overlaying\":\"y\",\"side\":\"right\"},\"title\":{\"text\":\"Walker2d-v2 (0.008, 0.016)\"}},                        {\"responsive\": true}                    ).then(function(){\n",
       "                            \n",
       "var gd = document.getElementById('ed5980a2-3f9d-4204-b3f2-ec7ba8f60914');\n",
       "var x = new MutationObserver(function (mutations, observer) {{\n",
       "        var display = window.getComputedStyle(gd).display;\n",
       "        if (!display || display === 'none') {{\n",
       "            console.log([gd, 'removed!']);\n",
       "            Plotly.purge(gd);\n",
       "            observer.disconnect();\n",
       "        }}\n",
       "}});\n",
       "\n",
       "// Listen for the removal of the full notebook cells\n",
       "var notebookContainer = gd.closest('#notebook-container');\n",
       "if (notebookContainer) {{\n",
       "    x.observe(notebookContainer, {childList: true});\n",
       "}}\n",
       "\n",
       "// Listen for the clearing of the current output cell\n",
       "var outputEl = gd.closest('.output');\n",
       "if (outputEl) {{\n",
       "    x.observe(outputEl, {childList: true});\n",
       "}}\n",
       "\n",
       "                        })                };                });            </script>        </div>"
      ]
     },
     "metadata": {},
     "output_type": "display_data"
    }
   ],
   "source": [
    "dataf = dataframe #.loc[dataframe['seed']!= 4]\n",
    "df = dataf.groupby(['threshold']).mean()\n",
    "df_std =  dataf.groupby(['threshold']).std()\n",
    "fig = make_subplots(specs=[[{\"secondary_y\": True}]])\n",
    "\n",
    "\n",
    "x = list(range(21))\n",
    "\n",
    "y1_upper = list(df['result'] + df_std['result'])\n",
    "y1_lower = list(df['result'] - df_std['result'])\n",
    "y1_lower = y1_lower[::-1]\n",
    "x_rev = x[::-1]\n",
    "fig.add_trace(go.Scatter(x=x, y=df['result'], mode='lines+markers', name='Reward', error_y=dict(\n",
    "            type='data', # value of error bar given in data coordinates\n",
    "            array=df_std['result'],\n",
    "            visible=True)), secondary_y=False)\n",
    "\n",
    "fig.add_trace(go.Scatter(x=list(range(21)), y=df['actions'], mode='lines', name='number of actions picked'), secondary_y=True)\n",
    "fig.update_layout(\n",
    "    title_text=\"Walker2d-v2 (0.008, 0.016)\")\n"
   ]
  },
  {
   "cell_type": "code",
   "execution_count": 40,
   "id": "dc774ead-6cb2-4d5f-8f3b-5b5d9b201c3f",
   "metadata": {},
   "outputs": [
    {
     "data": {
      "text/html": [
       "<div>\n",
       "<style scoped>\n",
       "    .dataframe tbody tr th:only-of-type {\n",
       "        vertical-align: middle;\n",
       "    }\n",
       "\n",
       "    .dataframe tbody tr th {\n",
       "        vertical-align: top;\n",
       "    }\n",
       "\n",
       "    .dataframe thead th {\n",
       "        text-align: right;\n",
       "    }\n",
       "</style>\n",
       "<table border=\"1\" class=\"dataframe\">\n",
       "  <thead>\n",
       "    <tr style=\"text-align: right;\">\n",
       "      <th></th>\n",
       "      <th>env</th>\n",
       "      <th>result</th>\n",
       "      <th>seed</th>\n",
       "      <th>actions</th>\n",
       "      <th>threshold</th>\n",
       "      <th>return_per_action</th>\n",
       "    </tr>\n",
       "  </thead>\n",
       "  <tbody>\n",
       "    <tr>\n",
       "      <th>0</th>\n",
       "      <td>InvertedDoublePendulum-v2</td>\n",
       "      <td>9359.697276</td>\n",
       "      <td>0</td>\n",
       "      <td>505.2</td>\n",
       "      <td>0.3</td>\n",
       "      <td>18.526717</td>\n",
       "    </tr>\n",
       "    <tr>\n",
       "      <th>1</th>\n",
       "      <td>InvertedDoublePendulum-v2</td>\n",
       "      <td>9359.237373</td>\n",
       "      <td>1</td>\n",
       "      <td>503.3</td>\n",
       "      <td>0.3</td>\n",
       "      <td>18.595743</td>\n",
       "    </tr>\n",
       "    <tr>\n",
       "      <th>2</th>\n",
       "      <td>InvertedDoublePendulum-v2</td>\n",
       "      <td>8455.006156</td>\n",
       "      <td>2</td>\n",
       "      <td>454.3</td>\n",
       "      <td>0.3</td>\n",
       "      <td>18.611064</td>\n",
       "    </tr>\n",
       "    <tr>\n",
       "      <th>3</th>\n",
       "      <td>InvertedDoublePendulum-v2</td>\n",
       "      <td>9358.264203</td>\n",
       "      <td>3</td>\n",
       "      <td>504.1</td>\n",
       "      <td>0.3</td>\n",
       "      <td>18.564301</td>\n",
       "    </tr>\n",
       "    <tr>\n",
       "      <th>4</th>\n",
       "      <td>InvertedDoublePendulum-v2</td>\n",
       "      <td>9359.772508</td>\n",
       "      <td>4</td>\n",
       "      <td>503.2</td>\n",
       "      <td>0.3</td>\n",
       "      <td>18.600502</td>\n",
       "    </tr>\n",
       "  </tbody>\n",
       "</table>\n",
       "</div>"
      ],
      "text/plain": [
       "                         env       result seed  actions  threshold  \\\n",
       "0  InvertedDoublePendulum-v2  9359.697276    0    505.2        0.3   \n",
       "1  InvertedDoublePendulum-v2  9359.237373    1    503.3        0.3   \n",
       "2  InvertedDoublePendulum-v2  8455.006156    2    454.3        0.3   \n",
       "3  InvertedDoublePendulum-v2  9358.264203    3    504.1        0.3   \n",
       "4  InvertedDoublePendulum-v2  9359.772508    4    503.2        0.3   \n",
       "\n",
       "   return_per_action  \n",
       "0          18.526717  \n",
       "1          18.595743  \n",
       "2          18.611064  \n",
       "3          18.564301  \n",
       "4          18.600502  "
      ]
     },
     "execution_count": 40,
     "metadata": {},
     "output_type": "execute_result"
    }
   ],
   "source": [
    "dataframe"
   ]
  },
  {
   "cell_type": "code",
   "execution_count": 29,
   "id": "5d46b16c-b9bf-4aa7-a495-10c3a29f7bc7",
   "metadata": {},
   "outputs": [],
   "source": [
    "def get_results(dataframe, default_timestep,  parent_response_rate, env_name):\n",
    "    for seed in tqdm(range(5)):\n",
    "        torch.manual_seed(seed)\n",
    "        np.random.seed(seed)\n",
    "\n",
    "        timestep = default_timestep\n",
    "        frame_skip = parent_response_rate / timestep\n",
    "        time_change_factor = (default_timestep * default_frame_skip) / (timestep * frame_skip)\n",
    "        env = make_env(env_name, seed, time_change_factor, timestep, frame_skip, delayed_env)\n",
    "        state_dim = sum(s.shape[0] for s in env.observation_space)\n",
    "        action_dim = env.action_space.shape[0]\n",
    "        parent_max_action = float(env.action_space.high[0])\n",
    "        child_max_action = 2 * parent_max_action\n",
    "        kwargs = {\n",
    "            \"state_dim\": state_dim,\n",
    "            \"action_dim\": action_dim,\n",
    "            \"max_action\": parent_max_action,\n",
    "            \"discount\": discount,\n",
    "            \"tau\": tau,\n",
    "            \"observation_space\": env.observation_space,\n",
    "            \"delayed_env\": delayed_env,\n",
    "            \"reflex\": False,\n",
    "        }\n",
    "        # Initialize policy\n",
    "            # Target policy smoothing is scaled wrt the action scale\n",
    "        kwargs[\"policy_noise\"] = policy_noise * parent_max_action\n",
    "        kwargs[\"noise_clip\"] = noise_clip * parent_max_action\n",
    "        kwargs[\"policy_freq\"] = policy_freq\n",
    "        parent_policy = TD3.TD3(**kwargs)\n",
    "        arguments = [policy_name, env_name, seed, parent_response_rate, delayed_env, 'best']\n",
    "        \n",
    "        parent_file_name = '_'.join([str(x) for x in arguments])\n",
    "        \n",
    "        parent_policy.load(f\"../hybrid/models_paper/{parent_file_name}\")\n",
    "\n",
    "        eval_env = make_env(env_name, seed, time_change_factor, timestep, frame_skip, delayed_env)\n",
    "        rewards = 0\n",
    "        actions = 0\n",
    "        for _ in range(10):\n",
    "            eval_state, eval_done = eval_env.reset(), False\n",
    "            eval_parent_action = eval_env.previous_action\n",
    "            eval_episode_timesteps = 0\n",
    "            while not eval_done:\n",
    "                action = parent_policy.select_action(eval_state)\n",
    "                actions += 1\n",
    "                eval_next_state, eval_reward, eval_done, _ = eval_env.step(action)\n",
    "                eval_state = eval_next_state\n",
    "                eval_episode_timesteps += 1\n",
    "                rewards += eval_reward\n",
    "        avg_reward = rewards / 10\n",
    "        avg_actions = actions/10\n",
    "        dataframe.loc[len(dataframe)] = [env_name, avg_reward, seed, avg_actions]"
   ]
  },
  {
   "cell_type": "code",
   "execution_count": 30,
   "id": "d5fd7dc5-9679-4f86-9880-23424ff1ba1d",
   "metadata": {},
   "outputs": [
    {
     "name": "stderr",
     "output_type": "stream",
     "text": [
      "100%|████████████████████████████████████████████████████████████████████████████████████████████████████████████████████████████████████████████████████████████████████████████████| 5/5 [00:16<00:00,  3.25s/it]\n"
     ]
    }
   ],
   "source": [
    "\n",
    "default_timesteps = {'InvertedPendulum-v2':0.02, 'Hopper-v2': 0.002, 'Walker2d-v2': 0.002, 'InvertedDoublePendulum-v2': 0.01, 'Ant-v2': 0.01, 'HalfCheetah-v2': 0.01, 'Reacher-v2': 0.01}\n",
    "default_frame_skips = {'InvertedPendulum-v2':2, 'Hopper-v2': 4, 'Walker2d-v2': 4, 'InvertedDoublePendulum-v2': 5, 'Ant-v2':5, 'HalfCheetah-v2':5, 'Reacher-v2': 2}\n",
    "dataframe = pd.DataFrame(columns=[\"env\", \"result\", \"seed\", \"actions\"])\n",
    "\n",
    "delayed_env = True\n",
    "policy_name = 'TD3'\n",
    "discount = 0.99\n",
    "tau=0.005\n",
    "policy_freq=2\n",
    "policy_noise=2\n",
    "noise_clip=0.5\n",
    "with_parent_action = False\n",
    "\n",
    "# # inverted pendulum\n",
    "# env_name = 'InvertedPendulum-v2'\n",
    "# parent_response_rate = 0.04\n",
    "# default_timestep = default_timesteps[env_name]\n",
    "# default_frame_skip = default_frame_skips[env_name]\n",
    "# get_results(dataframe, default_timestep, parent_response_rate, env_name)\n",
    "\n",
    "# # # inverted double pendulum\n",
    "# env_name = 'InvertedDoublePendulum-v2'\n",
    "# parent_response_rate = 0.05\n",
    "# default_timestep = default_timesteps[env_name]\n",
    "# default_frame_skip = default_frame_skips[env_name]\n",
    "# get_results(dataframe, default_timestep, parent_response_rate, env_name)\n",
    "\n",
    "\n",
    "\n",
    "# # Hopper\n",
    "# env_name = 'Hopper-v2'\n",
    "# parent_response_rate = 0.008\n",
    "# default_timestep = default_timesteps[env_name]\n",
    "# default_frame_skip = default_frame_skips[env_name]\n",
    "# get_results(dataframe, default_timestep, parent_response_rate, env_name)\n",
    "\n",
    "# # Walker2d\n",
    "# env_name = 'Walker2d-v2'\n",
    "# parent_response_rate = 0.008\n",
    "# default_timestep = default_timesteps[env_name]\n",
    "# default_frame_skip = default_frame_skips[env_name]\n",
    "# get_results(dataframe, default_timestep, parent_response_rate, env_name)\n",
    "\n",
    "# Ant\n",
    "# env_name = 'Ant-v2'\n",
    "# parent_response_rate = 0.1\n",
    "# default_timestep = default_timesteps[env_name]\n",
    "# default_frame_skip = default_frame_skips[env_name]\n",
    "# get_results(dataframe, default_timestep, parent_response_rate, env_name)\n",
    "\n",
    "# HalfCheetah\n",
    "env_name = 'HalfCheetah-v2'\n",
    "parent_response_rate = 0.05\n",
    "default_timestep = default_timesteps[env_name]\n",
    "default_frame_skip = default_frame_skips[env_name]\n",
    "get_results(dataframe, default_timestep, parent_response_rate, env_name)\n",
    "\n",
    "# # Reacher\n",
    "# env_name = 'Reacher-v2'\n",
    "# parent_response_rate = 0.02\n",
    "# default_timestep = default_timesteps[env_name]\n",
    "# default_frame_skip = default_frame_skips[env_name]\n",
    "# get_results(dataframe, default_timestep, parent_response_rate, env_name)"
   ]
  },
  {
   "cell_type": "code",
   "execution_count": 31,
   "id": "3ec86c1d-7b47-424f-ab69-16e87bc7e32a",
   "metadata": {},
   "outputs": [
    {
     "data": {
      "text/html": [
       "<div>\n",
       "<style scoped>\n",
       "    .dataframe tbody tr th:only-of-type {\n",
       "        vertical-align: middle;\n",
       "    }\n",
       "\n",
       "    .dataframe tbody tr th {\n",
       "        vertical-align: top;\n",
       "    }\n",
       "\n",
       "    .dataframe thead th {\n",
       "        text-align: right;\n",
       "    }\n",
       "</style>\n",
       "<table border=\"1\" class=\"dataframe\">\n",
       "  <thead>\n",
       "    <tr style=\"text-align: right;\">\n",
       "      <th></th>\n",
       "      <th>result</th>\n",
       "      <th>actions</th>\n",
       "      <th>return_per_action</th>\n",
       "      <th>std</th>\n",
       "    </tr>\n",
       "    <tr>\n",
       "      <th>env</th>\n",
       "      <th></th>\n",
       "      <th></th>\n",
       "      <th></th>\n",
       "      <th></th>\n",
       "    </tr>\n",
       "  </thead>\n",
       "  <tbody>\n",
       "    <tr>\n",
       "      <th>HalfCheetah-v2</th>\n",
       "      <td>4469.353222</td>\n",
       "      <td>1000.0</td>\n",
       "      <td>4.469353</td>\n",
       "      <td>2632.708393</td>\n",
       "    </tr>\n",
       "  </tbody>\n",
       "</table>\n",
       "</div>"
      ],
      "text/plain": [
       "                     result  actions  return_per_action          std\n",
       "env                                                                 \n",
       "HalfCheetah-v2  4469.353222   1000.0           4.469353  2632.708393"
      ]
     },
     "execution_count": 31,
     "metadata": {},
     "output_type": "execute_result"
    }
   ],
   "source": [
    "dataframe['return_per_action'] = (dataframe['result'] / dataframe['actions'])\n",
    "\n",
    "df = dataframe.groupby(['env']).mean()\n",
    "df_std = dataframe.groupby(['env']).std()\n",
    "df['std'] = df_std['result']\n",
    "df"
   ]
  },
  {
   "cell_type": "code",
   "execution_count": 94,
   "id": "7a9b5776",
   "metadata": {},
   "outputs": [],
   "source": [
    "policy_name = 'TD3'\n",
    "delayed_env = True\n",
    "response_rate = 0.04\n",
    "parent_response_rate = 0.08\n",
    "env_name = 'InvertedPendulum-v2'\n",
    "lcs1 = np.zeros([5, 200])\n",
    "lcs2 = np.zeros([5, 200])\n",
    "for seed in range(5):\n",
    "    td3_arguments = [policy_name, env_name, seed, response_rate, delayed_env]\n",
    "    file_name = '_'.join([str(x) for x in td3_arguments])\n",
    "    lcs1[seed] = np.load(f\"../results_paper/{file_name}.npy\")\n",
    "    \n",
    "    arguments = [\"reflex_train_normal_penalty_with_parent_action\", policy_name, env_name, seed, response_rate, parent_response_rate]\n",
    "    \n",
    "    file_name = '_'.join([str(x) for x in arguments])\n",
    "    lcs2[seed] = np.load(f\"../hybrid/results_paper/{file_name}.npy\")\n",
    "    "
   ]
  },
  {
   "cell_type": "code",
   "execution_count": 99,
   "id": "ad54a7d7",
   "metadata": {},
   "outputs": [
    {
     "name": "stdout",
     "output_type": "stream",
     "text": [
      "488.71999999999997\n",
      "504.0\n",
      "1000.0\n",
      "454.0\n",
      "735.5\n",
      "674.6\n",
      "821.64\n",
      "1000.0\n",
      "1000.0\n",
      "1000.0\n",
      "1000.0\n",
      "1000.0\n",
      "1000.0\n",
      "1000.0\n",
      "1000.0\n",
      "1000.0\n",
      "1000.0\n",
      "1000.0\n",
      "1000.0\n",
      "1000.0\n",
      "1000.0\n",
      "1000.0\n",
      "1000.0\n",
      "1000.0\n",
      "1000.0\n",
      "1000.0\n",
      "1000.0\n",
      "1000.0\n",
      "1000.0\n",
      "1000.0\n",
      "1000.0\n",
      "1000.0\n",
      "1000.0\n",
      "1000.0\n",
      "1000.0\n",
      "1000.0\n",
      "1000.0\n",
      "1000.0\n",
      "1000.0\n",
      "1000.0\n",
      "1000.0\n",
      "1000.0\n",
      "1000.0\n",
      "1000.0\n",
      "1000.0\n",
      "1000.0\n",
      "1000.0\n",
      "1000.0\n",
      "1000.0\n",
      "1000.0\n",
      "1000.0\n",
      "1000.0\n",
      "1000.0\n",
      "1000.0\n",
      "1000.0\n",
      "1000.0\n",
      "1000.0\n",
      "1000.0\n",
      "1000.0\n",
      "1000.0\n",
      "1000.0\n",
      "1000.0\n",
      "1000.0\n",
      "1000.0\n",
      "1000.0\n",
      "1000.0\n",
      "1000.0\n",
      "1000.0\n",
      "1000.0\n",
      "1000.0\n",
      "1000.0\n",
      "1000.0\n",
      "1000.0\n",
      "1000.0\n",
      "1000.0\n",
      "1000.0\n",
      "1000.0\n",
      "1000.0\n",
      "1000.0\n",
      "1000.0\n",
      "1000.0\n",
      "1000.0\n",
      "1000.0\n",
      "1000.0\n",
      "1000.0\n",
      "911.6200000000001\n",
      "830.0\n",
      "1000.0\n",
      "1000.0\n",
      "1000.0\n",
      "1000.0\n",
      "855.72\n",
      "1000.0\n",
      "1000.0\n",
      "1000.0\n",
      "1000.0\n",
      "1000.0\n",
      "1000.0\n",
      "1000.0\n",
      "1000.0\n",
      "1000.0\n",
      "1000.0\n",
      "1000.0\n",
      "1000.0\n",
      "1000.0\n",
      "1000.0\n",
      "1000.0\n",
      "1000.0\n",
      "1000.0\n",
      "1000.0\n",
      "1000.0\n",
      "1000.0\n",
      "1000.0\n",
      "1000.0\n",
      "1000.0\n",
      "1000.0\n",
      "1000.0\n",
      "1000.0\n",
      "1000.0\n",
      "1000.0\n",
      "1000.0\n",
      "1000.0\n",
      "1000.0\n",
      "1000.0\n",
      "1000.0\n",
      "1000.0\n",
      "1000.0\n",
      "1000.0\n",
      "1000.0\n",
      "1000.0\n",
      "1000.0\n",
      "1000.0\n",
      "1000.0\n",
      "1000.0\n",
      "1000.0\n",
      "1000.0\n",
      "1000.0\n",
      "1000.0\n",
      "1000.0\n",
      "1000.0\n",
      "1000.0\n",
      "1000.0\n",
      "1000.0\n",
      "1000.0\n",
      "1000.0\n",
      "1000.0\n",
      "1000.0\n",
      "940.8799999999999\n",
      "1000.0\n",
      "1000.0\n",
      "1000.0\n",
      "1000.0\n",
      "1000.0\n",
      "1000.0\n",
      "1000.0\n",
      "1000.0\n",
      "1000.0\n",
      "1000.0\n",
      "1000.0\n",
      "1000.0\n",
      "1000.0\n",
      "1000.0\n",
      "1000.0\n",
      "1000.0\n",
      "1000.0\n",
      "1000.0\n",
      "1000.0\n",
      "1000.0\n",
      "1000.0\n",
      "1000.0\n",
      "1000.0\n",
      "1000.0\n",
      "1000.0\n",
      "1000.0\n",
      "1000.0\n",
      "1000.0\n",
      "1000.0\n",
      "1000.0\n",
      "1000.0\n",
      "1000.0\n",
      "1000.0\n",
      "1000.0\n",
      "1000.0\n",
      "1000.0\n",
      "1000.0\n",
      "1000.0\n",
      "1000.0\n",
      "1000.0\n",
      "1000.0\n",
      "1000.0\n",
      "1000.0\n",
      "1000.0\n",
      "1000.0\n",
      "1000.0\n",
      "1000.0\n",
      "1000.0\n",
      "1000.0\n",
      "1000.0\n",
      "1000.0\n",
      "1000.0\n"
     ]
    }
   ],
   "source": [
    "\n",
    "lcs1_mean = np.mean(lcs2, 0)\n",
    "\n",
    "for i in lcs1_mean:\n",
    "    print(i)"
   ]
  },
  {
   "cell_type": "code",
   "execution_count": null,
   "id": "8e7960bd",
   "metadata": {},
   "outputs": [],
   "source": []
  },
  {
   "cell_type": "code",
   "execution_count": null,
   "id": "3f7169c3",
   "metadata": {},
   "outputs": [],
   "source": []
  }
 ],
 "metadata": {
  "kernelspec": {
   "display_name": "Python 3 (ipykernel)",
   "language": "python",
   "name": "python3"
  },
  "language_info": {
   "codemirror_mode": {
    "name": "ipython",
    "version": 3
   },
   "file_extension": ".py",
   "mimetype": "text/x-python",
   "name": "python",
   "nbconvert_exporter": "python",
   "pygments_lexer": "ipython3",
   "version": "3.7.8rc1"
  }
 },
 "nbformat": 4,
 "nbformat_minor": 5
}
